{
 "cells": [
  {
   "cell_type": "code",
   "execution_count": 1,
   "id": "c369295a",
   "metadata": {},
   "outputs": [
    {
     "name": "stdout",
     "output_type": "stream",
     "text": [
      "Initial eta^0 = [0.33333333 0.33333333 0.33333333]\n",
      "Generated tokens: [0, 0, 1, 0, 0, 1, 0, 0, 0, 0, 0, 1, 0, 0, 0, 0, 1, 0, 0, 1, 0, 0, 1, 0, 0, 0, 0, 0, 0, 1]\n",
      "States (eta^t) traversed:\n",
      "t=0 -> [0.3333 0.3333 0.3333]\n",
      "t=1 -> [0.  0.4 0.6]\n",
      "t=2 -> [0. 0. 1.]\n",
      "t=3 -> [1. 0. 0.]\n",
      "t=4 -> [0. 1. 0.]\n",
      "t=5 -> [0. 0. 1.]\n",
      "t=6 -> [1. 0. 0.]\n",
      "t=7 -> [0. 1. 0.]\n",
      "t=8 -> [0. 0. 1.]\n",
      "t=9 -> [0. 0. 1.]\n",
      "t=10 -> [0. 0. 1.]\n",
      "t=11 -> [0. 0. 1.]\n",
      "t=12 -> [1. 0. 0.]\n",
      "t=13 -> [0. 1. 0.]\n",
      "t=14 -> [0. 0. 1.]\n",
      "t=15 -> [0. 0. 1.]\n",
      "t=16 -> [0. 0. 1.]\n",
      "t=17 -> [1. 0. 0.]\n",
      "t=18 -> [0. 1. 0.]\n",
      "t=19 -> [0. 0. 1.]\n",
      "t=20 -> [1. 0. 0.]\n",
      "t=21 -> [0. 1. 0.]\n",
      "t=22 -> [0. 0. 1.]\n",
      "t=23 -> [1. 0. 0.]\n",
      "t=24 -> [0. 1. 0.]\n",
      "t=25 -> [0. 0. 1.]\n",
      "t=26 -> [0. 0. 1.]\n",
      "t=27 -> [0. 0. 1.]\n",
      "t=28 -> [0. 0. 1.]\n",
      "t=29 -> [0. 0. 1.]\n",
      "t=30 -> [1. 0. 0.]\n"
     ]
    }
   ],
   "source": [
    "from typing import List, Optional, Tuple\n",
    "import numpy as np\n",
    "from mealymarkov import MarkovMealyModel\n",
    "\n",
    "# Example small model (n=4 states, V=2 tokens) that satisfies the constraints.\n",
    "n = 3\n",
    "V = 2\n",
    "\n",
    "# We construct T^0 and T^1 so that T^0 + T^1 is row-stochastic (rows sum to 1).\n",
    "T0 = np.array([\n",
    "    [0, 1, 0],\n",
    "    [0, 0, 1],\n",
    "    [0, 0, 0.5]\n",
    "])\n",
    "\n",
    "T1 = np.array([\n",
    "    [0, 0, 0],\n",
    "    [0, 0, 0],\n",
    "    [0.5, 0, 0]\n",
    "])\n",
    "\n",
    "model = MarkovMealyModel(n=n, V=V, T_list=[T0, T1])\n",
    "\n",
    "# By specification the default eta^0 is uniform\n",
    "print(\"Initial eta^0 =\", model.eta0)\n",
    "\n",
    "# Generate 12 tokens\n",
    "tokens, states = model.sample_sequence(max_new_tokens=30, seed=42)\n",
    "\n",
    "print(\"Generated tokens:\", tokens)\n",
    "print(\"States (eta^t) traversed:\")\n",
    "for i, s in enumerate(states):\n",
    "    print(f\"t={i} ->\", np.round(s, 4))"
   ]
  },
  {
   "cell_type": "code",
   "execution_count": null,
   "id": "aa614862",
   "metadata": {},
   "outputs": [],
   "source": []
  }
 ],
 "metadata": {
  "kernelspec": {
   "display_name": ".venv",
   "language": "python",
   "name": "python3"
  },
  "language_info": {
   "codemirror_mode": {
    "name": "ipython",
    "version": 3
   },
   "file_extension": ".py",
   "mimetype": "text/x-python",
   "name": "python",
   "nbconvert_exporter": "python",
   "pygments_lexer": "ipython3",
   "version": "3.12.7"
  }
 },
 "nbformat": 4,
 "nbformat_minor": 5
}

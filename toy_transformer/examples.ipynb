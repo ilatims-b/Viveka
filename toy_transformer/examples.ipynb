{
 "cells": [
  {
   "cell_type": "code",
   "execution_count": 1,
   "id": "c369295a",
   "metadata": {},
   "outputs": [
    {
     "name": "stdout",
     "output_type": "stream",
     "text": [
      "Initial eta^0 = [0.33333333 0.33333333 0.33333333]\n",
      "Generated tokens: [0, 0, 1]\n",
      "States (eta^t) traversed:\n",
      "t=0 -> [0.3333 0.3333 0.3333]\n",
      "t=1 -> [0.  0.4 0.6]\n",
      "t=2 -> [0. 0. 1.]\n",
      "t=3 -> [1. 0. 0.]\n"
     ]
    }
   ],
   "source": [
    "from typing import List, Optional, Tuple\n",
    "import numpy as np\n",
    "from mealymarkov import MarkovMealyModel\n",
    "import os\n",
    "from dotenv import load_dotenv\n",
    "load_dotenv()\n",
    "\n",
    "ozz_FILE_PATH = os.getenv('100_SAVE_PATH')\n",
    "zir_FILE_PATH = os.getenv('ZIR_SAVE_PATH')\n",
    "\n",
    "# Example small model (n=4 states, V=2 tokens) that satisfies the constraints.\n",
    "n = 3\n",
    "V = 2\n",
    "\n",
    "# We construct T^0 and T^1 so that T^0 + T^1 is row-stochastic (rows sum to 1).\n",
    "T0 = np.array([\n",
    "    [0, 1, 0],\n",
    "    [0, 0, 1],\n",
    "    [0, 0, 0.5]\n",
    "])\n",
    "\n",
    "T1 = np.array([\n",
    "    [0, 0, 0],\n",
    "    [0, 0, 0],\n",
    "    [0.5, 0, 0]\n",
    "])\n",
    "\n",
    "model = MarkovMealyModel(n=n, V=V, T_list=[T0, T1])\n",
    "\n",
    "# By specification the default eta^0 is uniform\n",
    "print(\"Initial eta^0 =\", model.eta0)\n",
    "\n",
    "tokens, states = model.sample_sequence(max_new_tokens=3, seed=42)\n",
    "\n",
    "print(\"Generated tokens:\", tokens)\n",
    "print(\"States (eta^t) traversed:\")\n",
    "for i, s in enumerate(states):\n",
    "    print(f\"t={i} ->\", np.round(s, 4))"
   ]
  },
  {
   "cell_type": "markdown",
   "id": "0930ce4c",
   "metadata": {},
   "source": [
    "Generating training sequences"
   ]
  },
  {
   "cell_type": "code",
   "execution_count": 7,
   "id": "aa614862",
   "metadata": {},
   "outputs": [],
   "source": [
    "import numpy as np\n",
    "import json\n",
    "#generating the process as discussed in the previous meet\n",
    "#for the process that generates 100*\n",
    "n = 3\n",
    "V = 2\n",
    "num_training_samples = 100\n",
    "sequences = {}\n",
    "# We construct T^0 and T^1 so that T^0 + T^1 is row-stochastic (rows sum to 1).\n",
    "T0 = np.array([\n",
    "    [0, 1, 0],\n",
    "    [0, 0, 1],\n",
    "    [0, 0, 0.5]\n",
    "])\n",
    "\n",
    "T1 = np.array([\n",
    "    [0, 0, 0],\n",
    "    [0, 0, 0],\n",
    "    [0.5, 0, 0]\n",
    "])\n",
    "\n",
    "model = MarkovMealyModel(n=n, V=V, T_list=[T0, T1])\n",
    "for i in range(num_training_samples):\n",
    "    tokens, _ = model.sample_sequence(max_new_tokens=50)\n",
    "    sequences[i] = tokens\n",
    "with open(ozz_FILE_PATH, 'w') as fp:\n",
    "    json.dump(sequences, fp, indent=4)"
   ]
  },
  {
   "cell_type": "code",
   "execution_count": 19,
   "id": "ef6ff94a",
   "metadata": {},
   "outputs": [],
   "source": [
    "\n",
    "#generating the process as discussed in the previous meet\n",
    "#for the process that generates ZIR\n",
    "n = 3\n",
    "V = 2\n",
    "num_training_samples = 100\n",
    "sequences = {}\n",
    "# We construct T^0 and T^1 so that T^0 + T^1 is row-stochastic (rows sum to 1).\n",
    "T0 = np.array([\n",
    "    [0, 1, 0],\n",
    "    [0, 0, 0],\n",
    "    [0.5, 0, 0]\n",
    "])\n",
    "\n",
    "T1 = np.array([\n",
    "    [0, 0, 0],\n",
    "    [0, 0, 1],\n",
    "    [0.5, 0, 0]\n",
    "])\n",
    "\n",
    "model = MarkovMealyModel(n=n, V=V, T_list=[T0, T1])\n",
    "for i in range(num_training_samples):\n",
    "    tokens, _ = model.sample_sequence(max_new_tokens=50)\n",
    "    sequences[i] = tokens\n",
    "with open(zir_FILE_PATH, 'w') as fp:\n",
    "    json.dump(sequences, fp, indent=4)"
   ]
  },
  {
   "cell_type": "code",
   "execution_count": 27,
   "id": "199d08a2",
   "metadata": {},
   "outputs": [
    {
     "name": "stdout",
     "output_type": "stream",
     "text": [
      "Moving model to device:  cpu\n"
     ]
    },
    {
     "data": {
      "application/vnd.jupyter.widget-view+json": {
       "model_id": "37c796e862474b4881e5242d69eb0929",
       "version_major": 2,
       "version_minor": 0
      },
      "text/plain": [
       "  0%|          | 0/10 [00:00<?, ?it/s]"
      ]
     },
     "metadata": {},
     "output_type": "display_data"
    },
    {
     "data": {
      "application/vnd.jupyter.widget-view+json": {
       "model_id": "8b2fa6e464a24b22b9fb1417db2b7ca5",
       "version_major": 2,
       "version_minor": 0
      },
      "text/plain": [
       "0it [00:00, ?it/s]"
      ]
     },
     "metadata": {},
     "output_type": "display_data"
    },
    {
     "name": "stdout",
     "output_type": "stream",
     "text": [
      "Epoch 1 Samples 100 Step 0 Loss 0.7909963130950928\n"
     ]
    },
    {
     "data": {
      "application/vnd.jupyter.widget-view+json": {
       "model_id": "8e886e3f6ffb48dc9be7fab8df660d30",
       "version_major": 2,
       "version_minor": 0
      },
      "text/plain": [
       "0it [00:00, ?it/s]"
      ]
     },
     "metadata": {},
     "output_type": "display_data"
    },
    {
     "name": "stdout",
     "output_type": "stream",
     "text": [
      "Epoch 2 Samples 100 Step 0 Loss 0.6801583170890808\n"
     ]
    },
    {
     "data": {
      "application/vnd.jupyter.widget-view+json": {
       "model_id": "a2813ea655064d9aa5c5f83186cffb34",
       "version_major": 2,
       "version_minor": 0
      },
      "text/plain": [
       "0it [00:00, ?it/s]"
      ]
     },
     "metadata": {},
     "output_type": "display_data"
    },
    {
     "name": "stdout",
     "output_type": "stream",
     "text": [
      "Epoch 3 Samples 100 Step 0 Loss 0.6521185636520386\n"
     ]
    },
    {
     "data": {
      "application/vnd.jupyter.widget-view+json": {
       "model_id": "519dba6c083d41318f4367187aaa14a7",
       "version_major": 2,
       "version_minor": 0
      },
      "text/plain": [
       "0it [00:00, ?it/s]"
      ]
     },
     "metadata": {},
     "output_type": "display_data"
    },
    {
     "name": "stdout",
     "output_type": "stream",
     "text": [
      "Epoch 4 Samples 100 Step 0 Loss 0.6397430300712585\n"
     ]
    },
    {
     "data": {
      "application/vnd.jupyter.widget-view+json": {
       "model_id": "0cd00e28564843a3a619606d6a2610fa",
       "version_major": 2,
       "version_minor": 0
      },
      "text/plain": [
       "0it [00:00, ?it/s]"
      ]
     },
     "metadata": {},
     "output_type": "display_data"
    },
    {
     "name": "stdout",
     "output_type": "stream",
     "text": [
      "Epoch 5 Samples 100 Step 0 Loss 0.6304200291633606\n"
     ]
    },
    {
     "data": {
      "application/vnd.jupyter.widget-view+json": {
       "model_id": "6ddb71a38d0044a9a94b798d4b890abe",
       "version_major": 2,
       "version_minor": 0
      },
      "text/plain": [
       "0it [00:00, ?it/s]"
      ]
     },
     "metadata": {},
     "output_type": "display_data"
    },
    {
     "name": "stdout",
     "output_type": "stream",
     "text": [
      "Epoch 6 Samples 100 Step 0 Loss 0.6220318675041199\n"
     ]
    },
    {
     "data": {
      "application/vnd.jupyter.widget-view+json": {
       "model_id": "23a84b5b04994c439daf5abd5cec8f9d",
       "version_major": 2,
       "version_minor": 0
      },
      "text/plain": [
       "0it [00:00, ?it/s]"
      ]
     },
     "metadata": {},
     "output_type": "display_data"
    },
    {
     "name": "stdout",
     "output_type": "stream",
     "text": [
      "Epoch 7 Samples 100 Step 0 Loss 0.6140809059143066\n"
     ]
    },
    {
     "data": {
      "application/vnd.jupyter.widget-view+json": {
       "model_id": "f69a6ebb560c493299c7d51262d53d5f",
       "version_major": 2,
       "version_minor": 0
      },
      "text/plain": [
       "0it [00:00, ?it/s]"
      ]
     },
     "metadata": {},
     "output_type": "display_data"
    },
    {
     "name": "stdout",
     "output_type": "stream",
     "text": [
      "Epoch 8 Samples 100 Step 0 Loss 0.6064600348472595\n"
     ]
    },
    {
     "data": {
      "application/vnd.jupyter.widget-view+json": {
       "model_id": "7b50158f2ba04aeead21936a9eaf057b",
       "version_major": 2,
       "version_minor": 0
      },
      "text/plain": [
       "0it [00:00, ?it/s]"
      ]
     },
     "metadata": {},
     "output_type": "display_data"
    },
    {
     "name": "stdout",
     "output_type": "stream",
     "text": [
      "Epoch 9 Samples 100 Step 0 Loss 0.5993781685829163\n"
     ]
    },
    {
     "data": {
      "application/vnd.jupyter.widget-view+json": {
       "model_id": "826dca8194d04d1fa092e0b17c31b09f",
       "version_major": 2,
       "version_minor": 0
      },
      "text/plain": [
       "0it [00:00, ?it/s]"
      ]
     },
     "metadata": {},
     "output_type": "display_data"
    },
    {
     "name": "stdout",
     "output_type": "stream",
     "text": [
      "Epoch 10 Samples 100 Step 0 Loss 0.5930272936820984\n"
     ]
    }
   ],
   "source": [
    "import numpy as np\n",
    "import torch\n",
    "from toy_model import train_model, finetune_model, MarkovData\n",
    "\n",
    "T0 = np.array([\n",
    "    [0, 1, 0],\n",
    "    [0, 0, 0],\n",
    "    [0.5, 0, 0]\n",
    "])\n",
    "T1 = np.array([\n",
    "    [0, 0, 0],\n",
    "    [0, 0, 1],\n",
    "    [0.5, 0, 0]\n",
    "])\n",
    "\n",
    "dataset = MarkovData(n_gen=1000, gen_len=50, n_states=3, d_vocab=2, T_list=[T0, T1])\n",
    "model = train_model(\n",
    "    dataset=dataset,\n",
    "    n_layers=6,\n",
    "    d_model=8,\n",
    "    d_head=8,\n",
    "    d_mlp=32,\n",
    "    attn_only=True,\n",
    "    n_epochs=10,\n",
    "    lr=5e-3,\n",
    "    batch_size=100,\n",
    "    save_every=1000,\n",
    "    print_every=1000,\n",
    "    save_dir=None # To not to save the model\n",
    ")"
   ]
  },
  {
   "cell_type": "code",
   "execution_count": 28,
   "id": "bf162582",
   "metadata": {},
   "outputs": [
    {
     "name": "stdout",
     "output_type": "stream",
     "text": [
      "Actual: 0, Predicted: 0\n",
      "Actual: 0, Predicted: 1\n",
      "Actual: 1, Predicted: 1\n",
      "Actual: 1, Predicted: 1\n",
      "Actual: 0, Predicted: 1\n",
      "Actual: 1, Predicted: 1\n",
      "Actual: 0, Predicted: 1\n",
      "Actual: 0, Predicted: 1\n",
      "Actual: 1, Predicted: 1\n",
      "Actual: 1, Predicted: 1\n",
      "Actual: 0, Predicted: 1\n",
      "Actual: 1, Predicted: 1\n",
      "Actual: 0, Predicted: 1\n",
      "Actual: 0, Predicted: 1\n",
      "Actual: 1, Predicted: 1\n",
      "Actual: 1, Predicted: 0\n",
      "Actual: 0, Predicted: 1\n",
      "Actual: 1, Predicted: 1\n",
      "Actual: 1, Predicted: 1\n",
      "Actual: 0, Predicted: 0\n",
      "Actual: 1, Predicted: 1\n",
      "Actual: 0, Predicted: 0\n",
      "Actual: 0, Predicted: 1\n",
      "Actual: 1, Predicted: 1\n",
      "Actual: 1, Predicted: 1\n",
      "Actual: 0, Predicted: 0\n",
      "Actual: 1, Predicted: 1\n",
      "Actual: 1, Predicted: 0\n",
      "Actual: 0, Predicted: 0\n",
      "Actual: 1, Predicted: 1\n",
      "Actual: 0, Predicted: 0\n",
      "Actual: 0, Predicted: 1\n",
      "Actual: 1, Predicted: 1\n",
      "Actual: 0, Predicted: 0\n",
      "Actual: 0, Predicted: 1\n",
      "Actual: 1, Predicted: 1\n",
      "Actual: 0, Predicted: 1\n",
      "Actual: 0, Predicted: 1\n",
      "Actual: 1, Predicted: 1\n"
     ]
    }
   ],
   "source": [
    "sample, states = dataset.model.sample_sequence(max_new_tokens=40)\n",
    "preds = model(torch.tensor(sample, dtype=torch.int64)).argmax(dim=-1).flatten().tolist()\n",
    "for s, pred in zip(sample[1:], preds[:-1]):\n",
    "    print(f'Actual: {s}, Predicted: {pred}')"
   ]
  },
  {
   "cell_type": "code",
   "execution_count": 29,
   "id": "5d32dc89",
   "metadata": {},
   "outputs": [
    {
     "name": "stdout",
     "output_type": "stream",
     "text": [
      "Moving model to device:  cpu\n",
      "Moving model to device:  cpu\n"
     ]
    },
    {
     "data": {
      "application/vnd.jupyter.widget-view+json": {
       "model_id": "3a8f7cbeac0d4b6da70079a63fff5b5b",
       "version_major": 2,
       "version_minor": 0
      },
      "text/plain": [
       "  0%|          | 0/5 [00:00<?, ?it/s]"
      ]
     },
     "metadata": {},
     "output_type": "display_data"
    },
    {
     "data": {
      "application/vnd.jupyter.widget-view+json": {
       "model_id": "71b4d910075d4fc3b111b09c8741ed71",
       "version_major": 2,
       "version_minor": 0
      },
      "text/plain": [
       "0it [00:00, ?it/s]"
      ]
     },
     "metadata": {},
     "output_type": "display_data"
    },
    {
     "name": "stdout",
     "output_type": "stream",
     "text": [
      "Epoch 1 Samples 64 Step 0 Loss 0.5873494148254395\n"
     ]
    },
    {
     "data": {
      "application/vnd.jupyter.widget-view+json": {
       "model_id": "72522154926e447095dbe0a5000b57e5",
       "version_major": 2,
       "version_minor": 0
      },
      "text/plain": [
       "0it [00:00, ?it/s]"
      ]
     },
     "metadata": {},
     "output_type": "display_data"
    },
    {
     "name": "stdout",
     "output_type": "stream",
     "text": [
      "Epoch 2 Samples 64 Step 0 Loss 0.5708927512168884\n"
     ]
    },
    {
     "data": {
      "application/vnd.jupyter.widget-view+json": {
       "model_id": "8f824be1a327403da6f5f7611db2f332",
       "version_major": 2,
       "version_minor": 0
      },
      "text/plain": [
       "0it [00:00, ?it/s]"
      ]
     },
     "metadata": {},
     "output_type": "display_data"
    },
    {
     "name": "stdout",
     "output_type": "stream",
     "text": [
      "Epoch 3 Samples 64 Step 0 Loss 0.5536504983901978\n"
     ]
    },
    {
     "data": {
      "application/vnd.jupyter.widget-view+json": {
       "model_id": "48d79c05b4c841689773df0eb244b878",
       "version_major": 2,
       "version_minor": 0
      },
      "text/plain": [
       "0it [00:00, ?it/s]"
      ]
     },
     "metadata": {},
     "output_type": "display_data"
    },
    {
     "name": "stdout",
     "output_type": "stream",
     "text": [
      "Epoch 4 Samples 64 Step 0 Loss 0.53603595495224\n"
     ]
    },
    {
     "data": {
      "application/vnd.jupyter.widget-view+json": {
       "model_id": "7f6cbb16ebdb4ae397f2fd2ce1dc6dcc",
       "version_major": 2,
       "version_minor": 0
      },
      "text/plain": [
       "0it [00:00, ?it/s]"
      ]
     },
     "metadata": {},
     "output_type": "display_data"
    },
    {
     "name": "stdout",
     "output_type": "stream",
     "text": [
      "Epoch 5 Samples 64 Step 0 Loss 0.5192384719848633\n"
     ]
    }
   ],
   "source": [
    "model = finetune_model(model, dataset, n_epochs=5, save_dir=None) # Add additional arguments as needed"
   ]
  },
  {
   "cell_type": "code",
   "execution_count": 32,
   "id": "d936e66b",
   "metadata": {},
   "outputs": [
    {
     "name": "stdout",
     "output_type": "stream",
     "text": [
      "tensor([[-0.4864, -1.4095],\n",
      "        [ 0.7281, -0.7400],\n",
      "        [-0.4133,  0.4519]])\n",
      "tensor([0, 0, 1])\n"
     ]
    }
   ],
   "source": [
    "with torch.no_grad():\n",
    "    model.eval()\n",
    "    logits = model(torch.tensor([[0,1,1,0,1,0,0,1,1,0],\n",
    "                                 [1,0,1,1,0,1,0,0,1,1],\n",
    "                                 [1,0,0,1,0,0,1,0,0,1]], dtype=torch.int64))\n",
    "print(logits[:, -1, :])\n",
    "print(logits[:, -1, :].argmax(dim=-1))\n",
    "# Ground truth values: [1, 0, R]"
   ]
  },
  {
   "cell_type": "markdown",
   "id": "127ecf7e",
   "metadata": {},
   "source": [
    "Verifying whether a given probability distribution is what the Markov model would have provided"
   ]
  },
  {
   "cell_type": "code",
   "execution_count": 2,
   "id": "6f4c0ade",
   "metadata": {},
   "outputs": [
    {
     "name": "stdout",
     "output_type": "stream",
     "text": [
      "\n",
      "==================================================\n",
      "Testing verify_sequence function:\n",
      "==================================================\n",
      "Test sequence: ['0', '1', '0']\n",
      "Test probabilities: [[0.833, 0.166], [0.7, 0.3], [1, 1]]\n",
      "Position 0: KL divergence = 0.001001\n",
      "\t\t transformer_probs = [0.833, 0.166], Markov_probs = [0.83333333 0.16666667]\n",
      "Position 1: KL divergence = -0.000000\n",
      "\t\t transformer_probs = [0.7, 0.3], Markov_probs = [0.7 0.3]\n",
      "Position 2: KL divergence = -0.000000\n",
      "\t\t transformer_probs = [1, 1], Markov_probs = [1. 0.]\n",
      "Convergence analysis:\n",
      "  Convergence position: 0\n",
      "  Is converged: True\n",
      "  Final KL divergence: -0.000000\n",
      "\n",
      "Verification result:\n",
      "  Is converged: True\n",
      "  Convergence position: 0\n"
     ]
    }
   ],
   "source": [
    "# Test the verify_sequence function\n",
    "print('\\n' + '='*50)\n",
    "print('Testing verify_sequence function:')\n",
    "print('='*50)\n",
    "\n",
    "# Create a test sequence and probability distribution\n",
    "test_sequence = ['0', '1', '0']  # String representations of token indices\n",
    "test_probs = [\n",
    "    [0.833, 0.166],\n",
    "    [0.7, 0.3],\n",
    "    [1, 1]\n",
    "]\n",
    "\n",
    "print(f\"Test sequence: {test_sequence}\")\n",
    "print(f\"Test probabilities: {test_probs}\")\n",
    "\n",
    "# Verify the sequence\n",
    "is_converged, conv_pos = model.verify_sequence(test_sequence, test_probs, tolerance=0.1)\n",
    "\n",
    "print(f\"\\nVerification result:\")\n",
    "print(f\"  Is converged: {is_converged}\")\n",
    "print(f\"  Convergence position: {conv_pos}\")\n"
   ]
  }
 ],
 "metadata": {
  "kernelspec": {
   "display_name": ".venv",
   "language": "python",
   "name": "python3"
  },
  "language_info": {
   "codemirror_mode": {
    "name": "ipython",
    "version": 3
   },
   "file_extension": ".py",
   "mimetype": "text/x-python",
   "name": "python",
   "nbconvert_exporter": "python",
   "pygments_lexer": "ipython3",
   "version": "3.11.9"
  }
 },
 "nbformat": 4,
 "nbformat_minor": 5
}

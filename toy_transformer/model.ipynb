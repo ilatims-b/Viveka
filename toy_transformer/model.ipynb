{
 "cells": [
  {
   "cell_type": "code",
   "execution_count": 9,
   "id": "e489ab2d",
   "metadata": {},
   "outputs": [],
   "source": [
    "from toy_model_advanced import *\n",
    "from metrics_tracker_advanced import AdvancedMetricsTracker\n",
    "import wandb\n",
    "import torch\n",
    "import numpy as np"
   ]
  },
  {
   "cell_type": "code",
   "execution_count": 10,
   "id": "0c8a601d",
   "metadata": {},
   "outputs": [
    {
     "name": "stderr",
     "output_type": "stream",
     "text": [
      "\u001b[34m\u001b[1mwandb\u001b[0m: Currently logged in as: \u001b[33mce24b119\u001b[0m (\u001b[33mjerrycloud3316-ai-club-iit-madras\u001b[0m) to \u001b[32mhttps://api.wandb.ai\u001b[0m. Use \u001b[1m`wandb login --relogin`\u001b[0m to force relogin\n"
     ]
    },
    {
     "data": {
      "text/plain": [
       "True"
      ]
     },
     "execution_count": 10,
     "metadata": {},
     "output_type": "execute_result"
    }
   ],
   "source": [
    "wandb.login()"
   ]
  },
  {
   "cell_type": "code",
   "execution_count": 11,
   "id": "e397412e",
   "metadata": {},
   "outputs": [],
   "source": [
    "T0 = np.array([\n",
    "    [0, 1, 0],\n",
    "    [0, 0, 1],\n",
    "    [0, 0, 0.5]\n",
    "])\n",
    "\n",
    "T1 = np.array([\n",
    "    [0, 0, 0],\n",
    "    [0, 0, 0],\n",
    "    [0.5, 0, 0]\n",
    "])"
   ]
  },
  {
   "cell_type": "code",
   "execution_count": 12,
   "id": "b2924bcb",
   "metadata": {},
   "outputs": [],
   "source": [
    "dataset = MarkovData(10000, 32, 3, 2, [T0, T1])"
   ]
  },
  {
   "cell_type": "code",
   "execution_count": 5,
   "id": "fb26fb59",
   "metadata": {},
   "outputs": [
    {
     "name": "stderr",
     "output_type": "stream",
     "text": [
      "\u001b[34m\u001b[1mwandb\u001b[0m: \u001b[33mWARNING\u001b[0m Using a boolean value for 'reinit' is deprecated. Use 'return_previous' or 'finish_previous' instead.\n"
     ]
    },
    {
     "data": {
      "text/html": [
       "creating run (0.1s)"
      ],
      "text/plain": [
       "<IPython.core.display.HTML object>"
      ]
     },
     "metadata": {},
     "output_type": "display_data"
    },
    {
     "data": {
      "text/html": [
       "Tracking run with wandb version 0.21.3"
      ],
      "text/plain": [
       "<IPython.core.display.HTML object>"
      ]
     },
     "metadata": {},
     "output_type": "display_data"
    },
    {
     "data": {
      "text/html": [
       "Run data is saved locally in <code>/Users/sbhandari/Documents/GitHub/Vivekafork/toy_transformer/wandb/run-20250914_002545-99s3ou8j</code>"
      ],
      "text/plain": [
       "<IPython.core.display.HTML object>"
      ]
     },
     "metadata": {},
     "output_type": "display_data"
    },
    {
     "data": {
      "text/html": [
       "Syncing run <strong><a href='https://wandb.ai/jerrycloud3316-ai-club-iit-madras/Vivekafork-toy_transformer/runs/99s3ou8j' target=\"_blank\">easy-wind-1</a></strong> to <a href='https://wandb.ai/jerrycloud3316-ai-club-iit-madras/Vivekafork-toy_transformer' target=\"_blank\">Weights & Biases</a> (<a href='https://wandb.me/developer-guide' target=\"_blank\">docs</a>)<br>"
      ],
      "text/plain": [
       "<IPython.core.display.HTML object>"
      ]
     },
     "metadata": {},
     "output_type": "display_data"
    },
    {
     "data": {
      "text/html": [
       " View project at <a href='https://wandb.ai/jerrycloud3316-ai-club-iit-madras/Vivekafork-toy_transformer' target=\"_blank\">https://wandb.ai/jerrycloud3316-ai-club-iit-madras/Vivekafork-toy_transformer</a>"
      ],
      "text/plain": [
       "<IPython.core.display.HTML object>"
      ]
     },
     "metadata": {},
     "output_type": "display_data"
    },
    {
     "data": {
      "text/html": [
       " View run at <a href='https://wandb.ai/jerrycloud3316-ai-club-iit-madras/Vivekafork-toy_transformer/runs/99s3ou8j' target=\"_blank\">https://wandb.ai/jerrycloud3316-ai-club-iit-madras/Vivekafork-toy_transformer/runs/99s3ou8j</a>"
      ],
      "text/plain": [
       "<IPython.core.display.HTML object>"
      ]
     },
     "metadata": {},
     "output_type": "display_data"
    },
    {
     "data": {
      "text/html": [
       "Finishing previous runs because reinit is set to 'default'."
      ],
      "text/plain": [
       "<IPython.core.display.HTML object>"
      ]
     },
     "metadata": {},
     "output_type": "display_data"
    },
    {
     "name": "stderr",
     "output_type": "stream",
     "text": [
      "\u001b[34m\u001b[1mwandb\u001b[0m: \u001b[32m\u001b[41mERROR\u001b[0m The nbformat package was not found. It is required to save notebook history.\n"
     ]
    },
    {
     "data": {
      "text/html": [],
      "text/plain": [
       "<IPython.core.display.HTML object>"
      ]
     },
     "metadata": {},
     "output_type": "display_data"
    },
    {
     "data": {
      "text/html": [
       " View run <strong style=\"color:#cdcd00\">easy-wind-1</strong> at: <a href='https://wandb.ai/jerrycloud3316-ai-club-iit-madras/Vivekafork-toy_transformer/runs/99s3ou8j' target=\"_blank\">https://wandb.ai/jerrycloud3316-ai-club-iit-madras/Vivekafork-toy_transformer/runs/99s3ou8j</a><br> View project at: <a href='https://wandb.ai/jerrycloud3316-ai-club-iit-madras/Vivekafork-toy_transformer' target=\"_blank\">https://wandb.ai/jerrycloud3316-ai-club-iit-madras/Vivekafork-toy_transformer</a><br>Synced 5 W&B file(s), 0 media file(s), 0 artifact file(s) and 0 other file(s)"
      ],
      "text/plain": [
       "<IPython.core.display.HTML object>"
      ]
     },
     "metadata": {},
     "output_type": "display_data"
    },
    {
     "data": {
      "text/html": [
       "Find logs at: <code>./wandb/run-20250914_002545-99s3ou8j/logs</code>"
      ],
      "text/plain": [
       "<IPython.core.display.HTML object>"
      ]
     },
     "metadata": {},
     "output_type": "display_data"
    },
    {
     "data": {
      "text/html": [
       "creating run (0.1s)"
      ],
      "text/plain": [
       "<IPython.core.display.HTML object>"
      ]
     },
     "metadata": {},
     "output_type": "display_data"
    },
    {
     "data": {
      "text/html": [
       "Tracking run with wandb version 0.21.3"
      ],
      "text/plain": [
       "<IPython.core.display.HTML object>"
      ]
     },
     "metadata": {},
     "output_type": "display_data"
    },
    {
     "data": {
      "text/html": [
       "Run data is saved locally in <code>/Users/sbhandari/Documents/GitHub/Vivekafork/toy_transformer/wandb/run-20250914_002547-t0aky80g</code>"
      ],
      "text/plain": [
       "<IPython.core.display.HTML object>"
      ]
     },
     "metadata": {},
     "output_type": "display_data"
    },
    {
     "data": {
      "text/html": [
       "Syncing run <strong><a href='https://wandb.ai/jerrycloud3316-ai-club-iit-madras/ICL/runs/t0aky80g' target=\"_blank\">helpful-universe-10</a></strong> to <a href='https://wandb.ai/jerrycloud3316-ai-club-iit-madras/ICL' target=\"_blank\">Weights & Biases</a> (<a href='https://wandb.me/developer-guide' target=\"_blank\">docs</a>)<br>"
      ],
      "text/plain": [
       "<IPython.core.display.HTML object>"
      ]
     },
     "metadata": {},
     "output_type": "display_data"
    },
    {
     "data": {
      "text/html": [
       " View project at <a href='https://wandb.ai/jerrycloud3316-ai-club-iit-madras/ICL' target=\"_blank\">https://wandb.ai/jerrycloud3316-ai-club-iit-madras/ICL</a>"
      ],
      "text/plain": [
       "<IPython.core.display.HTML object>"
      ]
     },
     "metadata": {},
     "output_type": "display_data"
    },
    {
     "data": {
      "text/html": [
       " View run at <a href='https://wandb.ai/jerrycloud3316-ai-club-iit-madras/ICL/runs/t0aky80g' target=\"_blank\">https://wandb.ai/jerrycloud3316-ai-club-iit-madras/ICL/runs/t0aky80g</a>"
      ],
      "text/plain": [
       "<IPython.core.display.HTML object>"
      ]
     },
     "metadata": {},
     "output_type": "display_data"
    },
    {
     "name": "stdout",
     "output_type": "stream",
     "text": [
      "Moving model to device:  cpu\n",
      "📊 Metrics tracking enabled: logging every 50 steps\n"
     ]
    },
    {
     "name": "stderr",
     "output_type": "stream",
     "text": [
      "  0%|          | 0/300 [00:00<?, ?it/s]"
     ]
    },
    {
     "name": "stdout",
     "output_type": "stream",
     "text": [
      "Cache key blocks.0.attn.pattern not found. Available keys: ['hook_embed', 'hook_pos_embed', 'blocks.0.hook_resid_pre', 'blocks.0.attn.hook_q', 'blocks.0.attn.hook_k']\n"
     ]
    },
    {
     "name": "stderr",
     "output_type": "stream",
     "text": [
      "  0%|          | 1/300 [00:01<06:57,  1.40s/it]"
     ]
    },
    {
     "name": "stdout",
     "output_type": "stream",
     "text": [
      "Cache key blocks.0.attn.pattern not found. Available keys: ['hook_embed', 'hook_pos_embed', 'blocks.0.hook_resid_pre', 'blocks.0.attn.hook_q', 'blocks.0.attn.hook_k']\n",
      "Epoch 1 Validation Loss 0.49444901943206787\n",
      "Cache key blocks.0.attn.pattern not found. Available keys: ['hook_embed', 'hook_pos_embed', 'blocks.0.hook_resid_pre', 'blocks.0.attn.hook_q', 'blocks.0.attn.hook_k']\n",
      "Cache key blocks.0.attn.pattern not found. Available keys: ['hook_embed', 'hook_pos_embed', 'blocks.0.hook_resid_pre', 'blocks.0.attn.hook_q', 'blocks.0.attn.hook_k']\n",
      "📊 Metrics logged at step 200\n"
     ]
    },
    {
     "name": "stderr",
     "output_type": "stream",
     "text": [
      "  1%|          | 2/300 [00:03<08:09,  1.64s/it]"
     ]
    },
    {
     "name": "stdout",
     "output_type": "stream",
     "text": [
      "Cache key blocks.0.attn.pattern not found. Available keys: ['hook_embed', 'hook_pos_embed', 'blocks.0.hook_resid_pre', 'blocks.0.attn.hook_q', 'blocks.0.attn.hook_k']\n",
      "Epoch 2 Validation Loss 0.48103705048561096\n",
      "Cache key blocks.0.attn.pattern not found. Available keys: ['hook_embed', 'hook_pos_embed', 'blocks.0.hook_resid_pre', 'blocks.0.attn.hook_q', 'blocks.0.attn.hook_k']\n"
     ]
    },
    {
     "name": "stderr",
     "output_type": "stream",
     "text": [
      "  1%|          | 3/300 [00:04<07:29,  1.51s/it]"
     ]
    },
    {
     "name": "stdout",
     "output_type": "stream",
     "text": [
      "Cache key blocks.0.attn.pattern not found. Available keys: ['hook_embed', 'hook_pos_embed', 'blocks.0.hook_resid_pre', 'blocks.0.attn.hook_q', 'blocks.0.attn.hook_k']\n",
      "Epoch 3 Validation Loss 0.47370636463165283\n",
      "Cache key blocks.0.attn.pattern not found. Available keys: ['hook_embed', 'hook_pos_embed', 'blocks.0.hook_resid_pre', 'blocks.0.attn.hook_q', 'blocks.0.attn.hook_k']\n",
      "📊 Metrics logged at step 400\n",
      "Cache key blocks.0.attn.pattern not found. Available keys: ['hook_embed', 'hook_pos_embed', 'blocks.0.hook_resid_pre', 'blocks.0.attn.hook_q', 'blocks.0.attn.hook_k']\n"
     ]
    },
    {
     "name": "stderr",
     "output_type": "stream",
     "text": [
      "  1%|▏         | 4/300 [00:06<08:03,  1.63s/it]"
     ]
    },
    {
     "name": "stdout",
     "output_type": "stream",
     "text": [
      "Cache key blocks.0.attn.pattern not found. Available keys: ['hook_embed', 'hook_pos_embed', 'blocks.0.hook_resid_pre', 'blocks.0.attn.hook_q', 'blocks.0.attn.hook_k']\n",
      "Epoch 4 Validation Loss 0.46972060203552246\n",
      "Cache key blocks.0.attn.pattern not found. Available keys: ['hook_embed', 'hook_pos_embed', 'blocks.0.hook_resid_pre', 'blocks.0.attn.hook_q', 'blocks.0.attn.hook_k']\n"
     ]
    },
    {
     "name": "stderr",
     "output_type": "stream",
     "text": [
      "  2%|▏         | 5/300 [00:07<07:36,  1.55s/it]"
     ]
    },
    {
     "name": "stdout",
     "output_type": "stream",
     "text": [
      "Cache key blocks.0.attn.pattern not found. Available keys: ['hook_embed', 'hook_pos_embed', 'blocks.0.hook_resid_pre', 'blocks.0.attn.hook_q', 'blocks.0.attn.hook_k']\n",
      "📊 Metrics logged at step 600\n",
      "Epoch 5 Validation Loss 0.46825799345970154\n",
      "Cache key blocks.0.attn.pattern not found. Available keys: ['hook_embed', 'hook_pos_embed', 'blocks.0.hook_resid_pre', 'blocks.0.attn.hook_q', 'blocks.0.attn.hook_k']\n",
      "Cache key blocks.0.attn.pattern not found. Available keys: ['hook_embed', 'hook_pos_embed', 'blocks.0.hook_resid_pre', 'blocks.0.attn.hook_q', 'blocks.0.attn.hook_k']\n"
     ]
    },
    {
     "name": "stderr",
     "output_type": "stream",
     "text": [
      "  2%|▏         | 6/300 [00:09<08:05,  1.65s/it]"
     ]
    },
    {
     "name": "stdout",
     "output_type": "stream",
     "text": [
      "Cache key blocks.0.attn.pattern not found. Available keys: ['hook_embed', 'hook_pos_embed', 'blocks.0.hook_resid_pre', 'blocks.0.attn.hook_q', 'blocks.0.attn.hook_k']\n",
      "Epoch 6 Validation Loss 0.46681612730026245\n",
      "Cache key blocks.0.attn.pattern not found. Available keys: ['hook_embed', 'hook_pos_embed', 'blocks.0.hook_resid_pre', 'blocks.0.attn.hook_q', 'blocks.0.attn.hook_k']\n",
      "📊 Metrics logged at step 800\n"
     ]
    },
    {
     "name": "stderr",
     "output_type": "stream",
     "text": [
      "  2%|▏         | 7/300 [00:11<07:40,  1.57s/it]"
     ]
    },
    {
     "name": "stdout",
     "output_type": "stream",
     "text": [
      "Cache key blocks.0.attn.pattern not found. Available keys: ['hook_embed', 'hook_pos_embed', 'blocks.0.hook_resid_pre', 'blocks.0.attn.hook_q', 'blocks.0.attn.hook_k']\n",
      "Epoch 7 Validation Loss 0.46629250049591064\n",
      "Cache key blocks.0.attn.pattern not found. Available keys: ['hook_embed', 'hook_pos_embed', 'blocks.0.hook_resid_pre', 'blocks.0.attn.hook_q', 'blocks.0.attn.hook_k']\n",
      "Cache key blocks.0.attn.pattern not found. Available keys: ['hook_embed', 'hook_pos_embed', 'blocks.0.hook_resid_pre', 'blocks.0.attn.hook_q', 'blocks.0.attn.hook_k']\n"
     ]
    },
    {
     "name": "stderr",
     "output_type": "stream",
     "text": [
      "  3%|▎         | 8/300 [00:12<08:10,  1.68s/it]"
     ]
    },
    {
     "name": "stdout",
     "output_type": "stream",
     "text": [
      "Cache key blocks.0.attn.pattern not found. Available keys: ['hook_embed', 'hook_pos_embed', 'blocks.0.hook_resid_pre', 'blocks.0.attn.hook_q', 'blocks.0.attn.hook_k']\n",
      "📊 Metrics logged at step 1000\n",
      "Epoch 8 Validation Loss 0.46643951535224915\n",
      "Cache key blocks.0.attn.pattern not found. Available keys: ['hook_embed', 'hook_pos_embed', 'blocks.0.hook_resid_pre', 'blocks.0.attn.hook_q', 'blocks.0.attn.hook_k']\n"
     ]
    },
    {
     "name": "stderr",
     "output_type": "stream",
     "text": [
      "  3%|▎         | 9/300 [00:14<07:42,  1.59s/it]"
     ]
    },
    {
     "name": "stdout",
     "output_type": "stream",
     "text": [
      "Cache key blocks.0.attn.pattern not found. Available keys: ['hook_embed', 'hook_pos_embed', 'blocks.0.hook_resid_pre', 'blocks.0.attn.hook_q', 'blocks.0.attn.hook_k']\n",
      "Epoch 9 Validation Loss 0.4661328196525574\n",
      "Cache key blocks.0.attn.pattern not found. Available keys: ['hook_embed', 'hook_pos_embed', 'blocks.0.hook_resid_pre', 'blocks.0.attn.hook_q', 'blocks.0.attn.hook_k']\n",
      "Cache key blocks.0.attn.pattern not found. Available keys: ['hook_embed', 'hook_pos_embed', 'blocks.0.hook_resid_pre', 'blocks.0.attn.hook_q', 'blocks.0.attn.hook_k']\n",
      "📊 Metrics logged at step 1200\n"
     ]
    },
    {
     "name": "stderr",
     "output_type": "stream",
     "text": [
      "  3%|▎         | 10/300 [00:16<08:10,  1.69s/it]"
     ]
    },
    {
     "name": "stdout",
     "output_type": "stream",
     "text": [
      "Cache key blocks.0.attn.pattern not found. Available keys: ['hook_embed', 'hook_pos_embed', 'blocks.0.hook_resid_pre', 'blocks.0.attn.hook_q', 'blocks.0.attn.hook_k']\n",
      "Epoch 10 Samples 8000 Step 124 Training Loss 0.46772274374961853\n",
      "Epoch 10 Validation Loss 0.4657949209213257\n",
      "Cache key blocks.0.attn.pattern not found. Available keys: ['hook_embed', 'hook_pos_embed', 'blocks.0.hook_resid_pre', 'blocks.0.attn.hook_q', 'blocks.0.attn.hook_k']\n"
     ]
    },
    {
     "name": "stderr",
     "output_type": "stream",
     "text": [
      "  4%|▎         | 11/300 [00:17<07:40,  1.59s/it]"
     ]
    },
    {
     "name": "stdout",
     "output_type": "stream",
     "text": [
      "Cache key blocks.0.attn.pattern not found. Available keys: ['hook_embed', 'hook_pos_embed', 'blocks.0.hook_resid_pre', 'blocks.0.attn.hook_q', 'blocks.0.attn.hook_k']\n",
      "Epoch 11 Validation Loss 0.46602344512939453\n",
      "Cache key blocks.0.attn.pattern not found. Available keys: ['hook_embed', 'hook_pos_embed', 'blocks.0.hook_resid_pre', 'blocks.0.attn.hook_q', 'blocks.0.attn.hook_k']\n",
      "📊 Metrics logged at step 1400\n",
      "Cache key blocks.0.attn.pattern not found. Available keys: ['hook_embed', 'hook_pos_embed', 'blocks.0.hook_resid_pre', 'blocks.0.attn.hook_q', 'blocks.0.attn.hook_k']\n"
     ]
    },
    {
     "name": "stderr",
     "output_type": "stream",
     "text": [
      "  4%|▍         | 12/300 [00:19<08:06,  1.69s/it]"
     ]
    },
    {
     "name": "stdout",
     "output_type": "stream",
     "text": [
      "Cache key blocks.0.attn.pattern not found. Available keys: ['hook_embed', 'hook_pos_embed', 'blocks.0.hook_resid_pre', 'blocks.0.attn.hook_q', 'blocks.0.attn.hook_k']\n",
      "Epoch 12 Validation Loss 0.4650316834449768\n",
      "Cache key blocks.0.attn.pattern not found. Available keys: ['hook_embed', 'hook_pos_embed', 'blocks.0.hook_resid_pre', 'blocks.0.attn.hook_q', 'blocks.0.attn.hook_k']\n"
     ]
    },
    {
     "name": "stderr",
     "output_type": "stream",
     "text": [
      "  4%|▍         | 13/300 [00:20<07:37,  1.59s/it]"
     ]
    },
    {
     "name": "stdout",
     "output_type": "stream",
     "text": [
      "Cache key blocks.0.attn.pattern not found. Available keys: ['hook_embed', 'hook_pos_embed', 'blocks.0.hook_resid_pre', 'blocks.0.attn.hook_q', 'blocks.0.attn.hook_k']\n",
      "📊 Metrics logged at step 1600\n",
      "Epoch 13 Validation Loss 0.46481093764305115\n",
      "Cache key blocks.0.attn.pattern not found. Available keys: ['hook_embed', 'hook_pos_embed', 'blocks.0.hook_resid_pre', 'blocks.0.attn.hook_q', 'blocks.0.attn.hook_k']\n",
      "Cache key blocks.0.attn.pattern not found. Available keys: ['hook_embed', 'hook_pos_embed', 'blocks.0.hook_resid_pre', 'blocks.0.attn.hook_q', 'blocks.0.attn.hook_k']\n"
     ]
    },
    {
     "name": "stderr",
     "output_type": "stream",
     "text": [
      "  5%|▍         | 14/300 [00:22<08:05,  1.70s/it]"
     ]
    },
    {
     "name": "stdout",
     "output_type": "stream",
     "text": [
      "Cache key blocks.0.attn.pattern not found. Available keys: ['hook_embed', 'hook_pos_embed', 'blocks.0.hook_resid_pre', 'blocks.0.attn.hook_q', 'blocks.0.attn.hook_k']\n",
      "Epoch 14 Validation Loss 0.46458470821380615\n",
      "Cache key blocks.0.attn.pattern not found. Available keys: ['hook_embed', 'hook_pos_embed', 'blocks.0.hook_resid_pre', 'blocks.0.attn.hook_q', 'blocks.0.attn.hook_k']\n",
      "📊 Metrics logged at step 1800\n"
     ]
    },
    {
     "name": "stderr",
     "output_type": "stream",
     "text": [
      "  5%|▌         | 15/300 [00:24<07:32,  1.59s/it]"
     ]
    },
    {
     "name": "stdout",
     "output_type": "stream",
     "text": [
      "Cache key blocks.0.attn.pattern not found. Available keys: ['hook_embed', 'hook_pos_embed', 'blocks.0.hook_resid_pre', 'blocks.0.attn.hook_q', 'blocks.0.attn.hook_k']\n",
      "Epoch 15 Validation Loss 0.4643956124782562\n",
      "Cache key blocks.0.attn.pattern not found. Available keys: ['hook_embed', 'hook_pos_embed', 'blocks.0.hook_resid_pre', 'blocks.0.attn.hook_q', 'blocks.0.attn.hook_k']\n",
      "Cache key blocks.0.attn.pattern not found. Available keys: ['hook_embed', 'hook_pos_embed', 'blocks.0.hook_resid_pre', 'blocks.0.attn.hook_q', 'blocks.0.attn.hook_k']\n"
     ]
    },
    {
     "name": "stderr",
     "output_type": "stream",
     "text": [
      "  5%|▌         | 16/300 [00:25<07:48,  1.65s/it]"
     ]
    },
    {
     "name": "stdout",
     "output_type": "stream",
     "text": [
      "Cache key blocks.0.attn.pattern not found. Available keys: ['hook_embed', 'hook_pos_embed', 'blocks.0.hook_resid_pre', 'blocks.0.attn.hook_q', 'blocks.0.attn.hook_k']\n",
      "📊 Metrics logged at step 2000\n",
      "Epoch 16 Validation Loss 0.46410679817199707\n",
      "Cache key blocks.0.attn.pattern not found. Available keys: ['hook_embed', 'hook_pos_embed', 'blocks.0.hook_resid_pre', 'blocks.0.attn.hook_q', 'blocks.0.attn.hook_k']\n"
     ]
    },
    {
     "name": "stderr",
     "output_type": "stream",
     "text": [
      "  6%|▌         | 17/300 [00:27<07:20,  1.56s/it]"
     ]
    },
    {
     "name": "stdout",
     "output_type": "stream",
     "text": [
      "Cache key blocks.0.attn.pattern not found. Available keys: ['hook_embed', 'hook_pos_embed', 'blocks.0.hook_resid_pre', 'blocks.0.attn.hook_q', 'blocks.0.attn.hook_k']\n",
      "Epoch 17 Validation Loss 0.4638482928276062\n",
      "Cache key blocks.0.attn.pattern not found. Available keys: ['hook_embed', 'hook_pos_embed', 'blocks.0.hook_resid_pre', 'blocks.0.attn.hook_q', 'blocks.0.attn.hook_k']\n",
      "Cache key blocks.0.attn.pattern not found. Available keys: ['hook_embed', 'hook_pos_embed', 'blocks.0.hook_resid_pre', 'blocks.0.attn.hook_q', 'blocks.0.attn.hook_k']\n",
      "📊 Metrics logged at step 2200\n"
     ]
    },
    {
     "name": "stderr",
     "output_type": "stream",
     "text": [
      "  6%|▌         | 18/300 [00:29<07:39,  1.63s/it]"
     ]
    },
    {
     "name": "stdout",
     "output_type": "stream",
     "text": [
      "Cache key blocks.0.attn.pattern not found. Available keys: ['hook_embed', 'hook_pos_embed', 'blocks.0.hook_resid_pre', 'blocks.0.attn.hook_q', 'blocks.0.attn.hook_k']\n",
      "Epoch 18 Validation Loss 0.4635950028896332\n",
      "Cache key blocks.0.attn.pattern not found. Available keys: ['hook_embed', 'hook_pos_embed', 'blocks.0.hook_resid_pre', 'blocks.0.attn.hook_q', 'blocks.0.attn.hook_k']\n"
     ]
    },
    {
     "name": "stderr",
     "output_type": "stream",
     "text": [
      "  6%|▋         | 19/300 [00:30<07:14,  1.55s/it]"
     ]
    },
    {
     "name": "stdout",
     "output_type": "stream",
     "text": [
      "Cache key blocks.0.attn.pattern not found. Available keys: ['hook_embed', 'hook_pos_embed', 'blocks.0.hook_resid_pre', 'blocks.0.attn.hook_q', 'blocks.0.attn.hook_k']\n",
      "Epoch 19 Validation Loss 0.4637700319290161\n",
      "Cache key blocks.0.attn.pattern not found. Available keys: ['hook_embed', 'hook_pos_embed', 'blocks.0.hook_resid_pre', 'blocks.0.attn.hook_q', 'blocks.0.attn.hook_k']\n",
      "📊 Metrics logged at step 2400\n",
      "Cache key blocks.0.attn.pattern not found. Available keys: ['hook_embed', 'hook_pos_embed', 'blocks.0.hook_resid_pre', 'blocks.0.attn.hook_q', 'blocks.0.attn.hook_k']\n"
     ]
    },
    {
     "name": "stderr",
     "output_type": "stream",
     "text": [
      "  7%|▋         | 20/300 [00:32<07:34,  1.62s/it]"
     ]
    },
    {
     "name": "stdout",
     "output_type": "stream",
     "text": [
      "Cache key blocks.0.attn.pattern not found. Available keys: ['hook_embed', 'hook_pos_embed', 'blocks.0.hook_resid_pre', 'blocks.0.attn.hook_q', 'blocks.0.attn.hook_k']\n",
      "Epoch 20 Samples 8000 Step 124 Training Loss 0.45718538761138916\n",
      "Epoch 20 Validation Loss 0.4630489647388458\n",
      "Cache key blocks.0.attn.pattern not found. Available keys: ['hook_embed', 'hook_pos_embed', 'blocks.0.hook_resid_pre', 'blocks.0.attn.hook_q', 'blocks.0.attn.hook_k']\n"
     ]
    },
    {
     "name": "stderr",
     "output_type": "stream",
     "text": [
      "  7%|▋         | 21/300 [00:33<07:12,  1.55s/it]"
     ]
    },
    {
     "name": "stdout",
     "output_type": "stream",
     "text": [
      "Cache key blocks.0.attn.pattern not found. Available keys: ['hook_embed', 'hook_pos_embed', 'blocks.0.hook_resid_pre', 'blocks.0.attn.hook_q', 'blocks.0.attn.hook_k']\n",
      "📊 Metrics logged at step 2600\n",
      "Epoch 21 Validation Loss 0.46273234486579895\n",
      "Cache key blocks.0.attn.pattern not found. Available keys: ['hook_embed', 'hook_pos_embed', 'blocks.0.hook_resid_pre', 'blocks.0.attn.hook_q', 'blocks.0.attn.hook_k']\n",
      "Cache key blocks.0.attn.pattern not found. Available keys: ['hook_embed', 'hook_pos_embed', 'blocks.0.hook_resid_pre', 'blocks.0.attn.hook_q', 'blocks.0.attn.hook_k']\n"
     ]
    },
    {
     "name": "stderr",
     "output_type": "stream",
     "text": [
      "  7%|▋         | 22/300 [00:35<07:38,  1.65s/it]"
     ]
    },
    {
     "name": "stdout",
     "output_type": "stream",
     "text": [
      "Cache key blocks.0.attn.pattern not found. Available keys: ['hook_embed', 'hook_pos_embed', 'blocks.0.hook_resid_pre', 'blocks.0.attn.hook_q', 'blocks.0.attn.hook_k']\n",
      "Epoch 22 Validation Loss 0.4625305235385895\n",
      "Cache key blocks.0.attn.pattern not found. Available keys: ['hook_embed', 'hook_pos_embed', 'blocks.0.hook_resid_pre', 'blocks.0.attn.hook_q', 'blocks.0.attn.hook_k']\n",
      "📊 Metrics logged at step 2800\n"
     ]
    },
    {
     "name": "stderr",
     "output_type": "stream",
     "text": [
      "  8%|▊         | 23/300 [00:36<07:17,  1.58s/it]"
     ]
    },
    {
     "name": "stdout",
     "output_type": "stream",
     "text": [
      "Cache key blocks.0.attn.pattern not found. Available keys: ['hook_embed', 'hook_pos_embed', 'blocks.0.hook_resid_pre', 'blocks.0.attn.hook_q', 'blocks.0.attn.hook_k']\n",
      "Epoch 23 Validation Loss 0.46276575326919556\n",
      "Cache key blocks.0.attn.pattern not found. Available keys: ['hook_embed', 'hook_pos_embed', 'blocks.0.hook_resid_pre', 'blocks.0.attn.hook_q', 'blocks.0.attn.hook_k']\n",
      "Cache key blocks.0.attn.pattern not found. Available keys: ['hook_embed', 'hook_pos_embed', 'blocks.0.hook_resid_pre', 'blocks.0.attn.hook_q', 'blocks.0.attn.hook_k']\n"
     ]
    },
    {
     "name": "stderr",
     "output_type": "stream",
     "text": [
      "  8%|▊         | 24/300 [00:38<07:41,  1.67s/it]"
     ]
    },
    {
     "name": "stdout",
     "output_type": "stream",
     "text": [
      "Cache key blocks.0.attn.pattern not found. Available keys: ['hook_embed', 'hook_pos_embed', 'blocks.0.hook_resid_pre', 'blocks.0.attn.hook_q', 'blocks.0.attn.hook_k']\n",
      "📊 Metrics logged at step 3000\n",
      "Epoch 24 Validation Loss 0.46174079179763794\n",
      "Cache key blocks.0.attn.pattern not found. Available keys: ['hook_embed', 'hook_pos_embed', 'blocks.0.hook_resid_pre', 'blocks.0.attn.hook_q', 'blocks.0.attn.hook_k']\n"
     ]
    },
    {
     "name": "stderr",
     "output_type": "stream",
     "text": [
      "  8%|▊         | 25/300 [00:40<07:16,  1.59s/it]"
     ]
    },
    {
     "name": "stdout",
     "output_type": "stream",
     "text": [
      "Cache key blocks.0.attn.pattern not found. Available keys: ['hook_embed', 'hook_pos_embed', 'blocks.0.hook_resid_pre', 'blocks.0.attn.hook_q', 'blocks.0.attn.hook_k']\n",
      "Epoch 25 Validation Loss 0.4620685279369354\n",
      "Cache key blocks.0.attn.pattern not found. Available keys: ['hook_embed', 'hook_pos_embed', 'blocks.0.hook_resid_pre', 'blocks.0.attn.hook_q', 'blocks.0.attn.hook_k']\n",
      "Cache key blocks.0.attn.pattern not found. Available keys: ['hook_embed', 'hook_pos_embed', 'blocks.0.hook_resid_pre', 'blocks.0.attn.hook_q', 'blocks.0.attn.hook_k']\n",
      "📊 Metrics logged at step 3200\n"
     ]
    },
    {
     "name": "stderr",
     "output_type": "stream",
     "text": [
      "  9%|▊         | 26/300 [00:42<07:54,  1.73s/it]"
     ]
    },
    {
     "name": "stdout",
     "output_type": "stream",
     "text": [
      "Cache key blocks.0.attn.pattern not found. Available keys: ['hook_embed', 'hook_pos_embed', 'blocks.0.hook_resid_pre', 'blocks.0.attn.hook_q', 'blocks.0.attn.hook_k']\n",
      "Epoch 26 Validation Loss 0.46199560165405273\n",
      "Cache key blocks.0.attn.pattern not found. Available keys: ['hook_embed', 'hook_pos_embed', 'blocks.0.hook_resid_pre', 'blocks.0.attn.hook_q', 'blocks.0.attn.hook_k']\n"
     ]
    },
    {
     "name": "stderr",
     "output_type": "stream",
     "text": [
      "  9%|▉         | 27/300 [00:44<07:59,  1.76s/it]"
     ]
    },
    {
     "name": "stdout",
     "output_type": "stream",
     "text": [
      "Cache key blocks.0.attn.pattern not found. Available keys: ['hook_embed', 'hook_pos_embed', 'blocks.0.hook_resid_pre', 'blocks.0.attn.hook_q', 'blocks.0.attn.hook_k']\n",
      "Epoch 27 Validation Loss 0.4617510437965393\n",
      "Cache key blocks.0.attn.pattern not found. Available keys: ['hook_embed', 'hook_pos_embed', 'blocks.0.hook_resid_pre', 'blocks.0.attn.hook_q', 'blocks.0.attn.hook_k']\n",
      "📊 Metrics logged at step 3400\n",
      "Cache key blocks.0.attn.pattern not found. Available keys: ['hook_embed', 'hook_pos_embed', 'blocks.0.hook_resid_pre', 'blocks.0.attn.hook_q', 'blocks.0.attn.hook_k']\n"
     ]
    },
    {
     "name": "stderr",
     "output_type": "stream",
     "text": [
      "  9%|▉         | 28/300 [00:45<08:04,  1.78s/it]"
     ]
    },
    {
     "name": "stdout",
     "output_type": "stream",
     "text": [
      "Cache key blocks.0.attn.pattern not found. Available keys: ['hook_embed', 'hook_pos_embed', 'blocks.0.hook_resid_pre', 'blocks.0.attn.hook_q', 'blocks.0.attn.hook_k']\n",
      "Epoch 28 Validation Loss 0.46036234498023987\n",
      "Cache key blocks.0.attn.pattern not found. Available keys: ['hook_embed', 'hook_pos_embed', 'blocks.0.hook_resid_pre', 'blocks.0.attn.hook_q', 'blocks.0.attn.hook_k']\n"
     ]
    },
    {
     "name": "stderr",
     "output_type": "stream",
     "text": [
      " 10%|▉         | 29/300 [00:47<07:39,  1.70s/it]"
     ]
    },
    {
     "name": "stdout",
     "output_type": "stream",
     "text": [
      "Cache key blocks.0.attn.pattern not found. Available keys: ['hook_embed', 'hook_pos_embed', 'blocks.0.hook_resid_pre', 'blocks.0.attn.hook_q', 'blocks.0.attn.hook_k']\n",
      "📊 Metrics logged at step 3600\n",
      "Epoch 29 Validation Loss 0.4604150652885437\n",
      "Cache key blocks.0.attn.pattern not found. Available keys: ['hook_embed', 'hook_pos_embed', 'blocks.0.hook_resid_pre', 'blocks.0.attn.hook_q', 'blocks.0.attn.hook_k']\n",
      "Cache key blocks.0.attn.pattern not found. Available keys: ['hook_embed', 'hook_pos_embed', 'blocks.0.hook_resid_pre', 'blocks.0.attn.hook_q', 'blocks.0.attn.hook_k']\n"
     ]
    },
    {
     "name": "stderr",
     "output_type": "stream",
     "text": [
      " 10%|█         | 30/300 [00:49<07:46,  1.73s/it]"
     ]
    },
    {
     "name": "stdout",
     "output_type": "stream",
     "text": [
      "Cache key blocks.0.attn.pattern not found. Available keys: ['hook_embed', 'hook_pos_embed', 'blocks.0.hook_resid_pre', 'blocks.0.attn.hook_q', 'blocks.0.attn.hook_k']\n",
      "Epoch 30 Samples 8000 Step 124 Training Loss 0.4605889916419983\n",
      "Epoch 30 Validation Loss 0.45961442589759827\n",
      "Cache key blocks.0.attn.pattern not found. Available keys: ['hook_embed', 'hook_pos_embed', 'blocks.0.hook_resid_pre', 'blocks.0.attn.hook_q', 'blocks.0.attn.hook_k']\n",
      "📊 Metrics logged at step 3800\n"
     ]
    },
    {
     "name": "stderr",
     "output_type": "stream",
     "text": [
      " 10%|█         | 31/300 [00:50<07:15,  1.62s/it]"
     ]
    },
    {
     "name": "stdout",
     "output_type": "stream",
     "text": [
      "Cache key blocks.0.attn.pattern not found. Available keys: ['hook_embed', 'hook_pos_embed', 'blocks.0.hook_resid_pre', 'blocks.0.attn.hook_q', 'blocks.0.attn.hook_k']\n",
      "Epoch 31 Validation Loss 0.46130916476249695\n",
      "Cache key blocks.0.attn.pattern not found. Available keys: ['hook_embed', 'hook_pos_embed', 'blocks.0.hook_resid_pre', 'blocks.0.attn.hook_q', 'blocks.0.attn.hook_k']\n",
      "Cache key blocks.0.attn.pattern not found. Available keys: ['hook_embed', 'hook_pos_embed', 'blocks.0.hook_resid_pre', 'blocks.0.attn.hook_q', 'blocks.0.attn.hook_k']\n"
     ]
    },
    {
     "name": "stderr",
     "output_type": "stream",
     "text": [
      " 11%|█         | 32/300 [00:52<07:34,  1.70s/it]"
     ]
    },
    {
     "name": "stdout",
     "output_type": "stream",
     "text": [
      "Cache key blocks.0.attn.pattern not found. Available keys: ['hook_embed', 'hook_pos_embed', 'blocks.0.hook_resid_pre', 'blocks.0.attn.hook_q', 'blocks.0.attn.hook_k']\n",
      "📊 Metrics logged at step 4000\n",
      "Epoch 32 Validation Loss 0.4589262306690216\n",
      "Cache key blocks.0.attn.pattern not found. Available keys: ['hook_embed', 'hook_pos_embed', 'blocks.0.hook_resid_pre', 'blocks.0.attn.hook_q', 'blocks.0.attn.hook_k']\n"
     ]
    },
    {
     "name": "stderr",
     "output_type": "stream",
     "text": [
      " 11%|█         | 33/300 [00:53<07:04,  1.59s/it]"
     ]
    },
    {
     "name": "stdout",
     "output_type": "stream",
     "text": [
      "Cache key blocks.0.attn.pattern not found. Available keys: ['hook_embed', 'hook_pos_embed', 'blocks.0.hook_resid_pre', 'blocks.0.attn.hook_q', 'blocks.0.attn.hook_k']\n",
      "Epoch 33 Validation Loss 0.4584469497203827\n",
      "Cache key blocks.0.attn.pattern not found. Available keys: ['hook_embed', 'hook_pos_embed', 'blocks.0.hook_resid_pre', 'blocks.0.attn.hook_q', 'blocks.0.attn.hook_k']\n",
      "Cache key blocks.0.attn.pattern not found. Available keys: ['hook_embed', 'hook_pos_embed', 'blocks.0.hook_resid_pre', 'blocks.0.attn.hook_q', 'blocks.0.attn.hook_k']\n",
      "📊 Metrics logged at step 4200\n"
     ]
    },
    {
     "name": "stderr",
     "output_type": "stream",
     "text": [
      " 11%|█▏        | 34/300 [00:55<07:18,  1.65s/it]"
     ]
    },
    {
     "name": "stdout",
     "output_type": "stream",
     "text": [
      "Cache key blocks.0.attn.pattern not found. Available keys: ['hook_embed', 'hook_pos_embed', 'blocks.0.hook_resid_pre', 'blocks.0.attn.hook_q', 'blocks.0.attn.hook_k']\n",
      "Epoch 34 Validation Loss 0.4581604599952698\n",
      "Cache key blocks.0.attn.pattern not found. Available keys: ['hook_embed', 'hook_pos_embed', 'blocks.0.hook_resid_pre', 'blocks.0.attn.hook_q', 'blocks.0.attn.hook_k']\n"
     ]
    },
    {
     "name": "stderr",
     "output_type": "stream",
     "text": [
      " 12%|█▏        | 35/300 [00:57<06:58,  1.58s/it]"
     ]
    },
    {
     "name": "stdout",
     "output_type": "stream",
     "text": [
      "Cache key blocks.0.attn.pattern not found. Available keys: ['hook_embed', 'hook_pos_embed', 'blocks.0.hook_resid_pre', 'blocks.0.attn.hook_q', 'blocks.0.attn.hook_k']\n",
      "Epoch 35 Validation Loss 0.4580189883708954\n",
      "Cache key blocks.0.attn.pattern not found. Available keys: ['hook_embed', 'hook_pos_embed', 'blocks.0.hook_resid_pre', 'blocks.0.attn.hook_q', 'blocks.0.attn.hook_k']\n",
      "📊 Metrics logged at step 4400\n",
      "Cache key blocks.0.attn.pattern not found. Available keys: ['hook_embed', 'hook_pos_embed', 'blocks.0.hook_resid_pre', 'blocks.0.attn.hook_q', 'blocks.0.attn.hook_k']\n"
     ]
    },
    {
     "name": "stderr",
     "output_type": "stream",
     "text": [
      " 12%|█▏        | 36/300 [00:58<07:17,  1.66s/it]"
     ]
    },
    {
     "name": "stdout",
     "output_type": "stream",
     "text": [
      "Cache key blocks.0.attn.pattern not found. Available keys: ['hook_embed', 'hook_pos_embed', 'blocks.0.hook_resid_pre', 'blocks.0.attn.hook_q', 'blocks.0.attn.hook_k']\n",
      "Epoch 36 Validation Loss 0.45733681321144104\n",
      "Cache key blocks.0.attn.pattern not found. Available keys: ['hook_embed', 'hook_pos_embed', 'blocks.0.hook_resid_pre', 'blocks.0.attn.hook_q', 'blocks.0.attn.hook_k']\n"
     ]
    },
    {
     "name": "stderr",
     "output_type": "stream",
     "text": [
      " 12%|█▏        | 37/300 [01:00<06:54,  1.58s/it]"
     ]
    },
    {
     "name": "stdout",
     "output_type": "stream",
     "text": [
      "Cache key blocks.0.attn.pattern not found. Available keys: ['hook_embed', 'hook_pos_embed', 'blocks.0.hook_resid_pre', 'blocks.0.attn.hook_q', 'blocks.0.attn.hook_k']\n",
      "📊 Metrics logged at step 4600\n",
      "Epoch 37 Validation Loss 0.45771610736846924\n",
      "Cache key blocks.0.attn.pattern not found. Available keys: ['hook_embed', 'hook_pos_embed', 'blocks.0.hook_resid_pre', 'blocks.0.attn.hook_q', 'blocks.0.attn.hook_k']\n",
      "Cache key blocks.0.attn.pattern not found. Available keys: ['hook_embed', 'hook_pos_embed', 'blocks.0.hook_resid_pre', 'blocks.0.attn.hook_q', 'blocks.0.attn.hook_k']\n"
     ]
    },
    {
     "name": "stderr",
     "output_type": "stream",
     "text": [
      " 13%|█▎        | 38/300 [01:02<07:12,  1.65s/it]"
     ]
    },
    {
     "name": "stdout",
     "output_type": "stream",
     "text": [
      "Cache key blocks.0.attn.pattern not found. Available keys: ['hook_embed', 'hook_pos_embed', 'blocks.0.hook_resid_pre', 'blocks.0.attn.hook_q', 'blocks.0.attn.hook_k']\n",
      "Epoch 38 Validation Loss 0.45669278502464294\n",
      "Cache key blocks.0.attn.pattern not found. Available keys: ['hook_embed', 'hook_pos_embed', 'blocks.0.hook_resid_pre', 'blocks.0.attn.hook_q', 'blocks.0.attn.hook_k']\n",
      "📊 Metrics logged at step 4800\n"
     ]
    },
    {
     "name": "stderr",
     "output_type": "stream",
     "text": [
      " 13%|█▎        | 39/300 [01:03<06:44,  1.55s/it]"
     ]
    },
    {
     "name": "stdout",
     "output_type": "stream",
     "text": [
      "Cache key blocks.0.attn.pattern not found. Available keys: ['hook_embed', 'hook_pos_embed', 'blocks.0.hook_resid_pre', 'blocks.0.attn.hook_q', 'blocks.0.attn.hook_k']\n",
      "Epoch 39 Validation Loss 0.46012014150619507\n",
      "Cache key blocks.0.attn.pattern not found. Available keys: ['hook_embed', 'hook_pos_embed', 'blocks.0.hook_resid_pre', 'blocks.0.attn.hook_q', 'blocks.0.attn.hook_k']\n",
      "Cache key blocks.0.attn.pattern not found. Available keys: ['hook_embed', 'hook_pos_embed', 'blocks.0.hook_resid_pre', 'blocks.0.attn.hook_q', 'blocks.0.attn.hook_k']\n"
     ]
    },
    {
     "name": "stderr",
     "output_type": "stream",
     "text": [
      " 13%|█▎        | 40/300 [01:05<07:09,  1.65s/it]"
     ]
    },
    {
     "name": "stdout",
     "output_type": "stream",
     "text": [
      "Cache key blocks.0.attn.pattern not found. Available keys: ['hook_embed', 'hook_pos_embed', 'blocks.0.hook_resid_pre', 'blocks.0.attn.hook_q', 'blocks.0.attn.hook_k']\n",
      "📊 Metrics logged at step 5000\n",
      "Epoch 40 Samples 8000 Step 124 Training Loss 0.460711270570755\n",
      "Epoch 40 Validation Loss 0.45487427711486816\n",
      "Cache key blocks.0.attn.pattern not found. Available keys: ['hook_embed', 'hook_pos_embed', 'blocks.0.hook_resid_pre', 'blocks.0.attn.hook_q', 'blocks.0.attn.hook_k']\n"
     ]
    },
    {
     "name": "stderr",
     "output_type": "stream",
     "text": [
      " 14%|█▎        | 41/300 [01:06<06:46,  1.57s/it]"
     ]
    },
    {
     "name": "stdout",
     "output_type": "stream",
     "text": [
      "Cache key blocks.0.attn.pattern not found. Available keys: ['hook_embed', 'hook_pos_embed', 'blocks.0.hook_resid_pre', 'blocks.0.attn.hook_q', 'blocks.0.attn.hook_k']\n",
      "Epoch 41 Validation Loss 0.45364993810653687\n",
      "Cache key blocks.0.attn.pattern not found. Available keys: ['hook_embed', 'hook_pos_embed', 'blocks.0.hook_resid_pre', 'blocks.0.attn.hook_q', 'blocks.0.attn.hook_k']\n",
      "Cache key blocks.0.attn.pattern not found. Available keys: ['hook_embed', 'hook_pos_embed', 'blocks.0.hook_resid_pre', 'blocks.0.attn.hook_q', 'blocks.0.attn.hook_k']\n",
      "📊 Metrics logged at step 5200\n"
     ]
    },
    {
     "name": "stderr",
     "output_type": "stream",
     "text": [
      " 14%|█▍        | 42/300 [01:08<07:04,  1.64s/it]"
     ]
    },
    {
     "name": "stdout",
     "output_type": "stream",
     "text": [
      "Cache key blocks.0.attn.pattern not found. Available keys: ['hook_embed', 'hook_pos_embed', 'blocks.0.hook_resid_pre', 'blocks.0.attn.hook_q', 'blocks.0.attn.hook_k']\n",
      "Epoch 42 Validation Loss 0.455467164516449\n",
      "Cache key blocks.0.attn.pattern not found. Available keys: ['hook_embed', 'hook_pos_embed', 'blocks.0.hook_resid_pre', 'blocks.0.attn.hook_q', 'blocks.0.attn.hook_k']\n"
     ]
    },
    {
     "name": "stderr",
     "output_type": "stream",
     "text": [
      " 14%|█▍        | 43/300 [01:09<06:37,  1.55s/it]"
     ]
    },
    {
     "name": "stdout",
     "output_type": "stream",
     "text": [
      "Cache key blocks.0.attn.pattern not found. Available keys: ['hook_embed', 'hook_pos_embed', 'blocks.0.hook_resid_pre', 'blocks.0.attn.hook_q', 'blocks.0.attn.hook_k']\n",
      "Epoch 43 Validation Loss 0.45205429196357727\n",
      "Cache key blocks.0.attn.pattern not found. Available keys: ['hook_embed', 'hook_pos_embed', 'blocks.0.hook_resid_pre', 'blocks.0.attn.hook_q', 'blocks.0.attn.hook_k']\n",
      "📊 Metrics logged at step 5400\n",
      "Cache key blocks.0.attn.pattern not found. Available keys: ['hook_embed', 'hook_pos_embed', 'blocks.0.hook_resid_pre', 'blocks.0.attn.hook_q', 'blocks.0.attn.hook_k']\n"
     ]
    },
    {
     "name": "stderr",
     "output_type": "stream",
     "text": [
      " 15%|█▍        | 44/300 [01:11<06:52,  1.61s/it]"
     ]
    },
    {
     "name": "stdout",
     "output_type": "stream",
     "text": [
      "Cache key blocks.0.attn.pattern not found. Available keys: ['hook_embed', 'hook_pos_embed', 'blocks.0.hook_resid_pre', 'blocks.0.attn.hook_q', 'blocks.0.attn.hook_k']\n",
      "Epoch 44 Validation Loss 0.4514021575450897\n",
      "Cache key blocks.0.attn.pattern not found. Available keys: ['hook_embed', 'hook_pos_embed', 'blocks.0.hook_resid_pre', 'blocks.0.attn.hook_q', 'blocks.0.attn.hook_k']\n"
     ]
    },
    {
     "name": "stderr",
     "output_type": "stream",
     "text": [
      " 15%|█▌        | 45/300 [01:12<06:27,  1.52s/it]"
     ]
    },
    {
     "name": "stdout",
     "output_type": "stream",
     "text": [
      "Cache key blocks.0.attn.pattern not found. Available keys: ['hook_embed', 'hook_pos_embed', 'blocks.0.hook_resid_pre', 'blocks.0.attn.hook_q', 'blocks.0.attn.hook_k']\n",
      "📊 Metrics logged at step 5600\n",
      "Epoch 45 Validation Loss 0.45351719856262207\n",
      "Cache key blocks.0.attn.pattern not found. Available keys: ['hook_embed', 'hook_pos_embed', 'blocks.0.hook_resid_pre', 'blocks.0.attn.hook_q', 'blocks.0.attn.hook_k']\n",
      "Cache key blocks.0.attn.pattern not found. Available keys: ['hook_embed', 'hook_pos_embed', 'blocks.0.hook_resid_pre', 'blocks.0.attn.hook_q', 'blocks.0.attn.hook_k']\n"
     ]
    },
    {
     "name": "stderr",
     "output_type": "stream",
     "text": [
      " 15%|█▌        | 46/300 [01:14<06:45,  1.60s/it]"
     ]
    },
    {
     "name": "stdout",
     "output_type": "stream",
     "text": [
      "Cache key blocks.0.attn.pattern not found. Available keys: ['hook_embed', 'hook_pos_embed', 'blocks.0.hook_resid_pre', 'blocks.0.attn.hook_q', 'blocks.0.attn.hook_k']\n",
      "Epoch 46 Validation Loss 0.4588545858860016\n",
      "Cache key blocks.0.attn.pattern not found. Available keys: ['hook_embed', 'hook_pos_embed', 'blocks.0.hook_resid_pre', 'blocks.0.attn.hook_q', 'blocks.0.attn.hook_k']\n",
      "📊 Metrics logged at step 5800\n"
     ]
    },
    {
     "name": "stderr",
     "output_type": "stream",
     "text": [
      " 16%|█▌        | 47/300 [01:15<06:23,  1.51s/it]"
     ]
    },
    {
     "name": "stdout",
     "output_type": "stream",
     "text": [
      "Cache key blocks.0.attn.pattern not found. Available keys: ['hook_embed', 'hook_pos_embed', 'blocks.0.hook_resid_pre', 'blocks.0.attn.hook_q', 'blocks.0.attn.hook_k']\n",
      "Epoch 47 Validation Loss 0.4503437876701355\n",
      "Cache key blocks.0.attn.pattern not found. Available keys: ['hook_embed', 'hook_pos_embed', 'blocks.0.hook_resid_pre', 'blocks.0.attn.hook_q', 'blocks.0.attn.hook_k']\n",
      "Cache key blocks.0.attn.pattern not found. Available keys: ['hook_embed', 'hook_pos_embed', 'blocks.0.hook_resid_pre', 'blocks.0.attn.hook_q', 'blocks.0.attn.hook_k']\n"
     ]
    },
    {
     "name": "stderr",
     "output_type": "stream",
     "text": [
      " 16%|█▌        | 48/300 [01:17<06:43,  1.60s/it]"
     ]
    },
    {
     "name": "stdout",
     "output_type": "stream",
     "text": [
      "Cache key blocks.0.attn.pattern not found. Available keys: ['hook_embed', 'hook_pos_embed', 'blocks.0.hook_resid_pre', 'blocks.0.attn.hook_q', 'blocks.0.attn.hook_k']\n",
      "📊 Metrics logged at step 6000\n",
      "Epoch 48 Validation Loss 0.4478396475315094\n",
      "Cache key blocks.0.attn.pattern not found. Available keys: ['hook_embed', 'hook_pos_embed', 'blocks.0.hook_resid_pre', 'blocks.0.attn.hook_q', 'blocks.0.attn.hook_k']\n"
     ]
    },
    {
     "name": "stderr",
     "output_type": "stream",
     "text": [
      " 16%|█▋        | 49/300 [01:19<06:23,  1.53s/it]"
     ]
    },
    {
     "name": "stdout",
     "output_type": "stream",
     "text": [
      "Cache key blocks.0.attn.pattern not found. Available keys: ['hook_embed', 'hook_pos_embed', 'blocks.0.hook_resid_pre', 'blocks.0.attn.hook_q', 'blocks.0.attn.hook_k']\n",
      "Epoch 49 Validation Loss 0.4529648721218109\n",
      "Cache key blocks.0.attn.pattern not found. Available keys: ['hook_embed', 'hook_pos_embed', 'blocks.0.hook_resid_pre', 'blocks.0.attn.hook_q', 'blocks.0.attn.hook_k']\n",
      "Cache key blocks.0.attn.pattern not found. Available keys: ['hook_embed', 'hook_pos_embed', 'blocks.0.hook_resid_pre', 'blocks.0.attn.hook_q', 'blocks.0.attn.hook_k']\n",
      "📊 Metrics logged at step 6200\n"
     ]
    },
    {
     "name": "stderr",
     "output_type": "stream",
     "text": [
      " 17%|█▋        | 50/300 [01:20<06:40,  1.60s/it]"
     ]
    },
    {
     "name": "stdout",
     "output_type": "stream",
     "text": [
      "Cache key blocks.0.attn.pattern not found. Available keys: ['hook_embed', 'hook_pos_embed', 'blocks.0.hook_resid_pre', 'blocks.0.attn.hook_q', 'blocks.0.attn.hook_k']\n",
      "Epoch 50 Samples 8000 Step 124 Training Loss 0.4407026767730713\n",
      "Epoch 50 Validation Loss 0.44632241129875183\n",
      "Cache key blocks.0.attn.pattern not found. Available keys: ['hook_embed', 'hook_pos_embed', 'blocks.0.hook_resid_pre', 'blocks.0.attn.hook_q', 'blocks.0.attn.hook_k']\n"
     ]
    },
    {
     "name": "stderr",
     "output_type": "stream",
     "text": [
      " 17%|█▋        | 51/300 [01:22<06:17,  1.52s/it]"
     ]
    },
    {
     "name": "stdout",
     "output_type": "stream",
     "text": [
      "Cache key blocks.0.attn.pattern not found. Available keys: ['hook_embed', 'hook_pos_embed', 'blocks.0.hook_resid_pre', 'blocks.0.attn.hook_q', 'blocks.0.attn.hook_k']\n",
      "Epoch 51 Validation Loss 0.4424123466014862\n",
      "Cache key blocks.0.attn.pattern not found. Available keys: ['hook_embed', 'hook_pos_embed', 'blocks.0.hook_resid_pre', 'blocks.0.attn.hook_q', 'blocks.0.attn.hook_k']\n",
      "📊 Metrics logged at step 6400\n",
      "Cache key blocks.0.attn.pattern not found. Available keys: ['hook_embed', 'hook_pos_embed', 'blocks.0.hook_resid_pre', 'blocks.0.attn.hook_q', 'blocks.0.attn.hook_k']\n"
     ]
    },
    {
     "name": "stderr",
     "output_type": "stream",
     "text": [
      " 17%|█▋        | 52/300 [01:24<06:38,  1.61s/it]"
     ]
    },
    {
     "name": "stdout",
     "output_type": "stream",
     "text": [
      "Cache key blocks.0.attn.pattern not found. Available keys: ['hook_embed', 'hook_pos_embed', 'blocks.0.hook_resid_pre', 'blocks.0.attn.hook_q', 'blocks.0.attn.hook_k']\n",
      "Epoch 52 Validation Loss 0.4399377405643463\n",
      "Cache key blocks.0.attn.pattern not found. Available keys: ['hook_embed', 'hook_pos_embed', 'blocks.0.hook_resid_pre', 'blocks.0.attn.hook_q', 'blocks.0.attn.hook_k']\n"
     ]
    },
    {
     "name": "stderr",
     "output_type": "stream",
     "text": [
      " 18%|█▊        | 53/300 [01:25<06:17,  1.53s/it]"
     ]
    },
    {
     "name": "stdout",
     "output_type": "stream",
     "text": [
      "Cache key blocks.0.attn.pattern not found. Available keys: ['hook_embed', 'hook_pos_embed', 'blocks.0.hook_resid_pre', 'blocks.0.attn.hook_q', 'blocks.0.attn.hook_k']\n",
      "📊 Metrics logged at step 6600\n",
      "Epoch 53 Validation Loss 0.43831366300582886\n",
      "Cache key blocks.0.attn.pattern not found. Available keys: ['hook_embed', 'hook_pos_embed', 'blocks.0.hook_resid_pre', 'blocks.0.attn.hook_q', 'blocks.0.attn.hook_k']\n",
      "Cache key blocks.0.attn.pattern not found. Available keys: ['hook_embed', 'hook_pos_embed', 'blocks.0.hook_resid_pre', 'blocks.0.attn.hook_q', 'blocks.0.attn.hook_k']\n"
     ]
    },
    {
     "name": "stderr",
     "output_type": "stream",
     "text": [
      " 18%|█▊        | 54/300 [01:27<06:37,  1.62s/it]"
     ]
    },
    {
     "name": "stdout",
     "output_type": "stream",
     "text": [
      "Cache key blocks.0.attn.pattern not found. Available keys: ['hook_embed', 'hook_pos_embed', 'blocks.0.hook_resid_pre', 'blocks.0.attn.hook_q', 'blocks.0.attn.hook_k']\n",
      "Epoch 54 Validation Loss 0.43739888072013855\n",
      "Cache key blocks.0.attn.pattern not found. Available keys: ['hook_embed', 'hook_pos_embed', 'blocks.0.hook_resid_pre', 'blocks.0.attn.hook_q', 'blocks.0.attn.hook_k']\n",
      "📊 Metrics logged at step 6800\n"
     ]
    },
    {
     "name": "stderr",
     "output_type": "stream",
     "text": [
      " 18%|█▊        | 55/300 [01:28<06:15,  1.53s/it]"
     ]
    },
    {
     "name": "stdout",
     "output_type": "stream",
     "text": [
      "Cache key blocks.0.attn.pattern not found. Available keys: ['hook_embed', 'hook_pos_embed', 'blocks.0.hook_resid_pre', 'blocks.0.attn.hook_q', 'blocks.0.attn.hook_k']\n",
      "Epoch 55 Validation Loss 0.44337067008018494\n",
      "Cache key blocks.0.attn.pattern not found. Available keys: ['hook_embed', 'hook_pos_embed', 'blocks.0.hook_resid_pre', 'blocks.0.attn.hook_q', 'blocks.0.attn.hook_k']\n",
      "Cache key blocks.0.attn.pattern not found. Available keys: ['hook_embed', 'hook_pos_embed', 'blocks.0.hook_resid_pre', 'blocks.0.attn.hook_q', 'blocks.0.attn.hook_k']\n"
     ]
    },
    {
     "name": "stderr",
     "output_type": "stream",
     "text": [
      " 19%|█▊        | 56/300 [01:30<06:34,  1.61s/it]"
     ]
    },
    {
     "name": "stdout",
     "output_type": "stream",
     "text": [
      "Cache key blocks.0.attn.pattern not found. Available keys: ['hook_embed', 'hook_pos_embed', 'blocks.0.hook_resid_pre', 'blocks.0.attn.hook_q', 'blocks.0.attn.hook_k']\n",
      "📊 Metrics logged at step 7000\n",
      "Epoch 56 Validation Loss 0.433364599943161\n",
      "Cache key blocks.0.attn.pattern not found. Available keys: ['hook_embed', 'hook_pos_embed', 'blocks.0.hook_resid_pre', 'blocks.0.attn.hook_q', 'blocks.0.attn.hook_k']\n",
      "Cache key blocks.0.attn.pattern not found. Available keys: ['hook_embed', 'hook_pos_embed', 'blocks.0.hook_resid_pre', 'blocks.0.attn.hook_q', 'blocks.0.attn.hook_k']\n"
     ]
    },
    {
     "name": "stderr",
     "output_type": "stream",
     "text": [
      " 19%|█▉        | 57/300 [01:31<06:22,  1.57s/it]"
     ]
    },
    {
     "name": "stdout",
     "output_type": "stream",
     "text": [
      "Epoch 57 Validation Loss 0.4473569989204407\n",
      "Cache key blocks.0.attn.pattern not found. Available keys: ['hook_embed', 'hook_pos_embed', 'blocks.0.hook_resid_pre', 'blocks.0.attn.hook_q', 'blocks.0.attn.hook_k']\n",
      "Cache key blocks.0.attn.pattern not found. Available keys: ['hook_embed', 'hook_pos_embed', 'blocks.0.hook_resid_pre', 'blocks.0.attn.hook_q', 'blocks.0.attn.hook_k']\n",
      "📊 Metrics logged at step 7200\n"
     ]
    },
    {
     "name": "stderr",
     "output_type": "stream",
     "text": [
      " 19%|█▉        | 58/300 [01:33<06:38,  1.65s/it]"
     ]
    },
    {
     "name": "stdout",
     "output_type": "stream",
     "text": [
      "Cache key blocks.0.attn.pattern not found. Available keys: ['hook_embed', 'hook_pos_embed', 'blocks.0.hook_resid_pre', 'blocks.0.attn.hook_q', 'blocks.0.attn.hook_k']\n",
      "Epoch 58 Validation Loss 0.425260066986084\n",
      "Cache key blocks.0.attn.pattern not found. Available keys: ['hook_embed', 'hook_pos_embed', 'blocks.0.hook_resid_pre', 'blocks.0.attn.hook_q', 'blocks.0.attn.hook_k']\n"
     ]
    },
    {
     "name": "stderr",
     "output_type": "stream",
     "text": [
      " 20%|█▉        | 59/300 [01:35<06:18,  1.57s/it]"
     ]
    },
    {
     "name": "stdout",
     "output_type": "stream",
     "text": [
      "Cache key blocks.0.attn.pattern not found. Available keys: ['hook_embed', 'hook_pos_embed', 'blocks.0.hook_resid_pre', 'blocks.0.attn.hook_q', 'blocks.0.attn.hook_k']\n",
      "Epoch 59 Validation Loss 0.424222856760025\n",
      "Cache key blocks.0.attn.pattern not found. Available keys: ['hook_embed', 'hook_pos_embed', 'blocks.0.hook_resid_pre', 'blocks.0.attn.hook_q', 'blocks.0.attn.hook_k']\n",
      "📊 Metrics logged at step 7400\n",
      "Cache key blocks.0.attn.pattern not found. Available keys: ['hook_embed', 'hook_pos_embed', 'blocks.0.hook_resid_pre', 'blocks.0.attn.hook_q', 'blocks.0.attn.hook_k']\n"
     ]
    },
    {
     "name": "stderr",
     "output_type": "stream",
     "text": [
      " 20%|██        | 60/300 [01:36<06:34,  1.64s/it]"
     ]
    },
    {
     "name": "stdout",
     "output_type": "stream",
     "text": [
      "Cache key blocks.0.attn.pattern not found. Available keys: ['hook_embed', 'hook_pos_embed', 'blocks.0.hook_resid_pre', 'blocks.0.attn.hook_q', 'blocks.0.attn.hook_k']\n",
      "Epoch 60 Samples 8000 Step 124 Training Loss 0.4299646019935608\n",
      "Epoch 60 Validation Loss 0.43734970688819885\n",
      "Cache key blocks.0.attn.pattern not found. Available keys: ['hook_embed', 'hook_pos_embed', 'blocks.0.hook_resid_pre', 'blocks.0.attn.hook_q', 'blocks.0.attn.hook_k']\n"
     ]
    },
    {
     "name": "stderr",
     "output_type": "stream",
     "text": [
      " 20%|██        | 61/300 [01:38<06:09,  1.55s/it]"
     ]
    },
    {
     "name": "stdout",
     "output_type": "stream",
     "text": [
      "Cache key blocks.0.attn.pattern not found. Available keys: ['hook_embed', 'hook_pos_embed', 'blocks.0.hook_resid_pre', 'blocks.0.attn.hook_q', 'blocks.0.attn.hook_k']\n",
      "📊 Metrics logged at step 7600\n",
      "Epoch 61 Validation Loss 0.4204929769039154\n",
      "Cache key blocks.0.attn.pattern not found. Available keys: ['hook_embed', 'hook_pos_embed', 'blocks.0.hook_resid_pre', 'blocks.0.attn.hook_q', 'blocks.0.attn.hook_k']\n",
      "Cache key blocks.0.attn.pattern not found. Available keys: ['hook_embed', 'hook_pos_embed', 'blocks.0.hook_resid_pre', 'blocks.0.attn.hook_q', 'blocks.0.attn.hook_k']\n"
     ]
    },
    {
     "name": "stderr",
     "output_type": "stream",
     "text": [
      " 21%|██        | 62/300 [01:39<06:24,  1.62s/it]"
     ]
    },
    {
     "name": "stdout",
     "output_type": "stream",
     "text": [
      "Cache key blocks.0.attn.pattern not found. Available keys: ['hook_embed', 'hook_pos_embed', 'blocks.0.hook_resid_pre', 'blocks.0.attn.hook_q', 'blocks.0.attn.hook_k']\n",
      "Epoch 62 Validation Loss 0.4152931571006775\n",
      "Cache key blocks.0.attn.pattern not found. Available keys: ['hook_embed', 'hook_pos_embed', 'blocks.0.hook_resid_pre', 'blocks.0.attn.hook_q', 'blocks.0.attn.hook_k']\n",
      "📊 Metrics logged at step 7800\n"
     ]
    },
    {
     "name": "stderr",
     "output_type": "stream",
     "text": [
      " 21%|██        | 63/300 [01:41<06:03,  1.53s/it]"
     ]
    },
    {
     "name": "stdout",
     "output_type": "stream",
     "text": [
      "Cache key blocks.0.attn.pattern not found. Available keys: ['hook_embed', 'hook_pos_embed', 'blocks.0.hook_resid_pre', 'blocks.0.attn.hook_q', 'blocks.0.attn.hook_k']\n",
      "Epoch 63 Validation Loss 0.41360825300216675\n",
      "Cache key blocks.0.attn.pattern not found. Available keys: ['hook_embed', 'hook_pos_embed', 'blocks.0.hook_resid_pre', 'blocks.0.attn.hook_q', 'blocks.0.attn.hook_k']\n",
      "Cache key blocks.0.attn.pattern not found. Available keys: ['hook_embed', 'hook_pos_embed', 'blocks.0.hook_resid_pre', 'blocks.0.attn.hook_q', 'blocks.0.attn.hook_k']\n"
     ]
    },
    {
     "name": "stderr",
     "output_type": "stream",
     "text": [
      " 21%|██▏       | 64/300 [01:43<06:23,  1.63s/it]"
     ]
    },
    {
     "name": "stdout",
     "output_type": "stream",
     "text": [
      "Cache key blocks.0.attn.pattern not found. Available keys: ['hook_embed', 'hook_pos_embed', 'blocks.0.hook_resid_pre', 'blocks.0.attn.hook_q', 'blocks.0.attn.hook_k']\n",
      "📊 Metrics logged at step 8000\n",
      "Epoch 64 Validation Loss 0.4110255241394043\n",
      "Cache key blocks.0.attn.pattern not found. Available keys: ['hook_embed', 'hook_pos_embed', 'blocks.0.hook_resid_pre', 'blocks.0.attn.hook_q', 'blocks.0.attn.hook_k']\n"
     ]
    },
    {
     "name": "stderr",
     "output_type": "stream",
     "text": [
      " 22%|██▏       | 65/300 [01:44<06:03,  1.55s/it]"
     ]
    },
    {
     "name": "stdout",
     "output_type": "stream",
     "text": [
      "Cache key blocks.0.attn.pattern not found. Available keys: ['hook_embed', 'hook_pos_embed', 'blocks.0.hook_resid_pre', 'blocks.0.attn.hook_q', 'blocks.0.attn.hook_k']\n",
      "Epoch 65 Validation Loss 0.41846585273742676\n",
      "Cache key blocks.0.attn.pattern not found. Available keys: ['hook_embed', 'hook_pos_embed', 'blocks.0.hook_resid_pre', 'blocks.0.attn.hook_q', 'blocks.0.attn.hook_k']\n",
      "Cache key blocks.0.attn.pattern not found. Available keys: ['hook_embed', 'hook_pos_embed', 'blocks.0.hook_resid_pre', 'blocks.0.attn.hook_q', 'blocks.0.attn.hook_k']\n",
      "📊 Metrics logged at step 8200\n"
     ]
    },
    {
     "name": "stderr",
     "output_type": "stream",
     "text": [
      " 22%|██▏       | 66/300 [01:46<06:24,  1.64s/it]"
     ]
    },
    {
     "name": "stdout",
     "output_type": "stream",
     "text": [
      "Cache key blocks.0.attn.pattern not found. Available keys: ['hook_embed', 'hook_pos_embed', 'blocks.0.hook_resid_pre', 'blocks.0.attn.hook_q', 'blocks.0.attn.hook_k']\n",
      "Epoch 66 Validation Loss 0.42571988701820374\n",
      "Cache key blocks.0.attn.pattern not found. Available keys: ['hook_embed', 'hook_pos_embed', 'blocks.0.hook_resid_pre', 'blocks.0.attn.hook_q', 'blocks.0.attn.hook_k']\n"
     ]
    },
    {
     "name": "stderr",
     "output_type": "stream",
     "text": [
      " 22%|██▏       | 67/300 [01:47<05:58,  1.54s/it]"
     ]
    },
    {
     "name": "stdout",
     "output_type": "stream",
     "text": [
      "Cache key blocks.0.attn.pattern not found. Available keys: ['hook_embed', 'hook_pos_embed', 'blocks.0.hook_resid_pre', 'blocks.0.attn.hook_q', 'blocks.0.attn.hook_k']\n",
      "Epoch 67 Validation Loss 0.40358108282089233\n",
      "Cache key blocks.0.attn.pattern not found. Available keys: ['hook_embed', 'hook_pos_embed', 'blocks.0.hook_resid_pre', 'blocks.0.attn.hook_q', 'blocks.0.attn.hook_k']\n",
      "📊 Metrics logged at step 8400\n",
      "Cache key blocks.0.attn.pattern not found. Available keys: ['hook_embed', 'hook_pos_embed', 'blocks.0.hook_resid_pre', 'blocks.0.attn.hook_q', 'blocks.0.attn.hook_k']\n"
     ]
    },
    {
     "name": "stderr",
     "output_type": "stream",
     "text": [
      " 23%|██▎       | 68/300 [01:49<06:12,  1.61s/it]"
     ]
    },
    {
     "name": "stdout",
     "output_type": "stream",
     "text": [
      "Cache key blocks.0.attn.pattern not found. Available keys: ['hook_embed', 'hook_pos_embed', 'blocks.0.hook_resid_pre', 'blocks.0.attn.hook_q', 'blocks.0.attn.hook_k']\n",
      "Epoch 68 Validation Loss 0.4031323790550232\n",
      "Cache key blocks.0.attn.pattern not found. Available keys: ['hook_embed', 'hook_pos_embed', 'blocks.0.hook_resid_pre', 'blocks.0.attn.hook_q', 'blocks.0.attn.hook_k']\n"
     ]
    },
    {
     "name": "stderr",
     "output_type": "stream",
     "text": [
      " 23%|██▎       | 69/300 [01:50<05:50,  1.52s/it]"
     ]
    },
    {
     "name": "stdout",
     "output_type": "stream",
     "text": [
      "Cache key blocks.0.attn.pattern not found. Available keys: ['hook_embed', 'hook_pos_embed', 'blocks.0.hook_resid_pre', 'blocks.0.attn.hook_q', 'blocks.0.attn.hook_k']\n",
      "📊 Metrics logged at step 8600\n",
      "Epoch 69 Validation Loss 0.40314599871635437\n",
      "Cache key blocks.0.attn.pattern not found. Available keys: ['hook_embed', 'hook_pos_embed', 'blocks.0.hook_resid_pre', 'blocks.0.attn.hook_q', 'blocks.0.attn.hook_k']\n",
      "Cache key blocks.0.attn.pattern not found. Available keys: ['hook_embed', 'hook_pos_embed', 'blocks.0.hook_resid_pre', 'blocks.0.attn.hook_q', 'blocks.0.attn.hook_k']\n"
     ]
    },
    {
     "name": "stderr",
     "output_type": "stream",
     "text": [
      " 23%|██▎       | 70/300 [01:52<06:08,  1.60s/it]"
     ]
    },
    {
     "name": "stdout",
     "output_type": "stream",
     "text": [
      "Cache key blocks.0.attn.pattern not found. Available keys: ['hook_embed', 'hook_pos_embed', 'blocks.0.hook_resid_pre', 'blocks.0.attn.hook_q', 'blocks.0.attn.hook_k']\n",
      "Epoch 70 Samples 8000 Step 124 Training Loss 0.40289390087127686\n",
      "Epoch 70 Validation Loss 0.40148821473121643\n",
      "Cache key blocks.0.attn.pattern not found. Available keys: ['hook_embed', 'hook_pos_embed', 'blocks.0.hook_resid_pre', 'blocks.0.attn.hook_q', 'blocks.0.attn.hook_k']\n",
      "📊 Metrics logged at step 8800\n"
     ]
    },
    {
     "name": "stderr",
     "output_type": "stream",
     "text": [
      " 24%|██▎       | 71/300 [01:53<05:47,  1.52s/it]"
     ]
    },
    {
     "name": "stdout",
     "output_type": "stream",
     "text": [
      "Cache key blocks.0.attn.pattern not found. Available keys: ['hook_embed', 'hook_pos_embed', 'blocks.0.hook_resid_pre', 'blocks.0.attn.hook_q', 'blocks.0.attn.hook_k']\n",
      "Epoch 71 Validation Loss 0.401115357875824\n",
      "Cache key blocks.0.attn.pattern not found. Available keys: ['hook_embed', 'hook_pos_embed', 'blocks.0.hook_resid_pre', 'blocks.0.attn.hook_q', 'blocks.0.attn.hook_k']\n",
      "Cache key blocks.0.attn.pattern not found. Available keys: ['hook_embed', 'hook_pos_embed', 'blocks.0.hook_resid_pre', 'blocks.0.attn.hook_q', 'blocks.0.attn.hook_k']\n"
     ]
    },
    {
     "name": "stderr",
     "output_type": "stream",
     "text": [
      " 24%|██▍       | 72/300 [01:55<06:05,  1.60s/it]"
     ]
    },
    {
     "name": "stdout",
     "output_type": "stream",
     "text": [
      "Cache key blocks.0.attn.pattern not found. Available keys: ['hook_embed', 'hook_pos_embed', 'blocks.0.hook_resid_pre', 'blocks.0.attn.hook_q', 'blocks.0.attn.hook_k']\n",
      "📊 Metrics logged at step 9000\n",
      "Epoch 72 Validation Loss 0.3906296491622925\n",
      "Cache key blocks.0.attn.pattern not found. Available keys: ['hook_embed', 'hook_pos_embed', 'blocks.0.hook_resid_pre', 'blocks.0.attn.hook_q', 'blocks.0.attn.hook_k']\n"
     ]
    },
    {
     "name": "stderr",
     "output_type": "stream",
     "text": [
      " 24%|██▍       | 73/300 [01:57<06:02,  1.60s/it]"
     ]
    },
    {
     "name": "stdout",
     "output_type": "stream",
     "text": [
      "Cache key blocks.0.attn.pattern not found. Available keys: ['hook_embed', 'hook_pos_embed', 'blocks.0.hook_resid_pre', 'blocks.0.attn.hook_q', 'blocks.0.attn.hook_k']\n",
      "Epoch 73 Validation Loss 0.3924139440059662\n",
      "Cache key blocks.0.attn.pattern not found. Available keys: ['hook_embed', 'hook_pos_embed', 'blocks.0.hook_resid_pre', 'blocks.0.attn.hook_q', 'blocks.0.attn.hook_k']\n",
      "Cache key blocks.0.attn.pattern not found. Available keys: ['hook_embed', 'hook_pos_embed', 'blocks.0.hook_resid_pre', 'blocks.0.attn.hook_q', 'blocks.0.attn.hook_k']\n",
      "📊 Metrics logged at step 9200\n"
     ]
    },
    {
     "name": "stderr",
     "output_type": "stream",
     "text": [
      " 25%|██▍       | 74/300 [01:59<06:23,  1.70s/it]"
     ]
    },
    {
     "name": "stdout",
     "output_type": "stream",
     "text": [
      "Cache key blocks.0.attn.pattern not found. Available keys: ['hook_embed', 'hook_pos_embed', 'blocks.0.hook_resid_pre', 'blocks.0.attn.hook_q', 'blocks.0.attn.hook_k']\n",
      "Epoch 74 Validation Loss 0.38747483491897583\n",
      "Cache key blocks.0.attn.pattern not found. Available keys: ['hook_embed', 'hook_pos_embed', 'blocks.0.hook_resid_pre', 'blocks.0.attn.hook_q', 'blocks.0.attn.hook_k']\n"
     ]
    },
    {
     "name": "stderr",
     "output_type": "stream",
     "text": [
      " 25%|██▌       | 75/300 [02:00<05:59,  1.60s/it]"
     ]
    },
    {
     "name": "stdout",
     "output_type": "stream",
     "text": [
      "Cache key blocks.0.attn.pattern not found. Available keys: ['hook_embed', 'hook_pos_embed', 'blocks.0.hook_resid_pre', 'blocks.0.attn.hook_q', 'blocks.0.attn.hook_k']\n",
      "Epoch 75 Validation Loss 0.3909794092178345\n",
      "Cache key blocks.0.attn.pattern not found. Available keys: ['hook_embed', 'hook_pos_embed', 'blocks.0.hook_resid_pre', 'blocks.0.attn.hook_q', 'blocks.0.attn.hook_k']\n",
      "📊 Metrics logged at step 9400\n",
      "Cache key blocks.0.attn.pattern not found. Available keys: ['hook_embed', 'hook_pos_embed', 'blocks.0.hook_resid_pre', 'blocks.0.attn.hook_q', 'blocks.0.attn.hook_k']\n"
     ]
    },
    {
     "name": "stderr",
     "output_type": "stream",
     "text": [
      " 25%|██▌       | 76/300 [02:02<06:12,  1.66s/it]"
     ]
    },
    {
     "name": "stdout",
     "output_type": "stream",
     "text": [
      "Cache key blocks.0.attn.pattern not found. Available keys: ['hook_embed', 'hook_pos_embed', 'blocks.0.hook_resid_pre', 'blocks.0.attn.hook_q', 'blocks.0.attn.hook_k']\n",
      "Epoch 76 Validation Loss 0.3947256803512573\n",
      "Cache key blocks.0.attn.pattern not found. Available keys: ['hook_embed', 'hook_pos_embed', 'blocks.0.hook_resid_pre', 'blocks.0.attn.hook_q', 'blocks.0.attn.hook_k']\n"
     ]
    },
    {
     "name": "stderr",
     "output_type": "stream",
     "text": [
      " 26%|██▌       | 77/300 [02:03<05:48,  1.56s/it]"
     ]
    },
    {
     "name": "stdout",
     "output_type": "stream",
     "text": [
      "Cache key blocks.0.attn.pattern not found. Available keys: ['hook_embed', 'hook_pos_embed', 'blocks.0.hook_resid_pre', 'blocks.0.attn.hook_q', 'blocks.0.attn.hook_k']\n",
      "📊 Metrics logged at step 9600\n",
      "Epoch 77 Validation Loss 0.37948986887931824\n",
      "Cache key blocks.0.attn.pattern not found. Available keys: ['hook_embed', 'hook_pos_embed', 'blocks.0.hook_resid_pre', 'blocks.0.attn.hook_q', 'blocks.0.attn.hook_k']\n",
      "Cache key blocks.0.attn.pattern not found. Available keys: ['hook_embed', 'hook_pos_embed', 'blocks.0.hook_resid_pre', 'blocks.0.attn.hook_q', 'blocks.0.attn.hook_k']\n"
     ]
    },
    {
     "name": "stderr",
     "output_type": "stream",
     "text": [
      " 26%|██▌       | 78/300 [02:05<06:04,  1.64s/it]"
     ]
    },
    {
     "name": "stdout",
     "output_type": "stream",
     "text": [
      "Cache key blocks.0.attn.pattern not found. Available keys: ['hook_embed', 'hook_pos_embed', 'blocks.0.hook_resid_pre', 'blocks.0.attn.hook_q', 'blocks.0.attn.hook_k']\n",
      "Epoch 78 Validation Loss 0.3848342299461365\n",
      "Cache key blocks.0.attn.pattern not found. Available keys: ['hook_embed', 'hook_pos_embed', 'blocks.0.hook_resid_pre', 'blocks.0.attn.hook_q', 'blocks.0.attn.hook_k']\n",
      "📊 Metrics logged at step 9800\n"
     ]
    },
    {
     "name": "stderr",
     "output_type": "stream",
     "text": [
      " 26%|██▋       | 79/300 [02:06<05:47,  1.57s/it]"
     ]
    },
    {
     "name": "stdout",
     "output_type": "stream",
     "text": [
      "Cache key blocks.0.attn.pattern not found. Available keys: ['hook_embed', 'hook_pos_embed', 'blocks.0.hook_resid_pre', 'blocks.0.attn.hook_q', 'blocks.0.attn.hook_k']\n",
      "Epoch 79 Validation Loss 0.3971869945526123\n",
      "Cache key blocks.0.attn.pattern not found. Available keys: ['hook_embed', 'hook_pos_embed', 'blocks.0.hook_resid_pre', 'blocks.0.attn.hook_q', 'blocks.0.attn.hook_k']\n",
      "Cache key blocks.0.attn.pattern not found. Available keys: ['hook_embed', 'hook_pos_embed', 'blocks.0.hook_resid_pre', 'blocks.0.attn.hook_q', 'blocks.0.attn.hook_k']\n"
     ]
    },
    {
     "name": "stderr",
     "output_type": "stream",
     "text": [
      " 27%|██▋       | 80/300 [02:08<06:01,  1.64s/it]"
     ]
    },
    {
     "name": "stdout",
     "output_type": "stream",
     "text": [
      "Cache key blocks.0.attn.pattern not found. Available keys: ['hook_embed', 'hook_pos_embed', 'blocks.0.hook_resid_pre', 'blocks.0.attn.hook_q', 'blocks.0.attn.hook_k']\n",
      "📊 Metrics logged at step 10000\n",
      "Epoch 80 Samples 8000 Step 124 Training Loss 0.37948089838027954\n",
      "Epoch 80 Validation Loss 0.3742160201072693\n",
      "Cache key blocks.0.attn.pattern not found. Available keys: ['hook_embed', 'hook_pos_embed', 'blocks.0.hook_resid_pre', 'blocks.0.attn.hook_q', 'blocks.0.attn.hook_k']\n"
     ]
    },
    {
     "name": "stderr",
     "output_type": "stream",
     "text": [
      " 27%|██▋       | 81/300 [02:10<05:41,  1.56s/it]"
     ]
    },
    {
     "name": "stdout",
     "output_type": "stream",
     "text": [
      "Cache key blocks.0.attn.pattern not found. Available keys: ['hook_embed', 'hook_pos_embed', 'blocks.0.hook_resid_pre', 'blocks.0.attn.hook_q', 'blocks.0.attn.hook_k']\n",
      "Epoch 81 Validation Loss 0.3723221719264984\n",
      "Cache key blocks.0.attn.pattern not found. Available keys: ['hook_embed', 'hook_pos_embed', 'blocks.0.hook_resid_pre', 'blocks.0.attn.hook_q', 'blocks.0.attn.hook_k']\n",
      "Cache key blocks.0.attn.pattern not found. Available keys: ['hook_embed', 'hook_pos_embed', 'blocks.0.hook_resid_pre', 'blocks.0.attn.hook_q', 'blocks.0.attn.hook_k']\n",
      "📊 Metrics logged at step 10200\n"
     ]
    },
    {
     "name": "stderr",
     "output_type": "stream",
     "text": [
      " 27%|██▋       | 82/300 [02:11<05:58,  1.64s/it]"
     ]
    },
    {
     "name": "stdout",
     "output_type": "stream",
     "text": [
      "Cache key blocks.0.attn.pattern not found. Available keys: ['hook_embed', 'hook_pos_embed', 'blocks.0.hook_resid_pre', 'blocks.0.attn.hook_q', 'blocks.0.attn.hook_k']\n",
      "Epoch 82 Validation Loss 0.3707773983478546\n",
      "Cache key blocks.0.attn.pattern not found. Available keys: ['hook_embed', 'hook_pos_embed', 'blocks.0.hook_resid_pre', 'blocks.0.attn.hook_q', 'blocks.0.attn.hook_k']\n"
     ]
    },
    {
     "name": "stderr",
     "output_type": "stream",
     "text": [
      " 28%|██▊       | 83/300 [02:13<05:39,  1.56s/it]"
     ]
    },
    {
     "name": "stdout",
     "output_type": "stream",
     "text": [
      "Cache key blocks.0.attn.pattern not found. Available keys: ['hook_embed', 'hook_pos_embed', 'blocks.0.hook_resid_pre', 'blocks.0.attn.hook_q', 'blocks.0.attn.hook_k']\n",
      "Epoch 83 Validation Loss 0.37006676197052\n",
      "Cache key blocks.0.attn.pattern not found. Available keys: ['hook_embed', 'hook_pos_embed', 'blocks.0.hook_resid_pre', 'blocks.0.attn.hook_q', 'blocks.0.attn.hook_k']\n",
      "📊 Metrics logged at step 10400\n",
      "Cache key blocks.0.attn.pattern not found. Available keys: ['hook_embed', 'hook_pos_embed', 'blocks.0.hook_resid_pre', 'blocks.0.attn.hook_q', 'blocks.0.attn.hook_k']\n"
     ]
    },
    {
     "name": "stderr",
     "output_type": "stream",
     "text": [
      " 28%|██▊       | 84/300 [02:15<05:53,  1.64s/it]"
     ]
    },
    {
     "name": "stdout",
     "output_type": "stream",
     "text": [
      "Cache key blocks.0.attn.pattern not found. Available keys: ['hook_embed', 'hook_pos_embed', 'blocks.0.hook_resid_pre', 'blocks.0.attn.hook_q', 'blocks.0.attn.hook_k']\n",
      "Epoch 84 Validation Loss 0.3680906891822815\n",
      "Cache key blocks.0.attn.pattern not found. Available keys: ['hook_embed', 'hook_pos_embed', 'blocks.0.hook_resid_pre', 'blocks.0.attn.hook_q', 'blocks.0.attn.hook_k']\n"
     ]
    },
    {
     "name": "stderr",
     "output_type": "stream",
     "text": [
      " 28%|██▊       | 85/300 [02:16<05:32,  1.54s/it]"
     ]
    },
    {
     "name": "stdout",
     "output_type": "stream",
     "text": [
      "Cache key blocks.0.attn.pattern not found. Available keys: ['hook_embed', 'hook_pos_embed', 'blocks.0.hook_resid_pre', 'blocks.0.attn.hook_q', 'blocks.0.attn.hook_k']\n",
      "📊 Metrics logged at step 10600\n",
      "Epoch 85 Validation Loss 0.379905104637146\n",
      "Cache key blocks.0.attn.pattern not found. Available keys: ['hook_embed', 'hook_pos_embed', 'blocks.0.hook_resid_pre', 'blocks.0.attn.hook_q', 'blocks.0.attn.hook_k']\n",
      "Cache key blocks.0.attn.pattern not found. Available keys: ['hook_embed', 'hook_pos_embed', 'blocks.0.hook_resid_pre', 'blocks.0.attn.hook_q', 'blocks.0.attn.hook_k']\n"
     ]
    },
    {
     "name": "stderr",
     "output_type": "stream",
     "text": [
      " 29%|██▊       | 86/300 [02:18<05:47,  1.62s/it]"
     ]
    },
    {
     "name": "stdout",
     "output_type": "stream",
     "text": [
      "Cache key blocks.0.attn.pattern not found. Available keys: ['hook_embed', 'hook_pos_embed', 'blocks.0.hook_resid_pre', 'blocks.0.attn.hook_q', 'blocks.0.attn.hook_k']\n",
      "Epoch 86 Validation Loss 0.36650824546813965\n",
      "Cache key blocks.0.attn.pattern not found. Available keys: ['hook_embed', 'hook_pos_embed', 'blocks.0.hook_resid_pre', 'blocks.0.attn.hook_q', 'blocks.0.attn.hook_k']\n",
      "📊 Metrics logged at step 10800\n"
     ]
    },
    {
     "name": "stderr",
     "output_type": "stream",
     "text": [
      " 29%|██▉       | 87/300 [02:19<05:29,  1.54s/it]"
     ]
    },
    {
     "name": "stdout",
     "output_type": "stream",
     "text": [
      "Cache key blocks.0.attn.pattern not found. Available keys: ['hook_embed', 'hook_pos_embed', 'blocks.0.hook_resid_pre', 'blocks.0.attn.hook_q', 'blocks.0.attn.hook_k']\n",
      "Epoch 87 Validation Loss 0.36381253600120544\n",
      "Cache key blocks.0.attn.pattern not found. Available keys: ['hook_embed', 'hook_pos_embed', 'blocks.0.hook_resid_pre', 'blocks.0.attn.hook_q', 'blocks.0.attn.hook_k']\n",
      "Cache key blocks.0.attn.pattern not found. Available keys: ['hook_embed', 'hook_pos_embed', 'blocks.0.hook_resid_pre', 'blocks.0.attn.hook_q', 'blocks.0.attn.hook_k']\n"
     ]
    },
    {
     "name": "stderr",
     "output_type": "stream",
     "text": [
      " 29%|██▉       | 88/300 [02:21<05:45,  1.63s/it]"
     ]
    },
    {
     "name": "stdout",
     "output_type": "stream",
     "text": [
      "Cache key blocks.0.attn.pattern not found. Available keys: ['hook_embed', 'hook_pos_embed', 'blocks.0.hook_resid_pre', 'blocks.0.attn.hook_q', 'blocks.0.attn.hook_k']\n",
      "📊 Metrics logged at step 11000\n",
      "Epoch 88 Validation Loss 0.36360105872154236\n",
      "Cache key blocks.0.attn.pattern not found. Available keys: ['hook_embed', 'hook_pos_embed', 'blocks.0.hook_resid_pre', 'blocks.0.attn.hook_q', 'blocks.0.attn.hook_k']\n"
     ]
    },
    {
     "name": "stderr",
     "output_type": "stream",
     "text": [
      " 30%|██▉       | 89/300 [02:22<05:24,  1.54s/it]"
     ]
    },
    {
     "name": "stdout",
     "output_type": "stream",
     "text": [
      "Cache key blocks.0.attn.pattern not found. Available keys: ['hook_embed', 'hook_pos_embed', 'blocks.0.hook_resid_pre', 'blocks.0.attn.hook_q', 'blocks.0.attn.hook_k']\n",
      "Epoch 89 Validation Loss 0.362372487783432\n",
      "Cache key blocks.0.attn.pattern not found. Available keys: ['hook_embed', 'hook_pos_embed', 'blocks.0.hook_resid_pre', 'blocks.0.attn.hook_q', 'blocks.0.attn.hook_k']\n",
      "Cache key blocks.0.attn.pattern not found. Available keys: ['hook_embed', 'hook_pos_embed', 'blocks.0.hook_resid_pre', 'blocks.0.attn.hook_q', 'blocks.0.attn.hook_k']\n",
      "📊 Metrics logged at step 11200\n"
     ]
    },
    {
     "name": "stderr",
     "output_type": "stream",
     "text": [
      " 30%|███       | 90/300 [02:24<05:44,  1.64s/it]"
     ]
    },
    {
     "name": "stdout",
     "output_type": "stream",
     "text": [
      "Cache key blocks.0.attn.pattern not found. Available keys: ['hook_embed', 'hook_pos_embed', 'blocks.0.hook_resid_pre', 'blocks.0.attn.hook_q', 'blocks.0.attn.hook_k']\n",
      "Epoch 90 Samples 8000 Step 124 Training Loss 0.374891072511673\n",
      "Epoch 90 Validation Loss 0.3670520782470703\n",
      "Cache key blocks.0.attn.pattern not found. Available keys: ['hook_embed', 'hook_pos_embed', 'blocks.0.hook_resid_pre', 'blocks.0.attn.hook_q', 'blocks.0.attn.hook_k']\n"
     ]
    },
    {
     "name": "stderr",
     "output_type": "stream",
     "text": [
      " 30%|███       | 91/300 [02:26<05:28,  1.57s/it]"
     ]
    },
    {
     "name": "stdout",
     "output_type": "stream",
     "text": [
      "Cache key blocks.0.attn.pattern not found. Available keys: ['hook_embed', 'hook_pos_embed', 'blocks.0.hook_resid_pre', 'blocks.0.attn.hook_q', 'blocks.0.attn.hook_k']\n",
      "Epoch 91 Validation Loss 0.3651193380355835\n",
      "Cache key blocks.0.attn.pattern not found. Available keys: ['hook_embed', 'hook_pos_embed', 'blocks.0.hook_resid_pre', 'blocks.0.attn.hook_q', 'blocks.0.attn.hook_k']\n",
      "📊 Metrics logged at step 11400\n",
      "Cache key blocks.0.attn.pattern not found. Available keys: ['hook_embed', 'hook_pos_embed', 'blocks.0.hook_resid_pre', 'blocks.0.attn.hook_q', 'blocks.0.attn.hook_k']\n"
     ]
    },
    {
     "name": "stderr",
     "output_type": "stream",
     "text": [
      " 31%|███       | 92/300 [02:27<05:45,  1.66s/it]"
     ]
    },
    {
     "name": "stdout",
     "output_type": "stream",
     "text": [
      "Cache key blocks.0.attn.pattern not found. Available keys: ['hook_embed', 'hook_pos_embed', 'blocks.0.hook_resid_pre', 'blocks.0.attn.hook_q', 'blocks.0.attn.hook_k']\n",
      "Epoch 92 Validation Loss 0.36061662435531616\n",
      "Cache key blocks.0.attn.pattern not found. Available keys: ['hook_embed', 'hook_pos_embed', 'blocks.0.hook_resid_pre', 'blocks.0.attn.hook_q', 'blocks.0.attn.hook_k']\n"
     ]
    },
    {
     "name": "stderr",
     "output_type": "stream",
     "text": [
      " 31%|███       | 93/300 [02:29<05:26,  1.58s/it]"
     ]
    },
    {
     "name": "stdout",
     "output_type": "stream",
     "text": [
      "Cache key blocks.0.attn.pattern not found. Available keys: ['hook_embed', 'hook_pos_embed', 'blocks.0.hook_resid_pre', 'blocks.0.attn.hook_q', 'blocks.0.attn.hook_k']\n",
      "📊 Metrics logged at step 11600\n",
      "Epoch 93 Validation Loss 0.3617318570613861\n",
      "Cache key blocks.0.attn.pattern not found. Available keys: ['hook_embed', 'hook_pos_embed', 'blocks.0.hook_resid_pre', 'blocks.0.attn.hook_q', 'blocks.0.attn.hook_k']\n",
      "Cache key blocks.0.attn.pattern not found. Available keys: ['hook_embed', 'hook_pos_embed', 'blocks.0.hook_resid_pre', 'blocks.0.attn.hook_q', 'blocks.0.attn.hook_k']\n"
     ]
    },
    {
     "name": "stderr",
     "output_type": "stream",
     "text": [
      " 31%|███▏      | 94/300 [02:31<05:42,  1.66s/it]"
     ]
    },
    {
     "name": "stdout",
     "output_type": "stream",
     "text": [
      "Cache key blocks.0.attn.pattern not found. Available keys: ['hook_embed', 'hook_pos_embed', 'blocks.0.hook_resid_pre', 'blocks.0.attn.hook_q', 'blocks.0.attn.hook_k']\n",
      "Epoch 94 Validation Loss 0.35965871810913086\n",
      "Cache key blocks.0.attn.pattern not found. Available keys: ['hook_embed', 'hook_pos_embed', 'blocks.0.hook_resid_pre', 'blocks.0.attn.hook_q', 'blocks.0.attn.hook_k']\n",
      "📊 Metrics logged at step 11800\n"
     ]
    },
    {
     "name": "stderr",
     "output_type": "stream",
     "text": [
      " 32%|███▏      | 95/300 [02:32<05:23,  1.58s/it]"
     ]
    },
    {
     "name": "stdout",
     "output_type": "stream",
     "text": [
      "Cache key blocks.0.attn.pattern not found. Available keys: ['hook_embed', 'hook_pos_embed', 'blocks.0.hook_resid_pre', 'blocks.0.attn.hook_q', 'blocks.0.attn.hook_k']\n",
      "Epoch 95 Validation Loss 0.3592854142189026\n",
      "Cache key blocks.0.attn.pattern not found. Available keys: ['hook_embed', 'hook_pos_embed', 'blocks.0.hook_resid_pre', 'blocks.0.attn.hook_q', 'blocks.0.attn.hook_k']\n",
      "Cache key blocks.0.attn.pattern not found. Available keys: ['hook_embed', 'hook_pos_embed', 'blocks.0.hook_resid_pre', 'blocks.0.attn.hook_q', 'blocks.0.attn.hook_k']\n"
     ]
    },
    {
     "name": "stderr",
     "output_type": "stream",
     "text": [
      " 32%|███▏      | 96/300 [02:34<05:39,  1.66s/it]"
     ]
    },
    {
     "name": "stdout",
     "output_type": "stream",
     "text": [
      "Cache key blocks.0.attn.pattern not found. Available keys: ['hook_embed', 'hook_pos_embed', 'blocks.0.hook_resid_pre', 'blocks.0.attn.hook_q', 'blocks.0.attn.hook_k']\n",
      "📊 Metrics logged at step 12000\n",
      "Epoch 96 Validation Loss 0.3609273433685303\n",
      "Cache key blocks.0.attn.pattern not found. Available keys: ['hook_embed', 'hook_pos_embed', 'blocks.0.hook_resid_pre', 'blocks.0.attn.hook_q', 'blocks.0.attn.hook_k']\n"
     ]
    },
    {
     "name": "stderr",
     "output_type": "stream",
     "text": [
      " 32%|███▏      | 97/300 [02:35<05:27,  1.61s/it]"
     ]
    },
    {
     "name": "stdout",
     "output_type": "stream",
     "text": [
      "Cache key blocks.0.attn.pattern not found. Available keys: ['hook_embed', 'hook_pos_embed', 'blocks.0.hook_resid_pre', 'blocks.0.attn.hook_q', 'blocks.0.attn.hook_k']\n",
      "Epoch 97 Validation Loss 0.3589400053024292\n",
      "Cache key blocks.0.attn.pattern not found. Available keys: ['hook_embed', 'hook_pos_embed', 'blocks.0.hook_resid_pre', 'blocks.0.attn.hook_q', 'blocks.0.attn.hook_k']\n",
      "Cache key blocks.0.attn.pattern not found. Available keys: ['hook_embed', 'hook_pos_embed', 'blocks.0.hook_resid_pre', 'blocks.0.attn.hook_q', 'blocks.0.attn.hook_k']\n",
      "📊 Metrics logged at step 12200\n"
     ]
    },
    {
     "name": "stderr",
     "output_type": "stream",
     "text": [
      " 33%|███▎      | 98/300 [02:37<05:43,  1.70s/it]"
     ]
    },
    {
     "name": "stdout",
     "output_type": "stream",
     "text": [
      "Cache key blocks.0.attn.pattern not found. Available keys: ['hook_embed', 'hook_pos_embed', 'blocks.0.hook_resid_pre', 'blocks.0.attn.hook_q', 'blocks.0.attn.hook_k']\n",
      "Epoch 98 Validation Loss 0.3612404763698578\n",
      "Cache key blocks.0.attn.pattern not found. Available keys: ['hook_embed', 'hook_pos_embed', 'blocks.0.hook_resid_pre', 'blocks.0.attn.hook_q', 'blocks.0.attn.hook_k']\n"
     ]
    },
    {
     "name": "stderr",
     "output_type": "stream",
     "text": [
      " 33%|███▎      | 99/300 [02:39<05:21,  1.60s/it]"
     ]
    },
    {
     "name": "stdout",
     "output_type": "stream",
     "text": [
      "Cache key blocks.0.attn.pattern not found. Available keys: ['hook_embed', 'hook_pos_embed', 'blocks.0.hook_resid_pre', 'blocks.0.attn.hook_q', 'blocks.0.attn.hook_k']\n",
      "Epoch 99 Validation Loss 0.35883504152297974\n",
      "Cache key blocks.0.attn.pattern not found. Available keys: ['hook_embed', 'hook_pos_embed', 'blocks.0.hook_resid_pre', 'blocks.0.attn.hook_q', 'blocks.0.attn.hook_k']\n",
      "📊 Metrics logged at step 12400\n",
      "Cache key blocks.0.attn.pattern not found. Available keys: ['hook_embed', 'hook_pos_embed', 'blocks.0.hook_resid_pre', 'blocks.0.attn.hook_q', 'blocks.0.attn.hook_k']\n"
     ]
    },
    {
     "name": "stderr",
     "output_type": "stream",
     "text": [
      " 33%|███▎      | 100/300 [02:41<05:34,  1.67s/it]"
     ]
    },
    {
     "name": "stdout",
     "output_type": "stream",
     "text": [
      "Cache key blocks.0.attn.pattern not found. Available keys: ['hook_embed', 'hook_pos_embed', 'blocks.0.hook_resid_pre', 'blocks.0.attn.hook_q', 'blocks.0.attn.hook_k']\n",
      "Epoch 100 Samples 8000 Step 124 Training Loss 0.3569295406341553\n",
      "Epoch 100 Validation Loss 0.35823991894721985\n",
      "Cache key blocks.0.attn.pattern not found. Available keys: ['hook_embed', 'hook_pos_embed', 'blocks.0.hook_resid_pre', 'blocks.0.attn.hook_q', 'blocks.0.attn.hook_k']\n"
     ]
    },
    {
     "name": "stderr",
     "output_type": "stream",
     "text": [
      " 34%|███▎      | 101/300 [02:42<05:15,  1.59s/it]"
     ]
    },
    {
     "name": "stdout",
     "output_type": "stream",
     "text": [
      "Cache key blocks.0.attn.pattern not found. Available keys: ['hook_embed', 'hook_pos_embed', 'blocks.0.hook_resid_pre', 'blocks.0.attn.hook_q', 'blocks.0.attn.hook_k']\n",
      "📊 Metrics logged at step 12600\n",
      "Epoch 101 Validation Loss 0.35921981930732727\n",
      "Cache key blocks.0.attn.pattern not found. Available keys: ['hook_embed', 'hook_pos_embed', 'blocks.0.hook_resid_pre', 'blocks.0.attn.hook_q', 'blocks.0.attn.hook_k']\n",
      "Cache key blocks.0.attn.pattern not found. Available keys: ['hook_embed', 'hook_pos_embed', 'blocks.0.hook_resid_pre', 'blocks.0.attn.hook_q', 'blocks.0.attn.hook_k']\n"
     ]
    },
    {
     "name": "stderr",
     "output_type": "stream",
     "text": [
      " 34%|███▍      | 102/300 [02:44<05:30,  1.67s/it]"
     ]
    },
    {
     "name": "stdout",
     "output_type": "stream",
     "text": [
      "Cache key blocks.0.attn.pattern not found. Available keys: ['hook_embed', 'hook_pos_embed', 'blocks.0.hook_resid_pre', 'blocks.0.attn.hook_q', 'blocks.0.attn.hook_k']\n",
      "Epoch 102 Validation Loss 0.35807138681411743\n",
      "Cache key blocks.0.attn.pattern not found. Available keys: ['hook_embed', 'hook_pos_embed', 'blocks.0.hook_resid_pre', 'blocks.0.attn.hook_q', 'blocks.0.attn.hook_k']\n",
      "📊 Metrics logged at step 12800\n"
     ]
    },
    {
     "name": "stderr",
     "output_type": "stream",
     "text": [
      " 34%|███▍      | 103/300 [02:45<05:11,  1.58s/it]"
     ]
    },
    {
     "name": "stdout",
     "output_type": "stream",
     "text": [
      "Cache key blocks.0.attn.pattern not found. Available keys: ['hook_embed', 'hook_pos_embed', 'blocks.0.hook_resid_pre', 'blocks.0.attn.hook_q', 'blocks.0.attn.hook_k']\n",
      "Epoch 103 Validation Loss 0.35810160636901855\n",
      "Cache key blocks.0.attn.pattern not found. Available keys: ['hook_embed', 'hook_pos_embed', 'blocks.0.hook_resid_pre', 'blocks.0.attn.hook_q', 'blocks.0.attn.hook_k']\n",
      "Cache key blocks.0.attn.pattern not found. Available keys: ['hook_embed', 'hook_pos_embed', 'blocks.0.hook_resid_pre', 'blocks.0.attn.hook_q', 'blocks.0.attn.hook_k']\n"
     ]
    },
    {
     "name": "stderr",
     "output_type": "stream",
     "text": [
      " 35%|███▍      | 104/300 [02:47<05:25,  1.66s/it]"
     ]
    },
    {
     "name": "stdout",
     "output_type": "stream",
     "text": [
      "Cache key blocks.0.attn.pattern not found. Available keys: ['hook_embed', 'hook_pos_embed', 'blocks.0.hook_resid_pre', 'blocks.0.attn.hook_q', 'blocks.0.attn.hook_k']\n",
      "📊 Metrics logged at step 13000\n",
      "Epoch 104 Validation Loss 0.3600252568721771\n",
      "Cache key blocks.0.attn.pattern not found. Available keys: ['hook_embed', 'hook_pos_embed', 'blocks.0.hook_resid_pre', 'blocks.0.attn.hook_q', 'blocks.0.attn.hook_k']\n"
     ]
    },
    {
     "name": "stderr",
     "output_type": "stream",
     "text": [
      " 35%|███▌      | 105/300 [02:48<05:07,  1.58s/it]"
     ]
    },
    {
     "name": "stdout",
     "output_type": "stream",
     "text": [
      "Cache key blocks.0.attn.pattern not found. Available keys: ['hook_embed', 'hook_pos_embed', 'blocks.0.hook_resid_pre', 'blocks.0.attn.hook_q', 'blocks.0.attn.hook_k']\n",
      "Epoch 105 Validation Loss 0.35855627059936523\n",
      "Cache key blocks.0.attn.pattern not found. Available keys: ['hook_embed', 'hook_pos_embed', 'blocks.0.hook_resid_pre', 'blocks.0.attn.hook_q', 'blocks.0.attn.hook_k']\n",
      "Cache key blocks.0.attn.pattern not found. Available keys: ['hook_embed', 'hook_pos_embed', 'blocks.0.hook_resid_pre', 'blocks.0.attn.hook_q', 'blocks.0.attn.hook_k']\n",
      "📊 Metrics logged at step 13200\n"
     ]
    },
    {
     "name": "stderr",
     "output_type": "stream",
     "text": [
      " 35%|███▌      | 106/300 [02:50<05:24,  1.67s/it]"
     ]
    },
    {
     "name": "stdout",
     "output_type": "stream",
     "text": [
      "Cache key blocks.0.attn.pattern not found. Available keys: ['hook_embed', 'hook_pos_embed', 'blocks.0.hook_resid_pre', 'blocks.0.attn.hook_q', 'blocks.0.attn.hook_k']\n",
      "Epoch 106 Validation Loss 0.35753753781318665\n",
      "Cache key blocks.0.attn.pattern not found. Available keys: ['hook_embed', 'hook_pos_embed', 'blocks.0.hook_resid_pre', 'blocks.0.attn.hook_q', 'blocks.0.attn.hook_k']\n"
     ]
    },
    {
     "name": "stderr",
     "output_type": "stream",
     "text": [
      " 36%|███▌      | 107/300 [02:52<05:07,  1.59s/it]"
     ]
    },
    {
     "name": "stdout",
     "output_type": "stream",
     "text": [
      "Cache key blocks.0.attn.pattern not found. Available keys: ['hook_embed', 'hook_pos_embed', 'blocks.0.hook_resid_pre', 'blocks.0.attn.hook_q', 'blocks.0.attn.hook_k']\n",
      "Epoch 107 Validation Loss 0.35790371894836426\n",
      "Cache key blocks.0.attn.pattern not found. Available keys: ['hook_embed', 'hook_pos_embed', 'blocks.0.hook_resid_pre', 'blocks.0.attn.hook_q', 'blocks.0.attn.hook_k']\n",
      "📊 Metrics logged at step 13400\n",
      "Cache key blocks.0.attn.pattern not found. Available keys: ['hook_embed', 'hook_pos_embed', 'blocks.0.hook_resid_pre', 'blocks.0.attn.hook_q', 'blocks.0.attn.hook_k']\n"
     ]
    },
    {
     "name": "stderr",
     "output_type": "stream",
     "text": [
      " 36%|███▌      | 108/300 [02:54<05:20,  1.67s/it]"
     ]
    },
    {
     "name": "stdout",
     "output_type": "stream",
     "text": [
      "Cache key blocks.0.attn.pattern not found. Available keys: ['hook_embed', 'hook_pos_embed', 'blocks.0.hook_resid_pre', 'blocks.0.attn.hook_q', 'blocks.0.attn.hook_k']\n",
      "Epoch 108 Validation Loss 0.3574236035346985\n",
      "Cache key blocks.0.attn.pattern not found. Available keys: ['hook_embed', 'hook_pos_embed', 'blocks.0.hook_resid_pre', 'blocks.0.attn.hook_q', 'blocks.0.attn.hook_k']\n"
     ]
    },
    {
     "name": "stderr",
     "output_type": "stream",
     "text": [
      " 36%|███▋      | 109/300 [02:55<05:04,  1.60s/it]"
     ]
    },
    {
     "name": "stdout",
     "output_type": "stream",
     "text": [
      "Cache key blocks.0.attn.pattern not found. Available keys: ['hook_embed', 'hook_pos_embed', 'blocks.0.hook_resid_pre', 'blocks.0.attn.hook_q', 'blocks.0.attn.hook_k']\n",
      "📊 Metrics logged at step 13600\n",
      "Epoch 109 Validation Loss 0.3577114939689636\n",
      "Cache key blocks.0.attn.pattern not found. Available keys: ['hook_embed', 'hook_pos_embed', 'blocks.0.hook_resid_pre', 'blocks.0.attn.hook_q', 'blocks.0.attn.hook_k']\n",
      "Cache key blocks.0.attn.pattern not found. Available keys: ['hook_embed', 'hook_pos_embed', 'blocks.0.hook_resid_pre', 'blocks.0.attn.hook_q', 'blocks.0.attn.hook_k']\n"
     ]
    },
    {
     "name": "stderr",
     "output_type": "stream",
     "text": [
      " 37%|███▋      | 110/300 [02:57<05:18,  1.68s/it]"
     ]
    },
    {
     "name": "stdout",
     "output_type": "stream",
     "text": [
      "Cache key blocks.0.attn.pattern not found. Available keys: ['hook_embed', 'hook_pos_embed', 'blocks.0.hook_resid_pre', 'blocks.0.attn.hook_q', 'blocks.0.attn.hook_k']\n",
      "Epoch 110 Samples 8000 Step 124 Training Loss 0.35116010904312134\n",
      "Epoch 110 Validation Loss 0.3589990735054016\n",
      "Cache key blocks.0.attn.pattern not found. Available keys: ['hook_embed', 'hook_pos_embed', 'blocks.0.hook_resid_pre', 'blocks.0.attn.hook_q', 'blocks.0.attn.hook_k']\n",
      "📊 Metrics logged at step 13800\n"
     ]
    },
    {
     "name": "stderr",
     "output_type": "stream",
     "text": [
      " 37%|███▋      | 111/300 [02:58<05:00,  1.59s/it]"
     ]
    },
    {
     "name": "stdout",
     "output_type": "stream",
     "text": [
      "Cache key blocks.0.attn.pattern not found. Available keys: ['hook_embed', 'hook_pos_embed', 'blocks.0.hook_resid_pre', 'blocks.0.attn.hook_q', 'blocks.0.attn.hook_k']\n",
      "Epoch 111 Validation Loss 0.3574586808681488\n",
      "Cache key blocks.0.attn.pattern not found. Available keys: ['hook_embed', 'hook_pos_embed', 'blocks.0.hook_resid_pre', 'blocks.0.attn.hook_q', 'blocks.0.attn.hook_k']\n",
      "Cache key blocks.0.attn.pattern not found. Available keys: ['hook_embed', 'hook_pos_embed', 'blocks.0.hook_resid_pre', 'blocks.0.attn.hook_q', 'blocks.0.attn.hook_k']\n"
     ]
    },
    {
     "name": "stderr",
     "output_type": "stream",
     "text": [
      " 37%|███▋      | 112/300 [03:00<05:17,  1.69s/it]"
     ]
    },
    {
     "name": "stdout",
     "output_type": "stream",
     "text": [
      "Cache key blocks.0.attn.pattern not found. Available keys: ['hook_embed', 'hook_pos_embed', 'blocks.0.hook_resid_pre', 'blocks.0.attn.hook_q', 'blocks.0.attn.hook_k']\n",
      "📊 Metrics logged at step 14000\n",
      "Epoch 112 Validation Loss 0.357685923576355\n",
      "Cache key blocks.0.attn.pattern not found. Available keys: ['hook_embed', 'hook_pos_embed', 'blocks.0.hook_resid_pre', 'blocks.0.attn.hook_q', 'blocks.0.attn.hook_k']\n"
     ]
    },
    {
     "name": "stderr",
     "output_type": "stream",
     "text": [
      " 38%|███▊      | 113/300 [03:01<04:57,  1.59s/it]"
     ]
    },
    {
     "name": "stdout",
     "output_type": "stream",
     "text": [
      "Cache key blocks.0.attn.pattern not found. Available keys: ['hook_embed', 'hook_pos_embed', 'blocks.0.hook_resid_pre', 'blocks.0.attn.hook_q', 'blocks.0.attn.hook_k']\n",
      "Epoch 113 Validation Loss 0.35827144980430603\n",
      "Cache key blocks.0.attn.pattern not found. Available keys: ['hook_embed', 'hook_pos_embed', 'blocks.0.hook_resid_pre', 'blocks.0.attn.hook_q', 'blocks.0.attn.hook_k']\n",
      "Cache key blocks.0.attn.pattern not found. Available keys: ['hook_embed', 'hook_pos_embed', 'blocks.0.hook_resid_pre', 'blocks.0.attn.hook_q', 'blocks.0.attn.hook_k']\n",
      "📊 Metrics logged at step 14200\n"
     ]
    },
    {
     "name": "stderr",
     "output_type": "stream",
     "text": [
      " 38%|███▊      | 114/300 [03:03<05:09,  1.67s/it]"
     ]
    },
    {
     "name": "stdout",
     "output_type": "stream",
     "text": [
      "Cache key blocks.0.attn.pattern not found. Available keys: ['hook_embed', 'hook_pos_embed', 'blocks.0.hook_resid_pre', 'blocks.0.attn.hook_q', 'blocks.0.attn.hook_k']\n",
      "Epoch 114 Validation Loss 0.3573269844055176\n",
      "Cache key blocks.0.attn.pattern not found. Available keys: ['hook_embed', 'hook_pos_embed', 'blocks.0.hook_resid_pre', 'blocks.0.attn.hook_q', 'blocks.0.attn.hook_k']\n"
     ]
    },
    {
     "name": "stderr",
     "output_type": "stream",
     "text": [
      " 38%|███▊      | 115/300 [03:05<04:52,  1.58s/it]"
     ]
    },
    {
     "name": "stdout",
     "output_type": "stream",
     "text": [
      "Cache key blocks.0.attn.pattern not found. Available keys: ['hook_embed', 'hook_pos_embed', 'blocks.0.hook_resid_pre', 'blocks.0.attn.hook_q', 'blocks.0.attn.hook_k']\n",
      "Epoch 115 Validation Loss 0.3596501052379608\n",
      "Cache key blocks.0.attn.pattern not found. Available keys: ['hook_embed', 'hook_pos_embed', 'blocks.0.hook_resid_pre', 'blocks.0.attn.hook_q', 'blocks.0.attn.hook_k']\n",
      "📊 Metrics logged at step 14400\n",
      "Cache key blocks.0.attn.pattern not found. Available keys: ['hook_embed', 'hook_pos_embed', 'blocks.0.hook_resid_pre', 'blocks.0.attn.hook_q', 'blocks.0.attn.hook_k']\n"
     ]
    },
    {
     "name": "stderr",
     "output_type": "stream",
     "text": [
      " 39%|███▊      | 116/300 [03:07<05:05,  1.66s/it]"
     ]
    },
    {
     "name": "stdout",
     "output_type": "stream",
     "text": [
      "Cache key blocks.0.attn.pattern not found. Available keys: ['hook_embed', 'hook_pos_embed', 'blocks.0.hook_resid_pre', 'blocks.0.attn.hook_q', 'blocks.0.attn.hook_k']\n",
      "Epoch 116 Validation Loss 0.3582119047641754\n",
      "Cache key blocks.0.attn.pattern not found. Available keys: ['hook_embed', 'hook_pos_embed', 'blocks.0.hook_resid_pre', 'blocks.0.attn.hook_q', 'blocks.0.attn.hook_k']\n"
     ]
    },
    {
     "name": "stderr",
     "output_type": "stream",
     "text": [
      " 39%|███▉      | 117/300 [03:08<04:48,  1.58s/it]"
     ]
    },
    {
     "name": "stdout",
     "output_type": "stream",
     "text": [
      "Cache key blocks.0.attn.pattern not found. Available keys: ['hook_embed', 'hook_pos_embed', 'blocks.0.hook_resid_pre', 'blocks.0.attn.hook_q', 'blocks.0.attn.hook_k']\n",
      "📊 Metrics logged at step 14600\n",
      "Epoch 117 Validation Loss 0.3575041592121124\n",
      "Cache key blocks.0.attn.pattern not found. Available keys: ['hook_embed', 'hook_pos_embed', 'blocks.0.hook_resid_pre', 'blocks.0.attn.hook_q', 'blocks.0.attn.hook_k']\n",
      "Cache key blocks.0.attn.pattern not found. Available keys: ['hook_embed', 'hook_pos_embed', 'blocks.0.hook_resid_pre', 'blocks.0.attn.hook_q', 'blocks.0.attn.hook_k']\n"
     ]
    },
    {
     "name": "stderr",
     "output_type": "stream",
     "text": [
      " 39%|███▉      | 118/300 [03:10<05:02,  1.66s/it]"
     ]
    },
    {
     "name": "stdout",
     "output_type": "stream",
     "text": [
      "Cache key blocks.0.attn.pattern not found. Available keys: ['hook_embed', 'hook_pos_embed', 'blocks.0.hook_resid_pre', 'blocks.0.attn.hook_q', 'blocks.0.attn.hook_k']\n",
      "Epoch 118 Validation Loss 0.3582097291946411\n",
      "Cache key blocks.0.attn.pattern not found. Available keys: ['hook_embed', 'hook_pos_embed', 'blocks.0.hook_resid_pre', 'blocks.0.attn.hook_q', 'blocks.0.attn.hook_k']\n",
      "📊 Metrics logged at step 14800\n"
     ]
    },
    {
     "name": "stderr",
     "output_type": "stream",
     "text": [
      " 40%|███▉      | 119/300 [03:11<04:44,  1.57s/it]"
     ]
    },
    {
     "name": "stdout",
     "output_type": "stream",
     "text": [
      "Cache key blocks.0.attn.pattern not found. Available keys: ['hook_embed', 'hook_pos_embed', 'blocks.0.hook_resid_pre', 'blocks.0.attn.hook_q', 'blocks.0.attn.hook_k']\n",
      "Epoch 119 Validation Loss 0.35715392231941223\n",
      "Cache key blocks.0.attn.pattern not found. Available keys: ['hook_embed', 'hook_pos_embed', 'blocks.0.hook_resid_pre', 'blocks.0.attn.hook_q', 'blocks.0.attn.hook_k']\n",
      "Cache key blocks.0.attn.pattern not found. Available keys: ['hook_embed', 'hook_pos_embed', 'blocks.0.hook_resid_pre', 'blocks.0.attn.hook_q', 'blocks.0.attn.hook_k']\n"
     ]
    },
    {
     "name": "stderr",
     "output_type": "stream",
     "text": [
      " 40%|████      | 120/300 [03:13<05:00,  1.67s/it]"
     ]
    },
    {
     "name": "stdout",
     "output_type": "stream",
     "text": [
      "Cache key blocks.0.attn.pattern not found. Available keys: ['hook_embed', 'hook_pos_embed', 'blocks.0.hook_resid_pre', 'blocks.0.attn.hook_q', 'blocks.0.attn.hook_k']\n",
      "📊 Metrics logged at step 15000\n",
      "Epoch 120 Samples 8000 Step 124 Training Loss 0.3614570200443268\n",
      "Epoch 120 Validation Loss 0.35814541578292847\n",
      "Cache key blocks.0.attn.pattern not found. Available keys: ['hook_embed', 'hook_pos_embed', 'blocks.0.hook_resid_pre', 'blocks.0.attn.hook_q', 'blocks.0.attn.hook_k']\n"
     ]
    },
    {
     "name": "stderr",
     "output_type": "stream",
     "text": [
      " 40%|████      | 121/300 [03:14<04:44,  1.59s/it]"
     ]
    },
    {
     "name": "stdout",
     "output_type": "stream",
     "text": [
      "Cache key blocks.0.attn.pattern not found. Available keys: ['hook_embed', 'hook_pos_embed', 'blocks.0.hook_resid_pre', 'blocks.0.attn.hook_q', 'blocks.0.attn.hook_k']\n",
      "Epoch 121 Validation Loss 0.35763055086135864\n",
      "Cache key blocks.0.attn.pattern not found. Available keys: ['hook_embed', 'hook_pos_embed', 'blocks.0.hook_resid_pre', 'blocks.0.attn.hook_q', 'blocks.0.attn.hook_k']\n",
      "Cache key blocks.0.attn.pattern not found. Available keys: ['hook_embed', 'hook_pos_embed', 'blocks.0.hook_resid_pre', 'blocks.0.attn.hook_q', 'blocks.0.attn.hook_k']\n",
      "📊 Metrics logged at step 15200\n"
     ]
    },
    {
     "name": "stderr",
     "output_type": "stream",
     "text": [
      " 41%|████      | 122/300 [03:16<04:56,  1.67s/it]"
     ]
    },
    {
     "name": "stdout",
     "output_type": "stream",
     "text": [
      "Cache key blocks.0.attn.pattern not found. Available keys: ['hook_embed', 'hook_pos_embed', 'blocks.0.hook_resid_pre', 'blocks.0.attn.hook_q', 'blocks.0.attn.hook_k']\n",
      "Epoch 122 Validation Loss 0.3570435643196106\n",
      "Cache key blocks.0.attn.pattern not found. Available keys: ['hook_embed', 'hook_pos_embed', 'blocks.0.hook_resid_pre', 'blocks.0.attn.hook_q', 'blocks.0.attn.hook_k']\n"
     ]
    },
    {
     "name": "stderr",
     "output_type": "stream",
     "text": [
      " 41%|████      | 123/300 [03:18<04:39,  1.58s/it]"
     ]
    },
    {
     "name": "stdout",
     "output_type": "stream",
     "text": [
      "Cache key blocks.0.attn.pattern not found. Available keys: ['hook_embed', 'hook_pos_embed', 'blocks.0.hook_resid_pre', 'blocks.0.attn.hook_q', 'blocks.0.attn.hook_k']\n",
      "Epoch 123 Validation Loss 0.3592667579650879\n",
      "Cache key blocks.0.attn.pattern not found. Available keys: ['hook_embed', 'hook_pos_embed', 'blocks.0.hook_resid_pre', 'blocks.0.attn.hook_q', 'blocks.0.attn.hook_k']\n",
      "📊 Metrics logged at step 15400\n",
      "Cache key blocks.0.attn.pattern not found. Available keys: ['hook_embed', 'hook_pos_embed', 'blocks.0.hook_resid_pre', 'blocks.0.attn.hook_q', 'blocks.0.attn.hook_k']\n"
     ]
    },
    {
     "name": "stderr",
     "output_type": "stream",
     "text": [
      " 41%|████▏     | 124/300 [03:20<04:51,  1.66s/it]"
     ]
    },
    {
     "name": "stdout",
     "output_type": "stream",
     "text": [
      "Cache key blocks.0.attn.pattern not found. Available keys: ['hook_embed', 'hook_pos_embed', 'blocks.0.hook_resid_pre', 'blocks.0.attn.hook_q', 'blocks.0.attn.hook_k']\n",
      "Epoch 124 Validation Loss 0.3566775321960449\n",
      "Cache key blocks.0.attn.pattern not found. Available keys: ['hook_embed', 'hook_pos_embed', 'blocks.0.hook_resid_pre', 'blocks.0.attn.hook_q', 'blocks.0.attn.hook_k']\n"
     ]
    },
    {
     "name": "stderr",
     "output_type": "stream",
     "text": [
      " 42%|████▏     | 125/300 [03:21<04:35,  1.58s/it]"
     ]
    },
    {
     "name": "stdout",
     "output_type": "stream",
     "text": [
      "Cache key blocks.0.attn.pattern not found. Available keys: ['hook_embed', 'hook_pos_embed', 'blocks.0.hook_resid_pre', 'blocks.0.attn.hook_q', 'blocks.0.attn.hook_k']\n",
      "📊 Metrics logged at step 15600\n",
      "Epoch 125 Validation Loss 0.35699498653411865\n",
      "Cache key blocks.0.attn.pattern not found. Available keys: ['hook_embed', 'hook_pos_embed', 'blocks.0.hook_resid_pre', 'blocks.0.attn.hook_q', 'blocks.0.attn.hook_k']\n",
      "Cache key blocks.0.attn.pattern not found. Available keys: ['hook_embed', 'hook_pos_embed', 'blocks.0.hook_resid_pre', 'blocks.0.attn.hook_q', 'blocks.0.attn.hook_k']\n"
     ]
    },
    {
     "name": "stderr",
     "output_type": "stream",
     "text": [
      " 42%|████▏     | 126/300 [03:23<04:52,  1.68s/it]"
     ]
    },
    {
     "name": "stdout",
     "output_type": "stream",
     "text": [
      "Cache key blocks.0.attn.pattern not found. Available keys: ['hook_embed', 'hook_pos_embed', 'blocks.0.hook_resid_pre', 'blocks.0.attn.hook_q', 'blocks.0.attn.hook_k']\n",
      "Epoch 126 Validation Loss 0.35769641399383545\n",
      "Cache key blocks.0.attn.pattern not found. Available keys: ['hook_embed', 'hook_pos_embed', 'blocks.0.hook_resid_pre', 'blocks.0.attn.hook_q', 'blocks.0.attn.hook_k']\n",
      "📊 Metrics logged at step 15800\n"
     ]
    },
    {
     "name": "stderr",
     "output_type": "stream",
     "text": [
      " 42%|████▏     | 127/300 [03:24<04:37,  1.60s/it]"
     ]
    },
    {
     "name": "stdout",
     "output_type": "stream",
     "text": [
      "Cache key blocks.0.attn.pattern not found. Available keys: ['hook_embed', 'hook_pos_embed', 'blocks.0.hook_resid_pre', 'blocks.0.attn.hook_q', 'blocks.0.attn.hook_k']\n",
      "Epoch 127 Validation Loss 0.35737481713294983\n",
      "Cache key blocks.0.attn.pattern not found. Available keys: ['hook_embed', 'hook_pos_embed', 'blocks.0.hook_resid_pre', 'blocks.0.attn.hook_q', 'blocks.0.attn.hook_k']\n",
      "Cache key blocks.0.attn.pattern not found. Available keys: ['hook_embed', 'hook_pos_embed', 'blocks.0.hook_resid_pre', 'blocks.0.attn.hook_q', 'blocks.0.attn.hook_k']\n"
     ]
    },
    {
     "name": "stderr",
     "output_type": "stream",
     "text": [
      " 43%|████▎     | 128/300 [03:26<04:54,  1.71s/it]"
     ]
    },
    {
     "name": "stdout",
     "output_type": "stream",
     "text": [
      "Cache key blocks.0.attn.pattern not found. Available keys: ['hook_embed', 'hook_pos_embed', 'blocks.0.hook_resid_pre', 'blocks.0.attn.hook_q', 'blocks.0.attn.hook_k']\n",
      "📊 Metrics logged at step 16000\n",
      "Epoch 128 Validation Loss 0.3567323088645935\n",
      "Cache key blocks.0.attn.pattern not found. Available keys: ['hook_embed', 'hook_pos_embed', 'blocks.0.hook_resid_pre', 'blocks.0.attn.hook_q', 'blocks.0.attn.hook_k']\n"
     ]
    },
    {
     "name": "stderr",
     "output_type": "stream",
     "text": [
      " 43%|████▎     | 129/300 [03:28<04:39,  1.64s/it]"
     ]
    },
    {
     "name": "stdout",
     "output_type": "stream",
     "text": [
      "Cache key blocks.0.attn.pattern not found. Available keys: ['hook_embed', 'hook_pos_embed', 'blocks.0.hook_resid_pre', 'blocks.0.attn.hook_q', 'blocks.0.attn.hook_k']\n",
      "Epoch 129 Validation Loss 0.3567744791507721\n",
      "Cache key blocks.0.attn.pattern not found. Available keys: ['hook_embed', 'hook_pos_embed', 'blocks.0.hook_resid_pre', 'blocks.0.attn.hook_q', 'blocks.0.attn.hook_k']\n",
      "Cache key blocks.0.attn.pattern not found. Available keys: ['hook_embed', 'hook_pos_embed', 'blocks.0.hook_resid_pre', 'blocks.0.attn.hook_q', 'blocks.0.attn.hook_k']\n",
      "📊 Metrics logged at step 16200\n"
     ]
    },
    {
     "name": "stderr",
     "output_type": "stream",
     "text": [
      " 43%|████▎     | 130/300 [03:30<04:49,  1.71s/it]"
     ]
    },
    {
     "name": "stdout",
     "output_type": "stream",
     "text": [
      "Cache key blocks.0.attn.pattern not found. Available keys: ['hook_embed', 'hook_pos_embed', 'blocks.0.hook_resid_pre', 'blocks.0.attn.hook_q', 'blocks.0.attn.hook_k']\n",
      "Epoch 130 Samples 8000 Step 124 Training Loss 0.34785473346710205\n",
      "Epoch 130 Validation Loss 0.3567889332771301\n",
      "Cache key blocks.0.attn.pattern not found. Available keys: ['hook_embed', 'hook_pos_embed', 'blocks.0.hook_resid_pre', 'blocks.0.attn.hook_q', 'blocks.0.attn.hook_k']\n"
     ]
    },
    {
     "name": "stderr",
     "output_type": "stream",
     "text": [
      " 44%|████▎     | 131/300 [03:31<04:34,  1.63s/it]"
     ]
    },
    {
     "name": "stdout",
     "output_type": "stream",
     "text": [
      "Cache key blocks.0.attn.pattern not found. Available keys: ['hook_embed', 'hook_pos_embed', 'blocks.0.hook_resid_pre', 'blocks.0.attn.hook_q', 'blocks.0.attn.hook_k']\n",
      "Epoch 131 Validation Loss 0.3566105365753174\n",
      "Cache key blocks.0.attn.pattern not found. Available keys: ['hook_embed', 'hook_pos_embed', 'blocks.0.hook_resid_pre', 'blocks.0.attn.hook_q', 'blocks.0.attn.hook_k']\n",
      "📊 Metrics logged at step 16400\n",
      "Cache key blocks.0.attn.pattern not found. Available keys: ['hook_embed', 'hook_pos_embed', 'blocks.0.hook_resid_pre', 'blocks.0.attn.hook_q', 'blocks.0.attn.hook_k']\n"
     ]
    },
    {
     "name": "stderr",
     "output_type": "stream",
     "text": [
      " 44%|████▍     | 132/300 [03:33<04:45,  1.70s/it]"
     ]
    },
    {
     "name": "stdout",
     "output_type": "stream",
     "text": [
      "Cache key blocks.0.attn.pattern not found. Available keys: ['hook_embed', 'hook_pos_embed', 'blocks.0.hook_resid_pre', 'blocks.0.attn.hook_q', 'blocks.0.attn.hook_k']\n",
      "Epoch 132 Validation Loss 0.3564618229866028\n",
      "Cache key blocks.0.attn.pattern not found. Available keys: ['hook_embed', 'hook_pos_embed', 'blocks.0.hook_resid_pre', 'blocks.0.attn.hook_q', 'blocks.0.attn.hook_k']\n"
     ]
    },
    {
     "name": "stderr",
     "output_type": "stream",
     "text": [
      " 44%|████▍     | 133/300 [03:34<04:26,  1.60s/it]"
     ]
    },
    {
     "name": "stdout",
     "output_type": "stream",
     "text": [
      "Cache key blocks.0.attn.pattern not found. Available keys: ['hook_embed', 'hook_pos_embed', 'blocks.0.hook_resid_pre', 'blocks.0.attn.hook_q', 'blocks.0.attn.hook_k']\n",
      "📊 Metrics logged at step 16600\n",
      "Epoch 133 Validation Loss 0.3564204275608063\n",
      "Cache key blocks.0.attn.pattern not found. Available keys: ['hook_embed', 'hook_pos_embed', 'blocks.0.hook_resid_pre', 'blocks.0.attn.hook_q', 'blocks.0.attn.hook_k']\n",
      "Cache key blocks.0.attn.pattern not found. Available keys: ['hook_embed', 'hook_pos_embed', 'blocks.0.hook_resid_pre', 'blocks.0.attn.hook_q', 'blocks.0.attn.hook_k']\n"
     ]
    },
    {
     "name": "stderr",
     "output_type": "stream",
     "text": [
      " 45%|████▍     | 134/300 [03:36<04:38,  1.68s/it]"
     ]
    },
    {
     "name": "stdout",
     "output_type": "stream",
     "text": [
      "Cache key blocks.0.attn.pattern not found. Available keys: ['hook_embed', 'hook_pos_embed', 'blocks.0.hook_resid_pre', 'blocks.0.attn.hook_q', 'blocks.0.attn.hook_k']\n",
      "Epoch 134 Validation Loss 0.3565554916858673\n",
      "Cache key blocks.0.attn.pattern not found. Available keys: ['hook_embed', 'hook_pos_embed', 'blocks.0.hook_resid_pre', 'blocks.0.attn.hook_q', 'blocks.0.attn.hook_k']\n",
      "📊 Metrics logged at step 16800\n"
     ]
    },
    {
     "name": "stderr",
     "output_type": "stream",
     "text": [
      " 45%|████▌     | 135/300 [03:37<04:22,  1.59s/it]"
     ]
    },
    {
     "name": "stdout",
     "output_type": "stream",
     "text": [
      "Cache key blocks.0.attn.pattern not found. Available keys: ['hook_embed', 'hook_pos_embed', 'blocks.0.hook_resid_pre', 'blocks.0.attn.hook_q', 'blocks.0.attn.hook_k']\n",
      "Epoch 135 Validation Loss 0.3566910922527313\n",
      "Cache key blocks.0.attn.pattern not found. Available keys: ['hook_embed', 'hook_pos_embed', 'blocks.0.hook_resid_pre', 'blocks.0.attn.hook_q', 'blocks.0.attn.hook_k']\n",
      "Cache key blocks.0.attn.pattern not found. Available keys: ['hook_embed', 'hook_pos_embed', 'blocks.0.hook_resid_pre', 'blocks.0.attn.hook_q', 'blocks.0.attn.hook_k']\n"
     ]
    },
    {
     "name": "stderr",
     "output_type": "stream",
     "text": [
      " 45%|████▌     | 136/300 [03:39<04:33,  1.67s/it]"
     ]
    },
    {
     "name": "stdout",
     "output_type": "stream",
     "text": [
      "Cache key blocks.0.attn.pattern not found. Available keys: ['hook_embed', 'hook_pos_embed', 'blocks.0.hook_resid_pre', 'blocks.0.attn.hook_q', 'blocks.0.attn.hook_k']\n",
      "📊 Metrics logged at step 17000\n",
      "Epoch 136 Validation Loss 0.3566647469997406\n",
      "Cache key blocks.0.attn.pattern not found. Available keys: ['hook_embed', 'hook_pos_embed', 'blocks.0.hook_resid_pre', 'blocks.0.attn.hook_q', 'blocks.0.attn.hook_k']\n"
     ]
    },
    {
     "name": "stderr",
     "output_type": "stream",
     "text": [
      " 46%|████▌     | 137/300 [03:41<04:17,  1.58s/it]"
     ]
    },
    {
     "name": "stdout",
     "output_type": "stream",
     "text": [
      "Cache key blocks.0.attn.pattern not found. Available keys: ['hook_embed', 'hook_pos_embed', 'blocks.0.hook_resid_pre', 'blocks.0.attn.hook_q', 'blocks.0.attn.hook_k']\n",
      "Epoch 137 Validation Loss 0.35654783248901367\n",
      "Cache key blocks.0.attn.pattern not found. Available keys: ['hook_embed', 'hook_pos_embed', 'blocks.0.hook_resid_pre', 'blocks.0.attn.hook_q', 'blocks.0.attn.hook_k']\n",
      "Cache key blocks.0.attn.pattern not found. Available keys: ['hook_embed', 'hook_pos_embed', 'blocks.0.hook_resid_pre', 'blocks.0.attn.hook_q', 'blocks.0.attn.hook_k']\n",
      "📊 Metrics logged at step 17200\n"
     ]
    },
    {
     "name": "stderr",
     "output_type": "stream",
     "text": [
      " 46%|████▌     | 138/300 [03:43<04:27,  1.65s/it]"
     ]
    },
    {
     "name": "stdout",
     "output_type": "stream",
     "text": [
      "Cache key blocks.0.attn.pattern not found. Available keys: ['hook_embed', 'hook_pos_embed', 'blocks.0.hook_resid_pre', 'blocks.0.attn.hook_q', 'blocks.0.attn.hook_k']\n",
      "Epoch 138 Validation Loss 0.356380820274353\n",
      "Cache key blocks.0.attn.pattern not found. Available keys: ['hook_embed', 'hook_pos_embed', 'blocks.0.hook_resid_pre', 'blocks.0.attn.hook_q', 'blocks.0.attn.hook_k']\n"
     ]
    },
    {
     "name": "stderr",
     "output_type": "stream",
     "text": [
      " 46%|████▋     | 139/300 [03:44<04:11,  1.56s/it]"
     ]
    },
    {
     "name": "stdout",
     "output_type": "stream",
     "text": [
      "Cache key blocks.0.attn.pattern not found. Available keys: ['hook_embed', 'hook_pos_embed', 'blocks.0.hook_resid_pre', 'blocks.0.attn.hook_q', 'blocks.0.attn.hook_k']\n",
      "Epoch 139 Validation Loss 0.35639655590057373\n",
      "Cache key blocks.0.attn.pattern not found. Available keys: ['hook_embed', 'hook_pos_embed', 'blocks.0.hook_resid_pre', 'blocks.0.attn.hook_q', 'blocks.0.attn.hook_k']\n",
      "📊 Metrics logged at step 17400\n",
      "Cache key blocks.0.attn.pattern not found. Available keys: ['hook_embed', 'hook_pos_embed', 'blocks.0.hook_resid_pre', 'blocks.0.attn.hook_q', 'blocks.0.attn.hook_k']\n"
     ]
    },
    {
     "name": "stderr",
     "output_type": "stream",
     "text": [
      " 47%|████▋     | 140/300 [03:46<04:22,  1.64s/it]"
     ]
    },
    {
     "name": "stdout",
     "output_type": "stream",
     "text": [
      "Cache key blocks.0.attn.pattern not found. Available keys: ['hook_embed', 'hook_pos_embed', 'blocks.0.hook_resid_pre', 'blocks.0.attn.hook_q', 'blocks.0.attn.hook_k']\n",
      "Epoch 140 Samples 8000 Step 124 Training Loss 0.35342854261398315\n",
      "Epoch 140 Validation Loss 0.3565030097961426\n",
      "Cache key blocks.0.attn.pattern not found. Available keys: ['hook_embed', 'hook_pos_embed', 'blocks.0.hook_resid_pre', 'blocks.0.attn.hook_q', 'blocks.0.attn.hook_k']\n"
     ]
    },
    {
     "name": "stderr",
     "output_type": "stream",
     "text": [
      " 47%|████▋     | 141/300 [03:47<04:06,  1.55s/it]"
     ]
    },
    {
     "name": "stdout",
     "output_type": "stream",
     "text": [
      "Cache key blocks.0.attn.pattern not found. Available keys: ['hook_embed', 'hook_pos_embed', 'blocks.0.hook_resid_pre', 'blocks.0.attn.hook_q', 'blocks.0.attn.hook_k']\n",
      "📊 Metrics logged at step 17600\n",
      "Epoch 141 Validation Loss 0.3562680780887604\n",
      "Cache key blocks.0.attn.pattern not found. Available keys: ['hook_embed', 'hook_pos_embed', 'blocks.0.hook_resid_pre', 'blocks.0.attn.hook_q', 'blocks.0.attn.hook_k']\n",
      "Cache key blocks.0.attn.pattern not found. Available keys: ['hook_embed', 'hook_pos_embed', 'blocks.0.hook_resid_pre', 'blocks.0.attn.hook_q', 'blocks.0.attn.hook_k']\n"
     ]
    },
    {
     "name": "stderr",
     "output_type": "stream",
     "text": [
      " 47%|████▋     | 142/300 [03:49<04:19,  1.65s/it]"
     ]
    },
    {
     "name": "stdout",
     "output_type": "stream",
     "text": [
      "Cache key blocks.0.attn.pattern not found. Available keys: ['hook_embed', 'hook_pos_embed', 'blocks.0.hook_resid_pre', 'blocks.0.attn.hook_q', 'blocks.0.attn.hook_k']\n",
      "Epoch 142 Validation Loss 0.356467068195343\n",
      "Cache key blocks.0.attn.pattern not found. Available keys: ['hook_embed', 'hook_pos_embed', 'blocks.0.hook_resid_pre', 'blocks.0.attn.hook_q', 'blocks.0.attn.hook_k']\n",
      "📊 Metrics logged at step 17800\n"
     ]
    },
    {
     "name": "stderr",
     "output_type": "stream",
     "text": [
      " 48%|████▊     | 143/300 [03:50<04:04,  1.56s/it]"
     ]
    },
    {
     "name": "stdout",
     "output_type": "stream",
     "text": [
      "Cache key blocks.0.attn.pattern not found. Available keys: ['hook_embed', 'hook_pos_embed', 'blocks.0.hook_resid_pre', 'blocks.0.attn.hook_q', 'blocks.0.attn.hook_k']\n",
      "Epoch 143 Validation Loss 0.35625478625297546\n",
      "Cache key blocks.0.attn.pattern not found. Available keys: ['hook_embed', 'hook_pos_embed', 'blocks.0.hook_resid_pre', 'blocks.0.attn.hook_q', 'blocks.0.attn.hook_k']\n",
      "Cache key blocks.0.attn.pattern not found. Available keys: ['hook_embed', 'hook_pos_embed', 'blocks.0.hook_resid_pre', 'blocks.0.attn.hook_q', 'blocks.0.attn.hook_k']\n"
     ]
    },
    {
     "name": "stderr",
     "output_type": "stream",
     "text": [
      " 48%|████▊     | 144/300 [03:52<04:20,  1.67s/it]"
     ]
    },
    {
     "name": "stdout",
     "output_type": "stream",
     "text": [
      "Cache key blocks.0.attn.pattern not found. Available keys: ['hook_embed', 'hook_pos_embed', 'blocks.0.hook_resid_pre', 'blocks.0.attn.hook_q', 'blocks.0.attn.hook_k']\n",
      "📊 Metrics logged at step 18000\n",
      "Epoch 144 Validation Loss 0.3594624698162079\n",
      "Cache key blocks.0.attn.pattern not found. Available keys: ['hook_embed', 'hook_pos_embed', 'blocks.0.hook_resid_pre', 'blocks.0.attn.hook_q', 'blocks.0.attn.hook_k']\n"
     ]
    },
    {
     "name": "stderr",
     "output_type": "stream",
     "text": [
      " 48%|████▊     | 145/300 [03:54<04:11,  1.62s/it]"
     ]
    },
    {
     "name": "stdout",
     "output_type": "stream",
     "text": [
      "Cache key blocks.0.attn.pattern not found. Available keys: ['hook_embed', 'hook_pos_embed', 'blocks.0.hook_resid_pre', 'blocks.0.attn.hook_q', 'blocks.0.attn.hook_k']\n",
      "Epoch 145 Validation Loss 0.3562631607055664\n",
      "Cache key blocks.0.attn.pattern not found. Available keys: ['hook_embed', 'hook_pos_embed', 'blocks.0.hook_resid_pre', 'blocks.0.attn.hook_q', 'blocks.0.attn.hook_k']\n",
      "Cache key blocks.0.attn.pattern not found. Available keys: ['hook_embed', 'hook_pos_embed', 'blocks.0.hook_resid_pre', 'blocks.0.attn.hook_q', 'blocks.0.attn.hook_k']\n",
      "📊 Metrics logged at step 18200\n"
     ]
    },
    {
     "name": "stderr",
     "output_type": "stream",
     "text": [
      " 49%|████▊     | 146/300 [03:56<04:20,  1.69s/it]"
     ]
    },
    {
     "name": "stdout",
     "output_type": "stream",
     "text": [
      "Cache key blocks.0.attn.pattern not found. Available keys: ['hook_embed', 'hook_pos_embed', 'blocks.0.hook_resid_pre', 'blocks.0.attn.hook_q', 'blocks.0.attn.hook_k']\n",
      "Epoch 146 Validation Loss 0.3595728278160095\n",
      "Cache key blocks.0.attn.pattern not found. Available keys: ['hook_embed', 'hook_pos_embed', 'blocks.0.hook_resid_pre', 'blocks.0.attn.hook_q', 'blocks.0.attn.hook_k']\n"
     ]
    },
    {
     "name": "stderr",
     "output_type": "stream",
     "text": [
      " 49%|████▉     | 147/300 [03:57<04:03,  1.59s/it]"
     ]
    },
    {
     "name": "stdout",
     "output_type": "stream",
     "text": [
      "Cache key blocks.0.attn.pattern not found. Available keys: ['hook_embed', 'hook_pos_embed', 'blocks.0.hook_resid_pre', 'blocks.0.attn.hook_q', 'blocks.0.attn.hook_k']\n",
      "Epoch 147 Validation Loss 0.35625189542770386\n",
      "Cache key blocks.0.attn.pattern not found. Available keys: ['hook_embed', 'hook_pos_embed', 'blocks.0.hook_resid_pre', 'blocks.0.attn.hook_q', 'blocks.0.attn.hook_k']\n",
      "📊 Metrics logged at step 18400\n",
      "Cache key blocks.0.attn.pattern not found. Available keys: ['hook_embed', 'hook_pos_embed', 'blocks.0.hook_resid_pre', 'blocks.0.attn.hook_q', 'blocks.0.attn.hook_k']\n"
     ]
    },
    {
     "name": "stderr",
     "output_type": "stream",
     "text": [
      " 49%|████▉     | 148/300 [03:59<04:14,  1.67s/it]"
     ]
    },
    {
     "name": "stdout",
     "output_type": "stream",
     "text": [
      "Cache key blocks.0.attn.pattern not found. Available keys: ['hook_embed', 'hook_pos_embed', 'blocks.0.hook_resid_pre', 'blocks.0.attn.hook_q', 'blocks.0.attn.hook_k']\n",
      "Epoch 148 Validation Loss 0.3589647114276886\n",
      "Cache key blocks.0.attn.pattern not found. Available keys: ['hook_embed', 'hook_pos_embed', 'blocks.0.hook_resid_pre', 'blocks.0.attn.hook_q', 'blocks.0.attn.hook_k']\n"
     ]
    },
    {
     "name": "stderr",
     "output_type": "stream",
     "text": [
      " 50%|████▉     | 149/300 [04:00<03:58,  1.58s/it]"
     ]
    },
    {
     "name": "stdout",
     "output_type": "stream",
     "text": [
      "Cache key blocks.0.attn.pattern not found. Available keys: ['hook_embed', 'hook_pos_embed', 'blocks.0.hook_resid_pre', 'blocks.0.attn.hook_q', 'blocks.0.attn.hook_k']\n",
      "📊 Metrics logged at step 18600\n",
      "Epoch 149 Validation Loss 0.356391578912735\n",
      "Cache key blocks.0.attn.pattern not found. Available keys: ['hook_embed', 'hook_pos_embed', 'blocks.0.hook_resid_pre', 'blocks.0.attn.hook_q', 'blocks.0.attn.hook_k']\n",
      "Cache key blocks.0.attn.pattern not found. Available keys: ['hook_embed', 'hook_pos_embed', 'blocks.0.hook_resid_pre', 'blocks.0.attn.hook_q', 'blocks.0.attn.hook_k']\n"
     ]
    },
    {
     "name": "stderr",
     "output_type": "stream",
     "text": [
      " 50%|█████     | 150/300 [04:02<04:09,  1.66s/it]"
     ]
    },
    {
     "name": "stdout",
     "output_type": "stream",
     "text": [
      "Cache key blocks.0.attn.pattern not found. Available keys: ['hook_embed', 'hook_pos_embed', 'blocks.0.hook_resid_pre', 'blocks.0.attn.hook_q', 'blocks.0.attn.hook_k']\n",
      "Epoch 150 Samples 8000 Step 124 Training Loss 0.36016419529914856\n",
      "Epoch 150 Validation Loss 0.356977641582489\n",
      "Cache key blocks.0.attn.pattern not found. Available keys: ['hook_embed', 'hook_pos_embed', 'blocks.0.hook_resid_pre', 'blocks.0.attn.hook_q', 'blocks.0.attn.hook_k']\n",
      "📊 Metrics logged at step 18800\n"
     ]
    },
    {
     "name": "stderr",
     "output_type": "stream",
     "text": [
      " 50%|█████     | 151/300 [04:03<03:54,  1.57s/it]"
     ]
    },
    {
     "name": "stdout",
     "output_type": "stream",
     "text": [
      "Cache key blocks.0.attn.pattern not found. Available keys: ['hook_embed', 'hook_pos_embed', 'blocks.0.hook_resid_pre', 'blocks.0.attn.hook_q', 'blocks.0.attn.hook_k']\n",
      "Epoch 151 Validation Loss 0.35631105303764343\n",
      "Cache key blocks.0.attn.pattern not found. Available keys: ['hook_embed', 'hook_pos_embed', 'blocks.0.hook_resid_pre', 'blocks.0.attn.hook_q', 'blocks.0.attn.hook_k']\n",
      "Cache key blocks.0.attn.pattern not found. Available keys: ['hook_embed', 'hook_pos_embed', 'blocks.0.hook_resid_pre', 'blocks.0.attn.hook_q', 'blocks.0.attn.hook_k']\n"
     ]
    },
    {
     "name": "stderr",
     "output_type": "stream",
     "text": [
      " 51%|█████     | 152/300 [04:05<04:04,  1.65s/it]"
     ]
    },
    {
     "name": "stdout",
     "output_type": "stream",
     "text": [
      "Cache key blocks.0.attn.pattern not found. Available keys: ['hook_embed', 'hook_pos_embed', 'blocks.0.hook_resid_pre', 'blocks.0.attn.hook_q', 'blocks.0.attn.hook_k']\n",
      "📊 Metrics logged at step 19000\n",
      "Epoch 152 Validation Loss 0.3563990592956543\n",
      "Cache key blocks.0.attn.pattern not found. Available keys: ['hook_embed', 'hook_pos_embed', 'blocks.0.hook_resid_pre', 'blocks.0.attn.hook_q', 'blocks.0.attn.hook_k']\n"
     ]
    },
    {
     "name": "stderr",
     "output_type": "stream",
     "text": [
      " 51%|█████     | 153/300 [04:07<03:54,  1.59s/it]"
     ]
    },
    {
     "name": "stdout",
     "output_type": "stream",
     "text": [
      "Cache key blocks.0.attn.pattern not found. Available keys: ['hook_embed', 'hook_pos_embed', 'blocks.0.hook_resid_pre', 'blocks.0.attn.hook_q', 'blocks.0.attn.hook_k']\n",
      "Epoch 153 Validation Loss 0.3584180176258087\n",
      "Cache key blocks.0.attn.pattern not found. Available keys: ['hook_embed', 'hook_pos_embed', 'blocks.0.hook_resid_pre', 'blocks.0.attn.hook_q', 'blocks.0.attn.hook_k']\n",
      "Cache key blocks.0.attn.pattern not found. Available keys: ['hook_embed', 'hook_pos_embed', 'blocks.0.hook_resid_pre', 'blocks.0.attn.hook_q', 'blocks.0.attn.hook_k']\n",
      "📊 Metrics logged at step 19200\n"
     ]
    },
    {
     "name": "stderr",
     "output_type": "stream",
     "text": [
      " 51%|█████▏    | 154/300 [04:09<04:04,  1.67s/it]"
     ]
    },
    {
     "name": "stdout",
     "output_type": "stream",
     "text": [
      "Cache key blocks.0.attn.pattern not found. Available keys: ['hook_embed', 'hook_pos_embed', 'blocks.0.hook_resid_pre', 'blocks.0.attn.hook_q', 'blocks.0.attn.hook_k']\n",
      "Epoch 154 Validation Loss 0.3571656346321106\n",
      "Cache key blocks.0.attn.pattern not found. Available keys: ['hook_embed', 'hook_pos_embed', 'blocks.0.hook_resid_pre', 'blocks.0.attn.hook_q', 'blocks.0.attn.hook_k']\n"
     ]
    },
    {
     "name": "stderr",
     "output_type": "stream",
     "text": [
      " 52%|█████▏    | 155/300 [04:10<03:50,  1.59s/it]"
     ]
    },
    {
     "name": "stdout",
     "output_type": "stream",
     "text": [
      "Cache key blocks.0.attn.pattern not found. Available keys: ['hook_embed', 'hook_pos_embed', 'blocks.0.hook_resid_pre', 'blocks.0.attn.hook_q', 'blocks.0.attn.hook_k']\n",
      "Epoch 155 Validation Loss 0.3562415540218353\n",
      "Cache key blocks.0.attn.pattern not found. Available keys: ['hook_embed', 'hook_pos_embed', 'blocks.0.hook_resid_pre', 'blocks.0.attn.hook_q', 'blocks.0.attn.hook_k']\n",
      "📊 Metrics logged at step 19400\n",
      "Cache key blocks.0.attn.pattern not found. Available keys: ['hook_embed', 'hook_pos_embed', 'blocks.0.hook_resid_pre', 'blocks.0.attn.hook_q', 'blocks.0.attn.hook_k']\n"
     ]
    },
    {
     "name": "stderr",
     "output_type": "stream",
     "text": [
      " 52%|█████▏    | 156/300 [04:12<04:00,  1.67s/it]"
     ]
    },
    {
     "name": "stdout",
     "output_type": "stream",
     "text": [
      "Cache key blocks.0.attn.pattern not found. Available keys: ['hook_embed', 'hook_pos_embed', 'blocks.0.hook_resid_pre', 'blocks.0.attn.hook_q', 'blocks.0.attn.hook_k']\n",
      "Epoch 156 Validation Loss 0.3570348024368286\n",
      "Cache key blocks.0.attn.pattern not found. Available keys: ['hook_embed', 'hook_pos_embed', 'blocks.0.hook_resid_pre', 'blocks.0.attn.hook_q', 'blocks.0.attn.hook_k']\n"
     ]
    },
    {
     "name": "stderr",
     "output_type": "stream",
     "text": [
      " 52%|█████▏    | 157/300 [04:13<03:45,  1.58s/it]"
     ]
    },
    {
     "name": "stdout",
     "output_type": "stream",
     "text": [
      "Cache key blocks.0.attn.pattern not found. Available keys: ['hook_embed', 'hook_pos_embed', 'blocks.0.hook_resid_pre', 'blocks.0.attn.hook_q', 'blocks.0.attn.hook_k']\n",
      "📊 Metrics logged at step 19600\n",
      "Epoch 157 Validation Loss 0.356501966714859\n",
      "Cache key blocks.0.attn.pattern not found. Available keys: ['hook_embed', 'hook_pos_embed', 'blocks.0.hook_resid_pre', 'blocks.0.attn.hook_q', 'blocks.0.attn.hook_k']\n",
      "Cache key blocks.0.attn.pattern not found. Available keys: ['hook_embed', 'hook_pos_embed', 'blocks.0.hook_resid_pre', 'blocks.0.attn.hook_q', 'blocks.0.attn.hook_k']\n"
     ]
    },
    {
     "name": "stderr",
     "output_type": "stream",
     "text": [
      " 53%|█████▎    | 158/300 [04:15<03:57,  1.67s/it]"
     ]
    },
    {
     "name": "stdout",
     "output_type": "stream",
     "text": [
      "Cache key blocks.0.attn.pattern not found. Available keys: ['hook_embed', 'hook_pos_embed', 'blocks.0.hook_resid_pre', 'blocks.0.attn.hook_q', 'blocks.0.attn.hook_k']\n",
      "Epoch 158 Validation Loss 0.35631099343299866\n",
      "Cache key blocks.0.attn.pattern not found. Available keys: ['hook_embed', 'hook_pos_embed', 'blocks.0.hook_resid_pre', 'blocks.0.attn.hook_q', 'blocks.0.attn.hook_k']\n",
      "📊 Metrics logged at step 19800\n"
     ]
    },
    {
     "name": "stderr",
     "output_type": "stream",
     "text": [
      " 53%|█████▎    | 159/300 [04:16<03:43,  1.59s/it]"
     ]
    },
    {
     "name": "stdout",
     "output_type": "stream",
     "text": [
      "Cache key blocks.0.attn.pattern not found. Available keys: ['hook_embed', 'hook_pos_embed', 'blocks.0.hook_resid_pre', 'blocks.0.attn.hook_q', 'blocks.0.attn.hook_k']\n",
      "Epoch 159 Validation Loss 0.3563004434108734\n",
      "Cache key blocks.0.attn.pattern not found. Available keys: ['hook_embed', 'hook_pos_embed', 'blocks.0.hook_resid_pre', 'blocks.0.attn.hook_q', 'blocks.0.attn.hook_k']\n",
      "Cache key blocks.0.attn.pattern not found. Available keys: ['hook_embed', 'hook_pos_embed', 'blocks.0.hook_resid_pre', 'blocks.0.attn.hook_q', 'blocks.0.attn.hook_k']\n"
     ]
    },
    {
     "name": "stderr",
     "output_type": "stream",
     "text": [
      " 53%|█████▎    | 160/300 [04:18<03:51,  1.65s/it]"
     ]
    },
    {
     "name": "stdout",
     "output_type": "stream",
     "text": [
      "Cache key blocks.0.attn.pattern not found. Available keys: ['hook_embed', 'hook_pos_embed', 'blocks.0.hook_resid_pre', 'blocks.0.attn.hook_q', 'blocks.0.attn.hook_k']\n",
      "📊 Metrics logged at step 20000\n",
      "Epoch 160 Samples 8000 Step 124 Training Loss 0.35321542620658875\n",
      "Epoch 160 Validation Loss 0.35687148571014404\n",
      "Cache key blocks.0.attn.pattern not found. Available keys: ['hook_embed', 'hook_pos_embed', 'blocks.0.hook_resid_pre', 'blocks.0.attn.hook_q', 'blocks.0.attn.hook_k']\n"
     ]
    },
    {
     "name": "stderr",
     "output_type": "stream",
     "text": [
      " 54%|█████▎    | 161/300 [04:20<03:41,  1.59s/it]"
     ]
    },
    {
     "name": "stdout",
     "output_type": "stream",
     "text": [
      "Cache key blocks.0.attn.pattern not found. Available keys: ['hook_embed', 'hook_pos_embed', 'blocks.0.hook_resid_pre', 'blocks.0.attn.hook_q', 'blocks.0.attn.hook_k']\n",
      "Epoch 161 Validation Loss 0.35641005635261536\n",
      "Cache key blocks.0.attn.pattern not found. Available keys: ['hook_embed', 'hook_pos_embed', 'blocks.0.hook_resid_pre', 'blocks.0.attn.hook_q', 'blocks.0.attn.hook_k']\n",
      "Cache key blocks.0.attn.pattern not found. Available keys: ['hook_embed', 'hook_pos_embed', 'blocks.0.hook_resid_pre', 'blocks.0.attn.hook_q', 'blocks.0.attn.hook_k']\n",
      "📊 Metrics logged at step 20200\n"
     ]
    },
    {
     "name": "stderr",
     "output_type": "stream",
     "text": [
      " 54%|█████▍    | 162/300 [04:22<03:50,  1.67s/it]"
     ]
    },
    {
     "name": "stdout",
     "output_type": "stream",
     "text": [
      "Cache key blocks.0.attn.pattern not found. Available keys: ['hook_embed', 'hook_pos_embed', 'blocks.0.hook_resid_pre', 'blocks.0.attn.hook_q', 'blocks.0.attn.hook_k']\n",
      "Epoch 162 Validation Loss 0.35627666115760803\n",
      "Cache key blocks.0.attn.pattern not found. Available keys: ['hook_embed', 'hook_pos_embed', 'blocks.0.hook_resid_pre', 'blocks.0.attn.hook_q', 'blocks.0.attn.hook_k']\n"
     ]
    },
    {
     "name": "stderr",
     "output_type": "stream",
     "text": [
      " 54%|█████▍    | 163/300 [04:23<03:40,  1.61s/it]"
     ]
    },
    {
     "name": "stdout",
     "output_type": "stream",
     "text": [
      "Cache key blocks.0.attn.pattern not found. Available keys: ['hook_embed', 'hook_pos_embed', 'blocks.0.hook_resid_pre', 'blocks.0.attn.hook_q', 'blocks.0.attn.hook_k']\n",
      "Epoch 163 Validation Loss 0.35620343685150146\n",
      "Cache key blocks.0.attn.pattern not found. Available keys: ['hook_embed', 'hook_pos_embed', 'blocks.0.hook_resid_pre', 'blocks.0.attn.hook_q', 'blocks.0.attn.hook_k']\n",
      "📊 Metrics logged at step 20400\n",
      "Cache key blocks.0.attn.pattern not found. Available keys: ['hook_embed', 'hook_pos_embed', 'blocks.0.hook_resid_pre', 'blocks.0.attn.hook_q', 'blocks.0.attn.hook_k']\n"
     ]
    },
    {
     "name": "stderr",
     "output_type": "stream",
     "text": [
      " 55%|█████▍    | 164/300 [04:25<03:52,  1.71s/it]"
     ]
    },
    {
     "name": "stdout",
     "output_type": "stream",
     "text": [
      "Cache key blocks.0.attn.pattern not found. Available keys: ['hook_embed', 'hook_pos_embed', 'blocks.0.hook_resid_pre', 'blocks.0.attn.hook_q', 'blocks.0.attn.hook_k']\n",
      "Epoch 164 Validation Loss 0.3561580777168274\n",
      "Cache key blocks.0.attn.pattern not found. Available keys: ['hook_embed', 'hook_pos_embed', 'blocks.0.hook_resid_pre', 'blocks.0.attn.hook_q', 'blocks.0.attn.hook_k']\n"
     ]
    },
    {
     "name": "stderr",
     "output_type": "stream",
     "text": [
      " 55%|█████▌    | 165/300 [04:26<03:37,  1.61s/it]"
     ]
    },
    {
     "name": "stdout",
     "output_type": "stream",
     "text": [
      "Cache key blocks.0.attn.pattern not found. Available keys: ['hook_embed', 'hook_pos_embed', 'blocks.0.hook_resid_pre', 'blocks.0.attn.hook_q', 'blocks.0.attn.hook_k']\n",
      "📊 Metrics logged at step 20600\n",
      "Epoch 165 Validation Loss 0.35616469383239746\n",
      "Cache key blocks.0.attn.pattern not found. Available keys: ['hook_embed', 'hook_pos_embed', 'blocks.0.hook_resid_pre', 'blocks.0.attn.hook_q', 'blocks.0.attn.hook_k']\n",
      "Cache key blocks.0.attn.pattern not found. Available keys: ['hook_embed', 'hook_pos_embed', 'blocks.0.hook_resid_pre', 'blocks.0.attn.hook_q', 'blocks.0.attn.hook_k']\n"
     ]
    },
    {
     "name": "stderr",
     "output_type": "stream",
     "text": [
      " 55%|█████▌    | 166/300 [04:28<03:46,  1.69s/it]"
     ]
    },
    {
     "name": "stdout",
     "output_type": "stream",
     "text": [
      "Cache key blocks.0.attn.pattern not found. Available keys: ['hook_embed', 'hook_pos_embed', 'blocks.0.hook_resid_pre', 'blocks.0.attn.hook_q', 'blocks.0.attn.hook_k']\n",
      "Epoch 166 Validation Loss 0.35637879371643066\n",
      "Cache key blocks.0.attn.pattern not found. Available keys: ['hook_embed', 'hook_pos_embed', 'blocks.0.hook_resid_pre', 'blocks.0.attn.hook_q', 'blocks.0.attn.hook_k']\n",
      "📊 Metrics logged at step 20800\n"
     ]
    },
    {
     "name": "stderr",
     "output_type": "stream",
     "text": [
      " 56%|█████▌    | 167/300 [04:30<03:34,  1.61s/it]"
     ]
    },
    {
     "name": "stdout",
     "output_type": "stream",
     "text": [
      "Cache key blocks.0.attn.pattern not found. Available keys: ['hook_embed', 'hook_pos_embed', 'blocks.0.hook_resid_pre', 'blocks.0.attn.hook_q', 'blocks.0.attn.hook_k']\n",
      "Epoch 167 Validation Loss 0.3562168478965759\n",
      "Cache key blocks.0.attn.pattern not found. Available keys: ['hook_embed', 'hook_pos_embed', 'blocks.0.hook_resid_pre', 'blocks.0.attn.hook_q', 'blocks.0.attn.hook_k']\n",
      "Cache key blocks.0.attn.pattern not found. Available keys: ['hook_embed', 'hook_pos_embed', 'blocks.0.hook_resid_pre', 'blocks.0.attn.hook_q', 'blocks.0.attn.hook_k']\n"
     ]
    },
    {
     "name": "stderr",
     "output_type": "stream",
     "text": [
      " 56%|█████▌    | 168/300 [04:31<03:41,  1.68s/it]"
     ]
    },
    {
     "name": "stdout",
     "output_type": "stream",
     "text": [
      "Cache key blocks.0.attn.pattern not found. Available keys: ['hook_embed', 'hook_pos_embed', 'blocks.0.hook_resid_pre', 'blocks.0.attn.hook_q', 'blocks.0.attn.hook_k']\n",
      "📊 Metrics logged at step 21000\n",
      "Epoch 168 Validation Loss 0.3570159375667572\n",
      "Cache key blocks.0.attn.pattern not found. Available keys: ['hook_embed', 'hook_pos_embed', 'blocks.0.hook_resid_pre', 'blocks.0.attn.hook_q', 'blocks.0.attn.hook_k']\n"
     ]
    },
    {
     "name": "stderr",
     "output_type": "stream",
     "text": [
      " 56%|█████▋    | 169/300 [04:33<03:29,  1.60s/it]"
     ]
    },
    {
     "name": "stdout",
     "output_type": "stream",
     "text": [
      "Cache key blocks.0.attn.pattern not found. Available keys: ['hook_embed', 'hook_pos_embed', 'blocks.0.hook_resid_pre', 'blocks.0.attn.hook_q', 'blocks.0.attn.hook_k']\n",
      "Epoch 169 Validation Loss 0.356462687253952\n",
      "Cache key blocks.0.attn.pattern not found. Available keys: ['hook_embed', 'hook_pos_embed', 'blocks.0.hook_resid_pre', 'blocks.0.attn.hook_q', 'blocks.0.attn.hook_k']\n",
      "Cache key blocks.0.attn.pattern not found. Available keys: ['hook_embed', 'hook_pos_embed', 'blocks.0.hook_resid_pre', 'blocks.0.attn.hook_q', 'blocks.0.attn.hook_k']\n",
      "📊 Metrics logged at step 21200\n"
     ]
    },
    {
     "name": "stderr",
     "output_type": "stream",
     "text": [
      " 57%|█████▋    | 170/300 [04:35<03:36,  1.66s/it]"
     ]
    },
    {
     "name": "stdout",
     "output_type": "stream",
     "text": [
      "Cache key blocks.0.attn.pattern not found. Available keys: ['hook_embed', 'hook_pos_embed', 'blocks.0.hook_resid_pre', 'blocks.0.attn.hook_q', 'blocks.0.attn.hook_k']\n",
      "Epoch 170 Samples 8000 Step 124 Training Loss 0.35413771867752075\n",
      "Epoch 170 Validation Loss 0.35627835988998413\n",
      "Cache key blocks.0.attn.pattern not found. Available keys: ['hook_embed', 'hook_pos_embed', 'blocks.0.hook_resid_pre', 'blocks.0.attn.hook_q', 'blocks.0.attn.hook_k']\n"
     ]
    },
    {
     "name": "stderr",
     "output_type": "stream",
     "text": [
      " 57%|█████▋    | 171/300 [04:36<03:22,  1.57s/it]"
     ]
    },
    {
     "name": "stdout",
     "output_type": "stream",
     "text": [
      "Cache key blocks.0.attn.pattern not found. Available keys: ['hook_embed', 'hook_pos_embed', 'blocks.0.hook_resid_pre', 'blocks.0.attn.hook_q', 'blocks.0.attn.hook_k']\n",
      "Epoch 171 Validation Loss 0.3561060428619385\n",
      "Cache key blocks.0.attn.pattern not found. Available keys: ['hook_embed', 'hook_pos_embed', 'blocks.0.hook_resid_pre', 'blocks.0.attn.hook_q', 'blocks.0.attn.hook_k']\n",
      "📊 Metrics logged at step 21400\n",
      "Cache key blocks.0.attn.pattern not found. Available keys: ['hook_embed', 'hook_pos_embed', 'blocks.0.hook_resid_pre', 'blocks.0.attn.hook_q', 'blocks.0.attn.hook_k']\n"
     ]
    },
    {
     "name": "stderr",
     "output_type": "stream",
     "text": [
      " 57%|█████▋    | 172/300 [04:38<03:31,  1.65s/it]"
     ]
    },
    {
     "name": "stdout",
     "output_type": "stream",
     "text": [
      "Cache key blocks.0.attn.pattern not found. Available keys: ['hook_embed', 'hook_pos_embed', 'blocks.0.hook_resid_pre', 'blocks.0.attn.hook_q', 'blocks.0.attn.hook_k']\n",
      "Epoch 172 Validation Loss 0.356252521276474\n",
      "Cache key blocks.0.attn.pattern not found. Available keys: ['hook_embed', 'hook_pos_embed', 'blocks.0.hook_resid_pre', 'blocks.0.attn.hook_q', 'blocks.0.attn.hook_k']\n"
     ]
    },
    {
     "name": "stderr",
     "output_type": "stream",
     "text": [
      " 58%|█████▊    | 173/300 [04:39<03:21,  1.59s/it]"
     ]
    },
    {
     "name": "stdout",
     "output_type": "stream",
     "text": [
      "Cache key blocks.0.attn.pattern not found. Available keys: ['hook_embed', 'hook_pos_embed', 'blocks.0.hook_resid_pre', 'blocks.0.attn.hook_q', 'blocks.0.attn.hook_k']\n",
      "📊 Metrics logged at step 21600\n",
      "Epoch 173 Validation Loss 0.35694316029548645\n",
      "Cache key blocks.0.attn.pattern not found. Available keys: ['hook_embed', 'hook_pos_embed', 'blocks.0.hook_resid_pre', 'blocks.0.attn.hook_q', 'blocks.0.attn.hook_k']\n",
      "Cache key blocks.0.attn.pattern not found. Available keys: ['hook_embed', 'hook_pos_embed', 'blocks.0.hook_resid_pre', 'blocks.0.attn.hook_q', 'blocks.0.attn.hook_k']\n"
     ]
    },
    {
     "name": "stderr",
     "output_type": "stream",
     "text": [
      " 58%|█████▊    | 174/300 [04:41<03:29,  1.66s/it]"
     ]
    },
    {
     "name": "stdout",
     "output_type": "stream",
     "text": [
      "Cache key blocks.0.attn.pattern not found. Available keys: ['hook_embed', 'hook_pos_embed', 'blocks.0.hook_resid_pre', 'blocks.0.attn.hook_q', 'blocks.0.attn.hook_k']\n",
      "Epoch 174 Validation Loss 0.3565503656864166\n",
      "Cache key blocks.0.attn.pattern not found. Available keys: ['hook_embed', 'hook_pos_embed', 'blocks.0.hook_resid_pre', 'blocks.0.attn.hook_q', 'blocks.0.attn.hook_k']\n",
      "📊 Metrics logged at step 21800\n"
     ]
    },
    {
     "name": "stderr",
     "output_type": "stream",
     "text": [
      " 58%|█████▊    | 175/300 [04:43<03:19,  1.59s/it]"
     ]
    },
    {
     "name": "stdout",
     "output_type": "stream",
     "text": [
      "Cache key blocks.0.attn.pattern not found. Available keys: ['hook_embed', 'hook_pos_embed', 'blocks.0.hook_resid_pre', 'blocks.0.attn.hook_q', 'blocks.0.attn.hook_k']\n",
      "Epoch 175 Validation Loss 0.3562658131122589\n",
      "Cache key blocks.0.attn.pattern not found. Available keys: ['hook_embed', 'hook_pos_embed', 'blocks.0.hook_resid_pre', 'blocks.0.attn.hook_q', 'blocks.0.attn.hook_k']\n",
      "Cache key blocks.0.attn.pattern not found. Available keys: ['hook_embed', 'hook_pos_embed', 'blocks.0.hook_resid_pre', 'blocks.0.attn.hook_q', 'blocks.0.attn.hook_k']\n"
     ]
    },
    {
     "name": "stderr",
     "output_type": "stream",
     "text": [
      " 59%|█████▊    | 176/300 [04:44<03:26,  1.66s/it]"
     ]
    },
    {
     "name": "stdout",
     "output_type": "stream",
     "text": [
      "Cache key blocks.0.attn.pattern not found. Available keys: ['hook_embed', 'hook_pos_embed', 'blocks.0.hook_resid_pre', 'blocks.0.attn.hook_q', 'blocks.0.attn.hook_k']\n",
      "📊 Metrics logged at step 22000\n",
      "Epoch 176 Validation Loss 0.3566092252731323\n",
      "Cache key blocks.0.attn.pattern not found. Available keys: ['hook_embed', 'hook_pos_embed', 'blocks.0.hook_resid_pre', 'blocks.0.attn.hook_q', 'blocks.0.attn.hook_k']\n"
     ]
    },
    {
     "name": "stderr",
     "output_type": "stream",
     "text": [
      " 59%|█████▉    | 177/300 [04:46<03:15,  1.59s/it]"
     ]
    },
    {
     "name": "stdout",
     "output_type": "stream",
     "text": [
      "Cache key blocks.0.attn.pattern not found. Available keys: ['hook_embed', 'hook_pos_embed', 'blocks.0.hook_resid_pre', 'blocks.0.attn.hook_q', 'blocks.0.attn.hook_k']\n",
      "Epoch 177 Validation Loss 0.3569197952747345\n",
      "Cache key blocks.0.attn.pattern not found. Available keys: ['hook_embed', 'hook_pos_embed', 'blocks.0.hook_resid_pre', 'blocks.0.attn.hook_q', 'blocks.0.attn.hook_k']\n",
      "Cache key blocks.0.attn.pattern not found. Available keys: ['hook_embed', 'hook_pos_embed', 'blocks.0.hook_resid_pre', 'blocks.0.attn.hook_q', 'blocks.0.attn.hook_k']\n",
      "📊 Metrics logged at step 22200\n"
     ]
    },
    {
     "name": "stderr",
     "output_type": "stream",
     "text": [
      " 59%|█████▉    | 178/300 [04:48<03:24,  1.68s/it]"
     ]
    },
    {
     "name": "stdout",
     "output_type": "stream",
     "text": [
      "Cache key blocks.0.attn.pattern not found. Available keys: ['hook_embed', 'hook_pos_embed', 'blocks.0.hook_resid_pre', 'blocks.0.attn.hook_q', 'blocks.0.attn.hook_k']\n",
      "Epoch 178 Validation Loss 0.3565298914909363\n",
      "Cache key blocks.0.attn.pattern not found. Available keys: ['hook_embed', 'hook_pos_embed', 'blocks.0.hook_resid_pre', 'blocks.0.attn.hook_q', 'blocks.0.attn.hook_k']\n"
     ]
    },
    {
     "name": "stderr",
     "output_type": "stream",
     "text": [
      " 60%|█████▉    | 179/300 [04:49<03:12,  1.59s/it]"
     ]
    },
    {
     "name": "stdout",
     "output_type": "stream",
     "text": [
      "Cache key blocks.0.attn.pattern not found. Available keys: ['hook_embed', 'hook_pos_embed', 'blocks.0.hook_resid_pre', 'blocks.0.attn.hook_q', 'blocks.0.attn.hook_k']\n",
      "Epoch 179 Validation Loss 0.3563302159309387\n",
      "Cache key blocks.0.attn.pattern not found. Available keys: ['hook_embed', 'hook_pos_embed', 'blocks.0.hook_resid_pre', 'blocks.0.attn.hook_q', 'blocks.0.attn.hook_k']\n",
      "📊 Metrics logged at step 22400\n",
      "Cache key blocks.0.attn.pattern not found. Available keys: ['hook_embed', 'hook_pos_embed', 'blocks.0.hook_resid_pre', 'blocks.0.attn.hook_q', 'blocks.0.attn.hook_k']\n"
     ]
    },
    {
     "name": "stderr",
     "output_type": "stream",
     "text": [
      " 60%|██████    | 180/300 [04:51<03:19,  1.66s/it]"
     ]
    },
    {
     "name": "stdout",
     "output_type": "stream",
     "text": [
      "Cache key blocks.0.attn.pattern not found. Available keys: ['hook_embed', 'hook_pos_embed', 'blocks.0.hook_resid_pre', 'blocks.0.attn.hook_q', 'blocks.0.attn.hook_k']\n",
      "Epoch 180 Samples 8000 Step 124 Training Loss 0.35045403242111206\n",
      "Epoch 180 Validation Loss 0.3566179573535919\n",
      "Cache key blocks.0.attn.pattern not found. Available keys: ['hook_embed', 'hook_pos_embed', 'blocks.0.hook_resid_pre', 'blocks.0.attn.hook_q', 'blocks.0.attn.hook_k']\n"
     ]
    },
    {
     "name": "stderr",
     "output_type": "stream",
     "text": [
      " 60%|██████    | 181/300 [04:52<03:06,  1.57s/it]"
     ]
    },
    {
     "name": "stdout",
     "output_type": "stream",
     "text": [
      "Cache key blocks.0.attn.pattern not found. Available keys: ['hook_embed', 'hook_pos_embed', 'blocks.0.hook_resid_pre', 'blocks.0.attn.hook_q', 'blocks.0.attn.hook_k']\n",
      "📊 Metrics logged at step 22600\n",
      "Epoch 181 Validation Loss 0.3566732704639435\n",
      "Cache key blocks.0.attn.pattern not found. Available keys: ['hook_embed', 'hook_pos_embed', 'blocks.0.hook_resid_pre', 'blocks.0.attn.hook_q', 'blocks.0.attn.hook_k']\n",
      "Cache key blocks.0.attn.pattern not found. Available keys: ['hook_embed', 'hook_pos_embed', 'blocks.0.hook_resid_pre', 'blocks.0.attn.hook_q', 'blocks.0.attn.hook_k']\n"
     ]
    },
    {
     "name": "stderr",
     "output_type": "stream",
     "text": [
      " 61%|██████    | 182/300 [04:54<03:13,  1.64s/it]"
     ]
    },
    {
     "name": "stdout",
     "output_type": "stream",
     "text": [
      "Cache key blocks.0.attn.pattern not found. Available keys: ['hook_embed', 'hook_pos_embed', 'blocks.0.hook_resid_pre', 'blocks.0.attn.hook_q', 'blocks.0.attn.hook_k']\n",
      "Epoch 182 Validation Loss 0.3559889793395996\n",
      "Cache key blocks.0.attn.pattern not found. Available keys: ['hook_embed', 'hook_pos_embed', 'blocks.0.hook_resid_pre', 'blocks.0.attn.hook_q', 'blocks.0.attn.hook_k']\n",
      "📊 Metrics logged at step 22800\n"
     ]
    },
    {
     "name": "stderr",
     "output_type": "stream",
     "text": [
      " 61%|██████    | 183/300 [04:55<03:02,  1.56s/it]"
     ]
    },
    {
     "name": "stdout",
     "output_type": "stream",
     "text": [
      "Cache key blocks.0.attn.pattern not found. Available keys: ['hook_embed', 'hook_pos_embed', 'blocks.0.hook_resid_pre', 'blocks.0.attn.hook_q', 'blocks.0.attn.hook_k']\n",
      "Epoch 183 Validation Loss 0.35620349645614624\n",
      "Cache key blocks.0.attn.pattern not found. Available keys: ['hook_embed', 'hook_pos_embed', 'blocks.0.hook_resid_pre', 'blocks.0.attn.hook_q', 'blocks.0.attn.hook_k']\n",
      "Cache key blocks.0.attn.pattern not found. Available keys: ['hook_embed', 'hook_pos_embed', 'blocks.0.hook_resid_pre', 'blocks.0.attn.hook_q', 'blocks.0.attn.hook_k']\n"
     ]
    },
    {
     "name": "stderr",
     "output_type": "stream",
     "text": [
      " 61%|██████▏   | 184/300 [04:57<03:09,  1.63s/it]"
     ]
    },
    {
     "name": "stdout",
     "output_type": "stream",
     "text": [
      "Cache key blocks.0.attn.pattern not found. Available keys: ['hook_embed', 'hook_pos_embed', 'blocks.0.hook_resid_pre', 'blocks.0.attn.hook_q', 'blocks.0.attn.hook_k']\n",
      "📊 Metrics logged at step 23000\n",
      "Epoch 184 Validation Loss 0.35642319917678833\n",
      "Cache key blocks.0.attn.pattern not found. Available keys: ['hook_embed', 'hook_pos_embed', 'blocks.0.hook_resid_pre', 'blocks.0.attn.hook_q', 'blocks.0.attn.hook_k']\n"
     ]
    },
    {
     "name": "stderr",
     "output_type": "stream",
     "text": [
      " 62%|██████▏   | 185/300 [04:59<02:58,  1.55s/it]"
     ]
    },
    {
     "name": "stdout",
     "output_type": "stream",
     "text": [
      "Cache key blocks.0.attn.pattern not found. Available keys: ['hook_embed', 'hook_pos_embed', 'blocks.0.hook_resid_pre', 'blocks.0.attn.hook_q', 'blocks.0.attn.hook_k']\n",
      "Epoch 185 Validation Loss 0.3563993275165558\n",
      "Cache key blocks.0.attn.pattern not found. Available keys: ['hook_embed', 'hook_pos_embed', 'blocks.0.hook_resid_pre', 'blocks.0.attn.hook_q', 'blocks.0.attn.hook_k']\n",
      "Cache key blocks.0.attn.pattern not found. Available keys: ['hook_embed', 'hook_pos_embed', 'blocks.0.hook_resid_pre', 'blocks.0.attn.hook_q', 'blocks.0.attn.hook_k']\n",
      "📊 Metrics logged at step 23200\n"
     ]
    },
    {
     "name": "stderr",
     "output_type": "stream",
     "text": [
      " 62%|██████▏   | 186/300 [05:00<03:05,  1.63s/it]"
     ]
    },
    {
     "name": "stdout",
     "output_type": "stream",
     "text": [
      "Cache key blocks.0.attn.pattern not found. Available keys: ['hook_embed', 'hook_pos_embed', 'blocks.0.hook_resid_pre', 'blocks.0.attn.hook_q', 'blocks.0.attn.hook_k']\n",
      "Epoch 186 Validation Loss 0.35622215270996094\n",
      "Cache key blocks.0.attn.pattern not found. Available keys: ['hook_embed', 'hook_pos_embed', 'blocks.0.hook_resid_pre', 'blocks.0.attn.hook_q', 'blocks.0.attn.hook_k']\n"
     ]
    },
    {
     "name": "stderr",
     "output_type": "stream",
     "text": [
      " 62%|██████▏   | 187/300 [05:02<02:54,  1.55s/it]"
     ]
    },
    {
     "name": "stdout",
     "output_type": "stream",
     "text": [
      "Cache key blocks.0.attn.pattern not found. Available keys: ['hook_embed', 'hook_pos_embed', 'blocks.0.hook_resid_pre', 'blocks.0.attn.hook_q', 'blocks.0.attn.hook_k']\n",
      "Epoch 187 Validation Loss 0.35640814900398254\n",
      "Cache key blocks.0.attn.pattern not found. Available keys: ['hook_embed', 'hook_pos_embed', 'blocks.0.hook_resid_pre', 'blocks.0.attn.hook_q', 'blocks.0.attn.hook_k']\n",
      "📊 Metrics logged at step 23400\n",
      "Cache key blocks.0.attn.pattern not found. Available keys: ['hook_embed', 'hook_pos_embed', 'blocks.0.hook_resid_pre', 'blocks.0.attn.hook_q', 'blocks.0.attn.hook_k']\n"
     ]
    },
    {
     "name": "stderr",
     "output_type": "stream",
     "text": [
      " 63%|██████▎   | 188/300 [05:04<03:02,  1.63s/it]"
     ]
    },
    {
     "name": "stdout",
     "output_type": "stream",
     "text": [
      "Cache key blocks.0.attn.pattern not found. Available keys: ['hook_embed', 'hook_pos_embed', 'blocks.0.hook_resid_pre', 'blocks.0.attn.hook_q', 'blocks.0.attn.hook_k']\n",
      "Epoch 188 Validation Loss 0.35663098096847534\n",
      "Cache key blocks.0.attn.pattern not found. Available keys: ['hook_embed', 'hook_pos_embed', 'blocks.0.hook_resid_pre', 'blocks.0.attn.hook_q', 'blocks.0.attn.hook_k']\n"
     ]
    },
    {
     "name": "stderr",
     "output_type": "stream",
     "text": [
      " 63%|██████▎   | 189/300 [05:05<02:51,  1.55s/it]"
     ]
    },
    {
     "name": "stdout",
     "output_type": "stream",
     "text": [
      "Cache key blocks.0.attn.pattern not found. Available keys: ['hook_embed', 'hook_pos_embed', 'blocks.0.hook_resid_pre', 'blocks.0.attn.hook_q', 'blocks.0.attn.hook_k']\n",
      "📊 Metrics logged at step 23600\n",
      "Epoch 189 Validation Loss 0.35626915097236633\n",
      "Cache key blocks.0.attn.pattern not found. Available keys: ['hook_embed', 'hook_pos_embed', 'blocks.0.hook_resid_pre', 'blocks.0.attn.hook_q', 'blocks.0.attn.hook_k']\n",
      "Cache key blocks.0.attn.pattern not found. Available keys: ['hook_embed', 'hook_pos_embed', 'blocks.0.hook_resid_pre', 'blocks.0.attn.hook_q', 'blocks.0.attn.hook_k']\n"
     ]
    },
    {
     "name": "stderr",
     "output_type": "stream",
     "text": [
      " 63%|██████▎   | 190/300 [05:07<02:59,  1.63s/it]"
     ]
    },
    {
     "name": "stdout",
     "output_type": "stream",
     "text": [
      "Cache key blocks.0.attn.pattern not found. Available keys: ['hook_embed', 'hook_pos_embed', 'blocks.0.hook_resid_pre', 'blocks.0.attn.hook_q', 'blocks.0.attn.hook_k']\n",
      "Epoch 190 Samples 8000 Step 124 Training Loss 0.34763941168785095\n",
      "Epoch 190 Validation Loss 0.3571590185165405\n",
      "Cache key blocks.0.attn.pattern not found. Available keys: ['hook_embed', 'hook_pos_embed', 'blocks.0.hook_resid_pre', 'blocks.0.attn.hook_q', 'blocks.0.attn.hook_k']\n",
      "📊 Metrics logged at step 23800\n"
     ]
    },
    {
     "name": "stderr",
     "output_type": "stream",
     "text": [
      " 64%|██████▎   | 191/300 [05:08<02:51,  1.57s/it]"
     ]
    },
    {
     "name": "stdout",
     "output_type": "stream",
     "text": [
      "Cache key blocks.0.attn.pattern not found. Available keys: ['hook_embed', 'hook_pos_embed', 'blocks.0.hook_resid_pre', 'blocks.0.attn.hook_q', 'blocks.0.attn.hook_k']\n",
      "Epoch 191 Validation Loss 0.3560667932033539\n",
      "Cache key blocks.0.attn.pattern not found. Available keys: ['hook_embed', 'hook_pos_embed', 'blocks.0.hook_resid_pre', 'blocks.0.attn.hook_q', 'blocks.0.attn.hook_k']\n",
      "Cache key blocks.0.attn.pattern not found. Available keys: ['hook_embed', 'hook_pos_embed', 'blocks.0.hook_resid_pre', 'blocks.0.attn.hook_q', 'blocks.0.attn.hook_k']\n"
     ]
    },
    {
     "name": "stderr",
     "output_type": "stream",
     "text": [
      " 64%|██████▍   | 192/300 [05:10<02:59,  1.66s/it]"
     ]
    },
    {
     "name": "stdout",
     "output_type": "stream",
     "text": [
      "Cache key blocks.0.attn.pattern not found. Available keys: ['hook_embed', 'hook_pos_embed', 'blocks.0.hook_resid_pre', 'blocks.0.attn.hook_q', 'blocks.0.attn.hook_k']\n",
      "📊 Metrics logged at step 24000\n",
      "Epoch 192 Validation Loss 0.35603588819503784\n",
      "Cache key blocks.0.attn.pattern not found. Available keys: ['hook_embed', 'hook_pos_embed', 'blocks.0.hook_resid_pre', 'blocks.0.attn.hook_q', 'blocks.0.attn.hook_k']\n"
     ]
    },
    {
     "name": "stderr",
     "output_type": "stream",
     "text": [
      " 64%|██████▍   | 193/300 [05:12<02:53,  1.62s/it]"
     ]
    },
    {
     "name": "stdout",
     "output_type": "stream",
     "text": [
      "Cache key blocks.0.attn.pattern not found. Available keys: ['hook_embed', 'hook_pos_embed', 'blocks.0.hook_resid_pre', 'blocks.0.attn.hook_q', 'blocks.0.attn.hook_k']\n",
      "Epoch 193 Validation Loss 0.35627633333206177\n",
      "Cache key blocks.0.attn.pattern not found. Available keys: ['hook_embed', 'hook_pos_embed', 'blocks.0.hook_resid_pre', 'blocks.0.attn.hook_q', 'blocks.0.attn.hook_k']\n",
      "Cache key blocks.0.attn.pattern not found. Available keys: ['hook_embed', 'hook_pos_embed', 'blocks.0.hook_resid_pre', 'blocks.0.attn.hook_q', 'blocks.0.attn.hook_k']\n",
      "📊 Metrics logged at step 24200\n"
     ]
    },
    {
     "name": "stderr",
     "output_type": "stream",
     "text": [
      " 65%|██████▍   | 194/300 [05:14<03:00,  1.70s/it]"
     ]
    },
    {
     "name": "stdout",
     "output_type": "stream",
     "text": [
      "Cache key blocks.0.attn.pattern not found. Available keys: ['hook_embed', 'hook_pos_embed', 'blocks.0.hook_resid_pre', 'blocks.0.attn.hook_q', 'blocks.0.attn.hook_k']\n",
      "Epoch 194 Validation Loss 0.35599616169929504\n",
      "Cache key blocks.0.attn.pattern not found. Available keys: ['hook_embed', 'hook_pos_embed', 'blocks.0.hook_resid_pre', 'blocks.0.attn.hook_q', 'blocks.0.attn.hook_k']\n"
     ]
    },
    {
     "name": "stderr",
     "output_type": "stream",
     "text": [
      " 65%|██████▌   | 195/300 [05:15<02:52,  1.64s/it]"
     ]
    },
    {
     "name": "stdout",
     "output_type": "stream",
     "text": [
      "Cache key blocks.0.attn.pattern not found. Available keys: ['hook_embed', 'hook_pos_embed', 'blocks.0.hook_resid_pre', 'blocks.0.attn.hook_q', 'blocks.0.attn.hook_k']\n",
      "Epoch 195 Validation Loss 0.35614117980003357\n",
      "Cache key blocks.0.attn.pattern not found. Available keys: ['hook_embed', 'hook_pos_embed', 'blocks.0.hook_resid_pre', 'blocks.0.attn.hook_q', 'blocks.0.attn.hook_k']\n",
      "📊 Metrics logged at step 24400\n",
      "Cache key blocks.0.attn.pattern not found. Available keys: ['hook_embed', 'hook_pos_embed', 'blocks.0.hook_resid_pre', 'blocks.0.attn.hook_q', 'blocks.0.attn.hook_k']\n"
     ]
    },
    {
     "name": "stderr",
     "output_type": "stream",
     "text": [
      " 65%|██████▌   | 196/300 [05:17<02:56,  1.70s/it]"
     ]
    },
    {
     "name": "stdout",
     "output_type": "stream",
     "text": [
      "Cache key blocks.0.attn.pattern not found. Available keys: ['hook_embed', 'hook_pos_embed', 'blocks.0.hook_resid_pre', 'blocks.0.attn.hook_q', 'blocks.0.attn.hook_k']\n",
      "Epoch 196 Validation Loss 0.35616424679756165\n",
      "Cache key blocks.0.attn.pattern not found. Available keys: ['hook_embed', 'hook_pos_embed', 'blocks.0.hook_resid_pre', 'blocks.0.attn.hook_q', 'blocks.0.attn.hook_k']\n"
     ]
    },
    {
     "name": "stderr",
     "output_type": "stream",
     "text": [
      " 66%|██████▌   | 197/300 [05:18<02:46,  1.61s/it]"
     ]
    },
    {
     "name": "stdout",
     "output_type": "stream",
     "text": [
      "Cache key blocks.0.attn.pattern not found. Available keys: ['hook_embed', 'hook_pos_embed', 'blocks.0.hook_resid_pre', 'blocks.0.attn.hook_q', 'blocks.0.attn.hook_k']\n",
      "📊 Metrics logged at step 24600\n",
      "Epoch 197 Validation Loss 0.35650134086608887\n",
      "Cache key blocks.0.attn.pattern not found. Available keys: ['hook_embed', 'hook_pos_embed', 'blocks.0.hook_resid_pre', 'blocks.0.attn.hook_q', 'blocks.0.attn.hook_k']\n",
      "Cache key blocks.0.attn.pattern not found. Available keys: ['hook_embed', 'hook_pos_embed', 'blocks.0.hook_resid_pre', 'blocks.0.attn.hook_q', 'blocks.0.attn.hook_k']\n"
     ]
    },
    {
     "name": "stderr",
     "output_type": "stream",
     "text": [
      " 66%|██████▌   | 198/300 [05:20<02:51,  1.68s/it]"
     ]
    },
    {
     "name": "stdout",
     "output_type": "stream",
     "text": [
      "Cache key blocks.0.attn.pattern not found. Available keys: ['hook_embed', 'hook_pos_embed', 'blocks.0.hook_resid_pre', 'blocks.0.attn.hook_q', 'blocks.0.attn.hook_k']\n",
      "Epoch 198 Validation Loss 0.3562736213207245\n",
      "Cache key blocks.0.attn.pattern not found. Available keys: ['hook_embed', 'hook_pos_embed', 'blocks.0.hook_resid_pre', 'blocks.0.attn.hook_q', 'blocks.0.attn.hook_k']\n",
      "📊 Metrics logged at step 24800\n"
     ]
    },
    {
     "name": "stderr",
     "output_type": "stream",
     "text": [
      " 66%|██████▋   | 199/300 [05:22<02:43,  1.62s/it]"
     ]
    },
    {
     "name": "stdout",
     "output_type": "stream",
     "text": [
      "Cache key blocks.0.attn.pattern not found. Available keys: ['hook_embed', 'hook_pos_embed', 'blocks.0.hook_resid_pre', 'blocks.0.attn.hook_q', 'blocks.0.attn.hook_k']\n",
      "Epoch 199 Validation Loss 0.3561277687549591\n",
      "Cache key blocks.0.attn.pattern not found. Available keys: ['hook_embed', 'hook_pos_embed', 'blocks.0.hook_resid_pre', 'blocks.0.attn.hook_q', 'blocks.0.attn.hook_k']\n",
      "Cache key blocks.0.attn.pattern not found. Available keys: ['hook_embed', 'hook_pos_embed', 'blocks.0.hook_resid_pre', 'blocks.0.attn.hook_q', 'blocks.0.attn.hook_k']\n"
     ]
    },
    {
     "name": "stderr",
     "output_type": "stream",
     "text": [
      " 67%|██████▋   | 200/300 [05:23<02:50,  1.70s/it]"
     ]
    },
    {
     "name": "stdout",
     "output_type": "stream",
     "text": [
      "Cache key blocks.0.attn.pattern not found. Available keys: ['hook_embed', 'hook_pos_embed', 'blocks.0.hook_resid_pre', 'blocks.0.attn.hook_q', 'blocks.0.attn.hook_k']\n",
      "📊 Metrics logged at step 25000\n",
      "Epoch 200 Samples 8000 Step 124 Training Loss 0.35828953981399536\n",
      "Epoch 200 Validation Loss 0.3562960922718048\n",
      "Cache key blocks.0.attn.pattern not found. Available keys: ['hook_embed', 'hook_pos_embed', 'blocks.0.hook_resid_pre', 'blocks.0.attn.hook_q', 'blocks.0.attn.hook_k']\n"
     ]
    },
    {
     "name": "stderr",
     "output_type": "stream",
     "text": [
      " 67%|██████▋   | 201/300 [05:25<02:38,  1.60s/it]"
     ]
    },
    {
     "name": "stdout",
     "output_type": "stream",
     "text": [
      "Cache key blocks.0.attn.pattern not found. Available keys: ['hook_embed', 'hook_pos_embed', 'blocks.0.hook_resid_pre', 'blocks.0.attn.hook_q', 'blocks.0.attn.hook_k']\n",
      "Epoch 201 Validation Loss 0.3563534915447235\n",
      "Cache key blocks.0.attn.pattern not found. Available keys: ['hook_embed', 'hook_pos_embed', 'blocks.0.hook_resid_pre', 'blocks.0.attn.hook_q', 'blocks.0.attn.hook_k']\n",
      "Cache key blocks.0.attn.pattern not found. Available keys: ['hook_embed', 'hook_pos_embed', 'blocks.0.hook_resid_pre', 'blocks.0.attn.hook_q', 'blocks.0.attn.hook_k']\n",
      "📊 Metrics logged at step 25200\n"
     ]
    },
    {
     "name": "stderr",
     "output_type": "stream",
     "text": [
      " 67%|██████▋   | 202/300 [05:27<02:42,  1.66s/it]"
     ]
    },
    {
     "name": "stdout",
     "output_type": "stream",
     "text": [
      "Cache key blocks.0.attn.pattern not found. Available keys: ['hook_embed', 'hook_pos_embed', 'blocks.0.hook_resid_pre', 'blocks.0.attn.hook_q', 'blocks.0.attn.hook_k']\n",
      "Epoch 202 Validation Loss 0.35602059960365295\n",
      "Cache key blocks.0.attn.pattern not found. Available keys: ['hook_embed', 'hook_pos_embed', 'blocks.0.hook_resid_pre', 'blocks.0.attn.hook_q', 'blocks.0.attn.hook_k']\n"
     ]
    },
    {
     "name": "stderr",
     "output_type": "stream",
     "text": [
      " 68%|██████▊   | 203/300 [05:28<02:32,  1.57s/it]"
     ]
    },
    {
     "name": "stdout",
     "output_type": "stream",
     "text": [
      "Cache key blocks.0.attn.pattern not found. Available keys: ['hook_embed', 'hook_pos_embed', 'blocks.0.hook_resid_pre', 'blocks.0.attn.hook_q', 'blocks.0.attn.hook_k']\n",
      "Epoch 203 Validation Loss 0.3561992943286896\n",
      "Cache key blocks.0.attn.pattern not found. Available keys: ['hook_embed', 'hook_pos_embed', 'blocks.0.hook_resid_pre', 'blocks.0.attn.hook_q', 'blocks.0.attn.hook_k']\n",
      "📊 Metrics logged at step 25400\n",
      "Cache key blocks.0.attn.pattern not found. Available keys: ['hook_embed', 'hook_pos_embed', 'blocks.0.hook_resid_pre', 'blocks.0.attn.hook_q', 'blocks.0.attn.hook_k']\n"
     ]
    },
    {
     "name": "stderr",
     "output_type": "stream",
     "text": [
      " 68%|██████▊   | 204/300 [05:30<02:38,  1.65s/it]"
     ]
    },
    {
     "name": "stdout",
     "output_type": "stream",
     "text": [
      "Cache key blocks.0.attn.pattern not found. Available keys: ['hook_embed', 'hook_pos_embed', 'blocks.0.hook_resid_pre', 'blocks.0.attn.hook_q', 'blocks.0.attn.hook_k']\n",
      "Epoch 204 Validation Loss 0.356404185295105\n",
      "Cache key blocks.0.attn.pattern not found. Available keys: ['hook_embed', 'hook_pos_embed', 'blocks.0.hook_resid_pre', 'blocks.0.attn.hook_q', 'blocks.0.attn.hook_k']\n"
     ]
    },
    {
     "name": "stderr",
     "output_type": "stream",
     "text": [
      " 68%|██████▊   | 205/300 [05:31<02:29,  1.57s/it]"
     ]
    },
    {
     "name": "stdout",
     "output_type": "stream",
     "text": [
      "Cache key blocks.0.attn.pattern not found. Available keys: ['hook_embed', 'hook_pos_embed', 'blocks.0.hook_resid_pre', 'blocks.0.attn.hook_q', 'blocks.0.attn.hook_k']\n",
      "📊 Metrics logged at step 25600\n",
      "Epoch 205 Validation Loss 0.3560158908367157\n",
      "Cache key blocks.0.attn.pattern not found. Available keys: ['hook_embed', 'hook_pos_embed', 'blocks.0.hook_resid_pre', 'blocks.0.attn.hook_q', 'blocks.0.attn.hook_k']\n",
      "Cache key blocks.0.attn.pattern not found. Available keys: ['hook_embed', 'hook_pos_embed', 'blocks.0.hook_resid_pre', 'blocks.0.attn.hook_q', 'blocks.0.attn.hook_k']\n"
     ]
    },
    {
     "name": "stderr",
     "output_type": "stream",
     "text": [
      " 69%|██████▊   | 206/300 [05:33<02:36,  1.66s/it]"
     ]
    },
    {
     "name": "stdout",
     "output_type": "stream",
     "text": [
      "Cache key blocks.0.attn.pattern not found. Available keys: ['hook_embed', 'hook_pos_embed', 'blocks.0.hook_resid_pre', 'blocks.0.attn.hook_q', 'blocks.0.attn.hook_k']\n",
      "Epoch 206 Validation Loss 0.35598859190940857\n",
      "Cache key blocks.0.attn.pattern not found. Available keys: ['hook_embed', 'hook_pos_embed', 'blocks.0.hook_resid_pre', 'blocks.0.attn.hook_q', 'blocks.0.attn.hook_k']\n",
      "📊 Metrics logged at step 25800\n"
     ]
    },
    {
     "name": "stderr",
     "output_type": "stream",
     "text": [
      " 69%|██████▉   | 207/300 [05:34<02:26,  1.58s/it]"
     ]
    },
    {
     "name": "stdout",
     "output_type": "stream",
     "text": [
      "Cache key blocks.0.attn.pattern not found. Available keys: ['hook_embed', 'hook_pos_embed', 'blocks.0.hook_resid_pre', 'blocks.0.attn.hook_q', 'blocks.0.attn.hook_k']\n",
      "Epoch 207 Validation Loss 0.3560309410095215\n",
      "Cache key blocks.0.attn.pattern not found. Available keys: ['hook_embed', 'hook_pos_embed', 'blocks.0.hook_resid_pre', 'blocks.0.attn.hook_q', 'blocks.0.attn.hook_k']\n",
      "Cache key blocks.0.attn.pattern not found. Available keys: ['hook_embed', 'hook_pos_embed', 'blocks.0.hook_resid_pre', 'blocks.0.attn.hook_q', 'blocks.0.attn.hook_k']\n"
     ]
    },
    {
     "name": "stderr",
     "output_type": "stream",
     "text": [
      " 69%|██████▉   | 208/300 [05:36<02:33,  1.67s/it]"
     ]
    },
    {
     "name": "stdout",
     "output_type": "stream",
     "text": [
      "Cache key blocks.0.attn.pattern not found. Available keys: ['hook_embed', 'hook_pos_embed', 'blocks.0.hook_resid_pre', 'blocks.0.attn.hook_q', 'blocks.0.attn.hook_k']\n",
      "📊 Metrics logged at step 26000\n",
      "Epoch 208 Validation Loss 0.3559800982475281\n",
      "Cache key blocks.0.attn.pattern not found. Available keys: ['hook_embed', 'hook_pos_embed', 'blocks.0.hook_resid_pre', 'blocks.0.attn.hook_q', 'blocks.0.attn.hook_k']\n"
     ]
    },
    {
     "name": "stderr",
     "output_type": "stream",
     "text": [
      " 70%|██████▉   | 209/300 [05:38<02:23,  1.58s/it]"
     ]
    },
    {
     "name": "stdout",
     "output_type": "stream",
     "text": [
      "Cache key blocks.0.attn.pattern not found. Available keys: ['hook_embed', 'hook_pos_embed', 'blocks.0.hook_resid_pre', 'blocks.0.attn.hook_q', 'blocks.0.attn.hook_k']\n",
      "Epoch 209 Validation Loss 0.3564174771308899\n",
      "Cache key blocks.0.attn.pattern not found. Available keys: ['hook_embed', 'hook_pos_embed', 'blocks.0.hook_resid_pre', 'blocks.0.attn.hook_q', 'blocks.0.attn.hook_k']\n",
      "Cache key blocks.0.attn.pattern not found. Available keys: ['hook_embed', 'hook_pos_embed', 'blocks.0.hook_resid_pre', 'blocks.0.attn.hook_q', 'blocks.0.attn.hook_k']\n",
      "📊 Metrics logged at step 26200\n"
     ]
    },
    {
     "name": "stderr",
     "output_type": "stream",
     "text": [
      " 70%|███████   | 210/300 [05:40<02:30,  1.67s/it]"
     ]
    },
    {
     "name": "stdout",
     "output_type": "stream",
     "text": [
      "Cache key blocks.0.attn.pattern not found. Available keys: ['hook_embed', 'hook_pos_embed', 'blocks.0.hook_resid_pre', 'blocks.0.attn.hook_q', 'blocks.0.attn.hook_k']\n",
      "Epoch 210 Samples 8000 Step 124 Training Loss 0.3473207950592041\n",
      "Epoch 210 Validation Loss 0.3566235601902008\n",
      "Cache key blocks.0.attn.pattern not found. Available keys: ['hook_embed', 'hook_pos_embed', 'blocks.0.hook_resid_pre', 'blocks.0.attn.hook_q', 'blocks.0.attn.hook_k']\n"
     ]
    },
    {
     "name": "stderr",
     "output_type": "stream",
     "text": [
      " 70%|███████   | 211/300 [05:41<02:23,  1.62s/it]"
     ]
    },
    {
     "name": "stdout",
     "output_type": "stream",
     "text": [
      "Cache key blocks.0.attn.pattern not found. Available keys: ['hook_embed', 'hook_pos_embed', 'blocks.0.hook_resid_pre', 'blocks.0.attn.hook_q', 'blocks.0.attn.hook_k']\n",
      "Epoch 211 Validation Loss 0.3560028374195099\n",
      "Cache key blocks.0.attn.pattern not found. Available keys: ['hook_embed', 'hook_pos_embed', 'blocks.0.hook_resid_pre', 'blocks.0.attn.hook_q', 'blocks.0.attn.hook_k']\n",
      "📊 Metrics logged at step 26400\n",
      "Cache key blocks.0.attn.pattern not found. Available keys: ['hook_embed', 'hook_pos_embed', 'blocks.0.hook_resid_pre', 'blocks.0.attn.hook_q', 'blocks.0.attn.hook_k']\n"
     ]
    },
    {
     "name": "stderr",
     "output_type": "stream",
     "text": [
      " 71%|███████   | 212/300 [05:43<02:28,  1.69s/it]"
     ]
    },
    {
     "name": "stdout",
     "output_type": "stream",
     "text": [
      "Cache key blocks.0.attn.pattern not found. Available keys: ['hook_embed', 'hook_pos_embed', 'blocks.0.hook_resid_pre', 'blocks.0.attn.hook_q', 'blocks.0.attn.hook_k']\n",
      "Epoch 212 Validation Loss 0.3562757074832916\n",
      "Cache key blocks.0.attn.pattern not found. Available keys: ['hook_embed', 'hook_pos_embed', 'blocks.0.hook_resid_pre', 'blocks.0.attn.hook_q', 'blocks.0.attn.hook_k']\n"
     ]
    },
    {
     "name": "stderr",
     "output_type": "stream",
     "text": [
      " 71%|███████   | 213/300 [05:44<02:19,  1.60s/it]"
     ]
    },
    {
     "name": "stdout",
     "output_type": "stream",
     "text": [
      "Cache key blocks.0.attn.pattern not found. Available keys: ['hook_embed', 'hook_pos_embed', 'blocks.0.hook_resid_pre', 'blocks.0.attn.hook_q', 'blocks.0.attn.hook_k']\n",
      "📊 Metrics logged at step 26600\n",
      "Epoch 213 Validation Loss 0.3561238944530487\n",
      "Cache key blocks.0.attn.pattern not found. Available keys: ['hook_embed', 'hook_pos_embed', 'blocks.0.hook_resid_pre', 'blocks.0.attn.hook_q', 'blocks.0.attn.hook_k']\n",
      "Cache key blocks.0.attn.pattern not found. Available keys: ['hook_embed', 'hook_pos_embed', 'blocks.0.hook_resid_pre', 'blocks.0.attn.hook_q', 'blocks.0.attn.hook_k']\n"
     ]
    },
    {
     "name": "stderr",
     "output_type": "stream",
     "text": [
      " 71%|███████▏  | 214/300 [05:46<02:24,  1.68s/it]"
     ]
    },
    {
     "name": "stdout",
     "output_type": "stream",
     "text": [
      "Cache key blocks.0.attn.pattern not found. Available keys: ['hook_embed', 'hook_pos_embed', 'blocks.0.hook_resid_pre', 'blocks.0.attn.hook_q', 'blocks.0.attn.hook_k']\n",
      "Epoch 214 Validation Loss 0.3560003638267517\n",
      "Cache key blocks.0.attn.pattern not found. Available keys: ['hook_embed', 'hook_pos_embed', 'blocks.0.hook_resid_pre', 'blocks.0.attn.hook_q', 'blocks.0.attn.hook_k']\n",
      "📊 Metrics logged at step 26800\n"
     ]
    },
    {
     "name": "stderr",
     "output_type": "stream",
     "text": [
      " 72%|███████▏  | 215/300 [05:48<02:15,  1.59s/it]"
     ]
    },
    {
     "name": "stdout",
     "output_type": "stream",
     "text": [
      "Cache key blocks.0.attn.pattern not found. Available keys: ['hook_embed', 'hook_pos_embed', 'blocks.0.hook_resid_pre', 'blocks.0.attn.hook_q', 'blocks.0.attn.hook_k']\n",
      "Epoch 215 Validation Loss 0.3560775816440582\n",
      "Cache key blocks.0.attn.pattern not found. Available keys: ['hook_embed', 'hook_pos_embed', 'blocks.0.hook_resid_pre', 'blocks.0.attn.hook_q', 'blocks.0.attn.hook_k']\n",
      "Cache key blocks.0.attn.pattern not found. Available keys: ['hook_embed', 'hook_pos_embed', 'blocks.0.hook_resid_pre', 'blocks.0.attn.hook_q', 'blocks.0.attn.hook_k']\n"
     ]
    },
    {
     "name": "stderr",
     "output_type": "stream",
     "text": [
      " 72%|███████▏  | 216/300 [05:49<02:19,  1.66s/it]"
     ]
    },
    {
     "name": "stdout",
     "output_type": "stream",
     "text": [
      "Cache key blocks.0.attn.pattern not found. Available keys: ['hook_embed', 'hook_pos_embed', 'blocks.0.hook_resid_pre', 'blocks.0.attn.hook_q', 'blocks.0.attn.hook_k']\n",
      "📊 Metrics logged at step 27000\n",
      "Epoch 216 Validation Loss 0.3568476736545563\n",
      "Cache key blocks.0.attn.pattern not found. Available keys: ['hook_embed', 'hook_pos_embed', 'blocks.0.hook_resid_pre', 'blocks.0.attn.hook_q', 'blocks.0.attn.hook_k']\n"
     ]
    },
    {
     "name": "stderr",
     "output_type": "stream",
     "text": [
      " 72%|███████▏  | 217/300 [05:51<02:10,  1.57s/it]"
     ]
    },
    {
     "name": "stdout",
     "output_type": "stream",
     "text": [
      "Cache key blocks.0.attn.pattern not found. Available keys: ['hook_embed', 'hook_pos_embed', 'blocks.0.hook_resid_pre', 'blocks.0.attn.hook_q', 'blocks.0.attn.hook_k']\n",
      "Epoch 217 Validation Loss 0.3559751510620117\n",
      "Cache key blocks.0.attn.pattern not found. Available keys: ['hook_embed', 'hook_pos_embed', 'blocks.0.hook_resid_pre', 'blocks.0.attn.hook_q', 'blocks.0.attn.hook_k']\n",
      "Cache key blocks.0.attn.pattern not found. Available keys: ['hook_embed', 'hook_pos_embed', 'blocks.0.hook_resid_pre', 'blocks.0.attn.hook_q', 'blocks.0.attn.hook_k']\n",
      "📊 Metrics logged at step 27200\n"
     ]
    },
    {
     "name": "stderr",
     "output_type": "stream",
     "text": [
      " 73%|███████▎  | 218/300 [05:53<02:14,  1.64s/it]"
     ]
    },
    {
     "name": "stdout",
     "output_type": "stream",
     "text": [
      "Cache key blocks.0.attn.pattern not found. Available keys: ['hook_embed', 'hook_pos_embed', 'blocks.0.hook_resid_pre', 'blocks.0.attn.hook_q', 'blocks.0.attn.hook_k']\n",
      "Epoch 218 Validation Loss 0.3564137816429138\n",
      "Cache key blocks.0.attn.pattern not found. Available keys: ['hook_embed', 'hook_pos_embed', 'blocks.0.hook_resid_pre', 'blocks.0.attn.hook_q', 'blocks.0.attn.hook_k']\n"
     ]
    },
    {
     "name": "stderr",
     "output_type": "stream",
     "text": [
      " 73%|███████▎  | 219/300 [05:54<02:05,  1.55s/it]"
     ]
    },
    {
     "name": "stdout",
     "output_type": "stream",
     "text": [
      "Cache key blocks.0.attn.pattern not found. Available keys: ['hook_embed', 'hook_pos_embed', 'blocks.0.hook_resid_pre', 'blocks.0.attn.hook_q', 'blocks.0.attn.hook_k']\n",
      "Epoch 219 Validation Loss 0.356408953666687\n",
      "Cache key blocks.0.attn.pattern not found. Available keys: ['hook_embed', 'hook_pos_embed', 'blocks.0.hook_resid_pre', 'blocks.0.attn.hook_q', 'blocks.0.attn.hook_k']\n",
      "📊 Metrics logged at step 27400\n",
      "Cache key blocks.0.attn.pattern not found. Available keys: ['hook_embed', 'hook_pos_embed', 'blocks.0.hook_resid_pre', 'blocks.0.attn.hook_q', 'blocks.0.attn.hook_k']\n"
     ]
    },
    {
     "name": "stderr",
     "output_type": "stream",
     "text": [
      " 73%|███████▎  | 220/300 [05:56<02:11,  1.64s/it]"
     ]
    },
    {
     "name": "stdout",
     "output_type": "stream",
     "text": [
      "Cache key blocks.0.attn.pattern not found. Available keys: ['hook_embed', 'hook_pos_embed', 'blocks.0.hook_resid_pre', 'blocks.0.attn.hook_q', 'blocks.0.attn.hook_k']\n",
      "Epoch 220 Samples 8000 Step 124 Training Loss 0.3537839353084564\n",
      "Epoch 220 Validation Loss 0.356014609336853\n",
      "Cache key blocks.0.attn.pattern not found. Available keys: ['hook_embed', 'hook_pos_embed', 'blocks.0.hook_resid_pre', 'blocks.0.attn.hook_q', 'blocks.0.attn.hook_k']\n"
     ]
    },
    {
     "name": "stderr",
     "output_type": "stream",
     "text": [
      " 74%|███████▎  | 221/300 [05:57<02:02,  1.55s/it]"
     ]
    },
    {
     "name": "stdout",
     "output_type": "stream",
     "text": [
      "Cache key blocks.0.attn.pattern not found. Available keys: ['hook_embed', 'hook_pos_embed', 'blocks.0.hook_resid_pre', 'blocks.0.attn.hook_q', 'blocks.0.attn.hook_k']\n",
      "📊 Metrics logged at step 27600\n",
      "Epoch 221 Validation Loss 0.35644593834877014\n",
      "Cache key blocks.0.attn.pattern not found. Available keys: ['hook_embed', 'hook_pos_embed', 'blocks.0.hook_resid_pre', 'blocks.0.attn.hook_q', 'blocks.0.attn.hook_k']\n",
      "Cache key blocks.0.attn.pattern not found. Available keys: ['hook_embed', 'hook_pos_embed', 'blocks.0.hook_resid_pre', 'blocks.0.attn.hook_q', 'blocks.0.attn.hook_k']\n"
     ]
    },
    {
     "name": "stderr",
     "output_type": "stream",
     "text": [
      " 74%|███████▍  | 222/300 [05:59<02:07,  1.63s/it]"
     ]
    },
    {
     "name": "stdout",
     "output_type": "stream",
     "text": [
      "Cache key blocks.0.attn.pattern not found. Available keys: ['hook_embed', 'hook_pos_embed', 'blocks.0.hook_resid_pre', 'blocks.0.attn.hook_q', 'blocks.0.attn.hook_k']\n",
      "Epoch 222 Validation Loss 0.3559560775756836\n",
      "Cache key blocks.0.attn.pattern not found. Available keys: ['hook_embed', 'hook_pos_embed', 'blocks.0.hook_resid_pre', 'blocks.0.attn.hook_q', 'blocks.0.attn.hook_k']\n",
      "📊 Metrics logged at step 27800\n"
     ]
    },
    {
     "name": "stderr",
     "output_type": "stream",
     "text": [
      " 74%|███████▍  | 223/300 [06:00<01:59,  1.55s/it]"
     ]
    },
    {
     "name": "stdout",
     "output_type": "stream",
     "text": [
      "Cache key blocks.0.attn.pattern not found. Available keys: ['hook_embed', 'hook_pos_embed', 'blocks.0.hook_resid_pre', 'blocks.0.attn.hook_q', 'blocks.0.attn.hook_k']\n",
      "Epoch 223 Validation Loss 0.3559471368789673\n",
      "Cache key blocks.0.attn.pattern not found. Available keys: ['hook_embed', 'hook_pos_embed', 'blocks.0.hook_resid_pre', 'blocks.0.attn.hook_q', 'blocks.0.attn.hook_k']\n",
      "Cache key blocks.0.attn.pattern not found. Available keys: ['hook_embed', 'hook_pos_embed', 'blocks.0.hook_resid_pre', 'blocks.0.attn.hook_q', 'blocks.0.attn.hook_k']\n"
     ]
    },
    {
     "name": "stderr",
     "output_type": "stream",
     "text": [
      " 75%|███████▍  | 224/300 [06:02<02:03,  1.63s/it]"
     ]
    },
    {
     "name": "stdout",
     "output_type": "stream",
     "text": [
      "Cache key blocks.0.attn.pattern not found. Available keys: ['hook_embed', 'hook_pos_embed', 'blocks.0.hook_resid_pre', 'blocks.0.attn.hook_q', 'blocks.0.attn.hook_k']\n",
      "📊 Metrics logged at step 28000\n",
      "Epoch 224 Validation Loss 0.3570891320705414\n",
      "Cache key blocks.0.attn.pattern not found. Available keys: ['hook_embed', 'hook_pos_embed', 'blocks.0.hook_resid_pre', 'blocks.0.attn.hook_q', 'blocks.0.attn.hook_k']\n",
      "Cache key blocks.0.attn.pattern not found. Available keys: ['hook_embed', 'hook_pos_embed', 'blocks.0.hook_resid_pre', 'blocks.0.attn.hook_q', 'blocks.0.attn.hook_k']\n"
     ]
    },
    {
     "name": "stderr",
     "output_type": "stream",
     "text": [
      " 75%|███████▌  | 225/300 [06:06<02:49,  2.26s/it]"
     ]
    },
    {
     "name": "stdout",
     "output_type": "stream",
     "text": [
      "Epoch 225 Validation Loss 0.3559696078300476\n",
      "Cache key blocks.0.attn.pattern not found. Available keys: ['hook_embed', 'hook_pos_embed', 'blocks.0.hook_resid_pre', 'blocks.0.attn.hook_q', 'blocks.0.attn.hook_k']\n",
      "Cache key blocks.0.attn.pattern not found. Available keys: ['hook_embed', 'hook_pos_embed', 'blocks.0.hook_resid_pre', 'blocks.0.attn.hook_q', 'blocks.0.attn.hook_k']\n",
      "📊 Metrics logged at step 28200\n"
     ]
    },
    {
     "name": "stderr",
     "output_type": "stream",
     "text": [
      " 75%|███████▌  | 226/300 [06:09<03:06,  2.52s/it]"
     ]
    },
    {
     "name": "stdout",
     "output_type": "stream",
     "text": [
      "Cache key blocks.0.attn.pattern not found. Available keys: ['hook_embed', 'hook_pos_embed', 'blocks.0.hook_resid_pre', 'blocks.0.attn.hook_q', 'blocks.0.attn.hook_k']\n",
      "Epoch 226 Validation Loss 0.35594046115875244\n",
      "Cache key blocks.0.attn.pattern not found. Available keys: ['hook_embed', 'hook_pos_embed', 'blocks.0.hook_resid_pre', 'blocks.0.attn.hook_q', 'blocks.0.attn.hook_k']\n"
     ]
    },
    {
     "name": "stderr",
     "output_type": "stream",
     "text": [
      " 76%|███████▌  | 227/300 [06:11<03:00,  2.47s/it]"
     ]
    },
    {
     "name": "stdout",
     "output_type": "stream",
     "text": [
      "Cache key blocks.0.attn.pattern not found. Available keys: ['hook_embed', 'hook_pos_embed', 'blocks.0.hook_resid_pre', 'blocks.0.attn.hook_q', 'blocks.0.attn.hook_k']\n",
      "Epoch 227 Validation Loss 0.3560582995414734\n",
      "Cache key blocks.0.attn.pattern not found. Available keys: ['hook_embed', 'hook_pos_embed', 'blocks.0.hook_resid_pre', 'blocks.0.attn.hook_q', 'blocks.0.attn.hook_k']\n",
      "📊 Metrics logged at step 28400\n",
      "Cache key blocks.0.attn.pattern not found. Available keys: ['hook_embed', 'hook_pos_embed', 'blocks.0.hook_resid_pre', 'blocks.0.attn.hook_q', 'blocks.0.attn.hook_k']\n"
     ]
    },
    {
     "name": "stderr",
     "output_type": "stream",
     "text": [
      " 76%|███████▌  | 228/300 [06:15<03:23,  2.83s/it]"
     ]
    },
    {
     "name": "stdout",
     "output_type": "stream",
     "text": [
      "Cache key blocks.0.attn.pattern not found. Available keys: ['hook_embed', 'hook_pos_embed', 'blocks.0.hook_resid_pre', 'blocks.0.attn.hook_q', 'blocks.0.attn.hook_k']\n",
      "Epoch 228 Validation Loss 0.3568763732910156\n",
      "Cache key blocks.0.attn.pattern not found. Available keys: ['hook_embed', 'hook_pos_embed', 'blocks.0.hook_resid_pre', 'blocks.0.attn.hook_q', 'blocks.0.attn.hook_k']\n"
     ]
    },
    {
     "name": "stderr",
     "output_type": "stream",
     "text": [
      " 76%|███████▋  | 229/300 [06:17<03:13,  2.73s/it]"
     ]
    },
    {
     "name": "stdout",
     "output_type": "stream",
     "text": [
      "Cache key blocks.0.attn.pattern not found. Available keys: ['hook_embed', 'hook_pos_embed', 'blocks.0.hook_resid_pre', 'blocks.0.attn.hook_q', 'blocks.0.attn.hook_k']\n",
      "📊 Metrics logged at step 28600\n",
      "Epoch 229 Validation Loss 0.35605257749557495\n",
      "Cache key blocks.0.attn.pattern not found. Available keys: ['hook_embed', 'hook_pos_embed', 'blocks.0.hook_resid_pre', 'blocks.0.attn.hook_q', 'blocks.0.attn.hook_k']\n",
      "Cache key blocks.0.attn.pattern not found. Available keys: ['hook_embed', 'hook_pos_embed', 'blocks.0.hook_resid_pre', 'blocks.0.attn.hook_q', 'blocks.0.attn.hook_k']\n"
     ]
    },
    {
     "name": "stderr",
     "output_type": "stream",
     "text": [
      " 77%|███████▋  | 230/300 [06:21<03:32,  3.04s/it]"
     ]
    },
    {
     "name": "stdout",
     "output_type": "stream",
     "text": [
      "Cache key blocks.0.attn.pattern not found. Available keys: ['hook_embed', 'hook_pos_embed', 'blocks.0.hook_resid_pre', 'blocks.0.attn.hook_q', 'blocks.0.attn.hook_k']\n",
      "Epoch 230 Samples 8000 Step 124 Training Loss 0.3435169458389282\n",
      "Epoch 230 Validation Loss 0.35692688822746277\n",
      "Cache key blocks.0.attn.pattern not found. Available keys: ['hook_embed', 'hook_pos_embed', 'blocks.0.hook_resid_pre', 'blocks.0.attn.hook_q', 'blocks.0.attn.hook_k']\n",
      "📊 Metrics logged at step 28800\n"
     ]
    },
    {
     "name": "stderr",
     "output_type": "stream",
     "text": [
      " 77%|███████▋  | 231/300 [06:24<03:28,  3.02s/it]"
     ]
    },
    {
     "name": "stdout",
     "output_type": "stream",
     "text": [
      "Cache key blocks.0.attn.pattern not found. Available keys: ['hook_embed', 'hook_pos_embed', 'blocks.0.hook_resid_pre', 'blocks.0.attn.hook_q', 'blocks.0.attn.hook_k']\n",
      "Epoch 231 Validation Loss 0.3559592366218567\n",
      "Cache key blocks.0.attn.pattern not found. Available keys: ['hook_embed', 'hook_pos_embed', 'blocks.0.hook_resid_pre', 'blocks.0.attn.hook_q', 'blocks.0.attn.hook_k']\n",
      "Cache key blocks.0.attn.pattern not found. Available keys: ['hook_embed', 'hook_pos_embed', 'blocks.0.hook_resid_pre', 'blocks.0.attn.hook_q', 'blocks.0.attn.hook_k']\n"
     ]
    },
    {
     "name": "stderr",
     "output_type": "stream",
     "text": [
      " 77%|███████▋  | 232/300 [06:27<03:28,  3.06s/it]"
     ]
    },
    {
     "name": "stdout",
     "output_type": "stream",
     "text": [
      "Cache key blocks.0.attn.pattern not found. Available keys: ['hook_embed', 'hook_pos_embed', 'blocks.0.hook_resid_pre', 'blocks.0.attn.hook_q', 'blocks.0.attn.hook_k']\n",
      "📊 Metrics logged at step 29000\n",
      "Epoch 232 Validation Loss 0.35780060291290283\n",
      "Cache key blocks.0.attn.pattern not found. Available keys: ['hook_embed', 'hook_pos_embed', 'blocks.0.hook_resid_pre', 'blocks.0.attn.hook_q', 'blocks.0.attn.hook_k']\n",
      "Cache key blocks.0.attn.pattern not found. Available keys: ['hook_embed', 'hook_pos_embed', 'blocks.0.hook_resid_pre', 'blocks.0.attn.hook_q', 'blocks.0.attn.hook_k']\n"
     ]
    },
    {
     "name": "stderr",
     "output_type": "stream",
     "text": [
      " 78%|███████▊  | 233/300 [06:30<03:20,  2.99s/it]"
     ]
    },
    {
     "name": "stdout",
     "output_type": "stream",
     "text": [
      "Epoch 233 Validation Loss 0.35645878314971924\n",
      "Cache key blocks.0.attn.pattern not found. Available keys: ['hook_embed', 'hook_pos_embed', 'blocks.0.hook_resid_pre', 'blocks.0.attn.hook_q', 'blocks.0.attn.hook_k']\n",
      "Cache key blocks.0.attn.pattern not found. Available keys: ['hook_embed', 'hook_pos_embed', 'blocks.0.hook_resid_pre', 'blocks.0.attn.hook_q', 'blocks.0.attn.hook_k']\n",
      "📊 Metrics logged at step 29200\n"
     ]
    },
    {
     "name": "stderr",
     "output_type": "stream",
     "text": [
      " 78%|███████▊  | 234/300 [06:33<03:21,  3.06s/it]"
     ]
    },
    {
     "name": "stdout",
     "output_type": "stream",
     "text": [
      "Cache key blocks.0.attn.pattern not found. Available keys: ['hook_embed', 'hook_pos_embed', 'blocks.0.hook_resid_pre', 'blocks.0.attn.hook_q', 'blocks.0.attn.hook_k']\n",
      "Epoch 234 Validation Loss 0.3559790253639221\n",
      "Cache key blocks.0.attn.pattern not found. Available keys: ['hook_embed', 'hook_pos_embed', 'blocks.0.hook_resid_pre', 'blocks.0.attn.hook_q', 'blocks.0.attn.hook_k']\n"
     ]
    },
    {
     "name": "stderr",
     "output_type": "stream",
     "text": [
      " 78%|███████▊  | 235/300 [06:36<03:03,  2.82s/it]"
     ]
    },
    {
     "name": "stdout",
     "output_type": "stream",
     "text": [
      "Cache key blocks.0.attn.pattern not found. Available keys: ['hook_embed', 'hook_pos_embed', 'blocks.0.hook_resid_pre', 'blocks.0.attn.hook_q', 'blocks.0.attn.hook_k']\n",
      "Epoch 235 Validation Loss 0.3561597764492035\n",
      "Cache key blocks.0.attn.pattern not found. Available keys: ['hook_embed', 'hook_pos_embed', 'blocks.0.hook_resid_pre', 'blocks.0.attn.hook_q', 'blocks.0.attn.hook_k']\n",
      "📊 Metrics logged at step 29400\n",
      "Cache key blocks.0.attn.pattern not found. Available keys: ['hook_embed', 'hook_pos_embed', 'blocks.0.hook_resid_pre', 'blocks.0.attn.hook_q', 'blocks.0.attn.hook_k']\n"
     ]
    },
    {
     "name": "stderr",
     "output_type": "stream",
     "text": [
      " 79%|███████▊  | 236/300 [06:39<03:13,  3.02s/it]"
     ]
    },
    {
     "name": "stdout",
     "output_type": "stream",
     "text": [
      "Cache key blocks.0.attn.pattern not found. Available keys: ['hook_embed', 'hook_pos_embed', 'blocks.0.hook_resid_pre', 'blocks.0.attn.hook_q', 'blocks.0.attn.hook_k']\n",
      "Epoch 236 Validation Loss 0.35594242811203003\n",
      "Cache key blocks.0.attn.pattern not found. Available keys: ['hook_embed', 'hook_pos_embed', 'blocks.0.hook_resid_pre', 'blocks.0.attn.hook_q', 'blocks.0.attn.hook_k']\n"
     ]
    },
    {
     "name": "stderr",
     "output_type": "stream",
     "text": [
      " 79%|███████▉  | 237/300 [06:42<03:00,  2.86s/it]"
     ]
    },
    {
     "name": "stdout",
     "output_type": "stream",
     "text": [
      "Cache key blocks.0.attn.pattern not found. Available keys: ['hook_embed', 'hook_pos_embed', 'blocks.0.hook_resid_pre', 'blocks.0.attn.hook_q', 'blocks.0.attn.hook_k']\n",
      "📊 Metrics logged at step 29600\n",
      "Epoch 237 Validation Loss 0.3562590479850769\n",
      "Cache key blocks.0.attn.pattern not found. Available keys: ['hook_embed', 'hook_pos_embed', 'blocks.0.hook_resid_pre', 'blocks.0.attn.hook_q', 'blocks.0.attn.hook_k']\n",
      "Cache key blocks.0.attn.pattern not found. Available keys: ['hook_embed', 'hook_pos_embed', 'blocks.0.hook_resid_pre', 'blocks.0.attn.hook_q', 'blocks.0.attn.hook_k']\n"
     ]
    },
    {
     "name": "stderr",
     "output_type": "stream",
     "text": [
      " 79%|███████▉  | 238/300 [06:45<03:09,  3.06s/it]"
     ]
    },
    {
     "name": "stdout",
     "output_type": "stream",
     "text": [
      "Cache key blocks.0.attn.pattern not found. Available keys: ['hook_embed', 'hook_pos_embed', 'blocks.0.hook_resid_pre', 'blocks.0.attn.hook_q', 'blocks.0.attn.hook_k']\n",
      "Epoch 238 Validation Loss 0.3563062846660614\n",
      "Cache key blocks.0.attn.pattern not found. Available keys: ['hook_embed', 'hook_pos_embed', 'blocks.0.hook_resid_pre', 'blocks.0.attn.hook_q', 'blocks.0.attn.hook_k']\n",
      "📊 Metrics logged at step 29800\n"
     ]
    },
    {
     "name": "stderr",
     "output_type": "stream",
     "text": [
      " 80%|███████▉  | 239/300 [06:47<02:52,  2.83s/it]"
     ]
    },
    {
     "name": "stdout",
     "output_type": "stream",
     "text": [
      "Cache key blocks.0.attn.pattern not found. Available keys: ['hook_embed', 'hook_pos_embed', 'blocks.0.hook_resid_pre', 'blocks.0.attn.hook_q', 'blocks.0.attn.hook_k']\n",
      "Epoch 239 Validation Loss 0.35601672530174255\n",
      "Cache key blocks.0.attn.pattern not found. Available keys: ['hook_embed', 'hook_pos_embed', 'blocks.0.hook_resid_pre', 'blocks.0.attn.hook_q', 'blocks.0.attn.hook_k']\n",
      "Cache key blocks.0.attn.pattern not found. Available keys: ['hook_embed', 'hook_pos_embed', 'blocks.0.hook_resid_pre', 'blocks.0.attn.hook_q', 'blocks.0.attn.hook_k']\n"
     ]
    },
    {
     "name": "stderr",
     "output_type": "stream",
     "text": [
      " 80%|████████  | 240/300 [06:51<02:56,  2.94s/it]"
     ]
    },
    {
     "name": "stdout",
     "output_type": "stream",
     "text": [
      "Cache key blocks.0.attn.pattern not found. Available keys: ['hook_embed', 'hook_pos_embed', 'blocks.0.hook_resid_pre', 'blocks.0.attn.hook_q', 'blocks.0.attn.hook_k']\n",
      "📊 Metrics logged at step 30000\n",
      "Epoch 240 Samples 8000 Step 124 Training Loss 0.3578987419605255\n",
      "Epoch 240 Validation Loss 0.3560090661048889\n",
      "Cache key blocks.0.attn.pattern not found. Available keys: ['hook_embed', 'hook_pos_embed', 'blocks.0.hook_resid_pre', 'blocks.0.attn.hook_q', 'blocks.0.attn.hook_k']\n"
     ]
    },
    {
     "name": "stderr",
     "output_type": "stream",
     "text": [
      " 80%|████████  | 241/300 [06:53<02:43,  2.78s/it]"
     ]
    },
    {
     "name": "stdout",
     "output_type": "stream",
     "text": [
      "Cache key blocks.0.attn.pattern not found. Available keys: ['hook_embed', 'hook_pos_embed', 'blocks.0.hook_resid_pre', 'blocks.0.attn.hook_q', 'blocks.0.attn.hook_k']\n",
      "Epoch 241 Validation Loss 0.3564114272594452\n",
      "Cache key blocks.0.attn.pattern not found. Available keys: ['hook_embed', 'hook_pos_embed', 'blocks.0.hook_resid_pre', 'blocks.0.attn.hook_q', 'blocks.0.attn.hook_k']\n",
      "Cache key blocks.0.attn.pattern not found. Available keys: ['hook_embed', 'hook_pos_embed', 'blocks.0.hook_resid_pre', 'blocks.0.attn.hook_q', 'blocks.0.attn.hook_k']\n",
      "📊 Metrics logged at step 30200\n"
     ]
    },
    {
     "name": "stderr",
     "output_type": "stream",
     "text": [
      " 81%|████████  | 242/300 [06:57<02:55,  3.03s/it]"
     ]
    },
    {
     "name": "stdout",
     "output_type": "stream",
     "text": [
      "Cache key blocks.0.attn.pattern not found. Available keys: ['hook_embed', 'hook_pos_embed', 'blocks.0.hook_resid_pre', 'blocks.0.attn.hook_q', 'blocks.0.attn.hook_k']\n",
      "Epoch 242 Validation Loss 0.3563862442970276\n",
      "Cache key blocks.0.attn.pattern not found. Available keys: ['hook_embed', 'hook_pos_embed', 'blocks.0.hook_resid_pre', 'blocks.0.attn.hook_q', 'blocks.0.attn.hook_k']\n"
     ]
    },
    {
     "name": "stderr",
     "output_type": "stream",
     "text": [
      " 81%|████████  | 243/300 [06:59<02:40,  2.82s/it]"
     ]
    },
    {
     "name": "stdout",
     "output_type": "stream",
     "text": [
      "Cache key blocks.0.attn.pattern not found. Available keys: ['hook_embed', 'hook_pos_embed', 'blocks.0.hook_resid_pre', 'blocks.0.attn.hook_q', 'blocks.0.attn.hook_k']\n",
      "Epoch 243 Validation Loss 0.3559974730014801\n",
      "Cache key blocks.0.attn.pattern not found. Available keys: ['hook_embed', 'hook_pos_embed', 'blocks.0.hook_resid_pre', 'blocks.0.attn.hook_q', 'blocks.0.attn.hook_k']\n",
      "📊 Metrics logged at step 30400\n",
      "Cache key blocks.0.attn.pattern not found. Available keys: ['hook_embed', 'hook_pos_embed', 'blocks.0.hook_resid_pre', 'blocks.0.attn.hook_q', 'blocks.0.attn.hook_k']\n"
     ]
    },
    {
     "name": "stderr",
     "output_type": "stream",
     "text": [
      " 81%|████████▏ | 244/300 [07:02<02:44,  2.94s/it]"
     ]
    },
    {
     "name": "stdout",
     "output_type": "stream",
     "text": [
      "Cache key blocks.0.attn.pattern not found. Available keys: ['hook_embed', 'hook_pos_embed', 'blocks.0.hook_resid_pre', 'blocks.0.attn.hook_q', 'blocks.0.attn.hook_k']\n",
      "Epoch 244 Validation Loss 0.3566095232963562\n",
      "Cache key blocks.0.attn.pattern not found. Available keys: ['hook_embed', 'hook_pos_embed', 'blocks.0.hook_resid_pre', 'blocks.0.attn.hook_q', 'blocks.0.attn.hook_k']\n"
     ]
    },
    {
     "name": "stderr",
     "output_type": "stream",
     "text": [
      " 82%|████████▏ | 245/300 [07:05<02:31,  2.76s/it]"
     ]
    },
    {
     "name": "stdout",
     "output_type": "stream",
     "text": [
      "Cache key blocks.0.attn.pattern not found. Available keys: ['hook_embed', 'hook_pos_embed', 'blocks.0.hook_resid_pre', 'blocks.0.attn.hook_q', 'blocks.0.attn.hook_k']\n",
      "📊 Metrics logged at step 30600\n",
      "Epoch 245 Validation Loss 0.3558674454689026\n",
      "Cache key blocks.0.attn.pattern not found. Available keys: ['hook_embed', 'hook_pos_embed', 'blocks.0.hook_resid_pre', 'blocks.0.attn.hook_q', 'blocks.0.attn.hook_k']\n",
      "Cache key blocks.0.attn.pattern not found. Available keys: ['hook_embed', 'hook_pos_embed', 'blocks.0.hook_resid_pre', 'blocks.0.attn.hook_q', 'blocks.0.attn.hook_k']\n"
     ]
    },
    {
     "name": "stderr",
     "output_type": "stream",
     "text": [
      " 82%|████████▏ | 246/300 [07:08<02:35,  2.87s/it]"
     ]
    },
    {
     "name": "stdout",
     "output_type": "stream",
     "text": [
      "Cache key blocks.0.attn.pattern not found. Available keys: ['hook_embed', 'hook_pos_embed', 'blocks.0.hook_resid_pre', 'blocks.0.attn.hook_q', 'blocks.0.attn.hook_k']\n",
      "Epoch 246 Validation Loss 0.3559301197528839\n",
      "Cache key blocks.0.attn.pattern not found. Available keys: ['hook_embed', 'hook_pos_embed', 'blocks.0.hook_resid_pre', 'blocks.0.attn.hook_q', 'blocks.0.attn.hook_k']\n",
      "📊 Metrics logged at step 30800\n"
     ]
    },
    {
     "name": "stderr",
     "output_type": "stream",
     "text": [
      " 82%|████████▏ | 247/300 [07:10<02:23,  2.71s/it]"
     ]
    },
    {
     "name": "stdout",
     "output_type": "stream",
     "text": [
      "Cache key blocks.0.attn.pattern not found. Available keys: ['hook_embed', 'hook_pos_embed', 'blocks.0.hook_resid_pre', 'blocks.0.attn.hook_q', 'blocks.0.attn.hook_k']\n",
      "Epoch 247 Validation Loss 0.356031596660614\n",
      "Cache key blocks.0.attn.pattern not found. Available keys: ['hook_embed', 'hook_pos_embed', 'blocks.0.hook_resid_pre', 'blocks.0.attn.hook_q', 'blocks.0.attn.hook_k']\n",
      "Cache key blocks.0.attn.pattern not found. Available keys: ['hook_embed', 'hook_pos_embed', 'blocks.0.hook_resid_pre', 'blocks.0.attn.hook_q', 'blocks.0.attn.hook_k']\n"
     ]
    },
    {
     "name": "stderr",
     "output_type": "stream",
     "text": [
      " 83%|████████▎ | 248/300 [07:13<02:27,  2.84s/it]"
     ]
    },
    {
     "name": "stdout",
     "output_type": "stream",
     "text": [
      "Cache key blocks.0.attn.pattern not found. Available keys: ['hook_embed', 'hook_pos_embed', 'blocks.0.hook_resid_pre', 'blocks.0.attn.hook_q', 'blocks.0.attn.hook_k']\n",
      "📊 Metrics logged at step 31000\n",
      "Epoch 248 Validation Loss 0.35601183772087097\n",
      "Cache key blocks.0.attn.pattern not found. Available keys: ['hook_embed', 'hook_pos_embed', 'blocks.0.hook_resid_pre', 'blocks.0.attn.hook_q', 'blocks.0.attn.hook_k']\n"
     ]
    },
    {
     "name": "stderr",
     "output_type": "stream",
     "text": [
      " 83%|████████▎ | 249/300 [07:16<02:17,  2.69s/it]"
     ]
    },
    {
     "name": "stdout",
     "output_type": "stream",
     "text": [
      "Cache key blocks.0.attn.pattern not found. Available keys: ['hook_embed', 'hook_pos_embed', 'blocks.0.hook_resid_pre', 'blocks.0.attn.hook_q', 'blocks.0.attn.hook_k']\n",
      "Epoch 249 Validation Loss 0.3563849627971649\n",
      "Cache key blocks.0.attn.pattern not found. Available keys: ['hook_embed', 'hook_pos_embed', 'blocks.0.hook_resid_pre', 'blocks.0.attn.hook_q', 'blocks.0.attn.hook_k']\n",
      "Cache key blocks.0.attn.pattern not found. Available keys: ['hook_embed', 'hook_pos_embed', 'blocks.0.hook_resid_pre', 'blocks.0.attn.hook_q', 'blocks.0.attn.hook_k']\n",
      "📊 Metrics logged at step 31200\n"
     ]
    },
    {
     "name": "stderr",
     "output_type": "stream",
     "text": [
      " 83%|████████▎ | 250/300 [07:19<02:21,  2.84s/it]"
     ]
    },
    {
     "name": "stdout",
     "output_type": "stream",
     "text": [
      "Cache key blocks.0.attn.pattern not found. Available keys: ['hook_embed', 'hook_pos_embed', 'blocks.0.hook_resid_pre', 'blocks.0.attn.hook_q', 'blocks.0.attn.hook_k']\n",
      "Epoch 250 Samples 8000 Step 124 Training Loss 0.34854069352149963\n",
      "Epoch 250 Validation Loss 0.3561106324195862\n",
      "Cache key blocks.0.attn.pattern not found. Available keys: ['hook_embed', 'hook_pos_embed', 'blocks.0.hook_resid_pre', 'blocks.0.attn.hook_q', 'blocks.0.attn.hook_k']\n"
     ]
    },
    {
     "name": "stderr",
     "output_type": "stream",
     "text": [
      " 84%|████████▎ | 251/300 [07:21<02:11,  2.69s/it]"
     ]
    },
    {
     "name": "stdout",
     "output_type": "stream",
     "text": [
      "Cache key blocks.0.attn.pattern not found. Available keys: ['hook_embed', 'hook_pos_embed', 'blocks.0.hook_resid_pre', 'blocks.0.attn.hook_q', 'blocks.0.attn.hook_k']\n",
      "Epoch 251 Validation Loss 0.35606518387794495\n",
      "Cache key blocks.0.attn.pattern not found. Available keys: ['hook_embed', 'hook_pos_embed', 'blocks.0.hook_resid_pre', 'blocks.0.attn.hook_q', 'blocks.0.attn.hook_k']\n",
      "📊 Metrics logged at step 31400\n",
      "Cache key blocks.0.attn.pattern not found. Available keys: ['hook_embed', 'hook_pos_embed', 'blocks.0.hook_resid_pre', 'blocks.0.attn.hook_q', 'blocks.0.attn.hook_k']\n"
     ]
    },
    {
     "name": "stderr",
     "output_type": "stream",
     "text": [
      " 84%|████████▍ | 252/300 [07:24<02:15,  2.83s/it]"
     ]
    },
    {
     "name": "stdout",
     "output_type": "stream",
     "text": [
      "Cache key blocks.0.attn.pattern not found. Available keys: ['hook_embed', 'hook_pos_embed', 'blocks.0.hook_resid_pre', 'blocks.0.attn.hook_q', 'blocks.0.attn.hook_k']\n",
      "Epoch 252 Validation Loss 0.3560478389263153\n",
      "Cache key blocks.0.attn.pattern not found. Available keys: ['hook_embed', 'hook_pos_embed', 'blocks.0.hook_resid_pre', 'blocks.0.attn.hook_q', 'blocks.0.attn.hook_k']\n"
     ]
    },
    {
     "name": "stderr",
     "output_type": "stream",
     "text": [
      " 84%|████████▍ | 253/300 [07:27<02:06,  2.69s/it]"
     ]
    },
    {
     "name": "stdout",
     "output_type": "stream",
     "text": [
      "Cache key blocks.0.attn.pattern not found. Available keys: ['hook_embed', 'hook_pos_embed', 'blocks.0.hook_resid_pre', 'blocks.0.attn.hook_q', 'blocks.0.attn.hook_k']\n",
      "📊 Metrics logged at step 31600\n",
      "Epoch 253 Validation Loss 0.3559389114379883\n",
      "Cache key blocks.0.attn.pattern not found. Available keys: ['hook_embed', 'hook_pos_embed', 'blocks.0.hook_resid_pre', 'blocks.0.attn.hook_q', 'blocks.0.attn.hook_k']\n",
      "Cache key blocks.0.attn.pattern not found. Available keys: ['hook_embed', 'hook_pos_embed', 'blocks.0.hook_resid_pre', 'blocks.0.attn.hook_q', 'blocks.0.attn.hook_k']\n"
     ]
    },
    {
     "name": "stderr",
     "output_type": "stream",
     "text": [
      " 85%|████████▍ | 254/300 [07:30<02:12,  2.88s/it]"
     ]
    },
    {
     "name": "stdout",
     "output_type": "stream",
     "text": [
      "Cache key blocks.0.attn.pattern not found. Available keys: ['hook_embed', 'hook_pos_embed', 'blocks.0.hook_resid_pre', 'blocks.0.attn.hook_q', 'blocks.0.attn.hook_k']\n",
      "Epoch 254 Validation Loss 0.3559817671775818\n",
      "Cache key blocks.0.attn.pattern not found. Available keys: ['hook_embed', 'hook_pos_embed', 'blocks.0.hook_resid_pre', 'blocks.0.attn.hook_q', 'blocks.0.attn.hook_k']\n",
      "📊 Metrics logged at step 31800\n"
     ]
    },
    {
     "name": "stderr",
     "output_type": "stream",
     "text": [
      " 85%|████████▌ | 255/300 [07:32<02:02,  2.71s/it]"
     ]
    },
    {
     "name": "stdout",
     "output_type": "stream",
     "text": [
      "Cache key blocks.0.attn.pattern not found. Available keys: ['hook_embed', 'hook_pos_embed', 'blocks.0.hook_resid_pre', 'blocks.0.attn.hook_q', 'blocks.0.attn.hook_k']\n",
      "Epoch 255 Validation Loss 0.3559483289718628\n",
      "Cache key blocks.0.attn.pattern not found. Available keys: ['hook_embed', 'hook_pos_embed', 'blocks.0.hook_resid_pre', 'blocks.0.attn.hook_q', 'blocks.0.attn.hook_k']\n",
      "Cache key blocks.0.attn.pattern not found. Available keys: ['hook_embed', 'hook_pos_embed', 'blocks.0.hook_resid_pre', 'blocks.0.attn.hook_q', 'blocks.0.attn.hook_k']\n"
     ]
    },
    {
     "name": "stderr",
     "output_type": "stream",
     "text": [
      " 85%|████████▌ | 256/300 [07:35<02:05,  2.84s/it]"
     ]
    },
    {
     "name": "stdout",
     "output_type": "stream",
     "text": [
      "Cache key blocks.0.attn.pattern not found. Available keys: ['hook_embed', 'hook_pos_embed', 'blocks.0.hook_resid_pre', 'blocks.0.attn.hook_q', 'blocks.0.attn.hook_k']\n",
      "📊 Metrics logged at step 32000\n",
      "Epoch 256 Validation Loss 0.3559562861919403\n",
      "Cache key blocks.0.attn.pattern not found. Available keys: ['hook_embed', 'hook_pos_embed', 'blocks.0.hook_resid_pre', 'blocks.0.attn.hook_q', 'blocks.0.attn.hook_k']\n"
     ]
    },
    {
     "name": "stderr",
     "output_type": "stream",
     "text": [
      " 86%|████████▌ | 257/300 [07:38<01:55,  2.68s/it]"
     ]
    },
    {
     "name": "stdout",
     "output_type": "stream",
     "text": [
      "Cache key blocks.0.attn.pattern not found. Available keys: ['hook_embed', 'hook_pos_embed', 'blocks.0.hook_resid_pre', 'blocks.0.attn.hook_q', 'blocks.0.attn.hook_k']\n",
      "Epoch 257 Validation Loss 0.3561500608921051\n",
      "Cache key blocks.0.attn.pattern not found. Available keys: ['hook_embed', 'hook_pos_embed', 'blocks.0.hook_resid_pre', 'blocks.0.attn.hook_q', 'blocks.0.attn.hook_k']\n",
      "Cache key blocks.0.attn.pattern not found. Available keys: ['hook_embed', 'hook_pos_embed', 'blocks.0.hook_resid_pre', 'blocks.0.attn.hook_q', 'blocks.0.attn.hook_k']\n",
      "📊 Metrics logged at step 32200\n"
     ]
    },
    {
     "name": "stderr",
     "output_type": "stream",
     "text": [
      " 86%|████████▌ | 258/300 [07:41<01:58,  2.81s/it]"
     ]
    },
    {
     "name": "stdout",
     "output_type": "stream",
     "text": [
      "Cache key blocks.0.attn.pattern not found. Available keys: ['hook_embed', 'hook_pos_embed', 'blocks.0.hook_resid_pre', 'blocks.0.attn.hook_q', 'blocks.0.attn.hook_k']\n",
      "Epoch 258 Validation Loss 0.3570990562438965\n",
      "Cache key blocks.0.attn.pattern not found. Available keys: ['hook_embed', 'hook_pos_embed', 'blocks.0.hook_resid_pre', 'blocks.0.attn.hook_q', 'blocks.0.attn.hook_k']\n"
     ]
    },
    {
     "name": "stderr",
     "output_type": "stream",
     "text": [
      " 86%|████████▋ | 259/300 [07:43<01:48,  2.66s/it]"
     ]
    },
    {
     "name": "stdout",
     "output_type": "stream",
     "text": [
      "Cache key blocks.0.attn.pattern not found. Available keys: ['hook_embed', 'hook_pos_embed', 'blocks.0.hook_resid_pre', 'blocks.0.attn.hook_q', 'blocks.0.attn.hook_k']\n",
      "Epoch 259 Validation Loss 0.35599204897880554\n",
      "Cache key blocks.0.attn.pattern not found. Available keys: ['hook_embed', 'hook_pos_embed', 'blocks.0.hook_resid_pre', 'blocks.0.attn.hook_q', 'blocks.0.attn.hook_k']\n",
      "📊 Metrics logged at step 32400\n",
      "Cache key blocks.0.attn.pattern not found. Available keys: ['hook_embed', 'hook_pos_embed', 'blocks.0.hook_resid_pre', 'blocks.0.attn.hook_q', 'blocks.0.attn.hook_k']\n"
     ]
    },
    {
     "name": "stderr",
     "output_type": "stream",
     "text": [
      " 87%|████████▋ | 260/300 [07:46<01:53,  2.84s/it]"
     ]
    },
    {
     "name": "stdout",
     "output_type": "stream",
     "text": [
      "Cache key blocks.0.attn.pattern not found. Available keys: ['hook_embed', 'hook_pos_embed', 'blocks.0.hook_resid_pre', 'blocks.0.attn.hook_q', 'blocks.0.attn.hook_k']\n",
      "Epoch 260 Samples 8000 Step 124 Training Loss 0.3461317718029022\n",
      "Epoch 260 Validation Loss 0.35663390159606934\n",
      "Cache key blocks.0.attn.pattern not found. Available keys: ['hook_embed', 'hook_pos_embed', 'blocks.0.hook_resid_pre', 'blocks.0.attn.hook_q', 'blocks.0.attn.hook_k']\n"
     ]
    },
    {
     "name": "stderr",
     "output_type": "stream",
     "text": [
      " 87%|████████▋ | 261/300 [07:49<01:45,  2.70s/it]"
     ]
    },
    {
     "name": "stdout",
     "output_type": "stream",
     "text": [
      "Cache key blocks.0.attn.pattern not found. Available keys: ['hook_embed', 'hook_pos_embed', 'blocks.0.hook_resid_pre', 'blocks.0.attn.hook_q', 'blocks.0.attn.hook_k']\n",
      "📊 Metrics logged at step 32600\n",
      "Epoch 261 Validation Loss 0.35634496808052063\n",
      "Cache key blocks.0.attn.pattern not found. Available keys: ['hook_embed', 'hook_pos_embed', 'blocks.0.hook_resid_pre', 'blocks.0.attn.hook_q', 'blocks.0.attn.hook_k']\n",
      "Cache key blocks.0.attn.pattern not found. Available keys: ['hook_embed', 'hook_pos_embed', 'blocks.0.hook_resid_pre', 'blocks.0.attn.hook_q', 'blocks.0.attn.hook_k']\n"
     ]
    },
    {
     "name": "stderr",
     "output_type": "stream",
     "text": [
      " 87%|████████▋ | 262/300 [07:52<01:47,  2.83s/it]"
     ]
    },
    {
     "name": "stdout",
     "output_type": "stream",
     "text": [
      "Cache key blocks.0.attn.pattern not found. Available keys: ['hook_embed', 'hook_pos_embed', 'blocks.0.hook_resid_pre', 'blocks.0.attn.hook_q', 'blocks.0.attn.hook_k']\n",
      "Epoch 262 Validation Loss 0.35597825050354004\n",
      "Cache key blocks.0.attn.pattern not found. Available keys: ['hook_embed', 'hook_pos_embed', 'blocks.0.hook_resid_pre', 'blocks.0.attn.hook_q', 'blocks.0.attn.hook_k']\n",
      "📊 Metrics logged at step 32800\n"
     ]
    },
    {
     "name": "stderr",
     "output_type": "stream",
     "text": [
      " 88%|████████▊ | 263/300 [07:54<01:38,  2.67s/it]"
     ]
    },
    {
     "name": "stdout",
     "output_type": "stream",
     "text": [
      "Cache key blocks.0.attn.pattern not found. Available keys: ['hook_embed', 'hook_pos_embed', 'blocks.0.hook_resid_pre', 'blocks.0.attn.hook_q', 'blocks.0.attn.hook_k']\n",
      "Epoch 263 Validation Loss 0.35608893632888794\n",
      "Cache key blocks.0.attn.pattern not found. Available keys: ['hook_embed', 'hook_pos_embed', 'blocks.0.hook_resid_pre', 'blocks.0.attn.hook_q', 'blocks.0.attn.hook_k']\n",
      "Cache key blocks.0.attn.pattern not found. Available keys: ['hook_embed', 'hook_pos_embed', 'blocks.0.hook_resid_pre', 'blocks.0.attn.hook_q', 'blocks.0.attn.hook_k']\n"
     ]
    },
    {
     "name": "stderr",
     "output_type": "stream",
     "text": [
      " 88%|████████▊ | 264/300 [07:58<01:43,  2.88s/it]"
     ]
    },
    {
     "name": "stdout",
     "output_type": "stream",
     "text": [
      "Cache key blocks.0.attn.pattern not found. Available keys: ['hook_embed', 'hook_pos_embed', 'blocks.0.hook_resid_pre', 'blocks.0.attn.hook_q', 'blocks.0.attn.hook_k']\n",
      "📊 Metrics logged at step 33000\n",
      "Epoch 264 Validation Loss 0.35604533553123474\n",
      "Cache key blocks.0.attn.pattern not found. Available keys: ['hook_embed', 'hook_pos_embed', 'blocks.0.hook_resid_pre', 'blocks.0.attn.hook_q', 'blocks.0.attn.hook_k']\n"
     ]
    },
    {
     "name": "stderr",
     "output_type": "stream",
     "text": [
      " 88%|████████▊ | 265/300 [08:00<01:37,  2.77s/it]"
     ]
    },
    {
     "name": "stdout",
     "output_type": "stream",
     "text": [
      "Cache key blocks.0.attn.pattern not found. Available keys: ['hook_embed', 'hook_pos_embed', 'blocks.0.hook_resid_pre', 'blocks.0.attn.hook_q', 'blocks.0.attn.hook_k']\n",
      "Epoch 265 Validation Loss 0.3560362756252289\n",
      "Cache key blocks.0.attn.pattern not found. Available keys: ['hook_embed', 'hook_pos_embed', 'blocks.0.hook_resid_pre', 'blocks.0.attn.hook_q', 'blocks.0.attn.hook_k']\n",
      "Cache key blocks.0.attn.pattern not found. Available keys: ['hook_embed', 'hook_pos_embed', 'blocks.0.hook_resid_pre', 'blocks.0.attn.hook_q', 'blocks.0.attn.hook_k']\n",
      "📊 Metrics logged at step 33200\n"
     ]
    },
    {
     "name": "stderr",
     "output_type": "stream",
     "text": [
      " 89%|████████▊ | 266/300 [08:03<01:39,  2.94s/it]"
     ]
    },
    {
     "name": "stdout",
     "output_type": "stream",
     "text": [
      "Cache key blocks.0.attn.pattern not found. Available keys: ['hook_embed', 'hook_pos_embed', 'blocks.0.hook_resid_pre', 'blocks.0.attn.hook_q', 'blocks.0.attn.hook_k']\n",
      "Epoch 266 Validation Loss 0.3560514748096466\n",
      "Cache key blocks.0.attn.pattern not found. Available keys: ['hook_embed', 'hook_pos_embed', 'blocks.0.hook_resid_pre', 'blocks.0.attn.hook_q', 'blocks.0.attn.hook_k']\n"
     ]
    },
    {
     "name": "stderr",
     "output_type": "stream",
     "text": [
      " 89%|████████▉ | 267/300 [08:06<01:31,  2.76s/it]"
     ]
    },
    {
     "name": "stdout",
     "output_type": "stream",
     "text": [
      "Cache key blocks.0.attn.pattern not found. Available keys: ['hook_embed', 'hook_pos_embed', 'blocks.0.hook_resid_pre', 'blocks.0.attn.hook_q', 'blocks.0.attn.hook_k']\n",
      "Epoch 267 Validation Loss 0.3562723696231842\n",
      "Cache key blocks.0.attn.pattern not found. Available keys: ['hook_embed', 'hook_pos_embed', 'blocks.0.hook_resid_pre', 'blocks.0.attn.hook_q', 'blocks.0.attn.hook_k']\n",
      "📊 Metrics logged at step 33400\n",
      "Cache key blocks.0.attn.pattern not found. Available keys: ['hook_embed', 'hook_pos_embed', 'blocks.0.hook_resid_pre', 'blocks.0.attn.hook_q', 'blocks.0.attn.hook_k']\n"
     ]
    },
    {
     "name": "stderr",
     "output_type": "stream",
     "text": [
      " 89%|████████▉ | 268/300 [08:09<01:34,  2.94s/it]"
     ]
    },
    {
     "name": "stdout",
     "output_type": "stream",
     "text": [
      "Cache key blocks.0.attn.pattern not found. Available keys: ['hook_embed', 'hook_pos_embed', 'blocks.0.hook_resid_pre', 'blocks.0.attn.hook_q', 'blocks.0.attn.hook_k']\n",
      "Epoch 268 Validation Loss 0.3560119569301605\n",
      "Cache key blocks.0.attn.pattern not found. Available keys: ['hook_embed', 'hook_pos_embed', 'blocks.0.hook_resid_pre', 'blocks.0.attn.hook_q', 'blocks.0.attn.hook_k']\n"
     ]
    },
    {
     "name": "stderr",
     "output_type": "stream",
     "text": [
      " 90%|████████▉ | 269/300 [08:11<01:25,  2.77s/it]"
     ]
    },
    {
     "name": "stdout",
     "output_type": "stream",
     "text": [
      "Cache key blocks.0.attn.pattern not found. Available keys: ['hook_embed', 'hook_pos_embed', 'blocks.0.hook_resid_pre', 'blocks.0.attn.hook_q', 'blocks.0.attn.hook_k']\n",
      "📊 Metrics logged at step 33600\n",
      "Epoch 269 Validation Loss 0.35597914457321167\n",
      "Cache key blocks.0.attn.pattern not found. Available keys: ['hook_embed', 'hook_pos_embed', 'blocks.0.hook_resid_pre', 'blocks.0.attn.hook_q', 'blocks.0.attn.hook_k']\n",
      "Cache key blocks.0.attn.pattern not found. Available keys: ['hook_embed', 'hook_pos_embed', 'blocks.0.hook_resid_pre', 'blocks.0.attn.hook_q', 'blocks.0.attn.hook_k']\n"
     ]
    },
    {
     "name": "stderr",
     "output_type": "stream",
     "text": [
      " 90%|█████████ | 270/300 [08:15<01:26,  2.88s/it]"
     ]
    },
    {
     "name": "stdout",
     "output_type": "stream",
     "text": [
      "Cache key blocks.0.attn.pattern not found. Available keys: ['hook_embed', 'hook_pos_embed', 'blocks.0.hook_resid_pre', 'blocks.0.attn.hook_q', 'blocks.0.attn.hook_k']\n",
      "Epoch 270 Samples 8000 Step 124 Training Loss 0.3582625985145569\n",
      "Epoch 270 Validation Loss 0.3560416102409363\n",
      "Cache key blocks.0.attn.pattern not found. Available keys: ['hook_embed', 'hook_pos_embed', 'blocks.0.hook_resid_pre', 'blocks.0.attn.hook_q', 'blocks.0.attn.hook_k']\n",
      "📊 Metrics logged at step 33800\n"
     ]
    },
    {
     "name": "stderr",
     "output_type": "stream",
     "text": [
      " 90%|█████████ | 271/300 [08:17<01:18,  2.72s/it]"
     ]
    },
    {
     "name": "stdout",
     "output_type": "stream",
     "text": [
      "Cache key blocks.0.attn.pattern not found. Available keys: ['hook_embed', 'hook_pos_embed', 'blocks.0.hook_resid_pre', 'blocks.0.attn.hook_q', 'blocks.0.attn.hook_k']\n",
      "Epoch 271 Validation Loss 0.35592660307884216\n",
      "Cache key blocks.0.attn.pattern not found. Available keys: ['hook_embed', 'hook_pos_embed', 'blocks.0.hook_resid_pre', 'blocks.0.attn.hook_q', 'blocks.0.attn.hook_k']\n",
      "Cache key blocks.0.attn.pattern not found. Available keys: ['hook_embed', 'hook_pos_embed', 'blocks.0.hook_resid_pre', 'blocks.0.attn.hook_q', 'blocks.0.attn.hook_k']\n"
     ]
    },
    {
     "name": "stderr",
     "output_type": "stream",
     "text": [
      " 91%|█████████ | 272/300 [08:20<01:19,  2.85s/it]"
     ]
    },
    {
     "name": "stdout",
     "output_type": "stream",
     "text": [
      "Cache key blocks.0.attn.pattern not found. Available keys: ['hook_embed', 'hook_pos_embed', 'blocks.0.hook_resid_pre', 'blocks.0.attn.hook_q', 'blocks.0.attn.hook_k']\n",
      "📊 Metrics logged at step 34000\n",
      "Epoch 272 Validation Loss 0.35596993565559387\n",
      "Cache key blocks.0.attn.pattern not found. Available keys: ['hook_embed', 'hook_pos_embed', 'blocks.0.hook_resid_pre', 'blocks.0.attn.hook_q', 'blocks.0.attn.hook_k']\n"
     ]
    },
    {
     "name": "stderr",
     "output_type": "stream",
     "text": [
      " 91%|█████████ | 273/300 [08:22<01:12,  2.70s/it]"
     ]
    },
    {
     "name": "stdout",
     "output_type": "stream",
     "text": [
      "Cache key blocks.0.attn.pattern not found. Available keys: ['hook_embed', 'hook_pos_embed', 'blocks.0.hook_resid_pre', 'blocks.0.attn.hook_q', 'blocks.0.attn.hook_k']\n",
      "Epoch 273 Validation Loss 0.35640713572502136\n",
      "Cache key blocks.0.attn.pattern not found. Available keys: ['hook_embed', 'hook_pos_embed', 'blocks.0.hook_resid_pre', 'blocks.0.attn.hook_q', 'blocks.0.attn.hook_k']\n",
      "Cache key blocks.0.attn.pattern not found. Available keys: ['hook_embed', 'hook_pos_embed', 'blocks.0.hook_resid_pre', 'blocks.0.attn.hook_q', 'blocks.0.attn.hook_k']\n",
      "📊 Metrics logged at step 34200\n"
     ]
    },
    {
     "name": "stderr",
     "output_type": "stream",
     "text": [
      " 91%|█████████▏| 274/300 [08:26<01:13,  2.83s/it]"
     ]
    },
    {
     "name": "stdout",
     "output_type": "stream",
     "text": [
      "Cache key blocks.0.attn.pattern not found. Available keys: ['hook_embed', 'hook_pos_embed', 'blocks.0.hook_resid_pre', 'blocks.0.attn.hook_q', 'blocks.0.attn.hook_k']\n",
      "Epoch 274 Validation Loss 0.3560398817062378\n",
      "Cache key blocks.0.attn.pattern not found. Available keys: ['hook_embed', 'hook_pos_embed', 'blocks.0.hook_resid_pre', 'blocks.0.attn.hook_q', 'blocks.0.attn.hook_k']\n"
     ]
    },
    {
     "name": "stderr",
     "output_type": "stream",
     "text": [
      " 92%|█████████▏| 275/300 [08:28<01:06,  2.67s/it]"
     ]
    },
    {
     "name": "stdout",
     "output_type": "stream",
     "text": [
      "Cache key blocks.0.attn.pattern not found. Available keys: ['hook_embed', 'hook_pos_embed', 'blocks.0.hook_resid_pre', 'blocks.0.attn.hook_q', 'blocks.0.attn.hook_k']\n",
      "Epoch 275 Validation Loss 0.3560311198234558\n",
      "Cache key blocks.0.attn.pattern not found. Available keys: ['hook_embed', 'hook_pos_embed', 'blocks.0.hook_resid_pre', 'blocks.0.attn.hook_q', 'blocks.0.attn.hook_k']\n",
      "📊 Metrics logged at step 34400\n",
      "Cache key blocks.0.attn.pattern not found. Available keys: ['hook_embed', 'hook_pos_embed', 'blocks.0.hook_resid_pre', 'blocks.0.attn.hook_q', 'blocks.0.attn.hook_k']\n"
     ]
    },
    {
     "name": "stderr",
     "output_type": "stream",
     "text": [
      " 92%|█████████▏| 276/300 [08:31<01:07,  2.82s/it]"
     ]
    },
    {
     "name": "stdout",
     "output_type": "stream",
     "text": [
      "Cache key blocks.0.attn.pattern not found. Available keys: ['hook_embed', 'hook_pos_embed', 'blocks.0.hook_resid_pre', 'blocks.0.attn.hook_q', 'blocks.0.attn.hook_k']\n",
      "Epoch 276 Validation Loss 0.35639941692352295\n",
      "Cache key blocks.0.attn.pattern not found. Available keys: ['hook_embed', 'hook_pos_embed', 'blocks.0.hook_resid_pre', 'blocks.0.attn.hook_q', 'blocks.0.attn.hook_k']\n"
     ]
    },
    {
     "name": "stderr",
     "output_type": "stream",
     "text": [
      " 92%|█████████▏| 277/300 [08:34<01:02,  2.72s/it]"
     ]
    },
    {
     "name": "stdout",
     "output_type": "stream",
     "text": [
      "Cache key blocks.0.attn.pattern not found. Available keys: ['hook_embed', 'hook_pos_embed', 'blocks.0.hook_resid_pre', 'blocks.0.attn.hook_q', 'blocks.0.attn.hook_k']\n",
      "📊 Metrics logged at step 34600\n",
      "Epoch 277 Validation Loss 0.3559117913246155\n",
      "Cache key blocks.0.attn.pattern not found. Available keys: ['hook_embed', 'hook_pos_embed', 'blocks.0.hook_resid_pre', 'blocks.0.attn.hook_q', 'blocks.0.attn.hook_k']\n",
      "Cache key blocks.0.attn.pattern not found. Available keys: ['hook_embed', 'hook_pos_embed', 'blocks.0.hook_resid_pre', 'blocks.0.attn.hook_q', 'blocks.0.attn.hook_k']\n"
     ]
    },
    {
     "name": "stderr",
     "output_type": "stream",
     "text": [
      " 93%|█████████▎| 278/300 [08:37<01:02,  2.84s/it]"
     ]
    },
    {
     "name": "stdout",
     "output_type": "stream",
     "text": [
      "Cache key blocks.0.attn.pattern not found. Available keys: ['hook_embed', 'hook_pos_embed', 'blocks.0.hook_resid_pre', 'blocks.0.attn.hook_q', 'blocks.0.attn.hook_k']\n",
      "Epoch 278 Validation Loss 0.3558756411075592\n",
      "Cache key blocks.0.attn.pattern not found. Available keys: ['hook_embed', 'hook_pos_embed', 'blocks.0.hook_resid_pre', 'blocks.0.attn.hook_q', 'blocks.0.attn.hook_k']\n",
      "📊 Metrics logged at step 34800\n"
     ]
    },
    {
     "name": "stderr",
     "output_type": "stream",
     "text": [
      " 93%|█████████▎| 279/300 [08:39<00:56,  2.68s/it]"
     ]
    },
    {
     "name": "stdout",
     "output_type": "stream",
     "text": [
      "Cache key blocks.0.attn.pattern not found. Available keys: ['hook_embed', 'hook_pos_embed', 'blocks.0.hook_resid_pre', 'blocks.0.attn.hook_q', 'blocks.0.attn.hook_k']\n",
      "Epoch 279 Validation Loss 0.3559889495372772\n",
      "Cache key blocks.0.attn.pattern not found. Available keys: ['hook_embed', 'hook_pos_embed', 'blocks.0.hook_resid_pre', 'blocks.0.attn.hook_q', 'blocks.0.attn.hook_k']\n",
      "Cache key blocks.0.attn.pattern not found. Available keys: ['hook_embed', 'hook_pos_embed', 'blocks.0.hook_resid_pre', 'blocks.0.attn.hook_q', 'blocks.0.attn.hook_k']\n"
     ]
    },
    {
     "name": "stderr",
     "output_type": "stream",
     "text": [
      " 93%|█████████▎| 280/300 [08:42<00:56,  2.82s/it]"
     ]
    },
    {
     "name": "stdout",
     "output_type": "stream",
     "text": [
      "Cache key blocks.0.attn.pattern not found. Available keys: ['hook_embed', 'hook_pos_embed', 'blocks.0.hook_resid_pre', 'blocks.0.attn.hook_q', 'blocks.0.attn.hook_k']\n",
      "📊 Metrics logged at step 35000\n",
      "Epoch 280 Samples 8000 Step 124 Training Loss 0.358730673789978\n",
      "Epoch 280 Validation Loss 0.35595592856407166\n",
      "Cache key blocks.0.attn.pattern not found. Available keys: ['hook_embed', 'hook_pos_embed', 'blocks.0.hook_resid_pre', 'blocks.0.attn.hook_q', 'blocks.0.attn.hook_k']\n"
     ]
    },
    {
     "name": "stderr",
     "output_type": "stream",
     "text": [
      " 94%|█████████▎| 281/300 [08:44<00:50,  2.67s/it]"
     ]
    },
    {
     "name": "stdout",
     "output_type": "stream",
     "text": [
      "Cache key blocks.0.attn.pattern not found. Available keys: ['hook_embed', 'hook_pos_embed', 'blocks.0.hook_resid_pre', 'blocks.0.attn.hook_q', 'blocks.0.attn.hook_k']\n",
      "Epoch 281 Validation Loss 0.3560458719730377\n",
      "Cache key blocks.0.attn.pattern not found. Available keys: ['hook_embed', 'hook_pos_embed', 'blocks.0.hook_resid_pre', 'blocks.0.attn.hook_q', 'blocks.0.attn.hook_k']\n",
      "Cache key blocks.0.attn.pattern not found. Available keys: ['hook_embed', 'hook_pos_embed', 'blocks.0.hook_resid_pre', 'blocks.0.attn.hook_q', 'blocks.0.attn.hook_k']\n",
      "📊 Metrics logged at step 35200\n"
     ]
    },
    {
     "name": "stderr",
     "output_type": "stream",
     "text": [
      " 94%|█████████▍| 282/300 [08:48<00:50,  2.83s/it]"
     ]
    },
    {
     "name": "stdout",
     "output_type": "stream",
     "text": [
      "Cache key blocks.0.attn.pattern not found. Available keys: ['hook_embed', 'hook_pos_embed', 'blocks.0.hook_resid_pre', 'blocks.0.attn.hook_q', 'blocks.0.attn.hook_k']\n",
      "Epoch 282 Validation Loss 0.3564021587371826\n",
      "Cache key blocks.0.attn.pattern not found. Available keys: ['hook_embed', 'hook_pos_embed', 'blocks.0.hook_resid_pre', 'blocks.0.attn.hook_q', 'blocks.0.attn.hook_k']\n"
     ]
    },
    {
     "name": "stderr",
     "output_type": "stream",
     "text": [
      " 94%|█████████▍| 283/300 [08:50<00:45,  2.67s/it]"
     ]
    },
    {
     "name": "stdout",
     "output_type": "stream",
     "text": [
      "Cache key blocks.0.attn.pattern not found. Available keys: ['hook_embed', 'hook_pos_embed', 'blocks.0.hook_resid_pre', 'blocks.0.attn.hook_q', 'blocks.0.attn.hook_k']\n",
      "Epoch 283 Validation Loss 0.35601940751075745\n",
      "Cache key blocks.0.attn.pattern not found. Available keys: ['hook_embed', 'hook_pos_embed', 'blocks.0.hook_resid_pre', 'blocks.0.attn.hook_q', 'blocks.0.attn.hook_k']\n",
      "📊 Metrics logged at step 35400\n",
      "Cache key blocks.0.attn.pattern not found. Available keys: ['hook_embed', 'hook_pos_embed', 'blocks.0.hook_resid_pre', 'blocks.0.attn.hook_q', 'blocks.0.attn.hook_k']\n"
     ]
    },
    {
     "name": "stderr",
     "output_type": "stream",
     "text": [
      " 95%|█████████▍| 284/300 [08:53<00:44,  2.80s/it]"
     ]
    },
    {
     "name": "stdout",
     "output_type": "stream",
     "text": [
      "Cache key blocks.0.attn.pattern not found. Available keys: ['hook_embed', 'hook_pos_embed', 'blocks.0.hook_resid_pre', 'blocks.0.attn.hook_q', 'blocks.0.attn.hook_k']\n",
      "Epoch 284 Validation Loss 0.3558872938156128\n",
      "Cache key blocks.0.attn.pattern not found. Available keys: ['hook_embed', 'hook_pos_embed', 'blocks.0.hook_resid_pre', 'blocks.0.attn.hook_q', 'blocks.0.attn.hook_k']\n"
     ]
    },
    {
     "name": "stderr",
     "output_type": "stream",
     "text": [
      " 95%|█████████▌| 285/300 [08:55<00:40,  2.70s/it]"
     ]
    },
    {
     "name": "stdout",
     "output_type": "stream",
     "text": [
      "Cache key blocks.0.attn.pattern not found. Available keys: ['hook_embed', 'hook_pos_embed', 'blocks.0.hook_resid_pre', 'blocks.0.attn.hook_q', 'blocks.0.attn.hook_k']\n",
      "📊 Metrics logged at step 35600\n",
      "Epoch 285 Validation Loss 0.355987548828125\n",
      "Cache key blocks.0.attn.pattern not found. Available keys: ['hook_embed', 'hook_pos_embed', 'blocks.0.hook_resid_pre', 'blocks.0.attn.hook_q', 'blocks.0.attn.hook_k']\n",
      "Cache key blocks.0.attn.pattern not found. Available keys: ['hook_embed', 'hook_pos_embed', 'blocks.0.hook_resid_pre', 'blocks.0.attn.hook_q', 'blocks.0.attn.hook_k']\n"
     ]
    },
    {
     "name": "stderr",
     "output_type": "stream",
     "text": [
      " 95%|█████████▌| 286/300 [08:59<00:39,  2.85s/it]"
     ]
    },
    {
     "name": "stdout",
     "output_type": "stream",
     "text": [
      "Cache key blocks.0.attn.pattern not found. Available keys: ['hook_embed', 'hook_pos_embed', 'blocks.0.hook_resid_pre', 'blocks.0.attn.hook_q', 'blocks.0.attn.hook_k']\n",
      "Epoch 286 Validation Loss 0.3562290072441101\n",
      "Cache key blocks.0.attn.pattern not found. Available keys: ['hook_embed', 'hook_pos_embed', 'blocks.0.hook_resid_pre', 'blocks.0.attn.hook_q', 'blocks.0.attn.hook_k']\n",
      "📊 Metrics logged at step 35800\n"
     ]
    },
    {
     "name": "stderr",
     "output_type": "stream",
     "text": [
      " 96%|█████████▌| 287/300 [09:01<00:34,  2.69s/it]"
     ]
    },
    {
     "name": "stdout",
     "output_type": "stream",
     "text": [
      "Cache key blocks.0.attn.pattern not found. Available keys: ['hook_embed', 'hook_pos_embed', 'blocks.0.hook_resid_pre', 'blocks.0.attn.hook_q', 'blocks.0.attn.hook_k']\n",
      "Epoch 287 Validation Loss 0.35618749260902405\n",
      "Cache key blocks.0.attn.pattern not found. Available keys: ['hook_embed', 'hook_pos_embed', 'blocks.0.hook_resid_pre', 'blocks.0.attn.hook_q', 'blocks.0.attn.hook_k']\n",
      "Cache key blocks.0.attn.pattern not found. Available keys: ['hook_embed', 'hook_pos_embed', 'blocks.0.hook_resid_pre', 'blocks.0.attn.hook_q', 'blocks.0.attn.hook_k']\n"
     ]
    },
    {
     "name": "stderr",
     "output_type": "stream",
     "text": [
      " 96%|█████████▌| 288/300 [09:04<00:33,  2.82s/it]"
     ]
    },
    {
     "name": "stdout",
     "output_type": "stream",
     "text": [
      "Cache key blocks.0.attn.pattern not found. Available keys: ['hook_embed', 'hook_pos_embed', 'blocks.0.hook_resid_pre', 'blocks.0.attn.hook_q', 'blocks.0.attn.hook_k']\n",
      "📊 Metrics logged at step 36000\n",
      "Epoch 288 Validation Loss 0.3560304641723633\n",
      "Cache key blocks.0.attn.pattern not found. Available keys: ['hook_embed', 'hook_pos_embed', 'blocks.0.hook_resid_pre', 'blocks.0.attn.hook_q', 'blocks.0.attn.hook_k']\n"
     ]
    },
    {
     "name": "stderr",
     "output_type": "stream",
     "text": [
      " 96%|█████████▋| 289/300 [09:06<00:29,  2.66s/it]"
     ]
    },
    {
     "name": "stdout",
     "output_type": "stream",
     "text": [
      "Cache key blocks.0.attn.pattern not found. Available keys: ['hook_embed', 'hook_pos_embed', 'blocks.0.hook_resid_pre', 'blocks.0.attn.hook_q', 'blocks.0.attn.hook_k']\n",
      "Epoch 289 Validation Loss 0.35587072372436523\n",
      "Cache key blocks.0.attn.pattern not found. Available keys: ['hook_embed', 'hook_pos_embed', 'blocks.0.hook_resid_pre', 'blocks.0.attn.hook_q', 'blocks.0.attn.hook_k']\n",
      "Cache key blocks.0.attn.pattern not found. Available keys: ['hook_embed', 'hook_pos_embed', 'blocks.0.hook_resid_pre', 'blocks.0.attn.hook_q', 'blocks.0.attn.hook_k']\n",
      "📊 Metrics logged at step 36200\n"
     ]
    },
    {
     "name": "stderr",
     "output_type": "stream",
     "text": [
      " 97%|█████████▋| 290/300 [09:10<00:29,  2.92s/it]"
     ]
    },
    {
     "name": "stdout",
     "output_type": "stream",
     "text": [
      "Cache key blocks.0.attn.pattern not found. Available keys: ['hook_embed', 'hook_pos_embed', 'blocks.0.hook_resid_pre', 'blocks.0.attn.hook_q', 'blocks.0.attn.hook_k']\n",
      "Epoch 290 Samples 8000 Step 124 Training Loss 0.3486235737800598\n",
      "Epoch 290 Validation Loss 0.356040894985199\n",
      "Cache key blocks.0.attn.pattern not found. Available keys: ['hook_embed', 'hook_pos_embed', 'blocks.0.hook_resid_pre', 'blocks.0.attn.hook_q', 'blocks.0.attn.hook_k']\n"
     ]
    },
    {
     "name": "stderr",
     "output_type": "stream",
     "text": [
      " 97%|█████████▋| 291/300 [09:12<00:24,  2.74s/it]"
     ]
    },
    {
     "name": "stdout",
     "output_type": "stream",
     "text": [
      "Cache key blocks.0.attn.pattern not found. Available keys: ['hook_embed', 'hook_pos_embed', 'blocks.0.hook_resid_pre', 'blocks.0.attn.hook_q', 'blocks.0.attn.hook_k']\n",
      "Epoch 291 Validation Loss 0.3560989797115326\n",
      "Cache key blocks.0.attn.pattern not found. Available keys: ['hook_embed', 'hook_pos_embed', 'blocks.0.hook_resid_pre', 'blocks.0.attn.hook_q', 'blocks.0.attn.hook_k']\n",
      "📊 Metrics logged at step 36400\n",
      "Cache key blocks.0.attn.pattern not found. Available keys: ['hook_embed', 'hook_pos_embed', 'blocks.0.hook_resid_pre', 'blocks.0.attn.hook_q', 'blocks.0.attn.hook_k']\n"
     ]
    },
    {
     "name": "stderr",
     "output_type": "stream",
     "text": [
      " 97%|█████████▋| 292/300 [09:15<00:22,  2.86s/it]"
     ]
    },
    {
     "name": "stdout",
     "output_type": "stream",
     "text": [
      "Cache key blocks.0.attn.pattern not found. Available keys: ['hook_embed', 'hook_pos_embed', 'blocks.0.hook_resid_pre', 'blocks.0.attn.hook_q', 'blocks.0.attn.hook_k']\n",
      "Epoch 292 Validation Loss 0.356079638004303\n",
      "Cache key blocks.0.attn.pattern not found. Available keys: ['hook_embed', 'hook_pos_embed', 'blocks.0.hook_resid_pre', 'blocks.0.attn.hook_q', 'blocks.0.attn.hook_k']\n"
     ]
    },
    {
     "name": "stderr",
     "output_type": "stream",
     "text": [
      " 98%|█████████▊| 293/300 [09:18<00:18,  2.71s/it]"
     ]
    },
    {
     "name": "stdout",
     "output_type": "stream",
     "text": [
      "Cache key blocks.0.attn.pattern not found. Available keys: ['hook_embed', 'hook_pos_embed', 'blocks.0.hook_resid_pre', 'blocks.0.attn.hook_q', 'blocks.0.attn.hook_k']\n",
      "📊 Metrics logged at step 36600\n",
      "Epoch 293 Validation Loss 0.35610124468803406\n",
      "Cache key blocks.0.attn.pattern not found. Available keys: ['hook_embed', 'hook_pos_embed', 'blocks.0.hook_resid_pre', 'blocks.0.attn.hook_q', 'blocks.0.attn.hook_k']\n",
      "Cache key blocks.0.attn.pattern not found. Available keys: ['hook_embed', 'hook_pos_embed', 'blocks.0.hook_resid_pre', 'blocks.0.attn.hook_q', 'blocks.0.attn.hook_k']\n"
     ]
    },
    {
     "name": "stderr",
     "output_type": "stream",
     "text": [
      " 98%|█████████▊| 294/300 [09:21<00:17,  2.94s/it]"
     ]
    },
    {
     "name": "stdout",
     "output_type": "stream",
     "text": [
      "Cache key blocks.0.attn.pattern not found. Available keys: ['hook_embed', 'hook_pos_embed', 'blocks.0.hook_resid_pre', 'blocks.0.attn.hook_q', 'blocks.0.attn.hook_k']\n",
      "Epoch 294 Validation Loss 0.35624510049819946\n",
      "Cache key blocks.0.attn.pattern not found. Available keys: ['hook_embed', 'hook_pos_embed', 'blocks.0.hook_resid_pre', 'blocks.0.attn.hook_q', 'blocks.0.attn.hook_k']\n",
      "📊 Metrics logged at step 36800\n"
     ]
    },
    {
     "name": "stderr",
     "output_type": "stream",
     "text": [
      " 98%|█████████▊| 295/300 [09:24<00:13,  2.78s/it]"
     ]
    },
    {
     "name": "stdout",
     "output_type": "stream",
     "text": [
      "Cache key blocks.0.attn.pattern not found. Available keys: ['hook_embed', 'hook_pos_embed', 'blocks.0.hook_resid_pre', 'blocks.0.attn.hook_q', 'blocks.0.attn.hook_k']\n",
      "Epoch 295 Validation Loss 0.3558838963508606\n",
      "Cache key blocks.0.attn.pattern not found. Available keys: ['hook_embed', 'hook_pos_embed', 'blocks.0.hook_resid_pre', 'blocks.0.attn.hook_q', 'blocks.0.attn.hook_k']\n",
      "Cache key blocks.0.attn.pattern not found. Available keys: ['hook_embed', 'hook_pos_embed', 'blocks.0.hook_resid_pre', 'blocks.0.attn.hook_q', 'blocks.0.attn.hook_k']\n"
     ]
    },
    {
     "name": "stderr",
     "output_type": "stream",
     "text": [
      " 99%|█████████▊| 296/300 [09:27<00:11,  2.89s/it]"
     ]
    },
    {
     "name": "stdout",
     "output_type": "stream",
     "text": [
      "Cache key blocks.0.attn.pattern not found. Available keys: ['hook_embed', 'hook_pos_embed', 'blocks.0.hook_resid_pre', 'blocks.0.attn.hook_q', 'blocks.0.attn.hook_k']\n",
      "📊 Metrics logged at step 37000\n",
      "Epoch 296 Validation Loss 0.35685673356056213\n",
      "Cache key blocks.0.attn.pattern not found. Available keys: ['hook_embed', 'hook_pos_embed', 'blocks.0.hook_resid_pre', 'blocks.0.attn.hook_q', 'blocks.0.attn.hook_k']\n"
     ]
    },
    {
     "name": "stderr",
     "output_type": "stream",
     "text": [
      " 99%|█████████▉| 297/300 [09:29<00:08,  2.71s/it]"
     ]
    },
    {
     "name": "stdout",
     "output_type": "stream",
     "text": [
      "Cache key blocks.0.attn.pattern not found. Available keys: ['hook_embed', 'hook_pos_embed', 'blocks.0.hook_resid_pre', 'blocks.0.attn.hook_q', 'blocks.0.attn.hook_k']\n",
      "Epoch 297 Validation Loss 0.35599106550216675\n",
      "Cache key blocks.0.attn.pattern not found. Available keys: ['hook_embed', 'hook_pos_embed', 'blocks.0.hook_resid_pre', 'blocks.0.attn.hook_q', 'blocks.0.attn.hook_k']\n",
      "Cache key blocks.0.attn.pattern not found. Available keys: ['hook_embed', 'hook_pos_embed', 'blocks.0.hook_resid_pre', 'blocks.0.attn.hook_q', 'blocks.0.attn.hook_k']\n",
      "📊 Metrics logged at step 37200\n"
     ]
    },
    {
     "name": "stderr",
     "output_type": "stream",
     "text": [
      " 99%|█████████▉| 298/300 [09:32<00:05,  2.85s/it]"
     ]
    },
    {
     "name": "stdout",
     "output_type": "stream",
     "text": [
      "Cache key blocks.0.attn.pattern not found. Available keys: ['hook_embed', 'hook_pos_embed', 'blocks.0.hook_resid_pre', 'blocks.0.attn.hook_q', 'blocks.0.attn.hook_k']\n",
      "Epoch 298 Validation Loss 0.35624074935913086\n",
      "Cache key blocks.0.attn.pattern not found. Available keys: ['hook_embed', 'hook_pos_embed', 'blocks.0.hook_resid_pre', 'blocks.0.attn.hook_q', 'blocks.0.attn.hook_k']\n"
     ]
    },
    {
     "name": "stderr",
     "output_type": "stream",
     "text": [
      "100%|█████████▉| 299/300 [09:35<00:02,  2.69s/it]"
     ]
    },
    {
     "name": "stdout",
     "output_type": "stream",
     "text": [
      "Cache key blocks.0.attn.pattern not found. Available keys: ['hook_embed', 'hook_pos_embed', 'blocks.0.hook_resid_pre', 'blocks.0.attn.hook_q', 'blocks.0.attn.hook_k']\n",
      "Epoch 299 Validation Loss 0.3560197949409485\n",
      "Cache key blocks.0.attn.pattern not found. Available keys: ['hook_embed', 'hook_pos_embed', 'blocks.0.hook_resid_pre', 'blocks.0.attn.hook_q', 'blocks.0.attn.hook_k']\n",
      "📊 Metrics logged at step 37400\n",
      "Cache key blocks.0.attn.pattern not found. Available keys: ['hook_embed', 'hook_pos_embed', 'blocks.0.hook_resid_pre', 'blocks.0.attn.hook_q', 'blocks.0.attn.hook_k']\n"
     ]
    },
    {
     "name": "stderr",
     "output_type": "stream",
     "text": [
      "100%|██████████| 300/300 [09:38<00:00,  1.93s/it]"
     ]
    },
    {
     "name": "stdout",
     "output_type": "stream",
     "text": [
      "Cache key blocks.0.attn.pattern not found. Available keys: ['hook_embed', 'hook_pos_embed', 'blocks.0.hook_resid_pre', 'blocks.0.attn.hook_q', 'blocks.0.attn.hook_k']\n",
      "Epoch 300 Samples 8000 Step 124 Training Loss 0.3500584065914154\n",
      "Epoch 300 Validation Loss 0.3562922775745392\n"
     ]
    },
    {
     "name": "stderr",
     "output_type": "stream",
     "text": [
      "\n"
     ]
    },
    {
     "data": {
      "text/html": [],
      "text/plain": [
       "<IPython.core.display.HTML object>"
      ]
     },
     "metadata": {},
     "output_type": "display_data"
    },
    {
     "data": {
      "text/html": [
       "<br>    <style><br>        .wandb-row {<br>            display: flex;<br>            flex-direction: row;<br>            flex-wrap: wrap;<br>            justify-content: flex-start;<br>            width: 100%;<br>        }<br>        .wandb-col {<br>            display: flex;<br>            flex-direction: column;<br>            flex-basis: 100%;<br>            flex: 1;<br>            padding: 10px;<br>        }<br>    </style><br><div class=\"wandb-row\"><div class=\"wandb-col\"><h3>Run history:</h3><br/><table class=\"wandb\"><tr><td>1gram_kl_complete</td><td>▁▂▂▃▃▄▄▄▄▃▅▅▆▆▆▆▇▇▇▇▇▇▇▇▇▇▇█▇▇▇▇██▇█████</td></tr><tr><td>1gram_kl_train</td><td>▁▁▂▂▂▃▃▃▃▃▄▄▄▃▄▄▅▅▅▅▆▆▇▇▇▇▇█████████████</td></tr><tr><td>1gram_kl_val</td><td>▁▁▂▂▂▃▃▃▄▄▄▄▃▃▃▄▄▄▄▅▆▆▇▇▇▇▇▇▇▇█▇▇███████</td></tr><tr><td>2gram_kl_complete</td><td>▁▁▁▁▁▁▂▁▂▄▅▅▅▆▆▆▆▆▆▆▆▇▆▆▇▇▇▇▇▇▇▇▇▇▇▇▇██▇</td></tr><tr><td>2gram_kl_train</td><td>▁▁▁▁▁▁▂▂▂▄▆▆▆▆▆▇▇▆▇▆▆▇█▇▇▇█▇▇▇▇▇▇▇▇█▇█▇█</td></tr><tr><td>2gram_kl_val</td><td>▁▁▁▁▁▁▁▁▁▂▂▄▆▅▆▆▆▇▆▆▇▆▇▇▇▇▇▇██▇▇▇███████</td></tr><tr><td>3gram_kl_complete</td><td>▁▃▃▄▄▆▆▆▅▅▅▆▆▆▇▇▇▇▇▇▇▇▇█▇███████████████</td></tr><tr><td>3gram_kl_train</td><td>▁▄▄▄▅▅▅▆▆▆▅▆▆▅▅▆▆▆▆▇▇▇▇▇▇███████████████</td></tr><tr><td>3gram_kl_val</td><td>▁▃▃▃▃▄▄▅▅▅▆▅▅▅▅▇▇▇▇▇▇▇▇▇▇▇▇█████████████</td></tr><tr><td>epoch</td><td>▁▁▁▁▂▂▂▃▃▃▃▃▃▄▄▄▅▅▅▅▅▅▅▆▆▆▆▆▆▆▆▇▇▇▇▇████</td></tr><tr><td>+4</td><td>...</td></tr></table><br/></div><div class=\"wandb-col\"><h3>Run summary:</h3><br/><table class=\"wandb\"><tr><td>1gram_kl_complete</td><td>2.50344</td></tr><tr><td>1gram_kl_train</td><td>2.50344</td></tr><tr><td>1gram_kl_val</td><td>2.50344</td></tr><tr><td>2gram_kl_complete</td><td>0.99082</td></tr><tr><td>2gram_kl_train</td><td>0.99082</td></tr><tr><td>2gram_kl_val</td><td>0.99082</td></tr><tr><td>3gram_kl_complete</td><td>1.72383</td></tr><tr><td>3gram_kl_train</td><td>1.72383</td></tr><tr><td>3gram_kl_val</td><td>1.72383</td></tr><tr><td>epoch</td><td>300</td></tr><tr><td>+4</td><td>...</td></tr></table><br/></div></div>"
      ],
      "text/plain": [
       "<IPython.core.display.HTML object>"
      ]
     },
     "metadata": {},
     "output_type": "display_data"
    },
    {
     "data": {
      "text/html": [
       " View run <strong style=\"color:#cdcd00\">helpful-universe-10</strong> at: <a href='https://wandb.ai/jerrycloud3316-ai-club-iit-madras/ICL/runs/t0aky80g' target=\"_blank\">https://wandb.ai/jerrycloud3316-ai-club-iit-madras/ICL/runs/t0aky80g</a><br> View project at: <a href='https://wandb.ai/jerrycloud3316-ai-club-iit-madras/ICL' target=\"_blank\">https://wandb.ai/jerrycloud3316-ai-club-iit-madras/ICL</a><br>Synced 5 W&B file(s), 0 media file(s), 0 artifact file(s) and 0 other file(s)"
      ],
      "text/plain": [
       "<IPython.core.display.HTML object>"
      ]
     },
     "metadata": {},
     "output_type": "display_data"
    },
    {
     "data": {
      "text/html": [
       "Find logs at: <code>./wandb/run-20250914_002547-t0aky80g/logs</code>"
      ],
      "text/plain": [
       "<IPython.core.display.HTML object>"
      ]
     },
     "metadata": {},
     "output_type": "display_data"
    }
   ],
   "source": [
    "wandb.init(reinit=True)\n",
    "model = train_model(\n",
    "    dataset=dataset,\n",
    "    n_layers=1,\n",
    "    d_model=16,\n",
    "    n_heads=2, \n",
    "    attn_only=True,\n",
    "    act_fn='silu',\n",
    "\n",
    "    # Training\n",
    "    n_epochs=300,\n",
    "    batch_size=64,\n",
    "    lr=0.1,\n",
    "\n",
    "    # Logging\n",
    "    wandb=True,\n",
    "    wandb_project_name=\"ICL\",\n",
    "    save_dir=\"proc1/seq_len_30/\",\n",
    "    save_every=20,\n",
    "    print_every=10,\n",
    "\n",
    "    # ALL ADVANCED METRICS ENABLED\n",
    "    track_ngrams=True,\n",
    "    ngram_orders=[1, 2, 3],    # Track many n-gram orders\n",
    "\n",
    "    track_composition=False,           # Attention head composition scores\n",
    "    track_previous_token=True,        # Previous token matching\n",
    "    track_in_context=True,           # In-context learning capability\n",
    "    track_prefix_matching=False       # Prefix matching behavior\n",
    ")\n",
    "wandb.finish()"
   ]
  },
  {
   "cell_type": "code",
   "execution_count": 13,
   "id": "7790ea8d",
   "metadata": {},
   "outputs": [],
   "source": [
    "# Metric Codes\n",
    "\n",
    "def bigram_kl(model):\n",
    "    T0 = np.array([\n",
    "        [0, 1, 0],\n",
    "        [0, 0, 1],\n",
    "        [0, 0, 0.5]\n",
    "    ])\n",
    "\n",
    "    T1 = np.array([\n",
    "        [0, 0, 0],\n",
    "        [0, 0, 0],\n",
    "        [0.5, 0, 0]\n",
    "    ])\n",
    "\n",
    "    # Generate test data\n",
    "    test_data = MarkovData(50, 30, 3, 2, [T0, T1], seed=42)\n",
    "    x = torch.stack(test_data.data)  # shape: (50, 30)\n",
    "\n",
    "    # Build dist1 manually based on x values\n",
    "    dist1 = torch.zeros(x.size(0), x.size(1), 2)  # shape: (50, 30, 2)\n",
    "    dist1[..., 0] = torch.where(x == 1, 1, 0.5)  # P(0)\n",
    "    dist1[..., 1] = torch.where(x == 1, 0, 0.5)  # P(1)\n",
    "\n",
    "    # Get predicted probabilities from model\n",
    "    dist2 = model(x).softmax(dim=-1)  # shape: (50, 30, 2)\n",
    "\n",
    "    # Avoid log(0) by clamping very small values\n",
    "    eps = 1e-8\n",
    "    dist1_clamped = dist1.clamp(min=eps)\n",
    "    dist2_clamped = dist2.clamp(min=eps)\n",
    "\n",
    "    # Compute KL divergence manually: sum_i P(i) * log(P(i)/Q(i))\n",
    "    def kl(dist1_clamped, dist2_clamped):\n",
    "        kl = dist1_clamped * (dist1_clamped.log() - dist2_clamped.log())  # shape: (4, 10, 2)\n",
    "        kl_sum = kl.sum(dim=-1)  # sum over distribution axis → shape: (4, 10)\n",
    "        return kl_sum.mean().item()  # scalar\n",
    "\n",
    "    return kl(dist1_clamped, dist2_clamped), kl(dist2_clamped, dist1_clamped)\n",
    "\n",
    "def trigram_kl(model):\n",
    "    \"\"\"\n",
    "    Compute KL divergence between true Mealy process and model predictions\n",
    "    based on trigram-level distributions.\n",
    "    \"\"\"\n",
    "    T0 = np.array([\n",
    "        [0, 1, 0],\n",
    "        [0, 0, 1],\n",
    "        [0, 0, 0.5]\n",
    "    ])\n",
    "\n",
    "    T1 = np.array([\n",
    "        [0, 0, 0],\n",
    "        [0, 0, 0],\n",
    "        [0.5, 0, 0]\n",
    "    ])\n",
    "    \n",
    "    # Generate test data\n",
    "    test_data = MarkovData(50, 32, 3, 2, [T0, T1], seed=42)\n",
    "    x = torch.stack(test_data.data)  # shape: (50, 32)\n",
    "    \n",
    "    batch_size, seq_len = x.shape\n",
    "    dist1 = torch.zeros(batch_size, seq_len, 2)  # shape: (50, 32, 2)\n",
    "    \n",
    "    # For trigram-based prediction, we need the last two tokens to predict the next\n",
    "    for i in range(batch_size):\n",
    "        for j in range(2, seq_len):  \n",
    "            prev_bigram = f\"{x[i, j-2].item()}{x[i, j-1].item()}\"\n",
    "            \n",
    "            if prev_bigram == \"00\":\n",
    "                dist1[i, j, 0] = 0.5    # P(0|00) \n",
    "                dist1[i, j, 1] = 0.5    # P(1|00)\n",
    "            elif prev_bigram == \"01\":\n",
    "                dist1[i, j, 0] = 1.0    # P(0|01)\n",
    "                dist1[i, j, 1] = 0.0    # P(1|01)\n",
    "            elif prev_bigram == \"10\":\n",
    "                dist1[i, j, 0] = 1.0    # P(0|10)\n",
    "                dist1[i, j, 1] = 0.0    # P(1|10)\n",
    "            elif prev_bigram == \"11\":\n",
    "                # This should never occur in the true process\n",
    "                dist1[i, j, 0] = 0.5    # Fallback\n",
    "                dist1[i, j, 1] = 0.5\n",
    "    \n",
    "    # Get predicted probabilities from model\n",
    "    dist2 = model(x).softmax(dim=-1)  # shape: (50, 32, 2)\n",
    "    \n",
    "    # Only evaluate positions where we have trigram context (positions 2 and beyond)\n",
    "    dist1_eval = dist1[:, 2:, :]\n",
    "    dist2_eval = dist2[:, 2:, :]\n",
    "    \n",
    "    # Avoid log(0) by clamping very small values\n",
    "    eps = 1e-8\n",
    "    dist1_clamped = dist1_eval.clamp(min=eps)\n",
    "    dist2_clamped = dist2_eval.clamp(min=eps)\n",
    "    \n",
    "    # Compute KL divergence manually: sum_i P(i) * log(P(i)/Q(i))\n",
    "    def kl(dist1_clamped, dist2_clamped):\n",
    "        kl_div = dist1_clamped * (dist1_clamped.log() - dist2_clamped.log())\n",
    "        kl_sum = kl_div.sum(dim=-1)  # sum over distribution axis\n",
    "        return kl_sum.mean().item()  # scalar\n",
    "    \n",
    "    return kl(dist1_clamped, dist2_clamped), kl(dist2_clamped, dist1_clamped)\n",
    "\n",
    "def markov_kl(model):\n",
    "    T0 = np.array([\n",
    "        [0, 1, 0],\n",
    "        [0, 0, 1],\n",
    "        [0, 0, 0.5]\n",
    "    ])\n",
    "\n",
    "    T1 = np.array([\n",
    "        [0, 0, 0],\n",
    "        [0, 0, 0],\n",
    "        [0.5, 0, 0]\n",
    "    ])\n",
    "\n",
    "    # Generate test data\n",
    "    test_data = MarkovData(50, 30, 3, 2, [T0, T1], seed=42)\n",
    "    x = torch.stack(test_data.data)  # shape: (4, 10)\n",
    "    dist1 = []\n",
    "    for etas in test_data.states:\n",
    "        dist1.append([test_data.model.token_probabilities(eta) for eta in etas])\n",
    "    dist1 = torch.tensor(np.array(dist1))[:, 1:, :]\n",
    "\n",
    "    # Get predicted probabilities from model\n",
    "    dist2 = model(x).softmax(dim=-1)  # shape: (4, 10, 2)\n",
    "\n",
    "    # Avoid log(0) by clamping very small values\n",
    "    eps = 1e-8\n",
    "    dist1_clamped = dist1.clamp(min=eps)\n",
    "    dist2_clamped = dist2.clamp(min=eps)\n",
    "\n",
    "    # Compute KL divergence manually: sum_i P(i) * log(P(i)/Q(i))\n",
    "    def kl(dist1_clamped, dist2_clamped):\n",
    "        kl = dist1_clamped * (dist1_clamped.log() - dist2_clamped.log())  # shape: (4, 10, 2)\n",
    "        kl_sum = kl.sum(dim=-1)  # sum over distribution axis → shape: (4, 10)\n",
    "        return kl_sum.mean().item()  # scalar\n",
    "\n",
    "    return kl(dist1_clamped, dist2_clamped), kl(dist2_clamped, dist1_clamped)\n",
    "\n",
    "def test_on_all(model, gen_len, start=2):\n",
    "    assert gen_len % 3 == 0, 'gen_len should be a multiple of 3'\n",
    "    # Building the test data\n",
    "    test_seq = [0, 1, None] * (gen_len // 3)\n",
    "    all_seq = [test_seq]\n",
    "    temp = []\n",
    "    for i in range(2, len(test_seq), 3):\n",
    "        for j in range(len(all_seq)):\n",
    "            temp.append(all_seq[j].copy())\n",
    "            temp[-1][i] = 0\n",
    "            temp.append(all_seq[j].copy())\n",
    "            temp[-1][i] = 1\n",
    "        all_seq, temp = temp, []\n",
    "    all_seq = [all_seq, [i[-1:] + i[:-1] for i in all_seq], [i[-2:] + i[:-2] for i in all_seq]]\n",
    "    all_seq = [torch.tensor(seq, dtype=torch.int64) for seq in all_seq]\n",
    "    \n",
    "    # Testing the model\n",
    "    errors = []\n",
    "    acc = 0.0\n",
    "    for i in range(3):\n",
    "        preds = model(all_seq[i])[:,:-1,:].argmax(dim=-1)\n",
    "        err = torch.where(all_seq[i][:,1:] != preds, 1, 0)\n",
    "        for j in range(gen_len // 3):\n",
    "            err[:, (3*j + i + 1) % (gen_len - 1)] = 0\n",
    "        err[:,:start] = 0\n",
    "        errors.append(err)\n",
    "        acc += (1 - err.sum() / (err.shape[0] * err.shape[1])) * 100\n",
    "    acc /= 3\n",
    "    print(f'Accuracy: {acc:.2f} %')\n",
    "    return torch.cat([all_seq[i][errors[i].sum(dim=-1).nonzero().flatten().tolist()] for i in range(3)])"
   ]
  },
  {
   "cell_type": "code",
   "execution_count": 14,
   "id": "2cb8e71e",
   "metadata": {},
   "outputs": [
    {
     "name": "stdout",
     "output_type": "stream",
     "text": [
      "proc1/seq_len_30\n",
      "B||M = KL(Bigram || Model), M||B = KL(Model || Bigram)\n",
      "\n",
      "Model 20: B||M - 0.070, M||B - 0.063\n",
      "Model 40: B||M - 0.108, M||B - 0.087\n",
      "Model 60: B||M - 0.107, M||B - 0.068\n",
      "Model 80: B||M - 0.384, M||B - 0.149\n",
      "Model 100: B||M - 0.585, M||B - 0.168\n",
      "Model 120: B||M - 0.831, M||B - 0.174\n",
      "Model 140: B||M - 0.815, M||B - 0.172\n",
      "Model 160: B||M - 0.747, M||B - 0.171\n",
      "Model 180: B||M - 0.844, M||B - 0.172\n",
      "Model 200: B||M - 0.796, M||B - 0.173\n",
      "Model 220: B||M - 0.854, M||B - 0.172\n",
      "Model 240: B||M - 0.884, M||B - 0.172\n",
      "Model 260: B||M - 0.823, M||B - 0.171\n",
      "Model 280: B||M - 0.921, M||B - 0.172\n"
     ]
    }
   ],
   "source": [
    "model_name = 'proc1/seq_len_30'\n",
    "print(model_name)\n",
    "print('B||M = KL(Bigram || Model), M||B = KL(Model || Bigram)', end='\\n\\n')\n",
    "for i in range(20, 300, 20):\n",
    "\n",
    "    bm, mb = bigram_kl(load_model(f'{model_name}/model{i}.pt', f'{model_name}/model_cfg.pt'))\n",
    "    print(f\"Model {i}: B||M - {bm:.3f}, M||B - {mb:.3f}\")\n"
   ]
  },
  {
   "cell_type": "code",
   "execution_count": 15,
   "id": "ac1d762b",
   "metadata": {},
   "outputs": [
    {
     "name": "stdout",
     "output_type": "stream",
     "text": [
      "proc1/seq_len_30\n",
      "B||M = KL(Markov || Model), M||B = KL(Model || Markov)\n",
      "\n",
      "Model 20: B||M - 0.111, M||B - 1.120\n",
      "Model 40: B||M - 0.103, M||B - 0.905\n",
      "Model 60: B||M - 0.080, M||B - 0.934\n",
      "Model 80: B||M - 0.019, M||B - 0.164\n",
      "Model 100: B||M - 0.003, M||B - 0.017\n",
      "Model 120: B||M - 0.003, M||B - 0.005\n",
      "Model 140: B||M - 0.001, M||B - 0.003\n",
      "Model 160: B||M - 0.001, M||B - 0.003\n",
      "Model 180: B||M - 0.001, M||B - 0.002\n",
      "Model 200: B||M - 0.001, M||B - 0.002\n",
      "Model 220: B||M - 0.000, M||B - 0.001\n",
      "Model 240: B||M - 0.000, M||B - 0.001\n",
      "Model 260: B||M - 0.001, M||B - 0.002\n",
      "Model 280: B||M - 0.000, M||B - 0.001\n"
     ]
    }
   ],
   "source": [
    "model_name = 'proc1/seq_len_30'\n",
    "print(model_name)\n",
    "print('B||M = KL(Markov || Model), M||B = KL(Model || Markov)', end='\\n\\n')\n",
    "for i in range(20, 300, 20):\n",
    "    try:\n",
    "        bm, mb = markov_kl(load_model(f'{model_name}/model{i}.pt', f'{model_name}/model_cfg.pt'))\n",
    "        print(f\"Model {i}: B||M - {bm:.3f}, M||B - {mb:.3f}\")\n",
    "    except Exception:\n",
    "        break"
   ]
  },
  {
   "cell_type": "code",
   "execution_count": null,
   "id": "82b77c94",
   "metadata": {},
   "outputs": [
    {
     "name": "stderr",
     "output_type": "stream",
     "text": [
      "/opt/anaconda3/envs/toytrans/lib/python3.10/site-packages/tqdm/auto.py:21: TqdmWarning: IProgress not found. Please update jupyter and ipywidgets. See https://ipywidgets.readthedocs.io/en/stable/user_install.html\n",
      "  from .autonotebook import tqdm as notebook_tqdm\n"
     ]
    }
   ],
   "source": [
    "import torch\n",
    "import datasets\n"
   ]
  },
  {
   "cell_type": "code",
   "execution_count": 7,
   "id": "39a9a271",
   "metadata": {},
   "outputs": [
    {
     "ename": "NameError",
     "evalue": "name 'dataset' is not defined",
     "output_type": "error",
     "traceback": [
      "\u001b[0;31m---------------------------------------------------------------------------\u001b[0m",
      "\u001b[0;31mNameError\u001b[0m                                 Traceback (most recent call last)",
      "Cell \u001b[0;32mIn[7], line 1\u001b[0m\n\u001b[0;32m----> 1\u001b[0m train_data \u001b[38;5;241m=\u001b[39m torch\u001b[38;5;241m.\u001b[39mstack(\u001b[43mdataset\u001b[49m\u001b[38;5;241m.\u001b[39mdata[:\u001b[38;5;241m200\u001b[39m])  \u001b[38;5;66;03m# 200 train sequences\u001b[39;00m\n\u001b[1;32m      2\u001b[0m val_data \u001b[38;5;241m=\u001b[39m torch\u001b[38;5;241m.\u001b[39mstack(dataset\u001b[38;5;241m.\u001b[39mdata[\u001b[38;5;241m200\u001b[39m:\u001b[38;5;241m300\u001b[39m])  \u001b[38;5;66;03m# 100 val sequences  \u001b[39;00m\n\u001b[1;32m      3\u001b[0m complete_data \u001b[38;5;241m=\u001b[39m torch\u001b[38;5;241m.\u001b[39mcat([train_data, val_data], dim\u001b[38;5;241m=\u001b[39m\u001b[38;5;241m0\u001b[39m)\n",
      "\u001b[0;31mNameError\u001b[0m: name 'dataset' is not defined"
     ]
    }
   ],
   "source": [
    "train_data = torch.stack(dataset.data[:200])  # 200 train sequences\n",
    "val_data = torch.stack(dataset.data[200:300])  # 100 val sequences  \n",
    "complete_data = torch.cat([train_data, val_data], dim=0)\n",
    "\n",
    "datasets_dict = {\n",
    "    \"train\": train_data,\n",
    "    \"val\": val_data,\n",
    "    \"complete\": complete_data\n",
    "}"
   ]
  },
  {
   "cell_type": "code",
   "execution_count": null,
   "id": "79e30501",
   "metadata": {},
   "outputs": [
    {
     "ename": "NameError",
     "evalue": "name 'tracker' is not defined",
     "output_type": "error",
     "traceback": [
      "\u001b[0;31m---------------------------------------------------------------------------\u001b[0m",
      "\u001b[0;31mNameError\u001b[0m                                 Traceback (most recent call last)",
      "Cell \u001b[0;32mIn[16], line 1\u001b[0m\n\u001b[0;32m----> 1\u001b[0m all_metrics \u001b[38;5;241m=\u001b[39m \u001b[43mtracker\u001b[49m\u001b[38;5;241m.\u001b[39mcompute_all_metrics(model, datasets_dict, step\u001b[38;5;241m=\u001b[39m\u001b[38;5;241m1000\u001b[39m)\n",
      "\u001b[0;31mNameError\u001b[0m: name 'tracker' is not defined"
     ]
    }
   ],
   "source": [
    "from toy_transformer import metrics_tracker_advanced\n",
    "\n",
    "\n",
    "all_metrics = metrics_tracker_advanced.compute_all_metrics(model, datasets_dict, step=1000)"
   ]
  },
  {
   "cell_type": "code",
   "execution_count": null,
   "id": "bfa8dc85",
   "metadata": {},
   "outputs": [],
   "source": [
    "for k, v in all_metrics.items():\n",
    "    if 'gram' in k:\n",
    "        print(f\"  {k}: {v:.4f}\")"
   ]
  },
  {
   "cell_type": "code",
   "execution_count": 12,
   "id": "30b70967",
   "metadata": {},
   "outputs": [
    {
     "name": "stdout",
     "output_type": "stream",
     "text": [
      "\n",
      "Testing prefix matching...\n",
      "Vocab size too small (2) for prefix matching\n",
      "Prefix matching scores for 0 attention heads:\n"
     ]
    }
   ],
   "source": [
    "print(\"\\nTesting prefix matching...\")\n",
    "from metrics_tracker_advanced import compute_prefix_matching_score\n",
    "prefix_scores = compute_prefix_matching_score(model, num_samples=100)\n",
    "print(f\"Prefix matching scores for {len(prefix_scores)} attention heads:\")\n",
    "for k, v in list(prefix_scores.items())[:5]:  # Show first 5\n",
    "    print(f\"  {k}: {v:.4f}\")"
   ]
  },
  {
   "cell_type": "code",
   "execution_count": 13,
   "id": "ee1adbe6",
   "metadata": {},
   "outputs": [
    {
     "name": "stdout",
     "output_type": "stream",
     "text": [
      "\n",
      "Testing in-context learning...\n",
      "In-context learning score: -inf\n",
      "  (More negative = better in-context learning)\n"
     ]
    }
   ],
   "source": [
    "print(\"\\nTesting in-context learning...\")\n",
    "from metrics_tracker_advanced import compute_in_context_learning_score\n",
    "icl_score = compute_in_context_learning_score(model, num_samples=50, k1=5, k2=25)\n",
    "print(f\"In-context learning score: {icl_score:.4f}\")\n",
    "print(\"  (More negative = better in-context learning)\")"
   ]
  },
  {
   "cell_type": "code",
   "execution_count": 14,
   "id": "7629cc97",
   "metadata": {},
   "outputs": [
    {
     "name": "stdout",
     "output_type": "stream",
     "text": [
      "\n",
      "Testing previous token matching...\n",
      "Cache key blocks.0.attn.pattern not found. Available keys: ['hook_embed', 'hook_pos_embed', 'blocks.0.hook_resid_pre', 'blocks.0.attn.hook_q', 'blocks.0.attn.hook_k']\n",
      "Previous token scores for 0 attention heads:\n"
     ]
    }
   ],
   "source": [
    "print(\"\\nTesting previous token matching...\")\n",
    "from metrics_tracker_advanced import compute_previous_token_matching_score\n",
    "prev_scores = compute_previous_token_matching_score(model, num_samples=100)\n",
    "print(f\"Previous token scores for {len(prev_scores)} attention heads:\")\n",
    "for k, v in list(prev_scores.items())[:5]:  # Show first 5\n",
    "    print(f\"  {k}: {v:.4f}\")"
   ]
  }
 ],
 "metadata": {
  "kernelspec": {
   "display_name": "toytrans",
   "language": "python",
   "name": "python3"
  },
  "language_info": {
   "codemirror_mode": {
    "name": "ipython",
    "version": 3
   },
   "file_extension": ".py",
   "mimetype": "text/x-python",
   "name": "python",
   "nbconvert_exporter": "python",
   "pygments_lexer": "ipython3",
   "version": "3.10.18"
  }
 },
 "nbformat": 4,
 "nbformat_minor": 5
}

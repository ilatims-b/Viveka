{
 "cells": [
  {
   "cell_type": "code",
   "execution_count": 1,
   "id": "4a55d89c",
   "metadata": {},
   "outputs": [
    {
     "name": "stderr",
     "output_type": "stream",
     "text": [
      "/opt/anaconda3/envs/toytrans/lib/python3.10/site-packages/tqdm/auto.py:21: TqdmWarning: IProgress not found. Please update jupyter and ipywidgets. See https://ipywidgets.readthedocs.io/en/stable/user_install.html\n",
      "  from .autonotebook import tqdm as notebook_tqdm\n"
     ]
    }
   ],
   "source": [
    "from toy_model import *\n",
    "from metrics import *\n",
    "import wandb\n",
    "import torch\n",
    "import numpy as np"
   ]
  },
  {
   "cell_type": "code",
   "execution_count": 2,
   "id": "09170846",
   "metadata": {},
   "outputs": [
    {
     "name": "stderr",
     "output_type": "stream",
     "text": [
      "\u001b[34m\u001b[1mwandb\u001b[0m: Currently logged in as: \u001b[33mce24b119\u001b[0m (\u001b[33mjerrycloud3316-ai-club-iit-madras\u001b[0m) to \u001b[32mhttps://api.wandb.ai\u001b[0m. Use \u001b[1m`wandb login --relogin`\u001b[0m to force relogin\n"
     ]
    },
    {
     "data": {
      "text/plain": [
       "True"
      ]
     },
     "execution_count": 2,
     "metadata": {},
     "output_type": "execute_result"
    }
   ],
   "source": [
    "\n",
    "wandb.login()"
   ]
  },
  {
   "cell_type": "code",
   "execution_count": 3,
   "id": "6e1986d4",
   "metadata": {},
   "outputs": [],
   "source": [
    "# to find kl loss between model and these processes\n",
    "T0_proc1 = np.array([\n",
    "    [0, 1, 0],\n",
    "    [0, 0, 1], \n",
    "    [0, 0, 0.5]\n",
    "])\n",
    "T1_proc1 = np.array([\n",
    "    [0, 0, 0],\n",
    "    [0, 0, 0],\n",
    "    [0.5, 0, 0]\n",
    "])\n",
    "\n",
    "# Different process\n",
    "T0_proc2 = np.array([\n",
    "    [0,1,0],\n",
    "    [0,0,0],\n",
    "    [0.5,0,0]\n",
    "])\n",
    "T1_proc2 = np.array([\n",
    "    [0,0,0],\n",
    "    [0,0,1],\n",
    "    [0.5,0,0]\n",
    "])\n",
    "T0_proc3 = np.array([\n",
    "    [0,1,0,0],\n",
    "    [0,0,0,0.5],\n",
    "    [0.5,0,0,0],\n",
    "    [0,0,0,0.5]])\n",
    "T1_proc3 = np.array([\n",
    "    [0,0,0,0],\n",
    "    [0,0,0.5,0],\n",
    "    [0.5,0,0,0],\n",
    "    [0.5,0,0,0]])   \n",
    "process1 = MarkovData(n_gen=100, gen_len=32, n_states=3, d_vocab=2, T_list=[T0_proc1, T1_proc1], seed=43)\n",
    "process2 = MarkovData(n_gen=100, gen_len=32, n_states=3, d_vocab=2, T_list=[T0_proc2, T1_proc2], seed=43)\n",
    "process3 = MarkovData(n_gen=100, gen_len=32, n_states=4, d_vocab=2, T_list=[T0_proc3, T1_proc3], seed=43)"
   ]
  },
  {
   "cell_type": "code",
   "execution_count": null,
   "id": "ad720cae",
   "metadata": {},
   "outputs": [],
   "source": [
    "dataset1=MarkovData(n_gen=5000, gen_len=32, n_states=3, d_vocab=2, T_list=[T0_proc1, T1_proc1])\n",
    "dataset2=MarkovData(n_gen=5000, gen_len=32, n_states=3, d_vocab=2, T_list=[T0_proc2, T1_proc2])\n",
    "merged_dataset = MergeMarkovDatasets(dataset1=dataset1, dataset2=dataset2,mixing_style='random')\n",
    "for i in range (10):\n",
    "    print(merged_dataset[i])"
   ]
  },
  {
   "cell_type": "code",
   "execution_count": null,
   "id": "cea2c906",
   "metadata": {},
   "outputs": [],
   "source": [
    "x=torch.stack(merged_dataset.data)\n",
    "onegramfreq, onegramcounts, onegramtotal=get_ngram_stats(x, n=1)\n",
    "print(onegramfreq, onegramcounts, onegramtotal)\n",
    "twogramfreq, twogramcounts, twogramtotal=get_ngram_stats(x, n=2)\n",
    "print(twogramfreq, twogramcounts, twogramtotal)\n",
    "threegramfreq, threegramcounts, threegramtotal=get_ngram_stats(x, n=3)\n",
    "print(threegramfreq, threegramcounts, threegramtotal)\n"
   ]
  },
  {
   "cell_type": "code",
   "execution_count": null,
   "id": "b46d28b4",
   "metadata": {},
   "outputs": [],
   "source": [
    "dataset1=MarkovData(n_gen=50, gen_len=32, n_states=3, d_vocab=2, T_list=[T0_proc1, T1_proc1], seed=43)\n",
    "dataset2=MarkovData(n_gen=50, gen_len=32, n_states=3, d_vocab=2, T_list=[T0_proc2, T1_proc2], seed=43)\n",
    "test_dataset = MergeMarkovDatasets(dataset1=dataset1, dataset2=dataset2,mixing_style='random')"
   ]
  },
  {
   "cell_type": "code",
   "execution_count": null,
   "id": "0696a087",
   "metadata": {},
   "outputs": [],
   "source": [
    "\n",
    "metrics_config = MetricsConfig(\n",
    "    track_markov_kl=True,\n",
    "    markov_processes=[process1,process2,process3], \n",
    "    pos_start=6,\n",
    "    \n",
    "    track_ngrams=True,\n",
    "    ngram_data=test_dataset,\n",
    "    ngram_orders=[1, 2, 3],\n",
    "    track_previous_token=True,\n",
    "    track_in_context=False, \n",
    "    icl_data=test_dataset,\n",
    "    icl_k1=5,\n",
    "    icl_k2=32,\n",
    "    track_composition=True,\n",
    "    track_prefix_matching=False)"
   ]
  },
  {
   "cell_type": "code",
   "execution_count": null,
   "id": "a80063e1",
   "metadata": {},
   "outputs": [],
   "source": [
    "model=load_model(\"proc1/seq_len32/X7/model300.pt\",\"proc1/seq_len32/X7/model_cfg.pt\")\n",
    "print(model.cfg)"
   ]
  },
  {
   "cell_type": "code",
   "execution_count": null,
   "id": "ad39e5f9",
   "metadata": {},
   "outputs": [],
   "source": [
    "model=load_model(\"proc1/seq_len32/X4/model300.pt\",\"proc1/seq_len32/X4/model_cfg.pt\")\n",
    "print(model.cfg)"
   ]
  },
  {
   "cell_type": "code",
   "execution_count": null,
   "id": "fe9ceea3",
   "metadata": {},
   "outputs": [],
   "source": [
    "\n",
    "model = train_model(\n",
    "    dataset=merged_dataset,\n",
    "    n_layers=2,\n",
    "    d_model=16,\n",
    "    n_heads=2, \n",
    "    attn_only=False,\n",
    "    act_fn='silu',\n",
    "\n",
    "    n_epochs=300,\n",
    "    batch_size=64,\n",
    "    lr=0.05,\n",
    "\n",
    "    wandb=True,\n",
    "    wandb_project_name=\"ICL\",\n",
    "    save_dir=\"proc1/seq_len32/X7*\",\n",
    "    save_every=20,\n",
    "    print_every=10,\n",
    "\n",
    "\n",
    "    metrics_config=metrics_config,\n",
    "    metrics_log_interval=20\n",
    "    )\n",
    "wandb.finish()"
   ]
  },
  {
   "cell_type": "markdown",
   "id": "7544b486",
   "metadata": {},
   "source": [
    "O_2: training on original process for baseline"
   ]
  },
  {
   "cell_type": "code",
   "execution_count": 4,
   "id": "1d769446",
   "metadata": {},
   "outputs": [
    {
     "name": "stdout",
     "output_type": "stream",
     "text": [
      "{'tokens': tensor([1, 0, 1, 0, 0, 0, 1, 0, 0, 0, 1, 0, 0, 0, 1, 0, 0, 0, 0, 0, 1, 0, 0, 1,\n",
      "        0, 1, 1, 0, 1, 1, 0, 0])}\n",
      "{'tokens': tensor([1, 0, 1, 1, 0, 0, 1, 0, 0, 1, 0, 1, 1, 0, 1, 1, 0, 0, 1, 0, 0, 0, 1, 0,\n",
      "        1, 1, 0, 0, 1, 0, 0, 0])}\n",
      "{'tokens': tensor([0, 0, 0, 0, 0, 0, 1, 0, 0, 1, 0, 0, 1, 0, 0, 0, 1, 0, 1, 1, 0, 1, 1, 0,\n",
      "        0, 1, 0, 0, 1, 0, 0, 0])}\n",
      "{'tokens': tensor([1, 1, 0, 1, 0, 0, 0, 1, 0, 1, 0, 0, 1, 1, 0, 1, 0, 0, 1, 0, 0, 0, 0, 1,\n",
      "        0, 1, 0, 0, 1, 0, 0, 1])}\n",
      "{'tokens': tensor([0, 0, 1, 0, 1, 1, 0, 0, 0, 0, 1, 0, 0, 1, 0, 0, 1, 0, 1, 0, 0, 0, 1, 0,\n",
      "        1, 1, 0, 1, 0, 0, 1, 1])}\n",
      "{'tokens': tensor([1, 1, 0, 1, 0, 0, 1, 0, 0, 1, 1, 0, 0, 1, 0, 0, 1, 0, 0, 1, 0, 1, 1, 0,\n",
      "        1, 1, 0, 1, 0, 0, 0, 1])}\n",
      "{'tokens': tensor([0, 0, 0, 1, 0, 0, 1, 0, 0, 0, 0, 1, 0, 0, 1, 0, 0, 0, 1, 0, 0, 0, 1, 0,\n",
      "        1, 1, 0, 0, 1, 0, 0, 0])}\n",
      "{'tokens': tensor([1, 0, 0, 1, 0, 0, 0, 1, 0, 0, 1, 0, 0, 1, 0, 0, 0, 0, 1, 0, 1, 1, 0, 1,\n",
      "        0, 0, 1, 1, 0, 1, 1, 0])}\n",
      "{'tokens': tensor([0, 1, 0, 0, 1, 0, 1, 0, 0, 0, 0, 0, 1, 0, 0, 1, 0, 0, 1, 0, 0, 1, 0, 0,\n",
      "        0, 0, 0, 1, 0, 1, 0, 0])}\n",
      "{'tokens': tensor([0, 1, 0, 0, 0, 0, 0, 0, 1, 0, 0, 0, 1, 0, 1, 1, 0, 0, 0, 1, 0, 0, 1, 0,\n",
      "        0, 0, 0, 1, 0, 1, 1, 0])}\n"
     ]
    }
   ],
   "source": [
    "original_dataset=MarkovData(n_gen=10000, gen_len=32, n_states=4, d_vocab=2, T_list=[T0_proc3, T1_proc3])\n",
    "for i in range(10):\n",
    "    print(original_dataset[i])"
   ]
  },
  {
   "cell_type": "code",
   "execution_count": 5,
   "id": "a86c2ca5",
   "metadata": {},
   "outputs": [],
   "source": [
    "test_dataset=MarkovData(n_gen=100, gen_len=32, n_states=4, d_vocab=2, T_list=[T0_proc3, T1_proc3], seed=43)"
   ]
  },
  {
   "cell_type": "code",
   "execution_count": null,
   "id": "3b5732d7",
   "metadata": {},
   "outputs": [],
   "source": [
    "x=torch.stack(original_dataset.data)\n",
    "onegramfreq, onegramcounts, onegramtotal=get_ngram_stats(x, n=1)\n",
    "print(onegramfreq, onegramcounts, onegramtotal)\n",
    "twogramfreq, twogramcounts, twogramtotal=get_ngram_stats(x, n=2)\n",
    "print(twogramfreq, twogramcounts, twogramtotal)\n",
    "threegramfreq, threegramcounts, threegramtotal=get_ngram_stats(x, n=3)\n",
    "print(threegramfreq, threegramcounts, threegramtotal)\n"
   ]
  },
  {
   "cell_type": "code",
   "execution_count": 6,
   "id": "7a36e6c4",
   "metadata": {},
   "outputs": [],
   "source": [
    "\n",
    "metrics_config = MetricsConfig(\n",
    "    track_markov_kl=True,\n",
    "    markov_processes=[process1,process2,process3], \n",
    "    pos_start=5,\n",
    "    \n",
    "    track_ngrams=True,\n",
    "    ngram_data=test_dataset,\n",
    "    ngram_orders=[1, 2, 3],\n",
    "    track_previous_token=True,\n",
    "    track_in_context=False, \n",
    "    icl_data=test_dataset,\n",
    "    icl_k1=5,\n",
    "    icl_k2=32,\n",
    "    track_composition=True,\n",
    "    track_prefix_matching=False)"
   ]
  },
  {
   "cell_type": "code",
   "execution_count": 7,
   "id": "db22c444",
   "metadata": {},
   "outputs": [
    {
     "data": {
      "text/html": [
       "creating run (0.1s)"
      ],
      "text/plain": [
       "<IPython.core.display.HTML object>"
      ]
     },
     "metadata": {},
     "output_type": "display_data"
    },
    {
     "data": {
      "text/html": [
       "Tracking run with wandb version 0.21.3"
      ],
      "text/plain": [
       "<IPython.core.display.HTML object>"
      ]
     },
     "metadata": {},
     "output_type": "display_data"
    },
    {
     "data": {
      "text/html": [
       "Run data is saved locally in <code>/Users/sbhandari/Documents/GitHub/Vivekafork/toy_transformer/wandb/run-20250918_221156-uy6jif4s</code>"
      ],
      "text/plain": [
       "<IPython.core.display.HTML object>"
      ]
     },
     "metadata": {},
     "output_type": "display_data"
    },
    {
     "data": {
      "text/html": [
       "Syncing run <strong><a href='https://wandb.ai/jerrycloud3316-ai-club-iit-madras/ICL/runs/uy6jif4s' target=\"_blank\">different-music-60</a></strong> to <a href='https://wandb.ai/jerrycloud3316-ai-club-iit-madras/ICL' target=\"_blank\">Weights & Biases</a> (<a href='https://wandb.me/developer-guide' target=\"_blank\">docs</a>)<br>"
      ],
      "text/plain": [
       "<IPython.core.display.HTML object>"
      ]
     },
     "metadata": {},
     "output_type": "display_data"
    },
    {
     "data": {
      "text/html": [
       " View project at <a href='https://wandb.ai/jerrycloud3316-ai-club-iit-madras/ICL' target=\"_blank\">https://wandb.ai/jerrycloud3316-ai-club-iit-madras/ICL</a>"
      ],
      "text/plain": [
       "<IPython.core.display.HTML object>"
      ]
     },
     "metadata": {},
     "output_type": "display_data"
    },
    {
     "data": {
      "text/html": [
       " View run at <a href='https://wandb.ai/jerrycloud3316-ai-club-iit-madras/ICL/runs/uy6jif4s' target=\"_blank\">https://wandb.ai/jerrycloud3316-ai-club-iit-madras/ICL/runs/uy6jif4s</a>"
      ],
      "text/plain": [
       "<IPython.core.display.HTML object>"
      ]
     },
     "metadata": {},
     "output_type": "display_data"
    },
    {
     "name": "stdout",
     "output_type": "stream",
     "text": [
      "Moving model to device:  cpu\n"
     ]
    },
    {
     "name": "stderr",
     "output_type": "stream",
     "text": [
      "  0%|          | 0/300 [00:00<?, ?it/s]"
     ]
    },
    {
     "name": "stdout",
     "output_type": "stream",
     "text": [
      "Metrics logged at step 50\n",
      "Metrics logged at step 100\n"
     ]
    },
    {
     "name": "stderr",
     "output_type": "stream",
     "text": [
      "  0%|          | 1/300 [00:01<07:28,  1.50s/it]"
     ]
    },
    {
     "name": "stdout",
     "output_type": "stream",
     "text": [
      "Epoch 1 Validation Loss 0.6225011348724365\n",
      "Metrics logged at step 150\n",
      "Metrics logged at step 200\n"
     ]
    },
    {
     "name": "stderr",
     "output_type": "stream",
     "text": [
      "  1%|          | 2/300 [00:03<08:02,  1.62s/it]"
     ]
    },
    {
     "name": "stdout",
     "output_type": "stream",
     "text": [
      "Metrics logged at step 250\n",
      "Epoch 2 Validation Loss 0.6213369369506836\n",
      "Metrics logged at step 300\n",
      "Metrics logged at step 350\n"
     ]
    },
    {
     "name": "stderr",
     "output_type": "stream",
     "text": [
      "  1%|          | 3/300 [00:04<07:38,  1.54s/it]"
     ]
    },
    {
     "name": "stdout",
     "output_type": "stream",
     "text": [
      "Epoch 3 Validation Loss 0.6207969784736633\n",
      "Metrics logged at step 400\n",
      "Metrics logged at step 450\n"
     ]
    },
    {
     "name": "stderr",
     "output_type": "stream",
     "text": [
      "  1%|▏         | 4/300 [00:06<07:49,  1.59s/it]"
     ]
    },
    {
     "name": "stdout",
     "output_type": "stream",
     "text": [
      "Metrics logged at step 500\n",
      "Epoch 4 Validation Loss 0.620583713054657\n",
      "Metrics logged at step 550\n",
      "Metrics logged at step 600\n"
     ]
    },
    {
     "name": "stderr",
     "output_type": "stream",
     "text": [
      "  2%|▏         | 5/300 [00:07<07:37,  1.55s/it]"
     ]
    },
    {
     "name": "stdout",
     "output_type": "stream",
     "text": [
      "Epoch 5 Validation Loss 0.6207185983657837\n",
      "Metrics logged at step 650\n",
      "Metrics logged at step 700\n"
     ]
    },
    {
     "name": "stderr",
     "output_type": "stream",
     "text": [
      "  2%|▏         | 6/300 [00:09<08:12,  1.68s/it]"
     ]
    },
    {
     "name": "stdout",
     "output_type": "stream",
     "text": [
      "Metrics logged at step 750\n",
      "Epoch 6 Validation Loss 0.6202517747879028\n",
      "Metrics logged at step 800\n",
      "Metrics logged at step 850\n"
     ]
    },
    {
     "name": "stderr",
     "output_type": "stream",
     "text": [
      "  2%|▏         | 7/300 [00:11<07:51,  1.61s/it]"
     ]
    },
    {
     "name": "stdout",
     "output_type": "stream",
     "text": [
      "Epoch 7 Validation Loss 0.6206116676330566\n",
      "Metrics logged at step 900\n",
      "Metrics logged at step 950\n"
     ]
    },
    {
     "name": "stderr",
     "output_type": "stream",
     "text": [
      "  3%|▎         | 8/300 [00:12<08:06,  1.67s/it]"
     ]
    },
    {
     "name": "stdout",
     "output_type": "stream",
     "text": [
      "Metrics logged at step 1000\n",
      "Epoch 8 Validation Loss 0.6201441287994385\n",
      "Metrics logged at step 1050\n",
      "Metrics logged at step 1100\n"
     ]
    },
    {
     "name": "stderr",
     "output_type": "stream",
     "text": [
      "  3%|▎         | 9/300 [00:14<07:59,  1.65s/it]"
     ]
    },
    {
     "name": "stdout",
     "output_type": "stream",
     "text": [
      "Epoch 9 Validation Loss 0.6202791333198547\n",
      "Metrics logged at step 1150\n",
      "Metrics logged at step 1200\n"
     ]
    },
    {
     "name": "stderr",
     "output_type": "stream",
     "text": [
      "  3%|▎         | 10/300 [00:16<08:01,  1.66s/it]"
     ]
    },
    {
     "name": "stdout",
     "output_type": "stream",
     "text": [
      "Metrics logged at step 1250\n",
      "Epoch 10 Samples 8000 Step 124 Training Loss 0.6138157844543457\n",
      "Epoch 10 Validation Loss 0.6204267740249634\n",
      "Metrics logged at step 1300\n",
      "Metrics logged at step 1350\n"
     ]
    },
    {
     "name": "stderr",
     "output_type": "stream",
     "text": [
      "  4%|▎         | 11/300 [00:17<07:50,  1.63s/it]"
     ]
    },
    {
     "name": "stdout",
     "output_type": "stream",
     "text": [
      "Epoch 11 Validation Loss 0.6199906468391418\n",
      "Metrics logged at step 1400\n",
      "Metrics logged at step 1450\n"
     ]
    },
    {
     "name": "stderr",
     "output_type": "stream",
     "text": [
      "  4%|▍         | 12/300 [00:19<07:56,  1.66s/it]"
     ]
    },
    {
     "name": "stdout",
     "output_type": "stream",
     "text": [
      "Metrics logged at step 1500\n",
      "Epoch 12 Validation Loss 0.6198477745056152\n",
      "Metrics logged at step 1550\n",
      "Metrics logged at step 1600\n"
     ]
    },
    {
     "name": "stderr",
     "output_type": "stream",
     "text": [
      "  4%|▍         | 13/300 [00:21<07:49,  1.63s/it]"
     ]
    },
    {
     "name": "stdout",
     "output_type": "stream",
     "text": [
      "Epoch 13 Validation Loss 0.620738685131073\n",
      "Metrics logged at step 1650\n",
      "Metrics logged at step 1700\n"
     ]
    },
    {
     "name": "stderr",
     "output_type": "stream",
     "text": [
      "  5%|▍         | 14/300 [00:22<07:53,  1.65s/it]"
     ]
    },
    {
     "name": "stdout",
     "output_type": "stream",
     "text": [
      "Metrics logged at step 1750\n",
      "Epoch 14 Validation Loss 0.6199987530708313\n",
      "Metrics logged at step 1800\n",
      "Metrics logged at step 1850\n"
     ]
    },
    {
     "name": "stderr",
     "output_type": "stream",
     "text": [
      "  5%|▌         | 15/300 [00:24<07:34,  1.59s/it]"
     ]
    },
    {
     "name": "stdout",
     "output_type": "stream",
     "text": [
      "Epoch 15 Validation Loss 0.6205834150314331\n",
      "Metrics logged at step 1900\n",
      "Metrics logged at step 1950\n"
     ]
    },
    {
     "name": "stderr",
     "output_type": "stream",
     "text": [
      "  5%|▌         | 16/300 [00:25<07:39,  1.62s/it]"
     ]
    },
    {
     "name": "stdout",
     "output_type": "stream",
     "text": [
      "Metrics logged at step 2000\n",
      "Epoch 16 Validation Loss 0.6196274161338806\n",
      "Metrics logged at step 2050\n",
      "Metrics logged at step 2100\n"
     ]
    },
    {
     "name": "stderr",
     "output_type": "stream",
     "text": [
      "  6%|▌         | 17/300 [00:27<07:26,  1.58s/it]"
     ]
    },
    {
     "name": "stdout",
     "output_type": "stream",
     "text": [
      "Epoch 17 Validation Loss 0.6196761727333069\n",
      "Metrics logged at step 2150\n",
      "Metrics logged at step 2200\n"
     ]
    },
    {
     "name": "stderr",
     "output_type": "stream",
     "text": [
      "  6%|▌         | 18/300 [00:29<07:35,  1.62s/it]"
     ]
    },
    {
     "name": "stdout",
     "output_type": "stream",
     "text": [
      "Metrics logged at step 2250\n",
      "Epoch 18 Validation Loss 0.6195994019508362\n",
      "Metrics logged at step 2300\n",
      "Metrics logged at step 2350\n"
     ]
    },
    {
     "name": "stderr",
     "output_type": "stream",
     "text": [
      "  6%|▋         | 19/300 [00:30<07:26,  1.59s/it]"
     ]
    },
    {
     "name": "stdout",
     "output_type": "stream",
     "text": [
      "Epoch 19 Validation Loss 0.6194320321083069\n",
      "Metrics logged at step 2400\n",
      "Metrics logged at step 2450\n"
     ]
    },
    {
     "name": "stderr",
     "output_type": "stream",
     "text": [
      "  7%|▋         | 20/300 [00:32<07:38,  1.64s/it]"
     ]
    },
    {
     "name": "stdout",
     "output_type": "stream",
     "text": [
      "Metrics logged at step 2500\n",
      "Epoch 20 Samples 8000 Step 124 Training Loss 0.6164564490318298\n",
      "Epoch 20 Validation Loss 0.6194377541542053\n",
      "Metrics logged at step 2550\n",
      "Metrics logged at step 2600\n"
     ]
    },
    {
     "name": "stderr",
     "output_type": "stream",
     "text": [
      "  7%|▋         | 21/300 [00:33<07:25,  1.60s/it]"
     ]
    },
    {
     "name": "stdout",
     "output_type": "stream",
     "text": [
      "Epoch 21 Validation Loss 0.6195341944694519\n",
      "Metrics logged at step 2650\n",
      "Metrics logged at step 2700\n"
     ]
    },
    {
     "name": "stderr",
     "output_type": "stream",
     "text": [
      "  7%|▋         | 22/300 [00:35<07:30,  1.62s/it]"
     ]
    },
    {
     "name": "stdout",
     "output_type": "stream",
     "text": [
      "Metrics logged at step 2750\n",
      "Epoch 22 Validation Loss 0.6194521188735962\n",
      "Metrics logged at step 2800\n",
      "Metrics logged at step 2850\n"
     ]
    },
    {
     "name": "stderr",
     "output_type": "stream",
     "text": [
      "  8%|▊         | 23/300 [00:37<07:16,  1.58s/it]"
     ]
    },
    {
     "name": "stdout",
     "output_type": "stream",
     "text": [
      "Epoch 23 Validation Loss 0.6193297505378723\n",
      "Metrics logged at step 2900\n",
      "Metrics logged at step 2950\n",
      "Metrics logged at step 3000\n"
     ]
    },
    {
     "name": "stderr",
     "output_type": "stream",
     "text": [
      "  8%|▊         | 24/300 [00:38<07:34,  1.65s/it]"
     ]
    },
    {
     "name": "stdout",
     "output_type": "stream",
     "text": [
      "Epoch 24 Validation Loss 0.6194799542427063\n",
      "Metrics logged at step 3050\n",
      "Metrics logged at step 3100\n"
     ]
    },
    {
     "name": "stderr",
     "output_type": "stream",
     "text": [
      "  8%|▊         | 25/300 [00:40<07:20,  1.60s/it]"
     ]
    },
    {
     "name": "stdout",
     "output_type": "stream",
     "text": [
      "Epoch 25 Validation Loss 0.6192752122879028\n",
      "Metrics logged at step 3150\n",
      "Metrics logged at step 3200\n"
     ]
    },
    {
     "name": "stderr",
     "output_type": "stream",
     "text": [
      "  9%|▊         | 26/300 [00:42<07:26,  1.63s/it]"
     ]
    },
    {
     "name": "stdout",
     "output_type": "stream",
     "text": [
      "Metrics logged at step 3250\n",
      "Epoch 26 Validation Loss 0.6193963289260864\n",
      "Metrics logged at step 3300\n",
      "Metrics logged at step 3350\n"
     ]
    },
    {
     "name": "stderr",
     "output_type": "stream",
     "text": [
      "  9%|▉         | 27/300 [00:43<07:12,  1.59s/it]"
     ]
    },
    {
     "name": "stdout",
     "output_type": "stream",
     "text": [
      "Epoch 27 Validation Loss 0.6191216111183167\n",
      "Metrics logged at step 3400\n",
      "Metrics logged at step 3450\n"
     ]
    },
    {
     "name": "stderr",
     "output_type": "stream",
     "text": [
      "  9%|▉         | 28/300 [00:45<07:20,  1.62s/it]"
     ]
    },
    {
     "name": "stdout",
     "output_type": "stream",
     "text": [
      "Metrics logged at step 3500\n",
      "Epoch 28 Validation Loss 0.6188332438468933\n",
      "Metrics logged at step 3550\n",
      "Metrics logged at step 3600\n"
     ]
    },
    {
     "name": "stderr",
     "output_type": "stream",
     "text": [
      " 10%|▉         | 29/300 [00:46<07:11,  1.59s/it]"
     ]
    },
    {
     "name": "stdout",
     "output_type": "stream",
     "text": [
      "Epoch 29 Validation Loss 0.6188735961914062\n",
      "Metrics logged at step 3650\n",
      "Metrics logged at step 3700\n"
     ]
    },
    {
     "name": "stderr",
     "output_type": "stream",
     "text": [
      " 10%|█         | 30/300 [00:48<07:19,  1.63s/it]"
     ]
    },
    {
     "name": "stdout",
     "output_type": "stream",
     "text": [
      "Metrics logged at step 3750\n",
      "Epoch 30 Samples 8000 Step 124 Training Loss 0.6156740784645081\n",
      "Epoch 30 Validation Loss 0.6187050938606262\n",
      "Metrics logged at step 3800\n",
      "Metrics logged at step 3850\n"
     ]
    },
    {
     "name": "stderr",
     "output_type": "stream",
     "text": [
      " 10%|█         | 31/300 [00:50<07:09,  1.60s/it]"
     ]
    },
    {
     "name": "stdout",
     "output_type": "stream",
     "text": [
      "Epoch 31 Validation Loss 0.6186500191688538\n",
      "Metrics logged at step 3900\n",
      "Metrics logged at step 3950\n"
     ]
    },
    {
     "name": "stderr",
     "output_type": "stream",
     "text": [
      " 11%|█         | 32/300 [00:51<07:16,  1.63s/it]"
     ]
    },
    {
     "name": "stdout",
     "output_type": "stream",
     "text": [
      "Metrics logged at step 4000\n",
      "Epoch 32 Validation Loss 0.6183879971504211\n",
      "Metrics logged at step 4050\n",
      "Metrics logged at step 4100\n"
     ]
    },
    {
     "name": "stderr",
     "output_type": "stream",
     "text": [
      " 11%|█         | 33/300 [00:53<07:19,  1.65s/it]"
     ]
    },
    {
     "name": "stdout",
     "output_type": "stream",
     "text": [
      "Epoch 33 Validation Loss 0.6185994148254395\n",
      "Metrics logged at step 4150\n",
      "Metrics logged at step 4200\n"
     ]
    },
    {
     "name": "stderr",
     "output_type": "stream",
     "text": [
      " 11%|█▏        | 34/300 [00:55<07:43,  1.74s/it]"
     ]
    },
    {
     "name": "stdout",
     "output_type": "stream",
     "text": [
      "Metrics logged at step 4250\n",
      "Epoch 34 Validation Loss 0.6181018352508545\n",
      "Metrics logged at step 4300\n",
      "Metrics logged at step 4350\n"
     ]
    },
    {
     "name": "stderr",
     "output_type": "stream",
     "text": [
      " 12%|█▏        | 35/300 [00:57<07:47,  1.76s/it]"
     ]
    },
    {
     "name": "stdout",
     "output_type": "stream",
     "text": [
      "Epoch 35 Validation Loss 0.6179688572883606\n",
      "Metrics logged at step 4400\n",
      "Metrics logged at step 4450\n"
     ]
    },
    {
     "name": "stderr",
     "output_type": "stream",
     "text": [
      " 12%|█▏        | 36/300 [00:59<07:51,  1.79s/it]"
     ]
    },
    {
     "name": "stdout",
     "output_type": "stream",
     "text": [
      "Metrics logged at step 4500\n",
      "Epoch 36 Validation Loss 0.6179649233818054\n",
      "Metrics logged at step 4550\n",
      "Metrics logged at step 4600\n"
     ]
    },
    {
     "name": "stderr",
     "output_type": "stream",
     "text": [
      " 12%|█▏        | 37/300 [01:00<07:26,  1.70s/it]"
     ]
    },
    {
     "name": "stdout",
     "output_type": "stream",
     "text": [
      "Epoch 37 Validation Loss 0.6183651685714722\n",
      "Metrics logged at step 4650\n",
      "Metrics logged at step 4700\n"
     ]
    },
    {
     "name": "stderr",
     "output_type": "stream",
     "text": [
      " 13%|█▎        | 38/300 [01:02<07:26,  1.70s/it]"
     ]
    },
    {
     "name": "stdout",
     "output_type": "stream",
     "text": [
      "Metrics logged at step 4750\n",
      "Epoch 38 Validation Loss 0.6174858808517456\n",
      "Metrics logged at step 4800\n",
      "Metrics logged at step 4850\n"
     ]
    },
    {
     "name": "stderr",
     "output_type": "stream",
     "text": [
      " 13%|█▎        | 39/300 [01:03<07:08,  1.64s/it]"
     ]
    },
    {
     "name": "stdout",
     "output_type": "stream",
     "text": [
      "Epoch 39 Validation Loss 0.6175644993782043\n",
      "Metrics logged at step 4900\n",
      "Metrics logged at step 4950\n"
     ]
    },
    {
     "name": "stderr",
     "output_type": "stream",
     "text": [
      " 13%|█▎        | 40/300 [01:05<07:15,  1.68s/it]"
     ]
    },
    {
     "name": "stdout",
     "output_type": "stream",
     "text": [
      "Metrics logged at step 5000\n",
      "Epoch 40 Samples 8000 Step 124 Training Loss 0.6174944043159485\n",
      "Epoch 40 Validation Loss 0.6173125505447388\n",
      "Metrics logged at step 5050\n",
      "Metrics logged at step 5100\n"
     ]
    },
    {
     "name": "stderr",
     "output_type": "stream",
     "text": [
      " 14%|█▎        | 41/300 [01:06<07:00,  1.62s/it]"
     ]
    },
    {
     "name": "stdout",
     "output_type": "stream",
     "text": [
      "Epoch 41 Validation Loss 0.6170265674591064\n",
      "Metrics logged at step 5150\n",
      "Metrics logged at step 5200\n"
     ]
    },
    {
     "name": "stderr",
     "output_type": "stream",
     "text": [
      " 14%|█▍        | 42/300 [01:08<07:07,  1.66s/it]"
     ]
    },
    {
     "name": "stdout",
     "output_type": "stream",
     "text": [
      "Metrics logged at step 5250\n",
      "Epoch 42 Validation Loss 0.6166311502456665\n",
      "Metrics logged at step 5300\n",
      "Metrics logged at step 5350\n"
     ]
    },
    {
     "name": "stderr",
     "output_type": "stream",
     "text": [
      " 14%|█▍        | 43/300 [01:10<07:20,  1.71s/it]"
     ]
    },
    {
     "name": "stdout",
     "output_type": "stream",
     "text": [
      "Epoch 43 Validation Loss 0.6164628267288208\n",
      "Metrics logged at step 5400\n",
      "Metrics logged at step 5450\n"
     ]
    },
    {
     "name": "stderr",
     "output_type": "stream",
     "text": [
      " 15%|█▍        | 44/300 [01:12<07:16,  1.70s/it]"
     ]
    },
    {
     "name": "stdout",
     "output_type": "stream",
     "text": [
      "Metrics logged at step 5500\n",
      "Epoch 44 Validation Loss 0.6161434054374695\n",
      "Metrics logged at step 5550\n",
      "Metrics logged at step 5600\n"
     ]
    },
    {
     "name": "stderr",
     "output_type": "stream",
     "text": [
      " 15%|█▌        | 45/300 [01:13<06:57,  1.64s/it]"
     ]
    },
    {
     "name": "stdout",
     "output_type": "stream",
     "text": [
      "Epoch 45 Validation Loss 0.6162466406822205\n",
      "Metrics logged at step 5650\n",
      "Metrics logged at step 5700\n"
     ]
    },
    {
     "name": "stderr",
     "output_type": "stream",
     "text": [
      " 15%|█▌        | 46/300 [01:15<07:07,  1.68s/it]"
     ]
    },
    {
     "name": "stdout",
     "output_type": "stream",
     "text": [
      "Metrics logged at step 5750\n",
      "Epoch 46 Validation Loss 0.6155784130096436\n",
      "Metrics logged at step 5800\n",
      "Metrics logged at step 5850\n"
     ]
    },
    {
     "name": "stderr",
     "output_type": "stream",
     "text": [
      " 16%|█▌        | 47/300 [01:17<06:52,  1.63s/it]"
     ]
    },
    {
     "name": "stdout",
     "output_type": "stream",
     "text": [
      "Epoch 47 Validation Loss 0.6153482794761658\n",
      "Metrics logged at step 5900\n",
      "Metrics logged at step 5950\n"
     ]
    },
    {
     "name": "stderr",
     "output_type": "stream",
     "text": [
      " 16%|█▌        | 48/300 [01:18<06:58,  1.66s/it]"
     ]
    },
    {
     "name": "stdout",
     "output_type": "stream",
     "text": [
      "Metrics logged at step 6000\n",
      "Epoch 48 Validation Loss 0.6149379014968872\n",
      "Metrics logged at step 6050\n",
      "Metrics logged at step 6100\n"
     ]
    },
    {
     "name": "stderr",
     "output_type": "stream",
     "text": [
      " 16%|█▋        | 49/300 [01:20<06:45,  1.61s/it]"
     ]
    },
    {
     "name": "stdout",
     "output_type": "stream",
     "text": [
      "Epoch 49 Validation Loss 0.6159465909004211\n",
      "Metrics logged at step 6150\n",
      "Metrics logged at step 6200\n"
     ]
    },
    {
     "name": "stderr",
     "output_type": "stream",
     "text": [
      " 17%|█▋        | 50/300 [01:21<06:49,  1.64s/it]"
     ]
    },
    {
     "name": "stdout",
     "output_type": "stream",
     "text": [
      "Metrics logged at step 6250\n",
      "Epoch 50 Samples 8000 Step 124 Training Loss 0.6040771007537842\n",
      "Epoch 50 Validation Loss 0.6148956418037415\n",
      "Metrics logged at step 6300\n",
      "Metrics logged at step 6350\n"
     ]
    },
    {
     "name": "stderr",
     "output_type": "stream",
     "text": [
      " 17%|█▋        | 51/300 [01:23<06:38,  1.60s/it]"
     ]
    },
    {
     "name": "stdout",
     "output_type": "stream",
     "text": [
      "Epoch 51 Validation Loss 0.6139045357704163\n",
      "Metrics logged at step 6400\n",
      "Metrics logged at step 6450\n"
     ]
    },
    {
     "name": "stderr",
     "output_type": "stream",
     "text": [
      " 17%|█▋        | 52/300 [01:25<06:47,  1.64s/it]"
     ]
    },
    {
     "name": "stdout",
     "output_type": "stream",
     "text": [
      "Metrics logged at step 6500\n",
      "Epoch 52 Validation Loss 0.6141140460968018\n",
      "Metrics logged at step 6550\n",
      "Metrics logged at step 6600\n"
     ]
    },
    {
     "name": "stderr",
     "output_type": "stream",
     "text": [
      " 18%|█▊        | 53/300 [01:26<06:36,  1.60s/it]"
     ]
    },
    {
     "name": "stdout",
     "output_type": "stream",
     "text": [
      "Epoch 53 Validation Loss 0.6146747469902039\n",
      "Metrics logged at step 6650\n",
      "Metrics logged at step 6700\n"
     ]
    },
    {
     "name": "stderr",
     "output_type": "stream",
     "text": [
      " 18%|█▊        | 54/300 [01:28<06:44,  1.64s/it]"
     ]
    },
    {
     "name": "stdout",
     "output_type": "stream",
     "text": [
      "Metrics logged at step 6750\n",
      "Epoch 54 Validation Loss 0.6129027009010315\n",
      "Metrics logged at step 6800\n",
      "Metrics logged at step 6850\n"
     ]
    },
    {
     "name": "stderr",
     "output_type": "stream",
     "text": [
      " 18%|█▊        | 55/300 [01:29<06:32,  1.60s/it]"
     ]
    },
    {
     "name": "stdout",
     "output_type": "stream",
     "text": [
      "Epoch 55 Validation Loss 0.6141073703765869\n",
      "Metrics logged at step 6900\n",
      "Metrics logged at step 6950\n"
     ]
    },
    {
     "name": "stderr",
     "output_type": "stream",
     "text": [
      " 19%|█▊        | 56/300 [01:31<06:45,  1.66s/it]"
     ]
    },
    {
     "name": "stdout",
     "output_type": "stream",
     "text": [
      "Metrics logged at step 7000\n",
      "Epoch 56 Validation Loss 0.6135856509208679\n",
      "Metrics logged at step 7050\n",
      "Metrics logged at step 7100\n"
     ]
    },
    {
     "name": "stderr",
     "output_type": "stream",
     "text": [
      " 19%|█▉        | 57/300 [01:33<06:34,  1.62s/it]"
     ]
    },
    {
     "name": "stdout",
     "output_type": "stream",
     "text": [
      "Epoch 57 Validation Loss 0.6117456555366516\n",
      "Metrics logged at step 7150\n",
      "Metrics logged at step 7200\n"
     ]
    },
    {
     "name": "stderr",
     "output_type": "stream",
     "text": [
      " 19%|█▉        | 58/300 [01:35<06:39,  1.65s/it]"
     ]
    },
    {
     "name": "stdout",
     "output_type": "stream",
     "text": [
      "Metrics logged at step 7250\n",
      "Epoch 58 Validation Loss 0.6148752570152283\n",
      "Metrics logged at step 7300\n",
      "Metrics logged at step 7350\n"
     ]
    },
    {
     "name": "stderr",
     "output_type": "stream",
     "text": [
      " 20%|█▉        | 59/300 [01:36<06:26,  1.61s/it]"
     ]
    },
    {
     "name": "stdout",
     "output_type": "stream",
     "text": [
      "Epoch 59 Validation Loss 0.61100172996521\n",
      "Metrics logged at step 7400\n",
      "Metrics logged at step 7450\n"
     ]
    },
    {
     "name": "stderr",
     "output_type": "stream",
     "text": [
      " 20%|██        | 60/300 [01:38<06:34,  1.64s/it]"
     ]
    },
    {
     "name": "stdout",
     "output_type": "stream",
     "text": [
      "Metrics logged at step 7500\n",
      "Epoch 60 Samples 8000 Step 124 Training Loss 0.6093754172325134\n",
      "Epoch 60 Validation Loss 0.6125971078872681\n",
      "Metrics logged at step 7550\n",
      "Metrics logged at step 7600\n"
     ]
    },
    {
     "name": "stderr",
     "output_type": "stream",
     "text": [
      " 20%|██        | 61/300 [01:39<06:23,  1.60s/it]"
     ]
    },
    {
     "name": "stdout",
     "output_type": "stream",
     "text": [
      "Epoch 61 Validation Loss 0.6139540076255798\n",
      "Metrics logged at step 7650\n",
      "Metrics logged at step 7700\n"
     ]
    },
    {
     "name": "stderr",
     "output_type": "stream",
     "text": [
      " 21%|██        | 62/300 [01:41<06:31,  1.64s/it]"
     ]
    },
    {
     "name": "stdout",
     "output_type": "stream",
     "text": [
      "Metrics logged at step 7750\n",
      "Epoch 62 Validation Loss 0.6107293963432312\n",
      "Metrics logged at step 7800\n",
      "Metrics logged at step 7850\n"
     ]
    },
    {
     "name": "stderr",
     "output_type": "stream",
     "text": [
      " 21%|██        | 63/300 [01:43<06:21,  1.61s/it]"
     ]
    },
    {
     "name": "stdout",
     "output_type": "stream",
     "text": [
      "Epoch 63 Validation Loss 0.6095777750015259\n",
      "Metrics logged at step 7900\n",
      "Metrics logged at step 7950\n"
     ]
    },
    {
     "name": "stderr",
     "output_type": "stream",
     "text": [
      " 21%|██▏       | 64/300 [01:44<06:25,  1.63s/it]"
     ]
    },
    {
     "name": "stdout",
     "output_type": "stream",
     "text": [
      "Metrics logged at step 8000\n",
      "Epoch 64 Validation Loss 0.609023928642273\n",
      "Metrics logged at step 8050\n",
      "Metrics logged at step 8100\n"
     ]
    },
    {
     "name": "stderr",
     "output_type": "stream",
     "text": [
      " 22%|██▏       | 65/300 [01:46<06:40,  1.70s/it]"
     ]
    },
    {
     "name": "stdout",
     "output_type": "stream",
     "text": [
      "Epoch 65 Validation Loss 0.6105973124504089\n",
      "Metrics logged at step 8150\n",
      "Metrics logged at step 8200\n"
     ]
    },
    {
     "name": "stderr",
     "output_type": "stream",
     "text": [
      " 22%|██▏       | 66/300 [01:48<06:59,  1.79s/it]"
     ]
    },
    {
     "name": "stdout",
     "output_type": "stream",
     "text": [
      "Metrics logged at step 8250\n",
      "Epoch 66 Validation Loss 0.6097797155380249\n",
      "Metrics logged at step 8300\n",
      "Metrics logged at step 8350\n"
     ]
    },
    {
     "name": "stderr",
     "output_type": "stream",
     "text": [
      " 22%|██▏       | 67/300 [01:50<06:43,  1.73s/it]"
     ]
    },
    {
     "name": "stdout",
     "output_type": "stream",
     "text": [
      "Epoch 67 Validation Loss 0.6093860268592834\n",
      "Metrics logged at step 8400\n",
      "Metrics logged at step 8450\n"
     ]
    },
    {
     "name": "stderr",
     "output_type": "stream",
     "text": [
      " 23%|██▎       | 68/300 [01:51<06:38,  1.72s/it]"
     ]
    },
    {
     "name": "stdout",
     "output_type": "stream",
     "text": [
      "Metrics logged at step 8500\n",
      "Epoch 68 Validation Loss 0.6078037023544312\n",
      "Metrics logged at step 8550\n",
      "Metrics logged at step 8600\n"
     ]
    },
    {
     "name": "stderr",
     "output_type": "stream",
     "text": [
      " 23%|██▎       | 69/300 [01:53<06:23,  1.66s/it]"
     ]
    },
    {
     "name": "stdout",
     "output_type": "stream",
     "text": [
      "Epoch 69 Validation Loss 0.6073099970817566\n",
      "Metrics logged at step 8650\n",
      "Metrics logged at step 8700\n"
     ]
    },
    {
     "name": "stderr",
     "output_type": "stream",
     "text": [
      " 23%|██▎       | 70/300 [01:55<06:27,  1.68s/it]"
     ]
    },
    {
     "name": "stdout",
     "output_type": "stream",
     "text": [
      "Metrics logged at step 8750\n",
      "Epoch 70 Samples 8000 Step 124 Training Loss 0.5948241353034973\n",
      "Epoch 70 Validation Loss 0.6091629862785339\n",
      "Metrics logged at step 8800\n",
      "Metrics logged at step 8850\n"
     ]
    },
    {
     "name": "stderr",
     "output_type": "stream",
     "text": [
      " 24%|██▎       | 71/300 [01:56<06:12,  1.63s/it]"
     ]
    },
    {
     "name": "stdout",
     "output_type": "stream",
     "text": [
      "Epoch 71 Validation Loss 0.6065844297409058\n",
      "Metrics logged at step 8900\n",
      "Metrics logged at step 8950\n"
     ]
    },
    {
     "name": "stderr",
     "output_type": "stream",
     "text": [
      " 24%|██▍       | 72/300 [01:58<06:18,  1.66s/it]"
     ]
    },
    {
     "name": "stdout",
     "output_type": "stream",
     "text": [
      "Metrics logged at step 9000\n",
      "Epoch 72 Validation Loss 0.6063511967658997\n",
      "Metrics logged at step 9050\n",
      "Metrics logged at step 9100\n"
     ]
    },
    {
     "name": "stderr",
     "output_type": "stream",
     "text": [
      " 24%|██▍       | 73/300 [01:59<06:03,  1.60s/it]"
     ]
    },
    {
     "name": "stdout",
     "output_type": "stream",
     "text": [
      "Epoch 73 Validation Loss 0.6061441898345947\n",
      "Metrics logged at step 9150\n",
      "Metrics logged at step 9200\n"
     ]
    },
    {
     "name": "stderr",
     "output_type": "stream",
     "text": [
      " 25%|██▍       | 74/300 [02:01<06:10,  1.64s/it]"
     ]
    },
    {
     "name": "stdout",
     "output_type": "stream",
     "text": [
      "Metrics logged at step 9250\n",
      "Epoch 74 Validation Loss 0.6053460836410522\n",
      "Metrics logged at step 9300\n",
      "Metrics logged at step 9350\n"
     ]
    },
    {
     "name": "stderr",
     "output_type": "stream",
     "text": [
      " 25%|██▌       | 75/300 [02:03<06:03,  1.61s/it]"
     ]
    },
    {
     "name": "stdout",
     "output_type": "stream",
     "text": [
      "Epoch 75 Validation Loss 0.6048145294189453\n",
      "Metrics logged at step 9400\n",
      "Metrics logged at step 9450\n"
     ]
    },
    {
     "name": "stderr",
     "output_type": "stream",
     "text": [
      " 25%|██▌       | 76/300 [02:04<06:12,  1.66s/it]"
     ]
    },
    {
     "name": "stdout",
     "output_type": "stream",
     "text": [
      "Metrics logged at step 9500\n",
      "Epoch 76 Validation Loss 0.6044737696647644\n",
      "Metrics logged at step 9550\n",
      "Metrics logged at step 9600\n"
     ]
    },
    {
     "name": "stderr",
     "output_type": "stream",
     "text": [
      " 26%|██▌       | 77/300 [02:06<06:03,  1.63s/it]"
     ]
    },
    {
     "name": "stdout",
     "output_type": "stream",
     "text": [
      "Epoch 77 Validation Loss 0.6034469604492188\n",
      "Metrics logged at step 9650\n",
      "Metrics logged at step 9700\n"
     ]
    },
    {
     "name": "stderr",
     "output_type": "stream",
     "text": [
      " 26%|██▌       | 78/300 [02:08<06:05,  1.65s/it]"
     ]
    },
    {
     "name": "stdout",
     "output_type": "stream",
     "text": [
      "Metrics logged at step 9750\n",
      "Epoch 78 Validation Loss 0.6046802997589111\n",
      "Metrics logged at step 9800\n",
      "Metrics logged at step 9850\n"
     ]
    },
    {
     "name": "stderr",
     "output_type": "stream",
     "text": [
      " 26%|██▋       | 79/300 [02:09<05:53,  1.60s/it]"
     ]
    },
    {
     "name": "stdout",
     "output_type": "stream",
     "text": [
      "Epoch 79 Validation Loss 0.6035847663879395\n",
      "Metrics logged at step 9900\n",
      "Metrics logged at step 9950\n"
     ]
    },
    {
     "name": "stderr",
     "output_type": "stream",
     "text": [
      " 27%|██▋       | 80/300 [02:11<05:59,  1.63s/it]"
     ]
    },
    {
     "name": "stdout",
     "output_type": "stream",
     "text": [
      "Metrics logged at step 10000\n",
      "Epoch 80 Samples 8000 Step 124 Training Loss 0.6065058708190918\n",
      "Epoch 80 Validation Loss 0.6048762798309326\n",
      "Metrics logged at step 10050\n",
      "Metrics logged at step 10100\n"
     ]
    },
    {
     "name": "stderr",
     "output_type": "stream",
     "text": [
      " 27%|██▋       | 81/300 [02:12<05:50,  1.60s/it]"
     ]
    },
    {
     "name": "stdout",
     "output_type": "stream",
     "text": [
      "Epoch 81 Validation Loss 0.6020492911338806\n",
      "Metrics logged at step 10150\n",
      "Metrics logged at step 10200\n"
     ]
    },
    {
     "name": "stderr",
     "output_type": "stream",
     "text": [
      " 27%|██▋       | 82/300 [02:14<05:57,  1.64s/it]"
     ]
    },
    {
     "name": "stdout",
     "output_type": "stream",
     "text": [
      "Metrics logged at step 10250\n",
      "Epoch 82 Validation Loss 0.6019174456596375\n",
      "Metrics logged at step 10300\n",
      "Metrics logged at step 10350\n"
     ]
    },
    {
     "name": "stderr",
     "output_type": "stream",
     "text": [
      " 28%|██▊       | 83/300 [02:16<05:52,  1.62s/it]"
     ]
    },
    {
     "name": "stdout",
     "output_type": "stream",
     "text": [
      "Epoch 83 Validation Loss 0.6021677851676941\n",
      "Metrics logged at step 10400\n",
      "Metrics logged at step 10450\n"
     ]
    },
    {
     "name": "stderr",
     "output_type": "stream",
     "text": [
      " 28%|██▊       | 84/300 [02:17<05:55,  1.65s/it]"
     ]
    },
    {
     "name": "stdout",
     "output_type": "stream",
     "text": [
      "Metrics logged at step 10500\n",
      "Epoch 84 Validation Loss 0.6008579134941101\n",
      "Metrics logged at step 10550\n",
      "Metrics logged at step 10600\n"
     ]
    },
    {
     "name": "stderr",
     "output_type": "stream",
     "text": [
      " 28%|██▊       | 85/300 [02:19<05:43,  1.60s/it]"
     ]
    },
    {
     "name": "stdout",
     "output_type": "stream",
     "text": [
      "Epoch 85 Validation Loss 0.5998865962028503\n",
      "Metrics logged at step 10650\n",
      "Metrics logged at step 10700\n"
     ]
    },
    {
     "name": "stderr",
     "output_type": "stream",
     "text": [
      " 29%|██▊       | 86/300 [02:21<05:48,  1.63s/it]"
     ]
    },
    {
     "name": "stdout",
     "output_type": "stream",
     "text": [
      "Metrics logged at step 10750\n",
      "Epoch 86 Validation Loss 0.5998567938804626\n",
      "Metrics logged at step 10800\n",
      "Metrics logged at step 10850\n"
     ]
    },
    {
     "name": "stderr",
     "output_type": "stream",
     "text": [
      " 29%|██▉       | 87/300 [02:22<05:40,  1.60s/it]"
     ]
    },
    {
     "name": "stdout",
     "output_type": "stream",
     "text": [
      "Epoch 87 Validation Loss 0.5991722345352173\n",
      "Metrics logged at step 10900\n",
      "Metrics logged at step 10950\n"
     ]
    },
    {
     "name": "stderr",
     "output_type": "stream",
     "text": [
      " 29%|██▉       | 88/300 [02:24<05:48,  1.64s/it]"
     ]
    },
    {
     "name": "stdout",
     "output_type": "stream",
     "text": [
      "Metrics logged at step 11000\n",
      "Epoch 88 Validation Loss 0.6101374626159668\n",
      "Metrics logged at step 11050\n",
      "Metrics logged at step 11100\n"
     ]
    },
    {
     "name": "stderr",
     "output_type": "stream",
     "text": [
      " 30%|██▉       | 89/300 [02:25<05:36,  1.59s/it]"
     ]
    },
    {
     "name": "stdout",
     "output_type": "stream",
     "text": [
      "Epoch 89 Validation Loss 0.5995011329650879\n",
      "Metrics logged at step 11150\n",
      "Metrics logged at step 11200\n"
     ]
    },
    {
     "name": "stderr",
     "output_type": "stream",
     "text": [
      " 30%|███       | 90/300 [02:27<05:39,  1.62s/it]"
     ]
    },
    {
     "name": "stdout",
     "output_type": "stream",
     "text": [
      "Metrics logged at step 11250\n",
      "Epoch 90 Samples 8000 Step 124 Training Loss 0.5998057723045349\n",
      "Epoch 90 Validation Loss 0.5991549491882324\n",
      "Metrics logged at step 11300\n",
      "Metrics logged at step 11350\n"
     ]
    },
    {
     "name": "stderr",
     "output_type": "stream",
     "text": [
      " 30%|███       | 91/300 [02:28<05:29,  1.58s/it]"
     ]
    },
    {
     "name": "stdout",
     "output_type": "stream",
     "text": [
      "Epoch 91 Validation Loss 0.5977634787559509\n",
      "Metrics logged at step 11400\n",
      "Metrics logged at step 11450\n"
     ]
    },
    {
     "name": "stderr",
     "output_type": "stream",
     "text": [
      " 31%|███       | 92/300 [02:30<05:41,  1.64s/it]"
     ]
    },
    {
     "name": "stdout",
     "output_type": "stream",
     "text": [
      "Metrics logged at step 11500\n",
      "Epoch 92 Validation Loss 0.6000512838363647\n",
      "Metrics logged at step 11550\n",
      "Metrics logged at step 11600\n"
     ]
    },
    {
     "name": "stderr",
     "output_type": "stream",
     "text": [
      " 31%|███       | 93/300 [02:32<05:36,  1.63s/it]"
     ]
    },
    {
     "name": "stdout",
     "output_type": "stream",
     "text": [
      "Epoch 93 Validation Loss 0.5972798466682434\n",
      "Metrics logged at step 11650\n",
      "Metrics logged at step 11700\n"
     ]
    },
    {
     "name": "stderr",
     "output_type": "stream",
     "text": [
      " 31%|███▏      | 94/300 [02:34<05:40,  1.65s/it]"
     ]
    },
    {
     "name": "stdout",
     "output_type": "stream",
     "text": [
      "Metrics logged at step 11750\n",
      "Epoch 94 Validation Loss 0.5977264642715454\n",
      "Metrics logged at step 11800\n",
      "Metrics logged at step 11850\n"
     ]
    },
    {
     "name": "stderr",
     "output_type": "stream",
     "text": [
      " 32%|███▏      | 95/300 [02:35<05:30,  1.61s/it]"
     ]
    },
    {
     "name": "stdout",
     "output_type": "stream",
     "text": [
      "Epoch 95 Validation Loss 0.598056972026825\n",
      "Metrics logged at step 11900\n",
      "Metrics logged at step 11950\n"
     ]
    },
    {
     "name": "stderr",
     "output_type": "stream",
     "text": [
      " 32%|███▏      | 96/300 [02:37<05:39,  1.66s/it]"
     ]
    },
    {
     "name": "stdout",
     "output_type": "stream",
     "text": [
      "Metrics logged at step 12000\n",
      "Epoch 96 Validation Loss 0.5965788960456848\n",
      "Metrics logged at step 12050\n",
      "Metrics logged at step 12100\n"
     ]
    },
    {
     "name": "stderr",
     "output_type": "stream",
     "text": [
      " 32%|███▏      | 97/300 [02:39<05:37,  1.66s/it]"
     ]
    },
    {
     "name": "stdout",
     "output_type": "stream",
     "text": [
      "Epoch 97 Validation Loss 0.595783531665802\n",
      "Metrics logged at step 12150\n",
      "Metrics logged at step 12200\n"
     ]
    },
    {
     "name": "stderr",
     "output_type": "stream",
     "text": [
      " 33%|███▎      | 98/300 [02:40<05:53,  1.75s/it]"
     ]
    },
    {
     "name": "stdout",
     "output_type": "stream",
     "text": [
      "Metrics logged at step 12250\n",
      "Epoch 98 Validation Loss 0.5962831974029541\n",
      "Metrics logged at step 12300\n",
      "Metrics logged at step 12350\n"
     ]
    },
    {
     "name": "stderr",
     "output_type": "stream",
     "text": [
      " 33%|███▎      | 99/300 [02:42<05:48,  1.73s/it]"
     ]
    },
    {
     "name": "stdout",
     "output_type": "stream",
     "text": [
      "Epoch 99 Validation Loss 0.5963777899742126\n",
      "Metrics logged at step 12400\n",
      "Metrics logged at step 12450\n"
     ]
    },
    {
     "name": "stderr",
     "output_type": "stream",
     "text": [
      " 33%|███▎      | 100/300 [02:44<05:53,  1.77s/it]"
     ]
    },
    {
     "name": "stdout",
     "output_type": "stream",
     "text": [
      "Metrics logged at step 12500\n",
      "Epoch 100 Samples 8000 Step 124 Training Loss 0.5968111157417297\n",
      "Epoch 100 Validation Loss 0.5963930487632751\n",
      "Metrics logged at step 12550\n",
      "Metrics logged at step 12600\n"
     ]
    },
    {
     "name": "stderr",
     "output_type": "stream",
     "text": [
      " 34%|███▎      | 101/300 [02:46<05:48,  1.75s/it]"
     ]
    },
    {
     "name": "stdout",
     "output_type": "stream",
     "text": [
      "Epoch 101 Validation Loss 0.5939827561378479\n",
      "Metrics logged at step 12650\n",
      "Metrics logged at step 12700\n"
     ]
    },
    {
     "name": "stderr",
     "output_type": "stream",
     "text": [
      " 34%|███▍      | 102/300 [02:48<05:57,  1.80s/it]"
     ]
    },
    {
     "name": "stdout",
     "output_type": "stream",
     "text": [
      "Metrics logged at step 12750\n",
      "Epoch 102 Validation Loss 0.5964420437812805\n",
      "Metrics logged at step 12800\n",
      "Metrics logged at step 12850\n"
     ]
    },
    {
     "name": "stderr",
     "output_type": "stream",
     "text": [
      " 34%|███▍      | 103/300 [02:49<05:47,  1.77s/it]"
     ]
    },
    {
     "name": "stdout",
     "output_type": "stream",
     "text": [
      "Epoch 103 Validation Loss 0.5963048934936523\n",
      "Metrics logged at step 12900\n",
      "Metrics logged at step 12950\n"
     ]
    },
    {
     "name": "stderr",
     "output_type": "stream",
     "text": [
      " 35%|███▍      | 104/300 [02:51<05:59,  1.83s/it]"
     ]
    },
    {
     "name": "stdout",
     "output_type": "stream",
     "text": [
      "Metrics logged at step 13000\n",
      "Epoch 104 Validation Loss 0.5942365527153015\n",
      "Metrics logged at step 13050\n",
      "Metrics logged at step 13100\n"
     ]
    },
    {
     "name": "stderr",
     "output_type": "stream",
     "text": [
      " 35%|███▌      | 105/300 [02:53<05:49,  1.79s/it]"
     ]
    },
    {
     "name": "stdout",
     "output_type": "stream",
     "text": [
      "Epoch 105 Validation Loss 0.5941227078437805\n",
      "Metrics logged at step 13150\n",
      "Metrics logged at step 13200\n"
     ]
    },
    {
     "name": "stderr",
     "output_type": "stream",
     "text": [
      " 35%|███▌      | 106/300 [02:55<05:54,  1.83s/it]"
     ]
    },
    {
     "name": "stdout",
     "output_type": "stream",
     "text": [
      "Metrics logged at step 13250\n",
      "Epoch 106 Validation Loss 0.5929343700408936\n",
      "Metrics logged at step 13300\n",
      "Metrics logged at step 13350\n"
     ]
    },
    {
     "name": "stderr",
     "output_type": "stream",
     "text": [
      " 36%|███▌      | 107/300 [02:57<05:54,  1.84s/it]"
     ]
    },
    {
     "name": "stdout",
     "output_type": "stream",
     "text": [
      "Epoch 107 Validation Loss 0.5918651223182678\n",
      "Metrics logged at step 13400\n",
      "Metrics logged at step 13450\n"
     ]
    },
    {
     "name": "stderr",
     "output_type": "stream",
     "text": [
      " 36%|███▌      | 108/300 [02:59<05:58,  1.87s/it]"
     ]
    },
    {
     "name": "stdout",
     "output_type": "stream",
     "text": [
      "Metrics logged at step 13500\n",
      "Epoch 108 Validation Loss 0.5914945602416992\n",
      "Metrics logged at step 13550\n",
      "Metrics logged at step 13600\n"
     ]
    },
    {
     "name": "stderr",
     "output_type": "stream",
     "text": [
      " 36%|███▋      | 109/300 [03:01<06:14,  1.96s/it]"
     ]
    },
    {
     "name": "stdout",
     "output_type": "stream",
     "text": [
      "Epoch 109 Validation Loss 0.595177173614502\n",
      "Metrics logged at step 13650\n",
      "Metrics logged at step 13700\n"
     ]
    },
    {
     "name": "stderr",
     "output_type": "stream",
     "text": [
      " 37%|███▋      | 110/300 [03:03<06:16,  1.98s/it]"
     ]
    },
    {
     "name": "stdout",
     "output_type": "stream",
     "text": [
      "Metrics logged at step 13750\n",
      "Epoch 110 Samples 8000 Step 124 Training Loss 0.586381733417511\n",
      "Epoch 110 Validation Loss 0.5902623534202576\n",
      "Metrics logged at step 13800\n",
      "Metrics logged at step 13850\n"
     ]
    },
    {
     "name": "stderr",
     "output_type": "stream",
     "text": [
      " 37%|███▋      | 111/300 [03:05<05:58,  1.90s/it]"
     ]
    },
    {
     "name": "stdout",
     "output_type": "stream",
     "text": [
      "Epoch 111 Validation Loss 0.5903540849685669\n",
      "Metrics logged at step 13900\n",
      "Metrics logged at step 13950\n"
     ]
    },
    {
     "name": "stderr",
     "output_type": "stream",
     "text": [
      " 37%|███▋      | 112/300 [03:07<06:00,  1.92s/it]"
     ]
    },
    {
     "name": "stdout",
     "output_type": "stream",
     "text": [
      "Metrics logged at step 14000\n",
      "Epoch 112 Validation Loss 0.5915241241455078\n",
      "Metrics logged at step 14050\n",
      "Metrics logged at step 14100\n"
     ]
    },
    {
     "name": "stderr",
     "output_type": "stream",
     "text": [
      " 38%|███▊      | 113/300 [03:08<05:47,  1.86s/it]"
     ]
    },
    {
     "name": "stdout",
     "output_type": "stream",
     "text": [
      "Epoch 113 Validation Loss 0.5919529795646667\n",
      "Metrics logged at step 14150\n",
      "Metrics logged at step 14200\n"
     ]
    },
    {
     "name": "stderr",
     "output_type": "stream",
     "text": [
      " 38%|███▊      | 114/300 [03:10<05:48,  1.87s/it]"
     ]
    },
    {
     "name": "stdout",
     "output_type": "stream",
     "text": [
      "Metrics logged at step 14250\n",
      "Epoch 114 Validation Loss 0.5894441604614258\n",
      "Metrics logged at step 14300\n",
      "Metrics logged at step 14350\n"
     ]
    },
    {
     "name": "stderr",
     "output_type": "stream",
     "text": [
      " 38%|███▊      | 115/300 [03:12<05:35,  1.81s/it]"
     ]
    },
    {
     "name": "stdout",
     "output_type": "stream",
     "text": [
      "Epoch 115 Validation Loss 0.5882312059402466\n",
      "Metrics logged at step 14400\n",
      "Metrics logged at step 14450\n"
     ]
    },
    {
     "name": "stderr",
     "output_type": "stream",
     "text": [
      " 39%|███▊      | 116/300 [03:14<05:35,  1.82s/it]"
     ]
    },
    {
     "name": "stdout",
     "output_type": "stream",
     "text": [
      "Metrics logged at step 14500\n",
      "Epoch 116 Validation Loss 0.5873479247093201\n",
      "Metrics logged at step 14550\n",
      "Metrics logged at step 14600\n"
     ]
    },
    {
     "name": "stderr",
     "output_type": "stream",
     "text": [
      " 39%|███▉      | 117/300 [03:15<05:24,  1.77s/it]"
     ]
    },
    {
     "name": "stdout",
     "output_type": "stream",
     "text": [
      "Epoch 117 Validation Loss 0.587880551815033\n",
      "Metrics logged at step 14650\n",
      "Metrics logged at step 14700\n"
     ]
    },
    {
     "name": "stderr",
     "output_type": "stream",
     "text": [
      " 39%|███▉      | 118/300 [03:17<05:30,  1.82s/it]"
     ]
    },
    {
     "name": "stdout",
     "output_type": "stream",
     "text": [
      "Metrics logged at step 14750\n",
      "Epoch 118 Validation Loss 0.5876522064208984\n",
      "Metrics logged at step 14800\n",
      "Metrics logged at step 14850\n"
     ]
    },
    {
     "name": "stderr",
     "output_type": "stream",
     "text": [
      " 40%|███▉      | 119/300 [03:19<05:27,  1.81s/it]"
     ]
    },
    {
     "name": "stdout",
     "output_type": "stream",
     "text": [
      "Epoch 119 Validation Loss 0.5858248472213745\n",
      "Metrics logged at step 14900\n",
      "Metrics logged at step 14950\n"
     ]
    },
    {
     "name": "stderr",
     "output_type": "stream",
     "text": [
      " 40%|████      | 120/300 [03:21<05:27,  1.82s/it]"
     ]
    },
    {
     "name": "stdout",
     "output_type": "stream",
     "text": [
      "Metrics logged at step 15000\n",
      "Epoch 120 Samples 8000 Step 124 Training Loss 0.5838146805763245\n",
      "Epoch 120 Validation Loss 0.5877048969268799\n",
      "Metrics logged at step 15050\n",
      "Metrics logged at step 15100\n"
     ]
    },
    {
     "name": "stderr",
     "output_type": "stream",
     "text": [
      " 40%|████      | 121/300 [03:23<05:17,  1.77s/it]"
     ]
    },
    {
     "name": "stdout",
     "output_type": "stream",
     "text": [
      "Epoch 121 Validation Loss 0.5844535827636719\n",
      "Metrics logged at step 15150\n",
      "Metrics logged at step 15200\n"
     ]
    },
    {
     "name": "stderr",
     "output_type": "stream",
     "text": [
      " 41%|████      | 122/300 [03:24<05:20,  1.80s/it]"
     ]
    },
    {
     "name": "stdout",
     "output_type": "stream",
     "text": [
      "Metrics logged at step 15250\n",
      "Epoch 122 Validation Loss 0.5847043991088867\n",
      "Metrics logged at step 15300\n",
      "Metrics logged at step 15350\n"
     ]
    },
    {
     "name": "stderr",
     "output_type": "stream",
     "text": [
      " 41%|████      | 123/300 [03:26<05:12,  1.77s/it]"
     ]
    },
    {
     "name": "stdout",
     "output_type": "stream",
     "text": [
      "Epoch 123 Validation Loss 0.5845705270767212\n",
      "Metrics logged at step 15400\n",
      "Metrics logged at step 15450\n"
     ]
    },
    {
     "name": "stderr",
     "output_type": "stream",
     "text": [
      " 41%|████▏     | 124/300 [03:28<05:17,  1.80s/it]"
     ]
    },
    {
     "name": "stdout",
     "output_type": "stream",
     "text": [
      "Metrics logged at step 15500\n",
      "Epoch 124 Validation Loss 0.5827608108520508\n",
      "Metrics logged at step 15550\n",
      "Metrics logged at step 15600\n"
     ]
    },
    {
     "name": "stderr",
     "output_type": "stream",
     "text": [
      " 42%|████▏     | 125/300 [03:30<05:08,  1.77s/it]"
     ]
    },
    {
     "name": "stdout",
     "output_type": "stream",
     "text": [
      "Epoch 125 Validation Loss 0.5813044309616089\n",
      "Metrics logged at step 15650\n",
      "Metrics logged at step 15700\n"
     ]
    },
    {
     "name": "stderr",
     "output_type": "stream",
     "text": [
      " 42%|████▏     | 126/300 [03:32<05:14,  1.81s/it]"
     ]
    },
    {
     "name": "stdout",
     "output_type": "stream",
     "text": [
      "Metrics logged at step 15750\n",
      "Epoch 126 Validation Loss 0.5803049802780151\n",
      "Metrics logged at step 15800\n",
      "Metrics logged at step 15850\n"
     ]
    },
    {
     "name": "stderr",
     "output_type": "stream",
     "text": [
      " 42%|████▏     | 127/300 [03:33<05:10,  1.79s/it]"
     ]
    },
    {
     "name": "stdout",
     "output_type": "stream",
     "text": [
      "Epoch 127 Validation Loss 0.5811794400215149\n",
      "Metrics logged at step 15900\n",
      "Metrics logged at step 15950\n"
     ]
    },
    {
     "name": "stderr",
     "output_type": "stream",
     "text": [
      " 43%|████▎     | 128/300 [03:35<05:17,  1.85s/it]"
     ]
    },
    {
     "name": "stdout",
     "output_type": "stream",
     "text": [
      "Metrics logged at step 16000\n",
      "Epoch 128 Validation Loss 0.5790928602218628\n",
      "Metrics logged at step 16050\n",
      "Metrics logged at step 16100\n"
     ]
    },
    {
     "name": "stderr",
     "output_type": "stream",
     "text": [
      " 43%|████▎     | 129/300 [03:37<05:03,  1.78s/it]"
     ]
    },
    {
     "name": "stdout",
     "output_type": "stream",
     "text": [
      "Epoch 129 Validation Loss 0.5781805515289307\n",
      "Metrics logged at step 16150\n",
      "Metrics logged at step 16200\n"
     ]
    },
    {
     "name": "stderr",
     "output_type": "stream",
     "text": [
      " 43%|████▎     | 130/300 [03:39<05:06,  1.80s/it]"
     ]
    },
    {
     "name": "stdout",
     "output_type": "stream",
     "text": [
      "Metrics logged at step 16250\n",
      "Epoch 130 Samples 8000 Step 124 Training Loss 0.5903700590133667\n",
      "Epoch 130 Validation Loss 0.5800332427024841\n",
      "Metrics logged at step 16300\n",
      "Metrics logged at step 16350\n"
     ]
    },
    {
     "name": "stderr",
     "output_type": "stream",
     "text": [
      " 44%|████▎     | 131/300 [03:41<04:58,  1.76s/it]"
     ]
    },
    {
     "name": "stdout",
     "output_type": "stream",
     "text": [
      "Epoch 131 Validation Loss 0.5796050429344177\n",
      "Metrics logged at step 16400\n",
      "Metrics logged at step 16450\n"
     ]
    },
    {
     "name": "stderr",
     "output_type": "stream",
     "text": [
      " 44%|████▍     | 132/300 [03:42<05:03,  1.80s/it]"
     ]
    },
    {
     "name": "stdout",
     "output_type": "stream",
     "text": [
      "Metrics logged at step 16500\n",
      "Epoch 132 Validation Loss 0.5759744644165039\n",
      "Metrics logged at step 16550\n",
      "Metrics logged at step 16600\n"
     ]
    },
    {
     "name": "stderr",
     "output_type": "stream",
     "text": [
      " 44%|████▍     | 133/300 [03:44<04:53,  1.76s/it]"
     ]
    },
    {
     "name": "stdout",
     "output_type": "stream",
     "text": [
      "Epoch 133 Validation Loss 0.5761913061141968\n",
      "Metrics logged at step 16650\n",
      "Metrics logged at step 16700\n"
     ]
    },
    {
     "name": "stderr",
     "output_type": "stream",
     "text": [
      " 45%|████▍     | 134/300 [03:46<04:58,  1.80s/it]"
     ]
    },
    {
     "name": "stdout",
     "output_type": "stream",
     "text": [
      "Metrics logged at step 16750\n",
      "Epoch 134 Validation Loss 0.5734357833862305\n",
      "Metrics logged at step 16800\n",
      "Metrics logged at step 16850\n"
     ]
    },
    {
     "name": "stderr",
     "output_type": "stream",
     "text": [
      " 45%|████▌     | 135/300 [03:48<04:51,  1.77s/it]"
     ]
    },
    {
     "name": "stdout",
     "output_type": "stream",
     "text": [
      "Epoch 135 Validation Loss 0.5746155381202698\n",
      "Metrics logged at step 16900\n",
      "Metrics logged at step 16950\n"
     ]
    },
    {
     "name": "stderr",
     "output_type": "stream",
     "text": [
      " 45%|████▌     | 136/300 [03:50<05:04,  1.85s/it]"
     ]
    },
    {
     "name": "stdout",
     "output_type": "stream",
     "text": [
      "Metrics logged at step 17000\n",
      "Epoch 136 Validation Loss 0.5749894976615906\n",
      "Metrics logged at step 17050\n",
      "Metrics logged at step 17100\n"
     ]
    },
    {
     "name": "stderr",
     "output_type": "stream",
     "text": [
      " 46%|████▌     | 137/300 [03:52<05:07,  1.89s/it]"
     ]
    },
    {
     "name": "stdout",
     "output_type": "stream",
     "text": [
      "Epoch 137 Validation Loss 0.5708657503128052\n",
      "Metrics logged at step 17150\n",
      "Metrics logged at step 17200\n"
     ]
    },
    {
     "name": "stderr",
     "output_type": "stream",
     "text": [
      " 46%|████▌     | 138/300 [03:54<05:16,  1.96s/it]"
     ]
    },
    {
     "name": "stdout",
     "output_type": "stream",
     "text": [
      "Metrics logged at step 17250\n",
      "Epoch 138 Validation Loss 0.5711687207221985\n",
      "Metrics logged at step 17300\n",
      "Metrics logged at step 17350\n"
     ]
    },
    {
     "name": "stderr",
     "output_type": "stream",
     "text": [
      " 46%|████▋     | 139/300 [03:56<05:10,  1.93s/it]"
     ]
    },
    {
     "name": "stdout",
     "output_type": "stream",
     "text": [
      "Epoch 139 Validation Loss 0.5707253217697144\n",
      "Metrics logged at step 17400\n",
      "Metrics logged at step 17450\n"
     ]
    },
    {
     "name": "stderr",
     "output_type": "stream",
     "text": [
      " 47%|████▋     | 140/300 [03:58<05:16,  1.98s/it]"
     ]
    },
    {
     "name": "stdout",
     "output_type": "stream",
     "text": [
      "Metrics logged at step 17500\n",
      "Epoch 140 Samples 8000 Step 124 Training Loss 0.5764085054397583\n",
      "Epoch 140 Validation Loss 0.568480372428894\n",
      "Metrics logged at step 17550\n",
      "Metrics logged at step 17600\n"
     ]
    },
    {
     "name": "stderr",
     "output_type": "stream",
     "text": [
      " 47%|████▋     | 141/300 [04:00<05:09,  1.94s/it]"
     ]
    },
    {
     "name": "stdout",
     "output_type": "stream",
     "text": [
      "Epoch 141 Validation Loss 0.5684770941734314\n",
      "Metrics logged at step 17650\n",
      "Metrics logged at step 17700\n"
     ]
    },
    {
     "name": "stderr",
     "output_type": "stream",
     "text": [
      " 47%|████▋     | 142/300 [04:02<05:12,  1.98s/it]"
     ]
    },
    {
     "name": "stdout",
     "output_type": "stream",
     "text": [
      "Metrics logged at step 17750\n",
      "Epoch 142 Validation Loss 0.5688641667366028\n",
      "Metrics logged at step 17800\n",
      "Metrics logged at step 17850\n"
     ]
    },
    {
     "name": "stderr",
     "output_type": "stream",
     "text": [
      " 48%|████▊     | 143/300 [04:03<04:55,  1.88s/it]"
     ]
    },
    {
     "name": "stdout",
     "output_type": "stream",
     "text": [
      "Epoch 143 Validation Loss 0.5674326419830322\n",
      "Metrics logged at step 17900\n",
      "Metrics logged at step 17950\n"
     ]
    },
    {
     "name": "stderr",
     "output_type": "stream",
     "text": [
      " 48%|████▊     | 144/300 [04:05<04:53,  1.88s/it]"
     ]
    },
    {
     "name": "stdout",
     "output_type": "stream",
     "text": [
      "Metrics logged at step 18000\n",
      "Epoch 144 Validation Loss 0.5686717629432678\n",
      "Metrics logged at step 18050\n",
      "Metrics logged at step 18100\n"
     ]
    },
    {
     "name": "stderr",
     "output_type": "stream",
     "text": [
      " 48%|████▊     | 145/300 [04:07<04:40,  1.81s/it]"
     ]
    },
    {
     "name": "stdout",
     "output_type": "stream",
     "text": [
      "Epoch 145 Validation Loss 0.5649176239967346\n",
      "Metrics logged at step 18150\n",
      "Metrics logged at step 18200\n"
     ]
    },
    {
     "name": "stderr",
     "output_type": "stream",
     "text": [
      " 49%|████▊     | 146/300 [04:09<04:44,  1.85s/it]"
     ]
    },
    {
     "name": "stdout",
     "output_type": "stream",
     "text": [
      "Metrics logged at step 18250\n",
      "Epoch 146 Validation Loss 0.5641694664955139\n",
      "Metrics logged at step 18300\n",
      "Metrics logged at step 18350\n"
     ]
    },
    {
     "name": "stderr",
     "output_type": "stream",
     "text": [
      " 49%|████▉     | 147/300 [04:11<04:35,  1.80s/it]"
     ]
    },
    {
     "name": "stdout",
     "output_type": "stream",
     "text": [
      "Epoch 147 Validation Loss 0.5630277395248413\n",
      "Metrics logged at step 18400\n",
      "Metrics logged at step 18450\n"
     ]
    },
    {
     "name": "stderr",
     "output_type": "stream",
     "text": [
      " 49%|████▉     | 148/300 [04:12<04:38,  1.83s/it]"
     ]
    },
    {
     "name": "stdout",
     "output_type": "stream",
     "text": [
      "Metrics logged at step 18500\n",
      "Epoch 148 Validation Loss 0.564628005027771\n",
      "Metrics logged at step 18550\n",
      "Metrics logged at step 18600\n"
     ]
    },
    {
     "name": "stderr",
     "output_type": "stream",
     "text": [
      " 50%|████▉     | 149/300 [04:14<04:29,  1.79s/it]"
     ]
    },
    {
     "name": "stdout",
     "output_type": "stream",
     "text": [
      "Epoch 149 Validation Loss 0.561924397945404\n",
      "Metrics logged at step 18650\n",
      "Metrics logged at step 18700\n"
     ]
    },
    {
     "name": "stderr",
     "output_type": "stream",
     "text": [
      " 50%|█████     | 150/300 [04:16<04:33,  1.82s/it]"
     ]
    },
    {
     "name": "stdout",
     "output_type": "stream",
     "text": [
      "Metrics logged at step 18750\n",
      "Epoch 150 Samples 8000 Step 124 Training Loss 0.5615974068641663\n",
      "Epoch 150 Validation Loss 0.5614799857139587\n",
      "Metrics logged at step 18800\n",
      "Metrics logged at step 18850\n"
     ]
    },
    {
     "name": "stderr",
     "output_type": "stream",
     "text": [
      " 50%|█████     | 151/300 [04:18<04:25,  1.78s/it]"
     ]
    },
    {
     "name": "stdout",
     "output_type": "stream",
     "text": [
      "Epoch 151 Validation Loss 0.5635212659835815\n",
      "Metrics logged at step 18900\n",
      "Metrics logged at step 18950\n"
     ]
    },
    {
     "name": "stderr",
     "output_type": "stream",
     "text": [
      " 51%|█████     | 152/300 [04:20<04:28,  1.81s/it]"
     ]
    },
    {
     "name": "stdout",
     "output_type": "stream",
     "text": [
      "Metrics logged at step 19000\n",
      "Epoch 152 Validation Loss 0.5611391067504883\n",
      "Metrics logged at step 19050\n",
      "Metrics logged at step 19100\n"
     ]
    },
    {
     "name": "stderr",
     "output_type": "stream",
     "text": [
      " 51%|█████     | 153/300 [04:21<04:21,  1.78s/it]"
     ]
    },
    {
     "name": "stdout",
     "output_type": "stream",
     "text": [
      "Epoch 153 Validation Loss 0.5610997080802917\n",
      "Metrics logged at step 19150\n",
      "Metrics logged at step 19200\n"
     ]
    },
    {
     "name": "stderr",
     "output_type": "stream",
     "text": [
      " 51%|█████▏    | 154/300 [04:23<04:25,  1.82s/it]"
     ]
    },
    {
     "name": "stdout",
     "output_type": "stream",
     "text": [
      "Metrics logged at step 19250\n",
      "Epoch 154 Validation Loss 0.5589351654052734\n",
      "Metrics logged at step 19300\n",
      "Metrics logged at step 19350\n"
     ]
    },
    {
     "name": "stderr",
     "output_type": "stream",
     "text": [
      " 52%|█████▏    | 155/300 [04:25<04:18,  1.78s/it]"
     ]
    },
    {
     "name": "stdout",
     "output_type": "stream",
     "text": [
      "Epoch 155 Validation Loss 0.5608808994293213\n",
      "Metrics logged at step 19400\n",
      "Metrics logged at step 19450\n"
     ]
    },
    {
     "name": "stderr",
     "output_type": "stream",
     "text": [
      " 52%|█████▏    | 156/300 [04:27<04:24,  1.84s/it]"
     ]
    },
    {
     "name": "stdout",
     "output_type": "stream",
     "text": [
      "Metrics logged at step 19500\n",
      "Epoch 156 Validation Loss 0.5616241693496704\n",
      "Metrics logged at step 19550\n",
      "Metrics logged at step 19600\n"
     ]
    },
    {
     "name": "stderr",
     "output_type": "stream",
     "text": [
      " 52%|█████▏    | 157/300 [04:29<04:17,  1.80s/it]"
     ]
    },
    {
     "name": "stdout",
     "output_type": "stream",
     "text": [
      "Epoch 157 Validation Loss 0.5587894320487976\n",
      "Metrics logged at step 19650\n",
      "Metrics logged at step 19700\n"
     ]
    },
    {
     "name": "stderr",
     "output_type": "stream",
     "text": [
      " 53%|█████▎    | 158/300 [04:31<04:23,  1.85s/it]"
     ]
    },
    {
     "name": "stdout",
     "output_type": "stream",
     "text": [
      "Metrics logged at step 19750\n",
      "Epoch 158 Validation Loss 0.557931125164032\n",
      "Metrics logged at step 19800\n",
      "Metrics logged at step 19850\n"
     ]
    },
    {
     "name": "stderr",
     "output_type": "stream",
     "text": [
      " 53%|█████▎    | 159/300 [04:32<04:11,  1.78s/it]"
     ]
    },
    {
     "name": "stdout",
     "output_type": "stream",
     "text": [
      "Epoch 159 Validation Loss 0.5578908920288086\n",
      "Metrics logged at step 19900\n",
      "Metrics logged at step 19950\n"
     ]
    },
    {
     "name": "stderr",
     "output_type": "stream",
     "text": [
      " 53%|█████▎    | 160/300 [04:34<04:11,  1.80s/it]"
     ]
    },
    {
     "name": "stdout",
     "output_type": "stream",
     "text": [
      "Metrics logged at step 20000\n",
      "Epoch 160 Samples 8000 Step 124 Training Loss 0.55938720703125\n",
      "Epoch 160 Validation Loss 0.557304859161377\n",
      "Metrics logged at step 20050\n",
      "Metrics logged at step 20100\n"
     ]
    },
    {
     "name": "stderr",
     "output_type": "stream",
     "text": [
      " 54%|█████▎    | 161/300 [04:36<04:04,  1.76s/it]"
     ]
    },
    {
     "name": "stdout",
     "output_type": "stream",
     "text": [
      "Epoch 161 Validation Loss 0.5566186904907227\n",
      "Metrics logged at step 20150\n",
      "Metrics logged at step 20200\n"
     ]
    },
    {
     "name": "stderr",
     "output_type": "stream",
     "text": [
      " 54%|█████▍    | 162/300 [04:37<04:06,  1.79s/it]"
     ]
    },
    {
     "name": "stdout",
     "output_type": "stream",
     "text": [
      "Metrics logged at step 20250\n",
      "Epoch 162 Validation Loss 0.5567973852157593\n",
      "Metrics logged at step 20300\n",
      "Metrics logged at step 20350\n"
     ]
    },
    {
     "name": "stderr",
     "output_type": "stream",
     "text": [
      " 54%|█████▍    | 163/300 [04:39<03:59,  1.75s/it]"
     ]
    },
    {
     "name": "stdout",
     "output_type": "stream",
     "text": [
      "Epoch 163 Validation Loss 0.5551890134811401\n",
      "Metrics logged at step 20400\n",
      "Metrics logged at step 20450\n"
     ]
    },
    {
     "name": "stderr",
     "output_type": "stream",
     "text": [
      " 55%|█████▍    | 164/300 [04:41<04:01,  1.77s/it]"
     ]
    },
    {
     "name": "stdout",
     "output_type": "stream",
     "text": [
      "Metrics logged at step 20500\n",
      "Epoch 164 Validation Loss 0.5563275218009949\n",
      "Metrics logged at step 20550\n",
      "Metrics logged at step 20600\n"
     ]
    },
    {
     "name": "stderr",
     "output_type": "stream",
     "text": [
      " 55%|█████▌    | 165/300 [04:43<03:53,  1.73s/it]"
     ]
    },
    {
     "name": "stdout",
     "output_type": "stream",
     "text": [
      "Epoch 165 Validation Loss 0.5546387434005737\n",
      "Metrics logged at step 20650\n",
      "Metrics logged at step 20700\n"
     ]
    },
    {
     "name": "stderr",
     "output_type": "stream",
     "text": [
      " 55%|█████▌    | 166/300 [04:44<03:54,  1.75s/it]"
     ]
    },
    {
     "name": "stdout",
     "output_type": "stream",
     "text": [
      "Metrics logged at step 20750\n",
      "Epoch 166 Validation Loss 0.5549266338348389\n",
      "Metrics logged at step 20800\n",
      "Metrics logged at step 20850\n"
     ]
    },
    {
     "name": "stderr",
     "output_type": "stream",
     "text": [
      " 56%|█████▌    | 167/300 [04:46<03:46,  1.71s/it]"
     ]
    },
    {
     "name": "stdout",
     "output_type": "stream",
     "text": [
      "Epoch 167 Validation Loss 0.5557361245155334\n",
      "Metrics logged at step 20900\n",
      "Metrics logged at step 20950\n"
     ]
    },
    {
     "name": "stderr",
     "output_type": "stream",
     "text": [
      " 56%|█████▌    | 168/300 [04:48<03:49,  1.74s/it]"
     ]
    },
    {
     "name": "stdout",
     "output_type": "stream",
     "text": [
      "Metrics logged at step 21000\n",
      "Epoch 168 Validation Loss 0.556448221206665\n",
      "Metrics logged at step 21050\n",
      "Metrics logged at step 21100\n"
     ]
    },
    {
     "name": "stderr",
     "output_type": "stream",
     "text": [
      " 56%|█████▋    | 169/300 [04:49<03:42,  1.70s/it]"
     ]
    },
    {
     "name": "stdout",
     "output_type": "stream",
     "text": [
      "Epoch 169 Validation Loss 0.5550496578216553\n",
      "Metrics logged at step 21150\n",
      "Metrics logged at step 21200\n"
     ]
    },
    {
     "name": "stderr",
     "output_type": "stream",
     "text": [
      " 57%|█████▋    | 170/300 [04:51<03:45,  1.74s/it]"
     ]
    },
    {
     "name": "stdout",
     "output_type": "stream",
     "text": [
      "Metrics logged at step 21250\n",
      "Epoch 170 Samples 8000 Step 124 Training Loss 0.558810293674469\n",
      "Epoch 170 Validation Loss 0.5533087849617004\n",
      "Metrics logged at step 21300\n",
      "Metrics logged at step 21350\n"
     ]
    },
    {
     "name": "stderr",
     "output_type": "stream",
     "text": [
      " 57%|█████▋    | 171/300 [04:53<03:39,  1.70s/it]"
     ]
    },
    {
     "name": "stdout",
     "output_type": "stream",
     "text": [
      "Epoch 171 Validation Loss 0.5528135299682617\n",
      "Metrics logged at step 21400\n",
      "Metrics logged at step 21450\n"
     ]
    },
    {
     "name": "stderr",
     "output_type": "stream",
     "text": [
      " 57%|█████▋    | 172/300 [04:55<03:41,  1.73s/it]"
     ]
    },
    {
     "name": "stdout",
     "output_type": "stream",
     "text": [
      "Metrics logged at step 21500\n",
      "Epoch 172 Validation Loss 0.5524634718894958\n",
      "Metrics logged at step 21550\n",
      "Metrics logged at step 21600\n"
     ]
    },
    {
     "name": "stderr",
     "output_type": "stream",
     "text": [
      " 58%|█████▊    | 173/300 [04:56<03:35,  1.70s/it]"
     ]
    },
    {
     "name": "stdout",
     "output_type": "stream",
     "text": [
      "Epoch 173 Validation Loss 0.5520893931388855\n",
      "Metrics logged at step 21650\n",
      "Metrics logged at step 21700\n"
     ]
    },
    {
     "name": "stderr",
     "output_type": "stream",
     "text": [
      " 58%|█████▊    | 174/300 [04:58<03:40,  1.75s/it]"
     ]
    },
    {
     "name": "stdout",
     "output_type": "stream",
     "text": [
      "Metrics logged at step 21750\n",
      "Epoch 174 Validation Loss 0.5547006726264954\n",
      "Metrics logged at step 21800\n",
      "Metrics logged at step 21850\n"
     ]
    },
    {
     "name": "stderr",
     "output_type": "stream",
     "text": [
      " 58%|█████▊    | 175/300 [05:00<03:34,  1.71s/it]"
     ]
    },
    {
     "name": "stdout",
     "output_type": "stream",
     "text": [
      "Epoch 175 Validation Loss 0.555421769618988\n",
      "Metrics logged at step 21900\n",
      "Metrics logged at step 21950\n"
     ]
    },
    {
     "name": "stderr",
     "output_type": "stream",
     "text": [
      " 59%|█████▊    | 176/300 [05:02<03:37,  1.75s/it]"
     ]
    },
    {
     "name": "stdout",
     "output_type": "stream",
     "text": [
      "Metrics logged at step 22000\n",
      "Epoch 176 Validation Loss 0.5545769333839417\n",
      "Metrics logged at step 22050\n",
      "Metrics logged at step 22100\n"
     ]
    },
    {
     "name": "stderr",
     "output_type": "stream",
     "text": [
      " 59%|█████▉    | 177/300 [05:03<03:31,  1.72s/it]"
     ]
    },
    {
     "name": "stdout",
     "output_type": "stream",
     "text": [
      "Epoch 177 Validation Loss 0.5511881113052368\n",
      "Metrics logged at step 22150\n",
      "Metrics logged at step 22200\n"
     ]
    },
    {
     "name": "stderr",
     "output_type": "stream",
     "text": [
      " 59%|█████▉    | 178/300 [05:05<03:33,  1.75s/it]"
     ]
    },
    {
     "name": "stdout",
     "output_type": "stream",
     "text": [
      "Metrics logged at step 22250\n",
      "Epoch 178 Validation Loss 0.5514010787010193\n",
      "Metrics logged at step 22300\n",
      "Metrics logged at step 22350\n"
     ]
    },
    {
     "name": "stderr",
     "output_type": "stream",
     "text": [
      " 60%|█████▉    | 179/300 [05:07<03:28,  1.72s/it]"
     ]
    },
    {
     "name": "stdout",
     "output_type": "stream",
     "text": [
      "Epoch 179 Validation Loss 0.5493932962417603\n",
      "Metrics logged at step 22400\n",
      "Metrics logged at step 22450\n"
     ]
    },
    {
     "name": "stderr",
     "output_type": "stream",
     "text": [
      " 60%|██████    | 180/300 [05:09<03:31,  1.76s/it]"
     ]
    },
    {
     "name": "stdout",
     "output_type": "stream",
     "text": [
      "Metrics logged at step 22500\n",
      "Epoch 180 Samples 8000 Step 124 Training Loss 0.542770266532898\n",
      "Epoch 180 Validation Loss 0.5495184063911438\n",
      "Metrics logged at step 22550\n",
      "Metrics logged at step 22600\n"
     ]
    },
    {
     "name": "stderr",
     "output_type": "stream",
     "text": [
      " 60%|██████    | 181/300 [05:10<03:25,  1.73s/it]"
     ]
    },
    {
     "name": "stdout",
     "output_type": "stream",
     "text": [
      "Epoch 181 Validation Loss 0.5494154095649719\n",
      "Metrics logged at step 22650\n",
      "Metrics logged at step 22700\n"
     ]
    },
    {
     "name": "stderr",
     "output_type": "stream",
     "text": [
      " 61%|██████    | 182/300 [05:12<03:32,  1.80s/it]"
     ]
    },
    {
     "name": "stdout",
     "output_type": "stream",
     "text": [
      "Metrics logged at step 22750\n",
      "Epoch 182 Validation Loss 0.5511631369590759\n",
      "Metrics logged at step 22800\n",
      "Metrics logged at step 22850\n"
     ]
    },
    {
     "name": "stderr",
     "output_type": "stream",
     "text": [
      " 61%|██████    | 183/300 [05:14<03:26,  1.77s/it]"
     ]
    },
    {
     "name": "stdout",
     "output_type": "stream",
     "text": [
      "Epoch 183 Validation Loss 0.5514650344848633\n",
      "Metrics logged at step 22900\n",
      "Metrics logged at step 22950\n"
     ]
    },
    {
     "name": "stderr",
     "output_type": "stream",
     "text": [
      " 61%|██████▏   | 184/300 [05:17<03:54,  2.02s/it]"
     ]
    },
    {
     "name": "stdout",
     "output_type": "stream",
     "text": [
      "Metrics logged at step 23000\n",
      "Epoch 184 Validation Loss 0.5483641624450684\n",
      "Metrics logged at step 23050\n",
      "Metrics logged at step 23100\n"
     ]
    },
    {
     "name": "stderr",
     "output_type": "stream",
     "text": [
      " 62%|██████▏   | 185/300 [05:18<03:42,  1.94s/it]"
     ]
    },
    {
     "name": "stdout",
     "output_type": "stream",
     "text": [
      "Epoch 185 Validation Loss 0.5497525334358215\n",
      "Metrics logged at step 23150\n",
      "Metrics logged at step 23200\n"
     ]
    },
    {
     "name": "stderr",
     "output_type": "stream",
     "text": [
      " 62%|██████▏   | 186/300 [05:20<03:39,  1.93s/it]"
     ]
    },
    {
     "name": "stdout",
     "output_type": "stream",
     "text": [
      "Metrics logged at step 23250\n",
      "Epoch 186 Validation Loss 0.5476453900337219\n",
      "Metrics logged at step 23300\n",
      "Metrics logged at step 23350\n"
     ]
    },
    {
     "name": "stderr",
     "output_type": "stream",
     "text": [
      " 62%|██████▏   | 187/300 [05:22<03:29,  1.85s/it]"
     ]
    },
    {
     "name": "stdout",
     "output_type": "stream",
     "text": [
      "Epoch 187 Validation Loss 0.5473604798316956\n",
      "Metrics logged at step 23400\n",
      "Metrics logged at step 23450\n"
     ]
    },
    {
     "name": "stderr",
     "output_type": "stream",
     "text": [
      " 63%|██████▎   | 188/300 [05:24<03:28,  1.86s/it]"
     ]
    },
    {
     "name": "stdout",
     "output_type": "stream",
     "text": [
      "Metrics logged at step 23500\n",
      "Epoch 188 Validation Loss 0.5490619540214539\n",
      "Metrics logged at step 23550\n",
      "Metrics logged at step 23600\n"
     ]
    },
    {
     "name": "stderr",
     "output_type": "stream",
     "text": [
      " 63%|██████▎   | 189/300 [05:26<03:22,  1.83s/it]"
     ]
    },
    {
     "name": "stdout",
     "output_type": "stream",
     "text": [
      "Epoch 189 Validation Loss 0.5498393774032593\n",
      "Metrics logged at step 23650\n",
      "Metrics logged at step 23700\n"
     ]
    },
    {
     "name": "stderr",
     "output_type": "stream",
     "text": [
      " 63%|██████▎   | 190/300 [05:28<03:29,  1.91s/it]"
     ]
    },
    {
     "name": "stdout",
     "output_type": "stream",
     "text": [
      "Metrics logged at step 23750\n",
      "Epoch 190 Samples 8000 Step 124 Training Loss 0.5499951839447021\n",
      "Epoch 190 Validation Loss 0.5465425252914429\n",
      "Metrics logged at step 23800\n",
      "Metrics logged at step 23850\n"
     ]
    },
    {
     "name": "stderr",
     "output_type": "stream",
     "text": [
      " 64%|██████▎   | 191/300 [05:29<03:23,  1.86s/it]"
     ]
    },
    {
     "name": "stdout",
     "output_type": "stream",
     "text": [
      "Epoch 191 Validation Loss 0.5462855696678162\n",
      "Metrics logged at step 23900\n",
      "Metrics logged at step 23950\n"
     ]
    },
    {
     "name": "stderr",
     "output_type": "stream",
     "text": [
      " 64%|██████▍   | 192/300 [05:32<03:32,  1.96s/it]"
     ]
    },
    {
     "name": "stdout",
     "output_type": "stream",
     "text": [
      "Metrics logged at step 24000\n",
      "Epoch 192 Validation Loss 0.545640766620636\n",
      "Metrics logged at step 24050\n",
      "Metrics logged at step 24100\n"
     ]
    },
    {
     "name": "stderr",
     "output_type": "stream",
     "text": [
      " 64%|██████▍   | 193/300 [05:33<03:20,  1.88s/it]"
     ]
    },
    {
     "name": "stdout",
     "output_type": "stream",
     "text": [
      "Epoch 193 Validation Loss 0.5450863242149353\n",
      "Metrics logged at step 24150\n",
      "Metrics logged at step 24200\n"
     ]
    },
    {
     "name": "stderr",
     "output_type": "stream",
     "text": [
      " 65%|██████▍   | 194/300 [05:35<03:21,  1.90s/it]"
     ]
    },
    {
     "name": "stdout",
     "output_type": "stream",
     "text": [
      "Metrics logged at step 24250\n",
      "Epoch 194 Validation Loss 0.5448163151741028\n",
      "Metrics logged at step 24300\n",
      "Metrics logged at step 24350\n"
     ]
    },
    {
     "name": "stderr",
     "output_type": "stream",
     "text": [
      " 65%|██████▌   | 195/300 [05:37<03:13,  1.84s/it]"
     ]
    },
    {
     "name": "stdout",
     "output_type": "stream",
     "text": [
      "Epoch 195 Validation Loss 0.5467749834060669\n",
      "Metrics logged at step 24400\n",
      "Metrics logged at step 24450\n"
     ]
    },
    {
     "name": "stderr",
     "output_type": "stream",
     "text": [
      " 65%|██████▌   | 196/300 [05:39<03:12,  1.85s/it]"
     ]
    },
    {
     "name": "stdout",
     "output_type": "stream",
     "text": [
      "Metrics logged at step 24500\n",
      "Epoch 196 Validation Loss 0.5457047820091248\n",
      "Metrics logged at step 24550\n",
      "Metrics logged at step 24600\n"
     ]
    },
    {
     "name": "stderr",
     "output_type": "stream",
     "text": [
      " 66%|██████▌   | 197/300 [05:40<03:02,  1.77s/it]"
     ]
    },
    {
     "name": "stdout",
     "output_type": "stream",
     "text": [
      "Epoch 197 Validation Loss 0.5433694124221802\n",
      "Metrics logged at step 24650\n",
      "Metrics logged at step 24700\n"
     ]
    },
    {
     "name": "stderr",
     "output_type": "stream",
     "text": [
      " 66%|██████▌   | 198/300 [05:42<03:04,  1.81s/it]"
     ]
    },
    {
     "name": "stdout",
     "output_type": "stream",
     "text": [
      "Metrics logged at step 24750\n",
      "Epoch 198 Validation Loss 0.54411381483078\n",
      "Metrics logged at step 24800\n",
      "Metrics logged at step 24850\n"
     ]
    },
    {
     "name": "stderr",
     "output_type": "stream",
     "text": [
      " 66%|██████▋   | 199/300 [05:44<03:04,  1.83s/it]"
     ]
    },
    {
     "name": "stdout",
     "output_type": "stream",
     "text": [
      "Epoch 199 Validation Loss 0.5452916026115417\n",
      "Metrics logged at step 24900\n",
      "Metrics logged at step 24950\n"
     ]
    },
    {
     "name": "stderr",
     "output_type": "stream",
     "text": [
      " 67%|██████▋   | 200/300 [05:46<03:05,  1.86s/it]"
     ]
    },
    {
     "name": "stdout",
     "output_type": "stream",
     "text": [
      "Metrics logged at step 25000\n",
      "Epoch 200 Samples 8000 Step 124 Training Loss 0.5367975831031799\n",
      "Epoch 200 Validation Loss 0.5446478128433228\n",
      "Metrics logged at step 25050\n",
      "Metrics logged at step 25100\n"
     ]
    },
    {
     "name": "stderr",
     "output_type": "stream",
     "text": [
      " 67%|██████▋   | 201/300 [05:48<02:57,  1.80s/it]"
     ]
    },
    {
     "name": "stdout",
     "output_type": "stream",
     "text": [
      "Epoch 201 Validation Loss 0.5426775217056274\n",
      "Metrics logged at step 25150\n",
      "Metrics logged at step 25200\n"
     ]
    },
    {
     "name": "stderr",
     "output_type": "stream",
     "text": [
      " 67%|██████▋   | 202/300 [05:50<03:00,  1.84s/it]"
     ]
    },
    {
     "name": "stdout",
     "output_type": "stream",
     "text": [
      "Metrics logged at step 25250\n",
      "Epoch 202 Validation Loss 0.5431234836578369\n",
      "Metrics logged at step 25300\n",
      "Metrics logged at step 25350\n"
     ]
    },
    {
     "name": "stderr",
     "output_type": "stream",
     "text": [
      " 68%|██████▊   | 203/300 [05:51<02:50,  1.76s/it]"
     ]
    },
    {
     "name": "stdout",
     "output_type": "stream",
     "text": [
      "Epoch 203 Validation Loss 0.5423657894134521\n",
      "Metrics logged at step 25400\n",
      "Metrics logged at step 25450\n"
     ]
    },
    {
     "name": "stderr",
     "output_type": "stream",
     "text": [
      " 68%|██████▊   | 204/300 [05:53<02:50,  1.78s/it]"
     ]
    },
    {
     "name": "stdout",
     "output_type": "stream",
     "text": [
      "Metrics logged at step 25500\n",
      "Epoch 204 Validation Loss 0.5418891310691833\n",
      "Metrics logged at step 25550\n",
      "Metrics logged at step 25600\n"
     ]
    },
    {
     "name": "stderr",
     "output_type": "stream",
     "text": [
      " 68%|██████▊   | 205/300 [05:55<02:48,  1.77s/it]"
     ]
    },
    {
     "name": "stdout",
     "output_type": "stream",
     "text": [
      "Epoch 205 Validation Loss 0.5433210134506226\n",
      "Metrics logged at step 25650\n",
      "Metrics logged at step 25700\n"
     ]
    },
    {
     "name": "stderr",
     "output_type": "stream",
     "text": [
      " 69%|██████▊   | 206/300 [05:57<02:56,  1.88s/it]"
     ]
    },
    {
     "name": "stdout",
     "output_type": "stream",
     "text": [
      "Metrics logged at step 25750\n",
      "Epoch 206 Validation Loss 0.5425348877906799\n",
      "Metrics logged at step 25800\n",
      "Metrics logged at step 25850\n"
     ]
    },
    {
     "name": "stderr",
     "output_type": "stream",
     "text": [
      " 69%|██████▉   | 207/300 [05:59<02:50,  1.83s/it]"
     ]
    },
    {
     "name": "stdout",
     "output_type": "stream",
     "text": [
      "Epoch 207 Validation Loss 0.5416108965873718\n",
      "Metrics logged at step 25900\n",
      "Metrics logged at step 25950\n"
     ]
    },
    {
     "name": "stderr",
     "output_type": "stream",
     "text": [
      " 69%|██████▉   | 208/300 [06:01<02:52,  1.88s/it]"
     ]
    },
    {
     "name": "stdout",
     "output_type": "stream",
     "text": [
      "Metrics logged at step 26000\n",
      "Epoch 208 Validation Loss 0.5405530333518982\n",
      "Metrics logged at step 26050\n",
      "Metrics logged at step 26100\n"
     ]
    },
    {
     "name": "stderr",
     "output_type": "stream",
     "text": [
      " 70%|██████▉   | 209/300 [06:03<02:51,  1.89s/it]"
     ]
    },
    {
     "name": "stdout",
     "output_type": "stream",
     "text": [
      "Epoch 209 Validation Loss 0.5413172841072083\n",
      "Metrics logged at step 26150\n",
      "Metrics logged at step 26200\n"
     ]
    },
    {
     "name": "stderr",
     "output_type": "stream",
     "text": [
      " 70%|███████   | 210/300 [06:04<02:49,  1.88s/it]"
     ]
    },
    {
     "name": "stdout",
     "output_type": "stream",
     "text": [
      "Metrics logged at step 26250\n",
      "Epoch 210 Samples 8000 Step 124 Training Loss 0.5447787046432495\n",
      "Epoch 210 Validation Loss 0.5427535176277161\n",
      "Metrics logged at step 26300\n",
      "Metrics logged at step 26350\n"
     ]
    },
    {
     "name": "stderr",
     "output_type": "stream",
     "text": [
      " 70%|███████   | 211/300 [06:06<02:41,  1.82s/it]"
     ]
    },
    {
     "name": "stdout",
     "output_type": "stream",
     "text": [
      "Epoch 211 Validation Loss 0.5399200320243835\n",
      "Metrics logged at step 26400\n",
      "Metrics logged at step 26450\n"
     ]
    },
    {
     "name": "stderr",
     "output_type": "stream",
     "text": [
      " 71%|███████   | 212/300 [06:08<02:43,  1.86s/it]"
     ]
    },
    {
     "name": "stdout",
     "output_type": "stream",
     "text": [
      "Metrics logged at step 26500\n",
      "Epoch 212 Validation Loss 0.5395672917366028\n",
      "Metrics logged at step 26550\n",
      "Metrics logged at step 26600\n"
     ]
    },
    {
     "name": "stderr",
     "output_type": "stream",
     "text": [
      " 71%|███████   | 213/300 [06:10<02:37,  1.81s/it]"
     ]
    },
    {
     "name": "stdout",
     "output_type": "stream",
     "text": [
      "Epoch 213 Validation Loss 0.5404537916183472\n",
      "Metrics logged at step 26650\n",
      "Metrics logged at step 26700\n"
     ]
    },
    {
     "name": "stderr",
     "output_type": "stream",
     "text": [
      " 71%|███████▏  | 214/300 [06:12<02:36,  1.82s/it]"
     ]
    },
    {
     "name": "stdout",
     "output_type": "stream",
     "text": [
      "Metrics logged at step 26750\n",
      "Epoch 214 Validation Loss 0.5397324562072754\n",
      "Metrics logged at step 26800\n",
      "Metrics logged at step 26850\n"
     ]
    },
    {
     "name": "stderr",
     "output_type": "stream",
     "text": [
      " 72%|███████▏  | 215/300 [06:13<02:31,  1.79s/it]"
     ]
    },
    {
     "name": "stdout",
     "output_type": "stream",
     "text": [
      "Epoch 215 Validation Loss 0.5397161841392517\n",
      "Metrics logged at step 26900\n",
      "Metrics logged at step 26950\n"
     ]
    },
    {
     "name": "stderr",
     "output_type": "stream",
     "text": [
      " 72%|███████▏  | 216/300 [06:15<02:29,  1.79s/it]"
     ]
    },
    {
     "name": "stdout",
     "output_type": "stream",
     "text": [
      "Metrics logged at step 27000\n",
      "Epoch 216 Validation Loss 0.5394495725631714\n",
      "Metrics logged at step 27050\n",
      "Metrics logged at step 27100\n"
     ]
    },
    {
     "name": "stderr",
     "output_type": "stream",
     "text": [
      " 72%|███████▏  | 217/300 [06:17<02:30,  1.81s/it]"
     ]
    },
    {
     "name": "stdout",
     "output_type": "stream",
     "text": [
      "Epoch 217 Validation Loss 0.5397395491600037\n",
      "Metrics logged at step 27150\n",
      "Metrics logged at step 27200\n"
     ]
    },
    {
     "name": "stderr",
     "output_type": "stream",
     "text": [
      " 73%|███████▎  | 218/300 [06:19<02:29,  1.82s/it]"
     ]
    },
    {
     "name": "stdout",
     "output_type": "stream",
     "text": [
      "Metrics logged at step 27250\n",
      "Epoch 218 Validation Loss 0.5397677421569824\n",
      "Metrics logged at step 27300\n",
      "Metrics logged at step 27350\n"
     ]
    },
    {
     "name": "stderr",
     "output_type": "stream",
     "text": [
      " 73%|███████▎  | 219/300 [06:20<02:22,  1.76s/it]"
     ]
    },
    {
     "name": "stdout",
     "output_type": "stream",
     "text": [
      "Epoch 219 Validation Loss 0.5380459427833557\n",
      "Metrics logged at step 27400\n",
      "Metrics logged at step 27450\n"
     ]
    },
    {
     "name": "stderr",
     "output_type": "stream",
     "text": [
      " 73%|███████▎  | 220/300 [06:22<02:23,  1.80s/it]"
     ]
    },
    {
     "name": "stdout",
     "output_type": "stream",
     "text": [
      "Metrics logged at step 27500\n",
      "Epoch 220 Samples 8000 Step 124 Training Loss 0.5356569886207581\n",
      "Epoch 220 Validation Loss 0.538986325263977\n",
      "Metrics logged at step 27550\n",
      "Metrics logged at step 27600\n"
     ]
    },
    {
     "name": "stderr",
     "output_type": "stream",
     "text": [
      " 74%|███████▎  | 221/300 [06:24<02:19,  1.77s/it]"
     ]
    },
    {
     "name": "stdout",
     "output_type": "stream",
     "text": [
      "Epoch 221 Validation Loss 0.5386592745780945\n",
      "Metrics logged at step 27650\n",
      "Metrics logged at step 27700\n"
     ]
    },
    {
     "name": "stderr",
     "output_type": "stream",
     "text": [
      " 74%|███████▍  | 222/300 [06:26<02:19,  1.79s/it]"
     ]
    },
    {
     "name": "stdout",
     "output_type": "stream",
     "text": [
      "Metrics logged at step 27750\n",
      "Epoch 222 Validation Loss 0.5389760136604309\n",
      "Metrics logged at step 27800\n",
      "Metrics logged at step 27850\n"
     ]
    },
    {
     "name": "stderr",
     "output_type": "stream",
     "text": [
      " 74%|███████▍  | 223/300 [06:28<02:17,  1.78s/it]"
     ]
    },
    {
     "name": "stdout",
     "output_type": "stream",
     "text": [
      "Epoch 223 Validation Loss 0.5378480553627014\n",
      "Metrics logged at step 27900\n",
      "Metrics logged at step 27950\n"
     ]
    },
    {
     "name": "stderr",
     "output_type": "stream",
     "text": [
      " 75%|███████▍  | 224/300 [06:29<02:15,  1.78s/it]"
     ]
    },
    {
     "name": "stdout",
     "output_type": "stream",
     "text": [
      "Metrics logged at step 28000\n",
      "Epoch 224 Validation Loss 0.5398682355880737\n",
      "Metrics logged at step 28050\n",
      "Metrics logged at step 28100\n"
     ]
    },
    {
     "name": "stderr",
     "output_type": "stream",
     "text": [
      " 75%|███████▌  | 225/300 [06:31<02:10,  1.73s/it]"
     ]
    },
    {
     "name": "stdout",
     "output_type": "stream",
     "text": [
      "Epoch 225 Validation Loss 0.5370022654533386\n",
      "Metrics logged at step 28150\n",
      "Metrics logged at step 28200\n"
     ]
    },
    {
     "name": "stderr",
     "output_type": "stream",
     "text": [
      " 75%|███████▌  | 226/300 [06:33<02:10,  1.76s/it]"
     ]
    },
    {
     "name": "stdout",
     "output_type": "stream",
     "text": [
      "Metrics logged at step 28250\n",
      "Epoch 226 Validation Loss 0.5376466512680054\n",
      "Metrics logged at step 28300\n",
      "Metrics logged at step 28350\n"
     ]
    },
    {
     "name": "stderr",
     "output_type": "stream",
     "text": [
      " 76%|███████▌  | 227/300 [06:35<02:07,  1.74s/it]"
     ]
    },
    {
     "name": "stdout",
     "output_type": "stream",
     "text": [
      "Epoch 227 Validation Loss 0.5374547243118286\n",
      "Metrics logged at step 28400\n",
      "Metrics logged at step 28450\n"
     ]
    },
    {
     "name": "stderr",
     "output_type": "stream",
     "text": [
      " 76%|███████▌  | 228/300 [06:36<02:08,  1.79s/it]"
     ]
    },
    {
     "name": "stdout",
     "output_type": "stream",
     "text": [
      "Metrics logged at step 28500\n",
      "Epoch 228 Validation Loss 0.5381104946136475\n",
      "Metrics logged at step 28550\n",
      "Metrics logged at step 28600\n"
     ]
    },
    {
     "name": "stderr",
     "output_type": "stream",
     "text": [
      " 76%|███████▋  | 229/300 [06:38<02:09,  1.83s/it]"
     ]
    },
    {
     "name": "stdout",
     "output_type": "stream",
     "text": [
      "Epoch 229 Validation Loss 0.5359583497047424\n",
      "Metrics logged at step 28650\n",
      "Metrics logged at step 28700\n"
     ]
    },
    {
     "name": "stderr",
     "output_type": "stream",
     "text": [
      " 77%|███████▋  | 230/300 [06:40<02:09,  1.84s/it]"
     ]
    },
    {
     "name": "stdout",
     "output_type": "stream",
     "text": [
      "Metrics logged at step 28750\n",
      "Epoch 230 Samples 8000 Step 124 Training Loss 0.5299495458602905\n",
      "Epoch 230 Validation Loss 0.5365726947784424\n",
      "Metrics logged at step 28800\n",
      "Metrics logged at step 28850\n"
     ]
    },
    {
     "name": "stderr",
     "output_type": "stream",
     "text": [
      " 77%|███████▋  | 231/300 [06:42<02:01,  1.77s/it]"
     ]
    },
    {
     "name": "stdout",
     "output_type": "stream",
     "text": [
      "Epoch 231 Validation Loss 0.5369142889976501\n",
      "Metrics logged at step 28900\n",
      "Metrics logged at step 28950\n"
     ]
    },
    {
     "name": "stderr",
     "output_type": "stream",
     "text": [
      " 77%|███████▋  | 232/300 [06:44<02:03,  1.82s/it]"
     ]
    },
    {
     "name": "stdout",
     "output_type": "stream",
     "text": [
      "Metrics logged at step 29000\n",
      "Epoch 232 Validation Loss 0.5370880961418152\n",
      "Metrics logged at step 29050\n",
      "Metrics logged at step 29100\n"
     ]
    },
    {
     "name": "stderr",
     "output_type": "stream",
     "text": [
      " 78%|███████▊  | 233/300 [06:45<02:00,  1.80s/it]"
     ]
    },
    {
     "name": "stdout",
     "output_type": "stream",
     "text": [
      "Epoch 233 Validation Loss 0.5357368588447571\n",
      "Metrics logged at step 29150\n",
      "Metrics logged at step 29200\n"
     ]
    },
    {
     "name": "stderr",
     "output_type": "stream",
     "text": [
      " 78%|███████▊  | 234/300 [06:48<02:08,  1.94s/it]"
     ]
    },
    {
     "name": "stdout",
     "output_type": "stream",
     "text": [
      "Metrics logged at step 29250\n",
      "Epoch 234 Validation Loss 0.5370112061500549\n",
      "Metrics logged at step 29300\n",
      "Metrics logged at step 29350\n"
     ]
    },
    {
     "name": "stderr",
     "output_type": "stream",
     "text": [
      " 78%|███████▊  | 235/300 [06:49<02:02,  1.88s/it]"
     ]
    },
    {
     "name": "stdout",
     "output_type": "stream",
     "text": [
      "Epoch 235 Validation Loss 0.5357643365859985\n",
      "Metrics logged at step 29400\n",
      "Metrics logged at step 29450\n"
     ]
    },
    {
     "name": "stderr",
     "output_type": "stream",
     "text": [
      " 79%|███████▊  | 236/300 [06:51<02:02,  1.91s/it]"
     ]
    },
    {
     "name": "stdout",
     "output_type": "stream",
     "text": [
      "Metrics logged at step 29500\n",
      "Epoch 236 Validation Loss 0.5361670851707458\n",
      "Metrics logged at step 29550\n",
      "Metrics logged at step 29600\n"
     ]
    },
    {
     "name": "stderr",
     "output_type": "stream",
     "text": [
      " 79%|███████▉  | 237/300 [06:53<01:58,  1.88s/it]"
     ]
    },
    {
     "name": "stdout",
     "output_type": "stream",
     "text": [
      "Epoch 237 Validation Loss 0.5346149206161499\n",
      "Metrics logged at step 29650\n",
      "Metrics logged at step 29700\n"
     ]
    },
    {
     "name": "stderr",
     "output_type": "stream",
     "text": [
      " 79%|███████▉  | 238/300 [06:55<01:55,  1.87s/it]"
     ]
    },
    {
     "name": "stdout",
     "output_type": "stream",
     "text": [
      "Metrics logged at step 29750\n",
      "Epoch 238 Validation Loss 0.5370879173278809\n",
      "Metrics logged at step 29800\n",
      "Metrics logged at step 29850\n"
     ]
    },
    {
     "name": "stderr",
     "output_type": "stream",
     "text": [
      " 80%|███████▉  | 239/300 [06:57<01:49,  1.79s/it]"
     ]
    },
    {
     "name": "stdout",
     "output_type": "stream",
     "text": [
      "Epoch 239 Validation Loss 0.5348718762397766\n",
      "Metrics logged at step 29900\n",
      "Metrics logged at step 29950\n"
     ]
    },
    {
     "name": "stderr",
     "output_type": "stream",
     "text": [
      " 80%|████████  | 240/300 [06:59<01:48,  1.80s/it]"
     ]
    },
    {
     "name": "stdout",
     "output_type": "stream",
     "text": [
      "Metrics logged at step 30000\n",
      "Epoch 240 Samples 8000 Step 124 Training Loss 0.5343868136405945\n",
      "Epoch 240 Validation Loss 0.5367331504821777\n",
      "Metrics logged at step 30050\n",
      "Metrics logged at step 30100\n"
     ]
    },
    {
     "name": "stderr",
     "output_type": "stream",
     "text": [
      " 80%|████████  | 241/300 [07:00<01:41,  1.73s/it]"
     ]
    },
    {
     "name": "stdout",
     "output_type": "stream",
     "text": [
      "Epoch 241 Validation Loss 0.5375788807868958\n",
      "Metrics logged at step 30150\n",
      "Metrics logged at step 30200\n"
     ]
    },
    {
     "name": "stderr",
     "output_type": "stream",
     "text": [
      " 81%|████████  | 242/300 [07:02<01:45,  1.83s/it]"
     ]
    },
    {
     "name": "stdout",
     "output_type": "stream",
     "text": [
      "Metrics logged at step 30250\n",
      "Epoch 242 Validation Loss 0.5344459414482117\n",
      "Metrics logged at step 30300\n",
      "Metrics logged at step 30350\n"
     ]
    },
    {
     "name": "stderr",
     "output_type": "stream",
     "text": [
      " 81%|████████  | 243/300 [07:04<01:40,  1.76s/it]"
     ]
    },
    {
     "name": "stdout",
     "output_type": "stream",
     "text": [
      "Epoch 243 Validation Loss 0.5344190001487732\n",
      "Metrics logged at step 30400\n",
      "Metrics logged at step 30450\n"
     ]
    },
    {
     "name": "stderr",
     "output_type": "stream",
     "text": [
      " 81%|████████▏ | 244/300 [07:06<01:38,  1.75s/it]"
     ]
    },
    {
     "name": "stdout",
     "output_type": "stream",
     "text": [
      "Metrics logged at step 30500\n",
      "Epoch 244 Validation Loss 0.5343165993690491\n",
      "Metrics logged at step 30550\n",
      "Metrics logged at step 30600\n"
     ]
    },
    {
     "name": "stderr",
     "output_type": "stream",
     "text": [
      " 82%|████████▏ | 245/300 [07:07<01:36,  1.76s/it]"
     ]
    },
    {
     "name": "stdout",
     "output_type": "stream",
     "text": [
      "Epoch 245 Validation Loss 0.5366878509521484\n",
      "Metrics logged at step 30650\n",
      "Metrics logged at step 30700\n"
     ]
    },
    {
     "name": "stderr",
     "output_type": "stream",
     "text": [
      " 82%|████████▏ | 246/300 [07:09<01:36,  1.79s/it]"
     ]
    },
    {
     "name": "stdout",
     "output_type": "stream",
     "text": [
      "Metrics logged at step 30750\n",
      "Epoch 246 Validation Loss 0.5346090197563171\n",
      "Metrics logged at step 30800\n",
      "Metrics logged at step 30850\n"
     ]
    },
    {
     "name": "stderr",
     "output_type": "stream",
     "text": [
      " 82%|████████▏ | 247/300 [07:11<01:35,  1.80s/it]"
     ]
    },
    {
     "name": "stdout",
     "output_type": "stream",
     "text": [
      "Epoch 247 Validation Loss 0.5345572233200073\n",
      "Metrics logged at step 30900\n",
      "Metrics logged at step 30950\n"
     ]
    },
    {
     "name": "stderr",
     "output_type": "stream",
     "text": [
      " 83%|████████▎ | 248/300 [07:13<01:38,  1.89s/it]"
     ]
    },
    {
     "name": "stdout",
     "output_type": "stream",
     "text": [
      "Metrics logged at step 31000\n",
      "Epoch 248 Validation Loss 0.5330211520195007\n",
      "Metrics logged at step 31050\n",
      "Metrics logged at step 31100\n"
     ]
    },
    {
     "name": "stderr",
     "output_type": "stream",
     "text": [
      " 83%|████████▎ | 249/300 [07:15<01:35,  1.86s/it]"
     ]
    },
    {
     "name": "stdout",
     "output_type": "stream",
     "text": [
      "Epoch 249 Validation Loss 0.5332170128822327\n",
      "Metrics logged at step 31150\n",
      "Metrics logged at step 31200\n"
     ]
    },
    {
     "name": "stderr",
     "output_type": "stream",
     "text": [
      " 83%|████████▎ | 250/300 [07:17<01:32,  1.84s/it]"
     ]
    },
    {
     "name": "stdout",
     "output_type": "stream",
     "text": [
      "Metrics logged at step 31250\n",
      "Epoch 250 Samples 8000 Step 124 Training Loss 0.5242847204208374\n",
      "Epoch 250 Validation Loss 0.5331127643585205\n",
      "Metrics logged at step 31300\n",
      "Metrics logged at step 31350\n"
     ]
    },
    {
     "name": "stderr",
     "output_type": "stream",
     "text": [
      " 84%|████████▎ | 251/300 [07:18<01:29,  1.82s/it]"
     ]
    },
    {
     "name": "stdout",
     "output_type": "stream",
     "text": [
      "Epoch 251 Validation Loss 0.5336916446685791\n",
      "Metrics logged at step 31400\n",
      "Metrics logged at step 31450\n"
     ]
    },
    {
     "name": "stderr",
     "output_type": "stream",
     "text": [
      " 84%|████████▍ | 252/300 [07:20<01:27,  1.83s/it]"
     ]
    },
    {
     "name": "stdout",
     "output_type": "stream",
     "text": [
      "Metrics logged at step 31500\n",
      "Epoch 252 Validation Loss 0.5358330607414246\n",
      "Metrics logged at step 31550\n",
      "Metrics logged at step 31600\n"
     ]
    },
    {
     "name": "stderr",
     "output_type": "stream",
     "text": [
      " 84%|████████▍ | 253/300 [07:22<01:30,  1.92s/it]"
     ]
    },
    {
     "name": "stdout",
     "output_type": "stream",
     "text": [
      "Epoch 253 Validation Loss 0.5328894853591919\n",
      "Metrics logged at step 31650\n",
      "Metrics logged at step 31700\n"
     ]
    },
    {
     "name": "stderr",
     "output_type": "stream",
     "text": [
      " 85%|████████▍ | 254/300 [07:25<01:33,  2.03s/it]"
     ]
    },
    {
     "name": "stdout",
     "output_type": "stream",
     "text": [
      "Metrics logged at step 31750\n",
      "Epoch 254 Validation Loss 0.5325074195861816\n",
      "Metrics logged at step 31800\n",
      "Metrics logged at step 31850\n"
     ]
    },
    {
     "name": "stderr",
     "output_type": "stream",
     "text": [
      " 85%|████████▌ | 255/300 [07:27<01:29,  1.99s/it]"
     ]
    },
    {
     "name": "stdout",
     "output_type": "stream",
     "text": [
      "Epoch 255 Validation Loss 0.5352199077606201\n",
      "Metrics logged at step 31900\n",
      "Metrics logged at step 31950\n"
     ]
    },
    {
     "name": "stderr",
     "output_type": "stream",
     "text": [
      " 85%|████████▌ | 256/300 [07:29<01:26,  1.98s/it]"
     ]
    },
    {
     "name": "stdout",
     "output_type": "stream",
     "text": [
      "Metrics logged at step 32000\n",
      "Epoch 256 Validation Loss 0.5319955945014954\n",
      "Metrics logged at step 32050\n",
      "Metrics logged at step 32100\n"
     ]
    },
    {
     "name": "stderr",
     "output_type": "stream",
     "text": [
      " 86%|████████▌ | 257/300 [07:30<01:21,  1.88s/it]"
     ]
    },
    {
     "name": "stdout",
     "output_type": "stream",
     "text": [
      "Epoch 257 Validation Loss 0.53225177526474\n",
      "Metrics logged at step 32150\n",
      "Metrics logged at step 32200\n"
     ]
    },
    {
     "name": "stderr",
     "output_type": "stream",
     "text": [
      " 86%|████████▌ | 258/300 [07:32<01:18,  1.88s/it]"
     ]
    },
    {
     "name": "stdout",
     "output_type": "stream",
     "text": [
      "Metrics logged at step 32250\n",
      "Epoch 258 Validation Loss 0.5325002670288086\n",
      "Metrics logged at step 32300\n",
      "Metrics logged at step 32350\n"
     ]
    },
    {
     "name": "stderr",
     "output_type": "stream",
     "text": [
      " 86%|████████▋ | 259/300 [07:34<01:15,  1.85s/it]"
     ]
    },
    {
     "name": "stdout",
     "output_type": "stream",
     "text": [
      "Epoch 259 Validation Loss 0.5319700241088867\n",
      "Metrics logged at step 32400\n",
      "Metrics logged at step 32450\n"
     ]
    },
    {
     "name": "stderr",
     "output_type": "stream",
     "text": [
      " 87%|████████▋ | 260/300 [07:36<01:14,  1.85s/it]"
     ]
    },
    {
     "name": "stdout",
     "output_type": "stream",
     "text": [
      "Metrics logged at step 32500\n",
      "Epoch 260 Samples 8000 Step 124 Training Loss 0.5282383561134338\n",
      "Epoch 260 Validation Loss 0.5326215624809265\n",
      "Metrics logged at step 32550\n",
      "Metrics logged at step 32600\n"
     ]
    },
    {
     "name": "stderr",
     "output_type": "stream",
     "text": [
      " 87%|████████▋ | 261/300 [07:37<01:09,  1.78s/it]"
     ]
    },
    {
     "name": "stdout",
     "output_type": "stream",
     "text": [
      "Epoch 261 Validation Loss 0.531396746635437\n",
      "Metrics logged at step 32650\n",
      "Metrics logged at step 32700\n"
     ]
    },
    {
     "name": "stderr",
     "output_type": "stream",
     "text": [
      " 87%|████████▋ | 262/300 [07:39<01:08,  1.81s/it]"
     ]
    },
    {
     "name": "stdout",
     "output_type": "stream",
     "text": [
      "Metrics logged at step 32750\n",
      "Epoch 262 Validation Loss 0.5306649804115295\n",
      "Metrics logged at step 32800\n",
      "Metrics logged at step 32850\n"
     ]
    },
    {
     "name": "stderr",
     "output_type": "stream",
     "text": [
      " 88%|████████▊ | 263/300 [07:41<01:07,  1.82s/it]"
     ]
    },
    {
     "name": "stdout",
     "output_type": "stream",
     "text": [
      "Epoch 263 Validation Loss 0.5313121676445007\n",
      "Metrics logged at step 32900\n",
      "Metrics logged at step 32950\n"
     ]
    },
    {
     "name": "stderr",
     "output_type": "stream",
     "text": [
      " 88%|████████▊ | 264/300 [07:43<01:08,  1.91s/it]"
     ]
    },
    {
     "name": "stdout",
     "output_type": "stream",
     "text": [
      "Metrics logged at step 33000\n",
      "Epoch 264 Validation Loss 0.5334405303001404\n",
      "Metrics logged at step 33050\n",
      "Metrics logged at step 33100\n"
     ]
    },
    {
     "name": "stderr",
     "output_type": "stream",
     "text": [
      " 88%|████████▊ | 265/300 [07:45<01:05,  1.87s/it]"
     ]
    },
    {
     "name": "stdout",
     "output_type": "stream",
     "text": [
      "Epoch 265 Validation Loss 0.5310024619102478\n",
      "Metrics logged at step 33150\n",
      "Metrics logged at step 33200\n"
     ]
    },
    {
     "name": "stderr",
     "output_type": "stream",
     "text": [
      " 89%|████████▊ | 266/300 [07:47<01:05,  1.94s/it]"
     ]
    },
    {
     "name": "stdout",
     "output_type": "stream",
     "text": [
      "Metrics logged at step 33250\n",
      "Epoch 266 Validation Loss 0.5298418402671814\n",
      "Metrics logged at step 33300\n",
      "Metrics logged at step 33350\n"
     ]
    },
    {
     "name": "stderr",
     "output_type": "stream",
     "text": [
      " 89%|████████▉ | 267/300 [07:49<01:02,  1.90s/it]"
     ]
    },
    {
     "name": "stdout",
     "output_type": "stream",
     "text": [
      "Epoch 267 Validation Loss 0.5309693217277527\n",
      "Metrics logged at step 33400\n",
      "Metrics logged at step 33450\n"
     ]
    },
    {
     "name": "stderr",
     "output_type": "stream",
     "text": [
      " 89%|████████▉ | 268/300 [07:51<01:01,  1.93s/it]"
     ]
    },
    {
     "name": "stdout",
     "output_type": "stream",
     "text": [
      "Metrics logged at step 33500\n",
      "Epoch 268 Validation Loss 0.5335707068443298\n",
      "Metrics logged at step 33550\n",
      "Metrics logged at step 33600\n"
     ]
    },
    {
     "name": "stderr",
     "output_type": "stream",
     "text": [
      " 90%|████████▉ | 269/300 [07:53<00:58,  1.90s/it]"
     ]
    },
    {
     "name": "stdout",
     "output_type": "stream",
     "text": [
      "Epoch 269 Validation Loss 0.5321463942527771\n",
      "Metrics logged at step 33650\n",
      "Metrics logged at step 33700\n"
     ]
    },
    {
     "name": "stderr",
     "output_type": "stream",
     "text": [
      " 90%|█████████ | 270/300 [07:55<00:58,  1.95s/it]"
     ]
    },
    {
     "name": "stdout",
     "output_type": "stream",
     "text": [
      "Metrics logged at step 33750\n",
      "Epoch 270 Samples 8000 Step 124 Training Loss 0.5272153615951538\n",
      "Epoch 270 Validation Loss 0.5312061309814453\n",
      "Metrics logged at step 33800\n",
      "Metrics logged at step 33850\n"
     ]
    },
    {
     "name": "stderr",
     "output_type": "stream",
     "text": [
      " 90%|█████████ | 271/300 [07:56<00:52,  1.83s/it]"
     ]
    },
    {
     "name": "stdout",
     "output_type": "stream",
     "text": [
      "Epoch 271 Validation Loss 0.5301768183708191\n",
      "Metrics logged at step 33900\n",
      "Metrics logged at step 33950\n"
     ]
    },
    {
     "name": "stderr",
     "output_type": "stream",
     "text": [
      " 91%|█████████ | 272/300 [07:58<00:51,  1.83s/it]"
     ]
    },
    {
     "name": "stdout",
     "output_type": "stream",
     "text": [
      "Metrics logged at step 34000\n",
      "Epoch 272 Validation Loss 0.5302852988243103\n",
      "Metrics logged at step 34050\n",
      "Metrics logged at step 34100\n"
     ]
    },
    {
     "name": "stderr",
     "output_type": "stream",
     "text": [
      " 91%|█████████ | 273/300 [08:00<00:47,  1.75s/it]"
     ]
    },
    {
     "name": "stdout",
     "output_type": "stream",
     "text": [
      "Epoch 273 Validation Loss 0.5297853946685791\n",
      "Metrics logged at step 34150\n",
      "Metrics logged at step 34200\n"
     ]
    },
    {
     "name": "stderr",
     "output_type": "stream",
     "text": [
      " 91%|█████████▏| 274/300 [08:01<00:45,  1.75s/it]"
     ]
    },
    {
     "name": "stdout",
     "output_type": "stream",
     "text": [
      "Metrics logged at step 34250\n",
      "Epoch 274 Validation Loss 0.5293435454368591\n",
      "Metrics logged at step 34300\n",
      "Metrics logged at step 34350\n"
     ]
    },
    {
     "name": "stderr",
     "output_type": "stream",
     "text": [
      " 92%|█████████▏| 275/300 [08:03<00:42,  1.68s/it]"
     ]
    },
    {
     "name": "stdout",
     "output_type": "stream",
     "text": [
      "Epoch 275 Validation Loss 0.5309319496154785\n",
      "Metrics logged at step 34400\n",
      "Metrics logged at step 34450\n"
     ]
    },
    {
     "name": "stderr",
     "output_type": "stream",
     "text": [
      " 92%|█████████▏| 276/300 [08:05<00:41,  1.71s/it]"
     ]
    },
    {
     "name": "stdout",
     "output_type": "stream",
     "text": [
      "Metrics logged at step 34500\n",
      "Epoch 276 Validation Loss 0.5297709107398987\n",
      "Metrics logged at step 34550\n",
      "Metrics logged at step 34600\n"
     ]
    },
    {
     "name": "stderr",
     "output_type": "stream",
     "text": [
      " 92%|█████████▏| 277/300 [08:06<00:38,  1.68s/it]"
     ]
    },
    {
     "name": "stdout",
     "output_type": "stream",
     "text": [
      "Epoch 277 Validation Loss 0.5296182036399841\n",
      "Metrics logged at step 34650\n",
      "Metrics logged at step 34700\n"
     ]
    },
    {
     "name": "stderr",
     "output_type": "stream",
     "text": [
      " 93%|█████████▎| 278/300 [08:08<00:38,  1.76s/it]"
     ]
    },
    {
     "name": "stdout",
     "output_type": "stream",
     "text": [
      "Metrics logged at step 34750\n",
      "Epoch 278 Validation Loss 0.5284162759780884\n",
      "Metrics logged at step 34800\n",
      "Metrics logged at step 34850\n"
     ]
    },
    {
     "name": "stderr",
     "output_type": "stream",
     "text": [
      " 93%|█████████▎| 279/300 [08:10<00:36,  1.72s/it]"
     ]
    },
    {
     "name": "stdout",
     "output_type": "stream",
     "text": [
      "Epoch 279 Validation Loss 0.5284944176673889\n",
      "Metrics logged at step 34900\n",
      "Metrics logged at step 34950\n"
     ]
    },
    {
     "name": "stderr",
     "output_type": "stream",
     "text": [
      " 93%|█████████▎| 280/300 [08:12<00:34,  1.74s/it]"
     ]
    },
    {
     "name": "stdout",
     "output_type": "stream",
     "text": [
      "Metrics logged at step 35000\n",
      "Epoch 280 Samples 8000 Step 124 Training Loss 0.5405218005180359\n",
      "Epoch 280 Validation Loss 0.5377805829048157\n",
      "Metrics logged at step 35050\n",
      "Metrics logged at step 35100\n"
     ]
    },
    {
     "name": "stderr",
     "output_type": "stream",
     "text": [
      " 94%|█████████▎| 281/300 [08:13<00:31,  1.68s/it]"
     ]
    },
    {
     "name": "stdout",
     "output_type": "stream",
     "text": [
      "Epoch 281 Validation Loss 0.5273277163505554\n",
      "Metrics logged at step 35150\n",
      "Metrics logged at step 35200\n"
     ]
    },
    {
     "name": "stderr",
     "output_type": "stream",
     "text": [
      " 94%|█████████▍| 282/300 [08:15<00:30,  1.72s/it]"
     ]
    },
    {
     "name": "stdout",
     "output_type": "stream",
     "text": [
      "Metrics logged at step 35250\n",
      "Epoch 282 Validation Loss 0.5267752408981323\n",
      "Metrics logged at step 35300\n",
      "Metrics logged at step 35350\n"
     ]
    },
    {
     "name": "stderr",
     "output_type": "stream",
     "text": [
      " 94%|█████████▍| 283/300 [08:17<00:28,  1.68s/it]"
     ]
    },
    {
     "name": "stdout",
     "output_type": "stream",
     "text": [
      "Epoch 283 Validation Loss 0.5276976823806763\n",
      "Metrics logged at step 35400\n",
      "Metrics logged at step 35450\n"
     ]
    },
    {
     "name": "stderr",
     "output_type": "stream",
     "text": [
      " 95%|█████████▍| 284/300 [08:18<00:27,  1.73s/it]"
     ]
    },
    {
     "name": "stdout",
     "output_type": "stream",
     "text": [
      "Metrics logged at step 35500\n",
      "Epoch 284 Validation Loss 0.5278294086456299\n",
      "Metrics logged at step 35550\n",
      "Metrics logged at step 35600\n"
     ]
    },
    {
     "name": "stderr",
     "output_type": "stream",
     "text": [
      " 95%|█████████▌| 285/300 [08:20<00:25,  1.70s/it]"
     ]
    },
    {
     "name": "stdout",
     "output_type": "stream",
     "text": [
      "Epoch 285 Validation Loss 0.5284273028373718\n",
      "Metrics logged at step 35650\n",
      "Metrics logged at step 35700\n"
     ]
    },
    {
     "name": "stderr",
     "output_type": "stream",
     "text": [
      " 95%|█████████▌| 286/300 [08:22<00:24,  1.73s/it]"
     ]
    },
    {
     "name": "stdout",
     "output_type": "stream",
     "text": [
      "Metrics logged at step 35750\n",
      "Epoch 286 Validation Loss 0.5268887877464294\n",
      "Metrics logged at step 35800\n",
      "Metrics logged at step 35850\n"
     ]
    },
    {
     "name": "stderr",
     "output_type": "stream",
     "text": [
      " 96%|█████████▌| 287/300 [08:23<00:21,  1.68s/it]"
     ]
    },
    {
     "name": "stdout",
     "output_type": "stream",
     "text": [
      "Epoch 287 Validation Loss 0.5281796455383301\n",
      "Metrics logged at step 35900\n",
      "Metrics logged at step 35950\n"
     ]
    },
    {
     "name": "stderr",
     "output_type": "stream",
     "text": [
      " 96%|█████████▌| 288/300 [08:25<00:20,  1.75s/it]"
     ]
    },
    {
     "name": "stdout",
     "output_type": "stream",
     "text": [
      "Metrics logged at step 36000\n",
      "Epoch 288 Validation Loss 0.5275946259498596\n",
      "Metrics logged at step 36050\n",
      "Metrics logged at step 36100\n"
     ]
    },
    {
     "name": "stderr",
     "output_type": "stream",
     "text": [
      " 96%|█████████▋| 289/300 [08:27<00:18,  1.71s/it]"
     ]
    },
    {
     "name": "stdout",
     "output_type": "stream",
     "text": [
      "Epoch 289 Validation Loss 0.527212381362915\n",
      "Metrics logged at step 36150\n",
      "Metrics logged at step 36200\n"
     ]
    },
    {
     "name": "stderr",
     "output_type": "stream",
     "text": [
      " 97%|█████████▋| 290/300 [08:29<00:17,  1.78s/it]"
     ]
    },
    {
     "name": "stdout",
     "output_type": "stream",
     "text": [
      "Metrics logged at step 36250\n",
      "Epoch 290 Samples 8000 Step 124 Training Loss 0.5245869159698486\n",
      "Epoch 290 Validation Loss 0.5257779359817505\n",
      "Metrics logged at step 36300\n",
      "Metrics logged at step 36350\n"
     ]
    },
    {
     "name": "stderr",
     "output_type": "stream",
     "text": [
      " 97%|█████████▋| 291/300 [08:31<00:15,  1.78s/it]"
     ]
    },
    {
     "name": "stdout",
     "output_type": "stream",
     "text": [
      "Epoch 291 Validation Loss 0.5356113910675049\n",
      "Metrics logged at step 36400\n",
      "Metrics logged at step 36450\n"
     ]
    },
    {
     "name": "stderr",
     "output_type": "stream",
     "text": [
      " 97%|█████████▋| 292/300 [08:33<00:14,  1.82s/it]"
     ]
    },
    {
     "name": "stdout",
     "output_type": "stream",
     "text": [
      "Metrics logged at step 36500\n",
      "Epoch 292 Validation Loss 0.5292254686355591\n",
      "Metrics logged at step 36550\n",
      "Metrics logged at step 36600\n"
     ]
    },
    {
     "name": "stderr",
     "output_type": "stream",
     "text": [
      " 98%|█████████▊| 293/300 [08:34<00:12,  1.75s/it]"
     ]
    },
    {
     "name": "stdout",
     "output_type": "stream",
     "text": [
      "Epoch 293 Validation Loss 0.5262341499328613\n",
      "Metrics logged at step 36650\n",
      "Metrics logged at step 36700\n"
     ]
    },
    {
     "name": "stderr",
     "output_type": "stream",
     "text": [
      " 98%|█████████▊| 294/300 [08:36<00:10,  1.75s/it]"
     ]
    },
    {
     "name": "stdout",
     "output_type": "stream",
     "text": [
      "Metrics logged at step 36750\n",
      "Epoch 294 Validation Loss 0.526520311832428\n",
      "Metrics logged at step 36800\n",
      "Metrics logged at step 36850\n"
     ]
    },
    {
     "name": "stderr",
     "output_type": "stream",
     "text": [
      " 98%|█████████▊| 295/300 [08:38<00:08,  1.69s/it]"
     ]
    },
    {
     "name": "stdout",
     "output_type": "stream",
     "text": [
      "Epoch 295 Validation Loss 0.5264478325843811\n",
      "Metrics logged at step 36900\n",
      "Metrics logged at step 36950\n"
     ]
    },
    {
     "name": "stderr",
     "output_type": "stream",
     "text": [
      " 99%|█████████▊| 296/300 [08:39<00:06,  1.72s/it]"
     ]
    },
    {
     "name": "stdout",
     "output_type": "stream",
     "text": [
      "Metrics logged at step 37000\n",
      "Epoch 296 Validation Loss 0.5309934616088867\n",
      "Metrics logged at step 37050\n",
      "Metrics logged at step 37100\n"
     ]
    },
    {
     "name": "stderr",
     "output_type": "stream",
     "text": [
      " 99%|█████████▉| 297/300 [08:41<00:05,  1.69s/it]"
     ]
    },
    {
     "name": "stdout",
     "output_type": "stream",
     "text": [
      "Epoch 297 Validation Loss 0.5432162880897522\n",
      "Metrics logged at step 37150\n",
      "Metrics logged at step 37200\n"
     ]
    },
    {
     "name": "stderr",
     "output_type": "stream",
     "text": [
      " 99%|█████████▉| 298/300 [08:43<00:03,  1.71s/it]"
     ]
    },
    {
     "name": "stdout",
     "output_type": "stream",
     "text": [
      "Metrics logged at step 37250\n",
      "Epoch 298 Validation Loss 0.5262682437896729\n",
      "Metrics logged at step 37300\n",
      "Metrics logged at step 37350\n"
     ]
    },
    {
     "name": "stderr",
     "output_type": "stream",
     "text": [
      "100%|█████████▉| 299/300 [08:44<00:01,  1.66s/it]"
     ]
    },
    {
     "name": "stdout",
     "output_type": "stream",
     "text": [
      "Epoch 299 Validation Loss 0.5246720910072327\n",
      "Metrics logged at step 37400\n",
      "Metrics logged at step 37450\n"
     ]
    },
    {
     "name": "stderr",
     "output_type": "stream",
     "text": [
      "100%|██████████| 300/300 [08:46<00:00,  1.76s/it]\n",
      "\u001b[34m\u001b[1mwandb\u001b[0m: \u001b[32m\u001b[41mERROR\u001b[0m The nbformat package was not found. It is required to save notebook history.\n"
     ]
    },
    {
     "name": "stdout",
     "output_type": "stream",
     "text": [
      "Metrics logged at step 37500\n",
      "Epoch 300 Samples 8000 Step 124 Training Loss 0.5394248366355896\n",
      "Epoch 300 Validation Loss 0.5310866236686707\n"
     ]
    },
    {
     "data": {
      "text/html": [],
      "text/plain": [
       "<IPython.core.display.HTML object>"
      ]
     },
     "metadata": {},
     "output_type": "display_data"
    },
    {
     "data": {
      "text/html": [
       "<br>    <style><br>        .wandb-row {<br>            display: flex;<br>            flex-direction: row;<br>            flex-wrap: wrap;<br>            justify-content: flex-start;<br>            width: 100%;<br>        }<br>        .wandb-col {<br>            display: flex;<br>            flex-direction: column;<br>            flex-basis: 100%;<br>            flex: 1;<br>            padding: 10px;<br>        }<br>    </style><br><div class=\"wandb-row\"><div class=\"wandb-col\"><h3>Run history:</h3><br/><table class=\"wandb\"><tr><td>1gram_kl_model_to_true</td><td>▁▁▁▁▁▁▁▁▁▂▃▃▃▄▄▄▅▅▅▆▆▆▆▇▇▇▇▇▇▇█▇█▇███▇▇█</td></tr><tr><td>1gram_kl_true_to_model</td><td>▁▁▁▁▁▁▁▁▁▁▁▁▁▂▂▂▃▃▃▃▄▄▄▄▄▄▄▅▅▆▆▇▇▇▇▇▇▇▇█</td></tr><tr><td>2gram_kl_model_to_true</td><td>▂▂▃▂▃▃▂▃▃▄▃▆▃▅▄▄▅▅▄▁▃▆▆▇▇▆▇▇▇▆▇██▇▇█████</td></tr><tr><td>2gram_kl_true_to_model</td><td>▁▁▁▁▁▁▁▁▁▁▁▁▁▁▁▂▂▂▂▂▂▃▃▃▃▄▃▄▅▅▆▆▆▆▆▇▇███</td></tr><tr><td>3gram_kl_model_to_true</td><td>▃▃▃▂▃▂▂▃▃▂▁▄▄▄▂▃▂▄▄▃▅▅▄▇▆▆▅█▇█▇▇▆▆▇▇▇▇▇▇</td></tr><tr><td>3gram_kl_true_to_model</td><td>▁▁▁▁▁▁▁▁▁▁▂▂▂▂▂▂▃▃▃▃▃▃▄▄▄▄▄▅▅▅▅▅▅▆▆▆▇▇▇█</td></tr><tr><td>avg_k_composition_l0_l1</td><td>▂▁▁▁▁▁▂▂▃▄▅▅▅▅▅▅▅▅▆▆▆▆▆▇▇▇▇█████████▇▇▇▆</td></tr><tr><td>avg_prev_token_matching</td><td>▂▂▂▂▂▂▂▂▁▁▁▁▁▁▁▁▁▂▃▃▃▃▄▄▄▅▅▅▅▅▅▆▇▆▇▇████</td></tr><tr><td>avg_q_composition_l0_l1</td><td>▄▄▄▄▄▄▄▃▃▃▂▂▂▁▁▁▁▁▁▁▁▁▁▂▂▃▃▄▄▄▄▅▅▅▆▆▇███</td></tr><tr><td>avg_v_composition_l0_l1</td><td>███▇▇▇▇▇▆▆▅▅▄▄▂▂▂▁▁▁▁▁▁▁▁▁▁▁▁▁▁▁▁▁▁▁▁▂▂▃</td></tr><tr><td>+28</td><td>...</td></tr></table><br/></div><div class=\"wandb-col\"><h3>Run summary:</h3><br/><table class=\"wandb\"><tr><td>1gram_kl_model_to_true</td><td>0.11727</td></tr><tr><td>1gram_kl_true_to_model</td><td>0.66304</td></tr><tr><td>2gram_kl_model_to_true</td><td>0.37486</td></tr><tr><td>2gram_kl_true_to_model</td><td>1.66443</td></tr><tr><td>3gram_kl_model_to_true</td><td>0.71556</td></tr><tr><td>3gram_kl_true_to_model</td><td>0.79203</td></tr><tr><td>avg_k_composition_l0_l1</td><td>0.25444</td></tr><tr><td>avg_prev_token_matching</td><td>0.12422</td></tr><tr><td>avg_q_composition_l0_l1</td><td>0.26348</td></tr><tr><td>avg_v_composition_l0_l1</td><td>0.22961</td></tr><tr><td>+28</td><td>...</td></tr></table><br/></div></div>"
      ],
      "text/plain": [
       "<IPython.core.display.HTML object>"
      ]
     },
     "metadata": {},
     "output_type": "display_data"
    },
    {
     "data": {
      "text/html": [
       " View run <strong style=\"color:#cdcd00\">different-music-60</strong> at: <a href='https://wandb.ai/jerrycloud3316-ai-club-iit-madras/ICL/runs/uy6jif4s' target=\"_blank\">https://wandb.ai/jerrycloud3316-ai-club-iit-madras/ICL/runs/uy6jif4s</a><br> View project at: <a href='https://wandb.ai/jerrycloud3316-ai-club-iit-madras/ICL' target=\"_blank\">https://wandb.ai/jerrycloud3316-ai-club-iit-madras/ICL</a><br>Synced 5 W&B file(s), 0 media file(s), 0 artifact file(s) and 0 other file(s)"
      ],
      "text/plain": [
       "<IPython.core.display.HTML object>"
      ]
     },
     "metadata": {},
     "output_type": "display_data"
    },
    {
     "data": {
      "text/html": [
       "Find logs at: <code>./wandb/run-20250918_221156-uy6jif4s/logs</code>"
      ],
      "text/plain": [
       "<IPython.core.display.HTML object>"
      ]
     },
     "metadata": {},
     "output_type": "display_data"
    }
   ],
   "source": [
    "model = train_model(\n",
    "    dataset=original_dataset,\n",
    "    n_layers=2,\n",
    "    d_model=16,\n",
    "    n_heads=2, \n",
    "    attn_only=False,\n",
    "    act_fn='silu',\n",
    "\n",
    "    n_epochs=300,\n",
    "    batch_size=64,\n",
    "    lr=0.05,\n",
    "\n",
    "    wandb=True,\n",
    "    wandb_project_name=\"ICL\",\n",
    "    save_dir=\"proc1/seq_len32/o7*\",\n",
    "    save_every=20,\n",
    "    print_every=10,\n",
    "\n",
    "\n",
    "    metrics_config=metrics_config,\n",
    "    metrics_log_interval=20\n",
    "    )\n",
    "wandb.finish()"
   ]
  },
  {
   "cell_type": "code",
   "execution_count": null,
   "id": "23b0019a",
   "metadata": {},
   "outputs": [],
   "source": [
    "from numpy import dtype\n",
    "\n",
    "\n",
    "def icl_kl(model, test_data, start_pos, end_pos):\n",
    "    model.eval()\n",
    "    x=torch.stack(test_data.data)  # (n_gen, gen_len)\n",
    "    n_gen, gen_len=x.shape\n",
    "    x_cond=x[:,:start_pos-1]  # (n_gen, start_pos)\n",
    "    x_pred=x[:,start_pos:end_pos]  # (n_gen, end_pos-start_pos)\n",
    "    kl_values=[]\n",
    "    token_probs=[]\n",
    "\n",
    "    print(test_data.states[0][0])\n",
    "    for seq in range(n_gen):\n",
    "        seq_probs=[]\n",
    "        for t in range(gen_len):\n",
    "            eta=test_data.states[seq][t]\n",
    "            probs=test_data.model.token_probabilities(eta)\n",
    "            seq_probs.append(probs)\n",
    "        token_probs.append(seq_probs)\n",
    "    token_probs=torch.tensor(token_probs,dtype=torch.float32)  # (n_gen, gen_len, d_vocab)\n",
    "    with torch.no_grad():\n",
    "        for p in range (start_pos, end_pos,1):\n",
    "            logits=model(x[:,:p])  # (n_gen, p, d_vocab)\n",
    "            #print(logits.shape)\n",
    "            next_token_logit=logits[:, -1, :]\n",
    "            next_token_prob=torch.softmax(next_token_logit, dim=-1)\n",
    "            markov_next_token_prob = token_probs[:, p, :]\n",
    "            #markov_next_token_prob=token_probs[:,p,:]\n",
    "            #markov_next_token_prob=torch.tensor(markov_next_token_prob, dtype=torch.float32)\n",
    "            next_token_prob_clamped=torch.clamp(next_token_prob, min=1e-8)\n",
    "            markov_next_token_prob_clamped=torch.clamp(markov_next_token_prob, min=1e-8)\n",
    "            kl_div=torch.sum(next_token_prob_clamped*torch.log(next_token_prob_clamped/markov_next_token_prob_clamped), dim=-1)\n",
    "            kl_mean=kl_div.mean().item()\n",
    "            kl_values.append(kl_mean)\n",
    "            print(f\"Position {start_pos+p}: KL divergence {kl_div.mean().item()}\")\n",
    "    return kl_values"
   ]
  },
  {
   "cell_type": "code",
   "execution_count": null,
   "id": "b70e353e",
   "metadata": {},
   "outputs": [],
   "source": [
    "model=load_model(\"proc1/seq_len32/Z1/model300.pt\",\"proc1/seq_len32/Z1/model_cfg.pt\")\n",
    "test_date=MarkovData(n_gen=100, gen_len=32, n_states=3, d_vocab=2, T_list=[T0_proc1, T1_proc1], seed=43)\n",
    "kl_vals= icl_kl(model=model,test_data= test_date,start_pos=2,end_pos=31)"
   ]
  },
  {
   "cell_type": "code",
   "execution_count": null,
   "id": "1a5dd996",
   "metadata": {},
   "outputs": [],
   "source": []
  },
  {
   "cell_type": "code",
   "execution_count": null,
   "id": "40285e69",
   "metadata": {},
   "outputs": [],
   "source": [
    "import matplotlib.pyplot as plt\n",
    "\n",
    "kl_results = {}  # store {checkpoint: [kl_values across positions]}\n",
    "\n",
    "for i in range(280, 300, 20):\n",
    "    model = load_model(f\"proc1/seq_len32/Z1/model{i}.pt\",\n",
    "                       f\"proc1/seq_len32/Z1/model_cfg.pt\")\n",
    "    kl_vals = icl_kl(model=model, test_data=test_date, start_pos=2, end_pos=31)\n",
    "    kl_results[i] = kl_vals  # list of KL losses per position\n",
    "\n",
    "# Plotting\n",
    "plt.figure(figsize=(40, 6))\n",
    "\n",
    "positions = list(range(2, 31))  # token positions on x-axis\n",
    "\n",
    "for ckpt, vals in kl_results.items():\n",
    "    plt.plot(positions, vals, label=f\"Model {ckpt}\")\n",
    "\n",
    "plt.xlabel(\"Token position\")\n",
    "plt.ylabel(\"KL divergence\")\n",
    "plt.title(\"KL divergence across positions for different model checkpoints\")\n",
    "plt.legend()\n",
    "plt.grid(True)\n",
    "plt.show()\n",
    "    "
   ]
  },
  {
   "cell_type": "code",
   "execution_count": null,
   "id": "5a7ebb5e",
   "metadata": {},
   "outputs": [],
   "source": [
    "import matplotlib.pyplot as plt\n",
    "\n",
    "kl_results = {}  # store {checkpoint: [kl_values across positions]}\n",
    "model=load_model(\"proc1/seq_len32/X7*/model300.pt\",\"proc1/seq_len32/X7*/model_cfg.pt\")\n",
    "test_date=MarkovData(n_gen=100, gen_len=32, n_states=4, d_vocab=2, T_list=[T0_proc3, T1_proc3], seed=43)\n",
    "for i in range(280, 300, 20):\n",
    "    model = load_model(f\"proc1/seq_len32/Z1/model{i}.pt\",\n",
    "                       f\"proc1/seq_len32/Z1/model_cfg.pt\")\n",
    "    kl_vals = icl_kl(model=model, test_data=test_date, start_pos=2, end_pos=31)\n",
    "    kl_results[i] = kl_vals  # list of KL losses per position\n",
    "\n",
    "# Plotting\n",
    "plt.figure(figsize=(40, 6))\n",
    "\n",
    "positions = list(range(2, 31))  # token positions on x-axis\n",
    "\n",
    "for ckpt, vals in kl_results.items():\n",
    "    plt.plot(positions, vals, label=f\"Model {ckpt}\")\n",
    "\n",
    "plt.xlabel(\"Token position\")\n",
    "plt.ylabel(\"KL divergence\")\n",
    "plt.title(\"KL divergence across positions for different model checkpoints\")\n",
    "plt.legend()\n",
    "plt.grid(True)\n",
    "plt.show()"
   ]
  },
  {
   "cell_type": "code",
   "execution_count": null,
   "id": "468e3225",
   "metadata": {},
   "outputs": [],
   "source": [
    "\n",
    "\n",
    "kl_results = {}  # store {checkpoint: [kl_values across positions]}\n",
    "model_name=\"X7*\"\n",
    "test_data=MarkovData(n_gen=100, gen_len=32, n_states=3, d_vocab=2, T_list=[T0_proc1, T1_proc1], seed=43)\n",
    "for i in range(280, 310, 20):\n",
    "    model = load_model(f\"proc1/seq_len32/{model_name}/model{i}.pt\",\n",
    "                       f\"proc1/seq_len32/{model_name}/model_cfg.pt\")\n",
    "    kl_vals = icl_kl(model=model, test_data=test_data, start_pos=2, end_pos=31)\n",
    "    kl_results[i] = kl_vals  # list of KL losses per position\n",
    "\n",
    "# Plotting\n",
    "plt.figure(figsize=(40, 6))\n",
    "\n",
    "positions = list(range(2, 31))  # token positions on x-axis\n",
    "\n",
    "for ckpt, vals in kl_results.items():\n",
    "    plt.plot(positions, vals, label=f\"Model {ckpt}\")\n",
    "\n",
    "plt.xlabel(\"Token position\")\n",
    "plt.ylabel(\"KL divergence\")\n",
    "plt.title(\"KL divergence across positions for different model checkpoints\")\n",
    "plt.legend()\n",
    "plt.grid(True)\n",
    "plt.show()"
   ]
  },
  {
   "cell_type": "code",
   "execution_count": null,
   "id": "cad32500",
   "metadata": {},
   "outputs": [],
   "source": [
    "\n",
    "\n",
    "kl_results = {}  # store {checkpoint: [kl_values across positions]}\n",
    "model_name=\"X7*\"\n",
    "test_data=MarkovData(n_gen=100, gen_len=32, n_states=4, d_vocab=2, T_list=[T0_proc3, T1_proc3], seed=43)\n",
    "for i in range(300, 310, 20):\n",
    "    model = load_model(f\"proc1/seq_len32/{model_name}/model{i}.pt\",\n",
    "                       f\"proc1/seq_len32/{model_name}/model_cfg.pt\")\n",
    "    kl_vals = icl_kl(model=model, test_data=test_data, start_pos=2, end_pos=31)\n",
    "    kl_results[i] = kl_vals  # list of KL losses per position\n",
    "\n",
    "# Plotting\n",
    "plt.figure(figsize=(40, 6))\n",
    "\n",
    "positions = list(range(2, 31))  # token positions on x-axis\n",
    "\n",
    "for ckpt, vals in kl_results.items():\n",
    "    plt.plot(positions, vals, label=f\"Model {ckpt}\")\n",
    "\n",
    "plt.xlabel(\"Token position\")\n",
    "plt.ylabel(\"KL divergence\")\n",
    "plt.title(\"KL divergence across positions for different model checkpoints\")\n",
    "plt.legend()\n",
    "plt.grid(True)\n",
    "plt.show()"
   ]
  },
  {
   "cell_type": "code",
   "execution_count": null,
   "id": "823d628f",
   "metadata": {},
   "outputs": [],
   "source": [
    "import matplotlib.pyplot as plt\n",
    "\n",
    "kl_results = {}  # store {checkpoint: [kl_values across positions]}\n",
    "model_name=\"X7*_\"\n",
    "test_data=MarkovData(n_gen=100, gen_len=32, n_states=3, d_vocab=2, T_list=[T0_proc2, T1_proc2], seed=43)\n",
    "for i in range(300, 310, 20):\n",
    "    model = load_model(f\"proc1/seq_len32/{model_name}/model{i}.pt\",\n",
    "                       f\"proc1/seq_len32/{model_name}/model_cfg.pt\")\n",
    "    kl_vals = icl_kl(model=model, test_data=test_data, start_pos=2, end_pos=31)\n",
    "    kl_results[i] = kl_vals  # list of KL losses per position\n",
    "\n",
    "# Plotting\n",
    "plt.figure(figsize=(40, 6))\n",
    "\n",
    "positions = list(range(2, 31))  # token positions on x-axis\n",
    "\n",
    "for ckpt, vals in kl_results.items():\n",
    "    plt.plot(positions, vals, label=f\"Model {ckpt}\")\n",
    "\n",
    "plt.xlabel(\"Token position\")\n",
    "plt.ylabel(\"KL divergence\")\n",
    "plt.title(\"KL divergence across positions for different model checkpoints\")\n",
    "plt.legend()\n",
    "plt.grid(True)\n",
    "plt.show()"
   ]
  },
  {
   "cell_type": "code",
   "execution_count": null,
   "id": "71776f43",
   "metadata": {},
   "outputs": [],
   "source": [
    "import matplotlib.pyplot as plt\n",
    "\n",
    "kl_results = {}  # store {checkpoint: [kl_values across positions]}\n",
    "model=load_model(\"proc1/seq_len32/X7*/model300.pt\",\"proc1/seq_len32/X7*/model_cfg.pt\")\n",
    "test_date=MarkovData(n_gen=100, gen_len=32, n_states=3, d_vocab=2, T_list=[T0_proc1, T1_proc1], seed=43)\n",
    "for i in range(300, 310, 20):\n",
    "    model = load_model(f\"proc1/seq_len32/Z1/model{i}.pt\",\n",
    "                       f\"proc1/seq_len32/Z1/model_cfg.pt\")\n",
    "    kl_vals = icl_kl(model=model, test_data=test_date, start_pos=2, end_pos=31)\n",
    "    kl_results[i] = kl_vals  # list of KL losses per position\n",
    "\n",
    "# Plotting\n",
    "plt.figure(figsize=(40, 6))\n",
    "\n",
    "positions = list(range(2, 31))  # token positions on x-axis\n",
    "\n",
    "for ckpt, vals in kl_results.items():\n",
    "    plt.plot(positions, vals, label=f\"Model {ckpt}\")\n",
    "\n",
    "plt.xlabel(\"Token position\")\n",
    "plt.ylabel(\"KL divergence\")\n",
    "plt.title(\"KL divergence across positions for different model checkpoints\")\n",
    "plt.legend()\n",
    "plt.grid(True)\n",
    "plt.show()"
   ]
  }
 ],
 "metadata": {
  "kernelspec": {
   "display_name": "toytrans",
   "language": "python",
   "name": "python3"
  },
  "language_info": {
   "codemirror_mode": {
    "name": "ipython",
    "version": 3
   },
   "file_extension": ".py",
   "mimetype": "text/x-python",
   "name": "python",
   "nbconvert_exporter": "python",
   "pygments_lexer": "ipython3",
   "version": "3.10.18"
  }
 },
 "nbformat": 4,
 "nbformat_minor": 5
}

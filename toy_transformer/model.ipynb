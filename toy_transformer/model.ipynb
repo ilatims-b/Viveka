{
 "cells": [
  {
   "cell_type": "code",
   "execution_count": 1,
   "id": "e489ab2d",
   "metadata": {},
   "outputs": [
    {
     "name": "stderr",
     "output_type": "stream",
     "text": [
      "/opt/anaconda3/envs/toytrans/lib/python3.10/site-packages/tqdm/auto.py:21: TqdmWarning: IProgress not found. Please update jupyter and ipywidgets. See https://ipywidgets.readthedocs.io/en/stable/user_install.html\n",
      "  from .autonotebook import tqdm as notebook_tqdm\n"
     ]
    }
   ],
   "source": [
    "from toy_model import *\n",
    "from metrics import *\n",
    "import wandb\n",
    "import torch\n",
    "import numpy as np"
   ]
  },
  {
   "cell_type": "code",
   "execution_count": 2,
   "id": "0c8a601d",
   "metadata": {},
   "outputs": [
    {
     "name": "stderr",
     "output_type": "stream",
     "text": [
      "\u001b[34m\u001b[1mwandb\u001b[0m: Currently logged in as: \u001b[33mce24b119\u001b[0m (\u001b[33mjerrycloud3316-ai-club-iit-madras\u001b[0m) to \u001b[32mhttps://api.wandb.ai\u001b[0m. Use \u001b[1m`wandb login --relogin`\u001b[0m to force relogin\n"
     ]
    },
    {
     "data": {
      "text/plain": [
       "True"
      ]
     },
     "execution_count": 2,
     "metadata": {},
     "output_type": "execute_result"
    }
   ],
   "source": [
    "wandb.login()"
   ]
  },
  {
   "cell_type": "code",
   "execution_count": 3,
   "id": "e397412e",
   "metadata": {},
   "outputs": [],
   "source": [
    "#train data process\n",
    "T0 = np.array([\n",
    "    [0, 1, 0],\n",
    "    [0, 0, 1],\n",
    "    [0, 0, 0.5]\n",
    "])\n",
    "\n",
    "T1 = np.array([\n",
    "    [0, 0, 0],\n",
    "    [0, 0, 0],\n",
    "    [0.5, 0, 0]\n",
    "])"
   ]
  },
  {
   "cell_type": "code",
   "execution_count": 4,
   "id": "b0c82149",
   "metadata": {},
   "outputs": [],
   "source": [
    "# to find kl loss between model and these processes\n",
    "T0_proc1 = np.array([\n",
    "    [0, 1, 0],\n",
    "    [0, 0, 1], \n",
    "    [0, 0, 0.5]\n",
    "])\n",
    "T1_proc1 = np.array([\n",
    "    [0, 0, 0],\n",
    "    [0, 0, 0],\n",
    "    [0.5, 0, 0]\n",
    "])\n",
    "\n",
    "# Different process\n",
    "T0_proc2 = np.array([\n",
    "    [0,1,0],\n",
    "    [0,0,0],\n",
    "    [0.5,0,0]\n",
    "])\n",
    "T1_proc2 = np.array([\n",
    "    [0,0,0],\n",
    "    [0,0,1],\n",
    "    [0.5,0,0]\n",
    "])\n",
    "process1 = MarkovData(n_gen=100, gen_len=32, n_states=3, d_vocab=2, T_list=[T0_proc1, T1_proc1], seed=43)\n",
    "process2 = MarkovData(n_gen=100, gen_len=30, n_states=3, d_vocab=2, T_list=[T0_proc2, T1_proc2], seed=43)\n"
   ]
  },
  {
   "cell_type": "code",
   "execution_count": 5,
   "id": "4b3134a4",
   "metadata": {},
   "outputs": [],
   "source": [
    "metrics_config = MetricsConfig(\n",
    "    track_markov_kl=True,\n",
    "    markov_processes=[process1],  # Will create markov_kl_proc0, markov_kl_proc1\n",
    "    \n",
    "    \n",
    "    track_ngrams=True,\n",
    "    ngram_orders=[1, 2, 3],\n",
    "    track_previous_token=True,\n",
    "    track_in_context=False, \n",
    "    #icl_data=icl_data,\n",
    "    #icl_k1=5,\n",
    "    #icl_k2=32,\n",
    "    track_composition=False,\n",
    "    track_prefix_matching=False)"
   ]
  },
  {
   "cell_type": "code",
   "execution_count": 6,
   "id": "b2924bcb",
   "metadata": {},
   "outputs": [],
   "source": [
    "dataset = MarkovData(10000, 32, 3, 2, [T0, T1])"
   ]
  },
  {
   "cell_type": "code",
   "execution_count": 7,
   "id": "fb26fb59",
   "metadata": {},
   "outputs": [
    {
     "data": {
      "text/html": [
       "creating run (0.1s)"
      ],
      "text/plain": [
       "<IPython.core.display.HTML object>"
      ]
     },
     "metadata": {},
     "output_type": "display_data"
    },
    {
     "data": {
      "text/html": [
       "Tracking run with wandb version 0.21.3"
      ],
      "text/plain": [
       "<IPython.core.display.HTML object>"
      ]
     },
     "metadata": {},
     "output_type": "display_data"
    },
    {
     "data": {
      "text/html": [
       "Run data is saved locally in <code>/Users/sbhandari/Documents/GitHub/Vivekafork/toy_transformer/wandb/run-20250914_145827-jhqlhg7p</code>"
      ],
      "text/plain": [
       "<IPython.core.display.HTML object>"
      ]
     },
     "metadata": {},
     "output_type": "display_data"
    },
    {
     "data": {
      "text/html": [
       "Syncing run <strong><a href='https://wandb.ai/jerrycloud3316-ai-club-iit-madras/ICL/runs/jhqlhg7p' target=\"_blank\">woven-firefly-20</a></strong> to <a href='https://wandb.ai/jerrycloud3316-ai-club-iit-madras/ICL' target=\"_blank\">Weights & Biases</a> (<a href='https://wandb.me/developer-guide' target=\"_blank\">docs</a>)<br>"
      ],
      "text/plain": [
       "<IPython.core.display.HTML object>"
      ]
     },
     "metadata": {},
     "output_type": "display_data"
    },
    {
     "data": {
      "text/html": [
       " View project at <a href='https://wandb.ai/jerrycloud3316-ai-club-iit-madras/ICL' target=\"_blank\">https://wandb.ai/jerrycloud3316-ai-club-iit-madras/ICL</a>"
      ],
      "text/plain": [
       "<IPython.core.display.HTML object>"
      ]
     },
     "metadata": {},
     "output_type": "display_data"
    },
    {
     "data": {
      "text/html": [
       " View run at <a href='https://wandb.ai/jerrycloud3316-ai-club-iit-madras/ICL/runs/jhqlhg7p' target=\"_blank\">https://wandb.ai/jerrycloud3316-ai-club-iit-madras/ICL/runs/jhqlhg7p</a>"
      ],
      "text/plain": [
       "<IPython.core.display.HTML object>"
      ]
     },
     "metadata": {},
     "output_type": "display_data"
    },
    {
     "name": "stdout",
     "output_type": "stream",
     "text": [
      "Moving model to device:  cpu\n"
     ]
    },
    {
     "name": "stderr",
     "output_type": "stream",
     "text": [
      "  0%|          | 0/300 [00:00<?, ?it/s]"
     ]
    },
    {
     "name": "stdout",
     "output_type": "stream",
     "text": [
      "Metrics logged at step 50\n"
     ]
    },
    {
     "name": "stderr",
     "output_type": "stream",
     "text": [
      "  0%|          | 1/300 [00:01<06:00,  1.20s/it]"
     ]
    },
    {
     "name": "stdout",
     "output_type": "stream",
     "text": [
      "Metrics logged at step 100\n",
      "Epoch 1 Validation Loss 0.5625542998313904\n",
      "Metrics logged at step 150\n",
      "Metrics logged at step 200\n"
     ]
    },
    {
     "name": "stderr",
     "output_type": "stream",
     "text": [
      "  1%|          | 2/300 [00:02<06:50,  1.38s/it]"
     ]
    },
    {
     "name": "stdout",
     "output_type": "stream",
     "text": [
      "Metrics logged at step 250\n",
      "Epoch 2 Validation Loss 0.553170919418335\n",
      "Metrics logged at step 300\n"
     ]
    },
    {
     "name": "stderr",
     "output_type": "stream",
     "text": [
      "  1%|          | 3/300 [00:03<06:14,  1.26s/it]"
     ]
    },
    {
     "name": "stdout",
     "output_type": "stream",
     "text": [
      "Metrics logged at step 350\n",
      "Epoch 3 Validation Loss 0.5339683890342712\n",
      "Metrics logged at step 400\n",
      "Metrics logged at step 450\n"
     ]
    },
    {
     "name": "stderr",
     "output_type": "stream",
     "text": [
      "  1%|▏         | 4/300 [00:05<06:46,  1.37s/it]"
     ]
    },
    {
     "name": "stdout",
     "output_type": "stream",
     "text": [
      "Metrics logged at step 500\n",
      "Epoch 4 Validation Loss 0.5137016177177429\n",
      "Metrics logged at step 550\n"
     ]
    },
    {
     "name": "stderr",
     "output_type": "stream",
     "text": [
      "  2%|▏         | 5/300 [00:06<06:22,  1.30s/it]"
     ]
    },
    {
     "name": "stdout",
     "output_type": "stream",
     "text": [
      "Metrics logged at step 600\n",
      "Epoch 5 Validation Loss 0.501318633556366\n",
      "Metrics logged at step 650\n",
      "Metrics logged at step 700\n"
     ]
    },
    {
     "name": "stderr",
     "output_type": "stream",
     "text": [
      "  2%|▏         | 6/300 [00:08<06:44,  1.38s/it]"
     ]
    },
    {
     "name": "stdout",
     "output_type": "stream",
     "text": [
      "Metrics logged at step 750\n",
      "Epoch 6 Validation Loss 0.49298331141471863\n",
      "Metrics logged at step 800\n"
     ]
    },
    {
     "name": "stderr",
     "output_type": "stream",
     "text": [
      "  2%|▏         | 7/300 [00:09<06:19,  1.30s/it]"
     ]
    },
    {
     "name": "stdout",
     "output_type": "stream",
     "text": [
      "Metrics logged at step 850\n",
      "Epoch 7 Validation Loss 0.48643919825553894\n",
      "Metrics logged at step 900\n",
      "Metrics logged at step 950\n"
     ]
    },
    {
     "name": "stderr",
     "output_type": "stream",
     "text": [
      "  3%|▎         | 8/300 [00:10<06:41,  1.37s/it]"
     ]
    },
    {
     "name": "stdout",
     "output_type": "stream",
     "text": [
      "Metrics logged at step 1000\n",
      "Epoch 8 Validation Loss 0.4807988703250885\n",
      "Metrics logged at step 1050\n"
     ]
    },
    {
     "name": "stderr",
     "output_type": "stream",
     "text": [
      "  3%|▎         | 9/300 [00:11<06:16,  1.30s/it]"
     ]
    },
    {
     "name": "stdout",
     "output_type": "stream",
     "text": [
      "Metrics logged at step 1100\n",
      "Epoch 9 Validation Loss 0.47685736417770386\n",
      "Metrics logged at step 1150\n",
      "Metrics logged at step 1200\n"
     ]
    },
    {
     "name": "stderr",
     "output_type": "stream",
     "text": [
      "  3%|▎         | 10/300 [00:13<06:36,  1.37s/it]"
     ]
    },
    {
     "name": "stdout",
     "output_type": "stream",
     "text": [
      "Metrics logged at step 1250\n",
      "Epoch 10 Samples 8000 Step 124 Training Loss 0.47619763016700745\n",
      "Epoch 10 Validation Loss 0.4742051362991333\n",
      "Metrics logged at step 1300\n"
     ]
    },
    {
     "name": "stderr",
     "output_type": "stream",
     "text": [
      "  4%|▎         | 11/300 [00:14<06:17,  1.31s/it]"
     ]
    },
    {
     "name": "stdout",
     "output_type": "stream",
     "text": [
      "Metrics logged at step 1350\n",
      "Epoch 11 Validation Loss 0.47213318943977356\n",
      "Metrics logged at step 1400\n",
      "Metrics logged at step 1450\n"
     ]
    },
    {
     "name": "stderr",
     "output_type": "stream",
     "text": [
      "  4%|▍         | 12/300 [00:16<06:39,  1.39s/it]"
     ]
    },
    {
     "name": "stdout",
     "output_type": "stream",
     "text": [
      "Metrics logged at step 1500\n",
      "Epoch 12 Validation Loss 0.4705285429954529\n",
      "Metrics logged at step 1550\n"
     ]
    },
    {
     "name": "stderr",
     "output_type": "stream",
     "text": [
      "  4%|▍         | 13/300 [00:17<06:19,  1.32s/it]"
     ]
    },
    {
     "name": "stdout",
     "output_type": "stream",
     "text": [
      "Metrics logged at step 1600\n",
      "Epoch 13 Validation Loss 0.46924471855163574\n",
      "Metrics logged at step 1650\n",
      "Metrics logged at step 1700\n"
     ]
    },
    {
     "name": "stderr",
     "output_type": "stream",
     "text": [
      "  5%|▍         | 14/300 [00:18<06:37,  1.39s/it]"
     ]
    },
    {
     "name": "stdout",
     "output_type": "stream",
     "text": [
      "Metrics logged at step 1750\n",
      "Epoch 14 Validation Loss 0.4681240916252136\n",
      "Metrics logged at step 1800\n"
     ]
    },
    {
     "name": "stderr",
     "output_type": "stream",
     "text": [
      "  5%|▌         | 15/300 [00:19<06:13,  1.31s/it]"
     ]
    },
    {
     "name": "stdout",
     "output_type": "stream",
     "text": [
      "Metrics logged at step 1850\n",
      "Epoch 15 Validation Loss 0.4673111140727997\n",
      "Metrics logged at step 1900\n",
      "Metrics logged at step 1950\n"
     ]
    },
    {
     "name": "stderr",
     "output_type": "stream",
     "text": [
      "  5%|▌         | 16/300 [00:21<06:31,  1.38s/it]"
     ]
    },
    {
     "name": "stdout",
     "output_type": "stream",
     "text": [
      "Metrics logged at step 2000\n",
      "Epoch 16 Validation Loss 0.4665878713130951\n",
      "Metrics logged at step 2050\n"
     ]
    },
    {
     "name": "stderr",
     "output_type": "stream",
     "text": [
      "  6%|▌         | 17/300 [00:22<06:12,  1.32s/it]"
     ]
    },
    {
     "name": "stdout",
     "output_type": "stream",
     "text": [
      "Metrics logged at step 2100\n",
      "Epoch 17 Validation Loss 0.4658021628856659\n",
      "Metrics logged at step 2150\n",
      "Metrics logged at step 2200\n"
     ]
    },
    {
     "name": "stderr",
     "output_type": "stream",
     "text": [
      "  6%|▌         | 18/300 [00:24<06:29,  1.38s/it]"
     ]
    },
    {
     "name": "stdout",
     "output_type": "stream",
     "text": [
      "Metrics logged at step 2250\n",
      "Epoch 18 Validation Loss 0.46532484889030457\n",
      "Metrics logged at step 2300\n"
     ]
    },
    {
     "name": "stderr",
     "output_type": "stream",
     "text": [
      "  6%|▋         | 19/300 [00:25<06:09,  1.31s/it]"
     ]
    },
    {
     "name": "stdout",
     "output_type": "stream",
     "text": [
      "Metrics logged at step 2350\n",
      "Epoch 19 Validation Loss 0.46456044912338257\n",
      "Metrics logged at step 2400\n",
      "Metrics logged at step 2450\n"
     ]
    },
    {
     "name": "stderr",
     "output_type": "stream",
     "text": [
      "  7%|▋         | 20/300 [00:26<06:30,  1.39s/it]"
     ]
    },
    {
     "name": "stdout",
     "output_type": "stream",
     "text": [
      "Metrics logged at step 2500\n",
      "Epoch 20 Samples 8000 Step 124 Training Loss 0.4574424922466278\n",
      "Epoch 20 Validation Loss 0.4640859067440033\n",
      "Metrics logged at step 2550\n"
     ]
    },
    {
     "name": "stderr",
     "output_type": "stream",
     "text": [
      "  7%|▋         | 21/300 [00:28<06:06,  1.31s/it]"
     ]
    },
    {
     "name": "stdout",
     "output_type": "stream",
     "text": [
      "Metrics logged at step 2600\n",
      "Epoch 21 Validation Loss 0.46369504928588867\n",
      "Metrics logged at step 2650\n",
      "Metrics logged at step 2700\n"
     ]
    },
    {
     "name": "stderr",
     "output_type": "stream",
     "text": [
      "  7%|▋         | 22/300 [00:29<06:20,  1.37s/it]"
     ]
    },
    {
     "name": "stdout",
     "output_type": "stream",
     "text": [
      "Metrics logged at step 2750\n",
      "Epoch 22 Validation Loss 0.46324148774147034\n",
      "Metrics logged at step 2800\n"
     ]
    },
    {
     "name": "stderr",
     "output_type": "stream",
     "text": [
      "  8%|▊         | 23/300 [00:30<06:00,  1.30s/it]"
     ]
    },
    {
     "name": "stdout",
     "output_type": "stream",
     "text": [
      "Metrics logged at step 2850\n",
      "Epoch 23 Validation Loss 0.46274664998054504\n",
      "Metrics logged at step 2900\n",
      "Metrics logged at step 2950\n"
     ]
    },
    {
     "name": "stderr",
     "output_type": "stream",
     "text": [
      "  8%|▊         | 24/300 [00:32<06:15,  1.36s/it]"
     ]
    },
    {
     "name": "stdout",
     "output_type": "stream",
     "text": [
      "Metrics logged at step 3000\n",
      "Epoch 24 Validation Loss 0.4623218774795532\n",
      "Metrics logged at step 3050\n"
     ]
    },
    {
     "name": "stderr",
     "output_type": "stream",
     "text": [
      "  8%|▊         | 25/300 [00:33<05:56,  1.29s/it]"
     ]
    },
    {
     "name": "stdout",
     "output_type": "stream",
     "text": [
      "Metrics logged at step 3100\n",
      "Epoch 25 Validation Loss 0.46192699670791626\n",
      "Metrics logged at step 3150\n",
      "Metrics logged at step 3200\n"
     ]
    },
    {
     "name": "stderr",
     "output_type": "stream",
     "text": [
      "  9%|▊         | 26/300 [00:34<06:16,  1.38s/it]"
     ]
    },
    {
     "name": "stdout",
     "output_type": "stream",
     "text": [
      "Metrics logged at step 3250\n",
      "Epoch 26 Validation Loss 0.46180933713912964\n",
      "Metrics logged at step 3300\n"
     ]
    },
    {
     "name": "stderr",
     "output_type": "stream",
     "text": [
      "  9%|▉         | 27/300 [00:36<05:56,  1.30s/it]"
     ]
    },
    {
     "name": "stdout",
     "output_type": "stream",
     "text": [
      "Metrics logged at step 3350\n",
      "Epoch 27 Validation Loss 0.46121734380722046\n",
      "Metrics logged at step 3400\n",
      "Metrics logged at step 3450\n"
     ]
    },
    {
     "name": "stderr",
     "output_type": "stream",
     "text": [
      "  9%|▉         | 28/300 [00:37<06:13,  1.37s/it]"
     ]
    },
    {
     "name": "stdout",
     "output_type": "stream",
     "text": [
      "Metrics logged at step 3500\n",
      "Epoch 28 Validation Loss 0.4610155522823334\n",
      "Metrics logged at step 3550\n"
     ]
    },
    {
     "name": "stderr",
     "output_type": "stream",
     "text": [
      " 10%|▉         | 29/300 [00:38<05:52,  1.30s/it]"
     ]
    },
    {
     "name": "stdout",
     "output_type": "stream",
     "text": [
      "Metrics logged at step 3600\n",
      "Epoch 29 Validation Loss 0.46043938398361206\n",
      "Metrics logged at step 3650\n",
      "Metrics logged at step 3700\n"
     ]
    },
    {
     "name": "stderr",
     "output_type": "stream",
     "text": [
      " 10%|█         | 30/300 [00:40<06:08,  1.37s/it]"
     ]
    },
    {
     "name": "stdout",
     "output_type": "stream",
     "text": [
      "Metrics logged at step 3750\n",
      "Epoch 30 Samples 8000 Step 124 Training Loss 0.4597698450088501\n",
      "Epoch 30 Validation Loss 0.46228817105293274\n",
      "Metrics logged at step 3800\n"
     ]
    },
    {
     "name": "stderr",
     "output_type": "stream",
     "text": [
      " 10%|█         | 31/300 [00:41<05:48,  1.30s/it]"
     ]
    },
    {
     "name": "stdout",
     "output_type": "stream",
     "text": [
      "Metrics logged at step 3850\n",
      "Epoch 31 Validation Loss 0.45969611406326294\n",
      "Metrics logged at step 3900\n",
      "Metrics logged at step 3950\n"
     ]
    },
    {
     "name": "stderr",
     "output_type": "stream",
     "text": [
      " 11%|█         | 32/300 [00:42<06:08,  1.38s/it]"
     ]
    },
    {
     "name": "stdout",
     "output_type": "stream",
     "text": [
      "Metrics logged at step 4000\n",
      "Epoch 32 Validation Loss 0.459335058927536\n",
      "Metrics logged at step 4050\n"
     ]
    },
    {
     "name": "stderr",
     "output_type": "stream",
     "text": [
      " 11%|█         | 33/300 [00:44<05:48,  1.30s/it]"
     ]
    },
    {
     "name": "stdout",
     "output_type": "stream",
     "text": [
      "Metrics logged at step 4100\n",
      "Epoch 33 Validation Loss 0.4594117999076843\n",
      "Metrics logged at step 4150\n",
      "Metrics logged at step 4200\n"
     ]
    },
    {
     "name": "stderr",
     "output_type": "stream",
     "text": [
      " 11%|█▏        | 34/300 [00:45<06:05,  1.37s/it]"
     ]
    },
    {
     "name": "stdout",
     "output_type": "stream",
     "text": [
      "Metrics logged at step 4250\n",
      "Epoch 34 Validation Loss 0.45867735147476196\n",
      "Metrics logged at step 4300\n"
     ]
    },
    {
     "name": "stderr",
     "output_type": "stream",
     "text": [
      " 12%|█▏        | 35/300 [00:46<05:46,  1.31s/it]"
     ]
    },
    {
     "name": "stdout",
     "output_type": "stream",
     "text": [
      "Metrics logged at step 4350\n",
      "Epoch 35 Validation Loss 0.45835453271865845\n",
      "Metrics logged at step 4400\n",
      "Metrics logged at step 4450\n"
     ]
    },
    {
     "name": "stderr",
     "output_type": "stream",
     "text": [
      " 12%|█▏        | 36/300 [00:48<06:02,  1.37s/it]"
     ]
    },
    {
     "name": "stdout",
     "output_type": "stream",
     "text": [
      "Metrics logged at step 4500\n",
      "Epoch 36 Validation Loss 0.45782729983329773\n",
      "Metrics logged at step 4550\n"
     ]
    },
    {
     "name": "stderr",
     "output_type": "stream",
     "text": [
      " 12%|█▏        | 37/300 [00:49<05:46,  1.32s/it]"
     ]
    },
    {
     "name": "stdout",
     "output_type": "stream",
     "text": [
      "Metrics logged at step 4600\n",
      "Epoch 37 Validation Loss 0.457769513130188\n",
      "Metrics logged at step 4650\n",
      "Metrics logged at step 4700\n"
     ]
    },
    {
     "name": "stderr",
     "output_type": "stream",
     "text": [
      " 13%|█▎        | 38/300 [00:51<06:01,  1.38s/it]"
     ]
    },
    {
     "name": "stdout",
     "output_type": "stream",
     "text": [
      "Metrics logged at step 4750\n",
      "Epoch 38 Validation Loss 0.4570485055446625\n",
      "Metrics logged at step 4800\n"
     ]
    },
    {
     "name": "stderr",
     "output_type": "stream",
     "text": [
      " 13%|█▎        | 39/300 [00:52<05:43,  1.32s/it]"
     ]
    },
    {
     "name": "stdout",
     "output_type": "stream",
     "text": [
      "Metrics logged at step 4850\n",
      "Epoch 39 Validation Loss 0.45688381791114807\n",
      "Metrics logged at step 4900\n",
      "Metrics logged at step 4950\n"
     ]
    },
    {
     "name": "stderr",
     "output_type": "stream",
     "text": [
      " 13%|█▎        | 40/300 [00:53<06:00,  1.39s/it]"
     ]
    },
    {
     "name": "stdout",
     "output_type": "stream",
     "text": [
      "Metrics logged at step 5000\n",
      "Epoch 40 Samples 8000 Step 124 Training Loss 0.4599160850048065\n",
      "Epoch 40 Validation Loss 0.45639607310295105\n",
      "Metrics logged at step 5050\n"
     ]
    },
    {
     "name": "stderr",
     "output_type": "stream",
     "text": [
      " 14%|█▎        | 41/300 [00:54<05:42,  1.32s/it]"
     ]
    },
    {
     "name": "stdout",
     "output_type": "stream",
     "text": [
      "Metrics logged at step 5100\n",
      "Epoch 41 Validation Loss 0.4559081494808197\n",
      "Metrics logged at step 5150\n",
      "Metrics logged at step 5200\n"
     ]
    },
    {
     "name": "stderr",
     "output_type": "stream",
     "text": [
      " 14%|█▍        | 42/300 [00:56<06:01,  1.40s/it]"
     ]
    },
    {
     "name": "stdout",
     "output_type": "stream",
     "text": [
      "Metrics logged at step 5250\n",
      "Epoch 42 Validation Loss 0.45554119348526\n",
      "Metrics logged at step 5300\n"
     ]
    },
    {
     "name": "stderr",
     "output_type": "stream",
     "text": [
      " 14%|█▍        | 43/300 [00:57<05:40,  1.33s/it]"
     ]
    },
    {
     "name": "stdout",
     "output_type": "stream",
     "text": [
      "Metrics logged at step 5350\n",
      "Epoch 43 Validation Loss 0.4550802409648895\n",
      "Metrics logged at step 5400\n",
      "Metrics logged at step 5450\n"
     ]
    },
    {
     "name": "stderr",
     "output_type": "stream",
     "text": [
      " 15%|█▍        | 44/300 [00:59<05:54,  1.38s/it]"
     ]
    },
    {
     "name": "stdout",
     "output_type": "stream",
     "text": [
      "Metrics logged at step 5500\n",
      "Epoch 44 Validation Loss 0.45492520928382874\n",
      "Metrics logged at step 5550\n"
     ]
    },
    {
     "name": "stderr",
     "output_type": "stream",
     "text": [
      " 15%|█▌        | 45/300 [01:00<05:34,  1.31s/it]"
     ]
    },
    {
     "name": "stdout",
     "output_type": "stream",
     "text": [
      "Metrics logged at step 5600\n",
      "Epoch 45 Validation Loss 0.4542445242404938\n",
      "Metrics logged at step 5650\n",
      "Metrics logged at step 5700\n"
     ]
    },
    {
     "name": "stderr",
     "output_type": "stream",
     "text": [
      " 15%|█▌        | 46/300 [01:01<05:50,  1.38s/it]"
     ]
    },
    {
     "name": "stdout",
     "output_type": "stream",
     "text": [
      "Metrics logged at step 5750\n",
      "Epoch 46 Validation Loss 0.45433109998703003\n",
      "Metrics logged at step 5800\n"
     ]
    },
    {
     "name": "stderr",
     "output_type": "stream",
     "text": [
      " 16%|█▌        | 47/300 [01:02<05:30,  1.31s/it]"
     ]
    },
    {
     "name": "stdout",
     "output_type": "stream",
     "text": [
      "Metrics logged at step 5850\n",
      "Epoch 47 Validation Loss 0.45388272404670715\n",
      "Metrics logged at step 5900\n",
      "Metrics logged at step 5950\n"
     ]
    },
    {
     "name": "stderr",
     "output_type": "stream",
     "text": [
      " 16%|█▌        | 48/300 [01:04<05:44,  1.37s/it]"
     ]
    },
    {
     "name": "stdout",
     "output_type": "stream",
     "text": [
      "Metrics logged at step 6000\n",
      "Epoch 48 Validation Loss 0.452953040599823\n",
      "Metrics logged at step 6050\n"
     ]
    },
    {
     "name": "stderr",
     "output_type": "stream",
     "text": [
      " 16%|█▋        | 49/300 [01:05<05:25,  1.30s/it]"
     ]
    },
    {
     "name": "stdout",
     "output_type": "stream",
     "text": [
      "Metrics logged at step 6100\n",
      "Epoch 49 Validation Loss 0.4531378448009491\n",
      "Metrics logged at step 6150\n",
      "Metrics logged at step 6200\n"
     ]
    },
    {
     "name": "stderr",
     "output_type": "stream",
     "text": [
      " 17%|█▋        | 50/300 [01:07<05:40,  1.36s/it]"
     ]
    },
    {
     "name": "stdout",
     "output_type": "stream",
     "text": [
      "Metrics logged at step 6250\n",
      "Epoch 50 Samples 8000 Step 124 Training Loss 0.45689576864242554\n",
      "Epoch 50 Validation Loss 0.45191606879234314\n",
      "Metrics logged at step 6300\n"
     ]
    },
    {
     "name": "stderr",
     "output_type": "stream",
     "text": [
      " 17%|█▋        | 51/300 [01:08<05:21,  1.29s/it]"
     ]
    },
    {
     "name": "stdout",
     "output_type": "stream",
     "text": [
      "Metrics logged at step 6350\n",
      "Epoch 51 Validation Loss 0.4528334140777588\n",
      "Metrics logged at step 6400\n",
      "Metrics logged at step 6450\n"
     ]
    },
    {
     "name": "stderr",
     "output_type": "stream",
     "text": [
      " 17%|█▋        | 52/300 [01:09<05:35,  1.35s/it]"
     ]
    },
    {
     "name": "stdout",
     "output_type": "stream",
     "text": [
      "Metrics logged at step 6500\n",
      "Epoch 52 Validation Loss 0.4516918957233429\n",
      "Metrics logged at step 6550\n"
     ]
    },
    {
     "name": "stderr",
     "output_type": "stream",
     "text": [
      " 18%|█▊        | 53/300 [01:10<05:20,  1.30s/it]"
     ]
    },
    {
     "name": "stdout",
     "output_type": "stream",
     "text": [
      "Metrics logged at step 6600\n",
      "Epoch 53 Validation Loss 0.4495639204978943\n",
      "Metrics logged at step 6650\n",
      "Metrics logged at step 6700\n"
     ]
    },
    {
     "name": "stderr",
     "output_type": "stream",
     "text": [
      " 18%|█▊        | 54/300 [01:12<05:34,  1.36s/it]"
     ]
    },
    {
     "name": "stdout",
     "output_type": "stream",
     "text": [
      "Metrics logged at step 6750\n",
      "Epoch 54 Validation Loss 0.44943466782569885\n",
      "Metrics logged at step 6800\n"
     ]
    },
    {
     "name": "stderr",
     "output_type": "stream",
     "text": [
      " 18%|█▊        | 55/300 [01:13<05:17,  1.30s/it]"
     ]
    },
    {
     "name": "stdout",
     "output_type": "stream",
     "text": [
      "Metrics logged at step 6850\n",
      "Epoch 55 Validation Loss 0.4476167857646942\n",
      "Metrics logged at step 6900\n",
      "Metrics logged at step 6950\n"
     ]
    },
    {
     "name": "stderr",
     "output_type": "stream",
     "text": [
      " 19%|█▊        | 56/300 [01:15<05:35,  1.38s/it]"
     ]
    },
    {
     "name": "stdout",
     "output_type": "stream",
     "text": [
      "Metrics logged at step 7000\n",
      "Epoch 56 Validation Loss 0.44627729058265686\n",
      "Metrics logged at step 7050\n"
     ]
    },
    {
     "name": "stderr",
     "output_type": "stream",
     "text": [
      " 19%|█▉        | 57/300 [01:16<05:17,  1.31s/it]"
     ]
    },
    {
     "name": "stdout",
     "output_type": "stream",
     "text": [
      "Metrics logged at step 7100\n",
      "Epoch 57 Validation Loss 0.44515547156333923\n",
      "Metrics logged at step 7150\n",
      "Metrics logged at step 7200\n"
     ]
    },
    {
     "name": "stderr",
     "output_type": "stream",
     "text": [
      " 19%|█▉        | 58/300 [01:17<05:34,  1.38s/it]"
     ]
    },
    {
     "name": "stdout",
     "output_type": "stream",
     "text": [
      "Metrics logged at step 7250\n",
      "Epoch 58 Validation Loss 0.44357702136039734\n",
      "Metrics logged at step 7300\n"
     ]
    },
    {
     "name": "stderr",
     "output_type": "stream",
     "text": [
      " 20%|█▉        | 59/300 [01:18<05:16,  1.31s/it]"
     ]
    },
    {
     "name": "stdout",
     "output_type": "stream",
     "text": [
      "Metrics logged at step 7350\n",
      "Epoch 59 Validation Loss 0.442942351102829\n",
      "Metrics logged at step 7400\n",
      "Metrics logged at step 7450\n"
     ]
    },
    {
     "name": "stderr",
     "output_type": "stream",
     "text": [
      " 20%|██        | 60/300 [01:20<05:30,  1.38s/it]"
     ]
    },
    {
     "name": "stdout",
     "output_type": "stream",
     "text": [
      "Metrics logged at step 7500\n",
      "Epoch 60 Samples 8000 Step 124 Training Loss 0.44164106249809265\n",
      "Epoch 60 Validation Loss 0.44593504071235657\n",
      "Metrics logged at step 7550\n"
     ]
    },
    {
     "name": "stderr",
     "output_type": "stream",
     "text": [
      " 20%|██        | 61/300 [01:21<05:13,  1.31s/it]"
     ]
    },
    {
     "name": "stdout",
     "output_type": "stream",
     "text": [
      "Metrics logged at step 7600\n",
      "Epoch 61 Validation Loss 0.44093385338783264\n",
      "Metrics logged at step 7650\n",
      "Metrics logged at step 7700\n"
     ]
    },
    {
     "name": "stderr",
     "output_type": "stream",
     "text": [
      " 21%|██        | 62/300 [01:23<05:29,  1.38s/it]"
     ]
    },
    {
     "name": "stdout",
     "output_type": "stream",
     "text": [
      "Metrics logged at step 7750\n",
      "Epoch 62 Validation Loss 0.4399925172328949\n",
      "Metrics logged at step 7800\n"
     ]
    },
    {
     "name": "stderr",
     "output_type": "stream",
     "text": [
      " 21%|██        | 63/300 [01:24<05:11,  1.31s/it]"
     ]
    },
    {
     "name": "stdout",
     "output_type": "stream",
     "text": [
      "Metrics logged at step 7850\n",
      "Epoch 63 Validation Loss 0.4434686601161957\n",
      "Metrics logged at step 7900\n",
      "Metrics logged at step 7950\n"
     ]
    },
    {
     "name": "stderr",
     "output_type": "stream",
     "text": [
      " 21%|██▏       | 64/300 [01:25<05:26,  1.38s/it]"
     ]
    },
    {
     "name": "stdout",
     "output_type": "stream",
     "text": [
      "Metrics logged at step 8000\n",
      "Epoch 64 Validation Loss 0.43729573488235474\n",
      "Metrics logged at step 8050\n"
     ]
    },
    {
     "name": "stderr",
     "output_type": "stream",
     "text": [
      " 22%|██▏       | 65/300 [01:27<05:09,  1.32s/it]"
     ]
    },
    {
     "name": "stdout",
     "output_type": "stream",
     "text": [
      "Metrics logged at step 8100\n",
      "Epoch 65 Validation Loss 0.4374313950538635\n",
      "Metrics logged at step 8150\n",
      "Metrics logged at step 8200\n"
     ]
    },
    {
     "name": "stderr",
     "output_type": "stream",
     "text": [
      " 22%|██▏       | 66/300 [01:28<05:24,  1.39s/it]"
     ]
    },
    {
     "name": "stdout",
     "output_type": "stream",
     "text": [
      "Metrics logged at step 8250\n",
      "Epoch 66 Validation Loss 0.43534383177757263\n",
      "Metrics logged at step 8300\n"
     ]
    },
    {
     "name": "stderr",
     "output_type": "stream",
     "text": [
      " 22%|██▏       | 67/300 [01:29<05:06,  1.32s/it]"
     ]
    },
    {
     "name": "stdout",
     "output_type": "stream",
     "text": [
      "Metrics logged at step 8350\n",
      "Epoch 67 Validation Loss 0.434964656829834\n",
      "Metrics logged at step 8400\n",
      "Metrics logged at step 8450\n"
     ]
    },
    {
     "name": "stderr",
     "output_type": "stream",
     "text": [
      " 23%|██▎       | 68/300 [01:31<05:21,  1.39s/it]"
     ]
    },
    {
     "name": "stdout",
     "output_type": "stream",
     "text": [
      "Metrics logged at step 8500\n",
      "Epoch 68 Validation Loss 0.43398550152778625\n",
      "Metrics logged at step 8550\n"
     ]
    },
    {
     "name": "stderr",
     "output_type": "stream",
     "text": [
      " 23%|██▎       | 69/300 [01:32<05:05,  1.32s/it]"
     ]
    },
    {
     "name": "stdout",
     "output_type": "stream",
     "text": [
      "Metrics logged at step 8600\n",
      "Epoch 69 Validation Loss 0.4327433109283447\n",
      "Metrics logged at step 8650\n",
      "Metrics logged at step 8700\n"
     ]
    },
    {
     "name": "stderr",
     "output_type": "stream",
     "text": [
      " 23%|██▎       | 70/300 [01:34<05:19,  1.39s/it]"
     ]
    },
    {
     "name": "stdout",
     "output_type": "stream",
     "text": [
      "Metrics logged at step 8750\n",
      "Epoch 70 Samples 8000 Step 124 Training Loss 0.4182839095592499\n",
      "Epoch 70 Validation Loss 0.434209942817688\n",
      "Metrics logged at step 8800\n"
     ]
    },
    {
     "name": "stderr",
     "output_type": "stream",
     "text": [
      " 24%|██▎       | 71/300 [01:35<05:02,  1.32s/it]"
     ]
    },
    {
     "name": "stdout",
     "output_type": "stream",
     "text": [
      "Metrics logged at step 8850\n",
      "Epoch 71 Validation Loss 0.4307802617549896\n",
      "Metrics logged at step 8900\n",
      "Metrics logged at step 8950\n"
     ]
    },
    {
     "name": "stderr",
     "output_type": "stream",
     "text": [
      " 24%|██▍       | 72/300 [01:36<05:14,  1.38s/it]"
     ]
    },
    {
     "name": "stdout",
     "output_type": "stream",
     "text": [
      "Metrics logged at step 9000\n",
      "Epoch 72 Validation Loss 0.4301322400569916\n",
      "Metrics logged at step 9050\n"
     ]
    },
    {
     "name": "stderr",
     "output_type": "stream",
     "text": [
      " 24%|██▍       | 73/300 [01:37<04:56,  1.31s/it]"
     ]
    },
    {
     "name": "stdout",
     "output_type": "stream",
     "text": [
      "Metrics logged at step 9100\n",
      "Epoch 73 Validation Loss 0.4300996661186218\n",
      "Metrics logged at step 9150\n",
      "Metrics logged at step 9200\n"
     ]
    },
    {
     "name": "stderr",
     "output_type": "stream",
     "text": [
      " 25%|██▍       | 74/300 [01:39<05:11,  1.38s/it]"
     ]
    },
    {
     "name": "stdout",
     "output_type": "stream",
     "text": [
      "Metrics logged at step 9250\n",
      "Epoch 74 Validation Loss 0.4279642105102539\n",
      "Metrics logged at step 9300\n"
     ]
    },
    {
     "name": "stderr",
     "output_type": "stream",
     "text": [
      " 25%|██▌       | 75/300 [01:40<04:53,  1.31s/it]"
     ]
    },
    {
     "name": "stdout",
     "output_type": "stream",
     "text": [
      "Metrics logged at step 9350\n",
      "Epoch 75 Validation Loss 0.42684993147850037\n",
      "Metrics logged at step 9400\n",
      "Metrics logged at step 9450\n"
     ]
    },
    {
     "name": "stderr",
     "output_type": "stream",
     "text": [
      " 25%|██▌       | 76/300 [01:42<05:05,  1.37s/it]"
     ]
    },
    {
     "name": "stdout",
     "output_type": "stream",
     "text": [
      "Metrics logged at step 9500\n",
      "Epoch 76 Validation Loss 0.4257832169532776\n",
      "Metrics logged at step 9550\n"
     ]
    },
    {
     "name": "stderr",
     "output_type": "stream",
     "text": [
      " 26%|██▌       | 77/300 [01:43<04:49,  1.30s/it]"
     ]
    },
    {
     "name": "stdout",
     "output_type": "stream",
     "text": [
      "Metrics logged at step 9600\n",
      "Epoch 77 Validation Loss 0.42870673537254333\n",
      "Metrics logged at step 9650\n",
      "Metrics logged at step 9700\n"
     ]
    },
    {
     "name": "stderr",
     "output_type": "stream",
     "text": [
      " 26%|██▌       | 78/300 [01:44<05:03,  1.37s/it]"
     ]
    },
    {
     "name": "stdout",
     "output_type": "stream",
     "text": [
      "Metrics logged at step 9750\n",
      "Epoch 78 Validation Loss 0.4239168167114258\n",
      "Metrics logged at step 9800\n"
     ]
    },
    {
     "name": "stderr",
     "output_type": "stream",
     "text": [
      " 26%|██▋       | 79/300 [01:45<04:47,  1.30s/it]"
     ]
    },
    {
     "name": "stdout",
     "output_type": "stream",
     "text": [
      "Metrics logged at step 9850\n",
      "Epoch 79 Validation Loss 0.4217557907104492\n",
      "Metrics logged at step 9900\n",
      "Metrics logged at step 9950\n"
     ]
    },
    {
     "name": "stderr",
     "output_type": "stream",
     "text": [
      " 27%|██▋       | 80/300 [01:47<05:02,  1.38s/it]"
     ]
    },
    {
     "name": "stdout",
     "output_type": "stream",
     "text": [
      "Metrics logged at step 10000\n",
      "Epoch 80 Samples 8000 Step 124 Training Loss 0.4225454032421112\n",
      "Epoch 80 Validation Loss 0.42210865020751953\n",
      "Metrics logged at step 10050\n"
     ]
    },
    {
     "name": "stderr",
     "output_type": "stream",
     "text": [
      " 27%|██▋       | 81/300 [01:48<04:46,  1.31s/it]"
     ]
    },
    {
     "name": "stdout",
     "output_type": "stream",
     "text": [
      "Metrics logged at step 10100\n",
      "Epoch 81 Validation Loss 0.4190739095211029\n",
      "Metrics logged at step 10150\n",
      "Metrics logged at step 10200\n"
     ]
    },
    {
     "name": "stderr",
     "output_type": "stream",
     "text": [
      " 27%|██▋       | 82/300 [01:50<05:00,  1.38s/it]"
     ]
    },
    {
     "name": "stdout",
     "output_type": "stream",
     "text": [
      "Metrics logged at step 10250\n",
      "Epoch 82 Validation Loss 0.4174952805042267\n",
      "Metrics logged at step 10300\n"
     ]
    },
    {
     "name": "stderr",
     "output_type": "stream",
     "text": [
      " 28%|██▊       | 83/300 [01:51<04:45,  1.32s/it]"
     ]
    },
    {
     "name": "stdout",
     "output_type": "stream",
     "text": [
      "Metrics logged at step 10350\n",
      "Epoch 83 Validation Loss 0.41516923904418945\n",
      "Metrics logged at step 10400\n",
      "Metrics logged at step 10450\n"
     ]
    },
    {
     "name": "stderr",
     "output_type": "stream",
     "text": [
      " 28%|██▊       | 84/300 [01:52<05:03,  1.41s/it]"
     ]
    },
    {
     "name": "stdout",
     "output_type": "stream",
     "text": [
      "Metrics logged at step 10500\n",
      "Epoch 84 Validation Loss 0.4149499833583832\n",
      "Metrics logged at step 10550\n"
     ]
    },
    {
     "name": "stderr",
     "output_type": "stream",
     "text": [
      " 28%|██▊       | 85/300 [01:54<04:44,  1.32s/it]"
     ]
    },
    {
     "name": "stdout",
     "output_type": "stream",
     "text": [
      "Metrics logged at step 10600\n",
      "Epoch 85 Validation Loss 0.4115200638771057\n",
      "Metrics logged at step 10650\n",
      "Metrics logged at step 10700\n"
     ]
    },
    {
     "name": "stderr",
     "output_type": "stream",
     "text": [
      " 29%|██▊       | 86/300 [01:55<05:03,  1.42s/it]"
     ]
    },
    {
     "name": "stdout",
     "output_type": "stream",
     "text": [
      "Metrics logged at step 10750\n",
      "Epoch 86 Validation Loss 0.41041243076324463\n",
      "Metrics logged at step 10800\n"
     ]
    },
    {
     "name": "stderr",
     "output_type": "stream",
     "text": [
      " 29%|██▉       | 87/300 [01:56<04:44,  1.33s/it]"
     ]
    },
    {
     "name": "stdout",
     "output_type": "stream",
     "text": [
      "Metrics logged at step 10850\n",
      "Epoch 87 Validation Loss 0.4082995355129242\n",
      "Metrics logged at step 10900\n",
      "Metrics logged at step 10950\n"
     ]
    },
    {
     "name": "stderr",
     "output_type": "stream",
     "text": [
      " 29%|██▉       | 88/300 [01:58<04:55,  1.39s/it]"
     ]
    },
    {
     "name": "stdout",
     "output_type": "stream",
     "text": [
      "Metrics logged at step 11000\n",
      "Epoch 88 Validation Loss 0.4082486629486084\n",
      "Metrics logged at step 11050\n"
     ]
    },
    {
     "name": "stderr",
     "output_type": "stream",
     "text": [
      " 30%|██▉       | 89/300 [01:59<04:36,  1.31s/it]"
     ]
    },
    {
     "name": "stdout",
     "output_type": "stream",
     "text": [
      "Metrics logged at step 11100\n",
      "Epoch 89 Validation Loss 0.405364990234375\n",
      "Metrics logged at step 11150\n",
      "Metrics logged at step 11200\n"
     ]
    },
    {
     "name": "stderr",
     "output_type": "stream",
     "text": [
      " 30%|███       | 90/300 [02:00<04:50,  1.38s/it]"
     ]
    },
    {
     "name": "stdout",
     "output_type": "stream",
     "text": [
      "Metrics logged at step 11250\n",
      "Epoch 90 Samples 8000 Step 124 Training Loss 0.403392493724823\n",
      "Epoch 90 Validation Loss 0.4039665162563324\n",
      "Metrics logged at step 11300\n"
     ]
    },
    {
     "name": "stderr",
     "output_type": "stream",
     "text": [
      " 30%|███       | 91/300 [02:02<04:32,  1.30s/it]"
     ]
    },
    {
     "name": "stdout",
     "output_type": "stream",
     "text": [
      "Metrics logged at step 11350\n",
      "Epoch 91 Validation Loss 0.40263861417770386\n",
      "Metrics logged at step 11400\n",
      "Metrics logged at step 11450\n"
     ]
    },
    {
     "name": "stderr",
     "output_type": "stream",
     "text": [
      " 31%|███       | 92/300 [02:03<04:43,  1.36s/it]"
     ]
    },
    {
     "name": "stdout",
     "output_type": "stream",
     "text": [
      "Metrics logged at step 11500\n",
      "Epoch 92 Validation Loss 0.40088188648223877\n",
      "Metrics logged at step 11550\n",
      "Metrics logged at step 11600\n"
     ]
    },
    {
     "name": "stderr",
     "output_type": "stream",
     "text": [
      " 31%|███       | 93/300 [02:04<04:34,  1.33s/it]"
     ]
    },
    {
     "name": "stdout",
     "output_type": "stream",
     "text": [
      "Epoch 93 Validation Loss 0.40158796310424805\n",
      "Metrics logged at step 11650\n",
      "Metrics logged at step 11700\n"
     ]
    },
    {
     "name": "stderr",
     "output_type": "stream",
     "text": [
      " 31%|███▏      | 94/300 [02:06<04:45,  1.39s/it]"
     ]
    },
    {
     "name": "stdout",
     "output_type": "stream",
     "text": [
      "Metrics logged at step 11750\n",
      "Epoch 94 Validation Loss 0.4041912257671356\n",
      "Metrics logged at step 11800\n"
     ]
    },
    {
     "name": "stderr",
     "output_type": "stream",
     "text": [
      " 32%|███▏      | 95/300 [02:07<04:27,  1.31s/it]"
     ]
    },
    {
     "name": "stdout",
     "output_type": "stream",
     "text": [
      "Metrics logged at step 11850\n",
      "Epoch 95 Validation Loss 0.39576518535614014\n",
      "Metrics logged at step 11900\n",
      "Metrics logged at step 11950\n"
     ]
    },
    {
     "name": "stderr",
     "output_type": "stream",
     "text": [
      " 32%|███▏      | 96/300 [02:09<04:38,  1.36s/it]"
     ]
    },
    {
     "name": "stdout",
     "output_type": "stream",
     "text": [
      "Metrics logged at step 12000\n",
      "Epoch 96 Validation Loss 0.39475172758102417\n",
      "Metrics logged at step 12050\n"
     ]
    },
    {
     "name": "stderr",
     "output_type": "stream",
     "text": [
      " 32%|███▏      | 97/300 [02:10<04:22,  1.29s/it]"
     ]
    },
    {
     "name": "stdout",
     "output_type": "stream",
     "text": [
      "Metrics logged at step 12100\n",
      "Epoch 97 Validation Loss 0.3941906988620758\n",
      "Metrics logged at step 12150\n",
      "Metrics logged at step 12200\n"
     ]
    },
    {
     "name": "stderr",
     "output_type": "stream",
     "text": [
      " 33%|███▎      | 98/300 [02:11<04:33,  1.35s/it]"
     ]
    },
    {
     "name": "stdout",
     "output_type": "stream",
     "text": [
      "Metrics logged at step 12250\n",
      "Epoch 98 Validation Loss 0.3904665410518646\n",
      "Metrics logged at step 12300\n"
     ]
    },
    {
     "name": "stderr",
     "output_type": "stream",
     "text": [
      " 33%|███▎      | 99/300 [02:12<04:18,  1.29s/it]"
     ]
    },
    {
     "name": "stdout",
     "output_type": "stream",
     "text": [
      "Metrics logged at step 12350\n",
      "Epoch 99 Validation Loss 0.3892638385295868\n",
      "Metrics logged at step 12400\n",
      "Metrics logged at step 12450\n"
     ]
    },
    {
     "name": "stderr",
     "output_type": "stream",
     "text": [
      " 33%|███▎      | 100/300 [02:14<04:31,  1.36s/it]"
     ]
    },
    {
     "name": "stdout",
     "output_type": "stream",
     "text": [
      "Metrics logged at step 12500\n",
      "Epoch 100 Samples 8000 Step 124 Training Loss 0.3962039351463318\n",
      "Epoch 100 Validation Loss 0.388252317905426\n",
      "Metrics logged at step 12550\n"
     ]
    },
    {
     "name": "stderr",
     "output_type": "stream",
     "text": [
      " 34%|███▎      | 101/300 [02:15<04:18,  1.30s/it]"
     ]
    },
    {
     "name": "stdout",
     "output_type": "stream",
     "text": [
      "Metrics logged at step 12600\n",
      "Epoch 101 Validation Loss 0.38842400908470154\n",
      "Metrics logged at step 12650\n",
      "Metrics logged at step 12700\n"
     ]
    },
    {
     "name": "stderr",
     "output_type": "stream",
     "text": [
      " 34%|███▍      | 102/300 [02:16<04:28,  1.36s/it]"
     ]
    },
    {
     "name": "stdout",
     "output_type": "stream",
     "text": [
      "Metrics logged at step 12750\n",
      "Epoch 102 Validation Loss 0.38433122634887695\n",
      "Metrics logged at step 12800\n"
     ]
    },
    {
     "name": "stderr",
     "output_type": "stream",
     "text": [
      " 34%|███▍      | 103/300 [02:18<04:13,  1.29s/it]"
     ]
    },
    {
     "name": "stdout",
     "output_type": "stream",
     "text": [
      "Metrics logged at step 12850\n",
      "Epoch 103 Validation Loss 0.38423633575439453\n",
      "Metrics logged at step 12900\n",
      "Metrics logged at step 12950\n"
     ]
    },
    {
     "name": "stderr",
     "output_type": "stream",
     "text": [
      " 35%|███▍      | 104/300 [02:19<04:24,  1.35s/it]"
     ]
    },
    {
     "name": "stdout",
     "output_type": "stream",
     "text": [
      "Metrics logged at step 13000\n",
      "Epoch 104 Validation Loss 0.3868925869464874\n",
      "Metrics logged at step 13050\n"
     ]
    },
    {
     "name": "stderr",
     "output_type": "stream",
     "text": [
      " 35%|███▌      | 105/300 [02:20<04:10,  1.29s/it]"
     ]
    },
    {
     "name": "stdout",
     "output_type": "stream",
     "text": [
      "Metrics logged at step 13100\n",
      "Epoch 105 Validation Loss 0.3818680942058563\n",
      "Metrics logged at step 13150\n",
      "Metrics logged at step 13200\n"
     ]
    },
    {
     "name": "stderr",
     "output_type": "stream",
     "text": [
      " 35%|███▌      | 106/300 [02:22<04:22,  1.35s/it]"
     ]
    },
    {
     "name": "stdout",
     "output_type": "stream",
     "text": [
      "Metrics logged at step 13250\n",
      "Epoch 106 Validation Loss 0.382830411195755\n",
      "Metrics logged at step 13300\n"
     ]
    },
    {
     "name": "stderr",
     "output_type": "stream",
     "text": [
      " 36%|███▌      | 107/300 [02:23<04:08,  1.29s/it]"
     ]
    },
    {
     "name": "stdout",
     "output_type": "stream",
     "text": [
      "Metrics logged at step 13350\n",
      "Epoch 107 Validation Loss 0.37901461124420166\n",
      "Metrics logged at step 13400\n",
      "Metrics logged at step 13450\n"
     ]
    },
    {
     "name": "stderr",
     "output_type": "stream",
     "text": [
      " 36%|███▌      | 108/300 [02:24<04:21,  1.36s/it]"
     ]
    },
    {
     "name": "stdout",
     "output_type": "stream",
     "text": [
      "Metrics logged at step 13500\n",
      "Epoch 108 Validation Loss 0.37862300872802734\n",
      "Metrics logged at step 13550\n"
     ]
    },
    {
     "name": "stderr",
     "output_type": "stream",
     "text": [
      " 36%|███▋      | 109/300 [02:26<04:09,  1.31s/it]"
     ]
    },
    {
     "name": "stdout",
     "output_type": "stream",
     "text": [
      "Metrics logged at step 13600\n",
      "Epoch 109 Validation Loss 0.3742765784263611\n",
      "Metrics logged at step 13650\n",
      "Metrics logged at step 13700\n"
     ]
    },
    {
     "name": "stderr",
     "output_type": "stream",
     "text": [
      " 37%|███▋      | 110/300 [02:27<04:20,  1.37s/it]"
     ]
    },
    {
     "name": "stdout",
     "output_type": "stream",
     "text": [
      "Metrics logged at step 13750\n",
      "Epoch 110 Samples 8000 Step 124 Training Loss 0.36796653270721436\n",
      "Epoch 110 Validation Loss 0.3725513815879822\n",
      "Metrics logged at step 13800\n"
     ]
    },
    {
     "name": "stderr",
     "output_type": "stream",
     "text": [
      " 37%|███▋      | 111/300 [02:28<04:05,  1.30s/it]"
     ]
    },
    {
     "name": "stdout",
     "output_type": "stream",
     "text": [
      "Metrics logged at step 13850\n",
      "Epoch 111 Validation Loss 0.3719579577445984\n",
      "Metrics logged at step 13900\n",
      "Metrics logged at step 13950\n"
     ]
    },
    {
     "name": "stderr",
     "output_type": "stream",
     "text": [
      " 37%|███▋      | 112/300 [02:30<04:18,  1.37s/it]"
     ]
    },
    {
     "name": "stdout",
     "output_type": "stream",
     "text": [
      "Metrics logged at step 14000\n",
      "Epoch 112 Validation Loss 0.372875452041626\n",
      "Metrics logged at step 14050\n"
     ]
    },
    {
     "name": "stderr",
     "output_type": "stream",
     "text": [
      " 38%|███▊      | 113/300 [02:31<04:04,  1.31s/it]"
     ]
    },
    {
     "name": "stdout",
     "output_type": "stream",
     "text": [
      "Metrics logged at step 14100\n",
      "Epoch 113 Validation Loss 0.36989930272102356\n",
      "Metrics logged at step 14150\n",
      "Metrics logged at step 14200\n"
     ]
    },
    {
     "name": "stderr",
     "output_type": "stream",
     "text": [
      " 38%|███▊      | 114/300 [02:32<04:18,  1.39s/it]"
     ]
    },
    {
     "name": "stdout",
     "output_type": "stream",
     "text": [
      "Metrics logged at step 14250\n",
      "Epoch 114 Validation Loss 0.3670504689216614\n",
      "Metrics logged at step 14300\n"
     ]
    },
    {
     "name": "stderr",
     "output_type": "stream",
     "text": [
      " 38%|███▊      | 115/300 [02:34<04:03,  1.32s/it]"
     ]
    },
    {
     "name": "stdout",
     "output_type": "stream",
     "text": [
      "Metrics logged at step 14350\n",
      "Epoch 115 Validation Loss 0.3716374635696411\n",
      "Metrics logged at step 14400\n",
      "Metrics logged at step 14450\n"
     ]
    },
    {
     "name": "stderr",
     "output_type": "stream",
     "text": [
      " 39%|███▊      | 116/300 [02:35<04:13,  1.38s/it]"
     ]
    },
    {
     "name": "stdout",
     "output_type": "stream",
     "text": [
      "Metrics logged at step 14500\n",
      "Epoch 116 Validation Loss 0.3681354820728302\n",
      "Metrics logged at step 14550\n"
     ]
    },
    {
     "name": "stderr",
     "output_type": "stream",
     "text": [
      " 39%|███▉      | 117/300 [02:36<03:59,  1.31s/it]"
     ]
    },
    {
     "name": "stdout",
     "output_type": "stream",
     "text": [
      "Metrics logged at step 14600\n",
      "Epoch 117 Validation Loss 0.3644498288631439\n",
      "Metrics logged at step 14650\n",
      "Metrics logged at step 14700\n"
     ]
    },
    {
     "name": "stderr",
     "output_type": "stream",
     "text": [
      " 39%|███▉      | 118/300 [02:38<04:10,  1.38s/it]"
     ]
    },
    {
     "name": "stdout",
     "output_type": "stream",
     "text": [
      "Metrics logged at step 14750\n",
      "Epoch 118 Validation Loss 0.3662116825580597\n",
      "Metrics logged at step 14800\n"
     ]
    },
    {
     "name": "stderr",
     "output_type": "stream",
     "text": [
      " 40%|███▉      | 119/300 [02:39<03:56,  1.31s/it]"
     ]
    },
    {
     "name": "stdout",
     "output_type": "stream",
     "text": [
      "Metrics logged at step 14850\n",
      "Epoch 119 Validation Loss 0.3637848198413849\n",
      "Metrics logged at step 14900\n",
      "Metrics logged at step 14950\n"
     ]
    },
    {
     "name": "stderr",
     "output_type": "stream",
     "text": [
      " 40%|████      | 120/300 [02:41<04:07,  1.37s/it]"
     ]
    },
    {
     "name": "stdout",
     "output_type": "stream",
     "text": [
      "Metrics logged at step 15000\n",
      "Epoch 120 Samples 8000 Step 124 Training Loss 0.37358415126800537\n",
      "Epoch 120 Validation Loss 0.36365410685539246\n",
      "Metrics logged at step 15050\n"
     ]
    },
    {
     "name": "stderr",
     "output_type": "stream",
     "text": [
      " 40%|████      | 121/300 [02:42<03:52,  1.30s/it]"
     ]
    },
    {
     "name": "stdout",
     "output_type": "stream",
     "text": [
      "Metrics logged at step 15100\n",
      "Epoch 121 Validation Loss 0.36342963576316833\n",
      "Metrics logged at step 15150\n",
      "Metrics logged at step 15200\n"
     ]
    },
    {
     "name": "stderr",
     "output_type": "stream",
     "text": [
      " 41%|████      | 122/300 [02:43<04:02,  1.36s/it]"
     ]
    },
    {
     "name": "stdout",
     "output_type": "stream",
     "text": [
      "Metrics logged at step 15250\n",
      "Epoch 122 Validation Loss 0.36247944831848145\n",
      "Metrics logged at step 15300\n"
     ]
    },
    {
     "name": "stderr",
     "output_type": "stream",
     "text": [
      " 41%|████      | 123/300 [02:44<03:48,  1.29s/it]"
     ]
    },
    {
     "name": "stdout",
     "output_type": "stream",
     "text": [
      "Metrics logged at step 15350\n",
      "Epoch 123 Validation Loss 0.36289143562316895\n",
      "Metrics logged at step 15400\n",
      "Metrics logged at step 15450\n"
     ]
    },
    {
     "name": "stderr",
     "output_type": "stream",
     "text": [
      " 41%|████▏     | 124/300 [02:46<03:58,  1.36s/it]"
     ]
    },
    {
     "name": "stdout",
     "output_type": "stream",
     "text": [
      "Metrics logged at step 15500\n",
      "Epoch 124 Validation Loss 0.362096905708313\n",
      "Metrics logged at step 15550\n"
     ]
    },
    {
     "name": "stderr",
     "output_type": "stream",
     "text": [
      " 42%|████▏     | 125/300 [02:47<03:48,  1.31s/it]"
     ]
    },
    {
     "name": "stdout",
     "output_type": "stream",
     "text": [
      "Metrics logged at step 15600\n",
      "Epoch 125 Validation Loss 0.36196279525756836\n",
      "Metrics logged at step 15650\n",
      "Metrics logged at step 15700\n"
     ]
    },
    {
     "name": "stderr",
     "output_type": "stream",
     "text": [
      " 42%|████▏     | 126/300 [02:49<04:00,  1.38s/it]"
     ]
    },
    {
     "name": "stdout",
     "output_type": "stream",
     "text": [
      "Metrics logged at step 15750\n",
      "Epoch 126 Validation Loss 0.36537447571754456\n",
      "Metrics logged at step 15800\n"
     ]
    },
    {
     "name": "stderr",
     "output_type": "stream",
     "text": [
      " 42%|████▏     | 127/300 [02:50<03:46,  1.31s/it]"
     ]
    },
    {
     "name": "stdout",
     "output_type": "stream",
     "text": [
      "Metrics logged at step 15850\n",
      "Epoch 127 Validation Loss 0.36181098222732544\n",
      "Metrics logged at step 15900\n",
      "Metrics logged at step 15950\n"
     ]
    },
    {
     "name": "stderr",
     "output_type": "stream",
     "text": [
      " 43%|████▎     | 128/300 [02:51<03:55,  1.37s/it]"
     ]
    },
    {
     "name": "stdout",
     "output_type": "stream",
     "text": [
      "Metrics logged at step 16000\n",
      "Epoch 128 Validation Loss 0.36388257145881653\n",
      "Metrics logged at step 16050\n"
     ]
    },
    {
     "name": "stderr",
     "output_type": "stream",
     "text": [
      " 43%|████▎     | 129/300 [02:52<03:41,  1.30s/it]"
     ]
    },
    {
     "name": "stdout",
     "output_type": "stream",
     "text": [
      "Metrics logged at step 16100\n",
      "Epoch 129 Validation Loss 0.36154845356941223\n",
      "Metrics logged at step 16150\n",
      "Metrics logged at step 16200\n"
     ]
    },
    {
     "name": "stderr",
     "output_type": "stream",
     "text": [
      " 43%|████▎     | 130/300 [02:54<03:51,  1.36s/it]"
     ]
    },
    {
     "name": "stdout",
     "output_type": "stream",
     "text": [
      "Metrics logged at step 16250\n",
      "Epoch 130 Samples 8000 Step 124 Training Loss 0.3669809103012085\n",
      "Epoch 130 Validation Loss 0.36112868785858154\n",
      "Metrics logged at step 16300\n"
     ]
    },
    {
     "name": "stderr",
     "output_type": "stream",
     "text": [
      " 44%|████▎     | 131/300 [02:55<03:38,  1.29s/it]"
     ]
    },
    {
     "name": "stdout",
     "output_type": "stream",
     "text": [
      "Metrics logged at step 16350\n",
      "Epoch 131 Validation Loss 0.3613271415233612\n",
      "Metrics logged at step 16400\n",
      "Metrics logged at step 16450\n"
     ]
    },
    {
     "name": "stderr",
     "output_type": "stream",
     "text": [
      " 44%|████▍     | 132/300 [02:56<03:49,  1.37s/it]"
     ]
    },
    {
     "name": "stdout",
     "output_type": "stream",
     "text": [
      "Metrics logged at step 16500\n",
      "Epoch 132 Validation Loss 0.360973596572876\n",
      "Metrics logged at step 16550\n"
     ]
    },
    {
     "name": "stderr",
     "output_type": "stream",
     "text": [
      " 44%|████▍     | 133/300 [02:58<03:38,  1.31s/it]"
     ]
    },
    {
     "name": "stdout",
     "output_type": "stream",
     "text": [
      "Metrics logged at step 16600\n",
      "Epoch 133 Validation Loss 0.3608265817165375\n",
      "Metrics logged at step 16650\n",
      "Metrics logged at step 16700\n"
     ]
    },
    {
     "name": "stderr",
     "output_type": "stream",
     "text": [
      " 45%|████▍     | 134/300 [02:59<03:48,  1.38s/it]"
     ]
    },
    {
     "name": "stdout",
     "output_type": "stream",
     "text": [
      "Metrics logged at step 16750\n",
      "Epoch 134 Validation Loss 0.3624320328235626\n",
      "Metrics logged at step 16800\n"
     ]
    },
    {
     "name": "stderr",
     "output_type": "stream",
     "text": [
      " 45%|████▌     | 135/300 [03:00<03:40,  1.34s/it]"
     ]
    },
    {
     "name": "stdout",
     "output_type": "stream",
     "text": [
      "Metrics logged at step 16850\n",
      "Epoch 135 Validation Loss 0.3627588748931885\n",
      "Metrics logged at step 16900\n",
      "Metrics logged at step 16950\n"
     ]
    },
    {
     "name": "stderr",
     "output_type": "stream",
     "text": [
      " 45%|████▌     | 136/300 [03:02<03:48,  1.39s/it]"
     ]
    },
    {
     "name": "stdout",
     "output_type": "stream",
     "text": [
      "Metrics logged at step 17000\n",
      "Epoch 136 Validation Loss 0.36168983578681946\n",
      "Metrics logged at step 17050\n"
     ]
    },
    {
     "name": "stderr",
     "output_type": "stream",
     "text": [
      " 46%|████▌     | 137/300 [03:03<03:34,  1.32s/it]"
     ]
    },
    {
     "name": "stdout",
     "output_type": "stream",
     "text": [
      "Metrics logged at step 17100\n",
      "Epoch 137 Validation Loss 0.36078011989593506\n",
      "Metrics logged at step 17150\n",
      "Metrics logged at step 17200\n"
     ]
    },
    {
     "name": "stderr",
     "output_type": "stream",
     "text": [
      " 46%|████▌     | 138/300 [03:05<03:42,  1.37s/it]"
     ]
    },
    {
     "name": "stdout",
     "output_type": "stream",
     "text": [
      "Metrics logged at step 17250\n",
      "Epoch 138 Validation Loss 0.3605119585990906\n",
      "Metrics logged at step 17300\n"
     ]
    },
    {
     "name": "stderr",
     "output_type": "stream",
     "text": [
      " 46%|████▋     | 139/300 [03:06<03:29,  1.30s/it]"
     ]
    },
    {
     "name": "stdout",
     "output_type": "stream",
     "text": [
      "Metrics logged at step 17350\n",
      "Epoch 139 Validation Loss 0.3610117733478546\n",
      "Metrics logged at step 17400\n",
      "Metrics logged at step 17450\n"
     ]
    },
    {
     "name": "stderr",
     "output_type": "stream",
     "text": [
      " 47%|████▋     | 140/300 [03:07<03:39,  1.37s/it]"
     ]
    },
    {
     "name": "stdout",
     "output_type": "stream",
     "text": [
      "Metrics logged at step 17500\n",
      "Epoch 140 Samples 8000 Step 124 Training Loss 0.36435019969940186\n",
      "Epoch 140 Validation Loss 0.3607676327228546\n",
      "Metrics logged at step 17550\n"
     ]
    },
    {
     "name": "stderr",
     "output_type": "stream",
     "text": [
      " 47%|████▋     | 141/300 [03:08<03:26,  1.30s/it]"
     ]
    },
    {
     "name": "stdout",
     "output_type": "stream",
     "text": [
      "Metrics logged at step 17600\n",
      "Epoch 141 Validation Loss 0.36019960045814514\n",
      "Metrics logged at step 17650\n",
      "Metrics logged at step 17700\n"
     ]
    },
    {
     "name": "stderr",
     "output_type": "stream",
     "text": [
      " 47%|████▋     | 142/300 [03:10<03:36,  1.37s/it]"
     ]
    },
    {
     "name": "stdout",
     "output_type": "stream",
     "text": [
      "Metrics logged at step 17750\n",
      "Epoch 142 Validation Loss 0.3615693747997284\n",
      "Metrics logged at step 17800\n"
     ]
    },
    {
     "name": "stderr",
     "output_type": "stream",
     "text": [
      " 48%|████▊     | 143/300 [03:11<03:23,  1.30s/it]"
     ]
    },
    {
     "name": "stdout",
     "output_type": "stream",
     "text": [
      "Metrics logged at step 17850\n",
      "Epoch 143 Validation Loss 0.36011427640914917\n",
      "Metrics logged at step 17900\n",
      "Metrics logged at step 17950\n"
     ]
    },
    {
     "name": "stderr",
     "output_type": "stream",
     "text": [
      " 48%|████▊     | 144/300 [03:13<03:31,  1.36s/it]"
     ]
    },
    {
     "name": "stdout",
     "output_type": "stream",
     "text": [
      "Metrics logged at step 18000\n",
      "Epoch 144 Validation Loss 0.36273708939552307\n",
      "Metrics logged at step 18050\n"
     ]
    },
    {
     "name": "stderr",
     "output_type": "stream",
     "text": [
      " 48%|████▊     | 145/300 [03:14<03:19,  1.29s/it]"
     ]
    },
    {
     "name": "stdout",
     "output_type": "stream",
     "text": [
      "Metrics logged at step 18100\n",
      "Epoch 145 Validation Loss 0.3622868061065674\n",
      "Metrics logged at step 18150\n",
      "Metrics logged at step 18200\n"
     ]
    },
    {
     "name": "stderr",
     "output_type": "stream",
     "text": [
      " 49%|████▊     | 146/300 [03:15<03:29,  1.36s/it]"
     ]
    },
    {
     "name": "stdout",
     "output_type": "stream",
     "text": [
      "Metrics logged at step 18250\n",
      "Epoch 146 Validation Loss 0.36024174094200134\n",
      "Metrics logged at step 18300\n"
     ]
    },
    {
     "name": "stderr",
     "output_type": "stream",
     "text": [
      " 49%|████▉     | 147/300 [03:16<03:17,  1.29s/it]"
     ]
    },
    {
     "name": "stdout",
     "output_type": "stream",
     "text": [
      "Metrics logged at step 18350\n",
      "Epoch 147 Validation Loss 0.36071139574050903\n",
      "Metrics logged at step 18400\n",
      "Metrics logged at step 18450\n"
     ]
    },
    {
     "name": "stderr",
     "output_type": "stream",
     "text": [
      " 49%|████▉     | 148/300 [03:18<03:28,  1.37s/it]"
     ]
    },
    {
     "name": "stdout",
     "output_type": "stream",
     "text": [
      "Metrics logged at step 18500\n",
      "Epoch 148 Validation Loss 0.361307829618454\n",
      "Metrics logged at step 18550\n"
     ]
    },
    {
     "name": "stderr",
     "output_type": "stream",
     "text": [
      " 50%|████▉     | 149/300 [03:19<03:19,  1.32s/it]"
     ]
    },
    {
     "name": "stdout",
     "output_type": "stream",
     "text": [
      "Metrics logged at step 18600\n",
      "Epoch 149 Validation Loss 0.3599429726600647\n",
      "Metrics logged at step 18650\n",
      "Metrics logged at step 18700\n"
     ]
    },
    {
     "name": "stderr",
     "output_type": "stream",
     "text": [
      " 50%|█████     | 150/300 [03:21<03:27,  1.38s/it]"
     ]
    },
    {
     "name": "stdout",
     "output_type": "stream",
     "text": [
      "Metrics logged at step 18750\n",
      "Epoch 150 Samples 8000 Step 124 Training Loss 0.36888939142227173\n",
      "Epoch 150 Validation Loss 0.3623731732368469\n",
      "Metrics logged at step 18800\n"
     ]
    },
    {
     "name": "stderr",
     "output_type": "stream",
     "text": [
      " 50%|█████     | 151/300 [03:22<03:14,  1.31s/it]"
     ]
    },
    {
     "name": "stdout",
     "output_type": "stream",
     "text": [
      "Metrics logged at step 18850\n",
      "Epoch 151 Validation Loss 0.3598550856113434\n",
      "Metrics logged at step 18900\n",
      "Metrics logged at step 18950\n"
     ]
    },
    {
     "name": "stderr",
     "output_type": "stream",
     "text": [
      " 51%|█████     | 152/300 [03:23<03:22,  1.37s/it]"
     ]
    },
    {
     "name": "stdout",
     "output_type": "stream",
     "text": [
      "Metrics logged at step 19000\n",
      "Epoch 152 Validation Loss 0.35977086424827576\n",
      "Metrics logged at step 19050\n"
     ]
    },
    {
     "name": "stderr",
     "output_type": "stream",
     "text": [
      " 51%|█████     | 153/300 [03:24<03:13,  1.32s/it]"
     ]
    },
    {
     "name": "stdout",
     "output_type": "stream",
     "text": [
      "Metrics logged at step 19100\n",
      "Epoch 153 Validation Loss 0.3607630431652069\n",
      "Metrics logged at step 19150\n",
      "Metrics logged at step 19200\n"
     ]
    },
    {
     "name": "stderr",
     "output_type": "stream",
     "text": [
      " 51%|█████▏    | 154/300 [03:26<03:20,  1.37s/it]"
     ]
    },
    {
     "name": "stdout",
     "output_type": "stream",
     "text": [
      "Metrics logged at step 19250\n",
      "Epoch 154 Validation Loss 0.36046868562698364\n",
      "Metrics logged at step 19300\n"
     ]
    },
    {
     "name": "stderr",
     "output_type": "stream",
     "text": [
      " 52%|█████▏    | 155/300 [03:27<03:10,  1.32s/it]"
     ]
    },
    {
     "name": "stdout",
     "output_type": "stream",
     "text": [
      "Metrics logged at step 19350\n",
      "Epoch 155 Validation Loss 0.36008453369140625\n",
      "Metrics logged at step 19400\n",
      "Metrics logged at step 19450\n"
     ]
    },
    {
     "name": "stderr",
     "output_type": "stream",
     "text": [
      " 52%|█████▏    | 156/300 [03:29<03:19,  1.39s/it]"
     ]
    },
    {
     "name": "stdout",
     "output_type": "stream",
     "text": [
      "Metrics logged at step 19500\n",
      "Epoch 156 Validation Loss 0.3603861331939697\n",
      "Metrics logged at step 19550\n",
      "Metrics logged at step 19600\n"
     ]
    },
    {
     "name": "stderr",
     "output_type": "stream",
     "text": [
      " 52%|█████▏    | 157/300 [03:30<03:13,  1.35s/it]"
     ]
    },
    {
     "name": "stdout",
     "output_type": "stream",
     "text": [
      "Epoch 157 Validation Loss 0.36007484793663025\n",
      "Metrics logged at step 19650\n",
      "Metrics logged at step 19700\n"
     ]
    },
    {
     "name": "stderr",
     "output_type": "stream",
     "text": [
      " 53%|█████▎    | 158/300 [03:32<03:20,  1.41s/it]"
     ]
    },
    {
     "name": "stdout",
     "output_type": "stream",
     "text": [
      "Metrics logged at step 19750\n",
      "Epoch 158 Validation Loss 0.3598856031894684\n",
      "Metrics logged at step 19800\n"
     ]
    },
    {
     "name": "stderr",
     "output_type": "stream",
     "text": [
      " 53%|█████▎    | 159/300 [03:33<03:07,  1.33s/it]"
     ]
    },
    {
     "name": "stdout",
     "output_type": "stream",
     "text": [
      "Metrics logged at step 19850\n",
      "Epoch 159 Validation Loss 0.3600359857082367\n",
      "Metrics logged at step 19900\n",
      "Metrics logged at step 19950\n"
     ]
    },
    {
     "name": "stderr",
     "output_type": "stream",
     "text": [
      " 53%|█████▎    | 160/300 [03:34<03:15,  1.40s/it]"
     ]
    },
    {
     "name": "stdout",
     "output_type": "stream",
     "text": [
      "Metrics logged at step 20000\n",
      "Epoch 160 Samples 8000 Step 124 Training Loss 0.36709046363830566\n",
      "Epoch 160 Validation Loss 0.36028772592544556\n",
      "Metrics logged at step 20050\n"
     ]
    },
    {
     "name": "stderr",
     "output_type": "stream",
     "text": [
      " 54%|█████▎    | 161/300 [03:35<03:03,  1.32s/it]"
     ]
    },
    {
     "name": "stdout",
     "output_type": "stream",
     "text": [
      "Metrics logged at step 20100\n",
      "Epoch 161 Validation Loss 0.35940417647361755\n",
      "Metrics logged at step 20150\n",
      "Metrics logged at step 20200\n"
     ]
    },
    {
     "name": "stderr",
     "output_type": "stream",
     "text": [
      " 54%|█████▍    | 162/300 [03:37<03:13,  1.40s/it]"
     ]
    },
    {
     "name": "stdout",
     "output_type": "stream",
     "text": [
      "Metrics logged at step 20250\n",
      "Epoch 162 Validation Loss 0.35966718196868896\n",
      "Metrics logged at step 20300\n"
     ]
    },
    {
     "name": "stderr",
     "output_type": "stream",
     "text": [
      " 54%|█████▍    | 163/300 [03:38<03:02,  1.33s/it]"
     ]
    },
    {
     "name": "stdout",
     "output_type": "stream",
     "text": [
      "Metrics logged at step 20350\n",
      "Epoch 163 Validation Loss 0.3613443374633789\n",
      "Metrics logged at step 20400\n",
      "Metrics logged at step 20450\n"
     ]
    },
    {
     "name": "stderr",
     "output_type": "stream",
     "text": [
      " 55%|█████▍    | 164/300 [03:40<03:09,  1.39s/it]"
     ]
    },
    {
     "name": "stdout",
     "output_type": "stream",
     "text": [
      "Metrics logged at step 20500\n",
      "Epoch 164 Validation Loss 0.3600289821624756\n",
      "Metrics logged at step 20550\n"
     ]
    },
    {
     "name": "stderr",
     "output_type": "stream",
     "text": [
      " 55%|█████▌    | 165/300 [03:41<02:58,  1.32s/it]"
     ]
    },
    {
     "name": "stdout",
     "output_type": "stream",
     "text": [
      "Metrics logged at step 20600\n",
      "Epoch 165 Validation Loss 0.36024147272109985\n",
      "Metrics logged at step 20650\n",
      "Metrics logged at step 20700\n"
     ]
    },
    {
     "name": "stderr",
     "output_type": "stream",
     "text": [
      " 55%|█████▌    | 166/300 [03:42<03:07,  1.40s/it]"
     ]
    },
    {
     "name": "stdout",
     "output_type": "stream",
     "text": [
      "Metrics logged at step 20750\n",
      "Epoch 166 Validation Loss 0.3593854010105133\n",
      "Metrics logged at step 20800\n"
     ]
    },
    {
     "name": "stderr",
     "output_type": "stream",
     "text": [
      " 56%|█████▌    | 167/300 [03:44<02:56,  1.33s/it]"
     ]
    },
    {
     "name": "stdout",
     "output_type": "stream",
     "text": [
      "Metrics logged at step 20850\n",
      "Epoch 167 Validation Loss 0.3596629798412323\n",
      "Metrics logged at step 20900\n",
      "Metrics logged at step 20950\n"
     ]
    },
    {
     "name": "stderr",
     "output_type": "stream",
     "text": [
      " 56%|█████▌    | 168/300 [03:45<03:03,  1.39s/it]"
     ]
    },
    {
     "name": "stdout",
     "output_type": "stream",
     "text": [
      "Metrics logged at step 21000\n",
      "Epoch 168 Validation Loss 0.35925477743148804\n",
      "Metrics logged at step 21050\n"
     ]
    },
    {
     "name": "stderr",
     "output_type": "stream",
     "text": [
      " 56%|█████▋    | 169/300 [03:46<02:52,  1.32s/it]"
     ]
    },
    {
     "name": "stdout",
     "output_type": "stream",
     "text": [
      "Metrics logged at step 21100\n",
      "Epoch 169 Validation Loss 0.3606044352054596\n",
      "Metrics logged at step 21150\n",
      "Metrics logged at step 21200\n"
     ]
    },
    {
     "name": "stderr",
     "output_type": "stream",
     "text": [
      " 57%|█████▋    | 170/300 [03:48<03:00,  1.39s/it]"
     ]
    },
    {
     "name": "stdout",
     "output_type": "stream",
     "text": [
      "Metrics logged at step 21250\n",
      "Epoch 170 Samples 8000 Step 124 Training Loss 0.3687156140804291\n",
      "Epoch 170 Validation Loss 0.36010417342185974\n",
      "Metrics logged at step 21300\n"
     ]
    },
    {
     "name": "stderr",
     "output_type": "stream",
     "text": [
      " 57%|█████▋    | 171/300 [03:49<02:50,  1.32s/it]"
     ]
    },
    {
     "name": "stdout",
     "output_type": "stream",
     "text": [
      "Metrics logged at step 21350\n",
      "Epoch 171 Validation Loss 0.3597612679004669\n",
      "Metrics logged at step 21400\n",
      "Metrics logged at step 21450\n"
     ]
    },
    {
     "name": "stderr",
     "output_type": "stream",
     "text": [
      " 57%|█████▋    | 172/300 [03:51<03:00,  1.41s/it]"
     ]
    },
    {
     "name": "stdout",
     "output_type": "stream",
     "text": [
      "Metrics logged at step 21500\n",
      "Epoch 172 Validation Loss 0.35912731289863586\n",
      "Metrics logged at step 21550\n"
     ]
    },
    {
     "name": "stderr",
     "output_type": "stream",
     "text": [
      " 58%|█████▊    | 173/300 [03:52<02:50,  1.34s/it]"
     ]
    },
    {
     "name": "stdout",
     "output_type": "stream",
     "text": [
      "Metrics logged at step 21600\n",
      "Epoch 173 Validation Loss 0.3592158854007721\n",
      "Metrics logged at step 21650\n",
      "Metrics logged at step 21700\n"
     ]
    },
    {
     "name": "stderr",
     "output_type": "stream",
     "text": [
      " 58%|█████▊    | 174/300 [03:53<02:58,  1.42s/it]"
     ]
    },
    {
     "name": "stdout",
     "output_type": "stream",
     "text": [
      "Metrics logged at step 21750\n",
      "Epoch 174 Validation Loss 0.36021655797958374\n",
      "Metrics logged at step 21800\n"
     ]
    },
    {
     "name": "stderr",
     "output_type": "stream",
     "text": [
      " 58%|█████▊    | 175/300 [03:55<02:47,  1.34s/it]"
     ]
    },
    {
     "name": "stdout",
     "output_type": "stream",
     "text": [
      "Metrics logged at step 21850\n",
      "Epoch 175 Validation Loss 0.359846830368042\n",
      "Metrics logged at step 21900\n",
      "Metrics logged at step 21950\n"
     ]
    },
    {
     "name": "stderr",
     "output_type": "stream",
     "text": [
      " 59%|█████▊    | 176/300 [03:56<02:53,  1.40s/it]"
     ]
    },
    {
     "name": "stdout",
     "output_type": "stream",
     "text": [
      "Metrics logged at step 22000\n",
      "Epoch 176 Validation Loss 0.35925641655921936\n",
      "Metrics logged at step 22050\n"
     ]
    },
    {
     "name": "stderr",
     "output_type": "stream",
     "text": [
      " 59%|█████▉    | 177/300 [03:57<02:42,  1.32s/it]"
     ]
    },
    {
     "name": "stdout",
     "output_type": "stream",
     "text": [
      "Metrics logged at step 22100\n",
      "Epoch 177 Validation Loss 0.35969457030296326\n",
      "Metrics logged at step 22150\n",
      "Metrics logged at step 22200\n"
     ]
    },
    {
     "name": "stderr",
     "output_type": "stream",
     "text": [
      " 59%|█████▉    | 178/300 [03:59<02:48,  1.38s/it]"
     ]
    },
    {
     "name": "stdout",
     "output_type": "stream",
     "text": [
      "Metrics logged at step 22250\n",
      "Epoch 178 Validation Loss 0.3593882918357849\n",
      "Metrics logged at step 22300\n"
     ]
    },
    {
     "name": "stderr",
     "output_type": "stream",
     "text": [
      " 60%|█████▉    | 179/300 [04:00<02:38,  1.31s/it]"
     ]
    },
    {
     "name": "stdout",
     "output_type": "stream",
     "text": [
      "Metrics logged at step 22350\n",
      "Epoch 179 Validation Loss 0.3602489233016968\n",
      "Metrics logged at step 22400\n",
      "Metrics logged at step 22450\n"
     ]
    },
    {
     "name": "stderr",
     "output_type": "stream",
     "text": [
      " 60%|██████    | 180/300 [04:01<02:44,  1.37s/it]"
     ]
    },
    {
     "name": "stdout",
     "output_type": "stream",
     "text": [
      "Metrics logged at step 22500\n",
      "Epoch 180 Samples 8000 Step 124 Training Loss 0.3650417625904083\n",
      "Epoch 180 Validation Loss 0.3589385151863098\n",
      "Metrics logged at step 22550\n"
     ]
    },
    {
     "name": "stderr",
     "output_type": "stream",
     "text": [
      " 60%|██████    | 181/300 [04:03<02:36,  1.32s/it]"
     ]
    },
    {
     "name": "stdout",
     "output_type": "stream",
     "text": [
      "Metrics logged at step 22600\n",
      "Epoch 181 Validation Loss 0.358940988779068\n",
      "Metrics logged at step 22650\n",
      "Metrics logged at step 22700\n"
     ]
    },
    {
     "name": "stderr",
     "output_type": "stream",
     "text": [
      " 61%|██████    | 182/300 [04:04<02:42,  1.38s/it]"
     ]
    },
    {
     "name": "stdout",
     "output_type": "stream",
     "text": [
      "Metrics logged at step 22750\n",
      "Epoch 182 Validation Loss 0.358785480260849\n",
      "Metrics logged at step 22800\n"
     ]
    },
    {
     "name": "stderr",
     "output_type": "stream",
     "text": [
      " 61%|██████    | 183/300 [04:05<02:32,  1.31s/it]"
     ]
    },
    {
     "name": "stdout",
     "output_type": "stream",
     "text": [
      "Metrics logged at step 22850\n",
      "Epoch 183 Validation Loss 0.35991522669792175\n",
      "Metrics logged at step 22900\n",
      "Metrics logged at step 22950\n"
     ]
    },
    {
     "name": "stderr",
     "output_type": "stream",
     "text": [
      " 61%|██████▏   | 184/300 [04:07<02:39,  1.37s/it]"
     ]
    },
    {
     "name": "stdout",
     "output_type": "stream",
     "text": [
      "Metrics logged at step 23000\n",
      "Epoch 184 Validation Loss 0.35976457595825195\n",
      "Metrics logged at step 23050\n"
     ]
    },
    {
     "name": "stderr",
     "output_type": "stream",
     "text": [
      " 62%|██████▏   | 185/300 [04:08<02:29,  1.30s/it]"
     ]
    },
    {
     "name": "stdout",
     "output_type": "stream",
     "text": [
      "Metrics logged at step 23100\n",
      "Epoch 185 Validation Loss 0.3589955270290375\n",
      "Metrics logged at step 23150\n",
      "Metrics logged at step 23200\n"
     ]
    },
    {
     "name": "stderr",
     "output_type": "stream",
     "text": [
      " 62%|██████▏   | 186/300 [04:09<02:36,  1.37s/it]"
     ]
    },
    {
     "name": "stdout",
     "output_type": "stream",
     "text": [
      "Metrics logged at step 23250\n",
      "Epoch 186 Validation Loss 0.35969725251197815\n",
      "Metrics logged at step 23300\n"
     ]
    },
    {
     "name": "stderr",
     "output_type": "stream",
     "text": [
      " 62%|██████▏   | 187/300 [04:11<02:27,  1.31s/it]"
     ]
    },
    {
     "name": "stdout",
     "output_type": "stream",
     "text": [
      "Metrics logged at step 23350\n",
      "Epoch 187 Validation Loss 0.361958771944046\n",
      "Metrics logged at step 23400\n",
      "Metrics logged at step 23450\n"
     ]
    },
    {
     "name": "stderr",
     "output_type": "stream",
     "text": [
      " 63%|██████▎   | 188/300 [04:12<02:33,  1.37s/it]"
     ]
    },
    {
     "name": "stdout",
     "output_type": "stream",
     "text": [
      "Metrics logged at step 23500\n",
      "Epoch 188 Validation Loss 0.359992116689682\n",
      "Metrics logged at step 23550\n"
     ]
    },
    {
     "name": "stderr",
     "output_type": "stream",
     "text": [
      " 63%|██████▎   | 189/300 [04:13<02:24,  1.30s/it]"
     ]
    },
    {
     "name": "stdout",
     "output_type": "stream",
     "text": [
      "Metrics logged at step 23600\n",
      "Epoch 189 Validation Loss 0.3586743175983429\n",
      "Metrics logged at step 23650\n",
      "Metrics logged at step 23700\n"
     ]
    },
    {
     "name": "stderr",
     "output_type": "stream",
     "text": [
      " 63%|██████▎   | 190/300 [04:15<02:30,  1.37s/it]"
     ]
    },
    {
     "name": "stdout",
     "output_type": "stream",
     "text": [
      "Metrics logged at step 23750\n",
      "Epoch 190 Samples 8000 Step 124 Training Loss 0.3762844502925873\n",
      "Epoch 190 Validation Loss 0.36519956588745117\n",
      "Metrics logged at step 23800\n"
     ]
    },
    {
     "name": "stderr",
     "output_type": "stream",
     "text": [
      " 64%|██████▎   | 191/300 [04:16<02:22,  1.30s/it]"
     ]
    },
    {
     "name": "stdout",
     "output_type": "stream",
     "text": [
      "Metrics logged at step 23850\n",
      "Epoch 191 Validation Loss 0.35854411125183105\n",
      "Metrics logged at step 23900\n",
      "Metrics logged at step 23950\n"
     ]
    },
    {
     "name": "stderr",
     "output_type": "stream",
     "text": [
      " 64%|██████▍   | 192/300 [04:17<02:28,  1.37s/it]"
     ]
    },
    {
     "name": "stdout",
     "output_type": "stream",
     "text": [
      "Metrics logged at step 24000\n",
      "Epoch 192 Validation Loss 0.35860592126846313\n",
      "Metrics logged at step 24050\n"
     ]
    },
    {
     "name": "stderr",
     "output_type": "stream",
     "text": [
      " 64%|██████▍   | 193/300 [04:19<02:19,  1.31s/it]"
     ]
    },
    {
     "name": "stdout",
     "output_type": "stream",
     "text": [
      "Metrics logged at step 24100\n",
      "Epoch 193 Validation Loss 0.358527272939682\n",
      "Metrics logged at step 24150\n",
      "Metrics logged at step 24200\n"
     ]
    },
    {
     "name": "stderr",
     "output_type": "stream",
     "text": [
      " 65%|██████▍   | 194/300 [04:20<02:26,  1.38s/it]"
     ]
    },
    {
     "name": "stdout",
     "output_type": "stream",
     "text": [
      "Metrics logged at step 24250\n",
      "Epoch 194 Validation Loss 0.36040735244750977\n",
      "Metrics logged at step 24300\n"
     ]
    },
    {
     "name": "stderr",
     "output_type": "stream",
     "text": [
      " 65%|██████▌   | 195/300 [04:21<02:17,  1.31s/it]"
     ]
    },
    {
     "name": "stdout",
     "output_type": "stream",
     "text": [
      "Metrics logged at step 24350\n",
      "Epoch 195 Validation Loss 0.3607313632965088\n",
      "Metrics logged at step 24400\n",
      "Metrics logged at step 24450\n"
     ]
    },
    {
     "name": "stderr",
     "output_type": "stream",
     "text": [
      " 65%|██████▌   | 196/300 [04:23<02:23,  1.38s/it]"
     ]
    },
    {
     "name": "stdout",
     "output_type": "stream",
     "text": [
      "Metrics logged at step 24500\n",
      "Epoch 196 Validation Loss 0.3585323989391327\n",
      "Metrics logged at step 24550\n"
     ]
    },
    {
     "name": "stderr",
     "output_type": "stream",
     "text": [
      " 66%|██████▌   | 197/300 [04:24<02:17,  1.33s/it]"
     ]
    },
    {
     "name": "stdout",
     "output_type": "stream",
     "text": [
      "Metrics logged at step 24600\n",
      "Epoch 197 Validation Loss 0.3585764169692993\n",
      "Metrics logged at step 24650\n",
      "Metrics logged at step 24700\n"
     ]
    },
    {
     "name": "stderr",
     "output_type": "stream",
     "text": [
      " 66%|██████▌   | 198/300 [04:26<02:21,  1.39s/it]"
     ]
    },
    {
     "name": "stdout",
     "output_type": "stream",
     "text": [
      "Metrics logged at step 24750\n",
      "Epoch 198 Validation Loss 0.358326256275177\n",
      "Metrics logged at step 24800\n"
     ]
    },
    {
     "name": "stderr",
     "output_type": "stream",
     "text": [
      " 66%|██████▋   | 199/300 [04:27<02:12,  1.32s/it]"
     ]
    },
    {
     "name": "stdout",
     "output_type": "stream",
     "text": [
      "Metrics logged at step 24850\n",
      "Epoch 199 Validation Loss 0.35868895053863525\n",
      "Metrics logged at step 24900\n",
      "Metrics logged at step 24950\n"
     ]
    },
    {
     "name": "stderr",
     "output_type": "stream",
     "text": [
      " 67%|██████▋   | 200/300 [04:28<02:18,  1.38s/it]"
     ]
    },
    {
     "name": "stdout",
     "output_type": "stream",
     "text": [
      "Metrics logged at step 25000\n",
      "Epoch 200 Samples 8000 Step 124 Training Loss 0.3659539520740509\n",
      "Epoch 200 Validation Loss 0.3591027855873108\n",
      "Metrics logged at step 25050\n"
     ]
    },
    {
     "name": "stderr",
     "output_type": "stream",
     "text": [
      " 67%|██████▋   | 201/300 [04:29<02:10,  1.32s/it]"
     ]
    },
    {
     "name": "stdout",
     "output_type": "stream",
     "text": [
      "Metrics logged at step 25100\n",
      "Epoch 201 Validation Loss 0.35822567343711853\n",
      "Metrics logged at step 25150\n",
      "Metrics logged at step 25200\n"
     ]
    },
    {
     "name": "stderr",
     "output_type": "stream",
     "text": [
      " 67%|██████▋   | 202/300 [04:31<02:15,  1.38s/it]"
     ]
    },
    {
     "name": "stdout",
     "output_type": "stream",
     "text": [
      "Metrics logged at step 25250\n",
      "Epoch 202 Validation Loss 0.35819700360298157\n",
      "Metrics logged at step 25300\n"
     ]
    },
    {
     "name": "stderr",
     "output_type": "stream",
     "text": [
      " 68%|██████▊   | 203/300 [04:32<02:08,  1.32s/it]"
     ]
    },
    {
     "name": "stdout",
     "output_type": "stream",
     "text": [
      "Metrics logged at step 25350\n",
      "Epoch 203 Validation Loss 0.3579888343811035\n",
      "Metrics logged at step 25400\n",
      "Metrics logged at step 25450\n"
     ]
    },
    {
     "name": "stderr",
     "output_type": "stream",
     "text": [
      " 68%|██████▊   | 204/300 [04:34<02:12,  1.38s/it]"
     ]
    },
    {
     "name": "stdout",
     "output_type": "stream",
     "text": [
      "Metrics logged at step 25500\n",
      "Epoch 204 Validation Loss 0.35809385776519775\n",
      "Metrics logged at step 25550\n"
     ]
    },
    {
     "name": "stderr",
     "output_type": "stream",
     "text": [
      " 68%|██████▊   | 205/300 [04:35<02:04,  1.31s/it]"
     ]
    },
    {
     "name": "stdout",
     "output_type": "stream",
     "text": [
      "Metrics logged at step 25600\n",
      "Epoch 205 Validation Loss 0.3580046594142914\n",
      "Metrics logged at step 25650\n",
      "Metrics logged at step 25700\n"
     ]
    },
    {
     "name": "stderr",
     "output_type": "stream",
     "text": [
      " 69%|██████▊   | 206/300 [04:36<02:09,  1.37s/it]"
     ]
    },
    {
     "name": "stdout",
     "output_type": "stream",
     "text": [
      "Metrics logged at step 25750\n",
      "Epoch 206 Validation Loss 0.35811713337898254\n",
      "Metrics logged at step 25800\n"
     ]
    },
    {
     "name": "stderr",
     "output_type": "stream",
     "text": [
      " 69%|██████▉   | 207/300 [04:38<02:02,  1.32s/it]"
     ]
    },
    {
     "name": "stdout",
     "output_type": "stream",
     "text": [
      "Metrics logged at step 25850\n",
      "Epoch 207 Validation Loss 0.3604465126991272\n",
      "Metrics logged at step 25900\n",
      "Metrics logged at step 25950\n"
     ]
    },
    {
     "name": "stderr",
     "output_type": "stream",
     "text": [
      " 69%|██████▉   | 208/300 [04:39<02:07,  1.39s/it]"
     ]
    },
    {
     "name": "stdout",
     "output_type": "stream",
     "text": [
      "Metrics logged at step 26000\n",
      "Epoch 208 Validation Loss 0.3577205240726471\n",
      "Metrics logged at step 26050\n"
     ]
    },
    {
     "name": "stderr",
     "output_type": "stream",
     "text": [
      " 70%|██████▉   | 209/300 [04:40<02:00,  1.32s/it]"
     ]
    },
    {
     "name": "stdout",
     "output_type": "stream",
     "text": [
      "Metrics logged at step 26100\n",
      "Epoch 209 Validation Loss 0.35753491520881653\n",
      "Metrics logged at step 26150\n",
      "Metrics logged at step 26200\n"
     ]
    },
    {
     "name": "stderr",
     "output_type": "stream",
     "text": [
      " 70%|███████   | 210/300 [04:42<02:05,  1.39s/it]"
     ]
    },
    {
     "name": "stdout",
     "output_type": "stream",
     "text": [
      "Metrics logged at step 26250\n",
      "Epoch 210 Samples 8000 Step 124 Training Loss 0.3417627215385437\n",
      "Epoch 210 Validation Loss 0.35830429196357727\n",
      "Metrics logged at step 26300\n"
     ]
    },
    {
     "name": "stderr",
     "output_type": "stream",
     "text": [
      " 70%|███████   | 211/300 [04:43<01:57,  1.32s/it]"
     ]
    },
    {
     "name": "stdout",
     "output_type": "stream",
     "text": [
      "Metrics logged at step 26350\n",
      "Epoch 211 Validation Loss 0.3608176112174988\n",
      "Metrics logged at step 26400\n",
      "Metrics logged at step 26450\n"
     ]
    },
    {
     "name": "stderr",
     "output_type": "stream",
     "text": [
      " 71%|███████   | 212/300 [04:45<02:03,  1.40s/it]"
     ]
    },
    {
     "name": "stdout",
     "output_type": "stream",
     "text": [
      "Metrics logged at step 26500\n",
      "Epoch 212 Validation Loss 0.3571210205554962\n",
      "Metrics logged at step 26550\n"
     ]
    },
    {
     "name": "stderr",
     "output_type": "stream",
     "text": [
      " 71%|███████   | 213/300 [04:46<01:55,  1.33s/it]"
     ]
    },
    {
     "name": "stdout",
     "output_type": "stream",
     "text": [
      "Metrics logged at step 26600\n",
      "Epoch 213 Validation Loss 0.3598155379295349\n",
      "Metrics logged at step 26650\n",
      "Metrics logged at step 26700\n"
     ]
    },
    {
     "name": "stderr",
     "output_type": "stream",
     "text": [
      " 71%|███████▏  | 214/300 [04:47<01:59,  1.39s/it]"
     ]
    },
    {
     "name": "stdout",
     "output_type": "stream",
     "text": [
      "Metrics logged at step 26750\n",
      "Epoch 214 Validation Loss 0.3576752841472626\n",
      "Metrics logged at step 26800\n"
     ]
    },
    {
     "name": "stderr",
     "output_type": "stream",
     "text": [
      " 72%|███████▏  | 215/300 [04:48<01:51,  1.32s/it]"
     ]
    },
    {
     "name": "stdout",
     "output_type": "stream",
     "text": [
      "Metrics logged at step 26850\n",
      "Epoch 215 Validation Loss 0.35881659388542175\n",
      "Metrics logged at step 26900\n",
      "Metrics logged at step 26950\n"
     ]
    },
    {
     "name": "stderr",
     "output_type": "stream",
     "text": [
      " 72%|███████▏  | 216/300 [04:50<01:57,  1.40s/it]"
     ]
    },
    {
     "name": "stdout",
     "output_type": "stream",
     "text": [
      "Metrics logged at step 27000\n",
      "Epoch 216 Validation Loss 0.3567349314689636\n",
      "Metrics logged at step 27050\n"
     ]
    },
    {
     "name": "stderr",
     "output_type": "stream",
     "text": [
      " 72%|███████▏  | 217/300 [04:51<01:50,  1.33s/it]"
     ]
    },
    {
     "name": "stdout",
     "output_type": "stream",
     "text": [
      "Metrics logged at step 27100\n",
      "Epoch 217 Validation Loss 0.35714858770370483\n",
      "Metrics logged at step 27150\n",
      "Metrics logged at step 27200\n"
     ]
    },
    {
     "name": "stderr",
     "output_type": "stream",
     "text": [
      " 73%|███████▎  | 218/300 [04:53<01:53,  1.39s/it]"
     ]
    },
    {
     "name": "stdout",
     "output_type": "stream",
     "text": [
      "Metrics logged at step 27250\n",
      "Epoch 218 Validation Loss 0.35708609223365784\n",
      "Metrics logged at step 27300\n"
     ]
    },
    {
     "name": "stderr",
     "output_type": "stream",
     "text": [
      " 73%|███████▎  | 219/300 [04:54<01:46,  1.32s/it]"
     ]
    },
    {
     "name": "stdout",
     "output_type": "stream",
     "text": [
      "Metrics logged at step 27350\n",
      "Epoch 219 Validation Loss 0.3571417033672333\n",
      "Metrics logged at step 27400\n",
      "Metrics logged at step 27450\n"
     ]
    },
    {
     "name": "stderr",
     "output_type": "stream",
     "text": [
      " 73%|███████▎  | 220/300 [04:55<01:51,  1.39s/it]"
     ]
    },
    {
     "name": "stdout",
     "output_type": "stream",
     "text": [
      "Metrics logged at step 27500\n",
      "Epoch 220 Samples 8000 Step 124 Training Loss 0.35605257749557495\n",
      "Epoch 220 Validation Loss 0.3565688729286194\n",
      "Metrics logged at step 27550\n"
     ]
    },
    {
     "name": "stderr",
     "output_type": "stream",
     "text": [
      " 74%|███████▎  | 221/300 [04:57<01:44,  1.32s/it]"
     ]
    },
    {
     "name": "stdout",
     "output_type": "stream",
     "text": [
      "Metrics logged at step 27600\n",
      "Epoch 221 Validation Loss 0.3564123511314392\n",
      "Metrics logged at step 27650\n",
      "Metrics logged at step 27700\n"
     ]
    },
    {
     "name": "stderr",
     "output_type": "stream",
     "text": [
      " 74%|███████▍  | 222/300 [04:58<01:48,  1.39s/it]"
     ]
    },
    {
     "name": "stdout",
     "output_type": "stream",
     "text": [
      "Metrics logged at step 27750\n",
      "Epoch 222 Validation Loss 0.3568482995033264\n",
      "Metrics logged at step 27800\n"
     ]
    },
    {
     "name": "stderr",
     "output_type": "stream",
     "text": [
      " 74%|███████▍  | 223/300 [04:59<01:41,  1.32s/it]"
     ]
    },
    {
     "name": "stdout",
     "output_type": "stream",
     "text": [
      "Metrics logged at step 27850\n",
      "Epoch 223 Validation Loss 0.35694772005081177\n",
      "Metrics logged at step 27900\n",
      "Metrics logged at step 27950\n"
     ]
    },
    {
     "name": "stderr",
     "output_type": "stream",
     "text": [
      " 75%|███████▍  | 224/300 [05:01<01:45,  1.39s/it]"
     ]
    },
    {
     "name": "stdout",
     "output_type": "stream",
     "text": [
      "Metrics logged at step 28000\n",
      "Epoch 224 Validation Loss 0.35583779215812683\n",
      "Metrics logged at step 28050\n"
     ]
    },
    {
     "name": "stderr",
     "output_type": "stream",
     "text": [
      " 75%|███████▌  | 225/300 [05:02<01:39,  1.33s/it]"
     ]
    },
    {
     "name": "stdout",
     "output_type": "stream",
     "text": [
      "Metrics logged at step 28100\n",
      "Epoch 225 Validation Loss 0.35711976885795593\n",
      "Metrics logged at step 28150\n",
      "Metrics logged at step 28200\n"
     ]
    },
    {
     "name": "stderr",
     "output_type": "stream",
     "text": [
      " 75%|███████▌  | 226/300 [05:04<01:43,  1.40s/it]"
     ]
    },
    {
     "name": "stdout",
     "output_type": "stream",
     "text": [
      "Metrics logged at step 28250\n",
      "Epoch 226 Validation Loss 0.3571714162826538\n",
      "Metrics logged at step 28300\n"
     ]
    },
    {
     "name": "stderr",
     "output_type": "stream",
     "text": [
      " 76%|███████▌  | 227/300 [05:05<01:36,  1.33s/it]"
     ]
    },
    {
     "name": "stdout",
     "output_type": "stream",
     "text": [
      "Metrics logged at step 28350\n",
      "Epoch 227 Validation Loss 0.3556365370750427\n",
      "Metrics logged at step 28400\n",
      "Metrics logged at step 28450\n"
     ]
    },
    {
     "name": "stderr",
     "output_type": "stream",
     "text": [
      " 76%|███████▌  | 228/300 [05:06<01:39,  1.38s/it]"
     ]
    },
    {
     "name": "stdout",
     "output_type": "stream",
     "text": [
      "Metrics logged at step 28500\n",
      "Epoch 228 Validation Loss 0.35599905252456665\n",
      "Metrics logged at step 28550\n"
     ]
    },
    {
     "name": "stderr",
     "output_type": "stream",
     "text": [
      " 76%|███████▋  | 229/300 [05:07<01:34,  1.32s/it]"
     ]
    },
    {
     "name": "stdout",
     "output_type": "stream",
     "text": [
      "Metrics logged at step 28600\n",
      "Epoch 229 Validation Loss 0.35582172870635986\n",
      "Metrics logged at step 28650\n",
      "Metrics logged at step 28700\n"
     ]
    },
    {
     "name": "stderr",
     "output_type": "stream",
     "text": [
      " 77%|███████▋  | 230/300 [05:09<01:37,  1.39s/it]"
     ]
    },
    {
     "name": "stdout",
     "output_type": "stream",
     "text": [
      "Metrics logged at step 28750\n",
      "Epoch 230 Samples 8000 Step 124 Training Loss 0.35533320903778076\n",
      "Epoch 230 Validation Loss 0.35568302869796753\n",
      "Metrics logged at step 28800\n"
     ]
    },
    {
     "name": "stderr",
     "output_type": "stream",
     "text": [
      " 77%|███████▋  | 231/300 [05:10<01:31,  1.32s/it]"
     ]
    },
    {
     "name": "stdout",
     "output_type": "stream",
     "text": [
      "Metrics logged at step 28850\n",
      "Epoch 231 Validation Loss 0.3562111258506775\n",
      "Metrics logged at step 28900\n",
      "Metrics logged at step 28950\n"
     ]
    },
    {
     "name": "stderr",
     "output_type": "stream",
     "text": [
      " 77%|███████▋  | 232/300 [05:12<01:34,  1.39s/it]"
     ]
    },
    {
     "name": "stdout",
     "output_type": "stream",
     "text": [
      "Metrics logged at step 29000\n",
      "Epoch 232 Validation Loss 0.36016416549682617\n",
      "Metrics logged at step 29050\n"
     ]
    },
    {
     "name": "stderr",
     "output_type": "stream",
     "text": [
      " 78%|███████▊  | 233/300 [05:13<01:28,  1.32s/it]"
     ]
    },
    {
     "name": "stdout",
     "output_type": "stream",
     "text": [
      "Metrics logged at step 29100\n",
      "Epoch 233 Validation Loss 0.3554549813270569\n",
      "Metrics logged at step 29150\n",
      "Metrics logged at step 29200\n"
     ]
    },
    {
     "name": "stderr",
     "output_type": "stream",
     "text": [
      " 78%|███████▊  | 234/300 [05:14<01:32,  1.40s/it]"
     ]
    },
    {
     "name": "stdout",
     "output_type": "stream",
     "text": [
      "Metrics logged at step 29250\n",
      "Epoch 234 Validation Loss 0.3560754656791687\n",
      "Metrics logged at step 29300\n"
     ]
    },
    {
     "name": "stderr",
     "output_type": "stream",
     "text": [
      " 78%|███████▊  | 235/300 [05:16<01:27,  1.34s/it]"
     ]
    },
    {
     "name": "stdout",
     "output_type": "stream",
     "text": [
      "Metrics logged at step 29350\n",
      "Epoch 235 Validation Loss 0.3605402410030365\n",
      "Metrics logged at step 29400\n",
      "Metrics logged at step 29450\n"
     ]
    },
    {
     "name": "stderr",
     "output_type": "stream",
     "text": [
      " 79%|███████▊  | 236/300 [05:17<01:30,  1.41s/it]"
     ]
    },
    {
     "name": "stdout",
     "output_type": "stream",
     "text": [
      "Metrics logged at step 29500\n",
      "Epoch 236 Validation Loss 0.3553486764431\n",
      "Metrics logged at step 29550\n"
     ]
    },
    {
     "name": "stderr",
     "output_type": "stream",
     "text": [
      " 79%|███████▉  | 237/300 [05:18<01:24,  1.35s/it]"
     ]
    },
    {
     "name": "stdout",
     "output_type": "stream",
     "text": [
      "Metrics logged at step 29600\n",
      "Epoch 237 Validation Loss 0.35594475269317627\n",
      "Metrics logged at step 29650\n",
      "Metrics logged at step 29700\n"
     ]
    },
    {
     "name": "stderr",
     "output_type": "stream",
     "text": [
      " 79%|███████▉  | 238/300 [05:20<01:26,  1.40s/it]"
     ]
    },
    {
     "name": "stdout",
     "output_type": "stream",
     "text": [
      "Metrics logged at step 29750\n",
      "Epoch 238 Validation Loss 0.3551426827907562\n",
      "Metrics logged at step 29800\n"
     ]
    },
    {
     "name": "stderr",
     "output_type": "stream",
     "text": [
      " 80%|███████▉  | 239/300 [05:21<01:20,  1.33s/it]"
     ]
    },
    {
     "name": "stdout",
     "output_type": "stream",
     "text": [
      "Metrics logged at step 29850\n",
      "Epoch 239 Validation Loss 0.35566410422325134\n",
      "Metrics logged at step 29900\n",
      "Metrics logged at step 29950\n"
     ]
    },
    {
     "name": "stderr",
     "output_type": "stream",
     "text": [
      " 80%|████████  | 240/300 [05:23<01:24,  1.40s/it]"
     ]
    },
    {
     "name": "stdout",
     "output_type": "stream",
     "text": [
      "Metrics logged at step 30000\n",
      "Epoch 240 Samples 8000 Step 124 Training Loss 0.3576368987560272\n",
      "Epoch 240 Validation Loss 0.3548661768436432\n",
      "Metrics logged at step 30050\n"
     ]
    },
    {
     "name": "stderr",
     "output_type": "stream",
     "text": [
      " 80%|████████  | 241/300 [05:24<01:18,  1.33s/it]"
     ]
    },
    {
     "name": "stdout",
     "output_type": "stream",
     "text": [
      "Metrics logged at step 30100\n",
      "Epoch 241 Validation Loss 0.355026513338089\n",
      "Metrics logged at step 30150\n",
      "Metrics logged at step 30200\n"
     ]
    },
    {
     "name": "stderr",
     "output_type": "stream",
     "text": [
      " 81%|████████  | 242/300 [05:25<01:20,  1.39s/it]"
     ]
    },
    {
     "name": "stdout",
     "output_type": "stream",
     "text": [
      "Metrics logged at step 30250\n",
      "Epoch 242 Validation Loss 0.3546552360057831\n",
      "Metrics logged at step 30300\n"
     ]
    },
    {
     "name": "stderr",
     "output_type": "stream",
     "text": [
      " 81%|████████  | 243/300 [05:26<01:15,  1.32s/it]"
     ]
    },
    {
     "name": "stdout",
     "output_type": "stream",
     "text": [
      "Metrics logged at step 30350\n",
      "Epoch 243 Validation Loss 0.35837894678115845\n",
      "Metrics logged at step 30400\n",
      "Metrics logged at step 30450\n"
     ]
    },
    {
     "name": "stderr",
     "output_type": "stream",
     "text": [
      " 81%|████████▏ | 244/300 [05:28<01:17,  1.38s/it]"
     ]
    },
    {
     "name": "stdout",
     "output_type": "stream",
     "text": [
      "Metrics logged at step 30500\n",
      "Epoch 244 Validation Loss 0.35690897703170776\n",
      "Metrics logged at step 30550\n"
     ]
    },
    {
     "name": "stderr",
     "output_type": "stream",
     "text": [
      " 82%|████████▏ | 245/300 [05:29<01:12,  1.31s/it]"
     ]
    },
    {
     "name": "stdout",
     "output_type": "stream",
     "text": [
      "Metrics logged at step 30600\n",
      "Epoch 245 Validation Loss 0.3566432297229767\n",
      "Metrics logged at step 30650\n",
      "Metrics logged at step 30700\n"
     ]
    },
    {
     "name": "stderr",
     "output_type": "stream",
     "text": [
      " 82%|████████▏ | 246/300 [05:31<01:14,  1.38s/it]"
     ]
    },
    {
     "name": "stdout",
     "output_type": "stream",
     "text": [
      "Metrics logged at step 30750\n",
      "Epoch 246 Validation Loss 0.35531067848205566\n",
      "Metrics logged at step 30800\n"
     ]
    },
    {
     "name": "stderr",
     "output_type": "stream",
     "text": [
      " 82%|████████▏ | 247/300 [05:32<01:09,  1.32s/it]"
     ]
    },
    {
     "name": "stdout",
     "output_type": "stream",
     "text": [
      "Metrics logged at step 30850\n",
      "Epoch 247 Validation Loss 0.35557791590690613\n",
      "Metrics logged at step 30900\n",
      "Metrics logged at step 30950\n"
     ]
    },
    {
     "name": "stderr",
     "output_type": "stream",
     "text": [
      " 83%|████████▎ | 248/300 [05:33<01:11,  1.37s/it]"
     ]
    },
    {
     "name": "stdout",
     "output_type": "stream",
     "text": [
      "Metrics logged at step 31000\n",
      "Epoch 248 Validation Loss 0.3546641767024994\n",
      "Metrics logged at step 31050\n"
     ]
    },
    {
     "name": "stderr",
     "output_type": "stream",
     "text": [
      " 83%|████████▎ | 249/300 [05:35<01:06,  1.31s/it]"
     ]
    },
    {
     "name": "stdout",
     "output_type": "stream",
     "text": [
      "Metrics logged at step 31100\n",
      "Epoch 249 Validation Loss 0.35575607419013977\n",
      "Metrics logged at step 31150\n",
      "Metrics logged at step 31200\n"
     ]
    },
    {
     "name": "stderr",
     "output_type": "stream",
     "text": [
      " 83%|████████▎ | 250/300 [05:36<01:09,  1.38s/it]"
     ]
    },
    {
     "name": "stdout",
     "output_type": "stream",
     "text": [
      "Metrics logged at step 31250\n",
      "Epoch 250 Samples 8000 Step 124 Training Loss 0.36306872963905334\n",
      "Epoch 250 Validation Loss 0.3542323410511017\n",
      "Metrics logged at step 31300\n"
     ]
    },
    {
     "name": "stderr",
     "output_type": "stream",
     "text": [
      " 84%|████████▎ | 251/300 [05:37<01:04,  1.31s/it]"
     ]
    },
    {
     "name": "stdout",
     "output_type": "stream",
     "text": [
      "Metrics logged at step 31350\n",
      "Epoch 251 Validation Loss 0.3545711934566498\n",
      "Metrics logged at step 31400\n",
      "Metrics logged at step 31450\n"
     ]
    },
    {
     "name": "stderr",
     "output_type": "stream",
     "text": [
      " 84%|████████▍ | 252/300 [05:39<01:05,  1.37s/it]"
     ]
    },
    {
     "name": "stdout",
     "output_type": "stream",
     "text": [
      "Metrics logged at step 31500\n",
      "Epoch 252 Validation Loss 0.3543447256088257\n",
      "Metrics logged at step 31550\n"
     ]
    },
    {
     "name": "stderr",
     "output_type": "stream",
     "text": [
      " 84%|████████▍ | 253/300 [05:40<01:00,  1.30s/it]"
     ]
    },
    {
     "name": "stdout",
     "output_type": "stream",
     "text": [
      "Metrics logged at step 31600\n",
      "Epoch 253 Validation Loss 0.3545474410057068\n",
      "Metrics logged at step 31650\n",
      "Metrics logged at step 31700\n"
     ]
    },
    {
     "name": "stderr",
     "output_type": "stream",
     "text": [
      " 85%|████████▍ | 254/300 [05:41<01:02,  1.37s/it]"
     ]
    },
    {
     "name": "stdout",
     "output_type": "stream",
     "text": [
      "Metrics logged at step 31750\n",
      "Epoch 254 Validation Loss 0.35421231389045715\n",
      "Metrics logged at step 31800\n"
     ]
    },
    {
     "name": "stderr",
     "output_type": "stream",
     "text": [
      " 85%|████████▌ | 255/300 [05:43<00:58,  1.30s/it]"
     ]
    },
    {
     "name": "stdout",
     "output_type": "stream",
     "text": [
      "Metrics logged at step 31850\n",
      "Epoch 255 Validation Loss 0.3560428321361542\n",
      "Metrics logged at step 31900\n",
      "Metrics logged at step 31950\n"
     ]
    },
    {
     "name": "stderr",
     "output_type": "stream",
     "text": [
      " 85%|████████▌ | 256/300 [05:44<00:59,  1.35s/it]"
     ]
    },
    {
     "name": "stdout",
     "output_type": "stream",
     "text": [
      "Metrics logged at step 32000\n",
      "Epoch 256 Validation Loss 0.3542933762073517\n",
      "Metrics logged at step 32050\n"
     ]
    },
    {
     "name": "stderr",
     "output_type": "stream",
     "text": [
      " 86%|████████▌ | 257/300 [05:45<00:55,  1.29s/it]"
     ]
    },
    {
     "name": "stdout",
     "output_type": "stream",
     "text": [
      "Metrics logged at step 32100\n",
      "Epoch 257 Validation Loss 0.35392552614212036\n",
      "Metrics logged at step 32150\n",
      "Metrics logged at step 32200\n"
     ]
    },
    {
     "name": "stderr",
     "output_type": "stream",
     "text": [
      " 86%|████████▌ | 258/300 [05:47<00:56,  1.35s/it]"
     ]
    },
    {
     "name": "stdout",
     "output_type": "stream",
     "text": [
      "Metrics logged at step 32250\n",
      "Epoch 258 Validation Loss 0.35402712225914\n",
      "Metrics logged at step 32300\n"
     ]
    },
    {
     "name": "stderr",
     "output_type": "stream",
     "text": [
      " 86%|████████▋ | 259/300 [05:48<00:52,  1.28s/it]"
     ]
    },
    {
     "name": "stdout",
     "output_type": "stream",
     "text": [
      "Metrics logged at step 32350\n",
      "Epoch 259 Validation Loss 0.3538067936897278\n",
      "Metrics logged at step 32400\n",
      "Metrics logged at step 32450\n"
     ]
    },
    {
     "name": "stderr",
     "output_type": "stream",
     "text": [
      " 87%|████████▋ | 260/300 [05:49<00:54,  1.36s/it]"
     ]
    },
    {
     "name": "stdout",
     "output_type": "stream",
     "text": [
      "Metrics logged at step 32500\n",
      "Epoch 260 Samples 8000 Step 124 Training Loss 0.3550519645214081\n",
      "Epoch 260 Validation Loss 0.3539664149284363\n",
      "Metrics logged at step 32550\n"
     ]
    },
    {
     "name": "stderr",
     "output_type": "stream",
     "text": [
      " 87%|████████▋ | 261/300 [05:50<00:50,  1.30s/it]"
     ]
    },
    {
     "name": "stdout",
     "output_type": "stream",
     "text": [
      "Metrics logged at step 32600\n",
      "Epoch 261 Validation Loss 0.3553483486175537\n",
      "Metrics logged at step 32650\n",
      "Metrics logged at step 32700\n"
     ]
    },
    {
     "name": "stderr",
     "output_type": "stream",
     "text": [
      " 87%|████████▋ | 262/300 [05:52<00:51,  1.37s/it]"
     ]
    },
    {
     "name": "stdout",
     "output_type": "stream",
     "text": [
      "Metrics logged at step 32750\n",
      "Epoch 262 Validation Loss 0.3538373112678528\n",
      "Metrics logged at step 32800\n"
     ]
    },
    {
     "name": "stderr",
     "output_type": "stream",
     "text": [
      " 88%|████████▊ | 263/300 [05:53<00:47,  1.29s/it]"
     ]
    },
    {
     "name": "stdout",
     "output_type": "stream",
     "text": [
      "Metrics logged at step 32850\n",
      "Epoch 263 Validation Loss 0.35513681173324585\n",
      "Metrics logged at step 32900\n",
      "Metrics logged at step 32950\n"
     ]
    },
    {
     "name": "stderr",
     "output_type": "stream",
     "text": [
      " 88%|████████▊ | 264/300 [05:55<00:48,  1.35s/it]"
     ]
    },
    {
     "name": "stdout",
     "output_type": "stream",
     "text": [
      "Metrics logged at step 33000\n",
      "Epoch 264 Validation Loss 0.35387474298477173\n",
      "Metrics logged at step 33050\n"
     ]
    },
    {
     "name": "stderr",
     "output_type": "stream",
     "text": [
      " 88%|████████▊ | 265/300 [05:56<00:44,  1.28s/it]"
     ]
    },
    {
     "name": "stdout",
     "output_type": "stream",
     "text": [
      "Metrics logged at step 33100\n",
      "Epoch 265 Validation Loss 0.3538859486579895\n",
      "Metrics logged at step 33150\n",
      "Metrics logged at step 33200\n"
     ]
    },
    {
     "name": "stderr",
     "output_type": "stream",
     "text": [
      " 89%|████████▊ | 266/300 [05:57<00:46,  1.36s/it]"
     ]
    },
    {
     "name": "stdout",
     "output_type": "stream",
     "text": [
      "Metrics logged at step 33250\n",
      "Epoch 266 Validation Loss 0.3537311553955078\n",
      "Metrics logged at step 33300\n"
     ]
    },
    {
     "name": "stderr",
     "output_type": "stream",
     "text": [
      " 89%|████████▉ | 267/300 [05:58<00:42,  1.30s/it]"
     ]
    },
    {
     "name": "stdout",
     "output_type": "stream",
     "text": [
      "Metrics logged at step 33350\n",
      "Epoch 267 Validation Loss 0.3536449074745178\n",
      "Metrics logged at step 33400\n",
      "Metrics logged at step 33450\n"
     ]
    },
    {
     "name": "stderr",
     "output_type": "stream",
     "text": [
      " 89%|████████▉ | 268/300 [06:00<00:43,  1.36s/it]"
     ]
    },
    {
     "name": "stdout",
     "output_type": "stream",
     "text": [
      "Metrics logged at step 33500\n",
      "Epoch 268 Validation Loss 0.3543393909931183\n",
      "Metrics logged at step 33550\n"
     ]
    },
    {
     "name": "stderr",
     "output_type": "stream",
     "text": [
      " 90%|████████▉ | 269/300 [06:01<00:40,  1.29s/it]"
     ]
    },
    {
     "name": "stdout",
     "output_type": "stream",
     "text": [
      "Metrics logged at step 33600\n",
      "Epoch 269 Validation Loss 0.36103111505508423\n",
      "Metrics logged at step 33650\n",
      "Metrics logged at step 33700\n"
     ]
    },
    {
     "name": "stderr",
     "output_type": "stream",
     "text": [
      " 90%|█████████ | 270/300 [06:03<00:41,  1.37s/it]"
     ]
    },
    {
     "name": "stdout",
     "output_type": "stream",
     "text": [
      "Metrics logged at step 33750\n",
      "Epoch 270 Samples 8000 Step 124 Training Loss 0.34412261843681335\n",
      "Epoch 270 Validation Loss 0.3551189601421356\n",
      "Metrics logged at step 33800\n"
     ]
    },
    {
     "name": "stderr",
     "output_type": "stream",
     "text": [
      " 90%|█████████ | 271/300 [06:04<00:37,  1.31s/it]"
     ]
    },
    {
     "name": "stdout",
     "output_type": "stream",
     "text": [
      "Metrics logged at step 33850\n",
      "Epoch 271 Validation Loss 0.3551393747329712\n",
      "Metrics logged at step 33900\n",
      "Metrics logged at step 33950\n"
     ]
    },
    {
     "name": "stderr",
     "output_type": "stream",
     "text": [
      " 91%|█████████ | 272/300 [06:05<00:38,  1.37s/it]"
     ]
    },
    {
     "name": "stdout",
     "output_type": "stream",
     "text": [
      "Metrics logged at step 34000\n",
      "Epoch 272 Validation Loss 0.35589703917503357\n",
      "Metrics logged at step 34050\n"
     ]
    },
    {
     "name": "stderr",
     "output_type": "stream",
     "text": [
      " 91%|█████████ | 273/300 [06:06<00:35,  1.30s/it]"
     ]
    },
    {
     "name": "stdout",
     "output_type": "stream",
     "text": [
      "Metrics logged at step 34100\n",
      "Epoch 273 Validation Loss 0.3543388843536377\n",
      "Metrics logged at step 34150\n",
      "Metrics logged at step 34200\n"
     ]
    },
    {
     "name": "stderr",
     "output_type": "stream",
     "text": [
      " 91%|█████████▏| 274/300 [06:08<00:35,  1.36s/it]"
     ]
    },
    {
     "name": "stdout",
     "output_type": "stream",
     "text": [
      "Metrics logged at step 34250\n",
      "Epoch 274 Validation Loss 0.35362669825553894\n",
      "Metrics logged at step 34300\n"
     ]
    },
    {
     "name": "stderr",
     "output_type": "stream",
     "text": [
      " 92%|█████████▏| 275/300 [06:09<00:32,  1.29s/it]"
     ]
    },
    {
     "name": "stdout",
     "output_type": "stream",
     "text": [
      "Metrics logged at step 34350\n",
      "Epoch 275 Validation Loss 0.3536641001701355\n",
      "Metrics logged at step 34400\n",
      "Metrics logged at step 34450\n"
     ]
    },
    {
     "name": "stderr",
     "output_type": "stream",
     "text": [
      " 92%|█████████▏| 276/300 [06:11<00:32,  1.36s/it]"
     ]
    },
    {
     "name": "stdout",
     "output_type": "stream",
     "text": [
      "Metrics logged at step 34500\n",
      "Epoch 276 Validation Loss 0.35564109683036804\n",
      "Metrics logged at step 34550\n"
     ]
    },
    {
     "name": "stderr",
     "output_type": "stream",
     "text": [
      " 92%|█████████▏| 277/300 [06:12<00:29,  1.30s/it]"
     ]
    },
    {
     "name": "stdout",
     "output_type": "stream",
     "text": [
      "Metrics logged at step 34600\n",
      "Epoch 277 Validation Loss 0.3549920320510864\n",
      "Metrics logged at step 34650\n",
      "Metrics logged at step 34700\n"
     ]
    },
    {
     "name": "stderr",
     "output_type": "stream",
     "text": [
      " 93%|█████████▎| 278/300 [06:13<00:29,  1.35s/it]"
     ]
    },
    {
     "name": "stdout",
     "output_type": "stream",
     "text": [
      "Metrics logged at step 34750\n",
      "Epoch 278 Validation Loss 0.35387787222862244\n",
      "Metrics logged at step 34800\n"
     ]
    },
    {
     "name": "stderr",
     "output_type": "stream",
     "text": [
      " 93%|█████████▎| 279/300 [06:14<00:27,  1.29s/it]"
     ]
    },
    {
     "name": "stdout",
     "output_type": "stream",
     "text": [
      "Metrics logged at step 34850\n",
      "Epoch 279 Validation Loss 0.35445690155029297\n",
      "Metrics logged at step 34900\n",
      "Metrics logged at step 34950\n"
     ]
    },
    {
     "name": "stderr",
     "output_type": "stream",
     "text": [
      " 93%|█████████▎| 280/300 [06:16<00:26,  1.35s/it]"
     ]
    },
    {
     "name": "stdout",
     "output_type": "stream",
     "text": [
      "Metrics logged at step 35000\n",
      "Epoch 280 Samples 8000 Step 124 Training Loss 0.3531079590320587\n",
      "Epoch 280 Validation Loss 0.35340309143066406\n",
      "Metrics logged at step 35050\n"
     ]
    },
    {
     "name": "stderr",
     "output_type": "stream",
     "text": [
      " 94%|█████████▎| 281/300 [06:17<00:24,  1.28s/it]"
     ]
    },
    {
     "name": "stdout",
     "output_type": "stream",
     "text": [
      "Metrics logged at step 35100\n",
      "Epoch 281 Validation Loss 0.353516548871994\n",
      "Metrics logged at step 35150\n",
      "Metrics logged at step 35200\n"
     ]
    },
    {
     "name": "stderr",
     "output_type": "stream",
     "text": [
      " 94%|█████████▍| 282/300 [06:18<00:24,  1.34s/it]"
     ]
    },
    {
     "name": "stdout",
     "output_type": "stream",
     "text": [
      "Metrics logged at step 35250\n",
      "Epoch 282 Validation Loss 0.35383209586143494\n",
      "Metrics logged at step 35300\n"
     ]
    },
    {
     "name": "stderr",
     "output_type": "stream",
     "text": [
      " 94%|█████████▍| 283/300 [06:20<00:21,  1.28s/it]"
     ]
    },
    {
     "name": "stdout",
     "output_type": "stream",
     "text": [
      "Metrics logged at step 35350\n",
      "Epoch 283 Validation Loss 0.35863175988197327\n",
      "Metrics logged at step 35400\n",
      "Metrics logged at step 35450\n"
     ]
    },
    {
     "name": "stderr",
     "output_type": "stream",
     "text": [
      " 95%|█████████▍| 284/300 [06:21<00:21,  1.35s/it]"
     ]
    },
    {
     "name": "stdout",
     "output_type": "stream",
     "text": [
      "Metrics logged at step 35500\n",
      "Epoch 284 Validation Loss 0.35374119877815247\n",
      "Metrics logged at step 35550\n"
     ]
    },
    {
     "name": "stderr",
     "output_type": "stream",
     "text": [
      " 95%|█████████▌| 285/300 [06:22<00:19,  1.28s/it]"
     ]
    },
    {
     "name": "stdout",
     "output_type": "stream",
     "text": [
      "Metrics logged at step 35600\n",
      "Epoch 285 Validation Loss 0.35439029335975647\n",
      "Metrics logged at step 35650\n",
      "Metrics logged at step 35700\n"
     ]
    },
    {
     "name": "stderr",
     "output_type": "stream",
     "text": [
      " 95%|█████████▌| 286/300 [06:24<00:18,  1.35s/it]"
     ]
    },
    {
     "name": "stdout",
     "output_type": "stream",
     "text": [
      "Metrics logged at step 35750\n",
      "Epoch 286 Validation Loss 0.3533124327659607\n",
      "Metrics logged at step 35800\n"
     ]
    },
    {
     "name": "stderr",
     "output_type": "stream",
     "text": [
      " 96%|█████████▌| 287/300 [06:25<00:16,  1.30s/it]"
     ]
    },
    {
     "name": "stdout",
     "output_type": "stream",
     "text": [
      "Metrics logged at step 35850\n",
      "Epoch 287 Validation Loss 0.3596552312374115\n",
      "Metrics logged at step 35900\n",
      "Metrics logged at step 35950\n"
     ]
    },
    {
     "name": "stderr",
     "output_type": "stream",
     "text": [
      " 96%|█████████▌| 288/300 [06:26<00:16,  1.37s/it]"
     ]
    },
    {
     "name": "stdout",
     "output_type": "stream",
     "text": [
      "Metrics logged at step 36000\n",
      "Epoch 288 Validation Loss 0.3536078631877899\n",
      "Metrics logged at step 36050\n"
     ]
    },
    {
     "name": "stderr",
     "output_type": "stream",
     "text": [
      " 96%|█████████▋| 289/300 [06:28<00:14,  1.30s/it]"
     ]
    },
    {
     "name": "stdout",
     "output_type": "stream",
     "text": [
      "Metrics logged at step 36100\n",
      "Epoch 289 Validation Loss 0.3539471924304962\n",
      "Metrics logged at step 36150\n",
      "Metrics logged at step 36200\n"
     ]
    },
    {
     "name": "stderr",
     "output_type": "stream",
     "text": [
      " 97%|█████████▋| 290/300 [06:29<00:13,  1.38s/it]"
     ]
    },
    {
     "name": "stdout",
     "output_type": "stream",
     "text": [
      "Metrics logged at step 36250\n",
      "Epoch 290 Samples 8000 Step 124 Training Loss 0.3593418598175049\n",
      "Epoch 290 Validation Loss 0.35487669706344604\n",
      "Metrics logged at step 36300\n"
     ]
    },
    {
     "name": "stderr",
     "output_type": "stream",
     "text": [
      " 97%|█████████▋| 291/300 [06:30<00:11,  1.33s/it]"
     ]
    },
    {
     "name": "stdout",
     "output_type": "stream",
     "text": [
      "Metrics logged at step 36350\n",
      "Epoch 291 Validation Loss 0.35332542657852173\n",
      "Metrics logged at step 36400\n",
      "Metrics logged at step 36450\n"
     ]
    },
    {
     "name": "stderr",
     "output_type": "stream",
     "text": [
      " 97%|█████████▋| 292/300 [06:32<00:11,  1.40s/it]"
     ]
    },
    {
     "name": "stdout",
     "output_type": "stream",
     "text": [
      "Metrics logged at step 36500\n",
      "Epoch 292 Validation Loss 0.3531942069530487\n",
      "Metrics logged at step 36550\n"
     ]
    },
    {
     "name": "stderr",
     "output_type": "stream",
     "text": [
      " 98%|█████████▊| 293/300 [06:33<00:09,  1.32s/it]"
     ]
    },
    {
     "name": "stdout",
     "output_type": "stream",
     "text": [
      "Metrics logged at step 36600\n",
      "Epoch 293 Validation Loss 0.3538035452365875\n",
      "Metrics logged at step 36650\n",
      "Metrics logged at step 36700\n"
     ]
    },
    {
     "name": "stderr",
     "output_type": "stream",
     "text": [
      " 98%|█████████▊| 294/300 [06:35<00:08,  1.37s/it]"
     ]
    },
    {
     "name": "stdout",
     "output_type": "stream",
     "text": [
      "Metrics logged at step 36750\n",
      "Epoch 294 Validation Loss 0.3544653356075287\n",
      "Metrics logged at step 36800\n"
     ]
    },
    {
     "name": "stderr",
     "output_type": "stream",
     "text": [
      " 98%|█████████▊| 295/300 [06:36<00:06,  1.30s/it]"
     ]
    },
    {
     "name": "stdout",
     "output_type": "stream",
     "text": [
      "Metrics logged at step 36850\n",
      "Epoch 295 Validation Loss 0.35376086831092834\n",
      "Metrics logged at step 36900\n",
      "Metrics logged at step 36950\n"
     ]
    },
    {
     "name": "stderr",
     "output_type": "stream",
     "text": [
      " 99%|█████████▊| 296/300 [06:37<00:05,  1.36s/it]"
     ]
    },
    {
     "name": "stdout",
     "output_type": "stream",
     "text": [
      "Metrics logged at step 37000\n",
      "Epoch 296 Validation Loss 0.35333284735679626\n",
      "Metrics logged at step 37050\n"
     ]
    },
    {
     "name": "stderr",
     "output_type": "stream",
     "text": [
      " 99%|█████████▉| 297/300 [06:38<00:03,  1.29s/it]"
     ]
    },
    {
     "name": "stdout",
     "output_type": "stream",
     "text": [
      "Metrics logged at step 37100\n",
      "Epoch 297 Validation Loss 0.35323286056518555\n",
      "Metrics logged at step 37150\n",
      "Metrics logged at step 37200\n"
     ]
    },
    {
     "name": "stderr",
     "output_type": "stream",
     "text": [
      " 99%|█████████▉| 298/300 [06:40<00:02,  1.36s/it]"
     ]
    },
    {
     "name": "stdout",
     "output_type": "stream",
     "text": [
      "Metrics logged at step 37250\n",
      "Epoch 298 Validation Loss 0.35397031903266907\n",
      "Metrics logged at step 37300\n"
     ]
    },
    {
     "name": "stderr",
     "output_type": "stream",
     "text": [
      "100%|█████████▉| 299/300 [06:41<00:01,  1.29s/it]"
     ]
    },
    {
     "name": "stdout",
     "output_type": "stream",
     "text": [
      "Metrics logged at step 37350\n",
      "Epoch 299 Validation Loss 0.35381388664245605\n",
      "Metrics logged at step 37400\n",
      "Metrics logged at step 37450\n"
     ]
    },
    {
     "name": "stderr",
     "output_type": "stream",
     "text": [
      "100%|██████████| 300/300 [06:43<00:00,  1.34s/it]\n",
      "\u001b[34m\u001b[1mwandb\u001b[0m: \u001b[32m\u001b[41mERROR\u001b[0m The nbformat package was not found. It is required to save notebook history.\n"
     ]
    },
    {
     "name": "stdout",
     "output_type": "stream",
     "text": [
      "Metrics logged at step 37500\n",
      "Epoch 300 Samples 8000 Step 124 Training Loss 0.3546093702316284\n",
      "Epoch 300 Validation Loss 0.3533763885498047\n"
     ]
    },
    {
     "data": {
      "text/html": [],
      "text/plain": [
       "<IPython.core.display.HTML object>"
      ]
     },
     "metadata": {},
     "output_type": "display_data"
    },
    {
     "data": {
      "text/html": [
       "<br>    <style><br>        .wandb-row {<br>            display: flex;<br>            flex-direction: row;<br>            flex-wrap: wrap;<br>            justify-content: flex-start;<br>            width: 100%;<br>        }<br>        .wandb-col {<br>            display: flex;<br>            flex-direction: column;<br>            flex-basis: 100%;<br>            flex: 1;<br>            padding: 10px;<br>        }<br>    </style><br><div class=\"wandb-row\"><div class=\"wandb-col\"><h3>Run history:</h3><br/><table class=\"wandb\"><tr><td>1gram_kl_model_to_true</td><td>▁▁▁▂▂▃▂▂▂▂▂▂▃▃▅▅▇▇██▇▇████▇█████████████</td></tr><tr><td>1gram_kl_true_to_model</td><td>▁▁▂▃▄▅▆▆▆▆▅▅▆▆▆▇▇▇▇▇▇▇▇▇▇▇▇▇▇▇██████████</td></tr><tr><td>2gram_kl_model_to_true</td><td>▄▂▁▁▁▁▂▂▁▂▂▃▄▅▆▇▇▇▇▇████████████████████</td></tr><tr><td>2gram_kl_true_to_model</td><td>▂▁▁▁▁▁▁▁▁▁▂▃▂▃▃▃▅▆▅▆▆▇▇▆▇▇▇▇▇▇▇█▇███████</td></tr><tr><td>3gram_kl_model_to_true</td><td>▇▇▆▆▇▃█▄▄▆▄▁▆▄▆▄▃▆▄▃▆▅▃▁▅▄▄▅▄▅▄▄▄▃▃▃▅▄▄▅</td></tr><tr><td>3gram_kl_true_to_model</td><td>▁▃▄▄▄▆▆▇▇██▇▇▇▇▆▆▆▆▆▆▆▆▆▇▇▇▇▇▇▇▇▇▇▇▇▇▇▇▇</td></tr><tr><td>avg_prev_token_matching</td><td>▁▁▁▁▁▁▁▂▂▂▂▂▃▃▃▃▅▆▆▆▇▇▇▇▇▇▇▇▇▇█▇▇███████</td></tr><tr><td>epoch</td><td>▁▁▁▁▁▂▂▂▂▂▂▂▃▃▃▄▄▄▄▄▅▅▅▅▅▅▅▅▅▆▆▆▆▆▇▇▇▇▇█</td></tr><tr><td>markov0_to_model_kl</td><td>█▆▅▅▅▅▄▄▃▃▂▂▁▁▁▁▁▁▁▁▁▁▁▁▁▁▁▁▁▁▁▁▁▁▁▁▁▁▁▁</td></tr><tr><td>model_to_markov0_kl</td><td>█▇▇▇▆▅▆▆▅▄▄▃▄▃▄▃▂▂▂▂▁▁▁▁▁▁▁▁▁▁▁▁▁▁▁▁▁▁▁▁</td></tr><tr><td>+6</td><td>...</td></tr></table><br/></div><div class=\"wandb-col\"><h3>Run summary:</h3><br/><table class=\"wandb\"><tr><td>1gram_kl_model_to_true</td><td>0.34003</td></tr><tr><td>1gram_kl_true_to_model</td><td>2.4935</td></tr><tr><td>2gram_kl_model_to_true</td><td>0.17074</td></tr><tr><td>2gram_kl_true_to_model</td><td>1.10393</td></tr><tr><td>3gram_kl_model_to_true</td><td>2.41051</td></tr><tr><td>3gram_kl_true_to_model</td><td>1.6207</td></tr><tr><td>avg_prev_token_matching</td><td>0.25091</td></tr><tr><td>epoch</td><td>300</td></tr><tr><td>markov0_to_model_kl</td><td>0.00177</td></tr><tr><td>model_to_markov0_kl</td><td>0.01022</td></tr><tr><td>+6</td><td>...</td></tr></table><br/></div></div>"
      ],
      "text/plain": [
       "<IPython.core.display.HTML object>"
      ]
     },
     "metadata": {},
     "output_type": "display_data"
    },
    {
     "data": {
      "text/html": [
       " View run <strong style=\"color:#cdcd00\">woven-firefly-20</strong> at: <a href='https://wandb.ai/jerrycloud3316-ai-club-iit-madras/ICL/runs/jhqlhg7p' target=\"_blank\">https://wandb.ai/jerrycloud3316-ai-club-iit-madras/ICL/runs/jhqlhg7p</a><br> View project at: <a href='https://wandb.ai/jerrycloud3316-ai-club-iit-madras/ICL' target=\"_blank\">https://wandb.ai/jerrycloud3316-ai-club-iit-madras/ICL</a><br>Synced 5 W&B file(s), 0 media file(s), 0 artifact file(s) and 0 other file(s)"
      ],
      "text/plain": [
       "<IPython.core.display.HTML object>"
      ]
     },
     "metadata": {},
     "output_type": "display_data"
    },
    {
     "data": {
      "text/html": [
       "Find logs at: <code>./wandb/run-20250914_145827-jhqlhg7p/logs</code>"
      ],
      "text/plain": [
       "<IPython.core.display.HTML object>"
      ]
     },
     "metadata": {},
     "output_type": "display_data"
    }
   ],
   "source": [
    "\n",
    "model = train_model(\n",
    "    dataset=dataset,\n",
    "    n_layers=1,\n",
    "    d_model=3,\n",
    "    n_heads=2, \n",
    "    attn_only=True,\n",
    "    act_fn='silu',\n",
    "\n",
    "    # Training\n",
    "    n_epochs=300,\n",
    "    batch_size=64,\n",
    "    lr=0.1,\n",
    "\n",
    "    # Logging\n",
    "    wandb=True,\n",
    "    wandb_project_name=\"ICL\",\n",
    "    save_dir=\"proc1/seq_len32/\",\n",
    "    save_every=20,\n",
    "    print_every=10,\n",
    "\n",
    "    # ALL ADVANCED METRICS ENABLED\n",
    "    metrics_config=metrics_config,\n",
    "    metrics_log_interval=20\n",
    "    )\n",
    "wandb.finish()"
   ]
  },
  {
   "cell_type": "code",
   "execution_count": null,
   "id": "af915678",
   "metadata": {},
   "outputs": [],
   "source": [
    "model=load_model(\"proc1/seq_len_30/model300.pt\",\"proc1/seq_len_30/model_cfg.pt\")\n",
    "model.eval()\n",
    "process2 = MarkovData(n_gen=1000, gen_len=30, n_states=3, d_vocab=2, T_list=[T0_proc2, T1_proc2], seed=43)\n",
    "\n"
   ]
  }
 ],
 "metadata": {
  "kernelspec": {
   "display_name": "toytrans",
   "language": "python",
   "name": "python3"
  },
  "language_info": {
   "codemirror_mode": {
    "name": "ipython",
    "version": 3
   },
   "file_extension": ".py",
   "mimetype": "text/x-python",
   "name": "python",
   "nbconvert_exporter": "python",
   "pygments_lexer": "ipython3",
   "version": "3.10.18"
  }
 },
 "nbformat": 4,
 "nbformat_minor": 5
}

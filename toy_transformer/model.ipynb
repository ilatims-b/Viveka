{
 "cells": [
  {
   "cell_type": "code",
   "execution_count": 1,
   "id": "4a55d89c",
   "metadata": {},
   "outputs": [
    {
     "name": "stderr",
     "output_type": "stream",
     "text": [
      "/opt/anaconda3/envs/toytrans/lib/python3.10/site-packages/tqdm/auto.py:21: TqdmWarning: IProgress not found. Please update jupyter and ipywidgets. See https://ipywidgets.readthedocs.io/en/stable/user_install.html\n",
      "  from .autonotebook import tqdm as notebook_tqdm\n"
     ]
    }
   ],
   "source": [
    "from toy_model import *\n",
    "from metrics import *\n",
    "import wandb\n",
    "import torch\n",
    "import numpy as np"
   ]
  },
  {
   "cell_type": "code",
   "execution_count": 2,
   "id": "09170846",
   "metadata": {},
   "outputs": [
    {
     "name": "stderr",
     "output_type": "stream",
     "text": [
      "\u001b[34m\u001b[1mwandb\u001b[0m: Currently logged in as: \u001b[33mce24b119\u001b[0m (\u001b[33mjerrycloud3316-ai-club-iit-madras\u001b[0m) to \u001b[32mhttps://api.wandb.ai\u001b[0m. Use \u001b[1m`wandb login --relogin`\u001b[0m to force relogin\n"
     ]
    },
    {
     "data": {
      "text/plain": [
       "True"
      ]
     },
     "execution_count": 2,
     "metadata": {},
     "output_type": "execute_result"
    }
   ],
   "source": [
    "\n",
    "wandb.login()"
   ]
  },
  {
   "cell_type": "code",
   "execution_count": 3,
   "id": "6e1986d4",
   "metadata": {},
   "outputs": [],
   "source": [
    "# to find kl loss between model and these processes\n",
    "T0_proc1 = np.array([\n",
    "    [0, 1, 0],\n",
    "    [0, 0, 1], \n",
    "    [0, 0, 0.5]\n",
    "])\n",
    "T1_proc1 = np.array([\n",
    "    [0, 0, 0],\n",
    "    [0, 0, 0],\n",
    "    [0.5, 0, 0]\n",
    "])\n",
    "\n",
    "# Different process\n",
    "T0_proc2 = np.array([\n",
    "    [0,1,0],\n",
    "    [0,0,0],\n",
    "    [0.5,0,0]\n",
    "])\n",
    "T1_proc2 = np.array([\n",
    "    [0,0,0],\n",
    "    [0,0,1],\n",
    "    [0.5,0,0]\n",
    "])\n",
    "T0_proc3 = np.array([\n",
    "    [0,1,0,0],\n",
    "    [0,0,0,0.5],\n",
    "    [0.5,0,0,0],\n",
    "    [0,0,0,0.5]])\n",
    "T1_proc3 = np.array([\n",
    "    [0,0,0,0],\n",
    "    [0,0,0.5,0],\n",
    "    [0.5,0,0,0],\n",
    "    [0.5,0,0,0]])   \n",
    "process1 = MarkovData(n_gen=100, gen_len=32, n_states=3, d_vocab=2, T_list=[T0_proc1, T1_proc1], seed=43)\n",
    "process2 = MarkovData(n_gen=100, gen_len=32, n_states=3, d_vocab=2, T_list=[T0_proc2, T1_proc2], seed=43)\n",
    "process3 = MarkovData(n_gen=100, gen_len=32, n_states=4, d_vocab=2, T_list=[T0_proc3, T1_proc3], seed=43)"
   ]
  },
  {
   "cell_type": "code",
   "execution_count": 11,
   "id": "ad720cae",
   "metadata": {},
   "outputs": [
    {
     "name": "stdout",
     "output_type": "stream",
     "text": [
      "{'tokens': tensor([0, 1, 0, 0, 1, 1, 0, 1, 1, 0, 1, 0, 0, 1, 1, 0, 1, 1, 0, 1, 0, 0, 1, 0,\n",
      "        0, 1, 0, 0, 1, 0, 0, 1])}\n",
      "{'tokens': tensor([0, 0, 0, 1, 0, 0, 0, 1, 0, 0, 1, 0, 0, 1, 0, 0, 1, 0, 0, 0, 0, 0, 1, 0,\n",
      "        0, 0, 0, 0, 1, 0, 0, 0])}\n",
      "{'tokens': tensor([0, 1, 0, 0, 1, 0, 0, 0, 1, 0, 0, 1, 0, 0, 1, 0, 0, 1, 0, 0, 1, 0, 0, 0,\n",
      "        1, 0, 0, 0, 0, 1, 0, 0])}\n",
      "{'tokens': tensor([1, 0, 0, 0, 0, 1, 0, 0, 0, 0, 0, 0, 0, 1, 0, 0, 0, 0, 0, 0, 0, 1, 0, 0,\n",
      "        0, 1, 0, 0, 1, 0, 0, 0])}\n",
      "{'tokens': tensor([0, 0, 0, 0, 0, 0, 1, 0, 0, 0, 0, 1, 0, 0, 0, 0, 1, 0, 0, 0, 1, 0, 0, 0,\n",
      "        1, 0, 0, 0, 0, 0, 0, 0])}\n",
      "{'tokens': tensor([1, 0, 1, 1, 0, 1, 0, 0, 1, 1, 0, 1, 1, 0, 1, 0, 0, 1, 0, 0, 1, 0, 0, 1,\n",
      "        1, 0, 1, 0, 0, 1, 1, 0])}\n",
      "{'tokens': tensor([0, 0, 1, 0, 0, 0, 0, 1, 0, 0, 1, 0, 0, 0, 1, 0, 0, 0, 0, 0, 1, 0, 0, 0,\n",
      "        0, 0, 0, 0, 1, 0, 0, 1])}\n",
      "{'tokens': tensor([0, 0, 1, 1, 0, 1, 0, 0, 1, 1, 0, 1, 1, 0, 1, 0, 0, 1, 1, 0, 1, 0, 0, 1,\n",
      "        0, 0, 1, 1, 0, 1, 1, 0])}\n",
      "{'tokens': tensor([1, 1, 0, 1, 1, 0, 1, 1, 0, 1, 1, 0, 1, 1, 0, 1, 0, 0, 1, 0, 0, 1, 0, 0,\n",
      "        1, 0, 0, 1, 1, 0, 1, 0])}\n",
      "{'tokens': tensor([0, 0, 0, 0, 0, 1, 0, 0, 0, 1, 0, 0, 1, 0, 0, 0, 1, 0, 0, 0, 0, 1, 0, 0,\n",
      "        1, 0, 0, 1, 0, 0, 1, 0])}\n"
     ]
    }
   ],
   "source": [
    "dataset1=MarkovData(n_gen=5000, gen_len=32, n_states=3, d_vocab=2, T_list=[T0_proc1, T1_proc1])\n",
    "dataset2=MarkovData(n_gen=5000, gen_len=32, n_states=3, d_vocab=2, T_list=[T0_proc2, T1_proc2])\n",
    "merged_dataset = MergeMarkovDatasets(dataset1=dataset1, dataset2=dataset2,mixing_style='random')\n",
    "for i in range (10):\n",
    "    print(merged_dataset[i])"
   ]
  },
  {
   "cell_type": "code",
   "execution_count": 19,
   "id": "cea2c906",
   "metadata": {},
   "outputs": [
    {
     "name": "stdout",
     "output_type": "stream",
     "text": [
      "{'0': 0.625671875, '1': 0.374328125} {'0': 200215, '1': 119785} 320000\n",
      "{'00': 0.3337322580645161, '01': 0.2922451612903226, '10': 0.29033870967741937, '11': 0.08368387096774194} {'00': 103457, '01': 90596, '10': 90005, '11': 25942} 310000\n",
      "{'000': 0.12573, '001': 0.20832333333333333, '010': 0.20825666666666667, '011': 0.08375, '100': 0.20673333333333332, '101': 0.08354666666666667, '110': 0.08366, '111': 0.0} {'000': 37719, '001': 62497, '010': 62477, '011': 25125, '100': 62020, '101': 25064, '110': 25098, '111': 0} 300000\n"
     ]
    }
   ],
   "source": [
    "x=torch.stack(merged_dataset.data)\n",
    "onegramfreq, onegramcounts, onegramtotal=get_ngram_stats(x, n=1)\n",
    "print(onegramfreq, onegramcounts, onegramtotal)\n",
    "twogramfreq, twogramcounts, twogramtotal=get_ngram_stats(x, n=2)\n",
    "print(twogramfreq, twogramcounts, twogramtotal)\n",
    "threegramfreq, threegramcounts, threegramtotal=get_ngram_stats(x, n=3)\n",
    "print(threegramfreq, threegramcounts, threegramtotal)\n"
   ]
  },
  {
   "cell_type": "code",
   "execution_count": null,
   "id": "b46d28b4",
   "metadata": {},
   "outputs": [],
   "source": [
    "dataset1=MarkovData(n_gen=50, gen_len=32, n_states=3, d_vocab=2, T_list=[T0_proc1, T1_proc1], seed=43)\n",
    "dataset2=MarkovData(n_gen=50, gen_len=32, n_states=3, d_vocab=2, T_list=[T0_proc2, T1_proc2], seed=43)\n",
    "test_dataset = MergeMarkovDatasets(dataset1=dataset1, dataset2=dataset2,mixing_style='random')"
   ]
  },
  {
   "cell_type": "code",
   "execution_count": null,
   "id": "0696a087",
   "metadata": {},
   "outputs": [],
   "source": [
    "\n",
    "metrics_config = MetricsConfig(\n",
    "    track_markov_kl=True,\n",
    "    markov_processes=[process1,process2,process3], \n",
    "    \n",
    "    \n",
    "    track_ngrams=True,\n",
    "    ngram_data=test_dataset,\n",
    "    ngram_orders=[1, 2, 3],\n",
    "    track_previous_token=True,\n",
    "    track_in_context=False, \n",
    "    icl_data=test_dataset,\n",
    "    icl_k1=5,\n",
    "    icl_k2=32,\n",
    "    track_composition=True,\n",
    "    track_prefix_matching=False)"
   ]
  },
  {
   "cell_type": "code",
   "execution_count": null,
   "id": "fe9ceea3",
   "metadata": {},
   "outputs": [
    {
     "data": {
      "text/html": [
       "creating run (0.2s)"
      ],
      "text/plain": [
       "<IPython.core.display.HTML object>"
      ]
     },
     "metadata": {},
     "output_type": "display_data"
    },
    {
     "data": {
      "text/html": [
       "Tracking run with wandb version 0.21.3"
      ],
      "text/plain": [
       "<IPython.core.display.HTML object>"
      ]
     },
     "metadata": {},
     "output_type": "display_data"
    },
    {
     "data": {
      "text/html": [
       "Run data is saved locally in <code>/Users/sbhandari/Documents/GitHub/Vivekafork/toy_transformer/wandb/run-20250916_163436-1nrm9b82</code>"
      ],
      "text/plain": [
       "<IPython.core.display.HTML object>"
      ]
     },
     "metadata": {},
     "output_type": "display_data"
    },
    {
     "data": {
      "text/html": [
       "Syncing run <strong><a href='https://wandb.ai/jerrycloud3316-ai-club-iit-madras/ICL/runs/1nrm9b82' target=\"_blank\">worldly-silence-46</a></strong> to <a href='https://wandb.ai/jerrycloud3316-ai-club-iit-madras/ICL' target=\"_blank\">Weights & Biases</a> (<a href='https://wandb.me/developer-guide' target=\"_blank\">docs</a>)<br>"
      ],
      "text/plain": [
       "<IPython.core.display.HTML object>"
      ]
     },
     "metadata": {},
     "output_type": "display_data"
    },
    {
     "data": {
      "text/html": [
       " View project at <a href='https://wandb.ai/jerrycloud3316-ai-club-iit-madras/ICL' target=\"_blank\">https://wandb.ai/jerrycloud3316-ai-club-iit-madras/ICL</a>"
      ],
      "text/plain": [
       "<IPython.core.display.HTML object>"
      ]
     },
     "metadata": {},
     "output_type": "display_data"
    },
    {
     "data": {
      "text/html": [
       " View run at <a href='https://wandb.ai/jerrycloud3316-ai-club-iit-madras/ICL/runs/1nrm9b82' target=\"_blank\">https://wandb.ai/jerrycloud3316-ai-club-iit-madras/ICL/runs/1nrm9b82</a>"
      ],
      "text/plain": [
       "<IPython.core.display.HTML object>"
      ]
     },
     "metadata": {},
     "output_type": "display_data"
    },
    {
     "name": "stdout",
     "output_type": "stream",
     "text": [
      "Moving model to device:  cpu\n"
     ]
    },
    {
     "name": "stderr",
     "output_type": "stream",
     "text": [
      "  0%|          | 0/300 [00:00<?, ?it/s]"
     ]
    },
    {
     "name": "stdout",
     "output_type": "stream",
     "text": [
      "Metrics logged at step 50\n"
     ]
    },
    {
     "name": "stderr",
     "output_type": "stream",
     "text": [
      "  0%|          | 1/300 [00:01<05:56,  1.19s/it]"
     ]
    },
    {
     "name": "stdout",
     "output_type": "stream",
     "text": [
      "Metrics logged at step 100\n",
      "Epoch 1 Validation Loss 0.6199098825454712\n",
      "Metrics logged at step 150\n",
      "Metrics logged at step 200\n"
     ]
    },
    {
     "name": "stderr",
     "output_type": "stream",
     "text": [
      "  1%|          | 2/300 [00:02<06:21,  1.28s/it]"
     ]
    },
    {
     "name": "stdout",
     "output_type": "stream",
     "text": [
      "Metrics logged at step 250\n",
      "Epoch 2 Validation Loss 0.6135309934616089\n",
      "Metrics logged at step 300\n"
     ]
    },
    {
     "name": "stderr",
     "output_type": "stream",
     "text": [
      "  1%|          | 3/300 [00:03<05:55,  1.20s/it]"
     ]
    },
    {
     "name": "stdout",
     "output_type": "stream",
     "text": [
      "Metrics logged at step 350\n",
      "Epoch 3 Validation Loss 0.6108759045600891\n",
      "Metrics logged at step 400\n",
      "Metrics logged at step 450\n"
     ]
    },
    {
     "name": "stderr",
     "output_type": "stream",
     "text": [
      "  1%|▏         | 4/300 [00:04<06:09,  1.25s/it]"
     ]
    },
    {
     "name": "stdout",
     "output_type": "stream",
     "text": [
      "Metrics logged at step 500\n",
      "Epoch 4 Validation Loss 0.6090666055679321\n",
      "Metrics logged at step 550\n"
     ]
    },
    {
     "name": "stderr",
     "output_type": "stream",
     "text": [
      "  2%|▏         | 5/300 [00:06<05:58,  1.21s/it]"
     ]
    },
    {
     "name": "stdout",
     "output_type": "stream",
     "text": [
      "Metrics logged at step 600\n",
      "Epoch 5 Validation Loss 0.6074416041374207\n",
      "Metrics logged at step 650\n",
      "Metrics logged at step 700\n"
     ]
    },
    {
     "name": "stderr",
     "output_type": "stream",
     "text": [
      "  2%|▏         | 6/300 [00:07<06:14,  1.27s/it]"
     ]
    },
    {
     "name": "stdout",
     "output_type": "stream",
     "text": [
      "Metrics logged at step 750\n",
      "Epoch 6 Validation Loss 0.6049429178237915\n",
      "Metrics logged at step 800\n"
     ]
    },
    {
     "name": "stderr",
     "output_type": "stream",
     "text": [
      "  2%|▏         | 7/300 [00:08<06:00,  1.23s/it]"
     ]
    },
    {
     "name": "stdout",
     "output_type": "stream",
     "text": [
      "Metrics logged at step 850\n",
      "Epoch 7 Validation Loss 0.6037068367004395\n",
      "Metrics logged at step 900\n",
      "Metrics logged at step 950\n"
     ]
    },
    {
     "name": "stderr",
     "output_type": "stream",
     "text": [
      "  3%|▎         | 8/300 [00:10<06:13,  1.28s/it]"
     ]
    },
    {
     "name": "stdout",
     "output_type": "stream",
     "text": [
      "Metrics logged at step 1000\n",
      "Epoch 8 Validation Loss 0.6022303700447083\n",
      "Metrics logged at step 1050\n"
     ]
    },
    {
     "name": "stderr",
     "output_type": "stream",
     "text": [
      "  3%|▎         | 9/300 [00:11<06:01,  1.24s/it]"
     ]
    },
    {
     "name": "stdout",
     "output_type": "stream",
     "text": [
      "Metrics logged at step 1100\n",
      "Epoch 9 Validation Loss 0.6008881330490112\n",
      "Metrics logged at step 1150\n",
      "Metrics logged at step 1200\n"
     ]
    },
    {
     "name": "stderr",
     "output_type": "stream",
     "text": [
      "  3%|▎         | 10/300 [00:12<06:13,  1.29s/it]"
     ]
    },
    {
     "name": "stdout",
     "output_type": "stream",
     "text": [
      "Metrics logged at step 1250\n",
      "Epoch 10 Samples 8000 Step 124 Training Loss 0.5948415398597717\n",
      "Epoch 10 Validation Loss 0.5998282432556152\n",
      "Metrics logged at step 1300\n"
     ]
    },
    {
     "name": "stderr",
     "output_type": "stream",
     "text": [
      "  4%|▎         | 11/300 [00:13<05:59,  1.24s/it]"
     ]
    },
    {
     "name": "stdout",
     "output_type": "stream",
     "text": [
      "Metrics logged at step 1350\n",
      "Epoch 11 Validation Loss 0.5990265607833862\n",
      "Metrics logged at step 1400\n",
      "Metrics logged at step 1450\n"
     ]
    },
    {
     "name": "stderr",
     "output_type": "stream",
     "text": [
      "  4%|▍         | 12/300 [00:15<06:07,  1.28s/it]"
     ]
    },
    {
     "name": "stdout",
     "output_type": "stream",
     "text": [
      "Metrics logged at step 1500\n",
      "Epoch 12 Validation Loss 0.5972264409065247\n",
      "Metrics logged at step 1550\n"
     ]
    },
    {
     "name": "stderr",
     "output_type": "stream",
     "text": [
      "  4%|▍         | 13/300 [00:16<05:49,  1.22s/it]"
     ]
    },
    {
     "name": "stdout",
     "output_type": "stream",
     "text": [
      "Metrics logged at step 1600\n",
      "Epoch 13 Validation Loss 0.5963765382766724\n",
      "Metrics logged at step 1650\n",
      "Metrics logged at step 1700\n"
     ]
    },
    {
     "name": "stderr",
     "output_type": "stream",
     "text": [
      "  5%|▍         | 14/300 [00:17<05:55,  1.24s/it]"
     ]
    },
    {
     "name": "stdout",
     "output_type": "stream",
     "text": [
      "Metrics logged at step 1750\n",
      "Epoch 14 Validation Loss 0.5941533446311951\n",
      "Metrics logged at step 1800\n"
     ]
    },
    {
     "name": "stderr",
     "output_type": "stream",
     "text": [
      "  5%|▌         | 15/300 [00:18<05:59,  1.26s/it]"
     ]
    },
    {
     "name": "stdout",
     "output_type": "stream",
     "text": [
      "Metrics logged at step 1850\n",
      "Epoch 15 Validation Loss 0.5929219722747803\n",
      "Metrics logged at step 1900\n",
      "Metrics logged at step 1950\n"
     ]
    },
    {
     "name": "stderr",
     "output_type": "stream",
     "text": [
      "  5%|▌         | 16/300 [00:20<06:06,  1.29s/it]"
     ]
    },
    {
     "name": "stdout",
     "output_type": "stream",
     "text": [
      "Metrics logged at step 2000\n",
      "Epoch 16 Validation Loss 0.5897904634475708\n",
      "Metrics logged at step 2050\n"
     ]
    },
    {
     "name": "stderr",
     "output_type": "stream",
     "text": [
      "  6%|▌         | 17/300 [00:21<05:50,  1.24s/it]"
     ]
    },
    {
     "name": "stdout",
     "output_type": "stream",
     "text": [
      "Metrics logged at step 2100\n",
      "Epoch 17 Validation Loss 0.5951628684997559\n",
      "Metrics logged at step 2150\n",
      "Metrics logged at step 2200\n"
     ]
    },
    {
     "name": "stderr",
     "output_type": "stream",
     "text": [
      "  6%|▌         | 18/300 [00:22<05:55,  1.26s/it]"
     ]
    },
    {
     "name": "stdout",
     "output_type": "stream",
     "text": [
      "Metrics logged at step 2250\n",
      "Epoch 18 Validation Loss 0.5807477235794067\n",
      "Metrics logged at step 2300\n"
     ]
    },
    {
     "name": "stderr",
     "output_type": "stream",
     "text": [
      "  6%|▋         | 19/300 [00:23<05:41,  1.22s/it]"
     ]
    },
    {
     "name": "stdout",
     "output_type": "stream",
     "text": [
      "Metrics logged at step 2350\n",
      "Epoch 19 Validation Loss 0.5737786293029785\n",
      "Metrics logged at step 2400\n",
      "Metrics logged at step 2450\n"
     ]
    },
    {
     "name": "stderr",
     "output_type": "stream",
     "text": [
      "  7%|▋         | 20/300 [00:25<06:01,  1.29s/it]"
     ]
    },
    {
     "name": "stdout",
     "output_type": "stream",
     "text": [
      "Metrics logged at step 2500\n",
      "Epoch 20 Samples 8000 Step 124 Training Loss 0.5661609768867493\n",
      "Epoch 20 Validation Loss 0.5657788515090942\n",
      "Metrics logged at step 2550\n"
     ]
    },
    {
     "name": "stderr",
     "output_type": "stream",
     "text": [
      "  7%|▋         | 21/300 [00:26<05:43,  1.23s/it]"
     ]
    },
    {
     "name": "stdout",
     "output_type": "stream",
     "text": [
      "Metrics logged at step 2600\n",
      "Epoch 21 Validation Loss 0.5565927624702454\n",
      "Metrics logged at step 2650\n",
      "Metrics logged at step 2700\n"
     ]
    },
    {
     "name": "stderr",
     "output_type": "stream",
     "text": [
      "  7%|▋         | 22/300 [00:27<05:49,  1.26s/it]"
     ]
    },
    {
     "name": "stdout",
     "output_type": "stream",
     "text": [
      "Metrics logged at step 2750\n",
      "Epoch 22 Validation Loss 0.5415573120117188\n",
      "Metrics logged at step 2800\n"
     ]
    },
    {
     "name": "stderr",
     "output_type": "stream",
     "text": [
      "  8%|▊         | 23/300 [00:28<05:39,  1.22s/it]"
     ]
    },
    {
     "name": "stdout",
     "output_type": "stream",
     "text": [
      "Metrics logged at step 2850\n",
      "Epoch 23 Validation Loss 0.5343241095542908\n",
      "Metrics logged at step 2900\n",
      "Metrics logged at step 2950\n"
     ]
    },
    {
     "name": "stderr",
     "output_type": "stream",
     "text": [
      "  8%|▊         | 24/300 [00:30<05:49,  1.26s/it]"
     ]
    },
    {
     "name": "stdout",
     "output_type": "stream",
     "text": [
      "Metrics logged at step 3000\n",
      "Epoch 24 Validation Loss 0.5174992084503174\n",
      "Metrics logged at step 3050\n"
     ]
    },
    {
     "name": "stderr",
     "output_type": "stream",
     "text": [
      "  8%|▊         | 25/300 [00:31<05:42,  1.24s/it]"
     ]
    },
    {
     "name": "stdout",
     "output_type": "stream",
     "text": [
      "Metrics logged at step 3100\n",
      "Epoch 25 Validation Loss 0.4968896806240082\n",
      "Metrics logged at step 3150\n",
      "Metrics logged at step 3200\n"
     ]
    },
    {
     "name": "stderr",
     "output_type": "stream",
     "text": [
      "  9%|▊         | 26/300 [00:32<05:47,  1.27s/it]"
     ]
    },
    {
     "name": "stdout",
     "output_type": "stream",
     "text": [
      "Metrics logged at step 3250\n",
      "Epoch 26 Validation Loss 0.46759676933288574\n",
      "Metrics logged at step 3300\n"
     ]
    },
    {
     "name": "stderr",
     "output_type": "stream",
     "text": [
      "  9%|▉         | 27/300 [00:33<05:34,  1.22s/it]"
     ]
    },
    {
     "name": "stdout",
     "output_type": "stream",
     "text": [
      "Metrics logged at step 3350\n",
      "Epoch 27 Validation Loss 0.46450570225715637\n",
      "Metrics logged at step 3400\n",
      "Metrics logged at step 3450\n"
     ]
    },
    {
     "name": "stderr",
     "output_type": "stream",
     "text": [
      "  9%|▉         | 28/300 [00:35<05:45,  1.27s/it]"
     ]
    },
    {
     "name": "stdout",
     "output_type": "stream",
     "text": [
      "Metrics logged at step 3500\n",
      "Epoch 28 Validation Loss 0.4614952802658081\n",
      "Metrics logged at step 3550\n"
     ]
    },
    {
     "name": "stderr",
     "output_type": "stream",
     "text": [
      " 10%|▉         | 29/300 [00:36<05:33,  1.23s/it]"
     ]
    },
    {
     "name": "stdout",
     "output_type": "stream",
     "text": [
      "Metrics logged at step 3600\n",
      "Epoch 29 Validation Loss 0.4215279221534729\n",
      "Metrics logged at step 3650\n",
      "Metrics logged at step 3700\n"
     ]
    },
    {
     "name": "stderr",
     "output_type": "stream",
     "text": [
      " 10%|█         | 30/300 [00:37<05:40,  1.26s/it]"
     ]
    },
    {
     "name": "stdout",
     "output_type": "stream",
     "text": [
      "Metrics logged at step 3750\n",
      "Epoch 30 Samples 8000 Step 124 Training Loss 0.42353203892707825\n",
      "Epoch 30 Validation Loss 0.4260813891887665\n",
      "Metrics logged at step 3800\n"
     ]
    },
    {
     "name": "stderr",
     "output_type": "stream",
     "text": [
      " 10%|█         | 31/300 [00:38<05:37,  1.25s/it]"
     ]
    },
    {
     "name": "stdout",
     "output_type": "stream",
     "text": [
      "Metrics logged at step 3850\n",
      "Epoch 31 Validation Loss 0.4165981113910675\n",
      "Metrics logged at step 3900\n",
      "Metrics logged at step 3950\n"
     ]
    },
    {
     "name": "stderr",
     "output_type": "stream",
     "text": [
      " 11%|█         | 32/300 [00:40<05:46,  1.29s/it]"
     ]
    },
    {
     "name": "stdout",
     "output_type": "stream",
     "text": [
      "Metrics logged at step 4000\n",
      "Epoch 32 Validation Loss 0.40608829259872437\n",
      "Metrics logged at step 4050\n"
     ]
    },
    {
     "name": "stderr",
     "output_type": "stream",
     "text": [
      " 11%|█         | 33/300 [00:41<05:37,  1.26s/it]"
     ]
    },
    {
     "name": "stdout",
     "output_type": "stream",
     "text": [
      "Metrics logged at step 4100\n",
      "Epoch 33 Validation Loss 0.4191288352012634\n",
      "Metrics logged at step 4150\n",
      "Metrics logged at step 4200\n"
     ]
    },
    {
     "name": "stderr",
     "output_type": "stream",
     "text": [
      " 11%|█▏        | 34/300 [00:42<05:42,  1.29s/it]"
     ]
    },
    {
     "name": "stdout",
     "output_type": "stream",
     "text": [
      "Metrics logged at step 4250\n",
      "Epoch 34 Validation Loss 0.40299513936042786\n",
      "Metrics logged at step 4300\n",
      "Metrics logged at step 4350\n"
     ]
    },
    {
     "name": "stderr",
     "output_type": "stream",
     "text": [
      " 12%|█▏        | 35/300 [00:44<05:42,  1.29s/it]"
     ]
    },
    {
     "name": "stdout",
     "output_type": "stream",
     "text": [
      "Epoch 35 Validation Loss 0.4076525568962097\n",
      "Metrics logged at step 4400\n",
      "Metrics logged at step 4450\n"
     ]
    },
    {
     "name": "stderr",
     "output_type": "stream",
     "text": [
      " 12%|█▏        | 36/300 [00:45<06:02,  1.37s/it]"
     ]
    },
    {
     "name": "stdout",
     "output_type": "stream",
     "text": [
      "Metrics logged at step 4500\n",
      "Epoch 36 Validation Loss 0.3968893587589264\n",
      "Metrics logged at step 4550\n"
     ]
    },
    {
     "name": "stderr",
     "output_type": "stream",
     "text": [
      " 12%|█▏        | 37/300 [00:46<05:42,  1.30s/it]"
     ]
    },
    {
     "name": "stdout",
     "output_type": "stream",
     "text": [
      "Metrics logged at step 4600\n",
      "Epoch 37 Validation Loss 0.387259840965271\n",
      "Metrics logged at step 4650\n",
      "Metrics logged at step 4700\n"
     ]
    },
    {
     "name": "stderr",
     "output_type": "stream",
     "text": [
      " 13%|█▎        | 38/300 [00:48<05:51,  1.34s/it]"
     ]
    },
    {
     "name": "stdout",
     "output_type": "stream",
     "text": [
      "Metrics logged at step 4750\n",
      "Epoch 38 Validation Loss 0.3847280442714691\n",
      "Metrics logged at step 4800\n"
     ]
    },
    {
     "name": "stderr",
     "output_type": "stream",
     "text": [
      " 13%|█▎        | 39/300 [00:49<05:33,  1.28s/it]"
     ]
    },
    {
     "name": "stdout",
     "output_type": "stream",
     "text": [
      "Metrics logged at step 4850\n",
      "Epoch 39 Validation Loss 0.3828597664833069\n",
      "Metrics logged at step 4900\n",
      "Metrics logged at step 4950\n"
     ]
    },
    {
     "name": "stderr",
     "output_type": "stream",
     "text": [
      " 13%|█▎        | 40/300 [00:50<05:45,  1.33s/it]"
     ]
    },
    {
     "name": "stdout",
     "output_type": "stream",
     "text": [
      "Metrics logged at step 5000\n",
      "Epoch 40 Samples 8000 Step 124 Training Loss 0.38407114148139954\n",
      "Epoch 40 Validation Loss 0.38955751061439514\n",
      "Metrics logged at step 5050\n"
     ]
    },
    {
     "name": "stderr",
     "output_type": "stream",
     "text": [
      " 14%|█▎        | 41/300 [00:51<05:29,  1.27s/it]"
     ]
    },
    {
     "name": "stdout",
     "output_type": "stream",
     "text": [
      "Metrics logged at step 5100\n",
      "Epoch 41 Validation Loss 0.3810516595840454\n",
      "Metrics logged at step 5150\n",
      "Metrics logged at step 5200\n"
     ]
    },
    {
     "name": "stderr",
     "output_type": "stream",
     "text": [
      " 14%|█▍        | 42/300 [00:53<05:46,  1.34s/it]"
     ]
    },
    {
     "name": "stdout",
     "output_type": "stream",
     "text": [
      "Metrics logged at step 5250\n",
      "Epoch 42 Validation Loss 0.37944939732551575\n",
      "Metrics logged at step 5300\n"
     ]
    },
    {
     "name": "stderr",
     "output_type": "stream",
     "text": [
      " 14%|█▍        | 43/300 [00:54<05:32,  1.30s/it]"
     ]
    },
    {
     "name": "stdout",
     "output_type": "stream",
     "text": [
      "Metrics logged at step 5350\n",
      "Epoch 43 Validation Loss 0.38099294900894165\n",
      "Metrics logged at step 5400\n",
      "Metrics logged at step 5450\n"
     ]
    },
    {
     "name": "stderr",
     "output_type": "stream",
     "text": [
      " 15%|█▍        | 44/300 [00:55<05:35,  1.31s/it]"
     ]
    },
    {
     "name": "stdout",
     "output_type": "stream",
     "text": [
      "Metrics logged at step 5500\n",
      "Epoch 44 Validation Loss 0.38496649265289307\n",
      "Metrics logged at step 5550\n"
     ]
    },
    {
     "name": "stderr",
     "output_type": "stream",
     "text": [
      " 15%|█▌        | 45/300 [00:57<05:23,  1.27s/it]"
     ]
    },
    {
     "name": "stdout",
     "output_type": "stream",
     "text": [
      "Metrics logged at step 5600\n",
      "Epoch 45 Validation Loss 0.37709468603134155\n",
      "Metrics logged at step 5650\n",
      "Metrics logged at step 5700\n"
     ]
    },
    {
     "name": "stderr",
     "output_type": "stream",
     "text": [
      " 15%|█▌        | 46/300 [00:58<05:30,  1.30s/it]"
     ]
    },
    {
     "name": "stdout",
     "output_type": "stream",
     "text": [
      "Metrics logged at step 5750\n",
      "Epoch 46 Validation Loss 0.3740633726119995\n",
      "Metrics logged at step 5800\n"
     ]
    },
    {
     "name": "stderr",
     "output_type": "stream",
     "text": [
      " 16%|█▌        | 47/300 [00:59<05:13,  1.24s/it]"
     ]
    },
    {
     "name": "stdout",
     "output_type": "stream",
     "text": [
      "Metrics logged at step 5850\n",
      "Epoch 47 Validation Loss 0.37286055088043213\n",
      "Metrics logged at step 5900\n",
      "Metrics logged at step 5950\n"
     ]
    },
    {
     "name": "stderr",
     "output_type": "stream",
     "text": [
      " 16%|█▌        | 48/300 [01:00<05:21,  1.28s/it]"
     ]
    },
    {
     "name": "stdout",
     "output_type": "stream",
     "text": [
      "Metrics logged at step 6000\n",
      "Epoch 48 Validation Loss 0.3863409161567688\n",
      "Metrics logged at step 6050\n"
     ]
    },
    {
     "name": "stderr",
     "output_type": "stream",
     "text": [
      " 16%|█▋        | 49/300 [01:02<05:15,  1.26s/it]"
     ]
    },
    {
     "name": "stdout",
     "output_type": "stream",
     "text": [
      "Metrics logged at step 6100\n",
      "Epoch 49 Validation Loss 0.3738131821155548\n",
      "Metrics logged at step 6150\n",
      "Metrics logged at step 6200\n"
     ]
    },
    {
     "name": "stderr",
     "output_type": "stream",
     "text": [
      " 17%|█▋        | 50/300 [01:03<05:21,  1.29s/it]"
     ]
    },
    {
     "name": "stdout",
     "output_type": "stream",
     "text": [
      "Metrics logged at step 6250\n",
      "Epoch 50 Samples 8000 Step 124 Training Loss 0.37399929761886597\n",
      "Epoch 50 Validation Loss 0.3701985478401184\n",
      "Metrics logged at step 6300\n"
     ]
    },
    {
     "name": "stderr",
     "output_type": "stream",
     "text": [
      " 17%|█▋        | 51/300 [01:04<05:06,  1.23s/it]"
     ]
    },
    {
     "name": "stdout",
     "output_type": "stream",
     "text": [
      "Metrics logged at step 6350\n",
      "Epoch 51 Validation Loss 0.3700709342956543\n",
      "Metrics logged at step 6400\n",
      "Metrics logged at step 6450\n"
     ]
    },
    {
     "name": "stderr",
     "output_type": "stream",
     "text": [
      " 17%|█▋        | 52/300 [01:05<05:12,  1.26s/it]"
     ]
    },
    {
     "name": "stdout",
     "output_type": "stream",
     "text": [
      "Metrics logged at step 6500\n",
      "Epoch 52 Validation Loss 0.37199175357818604\n",
      "Metrics logged at step 6550\n"
     ]
    },
    {
     "name": "stderr",
     "output_type": "stream",
     "text": [
      " 18%|█▊        | 53/300 [01:07<05:00,  1.21s/it]"
     ]
    },
    {
     "name": "stdout",
     "output_type": "stream",
     "text": [
      "Metrics logged at step 6600\n",
      "Epoch 53 Validation Loss 0.3796396255493164\n",
      "Metrics logged at step 6650\n",
      "Metrics logged at step 6700\n"
     ]
    },
    {
     "name": "stderr",
     "output_type": "stream",
     "text": [
      " 18%|█▊        | 54/300 [01:08<05:11,  1.27s/it]"
     ]
    },
    {
     "name": "stdout",
     "output_type": "stream",
     "text": [
      "Metrics logged at step 6750\n",
      "Epoch 54 Validation Loss 0.37271130084991455\n",
      "Metrics logged at step 6800\n"
     ]
    },
    {
     "name": "stderr",
     "output_type": "stream",
     "text": [
      " 18%|█▊        | 55/300 [01:09<04:58,  1.22s/it]"
     ]
    },
    {
     "name": "stdout",
     "output_type": "stream",
     "text": [
      "Metrics logged at step 6850\n",
      "Epoch 55 Validation Loss 0.3669215738773346\n",
      "Metrics logged at step 6900\n",
      "Metrics logged at step 6950\n"
     ]
    },
    {
     "name": "stderr",
     "output_type": "stream",
     "text": [
      " 19%|█▊        | 56/300 [01:10<05:16,  1.30s/it]"
     ]
    },
    {
     "name": "stdout",
     "output_type": "stream",
     "text": [
      "Metrics logged at step 7000\n",
      "Epoch 56 Validation Loss 0.3682982623577118\n",
      "Metrics logged at step 7050\n"
     ]
    },
    {
     "name": "stderr",
     "output_type": "stream",
     "text": [
      " 19%|█▉        | 57/300 [01:12<05:03,  1.25s/it]"
     ]
    },
    {
     "name": "stdout",
     "output_type": "stream",
     "text": [
      "Metrics logged at step 7100\n",
      "Epoch 57 Validation Loss 0.3686441481113434\n",
      "Metrics logged at step 7150\n",
      "Metrics logged at step 7200\n"
     ]
    },
    {
     "name": "stderr",
     "output_type": "stream",
     "text": [
      " 19%|█▉        | 58/300 [01:13<05:09,  1.28s/it]"
     ]
    },
    {
     "name": "stdout",
     "output_type": "stream",
     "text": [
      "Metrics logged at step 7250\n",
      "Epoch 58 Validation Loss 0.37230783700942993\n",
      "Metrics logged at step 7300\n"
     ]
    },
    {
     "name": "stderr",
     "output_type": "stream",
     "text": [
      " 20%|█▉        | 59/300 [01:14<04:55,  1.23s/it]"
     ]
    },
    {
     "name": "stdout",
     "output_type": "stream",
     "text": [
      "Metrics logged at step 7350\n",
      "Epoch 59 Validation Loss 0.3672730326652527\n",
      "Metrics logged at step 7400\n",
      "Metrics logged at step 7450\n"
     ]
    },
    {
     "name": "stderr",
     "output_type": "stream",
     "text": [
      " 20%|██        | 60/300 [01:15<05:02,  1.26s/it]"
     ]
    },
    {
     "name": "stdout",
     "output_type": "stream",
     "text": [
      "Metrics logged at step 7500\n",
      "Epoch 60 Samples 8000 Step 124 Training Loss 0.37382763624191284\n",
      "Epoch 60 Validation Loss 0.3640826940536499\n",
      "Metrics logged at step 7550\n"
     ]
    },
    {
     "name": "stderr",
     "output_type": "stream",
     "text": [
      " 20%|██        | 61/300 [01:17<04:51,  1.22s/it]"
     ]
    },
    {
     "name": "stdout",
     "output_type": "stream",
     "text": [
      "Metrics logged at step 7600\n",
      "Epoch 61 Validation Loss 0.36359646916389465\n",
      "Metrics logged at step 7650\n",
      "Metrics logged at step 7700\n"
     ]
    },
    {
     "name": "stderr",
     "output_type": "stream",
     "text": [
      " 21%|██        | 62/300 [01:18<04:58,  1.25s/it]"
     ]
    },
    {
     "name": "stdout",
     "output_type": "stream",
     "text": [
      "Metrics logged at step 7750\n",
      "Epoch 62 Validation Loss 0.3642159104347229\n",
      "Metrics logged at step 7800\n"
     ]
    },
    {
     "name": "stderr",
     "output_type": "stream",
     "text": [
      " 21%|██        | 63/300 [01:19<04:53,  1.24s/it]"
     ]
    },
    {
     "name": "stdout",
     "output_type": "stream",
     "text": [
      "Metrics logged at step 7850\n",
      "Epoch 63 Validation Loss 0.3738427460193634\n",
      "Metrics logged at step 7900\n",
      "Metrics logged at step 7950\n"
     ]
    },
    {
     "name": "stderr",
     "output_type": "stream",
     "text": [
      " 21%|██▏       | 64/300 [01:20<05:04,  1.29s/it]"
     ]
    },
    {
     "name": "stdout",
     "output_type": "stream",
     "text": [
      "Metrics logged at step 8000\n",
      "Epoch 64 Validation Loss 0.3699709475040436\n",
      "Metrics logged at step 8050\n",
      "Metrics logged at step 8100\n"
     ]
    },
    {
     "name": "stderr",
     "output_type": "stream",
     "text": [
      " 22%|██▏       | 65/300 [01:22<04:56,  1.26s/it]"
     ]
    },
    {
     "name": "stdout",
     "output_type": "stream",
     "text": [
      "Epoch 65 Validation Loss 0.3646237254142761\n",
      "Metrics logged at step 8150\n",
      "Metrics logged at step 8200\n"
     ]
    },
    {
     "name": "stderr",
     "output_type": "stream",
     "text": [
      " 22%|██▏       | 66/300 [01:23<05:03,  1.30s/it]"
     ]
    },
    {
     "name": "stdout",
     "output_type": "stream",
     "text": [
      "Metrics logged at step 8250\n",
      "Epoch 66 Validation Loss 0.3708663284778595\n",
      "Metrics logged at step 8300\n"
     ]
    },
    {
     "name": "stderr",
     "output_type": "stream",
     "text": [
      " 22%|██▏       | 67/300 [01:24<04:51,  1.25s/it]"
     ]
    },
    {
     "name": "stdout",
     "output_type": "stream",
     "text": [
      "Metrics logged at step 8350\n",
      "Epoch 67 Validation Loss 0.36051392555236816\n",
      "Metrics logged at step 8400\n",
      "Metrics logged at step 8450\n"
     ]
    },
    {
     "name": "stderr",
     "output_type": "stream",
     "text": [
      " 23%|██▎       | 68/300 [01:26<04:57,  1.28s/it]"
     ]
    },
    {
     "name": "stdout",
     "output_type": "stream",
     "text": [
      "Metrics logged at step 8500\n",
      "Epoch 68 Validation Loss 0.36006686091423035\n",
      "Metrics logged at step 8550\n"
     ]
    },
    {
     "name": "stderr",
     "output_type": "stream",
     "text": [
      " 23%|██▎       | 69/300 [01:27<04:45,  1.24s/it]"
     ]
    },
    {
     "name": "stdout",
     "output_type": "stream",
     "text": [
      "Metrics logged at step 8600\n",
      "Epoch 69 Validation Loss 0.35901933908462524\n",
      "Metrics logged at step 8650\n",
      "Metrics logged at step 8700\n"
     ]
    },
    {
     "name": "stderr",
     "output_type": "stream",
     "text": [
      " 23%|██▎       | 70/300 [01:28<04:52,  1.27s/it]"
     ]
    },
    {
     "name": "stdout",
     "output_type": "stream",
     "text": [
      "Metrics logged at step 8750\n",
      "Epoch 70 Samples 8000 Step 124 Training Loss 0.3831825852394104\n",
      "Epoch 70 Validation Loss 0.36862242221832275\n",
      "Metrics logged at step 8800\n"
     ]
    },
    {
     "name": "stderr",
     "output_type": "stream",
     "text": [
      " 24%|██▎       | 71/300 [01:29<04:41,  1.23s/it]"
     ]
    },
    {
     "name": "stdout",
     "output_type": "stream",
     "text": [
      "Metrics logged at step 8850\n",
      "Epoch 71 Validation Loss 0.3588791787624359\n",
      "Metrics logged at step 8900\n",
      "Metrics logged at step 8950\n"
     ]
    },
    {
     "name": "stderr",
     "output_type": "stream",
     "text": [
      " 24%|██▍       | 72/300 [01:31<04:52,  1.28s/it]"
     ]
    },
    {
     "name": "stdout",
     "output_type": "stream",
     "text": [
      "Metrics logged at step 9000\n",
      "Epoch 72 Validation Loss 0.35693126916885376\n",
      "Metrics logged at step 9050\n"
     ]
    },
    {
     "name": "stderr",
     "output_type": "stream",
     "text": [
      " 24%|██▍       | 73/300 [01:32<04:46,  1.26s/it]"
     ]
    },
    {
     "name": "stdout",
     "output_type": "stream",
     "text": [
      "Metrics logged at step 9100\n",
      "Epoch 73 Validation Loss 0.356964647769928\n",
      "Metrics logged at step 9150\n",
      "Metrics logged at step 9200\n"
     ]
    },
    {
     "name": "stderr",
     "output_type": "stream",
     "text": [
      " 25%|██▍       | 74/300 [01:33<04:51,  1.29s/it]"
     ]
    },
    {
     "name": "stdout",
     "output_type": "stream",
     "text": [
      "Metrics logged at step 9250\n",
      "Epoch 74 Validation Loss 0.3590252697467804\n",
      "Metrics logged at step 9300\n"
     ]
    },
    {
     "name": "stderr",
     "output_type": "stream",
     "text": [
      " 25%|██▌       | 75/300 [01:34<04:39,  1.24s/it]"
     ]
    },
    {
     "name": "stdout",
     "output_type": "stream",
     "text": [
      "Metrics logged at step 9350\n",
      "Epoch 75 Validation Loss 0.3543531894683838\n",
      "Metrics logged at step 9400\n",
      "Metrics logged at step 9450\n"
     ]
    },
    {
     "name": "stderr",
     "output_type": "stream",
     "text": [
      " 25%|██▌       | 76/300 [01:36<04:45,  1.28s/it]"
     ]
    },
    {
     "name": "stdout",
     "output_type": "stream",
     "text": [
      "Metrics logged at step 9500\n",
      "Epoch 76 Validation Loss 0.3527611196041107\n",
      "Metrics logged at step 9550\n"
     ]
    },
    {
     "name": "stderr",
     "output_type": "stream",
     "text": [
      " 26%|██▌       | 77/300 [01:37<04:34,  1.23s/it]"
     ]
    },
    {
     "name": "stdout",
     "output_type": "stream",
     "text": [
      "Metrics logged at step 9600\n",
      "Epoch 77 Validation Loss 0.35374337434768677\n",
      "Metrics logged at step 9650\n",
      "Metrics logged at step 9700\n"
     ]
    },
    {
     "name": "stderr",
     "output_type": "stream",
     "text": [
      " 26%|██▌       | 78/300 [01:38<04:40,  1.27s/it]"
     ]
    },
    {
     "name": "stdout",
     "output_type": "stream",
     "text": [
      "Metrics logged at step 9750\n",
      "Epoch 78 Validation Loss 0.3519928753376007\n",
      "Metrics logged at step 9800\n"
     ]
    },
    {
     "name": "stderr",
     "output_type": "stream",
     "text": [
      " 26%|██▋       | 79/300 [01:39<04:33,  1.24s/it]"
     ]
    },
    {
     "name": "stdout",
     "output_type": "stream",
     "text": [
      "Metrics logged at step 9850\n",
      "Epoch 79 Validation Loss 0.3760291039943695\n",
      "Metrics logged at step 9900\n",
      "Metrics logged at step 9950\n"
     ]
    },
    {
     "name": "stderr",
     "output_type": "stream",
     "text": [
      " 27%|██▋       | 80/300 [01:41<04:57,  1.35s/it]"
     ]
    },
    {
     "name": "stdout",
     "output_type": "stream",
     "text": [
      "Metrics logged at step 10000\n",
      "Epoch 80 Samples 8000 Step 124 Training Loss 0.3474735617637634\n",
      "Epoch 80 Validation Loss 0.3509519398212433\n",
      "Metrics logged at step 10050\n"
     ]
    },
    {
     "name": "stderr",
     "output_type": "stream",
     "text": [
      " 27%|██▋       | 81/300 [01:42<04:46,  1.31s/it]"
     ]
    },
    {
     "name": "stdout",
     "output_type": "stream",
     "text": [
      "Metrics logged at step 10100\n",
      "Epoch 81 Validation Loss 0.3610394597053528\n",
      "Metrics logged at step 10150\n",
      "Metrics logged at step 10200\n"
     ]
    },
    {
     "name": "stderr",
     "output_type": "stream",
     "text": [
      " 27%|██▋       | 82/300 [01:43<04:47,  1.32s/it]"
     ]
    },
    {
     "name": "stdout",
     "output_type": "stream",
     "text": [
      "Metrics logged at step 10250\n",
      "Epoch 82 Validation Loss 0.35079634189605713\n",
      "Metrics logged at step 10300\n"
     ]
    },
    {
     "name": "stderr",
     "output_type": "stream",
     "text": [
      " 28%|██▊       | 83/300 [01:45<04:32,  1.26s/it]"
     ]
    },
    {
     "name": "stdout",
     "output_type": "stream",
     "text": [
      "Metrics logged at step 10350\n",
      "Epoch 83 Validation Loss 0.34846433997154236\n",
      "Metrics logged at step 10400\n",
      "Metrics logged at step 10450\n"
     ]
    },
    {
     "name": "stderr",
     "output_type": "stream",
     "text": [
      " 28%|██▊       | 84/300 [01:46<04:36,  1.28s/it]"
     ]
    },
    {
     "name": "stdout",
     "output_type": "stream",
     "text": [
      "Metrics logged at step 10500\n",
      "Epoch 84 Validation Loss 0.35236144065856934\n",
      "Metrics logged at step 10550\n"
     ]
    },
    {
     "name": "stderr",
     "output_type": "stream",
     "text": [
      " 28%|██▊       | 85/300 [01:47<04:23,  1.22s/it]"
     ]
    },
    {
     "name": "stdout",
     "output_type": "stream",
     "text": [
      "Metrics logged at step 10600\n",
      "Epoch 85 Validation Loss 0.35615983605384827\n",
      "Metrics logged at step 10650\n",
      "Metrics logged at step 10700\n"
     ]
    },
    {
     "name": "stderr",
     "output_type": "stream",
     "text": [
      " 29%|██▊       | 86/300 [01:48<04:31,  1.27s/it]"
     ]
    },
    {
     "name": "stdout",
     "output_type": "stream",
     "text": [
      "Metrics logged at step 10750\n",
      "Epoch 86 Validation Loss 0.3494279086589813\n",
      "Metrics logged at step 10800\n"
     ]
    },
    {
     "name": "stderr",
     "output_type": "stream",
     "text": [
      " 29%|██▉       | 87/300 [01:49<04:20,  1.22s/it]"
     ]
    },
    {
     "name": "stdout",
     "output_type": "stream",
     "text": [
      "Metrics logged at step 10850\n",
      "Epoch 87 Validation Loss 0.35538148880004883\n",
      "Metrics logged at step 10900\n",
      "Metrics logged at step 10950\n"
     ]
    },
    {
     "name": "stderr",
     "output_type": "stream",
     "text": [
      " 29%|██▉       | 88/300 [01:51<04:27,  1.26s/it]"
     ]
    },
    {
     "name": "stdout",
     "output_type": "stream",
     "text": [
      "Metrics logged at step 11000\n",
      "Epoch 88 Validation Loss 0.35128486156463623\n",
      "Metrics logged at step 11050\n"
     ]
    },
    {
     "name": "stderr",
     "output_type": "stream",
     "text": [
      " 30%|██▉       | 89/300 [01:52<04:18,  1.23s/it]"
     ]
    },
    {
     "name": "stdout",
     "output_type": "stream",
     "text": [
      "Metrics logged at step 11100\n",
      "Epoch 89 Validation Loss 0.3478398621082306\n",
      "Metrics logged at step 11150\n",
      "Metrics logged at step 11200\n"
     ]
    },
    {
     "name": "stderr",
     "output_type": "stream",
     "text": [
      " 30%|███       | 90/300 [01:53<04:27,  1.27s/it]"
     ]
    },
    {
     "name": "stdout",
     "output_type": "stream",
     "text": [
      "Metrics logged at step 11250\n",
      "Epoch 90 Samples 8000 Step 124 Training Loss 0.33798032999038696\n",
      "Epoch 90 Validation Loss 0.3452658951282501\n",
      "Metrics logged at step 11300\n"
     ]
    },
    {
     "name": "stderr",
     "output_type": "stream",
     "text": [
      " 30%|███       | 91/300 [01:55<04:22,  1.26s/it]"
     ]
    },
    {
     "name": "stdout",
     "output_type": "stream",
     "text": [
      "Metrics logged at step 11350\n",
      "Epoch 91 Validation Loss 0.3419290781021118\n",
      "Metrics logged at step 11400\n",
      "Metrics logged at step 11450\n"
     ]
    },
    {
     "name": "stderr",
     "output_type": "stream",
     "text": [
      " 31%|███       | 92/300 [01:56<04:25,  1.28s/it]"
     ]
    },
    {
     "name": "stdout",
     "output_type": "stream",
     "text": [
      "Metrics logged at step 11500\n",
      "Epoch 92 Validation Loss 0.3422602117061615\n",
      "Metrics logged at step 11550\n"
     ]
    },
    {
     "name": "stderr",
     "output_type": "stream",
     "text": [
      " 31%|███       | 93/300 [01:57<04:14,  1.23s/it]"
     ]
    },
    {
     "name": "stdout",
     "output_type": "stream",
     "text": [
      "Metrics logged at step 11600\n",
      "Epoch 93 Validation Loss 0.3693200647830963\n",
      "Metrics logged at step 11650\n",
      "Metrics logged at step 11700\n"
     ]
    },
    {
     "name": "stderr",
     "output_type": "stream",
     "text": [
      " 31%|███▏      | 94/300 [01:58<04:19,  1.26s/it]"
     ]
    },
    {
     "name": "stdout",
     "output_type": "stream",
     "text": [
      "Metrics logged at step 11750\n",
      "Epoch 94 Validation Loss 0.3565066456794739\n",
      "Metrics logged at step 11800\n"
     ]
    },
    {
     "name": "stderr",
     "output_type": "stream",
     "text": [
      " 32%|███▏      | 95/300 [01:59<04:09,  1.22s/it]"
     ]
    },
    {
     "name": "stdout",
     "output_type": "stream",
     "text": [
      "Metrics logged at step 11850\n",
      "Epoch 95 Validation Loss 0.34752213954925537\n",
      "Metrics logged at step 11900\n",
      "Metrics logged at step 11950\n"
     ]
    },
    {
     "name": "stderr",
     "output_type": "stream",
     "text": [
      " 32%|███▏      | 96/300 [02:01<04:17,  1.26s/it]"
     ]
    },
    {
     "name": "stdout",
     "output_type": "stream",
     "text": [
      "Metrics logged at step 12000\n",
      "Epoch 96 Validation Loss 0.33823513984680176\n",
      "Metrics logged at step 12050\n"
     ]
    },
    {
     "name": "stderr",
     "output_type": "stream",
     "text": [
      " 32%|███▏      | 97/300 [02:02<04:11,  1.24s/it]"
     ]
    },
    {
     "name": "stdout",
     "output_type": "stream",
     "text": [
      "Metrics logged at step 12100\n",
      "Epoch 97 Validation Loss 0.3403010964393616\n",
      "Metrics logged at step 12150\n",
      "Metrics logged at step 12200\n"
     ]
    },
    {
     "name": "stderr",
     "output_type": "stream",
     "text": [
      " 33%|███▎      | 98/300 [02:03<04:20,  1.29s/it]"
     ]
    },
    {
     "name": "stdout",
     "output_type": "stream",
     "text": [
      "Metrics logged at step 12250\n",
      "Epoch 98 Validation Loss 0.3346840441226959\n",
      "Metrics logged at step 12300\n"
     ]
    },
    {
     "name": "stderr",
     "output_type": "stream",
     "text": [
      " 33%|███▎      | 99/300 [02:05<04:11,  1.25s/it]"
     ]
    },
    {
     "name": "stdout",
     "output_type": "stream",
     "text": [
      "Metrics logged at step 12350\n",
      "Epoch 99 Validation Loss 0.33253005146980286\n",
      "Metrics logged at step 12400\n",
      "Metrics logged at step 12450\n"
     ]
    },
    {
     "name": "stderr",
     "output_type": "stream",
     "text": [
      " 33%|███▎      | 100/300 [02:06<04:21,  1.31s/it]"
     ]
    },
    {
     "name": "stdout",
     "output_type": "stream",
     "text": [
      "Metrics logged at step 12500\n",
      "Epoch 100 Samples 8000 Step 124 Training Loss 0.32659873366355896\n",
      "Epoch 100 Validation Loss 0.3335643410682678\n",
      "Metrics logged at step 12550\n"
     ]
    },
    {
     "name": "stderr",
     "output_type": "stream",
     "text": [
      " 34%|███▎      | 101/300 [02:07<04:09,  1.25s/it]"
     ]
    },
    {
     "name": "stdout",
     "output_type": "stream",
     "text": [
      "Metrics logged at step 12600\n",
      "Epoch 101 Validation Loss 0.3316250443458557\n",
      "Metrics logged at step 12650\n",
      "Metrics logged at step 12700\n"
     ]
    },
    {
     "name": "stderr",
     "output_type": "stream",
     "text": [
      " 34%|███▍      | 102/300 [02:09<04:23,  1.33s/it]"
     ]
    },
    {
     "name": "stdout",
     "output_type": "stream",
     "text": [
      "Metrics logged at step 12750\n",
      "Epoch 102 Validation Loss 0.33130866289138794\n",
      "Metrics logged at step 12800\n"
     ]
    },
    {
     "name": "stderr",
     "output_type": "stream",
     "text": [
      " 34%|███▍      | 103/300 [02:10<04:13,  1.29s/it]"
     ]
    },
    {
     "name": "stdout",
     "output_type": "stream",
     "text": [
      "Metrics logged at step 12850\n",
      "Epoch 103 Validation Loss 0.33014214038848877\n",
      "Metrics logged at step 12900\n",
      "Metrics logged at step 12950\n"
     ]
    },
    {
     "name": "stderr",
     "output_type": "stream",
     "text": [
      " 35%|███▍      | 104/300 [02:11<04:22,  1.34s/it]"
     ]
    },
    {
     "name": "stdout",
     "output_type": "stream",
     "text": [
      "Metrics logged at step 13000\n",
      "Epoch 104 Validation Loss 0.3313058912754059\n",
      "Metrics logged at step 13050\n"
     ]
    },
    {
     "name": "stderr",
     "output_type": "stream",
     "text": [
      " 35%|███▌      | 105/300 [02:13<04:13,  1.30s/it]"
     ]
    },
    {
     "name": "stdout",
     "output_type": "stream",
     "text": [
      "Metrics logged at step 13100\n",
      "Epoch 105 Validation Loss 0.33193257451057434\n",
      "Metrics logged at step 13150\n",
      "Metrics logged at step 13200\n"
     ]
    },
    {
     "name": "stderr",
     "output_type": "stream",
     "text": [
      " 35%|███▌      | 106/300 [02:14<04:13,  1.31s/it]"
     ]
    },
    {
     "name": "stdout",
     "output_type": "stream",
     "text": [
      "Metrics logged at step 13250\n",
      "Epoch 106 Validation Loss 0.3355342745780945\n",
      "Metrics logged at step 13300\n"
     ]
    },
    {
     "name": "stderr",
     "output_type": "stream",
     "text": [
      " 36%|███▌      | 107/300 [02:15<04:06,  1.28s/it]"
     ]
    },
    {
     "name": "stdout",
     "output_type": "stream",
     "text": [
      "Metrics logged at step 13350\n",
      "Epoch 107 Validation Loss 0.3277389705181122\n",
      "Metrics logged at step 13400\n",
      "Metrics logged at step 13450\n"
     ]
    },
    {
     "name": "stderr",
     "output_type": "stream",
     "text": [
      " 36%|███▌      | 108/300 [02:16<04:08,  1.29s/it]"
     ]
    },
    {
     "name": "stdout",
     "output_type": "stream",
     "text": [
      "Metrics logged at step 13500\n",
      "Epoch 108 Validation Loss 0.3268668055534363\n",
      "Metrics logged at step 13550\n"
     ]
    },
    {
     "name": "stderr",
     "output_type": "stream",
     "text": [
      " 36%|███▋      | 109/300 [02:18<04:05,  1.28s/it]"
     ]
    },
    {
     "name": "stdout",
     "output_type": "stream",
     "text": [
      "Metrics logged at step 13600\n",
      "Epoch 109 Validation Loss 0.3266473412513733\n",
      "Metrics logged at step 13650\n",
      "Metrics logged at step 13700\n"
     ]
    },
    {
     "name": "stderr",
     "output_type": "stream",
     "text": [
      " 37%|███▋      | 110/300 [02:19<04:06,  1.30s/it]"
     ]
    },
    {
     "name": "stdout",
     "output_type": "stream",
     "text": [
      "Metrics logged at step 13750\n",
      "Epoch 110 Samples 8000 Step 124 Training Loss 0.3196318745613098\n",
      "Epoch 110 Validation Loss 0.32916155457496643\n",
      "Metrics logged at step 13800\n"
     ]
    },
    {
     "name": "stderr",
     "output_type": "stream",
     "text": [
      " 37%|███▋      | 111/300 [02:20<03:58,  1.26s/it]"
     ]
    },
    {
     "name": "stdout",
     "output_type": "stream",
     "text": [
      "Metrics logged at step 13850\n",
      "Epoch 111 Validation Loss 0.32637178897857666\n",
      "Metrics logged at step 13900\n",
      "Metrics logged at step 13950\n"
     ]
    },
    {
     "name": "stderr",
     "output_type": "stream",
     "text": [
      " 37%|███▋      | 112/300 [02:22<04:02,  1.29s/it]"
     ]
    },
    {
     "name": "stdout",
     "output_type": "stream",
     "text": [
      "Metrics logged at step 14000\n",
      "Epoch 112 Validation Loss 0.3312733769416809\n",
      "Metrics logged at step 14050\n"
     ]
    },
    {
     "name": "stderr",
     "output_type": "stream",
     "text": [
      " 38%|███▊      | 113/300 [02:23<03:50,  1.23s/it]"
     ]
    },
    {
     "name": "stdout",
     "output_type": "stream",
     "text": [
      "Metrics logged at step 14100\n",
      "Epoch 113 Validation Loss 0.32912832498550415\n",
      "Metrics logged at step 14150\n",
      "Metrics logged at step 14200\n"
     ]
    },
    {
     "name": "stderr",
     "output_type": "stream",
     "text": [
      " 38%|███▊      | 114/300 [02:24<03:54,  1.26s/it]"
     ]
    },
    {
     "name": "stdout",
     "output_type": "stream",
     "text": [
      "Metrics logged at step 14250\n",
      "Epoch 114 Validation Loss 0.3289148509502411\n",
      "Metrics logged at step 14300\n",
      "Metrics logged at step 14350\n"
     ]
    },
    {
     "name": "stderr",
     "output_type": "stream",
     "text": [
      " 38%|███▊      | 115/300 [02:25<03:47,  1.23s/it]"
     ]
    },
    {
     "name": "stdout",
     "output_type": "stream",
     "text": [
      "Epoch 115 Validation Loss 0.3283521831035614\n",
      "Metrics logged at step 14400\n",
      "Metrics logged at step 14450\n"
     ]
    },
    {
     "name": "stderr",
     "output_type": "stream",
     "text": [
      " 39%|███▊      | 116/300 [02:27<03:59,  1.30s/it]"
     ]
    },
    {
     "name": "stdout",
     "output_type": "stream",
     "text": [
      "Metrics logged at step 14500\n",
      "Epoch 116 Validation Loss 0.3349337875843048\n",
      "Metrics logged at step 14550\n",
      "Metrics logged at step 14600\n"
     ]
    },
    {
     "name": "stderr",
     "output_type": "stream",
     "text": [
      " 39%|███▉      | 117/300 [02:28<03:52,  1.27s/it]"
     ]
    },
    {
     "name": "stdout",
     "output_type": "stream",
     "text": [
      "Epoch 117 Validation Loss 0.3263038694858551\n",
      "Metrics logged at step 14650\n",
      "Metrics logged at step 14700\n"
     ]
    },
    {
     "name": "stderr",
     "output_type": "stream",
     "text": [
      " 39%|███▉      | 118/300 [02:29<03:56,  1.30s/it]"
     ]
    },
    {
     "name": "stdout",
     "output_type": "stream",
     "text": [
      "Metrics logged at step 14750\n",
      "Epoch 118 Validation Loss 0.3253133296966553\n",
      "Metrics logged at step 14800\n"
     ]
    },
    {
     "name": "stderr",
     "output_type": "stream",
     "text": [
      " 40%|███▉      | 119/300 [02:30<03:45,  1.25s/it]"
     ]
    },
    {
     "name": "stdout",
     "output_type": "stream",
     "text": [
      "Metrics logged at step 14850\n",
      "Epoch 119 Validation Loss 0.33147361874580383\n",
      "Metrics logged at step 14900\n",
      "Metrics logged at step 14950\n"
     ]
    },
    {
     "name": "stderr",
     "output_type": "stream",
     "text": [
      " 40%|████      | 120/300 [02:32<03:53,  1.30s/it]"
     ]
    },
    {
     "name": "stdout",
     "output_type": "stream",
     "text": [
      "Metrics logged at step 15000\n",
      "Epoch 120 Samples 8000 Step 124 Training Loss 0.3246466815471649\n",
      "Epoch 120 Validation Loss 0.33244189620018005\n",
      "Metrics logged at step 15050\n"
     ]
    },
    {
     "name": "stderr",
     "output_type": "stream",
     "text": [
      " 40%|████      | 121/300 [02:33<03:44,  1.25s/it]"
     ]
    },
    {
     "name": "stdout",
     "output_type": "stream",
     "text": [
      "Metrics logged at step 15100\n",
      "Epoch 121 Validation Loss 0.3262779712677002\n",
      "Metrics logged at step 15150\n",
      "Metrics logged at step 15200\n"
     ]
    },
    {
     "name": "stderr",
     "output_type": "stream",
     "text": [
      " 41%|████      | 122/300 [02:34<03:47,  1.28s/it]"
     ]
    },
    {
     "name": "stdout",
     "output_type": "stream",
     "text": [
      "Metrics logged at step 15250\n",
      "Epoch 122 Validation Loss 0.325748473405838\n",
      "Metrics logged at step 15300\n"
     ]
    },
    {
     "name": "stderr",
     "output_type": "stream",
     "text": [
      " 41%|████      | 123/300 [02:35<03:38,  1.24s/it]"
     ]
    },
    {
     "name": "stdout",
     "output_type": "stream",
     "text": [
      "Metrics logged at step 15350\n",
      "Epoch 123 Validation Loss 0.3252423107624054\n",
      "Metrics logged at step 15400\n",
      "Metrics logged at step 15450\n"
     ]
    },
    {
     "name": "stderr",
     "output_type": "stream",
     "text": [
      " 41%|████▏     | 124/300 [02:37<03:43,  1.27s/it]"
     ]
    },
    {
     "name": "stdout",
     "output_type": "stream",
     "text": [
      "Metrics logged at step 15500\n",
      "Epoch 124 Validation Loss 0.32812511920928955\n",
      "Metrics logged at step 15550\n"
     ]
    },
    {
     "name": "stderr",
     "output_type": "stream",
     "text": [
      " 42%|████▏     | 125/300 [02:38<03:37,  1.24s/it]"
     ]
    },
    {
     "name": "stdout",
     "output_type": "stream",
     "text": [
      "Metrics logged at step 15600\n",
      "Epoch 125 Validation Loss 0.32482704520225525\n",
      "Metrics logged at step 15650\n",
      "Metrics logged at step 15700\n"
     ]
    },
    {
     "name": "stderr",
     "output_type": "stream",
     "text": [
      " 42%|████▏     | 126/300 [02:39<03:41,  1.27s/it]"
     ]
    },
    {
     "name": "stdout",
     "output_type": "stream",
     "text": [
      "Metrics logged at step 15750\n",
      "Epoch 126 Validation Loss 0.32578200101852417\n",
      "Metrics logged at step 15800\n"
     ]
    },
    {
     "name": "stderr",
     "output_type": "stream",
     "text": [
      " 42%|████▏     | 127/300 [02:40<03:36,  1.25s/it]"
     ]
    },
    {
     "name": "stdout",
     "output_type": "stream",
     "text": [
      "Metrics logged at step 15850\n",
      "Epoch 127 Validation Loss 0.32467567920684814\n",
      "Metrics logged at step 15900\n",
      "Metrics logged at step 15950\n"
     ]
    },
    {
     "name": "stderr",
     "output_type": "stream",
     "text": [
      " 43%|████▎     | 128/300 [02:42<03:41,  1.29s/it]"
     ]
    },
    {
     "name": "stdout",
     "output_type": "stream",
     "text": [
      "Metrics logged at step 16000\n",
      "Epoch 128 Validation Loss 0.32995954155921936\n",
      "Metrics logged at step 16050\n"
     ]
    },
    {
     "name": "stderr",
     "output_type": "stream",
     "text": [
      " 43%|████▎     | 129/300 [02:43<03:31,  1.24s/it]"
     ]
    },
    {
     "name": "stdout",
     "output_type": "stream",
     "text": [
      "Metrics logged at step 16100\n",
      "Epoch 129 Validation Loss 0.32612499594688416\n",
      "Metrics logged at step 16150\n",
      "Metrics logged at step 16200\n"
     ]
    },
    {
     "name": "stderr",
     "output_type": "stream",
     "text": [
      " 43%|████▎     | 130/300 [02:44<03:35,  1.27s/it]"
     ]
    },
    {
     "name": "stdout",
     "output_type": "stream",
     "text": [
      "Metrics logged at step 16250\n",
      "Epoch 130 Samples 8000 Step 124 Training Loss 0.3172280490398407\n",
      "Epoch 130 Validation Loss 0.32673510909080505\n",
      "Metrics logged at step 16300\n"
     ]
    },
    {
     "name": "stderr",
     "output_type": "stream",
     "text": [
      " 44%|████▎     | 131/300 [02:45<03:31,  1.25s/it]"
     ]
    },
    {
     "name": "stdout",
     "output_type": "stream",
     "text": [
      "Metrics logged at step 16350\n",
      "Epoch 131 Validation Loss 0.32466185092926025\n",
      "Metrics logged at step 16400\n",
      "Metrics logged at step 16450\n"
     ]
    },
    {
     "name": "stderr",
     "output_type": "stream",
     "text": [
      " 44%|████▍     | 132/300 [02:47<03:34,  1.28s/it]"
     ]
    },
    {
     "name": "stdout",
     "output_type": "stream",
     "text": [
      "Metrics logged at step 16500\n",
      "Epoch 132 Validation Loss 0.32651782035827637\n",
      "Metrics logged at step 16550\n"
     ]
    },
    {
     "name": "stderr",
     "output_type": "stream",
     "text": [
      " 44%|████▍     | 133/300 [02:48<03:29,  1.25s/it]"
     ]
    },
    {
     "name": "stdout",
     "output_type": "stream",
     "text": [
      "Metrics logged at step 16600\n",
      "Epoch 133 Validation Loss 0.3321280777454376\n",
      "Metrics logged at step 16650\n",
      "Metrics logged at step 16700\n"
     ]
    },
    {
     "name": "stderr",
     "output_type": "stream",
     "text": [
      " 45%|████▍     | 134/300 [02:49<03:32,  1.28s/it]"
     ]
    },
    {
     "name": "stdout",
     "output_type": "stream",
     "text": [
      "Metrics logged at step 16750\n",
      "Epoch 134 Validation Loss 0.32494720816612244\n",
      "Metrics logged at step 16800\n"
     ]
    },
    {
     "name": "stderr",
     "output_type": "stream",
     "text": [
      " 45%|████▌     | 135/300 [02:50<03:22,  1.23s/it]"
     ]
    },
    {
     "name": "stdout",
     "output_type": "stream",
     "text": [
      "Metrics logged at step 16850\n",
      "Epoch 135 Validation Loss 0.3275674879550934\n",
      "Metrics logged at step 16900\n",
      "Metrics logged at step 16950\n"
     ]
    },
    {
     "name": "stderr",
     "output_type": "stream",
     "text": [
      " 45%|████▌     | 136/300 [02:52<03:32,  1.29s/it]"
     ]
    },
    {
     "name": "stdout",
     "output_type": "stream",
     "text": [
      "Metrics logged at step 17000\n",
      "Epoch 136 Validation Loss 0.3246776759624481\n",
      "Metrics logged at step 17050\n"
     ]
    },
    {
     "name": "stderr",
     "output_type": "stream",
     "text": [
      " 46%|████▌     | 137/300 [02:53<03:23,  1.25s/it]"
     ]
    },
    {
     "name": "stdout",
     "output_type": "stream",
     "text": [
      "Metrics logged at step 17100\n",
      "Epoch 137 Validation Loss 0.3254965841770172\n",
      "Metrics logged at step 17150\n",
      "Metrics logged at step 17200\n"
     ]
    },
    {
     "name": "stderr",
     "output_type": "stream",
     "text": [
      " 46%|████▌     | 138/300 [02:54<03:30,  1.30s/it]"
     ]
    },
    {
     "name": "stdout",
     "output_type": "stream",
     "text": [
      "Metrics logged at step 17250\n",
      "Epoch 138 Validation Loss 0.3248155415058136\n",
      "Metrics logged at step 17300\n"
     ]
    },
    {
     "name": "stderr",
     "output_type": "stream",
     "text": [
      " 46%|████▋     | 139/300 [02:56<03:26,  1.28s/it]"
     ]
    },
    {
     "name": "stdout",
     "output_type": "stream",
     "text": [
      "Metrics logged at step 17350\n",
      "Epoch 139 Validation Loss 0.32408034801483154\n",
      "Metrics logged at step 17400\n",
      "Metrics logged at step 17450\n"
     ]
    },
    {
     "name": "stderr",
     "output_type": "stream",
     "text": [
      " 47%|████▋     | 140/300 [02:57<03:27,  1.30s/it]"
     ]
    },
    {
     "name": "stdout",
     "output_type": "stream",
     "text": [
      "Metrics logged at step 17500\n",
      "Epoch 140 Samples 8000 Step 124 Training Loss 0.318059504032135\n",
      "Epoch 140 Validation Loss 0.3254772424697876\n",
      "Metrics logged at step 17550\n"
     ]
    },
    {
     "name": "stderr",
     "output_type": "stream",
     "text": [
      " 47%|████▋     | 141/300 [02:58<03:21,  1.27s/it]"
     ]
    },
    {
     "name": "stdout",
     "output_type": "stream",
     "text": [
      "Metrics logged at step 17600\n",
      "Epoch 141 Validation Loss 0.33494657278060913\n",
      "Metrics logged at step 17650\n",
      "Metrics logged at step 17700\n"
     ]
    },
    {
     "name": "stderr",
     "output_type": "stream",
     "text": [
      " 47%|████▋     | 142/300 [03:00<03:32,  1.34s/it]"
     ]
    },
    {
     "name": "stdout",
     "output_type": "stream",
     "text": [
      "Metrics logged at step 17750\n",
      "Epoch 142 Validation Loss 0.32635068893432617\n",
      "Metrics logged at step 17800\n",
      "Metrics logged at step 17850\n"
     ]
    },
    {
     "name": "stderr",
     "output_type": "stream",
     "text": [
      " 48%|████▊     | 143/300 [03:01<03:26,  1.31s/it]"
     ]
    },
    {
     "name": "stdout",
     "output_type": "stream",
     "text": [
      "Epoch 143 Validation Loss 0.3254733979701996\n",
      "Metrics logged at step 17900\n",
      "Metrics logged at step 17950\n"
     ]
    },
    {
     "name": "stderr",
     "output_type": "stream",
     "text": [
      " 48%|████▊     | 144/300 [03:02<03:32,  1.36s/it]"
     ]
    },
    {
     "name": "stdout",
     "output_type": "stream",
     "text": [
      "Metrics logged at step 18000\n",
      "Epoch 144 Validation Loss 0.3242856562137604\n",
      "Metrics logged at step 18050\n"
     ]
    },
    {
     "name": "stderr",
     "output_type": "stream",
     "text": [
      " 48%|████▊     | 145/300 [03:04<03:24,  1.32s/it]"
     ]
    },
    {
     "name": "stdout",
     "output_type": "stream",
     "text": [
      "Metrics logged at step 18100\n",
      "Epoch 145 Validation Loss 0.3244995176792145\n",
      "Metrics logged at step 18150\n",
      "Metrics logged at step 18200\n"
     ]
    },
    {
     "name": "stderr",
     "output_type": "stream",
     "text": [
      " 49%|████▊     | 146/300 [03:05<03:24,  1.33s/it]"
     ]
    },
    {
     "name": "stdout",
     "output_type": "stream",
     "text": [
      "Metrics logged at step 18250\n",
      "Epoch 146 Validation Loss 0.3264898657798767\n",
      "Metrics logged at step 18300\n",
      "Metrics logged at step 18350\n"
     ]
    },
    {
     "name": "stderr",
     "output_type": "stream",
     "text": [
      " 49%|████▉     | 147/300 [03:06<03:17,  1.29s/it]"
     ]
    },
    {
     "name": "stdout",
     "output_type": "stream",
     "text": [
      "Epoch 147 Validation Loss 0.32391682267189026\n",
      "Metrics logged at step 18400\n",
      "Metrics logged at step 18450\n"
     ]
    },
    {
     "name": "stderr",
     "output_type": "stream",
     "text": [
      " 49%|████▉     | 148/300 [03:08<03:21,  1.32s/it]"
     ]
    },
    {
     "name": "stdout",
     "output_type": "stream",
     "text": [
      "Metrics logged at step 18500\n",
      "Epoch 148 Validation Loss 0.32688194513320923\n",
      "Metrics logged at step 18550\n"
     ]
    },
    {
     "name": "stderr",
     "output_type": "stream",
     "text": [
      " 50%|████▉     | 149/300 [03:09<03:17,  1.31s/it]"
     ]
    },
    {
     "name": "stdout",
     "output_type": "stream",
     "text": [
      "Metrics logged at step 18600\n",
      "Epoch 149 Validation Loss 0.3272896111011505\n",
      "Metrics logged at step 18650\n",
      "Metrics logged at step 18700\n"
     ]
    },
    {
     "name": "stderr",
     "output_type": "stream",
     "text": [
      " 50%|█████     | 150/300 [03:10<03:23,  1.36s/it]"
     ]
    },
    {
     "name": "stdout",
     "output_type": "stream",
     "text": [
      "Metrics logged at step 18750\n",
      "Epoch 150 Samples 8000 Step 124 Training Loss 0.3371739089488983\n",
      "Epoch 150 Validation Loss 0.32718920707702637\n",
      "Metrics logged at step 18800\n",
      "Metrics logged at step 18850\n"
     ]
    },
    {
     "name": "stderr",
     "output_type": "stream",
     "text": [
      " 50%|█████     | 151/300 [03:12<03:14,  1.30s/it]"
     ]
    },
    {
     "name": "stdout",
     "output_type": "stream",
     "text": [
      "Epoch 151 Validation Loss 0.32813775539398193\n",
      "Metrics logged at step 18900\n",
      "Metrics logged at step 18950\n"
     ]
    },
    {
     "name": "stderr",
     "output_type": "stream",
     "text": [
      " 51%|█████     | 152/300 [03:13<03:21,  1.36s/it]"
     ]
    },
    {
     "name": "stdout",
     "output_type": "stream",
     "text": [
      "Metrics logged at step 19000\n",
      "Epoch 152 Validation Loss 0.33067378401756287\n",
      "Metrics logged at step 19050\n"
     ]
    },
    {
     "name": "stderr",
     "output_type": "stream",
     "text": [
      " 51%|█████     | 153/300 [03:14<03:14,  1.32s/it]"
     ]
    },
    {
     "name": "stdout",
     "output_type": "stream",
     "text": [
      "Metrics logged at step 19100\n",
      "Epoch 153 Validation Loss 0.3248755633831024\n",
      "Metrics logged at step 19150\n",
      "Metrics logged at step 19200\n"
     ]
    },
    {
     "name": "stderr",
     "output_type": "stream",
     "text": [
      " 51%|█████▏    | 154/300 [03:16<03:19,  1.36s/it]"
     ]
    },
    {
     "name": "stdout",
     "output_type": "stream",
     "text": [
      "Metrics logged at step 19250\n",
      "Epoch 154 Validation Loss 0.3239935636520386\n",
      "Metrics logged at step 19300\n"
     ]
    },
    {
     "name": "stderr",
     "output_type": "stream",
     "text": [
      " 52%|█████▏    | 155/300 [03:17<03:12,  1.33s/it]"
     ]
    },
    {
     "name": "stdout",
     "output_type": "stream",
     "text": [
      "Metrics logged at step 19350\n",
      "Epoch 155 Validation Loss 0.32428276538848877\n",
      "Metrics logged at step 19400\n",
      "Metrics logged at step 19450\n"
     ]
    },
    {
     "name": "stderr",
     "output_type": "stream",
     "text": [
      " 52%|█████▏    | 156/300 [03:18<03:14,  1.35s/it]"
     ]
    },
    {
     "name": "stdout",
     "output_type": "stream",
     "text": [
      "Metrics logged at step 19500\n",
      "Epoch 156 Validation Loss 0.32418373227119446\n",
      "Metrics logged at step 19550\n"
     ]
    },
    {
     "name": "stderr",
     "output_type": "stream",
     "text": [
      " 52%|█████▏    | 157/300 [03:19<03:04,  1.29s/it]"
     ]
    },
    {
     "name": "stdout",
     "output_type": "stream",
     "text": [
      "Metrics logged at step 19600\n",
      "Epoch 157 Validation Loss 0.3258028030395508\n",
      "Metrics logged at step 19650\n",
      "Metrics logged at step 19700\n"
     ]
    },
    {
     "name": "stderr",
     "output_type": "stream",
     "text": [
      " 53%|█████▎    | 158/300 [03:21<03:10,  1.34s/it]"
     ]
    },
    {
     "name": "stdout",
     "output_type": "stream",
     "text": [
      "Metrics logged at step 19750\n",
      "Epoch 158 Validation Loss 0.32585641741752625\n",
      "Metrics logged at step 19800\n",
      "Metrics logged at step 19850\n"
     ]
    },
    {
     "name": "stderr",
     "output_type": "stream",
     "text": [
      " 53%|█████▎    | 159/300 [03:22<03:07,  1.33s/it]"
     ]
    },
    {
     "name": "stdout",
     "output_type": "stream",
     "text": [
      "Epoch 159 Validation Loss 0.3252159357070923\n",
      "Metrics logged at step 19900\n",
      "Metrics logged at step 19950\n"
     ]
    },
    {
     "name": "stderr",
     "output_type": "stream",
     "text": [
      " 53%|█████▎    | 160/300 [03:24<03:11,  1.37s/it]"
     ]
    },
    {
     "name": "stdout",
     "output_type": "stream",
     "text": [
      "Metrics logged at step 20000\n",
      "Epoch 160 Samples 8000 Step 124 Training Loss 0.3278960883617401\n",
      "Epoch 160 Validation Loss 0.32583028078079224\n",
      "Metrics logged at step 20050\n"
     ]
    },
    {
     "name": "stderr",
     "output_type": "stream",
     "text": [
      " 54%|█████▎    | 161/300 [03:25<03:01,  1.31s/it]"
     ]
    },
    {
     "name": "stdout",
     "output_type": "stream",
     "text": [
      "Metrics logged at step 20100\n",
      "Epoch 161 Validation Loss 0.3280631899833679\n",
      "Metrics logged at step 20150\n",
      "Metrics logged at step 20200\n"
     ]
    },
    {
     "name": "stderr",
     "output_type": "stream",
     "text": [
      " 54%|█████▍    | 162/300 [03:26<03:05,  1.35s/it]"
     ]
    },
    {
     "name": "stdout",
     "output_type": "stream",
     "text": [
      "Metrics logged at step 20250\n",
      "Epoch 162 Validation Loss 0.3282051086425781\n",
      "Metrics logged at step 20300\n"
     ]
    },
    {
     "name": "stderr",
     "output_type": "stream",
     "text": [
      " 54%|█████▍    | 163/300 [03:27<02:55,  1.28s/it]"
     ]
    },
    {
     "name": "stdout",
     "output_type": "stream",
     "text": [
      "Metrics logged at step 20350\n",
      "Epoch 163 Validation Loss 0.32512912154197693\n",
      "Metrics logged at step 20400\n",
      "Metrics logged at step 20450\n"
     ]
    },
    {
     "name": "stderr",
     "output_type": "stream",
     "text": [
      " 55%|█████▍    | 164/300 [03:29<03:03,  1.35s/it]"
     ]
    },
    {
     "name": "stdout",
     "output_type": "stream",
     "text": [
      "Metrics logged at step 20500\n",
      "Epoch 164 Validation Loss 0.32371842861175537\n",
      "Metrics logged at step 20550\n"
     ]
    },
    {
     "name": "stderr",
     "output_type": "stream",
     "text": [
      " 55%|█████▌    | 165/300 [03:30<02:53,  1.28s/it]"
     ]
    },
    {
     "name": "stdout",
     "output_type": "stream",
     "text": [
      "Metrics logged at step 20600\n",
      "Epoch 165 Validation Loss 0.32400593161582947\n",
      "Metrics logged at step 20650\n",
      "Metrics logged at step 20700\n"
     ]
    },
    {
     "name": "stderr",
     "output_type": "stream",
     "text": [
      " 55%|█████▌    | 166/300 [03:31<02:54,  1.30s/it]"
     ]
    },
    {
     "name": "stdout",
     "output_type": "stream",
     "text": [
      "Metrics logged at step 20750\n",
      "Epoch 166 Validation Loss 0.3245735764503479\n",
      "Metrics logged at step 20800\n"
     ]
    },
    {
     "name": "stderr",
     "output_type": "stream",
     "text": [
      " 56%|█████▌    | 167/300 [03:33<02:49,  1.27s/it]"
     ]
    },
    {
     "name": "stdout",
     "output_type": "stream",
     "text": [
      "Metrics logged at step 20850\n",
      "Epoch 167 Validation Loss 0.32451963424682617\n",
      "Metrics logged at step 20900\n",
      "Metrics logged at step 20950\n"
     ]
    },
    {
     "name": "stderr",
     "output_type": "stream",
     "text": [
      " 56%|█████▌    | 168/300 [03:34<02:50,  1.29s/it]"
     ]
    },
    {
     "name": "stdout",
     "output_type": "stream",
     "text": [
      "Metrics logged at step 21000\n",
      "Epoch 168 Validation Loss 0.3242787718772888\n",
      "Metrics logged at step 21050\n"
     ]
    },
    {
     "name": "stderr",
     "output_type": "stream",
     "text": [
      " 56%|█████▋    | 169/300 [03:35<02:42,  1.24s/it]"
     ]
    },
    {
     "name": "stdout",
     "output_type": "stream",
     "text": [
      "Metrics logged at step 21100\n",
      "Epoch 169 Validation Loss 0.3235248625278473\n",
      "Metrics logged at step 21150\n",
      "Metrics logged at step 21200\n"
     ]
    },
    {
     "name": "stderr",
     "output_type": "stream",
     "text": [
      " 57%|█████▋    | 170/300 [03:36<02:45,  1.27s/it]"
     ]
    },
    {
     "name": "stdout",
     "output_type": "stream",
     "text": [
      "Metrics logged at step 21250\n",
      "Epoch 170 Samples 8000 Step 124 Training Loss 0.3225959241390228\n",
      "Epoch 170 Validation Loss 0.32502123713493347\n",
      "Metrics logged at step 21300\n"
     ]
    },
    {
     "name": "stderr",
     "output_type": "stream",
     "text": [
      " 57%|█████▋    | 171/300 [03:38<02:39,  1.24s/it]"
     ]
    },
    {
     "name": "stdout",
     "output_type": "stream",
     "text": [
      "Metrics logged at step 21350\n",
      "Epoch 171 Validation Loss 0.32357102632522583\n",
      "Metrics logged at step 21400\n",
      "Metrics logged at step 21450\n"
     ]
    },
    {
     "name": "stderr",
     "output_type": "stream",
     "text": [
      " 57%|█████▋    | 172/300 [03:39<02:42,  1.27s/it]"
     ]
    },
    {
     "name": "stdout",
     "output_type": "stream",
     "text": [
      "Metrics logged at step 21500\n",
      "Epoch 172 Validation Loss 0.3240984380245209\n",
      "Metrics logged at step 21550\n"
     ]
    },
    {
     "name": "stderr",
     "output_type": "stream",
     "text": [
      " 58%|█████▊    | 173/300 [03:40<02:35,  1.23s/it]"
     ]
    },
    {
     "name": "stdout",
     "output_type": "stream",
     "text": [
      "Metrics logged at step 21600\n",
      "Epoch 173 Validation Loss 0.32369914650917053\n",
      "Metrics logged at step 21650\n",
      "Metrics logged at step 21700\n"
     ]
    },
    {
     "name": "stderr",
     "output_type": "stream",
     "text": [
      " 58%|█████▊    | 174/300 [03:41<02:39,  1.27s/it]"
     ]
    },
    {
     "name": "stdout",
     "output_type": "stream",
     "text": [
      "Metrics logged at step 21750\n",
      "Epoch 174 Validation Loss 0.3238351047039032\n",
      "Metrics logged at step 21800\n"
     ]
    },
    {
     "name": "stderr",
     "output_type": "stream",
     "text": [
      " 58%|█████▊    | 175/300 [03:43<02:36,  1.25s/it]"
     ]
    },
    {
     "name": "stdout",
     "output_type": "stream",
     "text": [
      "Metrics logged at step 21850\n",
      "Epoch 175 Validation Loss 0.3249143064022064\n",
      "Metrics logged at step 21900\n",
      "Metrics logged at step 21950\n"
     ]
    },
    {
     "name": "stderr",
     "output_type": "stream",
     "text": [
      " 59%|█████▊    | 176/300 [03:44<02:38,  1.28s/it]"
     ]
    },
    {
     "name": "stdout",
     "output_type": "stream",
     "text": [
      "Metrics logged at step 22000\n",
      "Epoch 176 Validation Loss 0.32425791025161743\n",
      "Metrics logged at step 22050\n"
     ]
    },
    {
     "name": "stderr",
     "output_type": "stream",
     "text": [
      " 59%|█████▉    | 177/300 [03:45<02:32,  1.24s/it]"
     ]
    },
    {
     "name": "stdout",
     "output_type": "stream",
     "text": [
      "Metrics logged at step 22100\n",
      "Epoch 177 Validation Loss 0.32566261291503906\n",
      "Metrics logged at step 22150\n",
      "Metrics logged at step 22200\n"
     ]
    },
    {
     "name": "stderr",
     "output_type": "stream",
     "text": [
      " 59%|█████▉    | 178/300 [03:47<02:36,  1.28s/it]"
     ]
    },
    {
     "name": "stdout",
     "output_type": "stream",
     "text": [
      "Metrics logged at step 22250\n",
      "Epoch 178 Validation Loss 0.32469651103019714\n",
      "Metrics logged at step 22300\n"
     ]
    },
    {
     "name": "stderr",
     "output_type": "stream",
     "text": [
      " 60%|█████▉    | 179/300 [03:48<02:29,  1.23s/it]"
     ]
    },
    {
     "name": "stdout",
     "output_type": "stream",
     "text": [
      "Metrics logged at step 22350\n",
      "Epoch 179 Validation Loss 0.3249339163303375\n",
      "Metrics logged at step 22400\n",
      "Metrics logged at step 22450\n"
     ]
    },
    {
     "name": "stderr",
     "output_type": "stream",
     "text": [
      " 60%|██████    | 180/300 [03:49<02:32,  1.27s/it]"
     ]
    },
    {
     "name": "stdout",
     "output_type": "stream",
     "text": [
      "Metrics logged at step 22500\n",
      "Epoch 180 Samples 8000 Step 124 Training Loss 0.3124634623527527\n",
      "Epoch 180 Validation Loss 0.3247181177139282\n",
      "Metrics logged at step 22550\n"
     ]
    },
    {
     "name": "stderr",
     "output_type": "stream",
     "text": [
      " 60%|██████    | 181/300 [03:50<02:26,  1.23s/it]"
     ]
    },
    {
     "name": "stdout",
     "output_type": "stream",
     "text": [
      "Metrics logged at step 22600\n",
      "Epoch 181 Validation Loss 0.330512672662735\n",
      "Metrics logged at step 22650\n",
      "Metrics logged at step 22700\n"
     ]
    },
    {
     "name": "stderr",
     "output_type": "stream",
     "text": [
      " 61%|██████    | 182/300 [03:51<02:29,  1.27s/it]"
     ]
    },
    {
     "name": "stdout",
     "output_type": "stream",
     "text": [
      "Metrics logged at step 22750\n",
      "Epoch 182 Validation Loss 0.32456061244010925\n",
      "Metrics logged at step 22800\n"
     ]
    },
    {
     "name": "stderr",
     "output_type": "stream",
     "text": [
      " 61%|██████    | 183/300 [03:53<02:26,  1.25s/it]"
     ]
    },
    {
     "name": "stdout",
     "output_type": "stream",
     "text": [
      "Metrics logged at step 22850\n",
      "Epoch 183 Validation Loss 0.32338544726371765\n",
      "Metrics logged at step 22900\n",
      "Metrics logged at step 22950\n"
     ]
    },
    {
     "name": "stderr",
     "output_type": "stream",
     "text": [
      " 61%|██████▏   | 184/300 [03:54<02:30,  1.29s/it]"
     ]
    },
    {
     "name": "stdout",
     "output_type": "stream",
     "text": [
      "Metrics logged at step 23000\n",
      "Epoch 184 Validation Loss 0.3250526487827301\n",
      "Metrics logged at step 23050\n"
     ]
    },
    {
     "name": "stderr",
     "output_type": "stream",
     "text": [
      " 62%|██████▏   | 185/300 [03:55<02:24,  1.26s/it]"
     ]
    },
    {
     "name": "stdout",
     "output_type": "stream",
     "text": [
      "Metrics logged at step 23100\n",
      "Epoch 185 Validation Loss 0.3236090838909149\n",
      "Metrics logged at step 23150\n",
      "Metrics logged at step 23200\n"
     ]
    },
    {
     "name": "stderr",
     "output_type": "stream",
     "text": [
      " 62%|██████▏   | 186/300 [03:57<02:27,  1.29s/it]"
     ]
    },
    {
     "name": "stdout",
     "output_type": "stream",
     "text": [
      "Metrics logged at step 23250\n",
      "Epoch 186 Validation Loss 0.32324257493019104\n",
      "Metrics logged at step 23300\n"
     ]
    },
    {
     "name": "stderr",
     "output_type": "stream",
     "text": [
      " 62%|██████▏   | 187/300 [03:58<02:20,  1.24s/it]"
     ]
    },
    {
     "name": "stdout",
     "output_type": "stream",
     "text": [
      "Metrics logged at step 23350\n",
      "Epoch 187 Validation Loss 0.3244706392288208\n",
      "Metrics logged at step 23400\n",
      "Metrics logged at step 23450\n"
     ]
    },
    {
     "name": "stderr",
     "output_type": "stream",
     "text": [
      " 63%|██████▎   | 188/300 [03:59<02:22,  1.28s/it]"
     ]
    },
    {
     "name": "stdout",
     "output_type": "stream",
     "text": [
      "Metrics logged at step 23500\n",
      "Epoch 188 Validation Loss 0.3245925009250641\n",
      "Metrics logged at step 23550\n"
     ]
    },
    {
     "name": "stderr",
     "output_type": "stream",
     "text": [
      " 63%|██████▎   | 189/300 [04:00<02:16,  1.23s/it]"
     ]
    },
    {
     "name": "stdout",
     "output_type": "stream",
     "text": [
      "Metrics logged at step 23600\n",
      "Epoch 189 Validation Loss 0.32535067200660706\n",
      "Metrics logged at step 23650\n",
      "Metrics logged at step 23700\n"
     ]
    },
    {
     "name": "stderr",
     "output_type": "stream",
     "text": [
      " 63%|██████▎   | 190/300 [04:02<02:21,  1.29s/it]"
     ]
    },
    {
     "name": "stdout",
     "output_type": "stream",
     "text": [
      "Metrics logged at step 23750\n",
      "Epoch 190 Samples 8000 Step 124 Training Loss 0.32519766688346863\n",
      "Epoch 190 Validation Loss 0.32341814041137695\n",
      "Metrics logged at step 23800\n"
     ]
    },
    {
     "name": "stderr",
     "output_type": "stream",
     "text": [
      " 64%|██████▎   | 191/300 [04:03<02:19,  1.28s/it]"
     ]
    },
    {
     "name": "stdout",
     "output_type": "stream",
     "text": [
      "Metrics logged at step 23850\n",
      "Epoch 191 Validation Loss 0.3240829408168793\n",
      "Metrics logged at step 23900\n",
      "Metrics logged at step 23950\n"
     ]
    },
    {
     "name": "stderr",
     "output_type": "stream",
     "text": [
      " 64%|██████▍   | 192/300 [04:04<02:20,  1.30s/it]"
     ]
    },
    {
     "name": "stdout",
     "output_type": "stream",
     "text": [
      "Metrics logged at step 24000\n",
      "Epoch 192 Validation Loss 0.32458147406578064\n",
      "Metrics logged at step 24050\n"
     ]
    },
    {
     "name": "stderr",
     "output_type": "stream",
     "text": [
      " 64%|██████▍   | 193/300 [04:05<02:13,  1.25s/it]"
     ]
    },
    {
     "name": "stdout",
     "output_type": "stream",
     "text": [
      "Metrics logged at step 24100\n",
      "Epoch 193 Validation Loss 0.32352539896965027\n",
      "Metrics logged at step 24150\n",
      "Metrics logged at step 24200\n"
     ]
    },
    {
     "name": "stderr",
     "output_type": "stream",
     "text": [
      " 65%|██████▍   | 194/300 [04:07<02:16,  1.29s/it]"
     ]
    },
    {
     "name": "stdout",
     "output_type": "stream",
     "text": [
      "Metrics logged at step 24250\n",
      "Epoch 194 Validation Loss 0.3246636986732483\n",
      "Metrics logged at step 24300\n"
     ]
    },
    {
     "name": "stderr",
     "output_type": "stream",
     "text": [
      " 65%|██████▌   | 195/300 [04:08<02:10,  1.24s/it]"
     ]
    },
    {
     "name": "stdout",
     "output_type": "stream",
     "text": [
      "Metrics logged at step 24350\n",
      "Epoch 195 Validation Loss 0.3259008228778839\n",
      "Metrics logged at step 24400\n",
      "Metrics logged at step 24450\n"
     ]
    },
    {
     "name": "stderr",
     "output_type": "stream",
     "text": [
      " 65%|██████▌   | 196/300 [04:09<02:12,  1.28s/it]"
     ]
    },
    {
     "name": "stdout",
     "output_type": "stream",
     "text": [
      "Metrics logged at step 24500\n",
      "Epoch 196 Validation Loss 0.3239259123802185\n",
      "Metrics logged at step 24550\n"
     ]
    },
    {
     "name": "stderr",
     "output_type": "stream",
     "text": [
      " 66%|██████▌   | 197/300 [04:10<02:06,  1.23s/it]"
     ]
    },
    {
     "name": "stdout",
     "output_type": "stream",
     "text": [
      "Metrics logged at step 24600\n",
      "Epoch 197 Validation Loss 0.3257600665092468\n",
      "Metrics logged at step 24650\n",
      "Metrics logged at step 24700\n"
     ]
    },
    {
     "name": "stderr",
     "output_type": "stream",
     "text": [
      " 66%|██████▌   | 198/300 [04:12<02:10,  1.28s/it]"
     ]
    },
    {
     "name": "stdout",
     "output_type": "stream",
     "text": [
      "Metrics logged at step 24750\n",
      "Epoch 198 Validation Loss 0.32358095049858093\n",
      "Metrics logged at step 24800\n"
     ]
    },
    {
     "name": "stderr",
     "output_type": "stream",
     "text": [
      " 66%|██████▋   | 199/300 [04:13<02:07,  1.26s/it]"
     ]
    },
    {
     "name": "stdout",
     "output_type": "stream",
     "text": [
      "Metrics logged at step 24850\n",
      "Epoch 199 Validation Loss 0.32612234354019165\n",
      "Metrics logged at step 24900\n",
      "Metrics logged at step 24950\n"
     ]
    },
    {
     "name": "stderr",
     "output_type": "stream",
     "text": [
      " 67%|██████▋   | 200/300 [04:14<02:08,  1.29s/it]"
     ]
    },
    {
     "name": "stdout",
     "output_type": "stream",
     "text": [
      "Metrics logged at step 25000\n",
      "Epoch 200 Samples 8000 Step 124 Training Loss 0.3469594419002533\n",
      "Epoch 200 Validation Loss 0.3261658847332001\n",
      "Metrics logged at step 25050\n"
     ]
    },
    {
     "name": "stderr",
     "output_type": "stream",
     "text": [
      " 67%|██████▋   | 201/300 [04:16<02:03,  1.25s/it]"
     ]
    },
    {
     "name": "stdout",
     "output_type": "stream",
     "text": [
      "Metrics logged at step 25100\n",
      "Epoch 201 Validation Loss 0.32302558422088623\n",
      "Metrics logged at step 25150\n",
      "Metrics logged at step 25200\n"
     ]
    },
    {
     "name": "stderr",
     "output_type": "stream",
     "text": [
      " 67%|██████▋   | 202/300 [04:17<02:05,  1.28s/it]"
     ]
    },
    {
     "name": "stdout",
     "output_type": "stream",
     "text": [
      "Metrics logged at step 25250\n",
      "Epoch 202 Validation Loss 0.3229809105396271\n",
      "Metrics logged at step 25300\n"
     ]
    },
    {
     "name": "stderr",
     "output_type": "stream",
     "text": [
      " 68%|██████▊   | 203/300 [04:18<02:00,  1.24s/it]"
     ]
    },
    {
     "name": "stdout",
     "output_type": "stream",
     "text": [
      "Metrics logged at step 25350\n",
      "Epoch 203 Validation Loss 0.3237242102622986\n",
      "Metrics logged at step 25400\n",
      "Metrics logged at step 25450\n"
     ]
    },
    {
     "name": "stderr",
     "output_type": "stream",
     "text": [
      " 68%|██████▊   | 204/300 [04:19<02:02,  1.28s/it]"
     ]
    },
    {
     "name": "stdout",
     "output_type": "stream",
     "text": [
      "Metrics logged at step 25500\n",
      "Epoch 204 Validation Loss 0.323843777179718\n",
      "Metrics logged at step 25550\n"
     ]
    },
    {
     "name": "stderr",
     "output_type": "stream",
     "text": [
      " 68%|██████▊   | 205/300 [04:21<01:57,  1.24s/it]"
     ]
    },
    {
     "name": "stdout",
     "output_type": "stream",
     "text": [
      "Metrics logged at step 25600\n",
      "Epoch 205 Validation Loss 0.32340726256370544\n",
      "Metrics logged at step 25650\n",
      "Metrics logged at step 25700\n"
     ]
    },
    {
     "name": "stderr",
     "output_type": "stream",
     "text": [
      " 69%|██████▊   | 206/300 [04:22<01:59,  1.28s/it]"
     ]
    },
    {
     "name": "stdout",
     "output_type": "stream",
     "text": [
      "Metrics logged at step 25750\n",
      "Epoch 206 Validation Loss 0.3241691291332245\n",
      "Metrics logged at step 25800\n"
     ]
    },
    {
     "name": "stderr",
     "output_type": "stream",
     "text": [
      " 69%|██████▉   | 207/300 [04:23<01:57,  1.27s/it]"
     ]
    },
    {
     "name": "stdout",
     "output_type": "stream",
     "text": [
      "Metrics logged at step 25850\n",
      "Epoch 207 Validation Loss 0.3235507607460022\n",
      "Metrics logged at step 25900\n",
      "Metrics logged at step 25950\n"
     ]
    },
    {
     "name": "stderr",
     "output_type": "stream",
     "text": [
      " 69%|██████▉   | 208/300 [04:25<01:59,  1.30s/it]"
     ]
    },
    {
     "name": "stdout",
     "output_type": "stream",
     "text": [
      "Metrics logged at step 26000\n",
      "Epoch 208 Validation Loss 0.3249470889568329\n",
      "Metrics logged at step 26050\n"
     ]
    },
    {
     "name": "stderr",
     "output_type": "stream",
     "text": [
      " 70%|██████▉   | 209/300 [04:26<01:53,  1.25s/it]"
     ]
    },
    {
     "name": "stdout",
     "output_type": "stream",
     "text": [
      "Metrics logged at step 26100\n",
      "Epoch 209 Validation Loss 0.32422876358032227\n",
      "Metrics logged at step 26150\n",
      "Metrics logged at step 26200\n"
     ]
    },
    {
     "name": "stderr",
     "output_type": "stream",
     "text": [
      " 70%|███████   | 210/300 [04:27<01:55,  1.28s/it]"
     ]
    },
    {
     "name": "stdout",
     "output_type": "stream",
     "text": [
      "Metrics logged at step 26250\n",
      "Epoch 210 Samples 8000 Step 124 Training Loss 0.3247585892677307\n",
      "Epoch 210 Validation Loss 0.32350876927375793\n",
      "Metrics logged at step 26300\n"
     ]
    },
    {
     "name": "stderr",
     "output_type": "stream",
     "text": [
      " 70%|███████   | 211/300 [04:28<01:50,  1.24s/it]"
     ]
    },
    {
     "name": "stdout",
     "output_type": "stream",
     "text": [
      "Metrics logged at step 26350\n",
      "Epoch 211 Validation Loss 0.3235824406147003\n",
      "Metrics logged at step 26400\n",
      "Metrics logged at step 26450\n"
     ]
    },
    {
     "name": "stderr",
     "output_type": "stream",
     "text": [
      " 71%|███████   | 212/300 [04:30<01:52,  1.28s/it]"
     ]
    },
    {
     "name": "stdout",
     "output_type": "stream",
     "text": [
      "Metrics logged at step 26500\n",
      "Epoch 212 Validation Loss 0.3249070644378662\n",
      "Metrics logged at step 26550\n"
     ]
    },
    {
     "name": "stderr",
     "output_type": "stream",
     "text": [
      " 71%|███████   | 213/300 [04:31<01:48,  1.24s/it]"
     ]
    },
    {
     "name": "stdout",
     "output_type": "stream",
     "text": [
      "Metrics logged at step 26600\n",
      "Epoch 213 Validation Loss 0.32345038652420044\n",
      "Metrics logged at step 26650\n",
      "Metrics logged at step 26700\n"
     ]
    },
    {
     "name": "stderr",
     "output_type": "stream",
     "text": [
      " 71%|███████▏  | 214/300 [04:32<01:49,  1.27s/it]"
     ]
    },
    {
     "name": "stdout",
     "output_type": "stream",
     "text": [
      "Metrics logged at step 26750\n",
      "Epoch 214 Validation Loss 0.3244287967681885\n",
      "Metrics logged at step 26800\n"
     ]
    },
    {
     "name": "stderr",
     "output_type": "stream",
     "text": [
      " 72%|███████▏  | 215/300 [04:33<01:45,  1.24s/it]"
     ]
    },
    {
     "name": "stdout",
     "output_type": "stream",
     "text": [
      "Metrics logged at step 26850\n",
      "Epoch 215 Validation Loss 0.3237283527851105\n",
      "Metrics logged at step 26900\n",
      "Metrics logged at step 26950\n"
     ]
    },
    {
     "name": "stderr",
     "output_type": "stream",
     "text": [
      " 72%|███████▏  | 216/300 [04:35<01:48,  1.29s/it]"
     ]
    },
    {
     "name": "stdout",
     "output_type": "stream",
     "text": [
      "Metrics logged at step 27000\n",
      "Epoch 216 Validation Loss 0.3227037489414215\n",
      "Metrics logged at step 27050\n"
     ]
    },
    {
     "name": "stderr",
     "output_type": "stream",
     "text": [
      " 72%|███████▏  | 217/300 [04:36<01:42,  1.24s/it]"
     ]
    },
    {
     "name": "stdout",
     "output_type": "stream",
     "text": [
      "Metrics logged at step 27100\n",
      "Epoch 217 Validation Loss 0.32335206866264343\n",
      "Metrics logged at step 27150\n",
      "Metrics logged at step 27200\n"
     ]
    },
    {
     "name": "stderr",
     "output_type": "stream",
     "text": [
      " 73%|███████▎  | 218/300 [04:37<01:43,  1.27s/it]"
     ]
    },
    {
     "name": "stdout",
     "output_type": "stream",
     "text": [
      "Metrics logged at step 27250\n",
      "Epoch 218 Validation Loss 0.3231073021888733\n",
      "Metrics logged at step 27300\n"
     ]
    },
    {
     "name": "stderr",
     "output_type": "stream",
     "text": [
      " 73%|███████▎  | 219/300 [04:38<01:39,  1.23s/it]"
     ]
    },
    {
     "name": "stdout",
     "output_type": "stream",
     "text": [
      "Metrics logged at step 27350\n",
      "Epoch 219 Validation Loss 0.3241966962814331\n",
      "Metrics logged at step 27400\n",
      "Metrics logged at step 27450\n"
     ]
    },
    {
     "name": "stderr",
     "output_type": "stream",
     "text": [
      " 73%|███████▎  | 220/300 [04:40<01:40,  1.26s/it]"
     ]
    },
    {
     "name": "stdout",
     "output_type": "stream",
     "text": [
      "Metrics logged at step 27500\n",
      "Epoch 220 Samples 8000 Step 124 Training Loss 0.322230726480484\n",
      "Epoch 220 Validation Loss 0.3227580785751343\n",
      "Metrics logged at step 27550\n"
     ]
    },
    {
     "name": "stderr",
     "output_type": "stream",
     "text": [
      " 74%|███████▎  | 221/300 [04:41<01:37,  1.23s/it]"
     ]
    },
    {
     "name": "stdout",
     "output_type": "stream",
     "text": [
      "Metrics logged at step 27600\n",
      "Epoch 221 Validation Loss 0.32297083735466003\n",
      "Metrics logged at step 27650\n",
      "Metrics logged at step 27700\n"
     ]
    },
    {
     "name": "stderr",
     "output_type": "stream",
     "text": [
      " 74%|███████▍  | 222/300 [04:42<01:38,  1.27s/it]"
     ]
    },
    {
     "name": "stdout",
     "output_type": "stream",
     "text": [
      "Metrics logged at step 27750\n",
      "Epoch 222 Validation Loss 0.3252772092819214\n",
      "Metrics logged at step 27800\n"
     ]
    },
    {
     "name": "stderr",
     "output_type": "stream",
     "text": [
      " 74%|███████▍  | 223/300 [04:43<01:36,  1.25s/it]"
     ]
    },
    {
     "name": "stdout",
     "output_type": "stream",
     "text": [
      "Metrics logged at step 27850\n",
      "Epoch 223 Validation Loss 0.32269662618637085\n",
      "Metrics logged at step 27900\n",
      "Metrics logged at step 27950\n"
     ]
    },
    {
     "name": "stderr",
     "output_type": "stream",
     "text": [
      " 75%|███████▍  | 224/300 [04:45<01:37,  1.28s/it]"
     ]
    },
    {
     "name": "stdout",
     "output_type": "stream",
     "text": [
      "Metrics logged at step 28000\n",
      "Epoch 224 Validation Loss 0.3242065906524658\n",
      "Metrics logged at step 28050\n"
     ]
    },
    {
     "name": "stderr",
     "output_type": "stream",
     "text": [
      " 75%|███████▌  | 225/300 [04:46<01:32,  1.23s/it]"
     ]
    },
    {
     "name": "stdout",
     "output_type": "stream",
     "text": [
      "Metrics logged at step 28100\n",
      "Epoch 225 Validation Loss 0.32285213470458984\n",
      "Metrics logged at step 28150\n",
      "Metrics logged at step 28200\n"
     ]
    },
    {
     "name": "stderr",
     "output_type": "stream",
     "text": [
      " 75%|███████▌  | 226/300 [04:47<01:33,  1.26s/it]"
     ]
    },
    {
     "name": "stdout",
     "output_type": "stream",
     "text": [
      "Metrics logged at step 28250\n",
      "Epoch 226 Validation Loss 0.3254522979259491\n",
      "Metrics logged at step 28300\n"
     ]
    },
    {
     "name": "stderr",
     "output_type": "stream",
     "text": [
      " 76%|███████▌  | 227/300 [04:48<01:29,  1.22s/it]"
     ]
    },
    {
     "name": "stdout",
     "output_type": "stream",
     "text": [
      "Metrics logged at step 28350\n",
      "Epoch 227 Validation Loss 0.3240565061569214\n",
      "Metrics logged at step 28400\n",
      "Metrics logged at step 28450\n"
     ]
    },
    {
     "name": "stderr",
     "output_type": "stream",
     "text": [
      " 76%|███████▌  | 228/300 [04:50<01:31,  1.27s/it]"
     ]
    },
    {
     "name": "stdout",
     "output_type": "stream",
     "text": [
      "Metrics logged at step 28500\n",
      "Epoch 228 Validation Loss 0.3239285349845886\n",
      "Metrics logged at step 28550\n"
     ]
    },
    {
     "name": "stderr",
     "output_type": "stream",
     "text": [
      " 76%|███████▋  | 229/300 [04:51<01:27,  1.23s/it]"
     ]
    },
    {
     "name": "stdout",
     "output_type": "stream",
     "text": [
      "Metrics logged at step 28600\n",
      "Epoch 229 Validation Loss 0.3248100280761719\n",
      "Metrics logged at step 28650\n",
      "Metrics logged at step 28700\n"
     ]
    },
    {
     "name": "stderr",
     "output_type": "stream",
     "text": [
      " 77%|███████▋  | 230/300 [04:52<01:28,  1.26s/it]"
     ]
    },
    {
     "name": "stdout",
     "output_type": "stream",
     "text": [
      "Metrics logged at step 28750\n",
      "Epoch 230 Samples 8000 Step 124 Training Loss 0.3265991806983948\n",
      "Epoch 230 Validation Loss 0.32396697998046875\n",
      "Metrics logged at step 28800\n"
     ]
    },
    {
     "name": "stderr",
     "output_type": "stream",
     "text": [
      " 77%|███████▋  | 231/300 [04:53<01:24,  1.23s/it]"
     ]
    },
    {
     "name": "stdout",
     "output_type": "stream",
     "text": [
      "Metrics logged at step 28850\n",
      "Epoch 231 Validation Loss 0.32528001070022583\n",
      "Metrics logged at step 28900\n",
      "Metrics logged at step 28950\n"
     ]
    },
    {
     "name": "stderr",
     "output_type": "stream",
     "text": [
      " 77%|███████▋  | 232/300 [04:55<01:28,  1.30s/it]"
     ]
    },
    {
     "name": "stdout",
     "output_type": "stream",
     "text": [
      "Metrics logged at step 29000\n",
      "Epoch 232 Validation Loss 0.32339873909950256\n",
      "Metrics logged at step 29050\n"
     ]
    },
    {
     "name": "stderr",
     "output_type": "stream",
     "text": [
      " 78%|███████▊  | 233/300 [04:56<01:24,  1.25s/it]"
     ]
    },
    {
     "name": "stdout",
     "output_type": "stream",
     "text": [
      "Metrics logged at step 29100\n",
      "Epoch 233 Validation Loss 0.3228079080581665\n",
      "Metrics logged at step 29150\n",
      "Metrics logged at step 29200\n"
     ]
    },
    {
     "name": "stderr",
     "output_type": "stream",
     "text": [
      " 78%|███████▊  | 234/300 [04:57<01:24,  1.28s/it]"
     ]
    },
    {
     "name": "stdout",
     "output_type": "stream",
     "text": [
      "Metrics logged at step 29250\n",
      "Epoch 234 Validation Loss 0.3233826160430908\n",
      "Metrics logged at step 29300\n"
     ]
    },
    {
     "name": "stderr",
     "output_type": "stream",
     "text": [
      " 78%|███████▊  | 235/300 [04:58<01:21,  1.25s/it]"
     ]
    },
    {
     "name": "stdout",
     "output_type": "stream",
     "text": [
      "Metrics logged at step 29350\n",
      "Epoch 235 Validation Loss 0.3232996463775635\n",
      "Metrics logged at step 29400\n",
      "Metrics logged at step 29450\n"
     ]
    },
    {
     "name": "stderr",
     "output_type": "stream",
     "text": [
      " 79%|███████▊  | 236/300 [05:00<01:21,  1.28s/it]"
     ]
    },
    {
     "name": "stdout",
     "output_type": "stream",
     "text": [
      "Metrics logged at step 29500\n",
      "Epoch 236 Validation Loss 0.3234003782272339\n",
      "Metrics logged at step 29550\n"
     ]
    },
    {
     "name": "stderr",
     "output_type": "stream",
     "text": [
      " 79%|███████▉  | 237/300 [05:01<01:17,  1.24s/it]"
     ]
    },
    {
     "name": "stdout",
     "output_type": "stream",
     "text": [
      "Metrics logged at step 29600\n",
      "Epoch 237 Validation Loss 0.32511165738105774\n",
      "Metrics logged at step 29650\n",
      "Metrics logged at step 29700\n"
     ]
    },
    {
     "name": "stderr",
     "output_type": "stream",
     "text": [
      " 79%|███████▉  | 238/300 [05:02<01:18,  1.27s/it]"
     ]
    },
    {
     "name": "stdout",
     "output_type": "stream",
     "text": [
      "Metrics logged at step 29750\n",
      "Epoch 238 Validation Loss 0.3227224349975586\n",
      "Metrics logged at step 29800\n"
     ]
    },
    {
     "name": "stderr",
     "output_type": "stream",
     "text": [
      " 80%|███████▉  | 239/300 [05:03<01:16,  1.26s/it]"
     ]
    },
    {
     "name": "stdout",
     "output_type": "stream",
     "text": [
      "Metrics logged at step 29850\n",
      "Epoch 239 Validation Loss 0.3237345218658447\n",
      "Metrics logged at step 29900\n",
      "Metrics logged at step 29950\n"
     ]
    },
    {
     "name": "stderr",
     "output_type": "stream",
     "text": [
      " 80%|████████  | 240/300 [05:05<01:17,  1.29s/it]"
     ]
    },
    {
     "name": "stdout",
     "output_type": "stream",
     "text": [
      "Metrics logged at step 30000\n",
      "Epoch 240 Samples 8000 Step 124 Training Loss 0.3263818323612213\n",
      "Epoch 240 Validation Loss 0.3240465819835663\n",
      "Metrics logged at step 30050\n"
     ]
    },
    {
     "name": "stderr",
     "output_type": "stream",
     "text": [
      " 80%|████████  | 241/300 [05:06<01:13,  1.24s/it]"
     ]
    },
    {
     "name": "stdout",
     "output_type": "stream",
     "text": [
      "Metrics logged at step 30100\n",
      "Epoch 241 Validation Loss 0.32366642355918884\n",
      "Metrics logged at step 30150\n",
      "Metrics logged at step 30200\n"
     ]
    },
    {
     "name": "stderr",
     "output_type": "stream",
     "text": [
      " 81%|████████  | 242/300 [05:07<01:14,  1.28s/it]"
     ]
    },
    {
     "name": "stdout",
     "output_type": "stream",
     "text": [
      "Metrics logged at step 30250\n",
      "Epoch 242 Validation Loss 0.32344236969947815\n",
      "Metrics logged at step 30300\n"
     ]
    },
    {
     "name": "stderr",
     "output_type": "stream",
     "text": [
      " 81%|████████  | 243/300 [05:08<01:10,  1.23s/it]"
     ]
    },
    {
     "name": "stdout",
     "output_type": "stream",
     "text": [
      "Metrics logged at step 30350\n",
      "Epoch 243 Validation Loss 0.3236474394798279\n",
      "Metrics logged at step 30400\n",
      "Metrics logged at step 30450\n"
     ]
    },
    {
     "name": "stderr",
     "output_type": "stream",
     "text": [
      " 81%|████████▏ | 244/300 [05:10<01:11,  1.27s/it]"
     ]
    },
    {
     "name": "stdout",
     "output_type": "stream",
     "text": [
      "Metrics logged at step 30500\n",
      "Epoch 244 Validation Loss 0.3279118537902832\n",
      "Metrics logged at step 30550\n"
     ]
    },
    {
     "name": "stderr",
     "output_type": "stream",
     "text": [
      " 82%|████████▏ | 245/300 [05:11<01:07,  1.24s/it]"
     ]
    },
    {
     "name": "stdout",
     "output_type": "stream",
     "text": [
      "Metrics logged at step 30600\n",
      "Epoch 245 Validation Loss 0.3229476809501648\n",
      "Metrics logged at step 30650\n",
      "Metrics logged at step 30700\n"
     ]
    },
    {
     "name": "stderr",
     "output_type": "stream",
     "text": [
      " 82%|████████▏ | 246/300 [05:12<01:08,  1.27s/it]"
     ]
    },
    {
     "name": "stdout",
     "output_type": "stream",
     "text": [
      "Metrics logged at step 30750\n",
      "Epoch 246 Validation Loss 0.3240586221218109\n",
      "Metrics logged at step 30800\n"
     ]
    },
    {
     "name": "stderr",
     "output_type": "stream",
     "text": [
      " 82%|████████▏ | 247/300 [05:13<01:06,  1.25s/it]"
     ]
    },
    {
     "name": "stdout",
     "output_type": "stream",
     "text": [
      "Metrics logged at step 30850\n",
      "Epoch 247 Validation Loss 0.3241935968399048\n",
      "Metrics logged at step 30900\n",
      "Metrics logged at step 30950\n"
     ]
    },
    {
     "name": "stderr",
     "output_type": "stream",
     "text": [
      " 83%|████████▎ | 248/300 [05:15<01:08,  1.33s/it]"
     ]
    },
    {
     "name": "stdout",
     "output_type": "stream",
     "text": [
      "Metrics logged at step 31000\n",
      "Epoch 248 Validation Loss 0.3228667676448822\n",
      "Metrics logged at step 31050\n"
     ]
    },
    {
     "name": "stderr",
     "output_type": "stream",
     "text": [
      " 83%|████████▎ | 249/300 [05:16<01:07,  1.32s/it]"
     ]
    },
    {
     "name": "stdout",
     "output_type": "stream",
     "text": [
      "Metrics logged at step 31100\n",
      "Epoch 249 Validation Loss 0.3227939307689667\n",
      "Metrics logged at step 31150\n",
      "Metrics logged at step 31200\n"
     ]
    },
    {
     "name": "stderr",
     "output_type": "stream",
     "text": [
      " 83%|████████▎ | 250/300 [05:18<01:06,  1.33s/it]"
     ]
    },
    {
     "name": "stdout",
     "output_type": "stream",
     "text": [
      "Metrics logged at step 31250\n",
      "Epoch 250 Samples 8000 Step 124 Training Loss 0.3214448392391205\n",
      "Epoch 250 Validation Loss 0.32322806119918823\n",
      "Metrics logged at step 31300\n"
     ]
    },
    {
     "name": "stderr",
     "output_type": "stream",
     "text": [
      " 84%|████████▎ | 251/300 [05:19<01:01,  1.26s/it]"
     ]
    },
    {
     "name": "stdout",
     "output_type": "stream",
     "text": [
      "Metrics logged at step 31350\n",
      "Epoch 251 Validation Loss 0.3227672874927521\n",
      "Metrics logged at step 31400\n",
      "Metrics logged at step 31450\n"
     ]
    },
    {
     "name": "stderr",
     "output_type": "stream",
     "text": [
      " 84%|████████▍ | 252/300 [05:20<01:01,  1.28s/it]"
     ]
    },
    {
     "name": "stdout",
     "output_type": "stream",
     "text": [
      "Metrics logged at step 31500\n",
      "Epoch 252 Validation Loss 0.32423242926597595\n",
      "Metrics logged at step 31550\n"
     ]
    },
    {
     "name": "stderr",
     "output_type": "stream",
     "text": [
      " 84%|████████▍ | 253/300 [05:21<00:57,  1.22s/it]"
     ]
    },
    {
     "name": "stdout",
     "output_type": "stream",
     "text": [
      "Metrics logged at step 31600\n",
      "Epoch 253 Validation Loss 0.3248426914215088\n",
      "Metrics logged at step 31650\n",
      "Metrics logged at step 31700\n"
     ]
    },
    {
     "name": "stderr",
     "output_type": "stream",
     "text": [
      " 85%|████████▍ | 254/300 [05:22<00:57,  1.26s/it]"
     ]
    },
    {
     "name": "stdout",
     "output_type": "stream",
     "text": [
      "Metrics logged at step 31750\n",
      "Epoch 254 Validation Loss 0.32324501872062683\n",
      "Metrics logged at step 31800\n",
      "Metrics logged at step 31850\n"
     ]
    },
    {
     "name": "stderr",
     "output_type": "stream",
     "text": [
      " 85%|████████▌ | 255/300 [05:24<00:56,  1.25s/it]"
     ]
    },
    {
     "name": "stdout",
     "output_type": "stream",
     "text": [
      "Epoch 255 Validation Loss 0.32329654693603516\n",
      "Metrics logged at step 31900\n",
      "Metrics logged at step 31950\n"
     ]
    },
    {
     "name": "stderr",
     "output_type": "stream",
     "text": [
      " 85%|████████▌ | 256/300 [05:25<00:57,  1.31s/it]"
     ]
    },
    {
     "name": "stdout",
     "output_type": "stream",
     "text": [
      "Metrics logged at step 32000\n",
      "Epoch 256 Validation Loss 0.3230161666870117\n",
      "Metrics logged at step 32050\n"
     ]
    },
    {
     "name": "stderr",
     "output_type": "stream",
     "text": [
      " 86%|████████▌ | 257/300 [05:26<00:56,  1.31s/it]"
     ]
    },
    {
     "name": "stdout",
     "output_type": "stream",
     "text": [
      "Metrics logged at step 32100\n",
      "Epoch 257 Validation Loss 0.3232481777667999\n",
      "Metrics logged at step 32150\n",
      "Metrics logged at step 32200\n"
     ]
    },
    {
     "name": "stderr",
     "output_type": "stream",
     "text": [
      " 86%|████████▌ | 258/300 [05:28<00:54,  1.31s/it]"
     ]
    },
    {
     "name": "stdout",
     "output_type": "stream",
     "text": [
      "Metrics logged at step 32250\n",
      "Epoch 258 Validation Loss 0.32415369153022766\n",
      "Metrics logged at step 32300\n"
     ]
    },
    {
     "name": "stderr",
     "output_type": "stream",
     "text": [
      " 86%|████████▋ | 259/300 [05:29<00:50,  1.24s/it]"
     ]
    },
    {
     "name": "stdout",
     "output_type": "stream",
     "text": [
      "Metrics logged at step 32350\n",
      "Epoch 259 Validation Loss 0.3239706754684448\n",
      "Metrics logged at step 32400\n",
      "Metrics logged at step 32450\n"
     ]
    },
    {
     "name": "stderr",
     "output_type": "stream",
     "text": [
      " 87%|████████▋ | 260/300 [05:30<00:50,  1.27s/it]"
     ]
    },
    {
     "name": "stdout",
     "output_type": "stream",
     "text": [
      "Metrics logged at step 32500\n",
      "Epoch 260 Samples 8000 Step 124 Training Loss 0.3273034989833832\n",
      "Epoch 260 Validation Loss 0.32338589429855347\n",
      "Metrics logged at step 32550\n"
     ]
    },
    {
     "name": "stderr",
     "output_type": "stream",
     "text": [
      " 87%|████████▋ | 261/300 [05:31<00:48,  1.24s/it]"
     ]
    },
    {
     "name": "stdout",
     "output_type": "stream",
     "text": [
      "Metrics logged at step 32600\n",
      "Epoch 261 Validation Loss 0.32301342487335205\n",
      "Metrics logged at step 32650\n",
      "Metrics logged at step 32700\n"
     ]
    },
    {
     "name": "stderr",
     "output_type": "stream",
     "text": [
      " 87%|████████▋ | 262/300 [05:33<00:48,  1.27s/it]"
     ]
    },
    {
     "name": "stdout",
     "output_type": "stream",
     "text": [
      "Metrics logged at step 32750\n",
      "Epoch 262 Validation Loss 0.32440322637557983\n",
      "Metrics logged at step 32800\n"
     ]
    },
    {
     "name": "stderr",
     "output_type": "stream",
     "text": [
      " 88%|████████▊ | 263/300 [05:34<00:46,  1.26s/it]"
     ]
    },
    {
     "name": "stdout",
     "output_type": "stream",
     "text": [
      "Metrics logged at step 32850\n",
      "Epoch 263 Validation Loss 0.3229011595249176\n",
      "Metrics logged at step 32900\n",
      "Metrics logged at step 32950\n"
     ]
    },
    {
     "name": "stderr",
     "output_type": "stream",
     "text": [
      " 88%|████████▊ | 264/300 [05:35<00:46,  1.28s/it]"
     ]
    },
    {
     "name": "stdout",
     "output_type": "stream",
     "text": [
      "Metrics logged at step 33000\n",
      "Epoch 264 Validation Loss 0.32325050234794617\n",
      "Metrics logged at step 33050\n"
     ]
    },
    {
     "name": "stderr",
     "output_type": "stream",
     "text": [
      " 88%|████████▊ | 265/300 [05:36<00:42,  1.23s/it]"
     ]
    },
    {
     "name": "stdout",
     "output_type": "stream",
     "text": [
      "Metrics logged at step 33100\n",
      "Epoch 265 Validation Loss 0.32416069507598877\n",
      "Metrics logged at step 33150\n",
      "Metrics logged at step 33200\n"
     ]
    },
    {
     "name": "stderr",
     "output_type": "stream",
     "text": [
      " 89%|████████▊ | 266/300 [05:38<00:42,  1.26s/it]"
     ]
    },
    {
     "name": "stdout",
     "output_type": "stream",
     "text": [
      "Metrics logged at step 33250\n",
      "Epoch 266 Validation Loss 0.3232026696205139\n",
      "Metrics logged at step 33300\n"
     ]
    },
    {
     "name": "stderr",
     "output_type": "stream",
     "text": [
      " 89%|████████▉ | 267/300 [05:39<00:39,  1.21s/it]"
     ]
    },
    {
     "name": "stdout",
     "output_type": "stream",
     "text": [
      "Metrics logged at step 33350\n",
      "Epoch 267 Validation Loss 0.32353106141090393\n",
      "Metrics logged at step 33400\n",
      "Metrics logged at step 33450\n"
     ]
    },
    {
     "name": "stderr",
     "output_type": "stream",
     "text": [
      " 89%|████████▉ | 268/300 [05:40<00:39,  1.24s/it]"
     ]
    },
    {
     "name": "stdout",
     "output_type": "stream",
     "text": [
      "Metrics logged at step 33500\n",
      "Epoch 268 Validation Loss 0.32339057326316833\n",
      "Metrics logged at step 33550\n"
     ]
    },
    {
     "name": "stderr",
     "output_type": "stream",
     "text": [
      " 90%|████████▉ | 269/300 [05:41<00:37,  1.21s/it]"
     ]
    },
    {
     "name": "stdout",
     "output_type": "stream",
     "text": [
      "Metrics logged at step 33600\n",
      "Epoch 269 Validation Loss 0.323501318693161\n",
      "Metrics logged at step 33650\n",
      "Metrics logged at step 33700\n"
     ]
    },
    {
     "name": "stderr",
     "output_type": "stream",
     "text": [
      " 90%|█████████ | 270/300 [05:43<00:37,  1.24s/it]"
     ]
    },
    {
     "name": "stdout",
     "output_type": "stream",
     "text": [
      "Metrics logged at step 33750\n",
      "Epoch 270 Samples 8000 Step 124 Training Loss 0.3207683265209198\n",
      "Epoch 270 Validation Loss 0.3226521611213684\n",
      "Metrics logged at step 33800\n"
     ]
    },
    {
     "name": "stderr",
     "output_type": "stream",
     "text": [
      " 90%|█████████ | 271/300 [05:44<00:35,  1.21s/it]"
     ]
    },
    {
     "name": "stdout",
     "output_type": "stream",
     "text": [
      "Metrics logged at step 33850\n",
      "Epoch 271 Validation Loss 0.3233266770839691\n",
      "Metrics logged at step 33900\n",
      "Metrics logged at step 33950\n"
     ]
    },
    {
     "name": "stderr",
     "output_type": "stream",
     "text": [
      " 91%|█████████ | 272/300 [05:45<00:37,  1.33s/it]"
     ]
    },
    {
     "name": "stdout",
     "output_type": "stream",
     "text": [
      "Metrics logged at step 34000\n",
      "Epoch 272 Validation Loss 0.32325246930122375\n",
      "Metrics logged at step 34050\n"
     ]
    },
    {
     "name": "stderr",
     "output_type": "stream",
     "text": [
      " 91%|█████████ | 273/300 [05:46<00:34,  1.28s/it]"
     ]
    },
    {
     "name": "stdout",
     "output_type": "stream",
     "text": [
      "Metrics logged at step 34100\n",
      "Epoch 273 Validation Loss 0.3282608389854431\n",
      "Metrics logged at step 34150\n",
      "Metrics logged at step 34200\n"
     ]
    },
    {
     "name": "stderr",
     "output_type": "stream",
     "text": [
      " 91%|█████████▏| 274/300 [05:48<00:33,  1.29s/it]"
     ]
    },
    {
     "name": "stdout",
     "output_type": "stream",
     "text": [
      "Metrics logged at step 34250\n",
      "Epoch 274 Validation Loss 0.3233053386211395\n",
      "Metrics logged at step 34300\n"
     ]
    },
    {
     "name": "stderr",
     "output_type": "stream",
     "text": [
      " 92%|█████████▏| 275/300 [05:49<00:30,  1.23s/it]"
     ]
    },
    {
     "name": "stdout",
     "output_type": "stream",
     "text": [
      "Metrics logged at step 34350\n",
      "Epoch 275 Validation Loss 0.32350894808769226\n",
      "Metrics logged at step 34400\n",
      "Metrics logged at step 34450\n"
     ]
    },
    {
     "name": "stderr",
     "output_type": "stream",
     "text": [
      " 92%|█████████▏| 276/300 [05:50<00:30,  1.26s/it]"
     ]
    },
    {
     "name": "stdout",
     "output_type": "stream",
     "text": [
      "Metrics logged at step 34500\n",
      "Epoch 276 Validation Loss 0.324492871761322\n",
      "Metrics logged at step 34550\n"
     ]
    },
    {
     "name": "stderr",
     "output_type": "stream",
     "text": [
      " 92%|█████████▏| 277/300 [05:51<00:28,  1.23s/it]"
     ]
    },
    {
     "name": "stdout",
     "output_type": "stream",
     "text": [
      "Metrics logged at step 34600\n",
      "Epoch 277 Validation Loss 0.32503554224967957\n",
      "Metrics logged at step 34650\n",
      "Metrics logged at step 34700\n"
     ]
    },
    {
     "name": "stderr",
     "output_type": "stream",
     "text": [
      " 93%|█████████▎| 278/300 [05:53<00:27,  1.26s/it]"
     ]
    },
    {
     "name": "stdout",
     "output_type": "stream",
     "text": [
      "Metrics logged at step 34750\n",
      "Epoch 278 Validation Loss 0.32334762811660767\n",
      "Metrics logged at step 34800\n"
     ]
    },
    {
     "name": "stderr",
     "output_type": "stream",
     "text": [
      " 93%|█████████▎| 279/300 [05:54<00:25,  1.22s/it]"
     ]
    },
    {
     "name": "stdout",
     "output_type": "stream",
     "text": [
      "Metrics logged at step 34850\n",
      "Epoch 279 Validation Loss 0.32452401518821716\n",
      "Metrics logged at step 34900\n",
      "Metrics logged at step 34950\n"
     ]
    },
    {
     "name": "stderr",
     "output_type": "stream",
     "text": [
      " 93%|█████████▎| 280/300 [05:55<00:25,  1.26s/it]"
     ]
    },
    {
     "name": "stdout",
     "output_type": "stream",
     "text": [
      "Metrics logged at step 35000\n",
      "Epoch 280 Samples 8000 Step 124 Training Loss 0.3180866837501526\n",
      "Epoch 280 Validation Loss 0.32318970561027527\n",
      "Metrics logged at step 35050\n"
     ]
    },
    {
     "name": "stderr",
     "output_type": "stream",
     "text": [
      " 94%|█████████▎| 281/300 [05:56<00:23,  1.22s/it]"
     ]
    },
    {
     "name": "stdout",
     "output_type": "stream",
     "text": [
      "Metrics logged at step 35100\n",
      "Epoch 281 Validation Loss 0.32333025336265564\n",
      "Metrics logged at step 35150\n",
      "Metrics logged at step 35200\n"
     ]
    },
    {
     "name": "stderr",
     "output_type": "stream",
     "text": [
      " 94%|█████████▍| 282/300 [05:58<00:22,  1.25s/it]"
     ]
    },
    {
     "name": "stdout",
     "output_type": "stream",
     "text": [
      "Metrics logged at step 35250\n",
      "Epoch 282 Validation Loss 0.3225473165512085\n",
      "Metrics logged at step 35300\n"
     ]
    },
    {
     "name": "stderr",
     "output_type": "stream",
     "text": [
      " 94%|█████████▍| 283/300 [05:59<00:20,  1.21s/it]"
     ]
    },
    {
     "name": "stdout",
     "output_type": "stream",
     "text": [
      "Metrics logged at step 35350\n",
      "Epoch 283 Validation Loss 0.32302701473236084\n",
      "Metrics logged at step 35400\n",
      "Metrics logged at step 35450\n"
     ]
    },
    {
     "name": "stderr",
     "output_type": "stream",
     "text": [
      " 95%|█████████▍| 284/300 [06:00<00:19,  1.24s/it]"
     ]
    },
    {
     "name": "stdout",
     "output_type": "stream",
     "text": [
      "Metrics logged at step 35500\n",
      "Epoch 284 Validation Loss 0.3243646025657654\n",
      "Metrics logged at step 35550\n"
     ]
    },
    {
     "name": "stderr",
     "output_type": "stream",
     "text": [
      " 95%|█████████▌| 285/300 [06:01<00:18,  1.21s/it]"
     ]
    },
    {
     "name": "stdout",
     "output_type": "stream",
     "text": [
      "Metrics logged at step 35600\n",
      "Epoch 285 Validation Loss 0.32356998324394226\n",
      "Metrics logged at step 35650\n",
      "Metrics logged at step 35700\n"
     ]
    },
    {
     "name": "stderr",
     "output_type": "stream",
     "text": [
      " 95%|█████████▌| 286/300 [06:02<00:17,  1.24s/it]"
     ]
    },
    {
     "name": "stdout",
     "output_type": "stream",
     "text": [
      "Metrics logged at step 35750\n",
      "Epoch 286 Validation Loss 0.32404977083206177\n",
      "Metrics logged at step 35800\n"
     ]
    },
    {
     "name": "stderr",
     "output_type": "stream",
     "text": [
      " 96%|█████████▌| 287/300 [06:04<00:15,  1.21s/it]"
     ]
    },
    {
     "name": "stdout",
     "output_type": "stream",
     "text": [
      "Metrics logged at step 35850\n",
      "Epoch 287 Validation Loss 0.3233213722705841\n",
      "Metrics logged at step 35900\n",
      "Metrics logged at step 35950\n"
     ]
    },
    {
     "name": "stderr",
     "output_type": "stream",
     "text": [
      " 96%|█████████▌| 288/300 [06:05<00:15,  1.27s/it]"
     ]
    },
    {
     "name": "stdout",
     "output_type": "stream",
     "text": [
      "Metrics logged at step 36000\n",
      "Epoch 288 Validation Loss 0.3252798914909363\n",
      "Metrics logged at step 36050\n"
     ]
    },
    {
     "name": "stderr",
     "output_type": "stream",
     "text": [
      " 96%|█████████▋| 289/300 [06:06<00:13,  1.22s/it]"
     ]
    },
    {
     "name": "stdout",
     "output_type": "stream",
     "text": [
      "Metrics logged at step 36100\n",
      "Epoch 289 Validation Loss 0.3228525221347809\n",
      "Metrics logged at step 36150\n",
      "Metrics logged at step 36200\n"
     ]
    },
    {
     "name": "stderr",
     "output_type": "stream",
     "text": [
      " 97%|█████████▋| 290/300 [06:07<00:12,  1.26s/it]"
     ]
    },
    {
     "name": "stdout",
     "output_type": "stream",
     "text": [
      "Metrics logged at step 36250\n",
      "Epoch 290 Samples 8000 Step 124 Training Loss 0.32480886578559875\n",
      "Epoch 290 Validation Loss 0.3230728209018707\n",
      "Metrics logged at step 36300\n"
     ]
    },
    {
     "name": "stderr",
     "output_type": "stream",
     "text": [
      " 97%|█████████▋| 291/300 [06:09<00:10,  1.21s/it]"
     ]
    },
    {
     "name": "stdout",
     "output_type": "stream",
     "text": [
      "Metrics logged at step 36350\n",
      "Epoch 291 Validation Loss 0.3236546814441681\n",
      "Metrics logged at step 36400\n",
      "Metrics logged at step 36450\n"
     ]
    },
    {
     "name": "stderr",
     "output_type": "stream",
     "text": [
      " 97%|█████████▋| 292/300 [06:10<00:09,  1.25s/it]"
     ]
    },
    {
     "name": "stdout",
     "output_type": "stream",
     "text": [
      "Metrics logged at step 36500\n",
      "Epoch 292 Validation Loss 0.324679434299469\n",
      "Metrics logged at step 36550\n"
     ]
    },
    {
     "name": "stderr",
     "output_type": "stream",
     "text": [
      " 98%|█████████▊| 293/300 [06:11<00:08,  1.22s/it]"
     ]
    },
    {
     "name": "stdout",
     "output_type": "stream",
     "text": [
      "Metrics logged at step 36600\n",
      "Epoch 293 Validation Loss 0.3238588273525238\n",
      "Metrics logged at step 36650\n",
      "Metrics logged at step 36700\n"
     ]
    },
    {
     "name": "stderr",
     "output_type": "stream",
     "text": [
      " 98%|█████████▊| 294/300 [06:12<00:07,  1.25s/it]"
     ]
    },
    {
     "name": "stdout",
     "output_type": "stream",
     "text": [
      "Metrics logged at step 36750\n",
      "Epoch 294 Validation Loss 0.32256683707237244\n",
      "Metrics logged at step 36800\n",
      "Metrics logged at step 36850\n"
     ]
    },
    {
     "name": "stderr",
     "output_type": "stream",
     "text": [
      " 98%|█████████▊| 295/300 [06:14<00:06,  1.23s/it]"
     ]
    },
    {
     "name": "stdout",
     "output_type": "stream",
     "text": [
      "Epoch 295 Validation Loss 0.3241828680038452\n",
      "Metrics logged at step 36900\n",
      "Metrics logged at step 36950\n"
     ]
    },
    {
     "name": "stderr",
     "output_type": "stream",
     "text": [
      " 99%|█████████▊| 296/300 [06:15<00:05,  1.27s/it]"
     ]
    },
    {
     "name": "stdout",
     "output_type": "stream",
     "text": [
      "Metrics logged at step 37000\n",
      "Epoch 296 Validation Loss 0.3225462734699249\n",
      "Metrics logged at step 37050\n"
     ]
    },
    {
     "name": "stderr",
     "output_type": "stream",
     "text": [
      " 99%|█████████▉| 297/300 [06:16<00:03,  1.22s/it]"
     ]
    },
    {
     "name": "stdout",
     "output_type": "stream",
     "text": [
      "Metrics logged at step 37100\n",
      "Epoch 297 Validation Loss 0.3225328028202057\n",
      "Metrics logged at step 37150\n",
      "Metrics logged at step 37200\n"
     ]
    },
    {
     "name": "stderr",
     "output_type": "stream",
     "text": [
      " 99%|█████████▉| 298/300 [06:17<00:02,  1.26s/it]"
     ]
    },
    {
     "name": "stdout",
     "output_type": "stream",
     "text": [
      "Metrics logged at step 37250\n",
      "Epoch 298 Validation Loss 0.32281333208084106\n",
      "Metrics logged at step 37300\n"
     ]
    },
    {
     "name": "stderr",
     "output_type": "stream",
     "text": [
      "100%|█████████▉| 299/300 [06:19<00:01,  1.22s/it]"
     ]
    },
    {
     "name": "stdout",
     "output_type": "stream",
     "text": [
      "Metrics logged at step 37350\n",
      "Epoch 299 Validation Loss 0.3231199085712433\n",
      "Metrics logged at step 37400\n",
      "Metrics logged at step 37450\n"
     ]
    },
    {
     "name": "stderr",
     "output_type": "stream",
     "text": [
      "100%|██████████| 300/300 [06:20<00:00,  1.27s/it]\n",
      "\u001b[34m\u001b[1mwandb\u001b[0m: \u001b[32m\u001b[41mERROR\u001b[0m The nbformat package was not found. It is required to save notebook history.\n"
     ]
    },
    {
     "name": "stdout",
     "output_type": "stream",
     "text": [
      "Metrics logged at step 37500\n",
      "Epoch 300 Samples 8000 Step 124 Training Loss 0.3270306885242462\n",
      "Epoch 300 Validation Loss 0.3229559063911438\n"
     ]
    },
    {
     "data": {
      "text/html": [],
      "text/plain": [
       "<IPython.core.display.HTML object>"
      ]
     },
     "metadata": {},
     "output_type": "display_data"
    },
    {
     "data": {
      "text/html": [
       "<br>    <style><br>        .wandb-row {<br>            display: flex;<br>            flex-direction: row;<br>            flex-wrap: wrap;<br>            justify-content: flex-start;<br>            width: 100%;<br>        }<br>        .wandb-col {<br>            display: flex;<br>            flex-direction: column;<br>            flex-basis: 100%;<br>            flex: 1;<br>            padding: 10px;<br>        }<br>    </style><br><div class=\"wandb-row\"><div class=\"wandb-col\"><h3>Run history:</h3><br/><table class=\"wandb\"><tr><td>1gram_kl_model_to_true</td><td>▁▁▁▁▄▆▆▆▇▇▇▇▇▇▇█▇███████████████████████</td></tr><tr><td>1gram_kl_true_to_model</td><td>▁▁▁▂▃▃▃▃▄▄▄▄▄▄▄▅▆▆▅▆▇▆▇▆▇▇▇▇▇▇▇▇▇▇▇█▇▇██</td></tr><tr><td>2gram_kl_model_to_true</td><td>▁▁▁▃▃▆▆▆▆▇▇▇▇▇███▇██████▇███████████▇███</td></tr><tr><td>2gram_kl_true_to_model</td><td>▁▁▁▁▁▁▁▁▂▃▃▄▄▅▅▆▆▆▇▇▆▇▇▇▇▇▇▇▇▇▇▇█▇██████</td></tr><tr><td>3gram_kl_model_to_true</td><td>▁▃▇▇▇█▇▇▇███████████████████████████████</td></tr><tr><td>3gram_kl_true_to_model</td><td>▁▁▁▁▂▃▄▄▄▄▅▅▅▅▆▆▆▆▆▇▇▇▇▇▇▇▇▇▇▇▇▇█▇█▇████</td></tr><tr><td>avg_prev_token_matching</td><td>▂▁▁▁▁▁▁▁▂▂▂▃▄▆▇▇▇▇▇▇█▇▇█████████████████</td></tr><tr><td>epoch</td><td>▁▁▁▁▁▂▂▂▂▃▃▃▃▃▃▄▄▄▄▅▅▅▅▅▅▅▆▆▆▆▆▆▆▇▇▇▇▇██</td></tr><tr><td>markov0_to_model_kl</td><td>█▇▇▆▅▄▄▄▃▃▂▂▁▂▁▁▂▁▁▁▁▁▁▁▁▁▁▁▁▁▁▁▁▁▁▁▁▂▁▁</td></tr><tr><td>markov1_to_model_kl</td><td>███▆▂▂▁▁▁▁▁▁▁▂▂▁▁▁▁▁▁▁▁▁▁▁▁▁▁▁▁▁▁▁▁▁▁▁▁▁</td></tr><tr><td>+10</td><td>...</td></tr></table><br/></div><div class=\"wandb-col\"><h3>Run summary:</h3><br/><table class=\"wandb\"><tr><td>1gram_kl_model_to_true</td><td>0.33935</td></tr><tr><td>1gram_kl_true_to_model</td><td>2.09553</td></tr><tr><td>2gram_kl_model_to_true</td><td>0.31397</td></tr><tr><td>2gram_kl_true_to_model</td><td>2.10087</td></tr><tr><td>3gram_kl_model_to_true</td><td>1.8943</td></tr><tr><td>3gram_kl_true_to_model</td><td>2.56979</td></tr><tr><td>avg_prev_token_matching</td><td>0.15243</td></tr><tr><td>epoch</td><td>300</td></tr><tr><td>markov0_to_model_kl</td><td>0.02561</td></tr><tr><td>markov1_to_model_kl</td><td>0.02385</td></tr><tr><td>+10</td><td>...</td></tr></table><br/></div></div>"
      ],
      "text/plain": [
       "<IPython.core.display.HTML object>"
      ]
     },
     "metadata": {},
     "output_type": "display_data"
    },
    {
     "data": {
      "text/html": [
       " View run <strong style=\"color:#cdcd00\">worldly-silence-46</strong> at: <a href='https://wandb.ai/jerrycloud3316-ai-club-iit-madras/ICL/runs/1nrm9b82' target=\"_blank\">https://wandb.ai/jerrycloud3316-ai-club-iit-madras/ICL/runs/1nrm9b82</a><br> View project at: <a href='https://wandb.ai/jerrycloud3316-ai-club-iit-madras/ICL' target=\"_blank\">https://wandb.ai/jerrycloud3316-ai-club-iit-madras/ICL</a><br>Synced 5 W&B file(s), 0 media file(s), 0 artifact file(s) and 0 other file(s)"
      ],
      "text/plain": [
       "<IPython.core.display.HTML object>"
      ]
     },
     "metadata": {},
     "output_type": "display_data"
    },
    {
     "data": {
      "text/html": [
       "Find logs at: <code>./wandb/run-20250916_163436-1nrm9b82/logs</code>"
      ],
      "text/plain": [
       "<IPython.core.display.HTML object>"
      ]
     },
     "metadata": {},
     "output_type": "display_data"
    }
   ],
   "source": [
    "\n",
    "model = train_model(\n",
    "    dataset=merged_dataset,\n",
    "    n_layers=1,\n",
    "    d_model=16,\n",
    "    n_heads=2, \n",
    "    attn_only=False,\n",
    "    act_fn='silu',\n",
    "\n",
    "    n_epochs=300,\n",
    "    batch_size=64,\n",
    "    lr=0.1,\n",
    "\n",
    "    wandb=True,\n",
    "    wandb_project_name=\"ICL\",\n",
    "    save_dir=\"proc1/seq_len32/X8\",\n",
    "    save_every=20,\n",
    "    print_every=10,\n",
    "\n",
    "\n",
    "    metrics_config=metrics_config,\n",
    "    metrics_log_interval=20\n",
    "    )\n",
    "wandb.finish()"
   ]
  }
 ],
 "metadata": {
  "kernelspec": {
   "display_name": "toytrans",
   "language": "python",
   "name": "python3"
  },
  "language_info": {
   "codemirror_mode": {
    "name": "ipython",
    "version": 3
   },
   "file_extension": ".py",
   "mimetype": "text/x-python",
   "name": "python",
   "nbconvert_exporter": "python",
   "pygments_lexer": "ipython3",
   "version": "3.10.18"
  }
 },
 "nbformat": 4,
 "nbformat_minor": 5
}

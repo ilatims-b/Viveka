{
 "cells": [
  {
   "cell_type": "code",
   "execution_count": 2,
   "id": "aa17bc79",
   "metadata": {},
   "outputs": [
    {
     "name": "stdout",
     "output_type": "stream",
     "text": [
      "python: /opt/anaconda3/envs/toytrans/bin/python\n",
      "version: 3.10.18 | packaged by conda-forge | (main, Jun  4 2025, 14:46:00) [Clang 18.1.8 ]\n",
      "site-packages: ['/opt/anaconda3/envs/toytrans/lib/python3.10/site-packages']\n"
     ]
    }
   ],
   "source": [
    "import sys, site\n",
    "print(\"python:\", sys.executable)\n",
    "print(\"version:\", sys.version)\n",
    "print(\"site-packages:\", site.getsitepackages())"
   ]
  },
  {
   "cell_type": "code",
   "execution_count": 3,
   "id": "5e30abaf",
   "metadata": {},
   "outputs": [
    {
     "name": "stderr",
     "output_type": "stream",
     "text": [
      "\u001b[34m\u001b[1mwandb\u001b[0m: Logging into wandb.ai. (Learn how to deploy a W&B server locally: https://wandb.me/wandb-server)\n",
      "\u001b[34m\u001b[1mwandb\u001b[0m: You can find your API key in your browser here: https://wandb.ai/authorize\n",
      "\u001b[34m\u001b[1mwandb\u001b[0m: Paste an API key from your profile and hit enter:\u001b[34m\u001b[1mwandb\u001b[0m: \u001b[33mWARNING\u001b[0m If you're specifying your api key in code, ensure this code is not shared publicly.\n",
      "\u001b[34m\u001b[1mwandb\u001b[0m: \u001b[33mWARNING\u001b[0m Consider setting the WANDB_API_KEY environment variable, or running `wandb login` from the command line.\n",
      "\u001b[34m\u001b[1mwandb\u001b[0m: Appending key for api.wandb.ai to your netrc file: /Users/sbhandari/.netrc\n",
      "\u001b[34m\u001b[1mwandb\u001b[0m: Currently logged in as: \u001b[33mce24b119\u001b[0m (\u001b[33mjerrycloud3316-ai-club-iit-madras\u001b[0m) to \u001b[32mhttps://api.wandb.ai\u001b[0m. Use \u001b[1m`wandb login --relogin`\u001b[0m to force relogin\n"
     ]
    },
    {
     "data": {
      "text/plain": [
       "True"
      ]
     },
     "execution_count": 3,
     "metadata": {},
     "output_type": "execute_result"
    }
   ],
   "source": [
    "from toy_model import *\n",
    "import os, wandb\n",
    "os.environ[\"WANDB_API_KEY\"] = \"9df77e7cbad36f3323af2ea208aa4027a970df97\"\n",
    "wandb.login(relogin=True)  # switches account if already logged in"
   ]
  },
  {
   "cell_type": "code",
   "execution_count": 4,
   "id": "d1f12357",
   "metadata": {},
   "outputs": [],
   "source": [
    "T0 = np.array([\n",
    "    [0, 1, 0],\n",
    "    [0, 0, 1],\n",
    "    [0, 0, 0.5]\n",
    "])\n",
    "T1 = np.array([\n",
    "    [0, 0, 0],\n",
    "    [0, 0, 0],\n",
    "    [0.5, 0, 0]\n",
    "])\n",
    "\n",
    "dataset = MarkovData(10000, 30, 3, 2, [T0, T1])"
   ]
  },
  {
   "cell_type": "markdown",
   "id": "6c9a9729",
   "metadata": {},
   "source": [
    "# A1 - Base Model"
   ]
  },
  {
   "cell_type": "code",
   "execution_count": null,
   "id": "fb14ee11",
   "metadata": {},
   "outputs": [
    {
     "data": {
      "text/html": [
       "Tracking run with wandb version 0.21.0"
      ],
      "text/plain": [
       "<IPython.core.display.HTML object>"
      ]
     },
     "metadata": {},
     "output_type": "display_data"
    },
    {
     "data": {
      "text/html": [
       "Run data is saved locally in <code>c:\\Users\\Pakshal\\Desktop\\Project Viveka\\toy_transformer\\wandb\\run-20250906_192548-1g8idn35</code>"
      ],
      "text/plain": [
       "<IPython.core.display.HTML object>"
      ]
     },
     "metadata": {},
     "output_type": "display_data"
    },
    {
     "data": {
      "text/html": [
       "Syncing run <strong><a href='https://wandb.ai/project-viveka/A1/runs/1g8idn35' target=\"_blank\">polar-violet-2</a></strong> to <a href='https://wandb.ai/project-viveka/A1' target=\"_blank\">Weights & Biases</a> (<a href='https://wandb.me/developer-guide' target=\"_blank\">docs</a>)<br>"
      ],
      "text/plain": [
       "<IPython.core.display.HTML object>"
      ]
     },
     "metadata": {},
     "output_type": "display_data"
    },
    {
     "data": {
      "text/html": [
       " View project at <a href='https://wandb.ai/project-viveka/A1' target=\"_blank\">https://wandb.ai/project-viveka/A1</a>"
      ],
      "text/plain": [
       "<IPython.core.display.HTML object>"
      ]
     },
     "metadata": {},
     "output_type": "display_data"
    },
    {
     "data": {
      "text/html": [
       " View run at <a href='https://wandb.ai/project-viveka/A1/runs/1g8idn35' target=\"_blank\">https://wandb.ai/project-viveka/A1/runs/1g8idn35</a>"
      ],
      "text/plain": [
       "<IPython.core.display.HTML object>"
      ]
     },
     "metadata": {},
     "output_type": "display_data"
    },
    {
     "name": "stdout",
     "output_type": "stream",
     "text": [
      "Moving model to device:  cpu\n"
     ]
    },
    {
     "name": "stderr",
     "output_type": "stream",
     "text": [
      "  3%|▎         | 1/35 [00:03<02:14,  3.95s/it]"
     ]
    },
    {
     "name": "stdout",
     "output_type": "stream",
     "text": [
      "Epoch 1 Samples 8000 Step 124 Training Loss 0.6463278532028198\n",
      "Epoch 1 Validation Loss 0.6431295871734619\n"
     ]
    },
    {
     "name": "stderr",
     "output_type": "stream",
     "text": [
      "  6%|▌         | 2/35 [00:08<02:15,  4.09s/it]"
     ]
    },
    {
     "name": "stdout",
     "output_type": "stream",
     "text": [
      "Epoch 2 Samples 8000 Step 124 Training Loss 0.6424553394317627\n",
      "Epoch 2 Validation Loss 0.638495683670044\n"
     ]
    },
    {
     "name": "stderr",
     "output_type": "stream",
     "text": [
      "  9%|▊         | 3/35 [00:12<02:11,  4.11s/it]"
     ]
    },
    {
     "name": "stdout",
     "output_type": "stream",
     "text": [
      "Epoch 3 Samples 8000 Step 124 Training Loss 0.6365602016448975\n",
      "Epoch 3 Validation Loss 0.634636640548706\n"
     ]
    },
    {
     "name": "stderr",
     "output_type": "stream",
     "text": [
      " 11%|█▏        | 4/35 [00:16<02:08,  4.14s/it]"
     ]
    },
    {
     "name": "stdout",
     "output_type": "stream",
     "text": [
      "Epoch 4 Samples 8000 Step 124 Training Loss 0.6241104602813721\n",
      "Epoch 4 Validation Loss 0.6302207112312317\n"
     ]
    },
    {
     "name": "stderr",
     "output_type": "stream",
     "text": [
      " 14%|█▍        | 5/35 [00:20<02:05,  4.19s/it]"
     ]
    },
    {
     "name": "stdout",
     "output_type": "stream",
     "text": [
      "Epoch 5 Samples 8000 Step 124 Training Loss 0.6248101592063904\n",
      "Epoch 5 Validation Loss 0.6234736442565918\n"
     ]
    },
    {
     "name": "stderr",
     "output_type": "stream",
     "text": [
      " 17%|█▋        | 6/35 [00:25<02:07,  4.40s/it]"
     ]
    },
    {
     "name": "stdout",
     "output_type": "stream",
     "text": [
      "Epoch 6 Samples 8000 Step 124 Training Loss 0.615299642086029\n",
      "Epoch 6 Validation Loss 0.615231454372406\n",
      "Epoch 7 Samples 8000 Step 124 Training Loss 0.6014848947525024\n",
      "Epoch 7 Validation Loss 0.6005920171737671\n"
     ]
    },
    {
     "name": "stderr",
     "output_type": "stream",
     "text": [
      " 23%|██▎       | 8/35 [00:35<02:06,  4.69s/it]"
     ]
    },
    {
     "name": "stdout",
     "output_type": "stream",
     "text": [
      "Epoch 8 Samples 8000 Step 124 Training Loss 0.5754153728485107\n",
      "Epoch 8 Validation Loss 0.5754836201667786\n"
     ]
    },
    {
     "name": "stderr",
     "output_type": "stream",
     "text": [
      " 26%|██▌       | 9/35 [00:40<02:07,  4.89s/it]"
     ]
    },
    {
     "name": "stdout",
     "output_type": "stream",
     "text": [
      "Epoch 9 Samples 8000 Step 124 Training Loss 0.5204708576202393\n",
      "Epoch 9 Validation Loss 0.5089812874794006\n"
     ]
    },
    {
     "name": "stderr",
     "output_type": "stream",
     "text": [
      " 29%|██▊       | 10/35 [00:45<02:02,  4.88s/it]"
     ]
    },
    {
     "name": "stdout",
     "output_type": "stream",
     "text": [
      "Epoch 10 Samples 8000 Step 124 Training Loss 0.47108590602874756\n",
      "Epoch 10 Validation Loss 0.39875516295433044\n"
     ]
    },
    {
     "name": "stderr",
     "output_type": "stream",
     "text": [
      " 31%|███▏      | 11/35 [00:50<01:54,  4.77s/it]"
     ]
    },
    {
     "name": "stdout",
     "output_type": "stream",
     "text": [
      "Epoch 11 Samples 8000 Step 124 Training Loss 0.40145039558410645\n",
      "Epoch 11 Validation Loss 0.42004403471946716\n"
     ]
    },
    {
     "name": "stderr",
     "output_type": "stream",
     "text": [
      " 34%|███▍      | 12/35 [00:54<01:46,  4.62s/it]"
     ]
    },
    {
     "name": "stdout",
     "output_type": "stream",
     "text": [
      "Epoch 12 Samples 8000 Step 124 Training Loss 0.2992626428604126\n",
      "Epoch 12 Validation Loss 0.3149656653404236\n"
     ]
    },
    {
     "name": "stderr",
     "output_type": "stream",
     "text": [
      " 37%|███▋      | 13/35 [00:58<01:39,  4.54s/it]"
     ]
    },
    {
     "name": "stdout",
     "output_type": "stream",
     "text": [
      "Epoch 13 Samples 8000 Step 124 Training Loss 0.30231350660324097\n",
      "Epoch 13 Validation Loss 0.2937912046909332\n"
     ]
    },
    {
     "name": "stderr",
     "output_type": "stream",
     "text": [
      " 40%|████      | 14/35 [01:02<01:32,  4.39s/it]"
     ]
    },
    {
     "name": "stdout",
     "output_type": "stream",
     "text": [
      "Epoch 14 Samples 8000 Step 124 Training Loss 0.297773540019989\n",
      "Epoch 14 Validation Loss 0.28013572096824646\n"
     ]
    },
    {
     "name": "stderr",
     "output_type": "stream",
     "text": [
      " 43%|████▎     | 15/35 [01:06<01:26,  4.30s/it]"
     ]
    },
    {
     "name": "stdout",
     "output_type": "stream",
     "text": [
      "Epoch 15 Samples 8000 Step 124 Training Loss 0.26791974902153015\n",
      "Epoch 15 Validation Loss 0.2721722424030304\n"
     ]
    },
    {
     "name": "stderr",
     "output_type": "stream",
     "text": [
      " 46%|████▌     | 16/35 [01:10<01:20,  4.23s/it]"
     ]
    },
    {
     "name": "stdout",
     "output_type": "stream",
     "text": [
      "Epoch 16 Samples 8000 Step 124 Training Loss 0.2765944302082062\n",
      "Epoch 16 Validation Loss 0.2779744267463684\n"
     ]
    },
    {
     "name": "stderr",
     "output_type": "stream",
     "text": [
      " 49%|████▊     | 17/35 [01:14<01:14,  4.14s/it]"
     ]
    },
    {
     "name": "stdout",
     "output_type": "stream",
     "text": [
      "Epoch 17 Samples 8000 Step 124 Training Loss 0.27133864164352417\n",
      "Epoch 17 Validation Loss 0.2723348140716553\n"
     ]
    },
    {
     "name": "stderr",
     "output_type": "stream",
     "text": [
      " 51%|█████▏    | 18/35 [01:18<01:09,  4.06s/it]"
     ]
    },
    {
     "name": "stdout",
     "output_type": "stream",
     "text": [
      "Epoch 18 Samples 8000 Step 124 Training Loss 0.27047431468963623\n",
      "Epoch 18 Validation Loss 0.27225276827812195\n"
     ]
    },
    {
     "name": "stderr",
     "output_type": "stream",
     "text": [
      " 54%|█████▍    | 19/35 [01:23<01:06,  4.18s/it]"
     ]
    },
    {
     "name": "stdout",
     "output_type": "stream",
     "text": [
      "Epoch 19 Samples 8000 Step 124 Training Loss 0.2754767835140228\n",
      "Epoch 19 Validation Loss 0.27474892139434814\n",
      "Epoch 20 Samples 8000 Step 124 Training Loss 0.2649347186088562\n",
      "Epoch 20 Validation Loss 0.264230340719223\n"
     ]
    },
    {
     "name": "stderr",
     "output_type": "stream",
     "text": [
      " 60%|██████    | 21/35 [01:33<01:03,  4.54s/it]"
     ]
    },
    {
     "name": "stdout",
     "output_type": "stream",
     "text": [
      "Epoch 21 Samples 8000 Step 124 Training Loss 0.2643953561782837\n",
      "Epoch 21 Validation Loss 0.2640928328037262\n"
     ]
    },
    {
     "name": "stderr",
     "output_type": "stream",
     "text": [
      " 63%|██████▎   | 22/35 [01:37<00:57,  4.46s/it]"
     ]
    },
    {
     "name": "stdout",
     "output_type": "stream",
     "text": [
      "Epoch 22 Samples 8000 Step 124 Training Loss 0.26259660720825195\n",
      "Epoch 22 Validation Loss 0.2655116617679596\n"
     ]
    },
    {
     "name": "stderr",
     "output_type": "stream",
     "text": [
      " 66%|██████▌   | 23/35 [01:41<00:52,  4.38s/it]"
     ]
    },
    {
     "name": "stdout",
     "output_type": "stream",
     "text": [
      "Epoch 23 Samples 8000 Step 124 Training Loss 0.261311799287796\n",
      "Epoch 23 Validation Loss 0.25977233052253723\n"
     ]
    },
    {
     "name": "stderr",
     "output_type": "stream",
     "text": [
      " 69%|██████▊   | 24/35 [01:46<00:49,  4.47s/it]"
     ]
    },
    {
     "name": "stdout",
     "output_type": "stream",
     "text": [
      "Epoch 24 Samples 8000 Step 124 Training Loss 0.2601430118083954\n",
      "Epoch 24 Validation Loss 0.26300105452537537\n"
     ]
    },
    {
     "name": "stderr",
     "output_type": "stream",
     "text": [
      " 71%|███████▏  | 25/35 [01:51<00:46,  4.62s/it]"
     ]
    },
    {
     "name": "stdout",
     "output_type": "stream",
     "text": [
      "Epoch 25 Samples 8000 Step 124 Training Loss 0.2649829685688019\n",
      "Epoch 25 Validation Loss 0.2711653709411621\n"
     ]
    },
    {
     "name": "stderr",
     "output_type": "stream",
     "text": [
      " 74%|███████▍  | 26/35 [01:56<00:42,  4.75s/it]"
     ]
    },
    {
     "name": "stdout",
     "output_type": "stream",
     "text": [
      "Epoch 26 Samples 8000 Step 124 Training Loss 0.26071739196777344\n",
      "Epoch 26 Validation Loss 0.26080620288848877\n"
     ]
    },
    {
     "name": "stderr",
     "output_type": "stream",
     "text": [
      " 77%|███████▋  | 27/35 [02:00<00:37,  4.65s/it]"
     ]
    },
    {
     "name": "stdout",
     "output_type": "stream",
     "text": [
      "Epoch 27 Samples 8000 Step 124 Training Loss 0.25829383730888367\n",
      "Epoch 27 Validation Loss 0.2586804926395416\n"
     ]
    },
    {
     "name": "stderr",
     "output_type": "stream",
     "text": [
      " 80%|████████  | 28/35 [02:05<00:33,  4.81s/it]"
     ]
    },
    {
     "name": "stdout",
     "output_type": "stream",
     "text": [
      "Epoch 28 Samples 8000 Step 124 Training Loss 0.2609882950782776\n",
      "Epoch 28 Validation Loss 0.259839802980423\n"
     ]
    },
    {
     "name": "stderr",
     "output_type": "stream",
     "text": [
      " 83%|████████▎ | 29/35 [02:11<00:30,  5.11s/it]"
     ]
    },
    {
     "name": "stdout",
     "output_type": "stream",
     "text": [
      "Epoch 29 Samples 8000 Step 124 Training Loss 0.26735296845436096\n",
      "Epoch 29 Validation Loss 0.2643551230430603\n"
     ]
    },
    {
     "name": "stderr",
     "output_type": "stream",
     "text": [
      " 86%|████████▌ | 30/35 [02:16<00:25,  5.13s/it]"
     ]
    },
    {
     "name": "stdout",
     "output_type": "stream",
     "text": [
      "Epoch 30 Samples 8000 Step 124 Training Loss 0.2562779188156128\n",
      "Epoch 30 Validation Loss 0.257603257894516\n"
     ]
    },
    {
     "name": "stderr",
     "output_type": "stream",
     "text": [
      " 89%|████████▊ | 31/35 [02:22<00:21,  5.28s/it]"
     ]
    },
    {
     "name": "stdout",
     "output_type": "stream",
     "text": [
      "Epoch 31 Samples 8000 Step 124 Training Loss 0.25535690784454346\n",
      "Epoch 31 Validation Loss 0.2570236921310425\n"
     ]
    },
    {
     "name": "stderr",
     "output_type": "stream",
     "text": [
      " 91%|█████████▏| 32/35 [02:26<00:14,  4.90s/it]"
     ]
    },
    {
     "name": "stdout",
     "output_type": "stream",
     "text": [
      "Epoch 32 Samples 8000 Step 124 Training Loss 0.26004791259765625\n",
      "Epoch 32 Validation Loss 0.26207008957862854\n"
     ]
    },
    {
     "name": "stderr",
     "output_type": "stream",
     "text": [
      " 94%|█████████▍| 33/35 [02:30<00:09,  4.71s/it]"
     ]
    },
    {
     "name": "stdout",
     "output_type": "stream",
     "text": [
      "Epoch 33 Samples 8000 Step 124 Training Loss 0.28000637888908386\n",
      "Epoch 33 Validation Loss 0.28742408752441406\n"
     ]
    },
    {
     "name": "stderr",
     "output_type": "stream",
     "text": [
      " 97%|█████████▋| 34/35 [02:34<00:04,  4.50s/it]"
     ]
    },
    {
     "name": "stdout",
     "output_type": "stream",
     "text": [
      "Epoch 34 Samples 8000 Step 124 Training Loss 0.2568361759185791\n",
      "Epoch 34 Validation Loss 0.25661221146583557\n"
     ]
    },
    {
     "name": "stderr",
     "output_type": "stream",
     "text": [
      "100%|██████████| 35/35 [02:38<00:00,  4.54s/it]"
     ]
    },
    {
     "name": "stdout",
     "output_type": "stream",
     "text": [
      "Epoch 35 Samples 8000 Step 124 Training Loss 0.2558167278766632\n",
      "Epoch 35 Validation Loss 0.25620442628860474\n"
     ]
    },
    {
     "name": "stderr",
     "output_type": "stream",
     "text": [
      "\n"
     ]
    },
    {
     "name": "stderr",
     "output_type": "stream",
     "text": [
      "\u001b[34m\u001b[1mwandb\u001b[0m: \u001b[33mWARNING\u001b[0m Fatal error while uploading data. Some run data will not be synced, but it will still be written to disk. Use `wandb sync` at the end of the run to try uploading.\n"
     ]
    }
   ],
   "source": [
    "model = train_model(\n",
    "            dataset=dataset,\n",
    "            n_epochs=50,\n",
    "            d_model=16,\n",
    "            attn_only=True,\n",
    "            lr=0.1,\n",
    "            wandb=True,\n",
    "            wandb_project_name='ICL',\n",
    "            save_dir='A1/process1',\n",
    "            save_every=5\n",
    "        )\n",
    "wandb.finish()"
   ]
  },
  {
   "cell_type": "code",
   "execution_count": 11,
   "id": "2b559433",
   "metadata": {},
   "outputs": [
    {
     "data": {
      "text/plain": [
       "HookedTransformer(\n",
       "  (embed): Embed()\n",
       "  (hook_embed): HookPoint()\n",
       "  (pos_embed): PosEmbed()\n",
       "  (hook_pos_embed): HookPoint()\n",
       "  (blocks): ModuleList(\n",
       "    (0-3): 4 x TransformerBlock(\n",
       "      (ln1): Identity()\n",
       "      (attn): Attention(\n",
       "        (hook_k): HookPoint()\n",
       "        (hook_q): HookPoint()\n",
       "        (hook_v): HookPoint()\n",
       "        (hook_z): HookPoint()\n",
       "        (hook_attn_scores): HookPoint()\n",
       "        (hook_pattern): HookPoint()\n",
       "        (hook_result): HookPoint()\n",
       "      )\n",
       "      (hook_attn_in): HookPoint()\n",
       "      (hook_q_input): HookPoint()\n",
       "      (hook_k_input): HookPoint()\n",
       "      (hook_v_input): HookPoint()\n",
       "      (hook_mlp_in): HookPoint()\n",
       "      (hook_attn_out): HookPoint()\n",
       "      (hook_mlp_out): HookPoint()\n",
       "      (hook_resid_pre): HookPoint()\n",
       "      (hook_resid_post): HookPoint()\n",
       "    )\n",
       "  )\n",
       "  (unembed): Unembed()\n",
       ")"
      ]
     },
     "execution_count": 11,
     "metadata": {},
     "output_type": "execute_result"
    }
   ],
   "source": [
    "model"
   ]
  },
  {
   "cell_type": "markdown",
   "id": "0c973a3e",
   "metadata": {},
   "source": [
    "# B1 - Layer Norm"
   ]
  },
  {
   "cell_type": "code",
   "execution_count": 28,
   "id": "333cc474",
   "metadata": {},
   "outputs": [
    {
     "data": {
      "text/html": [
       "Tracking run with wandb version 0.21.0"
      ],
      "text/plain": [
       "<IPython.core.display.HTML object>"
      ]
     },
     "metadata": {},
     "output_type": "display_data"
    },
    {
     "data": {
      "text/html": [
       "Run data is saved locally in <code>c:\\Users\\Pakshal\\Desktop\\Project Viveka\\toy_transformer\\wandb\\run-20250906_222258-7boirtup</code>"
      ],
      "text/plain": [
       "<IPython.core.display.HTML object>"
      ]
     },
     "metadata": {},
     "output_type": "display_data"
    },
    {
     "data": {
      "text/html": [
       "Syncing run <strong><a href='https://wandb.ai/project-viveka/Toy%20Transformers/runs/7boirtup' target=\"_blank\">gentle-smoke-4</a></strong> to <a href='https://wandb.ai/project-viveka/Toy%20Transformers' target=\"_blank\">Weights & Biases</a> (<a href='https://wandb.me/developer-guide' target=\"_blank\">docs</a>)<br>"
      ],
      "text/plain": [
       "<IPython.core.display.HTML object>"
      ]
     },
     "metadata": {},
     "output_type": "display_data"
    },
    {
     "data": {
      "text/html": [
       " View project at <a href='https://wandb.ai/project-viveka/Toy%20Transformers' target=\"_blank\">https://wandb.ai/project-viveka/Toy%20Transformers</a>"
      ],
      "text/plain": [
       "<IPython.core.display.HTML object>"
      ]
     },
     "metadata": {},
     "output_type": "display_data"
    },
    {
     "data": {
      "text/html": [
       " View run at <a href='https://wandb.ai/project-viveka/Toy%20Transformers/runs/7boirtup' target=\"_blank\">https://wandb.ai/project-viveka/Toy%20Transformers/runs/7boirtup</a>"
      ],
      "text/plain": [
       "<IPython.core.display.HTML object>"
      ]
     },
     "metadata": {},
     "output_type": "display_data"
    },
    {
     "name": "stdout",
     "output_type": "stream",
     "text": [
      "Moving model to device:  cpu\n"
     ]
    },
    {
     "name": "stderr",
     "output_type": "stream",
     "text": [
      "  0%|          | 0/45 [00:00<?, ?it/s]"
     ]
    },
    {
     "name": "stdout",
     "output_type": "stream",
     "text": [
      "Epoch 1 Samples 8000 Step 124 Training Loss 0.6527003645896912\n"
     ]
    },
    {
     "name": "stderr",
     "output_type": "stream",
     "text": [
      "  2%|▏         | 1/45 [00:07<05:47,  7.89s/it]"
     ]
    },
    {
     "name": "stdout",
     "output_type": "stream",
     "text": [
      "Epoch 1 Validation Loss 0.6408796310424805\n",
      "Epoch 2 Samples 8000 Step 124 Training Loss 0.6302391290664673\n"
     ]
    },
    {
     "name": "stderr",
     "output_type": "stream",
     "text": [
      "  4%|▍         | 2/45 [00:17<06:10,  8.62s/it]"
     ]
    },
    {
     "name": "stdout",
     "output_type": "stream",
     "text": [
      "Epoch 2 Validation Loss 0.6272647976875305\n",
      "Epoch 3 Samples 8000 Step 124 Training Loss 0.6238254904747009\n"
     ]
    },
    {
     "name": "stderr",
     "output_type": "stream",
     "text": [
      "  7%|▋         | 3/45 [00:26<06:14,  8.91s/it]"
     ]
    },
    {
     "name": "stdout",
     "output_type": "stream",
     "text": [
      "Epoch 3 Validation Loss 0.6176387667655945\n",
      "Epoch 4 Samples 8000 Step 124 Training Loss 0.6030283570289612\n"
     ]
    },
    {
     "name": "stderr",
     "output_type": "stream",
     "text": [
      "  9%|▉         | 4/45 [00:34<05:49,  8.53s/it]"
     ]
    },
    {
     "name": "stdout",
     "output_type": "stream",
     "text": [
      "Epoch 4 Validation Loss 0.6126184463500977\n",
      "Epoch 5 Samples 8000 Step 124 Training Loss 0.6155492067337036\n"
     ]
    },
    {
     "name": "stderr",
     "output_type": "stream",
     "text": [
      " 11%|█         | 5/45 [00:42<05:38,  8.46s/it]"
     ]
    },
    {
     "name": "stdout",
     "output_type": "stream",
     "text": [
      "Epoch 5 Validation Loss 0.6093443036079407\n",
      "Epoch 6 Samples 8000 Step 124 Training Loss 0.6431041359901428\n"
     ]
    },
    {
     "name": "stderr",
     "output_type": "stream",
     "text": [
      " 13%|█▎        | 6/45 [00:51<05:32,  8.52s/it]"
     ]
    },
    {
     "name": "stdout",
     "output_type": "stream",
     "text": [
      "Epoch 6 Validation Loss 0.6138293147087097\n",
      "Epoch 7 Samples 8000 Step 124 Training Loss 0.609708845615387\n"
     ]
    },
    {
     "name": "stderr",
     "output_type": "stream",
     "text": [
      " 16%|█▌        | 7/45 [00:59<05:22,  8.50s/it]"
     ]
    },
    {
     "name": "stdout",
     "output_type": "stream",
     "text": [
      "Epoch 7 Validation Loss 0.6014242768287659\n",
      "Epoch 8 Samples 8000 Step 124 Training Loss 0.5998840928077698\n",
      "Epoch 8 Validation Loss 0.5967099070549011\n"
     ]
    },
    {
     "name": "stderr",
     "output_type": "stream",
     "text": [
      " 18%|█▊        | 8/45 [01:07<05:05,  8.26s/it]"
     ]
    },
    {
     "name": "stdout",
     "output_type": "stream",
     "text": [
      "Epoch 9 Samples 8000 Step 124 Training Loss 0.5961235165596008\n"
     ]
    },
    {
     "name": "stderr",
     "output_type": "stream",
     "text": [
      " 20%|██        | 9/45 [01:15<04:54,  8.18s/it]"
     ]
    },
    {
     "name": "stdout",
     "output_type": "stream",
     "text": [
      "Epoch 9 Validation Loss 0.5911821722984314\n",
      "Epoch 10 Samples 8000 Step 124 Training Loss 0.5939563512802124\n",
      "Epoch 10 Validation Loss 0.5863137245178223\n"
     ]
    },
    {
     "name": "stderr",
     "output_type": "stream",
     "text": [
      " 22%|██▏       | 10/45 [01:23<04:41,  8.05s/it]"
     ]
    },
    {
     "name": "stdout",
     "output_type": "stream",
     "text": [
      "Epoch 11 Samples 8000 Step 124 Training Loss 0.5873849987983704\n"
     ]
    },
    {
     "name": "stderr",
     "output_type": "stream",
     "text": [
      " 24%|██▍       | 11/45 [01:30<04:29,  7.93s/it]"
     ]
    },
    {
     "name": "stdout",
     "output_type": "stream",
     "text": [
      "Epoch 11 Validation Loss 0.5785086750984192\n",
      "Epoch 12 Samples 8000 Step 124 Training Loss 0.5597070455551147\n",
      "Epoch 12 Validation Loss 0.5683724880218506\n"
     ]
    },
    {
     "name": "stderr",
     "output_type": "stream",
     "text": [
      " 27%|██▋       | 12/45 [01:38<04:20,  7.91s/it]"
     ]
    },
    {
     "name": "stdout",
     "output_type": "stream",
     "text": [
      "Epoch 13 Samples 8000 Step 124 Training Loss 0.556359052658081\n"
     ]
    },
    {
     "name": "stderr",
     "output_type": "stream",
     "text": [
      " 29%|██▉       | 13/45 [01:47<04:17,  8.05s/it]"
     ]
    },
    {
     "name": "stdout",
     "output_type": "stream",
     "text": [
      "Epoch 13 Validation Loss 0.5396003127098083\n",
      "Epoch 14 Samples 8000 Step 124 Training Loss 0.6359497308731079\n"
     ]
    },
    {
     "name": "stderr",
     "output_type": "stream",
     "text": [
      " 31%|███       | 14/45 [01:55<04:12,  8.15s/it]"
     ]
    },
    {
     "name": "stdout",
     "output_type": "stream",
     "text": [
      "Epoch 14 Validation Loss 0.520982027053833\n",
      "Epoch 15 Samples 8000 Step 124 Training Loss 0.467925488948822\n"
     ]
    },
    {
     "name": "stderr",
     "output_type": "stream",
     "text": [
      " 33%|███▎      | 15/45 [02:03<04:01,  8.06s/it]"
     ]
    },
    {
     "name": "stdout",
     "output_type": "stream",
     "text": [
      "Epoch 15 Validation Loss 0.46155571937561035\n",
      "Epoch 16 Samples 8000 Step 124 Training Loss 0.4654156565666199\n"
     ]
    },
    {
     "name": "stderr",
     "output_type": "stream",
     "text": [
      " 36%|███▌      | 16/45 [02:11<03:54,  8.10s/it]"
     ]
    },
    {
     "name": "stdout",
     "output_type": "stream",
     "text": [
      "Epoch 16 Validation Loss 0.4508492052555084\n",
      "Epoch 17 Samples 8000 Step 124 Training Loss 0.438339501619339\n"
     ]
    },
    {
     "name": "stderr",
     "output_type": "stream",
     "text": [
      " 38%|███▊      | 17/45 [02:19<03:46,  8.08s/it]"
     ]
    },
    {
     "name": "stdout",
     "output_type": "stream",
     "text": [
      "Epoch 17 Validation Loss 0.44274193048477173\n",
      "Epoch 18 Samples 8000 Step 124 Training Loss 0.4405859112739563\n"
     ]
    },
    {
     "name": "stderr",
     "output_type": "stream",
     "text": [
      " 40%|████      | 18/45 [02:27<03:34,  7.95s/it]"
     ]
    },
    {
     "name": "stdout",
     "output_type": "stream",
     "text": [
      "Epoch 18 Validation Loss 0.7033643126487732\n",
      "Epoch 19 Samples 8000 Step 124 Training Loss 0.41434821486473083\n"
     ]
    },
    {
     "name": "stderr",
     "output_type": "stream",
     "text": [
      " 42%|████▏     | 19/45 [02:35<03:27,  7.99s/it]"
     ]
    },
    {
     "name": "stdout",
     "output_type": "stream",
     "text": [
      "Epoch 19 Validation Loss 0.42029109597206116\n",
      "Epoch 20 Samples 8000 Step 124 Training Loss 0.4137192964553833\n"
     ]
    },
    {
     "name": "stderr",
     "output_type": "stream",
     "text": [
      " 44%|████▍     | 20/45 [02:46<03:46,  9.05s/it]"
     ]
    },
    {
     "name": "stdout",
     "output_type": "stream",
     "text": [
      "Epoch 20 Validation Loss 0.4062407612800598\n",
      "Epoch 21 Samples 8000 Step 124 Training Loss 0.574099600315094\n",
      "Epoch 21 Validation Loss 0.5563704371452332\n"
     ]
    },
    {
     "name": "stderr",
     "output_type": "stream",
     "text": [
      " 49%|████▉     | 22/45 [03:01<03:10,  8.27s/it]"
     ]
    },
    {
     "name": "stdout",
     "output_type": "stream",
     "text": [
      "Epoch 22 Samples 8000 Step 124 Training Loss 0.5045847296714783\n",
      "Epoch 22 Validation Loss 0.48524507880210876\n"
     ]
    },
    {
     "name": "stderr",
     "output_type": "stream",
     "text": [
      " 51%|█████     | 23/45 [03:09<02:56,  8.04s/it]"
     ]
    },
    {
     "name": "stdout",
     "output_type": "stream",
     "text": [
      "Epoch 23 Samples 8000 Step 124 Training Loss 0.4115515649318695\n",
      "Epoch 23 Validation Loss 0.4094414710998535\n"
     ]
    },
    {
     "name": "stderr",
     "output_type": "stream",
     "text": [
      " 53%|█████▎    | 24/45 [03:16<02:41,  7.70s/it]"
     ]
    },
    {
     "name": "stdout",
     "output_type": "stream",
     "text": [
      "Epoch 24 Samples 8000 Step 124 Training Loss 0.3879604935646057\n",
      "Epoch 24 Validation Loss 0.40157395601272583\n",
      "Epoch 25 Samples 8000 Step 124 Training Loss 0.3775882124900818\n"
     ]
    },
    {
     "name": "stderr",
     "output_type": "stream",
     "text": [
      " 56%|█████▌    | 25/45 [03:25<02:40,  8.02s/it]"
     ]
    },
    {
     "name": "stdout",
     "output_type": "stream",
     "text": [
      "Epoch 25 Validation Loss 0.38514775037765503\n",
      "Epoch 26 Samples 8000 Step 124 Training Loss 0.363674521446228\n"
     ]
    },
    {
     "name": "stderr",
     "output_type": "stream",
     "text": [
      " 58%|█████▊    | 26/45 [03:32<02:30,  7.90s/it]"
     ]
    },
    {
     "name": "stdout",
     "output_type": "stream",
     "text": [
      "Epoch 26 Validation Loss 0.38881686329841614\n",
      "Epoch 27 Samples 8000 Step 124 Training Loss 0.3297846019268036\n"
     ]
    },
    {
     "name": "stderr",
     "output_type": "stream",
     "text": [
      " 60%|██████    | 27/45 [03:40<02:22,  7.89s/it]"
     ]
    },
    {
     "name": "stdout",
     "output_type": "stream",
     "text": [
      "Epoch 27 Validation Loss 0.3648892343044281\n",
      "Epoch 28 Samples 8000 Step 124 Training Loss 0.3551748991012573\n",
      "Epoch 28 Validation Loss 0.35715994238853455\n"
     ]
    },
    {
     "name": "stderr",
     "output_type": "stream",
     "text": [
      " 64%|██████▍   | 29/45 [03:56<02:04,  7.79s/it]"
     ]
    },
    {
     "name": "stdout",
     "output_type": "stream",
     "text": [
      "Epoch 29 Samples 8000 Step 124 Training Loss 0.36164653301239014\n",
      "Epoch 29 Validation Loss 0.3602078855037689\n",
      "Epoch 30 Samples 8000 Step 124 Training Loss 0.4871959388256073\n"
     ]
    },
    {
     "name": "stderr",
     "output_type": "stream",
     "text": [
      " 67%|██████▋   | 30/45 [04:03<01:54,  7.66s/it]"
     ]
    },
    {
     "name": "stdout",
     "output_type": "stream",
     "text": [
      "Epoch 30 Validation Loss 0.4949577748775482\n",
      "Epoch 31 Samples 8000 Step 124 Training Loss 0.3490317165851593\n"
     ]
    },
    {
     "name": "stderr",
     "output_type": "stream",
     "text": [
      " 69%|██████▉   | 31/45 [04:10<01:46,  7.59s/it]"
     ]
    },
    {
     "name": "stdout",
     "output_type": "stream",
     "text": [
      "Epoch 31 Validation Loss 0.34692510962486267\n",
      "Epoch 32 Samples 8000 Step 124 Training Loss 0.37019309401512146\n"
     ]
    },
    {
     "name": "stderr",
     "output_type": "stream",
     "text": [
      " 71%|███████   | 32/45 [04:17<01:36,  7.44s/it]"
     ]
    },
    {
     "name": "stdout",
     "output_type": "stream",
     "text": [
      "Epoch 32 Validation Loss 0.38074401021003723\n"
     ]
    },
    {
     "name": "stderr",
     "output_type": "stream",
     "text": [
      " 73%|███████▎  | 33/45 [04:25<01:30,  7.53s/it]"
     ]
    },
    {
     "name": "stdout",
     "output_type": "stream",
     "text": [
      "Epoch 33 Samples 8000 Step 124 Training Loss 0.3603276312351227\n",
      "Epoch 33 Validation Loss 0.3603489398956299\n",
      "Epoch 34 Samples 8000 Step 124 Training Loss 0.32212746143341064\n"
     ]
    },
    {
     "name": "stderr",
     "output_type": "stream",
     "text": [
      " 76%|███████▌  | 34/45 [04:32<01:21,  7.44s/it]"
     ]
    },
    {
     "name": "stdout",
     "output_type": "stream",
     "text": [
      "Epoch 34 Validation Loss 0.32488125562667847\n",
      "Epoch 35 Samples 8000 Step 124 Training Loss 0.3122483193874359\n"
     ]
    },
    {
     "name": "stderr",
     "output_type": "stream",
     "text": [
      " 78%|███████▊  | 35/45 [04:40<01:14,  7.43s/it]"
     ]
    },
    {
     "name": "stdout",
     "output_type": "stream",
     "text": [
      "Epoch 35 Validation Loss 0.3214959502220154\n",
      "Epoch 36 Samples 8000 Step 124 Training Loss 0.33543330430984497\n",
      "Epoch 36 Validation Loss 0.3223535120487213\n"
     ]
    },
    {
     "name": "stderr",
     "output_type": "stream",
     "text": [
      " 80%|████████  | 36/45 [04:47<01:06,  7.35s/it]"
     ]
    },
    {
     "name": "stdout",
     "output_type": "stream",
     "text": [
      "Epoch 37 Samples 8000 Step 124 Training Loss 0.33128854632377625\n"
     ]
    },
    {
     "name": "stderr",
     "output_type": "stream",
     "text": [
      " 82%|████████▏ | 37/45 [04:54<00:58,  7.34s/it]"
     ]
    },
    {
     "name": "stdout",
     "output_type": "stream",
     "text": [
      "Epoch 37 Validation Loss 0.321554958820343\n",
      "Epoch 38 Samples 8000 Step 124 Training Loss 0.3169892430305481\n",
      "Epoch 38 Validation Loss 0.3151715397834778\n"
     ]
    },
    {
     "name": "stderr",
     "output_type": "stream",
     "text": [
      " 84%|████████▍ | 38/45 [05:02<00:51,  7.35s/it]"
     ]
    },
    {
     "name": "stdout",
     "output_type": "stream",
     "text": [
      "Epoch 39 Samples 8000 Step 124 Training Loss 0.3109048902988434\n"
     ]
    },
    {
     "name": "stderr",
     "output_type": "stream",
     "text": [
      " 87%|████████▋ | 39/45 [05:11<00:47,  7.98s/it]"
     ]
    },
    {
     "name": "stdout",
     "output_type": "stream",
     "text": [
      "Epoch 39 Validation Loss 0.3104957044124603\n",
      "Epoch 40 Samples 8000 Step 124 Training Loss 0.3157132565975189\n"
     ]
    },
    {
     "name": "stderr",
     "output_type": "stream",
     "text": [
      " 89%|████████▉ | 40/45 [05:20<00:40,  8.20s/it]"
     ]
    },
    {
     "name": "stdout",
     "output_type": "stream",
     "text": [
      "Epoch 40 Validation Loss 0.31226110458374023\n",
      "Epoch 41 Samples 8000 Step 124 Training Loss 0.30543768405914307\n"
     ]
    },
    {
     "name": "stderr",
     "output_type": "stream",
     "text": [
      " 91%|█████████ | 41/45 [05:29<00:33,  8.38s/it]"
     ]
    },
    {
     "name": "stdout",
     "output_type": "stream",
     "text": [
      "Epoch 41 Validation Loss 0.30629780888557434\n",
      "Epoch 42 Samples 8000 Step 124 Training Loss 0.3194865584373474\n"
     ]
    },
    {
     "name": "stderr",
     "output_type": "stream",
     "text": [
      " 93%|█████████▎| 42/45 [05:38<00:25,  8.54s/it]"
     ]
    },
    {
     "name": "stdout",
     "output_type": "stream",
     "text": [
      "Epoch 42 Validation Loss 0.3032058775424957\n",
      "Epoch 43 Samples 8000 Step 124 Training Loss 0.29081153869628906\n"
     ]
    },
    {
     "name": "stderr",
     "output_type": "stream",
     "text": [
      " 96%|█████████▌| 43/45 [05:46<00:17,  8.66s/it]"
     ]
    },
    {
     "name": "stdout",
     "output_type": "stream",
     "text": [
      "Epoch 43 Validation Loss 0.29234614968299866\n"
     ]
    },
    {
     "name": "stderr",
     "output_type": "stream",
     "text": [
      " 98%|█████████▊| 44/45 [05:56<00:08,  8.79s/it]"
     ]
    },
    {
     "name": "stdout",
     "output_type": "stream",
     "text": [
      "Epoch 44 Samples 8000 Step 124 Training Loss 0.27854830026626587\n",
      "Epoch 44 Validation Loss 0.2832251191139221\n",
      "Epoch 45 Samples 8000 Step 124 Training Loss 0.27593231201171875\n"
     ]
    },
    {
     "name": "stderr",
     "output_type": "stream",
     "text": [
      "100%|██████████| 45/45 [06:04<00:00,  8.10s/it]"
     ]
    },
    {
     "name": "stdout",
     "output_type": "stream",
     "text": [
      "Epoch 45 Validation Loss 0.28033384680747986\n"
     ]
    },
    {
     "name": "stderr",
     "output_type": "stream",
     "text": [
      "\n"
     ]
    }
   ],
   "source": [
    "model = train_model(\n",
    "            dataset=dataset,\n",
    "            n_epochs=45,\n",
    "            d_model=4,\n",
    "            attn_only=True,\n",
    "            lr=0.05,\n",
    "            normalization_type='LN',\n",
    "            wandb=True,\n",
    "            wandb_project_name='Toy Transformers',\n",
    "            save_dir='B1/',\n",
    "            save_every=5\n",
    "        )\n",
    "wandb.finish()"
   ]
  },
  {
   "cell_type": "code",
   "execution_count": 24,
   "id": "7931f2ea",
   "metadata": {},
   "outputs": [
    {
     "name": "stdout",
     "output_type": "stream",
     "text": [
      "Moving model to device:  cpu\n"
     ]
    },
    {
     "name": "stderr",
     "output_type": "stream",
     "text": [
      " 10%|█         | 1/10 [00:07<01:03,  7.03s/it]"
     ]
    },
    {
     "name": "stdout",
     "output_type": "stream",
     "text": [
      "Epoch 1 Samples 8000 Step 124 Training Loss 0.27960923314094543\n",
      "Epoch 1 Validation Loss 0.2734743654727936\n",
      "Epoch 2 Samples 8000 Step 124 Training Loss 0.29379454255104065\n",
      "Epoch 2 Validation Loss 0.2952089309692383\n"
     ]
    },
    {
     "name": "stderr",
     "output_type": "stream",
     "text": [
      " 20%|██        | 2/10 [00:13<00:55,  6.98s/it]"
     ]
    },
    {
     "name": "stdout",
     "output_type": "stream",
     "text": [
      "Epoch 3 Samples 8000 Step 124 Training Loss 0.28038257360458374\n"
     ]
    },
    {
     "name": "stderr",
     "output_type": "stream",
     "text": [
      " 30%|███       | 3/10 [00:21<00:49,  7.12s/it]"
     ]
    },
    {
     "name": "stdout",
     "output_type": "stream",
     "text": [
      "Epoch 3 Validation Loss 0.27686068415641785\n",
      "Epoch 4 Samples 8000 Step 124 Training Loss 0.5041629076004028\n",
      "Epoch 4 Validation Loss 0.44655460119247437\n"
     ]
    },
    {
     "name": "stderr",
     "output_type": "stream",
     "text": [
      " 40%|████      | 4/10 [00:28<00:43,  7.21s/it]"
     ]
    },
    {
     "name": "stdout",
     "output_type": "stream",
     "text": [
      "Epoch 5 Samples 8000 Step 124 Training Loss 0.34335413575172424\n"
     ]
    },
    {
     "name": "stderr",
     "output_type": "stream",
     "text": [
      " 50%|█████     | 5/10 [00:35<00:36,  7.26s/it]"
     ]
    },
    {
     "name": "stdout",
     "output_type": "stream",
     "text": [
      "Epoch 5 Validation Loss 0.3227137625217438\n",
      "Epoch 6 Samples 8000 Step 124 Training Loss 0.2771984338760376\n",
      "Epoch 6 Validation Loss 0.2781122028827667\n"
     ]
    },
    {
     "name": "stderr",
     "output_type": "stream",
     "text": [
      " 60%|██████    | 6/10 [00:43<00:29,  7.32s/it]"
     ]
    },
    {
     "name": "stdout",
     "output_type": "stream",
     "text": [
      "Epoch 7 Samples 8000 Step 124 Training Loss 0.27421197295188904\n",
      "Epoch 7 Validation Loss 0.2784753739833832\n"
     ]
    },
    {
     "name": "stderr",
     "output_type": "stream",
     "text": [
      " 70%|███████   | 7/10 [00:50<00:21,  7.27s/it]"
     ]
    },
    {
     "name": "stdout",
     "output_type": "stream",
     "text": [
      "Epoch 8 Samples 8000 Step 124 Training Loss 0.27092036604881287\n"
     ]
    },
    {
     "name": "stderr",
     "output_type": "stream",
     "text": [
      " 80%|████████  | 8/10 [00:58<00:14,  7.35s/it]"
     ]
    },
    {
     "name": "stdout",
     "output_type": "stream",
     "text": [
      "Epoch 8 Validation Loss 0.2730822265148163\n",
      "Epoch 9 Samples 8000 Step 124 Training Loss 0.2763022780418396\n"
     ]
    },
    {
     "name": "stderr",
     "output_type": "stream",
     "text": [
      " 90%|█████████ | 9/10 [01:05<00:07,  7.36s/it]"
     ]
    },
    {
     "name": "stdout",
     "output_type": "stream",
     "text": [
      "Epoch 9 Validation Loss 0.270687460899353\n",
      "Epoch 10 Samples 8000 Step 124 Training Loss 0.2802683413028717\n"
     ]
    },
    {
     "name": "stderr",
     "output_type": "stream",
     "text": [
      "100%|██████████| 10/10 [01:12<00:00,  7.29s/it]"
     ]
    },
    {
     "name": "stdout",
     "output_type": "stream",
     "text": [
      "Epoch 10 Validation Loss 0.27976763248443604\n"
     ]
    },
    {
     "name": "stderr",
     "output_type": "stream",
     "text": [
      "\n"
     ]
    }
   ],
   "source": [
    "model2 = finetune_model(\n",
    "    model,\n",
    "    dataset,\n",
    "    10,\n",
    "    lr=0.05,\n",
    "    save_dir='B1/finetune2',\n",
    "    save_every=5\n",
    ")\n",
    "# Not much improvement here"
   ]
  },
  {
   "cell_type": "code",
   "execution_count": 3,
   "id": "c26ea8a6",
   "metadata": {},
   "outputs": [
    {
     "data": {
      "text/html": [
       "creating run (0.3s)"
      ],
      "text/plain": [
       "<IPython.core.display.HTML object>"
      ]
     },
     "metadata": {},
     "output_type": "display_data"
    },
    {
     "data": {
      "text/html": [
       "Tracking run with wandb version 0.21.0"
      ],
      "text/plain": [
       "<IPython.core.display.HTML object>"
      ]
     },
     "metadata": {},
     "output_type": "display_data"
    },
    {
     "data": {
      "text/html": [
       "Run data is saved locally in <code>c:\\Users\\Pakshal\\Desktop\\Project Viveka\\toy_transformer\\wandb\\run-20250906_231135-4whr0mtr</code>"
      ],
      "text/plain": [
       "<IPython.core.display.HTML object>"
      ]
     },
     "metadata": {},
     "output_type": "display_data"
    },
    {
     "data": {
      "text/html": [
       "Syncing run <strong><a href='https://wandb.ai/project-viveka/Toy%20Transformers/runs/4whr0mtr' target=\"_blank\">zesty-night-6</a></strong> to <a href='https://wandb.ai/project-viveka/Toy%20Transformers' target=\"_blank\">Weights & Biases</a> (<a href='https://wandb.me/developer-guide' target=\"_blank\">docs</a>)<br>"
      ],
      "text/plain": [
       "<IPython.core.display.HTML object>"
      ]
     },
     "metadata": {},
     "output_type": "display_data"
    },
    {
     "data": {
      "text/html": [
       " View project at <a href='https://wandb.ai/project-viveka/Toy%20Transformers' target=\"_blank\">https://wandb.ai/project-viveka/Toy%20Transformers</a>"
      ],
      "text/plain": [
       "<IPython.core.display.HTML object>"
      ]
     },
     "metadata": {},
     "output_type": "display_data"
    },
    {
     "data": {
      "text/html": [
       " View run at <a href='https://wandb.ai/project-viveka/Toy%20Transformers/runs/4whr0mtr' target=\"_blank\">https://wandb.ai/project-viveka/Toy%20Transformers/runs/4whr0mtr</a>"
      ],
      "text/plain": [
       "<IPython.core.display.HTML object>"
      ]
     },
     "metadata": {},
     "output_type": "display_data"
    },
    {
     "name": "stdout",
     "output_type": "stream",
     "text": [
      "Moving model to device:  cpu\n"
     ]
    },
    {
     "name": "stderr",
     "output_type": "stream",
     "text": [
      "  4%|▍         | 1/25 [00:06<02:43,  6.80s/it]"
     ]
    },
    {
     "name": "stdout",
     "output_type": "stream",
     "text": [
      "Epoch 1 Samples 8000 Step 124 Training Loss 0.604846179485321\n",
      "Epoch 1 Validation Loss 0.5970064401626587\n"
     ]
    },
    {
     "name": "stderr",
     "output_type": "stream",
     "text": [
      "  8%|▊         | 2/25 [00:13<02:30,  6.56s/it]"
     ]
    },
    {
     "name": "stdout",
     "output_type": "stream",
     "text": [
      "Epoch 2 Samples 8000 Step 124 Training Loss 0.5687693953514099\n",
      "Epoch 2 Validation Loss 0.5740916132926941\n"
     ]
    },
    {
     "name": "stderr",
     "output_type": "stream",
     "text": [
      " 12%|█▏        | 3/25 [00:19<02:23,  6.51s/it]"
     ]
    },
    {
     "name": "stdout",
     "output_type": "stream",
     "text": [
      "Epoch 3 Samples 8000 Step 124 Training Loss 0.6009655594825745\n",
      "Epoch 3 Validation Loss 0.5926099419593811\n"
     ]
    },
    {
     "name": "stderr",
     "output_type": "stream",
     "text": [
      " 16%|█▌        | 4/25 [00:26<02:16,  6.48s/it]"
     ]
    },
    {
     "name": "stdout",
     "output_type": "stream",
     "text": [
      "Epoch 4 Samples 8000 Step 124 Training Loss 0.591775119304657\n",
      "Epoch 4 Validation Loss 0.6013076901435852\n"
     ]
    },
    {
     "name": "stderr",
     "output_type": "stream",
     "text": [
      " 20%|██        | 5/25 [00:32<02:08,  6.44s/it]"
     ]
    },
    {
     "name": "stdout",
     "output_type": "stream",
     "text": [
      "Epoch 5 Samples 8000 Step 124 Training Loss 0.6074135303497314\n",
      "Epoch 5 Validation Loss 0.5878259539604187\n"
     ]
    },
    {
     "name": "stderr",
     "output_type": "stream",
     "text": [
      " 24%|██▍       | 6/25 [00:38<02:02,  6.45s/it]"
     ]
    },
    {
     "name": "stdout",
     "output_type": "stream",
     "text": [
      "Epoch 6 Samples 8000 Step 124 Training Loss 0.3404093086719513\n",
      "Epoch 6 Validation Loss 0.36083856225013733\n",
      "Epoch 7 Samples 8000 Step 124 Training Loss 0.38681620359420776\n",
      "Epoch 7 Validation Loss 0.36029863357543945\n"
     ]
    },
    {
     "name": "stderr",
     "output_type": "stream",
     "text": [
      " 28%|██▊       | 7/25 [00:45<01:56,  6.47s/it]"
     ]
    },
    {
     "name": "stdout",
     "output_type": "stream",
     "text": [
      "Epoch 8 Samples 8000 Step 124 Training Loss 0.3091886341571808\n",
      "Epoch 8 Validation Loss 0.3038143217563629\n"
     ]
    },
    {
     "name": "stderr",
     "output_type": "stream",
     "text": [
      " 32%|███▏      | 8/25 [00:51<01:49,  6.46s/it]"
     ]
    },
    {
     "name": "stdout",
     "output_type": "stream",
     "text": [
      "Epoch 9 Samples 8000 Step 124 Training Loss 0.2866921126842499\n"
     ]
    },
    {
     "name": "stderr",
     "output_type": "stream",
     "text": [
      " 36%|███▌      | 9/25 [00:58<01:44,  6.56s/it]"
     ]
    },
    {
     "name": "stdout",
     "output_type": "stream",
     "text": [
      "Epoch 9 Validation Loss 0.29604414105415344\n",
      "Epoch 10 Samples 8000 Step 124 Training Loss 0.30738481879234314\n",
      "Epoch 10 Validation Loss 0.30227792263031006\n"
     ]
    },
    {
     "name": "stderr",
     "output_type": "stream",
     "text": [
      " 40%|████      | 10/25 [01:05<01:39,  6.66s/it]"
     ]
    },
    {
     "name": "stdout",
     "output_type": "stream",
     "text": [
      "Epoch 11 Samples 8000 Step 124 Training Loss 0.30910927057266235\n",
      "Epoch 11 Validation Loss 0.3047047555446625\n"
     ]
    },
    {
     "name": "stderr",
     "output_type": "stream",
     "text": [
      " 48%|████▊     | 12/25 [01:18<01:26,  6.62s/it]"
     ]
    },
    {
     "name": "stdout",
     "output_type": "stream",
     "text": [
      "Epoch 12 Samples 8000 Step 124 Training Loss 0.2768578827381134\n",
      "Epoch 12 Validation Loss 0.27754801511764526\n",
      "Epoch 13 Samples 8000 Step 124 Training Loss 0.5395041108131409\n",
      "Epoch 13 Validation Loss 0.5325284004211426\n"
     ]
    },
    {
     "name": "stderr",
     "output_type": "stream",
     "text": [
      " 56%|█████▌    | 14/25 [01:32<01:13,  6.64s/it]"
     ]
    },
    {
     "name": "stdout",
     "output_type": "stream",
     "text": [
      "Epoch 14 Samples 8000 Step 124 Training Loss 0.3201112449169159\n",
      "Epoch 14 Validation Loss 0.32490816712379456\n",
      "Epoch 15 Samples 8000 Step 124 Training Loss 0.2780906856060028\n",
      "Epoch 15 Validation Loss 0.2780841886997223\n"
     ]
    },
    {
     "name": "stderr",
     "output_type": "stream",
     "text": [
      " 60%|██████    | 15/25 [01:38<01:06,  6.63s/it]"
     ]
    },
    {
     "name": "stdout",
     "output_type": "stream",
     "text": [
      "Epoch 16 Samples 8000 Step 124 Training Loss 0.2659001052379608\n",
      "Epoch 16 Validation Loss 0.26781296730041504\n"
     ]
    },
    {
     "name": "stderr",
     "output_type": "stream",
     "text": [
      " 68%|██████▊   | 17/25 [01:51<00:52,  6.61s/it]"
     ]
    },
    {
     "name": "stdout",
     "output_type": "stream",
     "text": [
      "Epoch 17 Samples 8000 Step 124 Training Loss 0.27459821105003357\n",
      "Epoch 17 Validation Loss 0.26633644104003906\n",
      "Epoch 18 Samples 8000 Step 124 Training Loss 0.2721829414367676\n",
      "Epoch 18 Validation Loss 0.26865091919898987\n"
     ]
    },
    {
     "name": "stderr",
     "output_type": "stream",
     "text": [
      " 72%|███████▏  | 18/25 [01:58<00:46,  6.58s/it]"
     ]
    },
    {
     "name": "stdout",
     "output_type": "stream",
     "text": [
      "Epoch 19 Samples 8000 Step 124 Training Loss 0.27328869700431824\n",
      "Epoch 19 Validation Loss 0.2801414430141449\n"
     ]
    },
    {
     "name": "stderr",
     "output_type": "stream",
     "text": [
      " 76%|███████▌  | 19/25 [02:04<00:39,  6.59s/it]"
     ]
    },
    {
     "name": "stdout",
     "output_type": "stream",
     "text": [
      "Epoch 20 Samples 8000 Step 124 Training Loss 0.2587829828262329\n",
      "Epoch 20 Validation Loss 0.25901129841804504\n"
     ]
    },
    {
     "name": "stderr",
     "output_type": "stream",
     "text": [
      " 80%|████████  | 20/25 [02:11<00:33,  6.61s/it]"
     ]
    },
    {
     "name": "stdout",
     "output_type": "stream",
     "text": [
      "Epoch 21 Samples 8000 Step 124 Training Loss 0.26022177934646606\n",
      "Epoch 21 Validation Loss 0.2608344852924347\n"
     ]
    },
    {
     "name": "stderr",
     "output_type": "stream",
     "text": [
      " 84%|████████▍ | 21/25 [02:18<00:26,  6.62s/it]"
     ]
    },
    {
     "name": "stdout",
     "output_type": "stream",
     "text": [
      "Epoch 22 Samples 8000 Step 124 Training Loss 0.26407042145729065\n",
      "Epoch 22 Validation Loss 0.2711472511291504\n"
     ]
    },
    {
     "name": "stderr",
     "output_type": "stream",
     "text": [
      " 92%|█████████▏| 23/25 [02:31<00:13,  6.63s/it]"
     ]
    },
    {
     "name": "stdout",
     "output_type": "stream",
     "text": [
      "Epoch 23 Samples 8000 Step 124 Training Loss 0.2559430003166199\n",
      "Epoch 23 Validation Loss 0.25720712542533875\n",
      "Epoch 24 Samples 8000 Step 124 Training Loss 0.25245070457458496\n",
      "Epoch 24 Validation Loss 0.256989449262619\n"
     ]
    },
    {
     "name": "stderr",
     "output_type": "stream",
     "text": [
      " 96%|█████████▌| 24/25 [02:38<00:06,  6.63s/it]"
     ]
    },
    {
     "name": "stdout",
     "output_type": "stream",
     "text": [
      "Epoch 25 Samples 8000 Step 124 Training Loss 0.25624406337738037\n",
      "Epoch 25 Validation Loss 0.2598312199115753\n"
     ]
    },
    {
     "name": "stderr",
     "output_type": "stream",
     "text": [
      "100%|██████████| 25/25 [02:44<00:00,  6.59s/it]\n",
      "\u001b[34m\u001b[1mwandb\u001b[0m: \u001b[32m\u001b[41mERROR\u001b[0m The nbformat package was not found. It is required to save notebook history.\n"
     ]
    },
    {
     "data": {
      "text/html": [],
      "text/plain": [
       "<IPython.core.display.HTML object>"
      ]
     },
     "metadata": {},
     "output_type": "display_data"
    },
    {
     "data": {
      "text/html": [
       "<br>    <style><br>        .wandb-row {<br>            display: flex;<br>            flex-direction: row;<br>            flex-wrap: wrap;<br>            justify-content: flex-start;<br>            width: 100%;<br>        }<br>        .wandb-col {<br>            display: flex;<br>            flex-direction: column;<br>            flex-basis: 100%;<br>            flex: 1;<br>            padding: 10px;<br>        }<br>    </style><br><div class=\"wandb-row\"><div class=\"wandb-col\"><h3>Run history:</h3><br/><table class=\"wandb\"><tr><td>epoch</td><td>▁▁▁▁▁▂▂▂▂▂▂▂▂▃▃▃▃▃▃▄▄▅▅▅▅▅▅▆▆▆▇▇▇▇▇▇▇▇██</td></tr><tr><td>samples</td><td>▁▃▅▃▆▃▃▂▅▁▅▁▄▇█▆▂▃▅▁▃▃▄▅▂▃▄▆▇▃▆▄▅▄█▇▄▆▆▄</td></tr><tr><td>train_loss</td><td>▇▇▆▆▇▆▄▃▆▃▃▅▂▂▂█▂▂▂▂▂▂▆▄▁▁▁▁▁▁▁▁▁▁▁▁▁▁▁▁</td></tr><tr><td>val_loss</td><td>█▇███▃▃▂▂▂▂▁▇▂▁▁▁▁▁▁▁▁▁▁▁</td></tr></table><br/></div><div class=\"wandb-col\"><h3>Run summary:</h3><br/><table class=\"wandb\"><tr><td>epoch</td><td>25</td></tr><tr><td>samples</td><td>8000</td></tr><tr><td>train_loss</td><td>0.25624</td></tr><tr><td>val_loss</td><td>0.25983</td></tr></table><br/></div></div>"
      ],
      "text/plain": [
       "<IPython.core.display.HTML object>"
      ]
     },
     "metadata": {},
     "output_type": "display_data"
    },
    {
     "data": {
      "text/html": [
       " View run <strong style=\"color:#cdcd00\">zesty-night-6</strong> at: <a href='https://wandb.ai/project-viveka/Toy%20Transformers/runs/4whr0mtr' target=\"_blank\">https://wandb.ai/project-viveka/Toy%20Transformers/runs/4whr0mtr</a><br> View project at: <a href='https://wandb.ai/project-viveka/Toy%20Transformers' target=\"_blank\">https://wandb.ai/project-viveka/Toy%20Transformers</a><br>Synced 5 W&B file(s), 0 media file(s), 0 artifact file(s) and 0 other file(s)"
      ],
      "text/plain": [
       "<IPython.core.display.HTML object>"
      ]
     },
     "metadata": {},
     "output_type": "display_data"
    },
    {
     "data": {
      "text/html": [
       "Find logs at: <code>.\\wandb\\run-20250906_231135-4whr0mtr\\logs</code>"
      ],
      "text/plain": [
       "<IPython.core.display.HTML object>"
      ]
     },
     "metadata": {},
     "output_type": "display_data"
    }
   ],
   "source": [
    "model = train_model(\n",
    "            dataset=dataset,\n",
    "            n_epochs=25,\n",
    "            d_model=4,\n",
    "            attn_only=True,\n",
    "            lr=0.2,\n",
    "            normalization_type='LN',\n",
    "            wandb=True,\n",
    "            wandb_project_name='Toy Transformers',\n",
    "            save_dir='B1_B',\n",
    "            save_every=5\n",
    "        )\n",
    "wandb.finish()"
   ]
  },
  {
   "cell_type": "code",
   "execution_count": 5,
   "id": "537ac788",
   "metadata": {},
   "outputs": [
    {
     "data": {
      "text/plain": [
       "HookedTransformer(\n",
       "  (embed): Embed()\n",
       "  (hook_embed): HookPoint()\n",
       "  (pos_embed): PosEmbed()\n",
       "  (hook_pos_embed): HookPoint()\n",
       "  (blocks): ModuleList(\n",
       "    (0-3): 4 x TransformerBlock(\n",
       "      (ln1): LayerNorm(\n",
       "        (hook_scale): HookPoint()\n",
       "        (hook_normalized): HookPoint()\n",
       "      )\n",
       "      (attn): Attention(\n",
       "        (hook_k): HookPoint()\n",
       "        (hook_q): HookPoint()\n",
       "        (hook_v): HookPoint()\n",
       "        (hook_z): HookPoint()\n",
       "        (hook_attn_scores): HookPoint()\n",
       "        (hook_pattern): HookPoint()\n",
       "        (hook_result): HookPoint()\n",
       "      )\n",
       "      (hook_attn_in): HookPoint()\n",
       "      (hook_q_input): HookPoint()\n",
       "      (hook_k_input): HookPoint()\n",
       "      (hook_v_input): HookPoint()\n",
       "      (hook_mlp_in): HookPoint()\n",
       "      (hook_attn_out): HookPoint()\n",
       "      (hook_mlp_out): HookPoint()\n",
       "      (hook_resid_pre): HookPoint()\n",
       "      (hook_resid_post): HookPoint()\n",
       "    )\n",
       "  )\n",
       "  (ln_final): LayerNorm(\n",
       "    (hook_scale): HookPoint()\n",
       "    (hook_normalized): HookPoint()\n",
       "  )\n",
       "  (unembed): Unembed()\n",
       ")"
      ]
     },
     "execution_count": 5,
     "metadata": {},
     "output_type": "execute_result"
    }
   ],
   "source": [
    "model"
   ]
  },
  {
   "cell_type": "code",
   "execution_count": 4,
   "id": "26f997d1",
   "metadata": {},
   "outputs": [
    {
     "name": "stdout",
     "output_type": "stream",
     "text": [
      "tensor([[0, 1, 1, 0, 1, 1, 0, 1, 1, 0],\n",
      "        [0, 1, 1, 0, 1, 1, 0, 1, 1, 0],\n",
      "        [0, 0, 1, 1, 0, 1, 1, 0, 1, 0],\n",
      "        [0, 1, 1, 0, 1, 1, 0, 1, 1, 0]])\n",
      "tensor([[1, 0, 0, 1, 0, 0, 1, 0, 0, 1],\n",
      "        [1, 0, 0, 1, 0, 0, 1, 0, 0, 1],\n",
      "        [1, 1, 0, 0, 1, 0, 0, 1, 0, 0],\n",
      "        [1, 0, 0, 1, 0, 0, 1, 0, 0, 1]])\n"
     ]
    },
    {
     "data": {
      "text/plain": [
       "tensor(0.3749, grad_fn=<DivBackward0>)"
      ]
     },
     "execution_count": 4,
     "metadata": {},
     "output_type": "execute_result"
    }
   ],
   "source": [
    "T0 = np.array([\n",
    "    [0, 1, 0],\n",
    "    [0, 0, 0],\n",
    "    [0.5, 0, 0]\n",
    "])\n",
    "T1 = np.array([\n",
    "    [0, 0, 0],\n",
    "    [0, 0, 1],\n",
    "    [0.5, 0, 0]\n",
    "])\n",
    "\n",
    "test_data = MarkovData(4, 10, 3, 2, [T0, T1], seed=None)\n",
    "x = torch.stack(test_data.data)\n",
    "print(x)\n",
    "print(model(x).argmax(dim=-1))\n",
    "loss = model(x, return_type='loss')\n",
    "loss"
   ]
  },
  {
   "cell_type": "markdown",
   "id": "fc3c4dd1",
   "metadata": {},
   "source": [
    "# C1"
   ]
  },
  {
   "cell_type": "code",
   "execution_count": 321,
   "id": "501ff073",
   "metadata": {},
   "outputs": [
    {
     "name": "stdout",
     "output_type": "stream",
     "text": [
      "Moving model to device:  cpu\n"
     ]
    },
    {
     "name": "stderr",
     "output_type": "stream",
     "text": [
      "  2%|▏         | 1/50 [00:04<03:31,  4.32s/it]"
     ]
    },
    {
     "name": "stdout",
     "output_type": "stream",
     "text": [
      "Epoch 1 Samples 8000 Step 124 Training Loss 0.6815774440765381\n",
      "Epoch 1 Validation Loss 0.6709317564964294\n"
     ]
    },
    {
     "name": "stderr",
     "output_type": "stream",
     "text": [
      "  4%|▍         | 2/50 [00:08<03:10,  3.96s/it]"
     ]
    },
    {
     "name": "stdout",
     "output_type": "stream",
     "text": [
      "Epoch 2 Samples 8000 Step 124 Training Loss 0.6566250920295715\n",
      "Epoch 2 Validation Loss 0.6587879657745361\n"
     ]
    },
    {
     "name": "stderr",
     "output_type": "stream",
     "text": [
      "  6%|▌         | 3/50 [00:12<03:07,  3.99s/it]"
     ]
    },
    {
     "name": "stdout",
     "output_type": "stream",
     "text": [
      "Epoch 3 Samples 8000 Step 124 Training Loss 0.6491296291351318\n",
      "Epoch 3 Validation Loss 0.6520754098892212\n"
     ]
    },
    {
     "name": "stderr",
     "output_type": "stream",
     "text": [
      "  8%|▊         | 4/50 [00:16<03:03,  3.98s/it]"
     ]
    },
    {
     "name": "stdout",
     "output_type": "stream",
     "text": [
      "Epoch 4 Samples 8000 Step 124 Training Loss 0.6473738551139832\n",
      "Epoch 4 Validation Loss 0.6473637819290161\n"
     ]
    },
    {
     "name": "stderr",
     "output_type": "stream",
     "text": [
      " 10%|█         | 5/50 [00:20<03:08,  4.19s/it]"
     ]
    },
    {
     "name": "stdout",
     "output_type": "stream",
     "text": [
      "Epoch 5 Samples 8000 Step 124 Training Loss 0.6515260934829712\n",
      "Epoch 5 Validation Loss 0.6441475749015808\n"
     ]
    },
    {
     "name": "stderr",
     "output_type": "stream",
     "text": [
      " 12%|█▏        | 6/50 [00:24<03:05,  4.22s/it]"
     ]
    },
    {
     "name": "stdout",
     "output_type": "stream",
     "text": [
      "Epoch 6 Samples 8000 Step 124 Training Loss 0.6374908685684204\n",
      "Epoch 6 Validation Loss 0.6419819593429565\n"
     ]
    },
    {
     "name": "stderr",
     "output_type": "stream",
     "text": [
      " 14%|█▍        | 7/50 [00:28<02:57,  4.13s/it]"
     ]
    },
    {
     "name": "stdout",
     "output_type": "stream",
     "text": [
      "Epoch 7 Samples 8000 Step 124 Training Loss 0.6385815739631653\n",
      "Epoch 7 Validation Loss 0.640497088432312\n"
     ]
    },
    {
     "name": "stderr",
     "output_type": "stream",
     "text": [
      " 16%|█▌        | 8/50 [00:33<02:54,  4.15s/it]"
     ]
    },
    {
     "name": "stdout",
     "output_type": "stream",
     "text": [
      "Epoch 8 Samples 8000 Step 124 Training Loss 0.6389705538749695\n",
      "Epoch 8 Validation Loss 0.6393520832061768\n"
     ]
    },
    {
     "name": "stderr",
     "output_type": "stream",
     "text": [
      " 18%|█▊        | 9/50 [00:36<02:46,  4.06s/it]"
     ]
    },
    {
     "name": "stdout",
     "output_type": "stream",
     "text": [
      "Epoch 9 Samples 8000 Step 124 Training Loss 0.6431722044944763\n",
      "Epoch 9 Validation Loss 0.6383441686630249\n"
     ]
    },
    {
     "name": "stderr",
     "output_type": "stream",
     "text": [
      " 20%|██        | 10/50 [00:40<02:41,  4.05s/it]"
     ]
    },
    {
     "name": "stdout",
     "output_type": "stream",
     "text": [
      "Epoch 10 Samples 8000 Step 124 Training Loss 0.6368860602378845\n",
      "Epoch 10 Validation Loss 0.6374064683914185\n"
     ]
    },
    {
     "name": "stderr",
     "output_type": "stream",
     "text": [
      " 22%|██▏       | 11/50 [00:44<02:35,  3.98s/it]"
     ]
    },
    {
     "name": "stdout",
     "output_type": "stream",
     "text": [
      "Epoch 11 Samples 8000 Step 124 Training Loss 0.6299558877944946\n",
      "Epoch 11 Validation Loss 0.636525571346283\n"
     ]
    },
    {
     "name": "stderr",
     "output_type": "stream",
     "text": [
      " 24%|██▍       | 12/50 [00:48<02:27,  3.89s/it]"
     ]
    },
    {
     "name": "stdout",
     "output_type": "stream",
     "text": [
      "Epoch 12 Samples 8000 Step 124 Training Loss 0.6323351263999939\n",
      "Epoch 12 Validation Loss 0.6355653405189514\n"
     ]
    },
    {
     "name": "stderr",
     "output_type": "stream",
     "text": [
      " 26%|██▌       | 13/50 [00:52<02:24,  3.91s/it]"
     ]
    },
    {
     "name": "stdout",
     "output_type": "stream",
     "text": [
      "Epoch 13 Samples 8000 Step 124 Training Loss 0.6338651180267334\n",
      "Epoch 13 Validation Loss 0.6346503496170044\n"
     ]
    },
    {
     "name": "stderr",
     "output_type": "stream",
     "text": [
      " 28%|██▊       | 14/50 [00:56<02:20,  3.89s/it]"
     ]
    },
    {
     "name": "stdout",
     "output_type": "stream",
     "text": [
      "Epoch 14 Samples 8000 Step 124 Training Loss 0.6407761573791504\n",
      "Epoch 14 Validation Loss 0.6337311267852783\n"
     ]
    },
    {
     "name": "stderr",
     "output_type": "stream",
     "text": [
      " 30%|███       | 15/50 [00:59<02:15,  3.86s/it]"
     ]
    },
    {
     "name": "stdout",
     "output_type": "stream",
     "text": [
      "Epoch 15 Samples 8000 Step 124 Training Loss 0.6361482739448547\n",
      "Epoch 15 Validation Loss 0.6328453421592712\n"
     ]
    },
    {
     "name": "stderr",
     "output_type": "stream",
     "text": [
      " 32%|███▏      | 16/50 [01:04<02:13,  3.92s/it]"
     ]
    },
    {
     "name": "stdout",
     "output_type": "stream",
     "text": [
      "Epoch 16 Samples 8000 Step 124 Training Loss 0.635479748249054\n",
      "Epoch 16 Validation Loss 0.6320028901100159\n"
     ]
    },
    {
     "name": "stderr",
     "output_type": "stream",
     "text": [
      " 34%|███▍      | 17/50 [01:08<02:10,  3.95s/it]"
     ]
    },
    {
     "name": "stdout",
     "output_type": "stream",
     "text": [
      "Epoch 17 Samples 8000 Step 124 Training Loss 0.6280182003974915\n",
      "Epoch 17 Validation Loss 0.6312068700790405\n"
     ]
    },
    {
     "name": "stderr",
     "output_type": "stream",
     "text": [
      " 36%|███▌      | 18/50 [01:12<02:07,  3.98s/it]"
     ]
    },
    {
     "name": "stdout",
     "output_type": "stream",
     "text": [
      "Epoch 18 Samples 8000 Step 124 Training Loss 0.6327819228172302\n",
      "Epoch 18 Validation Loss 0.6300972104072571\n"
     ]
    },
    {
     "name": "stderr",
     "output_type": "stream",
     "text": [
      " 38%|███▊      | 19/50 [01:16<02:03,  3.99s/it]"
     ]
    },
    {
     "name": "stdout",
     "output_type": "stream",
     "text": [
      "Epoch 19 Samples 8000 Step 124 Training Loss 0.6284312605857849\n",
      "Epoch 19 Validation Loss 0.6289294362068176\n"
     ]
    },
    {
     "name": "stderr",
     "output_type": "stream",
     "text": [
      " 40%|████      | 20/50 [01:20<01:59,  3.98s/it]"
     ]
    },
    {
     "name": "stdout",
     "output_type": "stream",
     "text": [
      "Epoch 20 Samples 8000 Step 124 Training Loss 0.6332303285598755\n",
      "Epoch 20 Validation Loss 0.6275232434272766\n"
     ]
    },
    {
     "name": "stderr",
     "output_type": "stream",
     "text": [
      " 42%|████▏     | 21/50 [01:24<01:55,  3.98s/it]"
     ]
    },
    {
     "name": "stdout",
     "output_type": "stream",
     "text": [
      "Epoch 21 Samples 8000 Step 124 Training Loss 0.622613787651062\n",
      "Epoch 21 Validation Loss 0.6257288455963135\n"
     ]
    },
    {
     "name": "stderr",
     "output_type": "stream",
     "text": [
      " 44%|████▍     | 22/50 [01:28<01:54,  4.07s/it]"
     ]
    },
    {
     "name": "stdout",
     "output_type": "stream",
     "text": [
      "Epoch 22 Samples 8000 Step 124 Training Loss 0.6232255101203918\n",
      "Epoch 22 Validation Loss 0.6234226822853088\n"
     ]
    },
    {
     "name": "stderr",
     "output_type": "stream",
     "text": [
      " 46%|████▌     | 23/50 [01:32<01:49,  4.04s/it]"
     ]
    },
    {
     "name": "stdout",
     "output_type": "stream",
     "text": [
      "Epoch 23 Samples 8000 Step 124 Training Loss 0.6192932724952698\n",
      "Epoch 23 Validation Loss 0.6204639077186584\n"
     ]
    },
    {
     "name": "stderr",
     "output_type": "stream",
     "text": [
      " 48%|████▊     | 24/50 [01:36<01:44,  4.01s/it]"
     ]
    },
    {
     "name": "stdout",
     "output_type": "stream",
     "text": [
      "Epoch 24 Samples 8000 Step 124 Training Loss 0.6213396787643433\n",
      "Epoch 24 Validation Loss 0.6157317757606506\n"
     ]
    },
    {
     "name": "stderr",
     "output_type": "stream",
     "text": [
      " 50%|█████     | 25/50 [01:40<01:39,  3.99s/it]"
     ]
    },
    {
     "name": "stdout",
     "output_type": "stream",
     "text": [
      "Epoch 25 Samples 8000 Step 124 Training Loss 0.6091352701187134\n",
      "Epoch 25 Validation Loss 0.6094185709953308\n"
     ]
    },
    {
     "name": "stderr",
     "output_type": "stream",
     "text": [
      " 52%|█████▏    | 26/50 [01:44<01:35,  3.98s/it]"
     ]
    },
    {
     "name": "stdout",
     "output_type": "stream",
     "text": [
      "Epoch 26 Samples 8000 Step 124 Training Loss 0.6023508310317993\n",
      "Epoch 26 Validation Loss 0.6017374992370605\n"
     ]
    },
    {
     "name": "stderr",
     "output_type": "stream",
     "text": [
      " 54%|█████▍    | 27/50 [01:48<01:31,  3.98s/it]"
     ]
    },
    {
     "name": "stdout",
     "output_type": "stream",
     "text": [
      "Epoch 27 Samples 8000 Step 124 Training Loss 0.5978692173957825\n",
      "Epoch 27 Validation Loss 0.5938708186149597\n"
     ]
    },
    {
     "name": "stderr",
     "output_type": "stream",
     "text": [
      " 56%|█████▌    | 28/50 [01:52<01:27,  3.97s/it]"
     ]
    },
    {
     "name": "stdout",
     "output_type": "stream",
     "text": [
      "Epoch 28 Samples 8000 Step 124 Training Loss 0.5889025926589966\n",
      "Epoch 28 Validation Loss 0.586036205291748\n"
     ]
    },
    {
     "name": "stderr",
     "output_type": "stream",
     "text": [
      " 58%|█████▊    | 29/50 [01:56<01:23,  3.96s/it]"
     ]
    },
    {
     "name": "stdout",
     "output_type": "stream",
     "text": [
      "Epoch 29 Samples 8000 Step 124 Training Loss 0.5925045013427734\n",
      "Epoch 29 Validation Loss 0.5791853666305542\n"
     ]
    },
    {
     "name": "stderr",
     "output_type": "stream",
     "text": [
      " 60%|██████    | 30/50 [02:00<01:19,  3.97s/it]"
     ]
    },
    {
     "name": "stdout",
     "output_type": "stream",
     "text": [
      "Epoch 30 Samples 8000 Step 124 Training Loss 0.579464852809906\n",
      "Epoch 30 Validation Loss 0.5705780982971191\n"
     ]
    },
    {
     "name": "stderr",
     "output_type": "stream",
     "text": [
      " 62%|██████▏   | 31/50 [02:04<01:16,  4.01s/it]"
     ]
    },
    {
     "name": "stdout",
     "output_type": "stream",
     "text": [
      "Epoch 31 Samples 8000 Step 124 Training Loss 0.5589589476585388\n",
      "Epoch 31 Validation Loss 0.5582196712493896\n"
     ]
    },
    {
     "name": "stderr",
     "output_type": "stream",
     "text": [
      " 64%|██████▍   | 32/50 [02:08<01:11,  4.00s/it]"
     ]
    },
    {
     "name": "stdout",
     "output_type": "stream",
     "text": [
      "Epoch 32 Samples 8000 Step 124 Training Loss 0.5517719984054565\n",
      "Epoch 32 Validation Loss 0.5409678816795349\n"
     ]
    },
    {
     "name": "stderr",
     "output_type": "stream",
     "text": [
      " 66%|██████▌   | 33/50 [02:12<01:07,  3.99s/it]"
     ]
    },
    {
     "name": "stdout",
     "output_type": "stream",
     "text": [
      "Epoch 33 Samples 8000 Step 124 Training Loss 0.5347872972488403\n",
      "Epoch 33 Validation Loss 0.5260109305381775\n"
     ]
    },
    {
     "name": "stderr",
     "output_type": "stream",
     "text": [
      " 68%|██████▊   | 34/50 [02:15<01:03,  3.97s/it]"
     ]
    },
    {
     "name": "stdout",
     "output_type": "stream",
     "text": [
      "Epoch 34 Samples 8000 Step 124 Training Loss 0.5283185839653015\n",
      "Epoch 34 Validation Loss 0.5147572159767151\n"
     ]
    },
    {
     "name": "stderr",
     "output_type": "stream",
     "text": [
      " 70%|███████   | 35/50 [02:19<00:59,  3.98s/it]"
     ]
    },
    {
     "name": "stdout",
     "output_type": "stream",
     "text": [
      "Epoch 35 Samples 8000 Step 124 Training Loss 0.503828763961792\n",
      "Epoch 35 Validation Loss 0.5033807158470154\n"
     ]
    },
    {
     "name": "stderr",
     "output_type": "stream",
     "text": [
      " 72%|███████▏  | 36/50 [02:24<00:55,  3.99s/it]"
     ]
    },
    {
     "name": "stdout",
     "output_type": "stream",
     "text": [
      "Epoch 36 Samples 8000 Step 124 Training Loss 0.5265330076217651\n",
      "Epoch 36 Validation Loss 0.5045067071914673\n"
     ]
    },
    {
     "name": "stderr",
     "output_type": "stream",
     "text": [
      " 74%|███████▍  | 37/50 [02:27<00:51,  3.99s/it]"
     ]
    },
    {
     "name": "stdout",
     "output_type": "stream",
     "text": [
      "Epoch 37 Samples 8000 Step 124 Training Loss 0.49189215898513794\n",
      "Epoch 37 Validation Loss 0.4896860718727112\n"
     ]
    },
    {
     "name": "stderr",
     "output_type": "stream",
     "text": [
      " 76%|███████▌  | 38/50 [02:31<00:47,  3.97s/it]"
     ]
    },
    {
     "name": "stdout",
     "output_type": "stream",
     "text": [
      "Epoch 38 Samples 8000 Step 124 Training Loss 0.4588843584060669\n",
      "Epoch 38 Validation Loss 0.49553558230400085\n"
     ]
    },
    {
     "name": "stderr",
     "output_type": "stream",
     "text": [
      " 78%|███████▊  | 39/50 [02:35<00:43,  3.99s/it]"
     ]
    },
    {
     "name": "stdout",
     "output_type": "stream",
     "text": [
      "Epoch 39 Samples 8000 Step 124 Training Loss 0.47552746534347534\n",
      "Epoch 39 Validation Loss 0.47375038266181946\n"
     ]
    },
    {
     "name": "stderr",
     "output_type": "stream",
     "text": [
      " 80%|████████  | 40/50 [02:40<00:40,  4.01s/it]"
     ]
    },
    {
     "name": "stdout",
     "output_type": "stream",
     "text": [
      "Epoch 40 Samples 8000 Step 124 Training Loss 0.4716554582118988\n",
      "Epoch 40 Validation Loss 0.47058796882629395\n"
     ]
    },
    {
     "name": "stderr",
     "output_type": "stream",
     "text": [
      " 82%|████████▏ | 41/50 [02:44<00:36,  4.05s/it]"
     ]
    },
    {
     "name": "stdout",
     "output_type": "stream",
     "text": [
      "Epoch 41 Samples 8000 Step 124 Training Loss 0.4685176610946655\n",
      "Epoch 41 Validation Loss 0.4631267488002777\n"
     ]
    },
    {
     "name": "stderr",
     "output_type": "stream",
     "text": [
      " 84%|████████▍ | 42/50 [02:47<00:31,  3.98s/it]"
     ]
    },
    {
     "name": "stdout",
     "output_type": "stream",
     "text": [
      "Epoch 42 Samples 8000 Step 124 Training Loss 0.46869760751724243\n",
      "Epoch 42 Validation Loss 0.4611646234989166\n"
     ]
    },
    {
     "name": "stderr",
     "output_type": "stream",
     "text": [
      " 86%|████████▌ | 43/50 [02:51<00:27,  3.99s/it]"
     ]
    },
    {
     "name": "stdout",
     "output_type": "stream",
     "text": [
      "Epoch 43 Samples 8000 Step 124 Training Loss 0.4627123475074768\n",
      "Epoch 43 Validation Loss 0.4588145613670349\n"
     ]
    },
    {
     "name": "stderr",
     "output_type": "stream",
     "text": [
      " 88%|████████▊ | 44/50 [02:55<00:23,  3.98s/it]"
     ]
    },
    {
     "name": "stdout",
     "output_type": "stream",
     "text": [
      "Epoch 44 Samples 8000 Step 124 Training Loss 0.4707024097442627\n",
      "Epoch 44 Validation Loss 0.45949527621269226\n"
     ]
    },
    {
     "name": "stderr",
     "output_type": "stream",
     "text": [
      " 90%|█████████ | 45/50 [02:59<00:19,  3.92s/it]"
     ]
    },
    {
     "name": "stdout",
     "output_type": "stream",
     "text": [
      "Epoch 45 Samples 8000 Step 124 Training Loss 0.46342113614082336\n",
      "Epoch 45 Validation Loss 0.46080732345581055\n"
     ]
    },
    {
     "name": "stderr",
     "output_type": "stream",
     "text": [
      " 92%|█████████▏| 46/50 [03:03<00:15,  3.91s/it]"
     ]
    },
    {
     "name": "stdout",
     "output_type": "stream",
     "text": [
      "Epoch 46 Samples 8000 Step 124 Training Loss 0.4640500247478485\n",
      "Epoch 46 Validation Loss 0.4510742127895355\n"
     ]
    },
    {
     "name": "stderr",
     "output_type": "stream",
     "text": [
      " 94%|█████████▍| 47/50 [03:07<00:11,  3.93s/it]"
     ]
    },
    {
     "name": "stdout",
     "output_type": "stream",
     "text": [
      "Epoch 47 Samples 8000 Step 124 Training Loss 0.47196608781814575\n",
      "Epoch 47 Validation Loss 0.44413819909095764\n"
     ]
    },
    {
     "name": "stderr",
     "output_type": "stream",
     "text": [
      " 96%|█████████▌| 48/50 [03:11<00:07,  3.94s/it]"
     ]
    },
    {
     "name": "stdout",
     "output_type": "stream",
     "text": [
      "Epoch 48 Samples 8000 Step 124 Training Loss 0.4429614543914795\n",
      "Epoch 48 Validation Loss 0.44274720549583435\n"
     ]
    },
    {
     "name": "stderr",
     "output_type": "stream",
     "text": [
      " 98%|█████████▊| 49/50 [03:15<00:03,  3.96s/it]"
     ]
    },
    {
     "name": "stdout",
     "output_type": "stream",
     "text": [
      "Epoch 49 Samples 8000 Step 124 Training Loss 0.4285297691822052\n",
      "Epoch 49 Validation Loss 0.43600744009017944\n"
     ]
    },
    {
     "name": "stderr",
     "output_type": "stream",
     "text": [
      "100%|██████████| 50/50 [03:19<00:00,  3.99s/it]"
     ]
    },
    {
     "name": "stdout",
     "output_type": "stream",
     "text": [
      "Epoch 50 Samples 8000 Step 124 Training Loss 0.4302584230899811\n",
      "Epoch 50 Validation Loss 0.4312772750854492\n"
     ]
    },
    {
     "name": "stderr",
     "output_type": "stream",
     "text": [
      "\n"
     ]
    }
   ],
   "source": [
    "model = train_model(\n",
    "            dataset=dataset,\n",
    "            n_epochs=50,\n",
    "            d_model=2,\n",
    "            attn_only=True,\n",
    "            lr=0.05,\n",
    "            #wandb=True,\n",
    "            #wandb_project_name='Toy Transformers',\n",
    "            save_every=5,\n",
    "            save_dir='A1_(d=2)'\n",
    "        )\n",
    "#wandb.finish()"
   ]
  },
  {
   "cell_type": "code",
   "execution_count": 11,
   "id": "fb5ec8a7",
   "metadata": {},
   "outputs": [
    {
     "name": "stdout",
     "output_type": "stream",
     "text": [
      "Moving model to device:  cpu\n"
     ]
    },
    {
     "name": "stderr",
     "output_type": "stream",
     "text": [
      "  2%|▏         | 1/50 [00:01<01:09,  1.42s/it]"
     ]
    },
    {
     "name": "stdout",
     "output_type": "stream",
     "text": [
      "Epoch 1 Samples 8000 Step 124 Training Loss 0.4259848892688751\n",
      "Epoch 1 Validation Loss 0.4347629249095917\n"
     ]
    },
    {
     "name": "stderr",
     "output_type": "stream",
     "text": [
      "  4%|▍         | 2/50 [00:02<01:05,  1.36s/it]"
     ]
    },
    {
     "name": "stdout",
     "output_type": "stream",
     "text": [
      "Epoch 2 Samples 8000 Step 124 Training Loss 0.443494588136673\n",
      "Epoch 2 Validation Loss 0.4500325322151184\n"
     ]
    },
    {
     "name": "stderr",
     "output_type": "stream",
     "text": [
      "  6%|▌         | 3/50 [00:03<01:01,  1.31s/it]"
     ]
    },
    {
     "name": "stdout",
     "output_type": "stream",
     "text": [
      "Epoch 3 Samples 8000 Step 124 Training Loss 0.41648179292678833\n",
      "Epoch 3 Validation Loss 0.42686089873313904\n"
     ]
    },
    {
     "name": "stderr",
     "output_type": "stream",
     "text": [
      "  8%|▊         | 4/50 [00:05<00:59,  1.29s/it]"
     ]
    },
    {
     "name": "stdout",
     "output_type": "stream",
     "text": [
      "Epoch 4 Samples 8000 Step 124 Training Loss 0.42120179533958435\n",
      "Epoch 4 Validation Loss 0.4265555739402771\n"
     ]
    },
    {
     "name": "stderr",
     "output_type": "stream",
     "text": [
      " 10%|█         | 5/50 [00:06<00:57,  1.28s/it]"
     ]
    },
    {
     "name": "stdout",
     "output_type": "stream",
     "text": [
      "Epoch 5 Samples 8000 Step 124 Training Loss 0.4130159318447113\n",
      "Epoch 5 Validation Loss 0.43128252029418945\n"
     ]
    },
    {
     "name": "stderr",
     "output_type": "stream",
     "text": [
      " 12%|█▏        | 6/50 [00:07<00:55,  1.27s/it]"
     ]
    },
    {
     "name": "stdout",
     "output_type": "stream",
     "text": [
      "Epoch 6 Samples 8000 Step 124 Training Loss 0.46391353011131287\n",
      "Epoch 6 Validation Loss 0.434020072221756\n"
     ]
    },
    {
     "name": "stderr",
     "output_type": "stream",
     "text": [
      " 14%|█▍        | 7/50 [00:09<00:54,  1.27s/it]"
     ]
    },
    {
     "name": "stdout",
     "output_type": "stream",
     "text": [
      "Epoch 7 Samples 8000 Step 124 Training Loss 0.4236305058002472\n",
      "Epoch 7 Validation Loss 0.421164333820343\n"
     ]
    },
    {
     "name": "stderr",
     "output_type": "stream",
     "text": [
      " 16%|█▌        | 8/50 [00:10<00:54,  1.29s/it]"
     ]
    },
    {
     "name": "stdout",
     "output_type": "stream",
     "text": [
      "Epoch 8 Samples 8000 Step 124 Training Loss 0.41856226325035095\n",
      "Epoch 8 Validation Loss 0.4194662570953369\n"
     ]
    },
    {
     "name": "stderr",
     "output_type": "stream",
     "text": [
      " 18%|█▊        | 9/50 [00:11<00:52,  1.27s/it]"
     ]
    },
    {
     "name": "stdout",
     "output_type": "stream",
     "text": [
      "Epoch 9 Samples 8000 Step 124 Training Loss 0.4152468740940094\n",
      "Epoch 9 Validation Loss 0.40982887148857117\n"
     ]
    },
    {
     "name": "stderr",
     "output_type": "stream",
     "text": [
      " 20%|██        | 10/50 [00:12<00:50,  1.25s/it]"
     ]
    },
    {
     "name": "stdout",
     "output_type": "stream",
     "text": [
      "Epoch 10 Samples 8000 Step 124 Training Loss 0.41026508808135986\n",
      "Epoch 10 Validation Loss 0.4431823790073395\n"
     ]
    },
    {
     "name": "stderr",
     "output_type": "stream",
     "text": [
      " 22%|██▏       | 11/50 [00:14<00:49,  1.27s/it]"
     ]
    },
    {
     "name": "stdout",
     "output_type": "stream",
     "text": [
      "Epoch 11 Samples 8000 Step 124 Training Loss 0.4140889346599579\n",
      "Epoch 11 Validation Loss 0.41298478841781616\n"
     ]
    },
    {
     "name": "stderr",
     "output_type": "stream",
     "text": [
      " 24%|██▍       | 12/50 [00:15<00:47,  1.26s/it]"
     ]
    },
    {
     "name": "stdout",
     "output_type": "stream",
     "text": [
      "Epoch 12 Samples 8000 Step 124 Training Loss 0.6250571012496948\n",
      "Epoch 12 Validation Loss 0.4305528700351715\n"
     ]
    },
    {
     "name": "stderr",
     "output_type": "stream",
     "text": [
      " 26%|██▌       | 13/50 [00:16<00:46,  1.26s/it]"
     ]
    },
    {
     "name": "stdout",
     "output_type": "stream",
     "text": [
      "Epoch 13 Samples 8000 Step 124 Training Loss 0.43529221415519714\n",
      "Epoch 13 Validation Loss 0.42578670382499695\n"
     ]
    },
    {
     "name": "stderr",
     "output_type": "stream",
     "text": [
      " 28%|██▊       | 14/50 [00:17<00:45,  1.27s/it]"
     ]
    },
    {
     "name": "stdout",
     "output_type": "stream",
     "text": [
      "Epoch 14 Samples 8000 Step 124 Training Loss 0.3902626633644104\n",
      "Epoch 14 Validation Loss 0.39842891693115234\n"
     ]
    },
    {
     "name": "stderr",
     "output_type": "stream",
     "text": [
      " 30%|███       | 15/50 [00:19<00:45,  1.29s/it]"
     ]
    },
    {
     "name": "stdout",
     "output_type": "stream",
     "text": [
      "Epoch 15 Samples 8000 Step 124 Training Loss 0.39504626393318176\n",
      "Epoch 15 Validation Loss 0.4221974015235901\n"
     ]
    },
    {
     "name": "stderr",
     "output_type": "stream",
     "text": [
      " 32%|███▏      | 16/50 [00:20<00:43,  1.28s/it]"
     ]
    },
    {
     "name": "stdout",
     "output_type": "stream",
     "text": [
      "Epoch 16 Samples 8000 Step 124 Training Loss 0.4183015823364258\n",
      "Epoch 16 Validation Loss 0.39600861072540283\n"
     ]
    },
    {
     "name": "stderr",
     "output_type": "stream",
     "text": [
      " 34%|███▍      | 17/50 [00:21<00:41,  1.26s/it]"
     ]
    },
    {
     "name": "stdout",
     "output_type": "stream",
     "text": [
      "Epoch 17 Samples 8000 Step 124 Training Loss 0.4203365445137024\n",
      "Epoch 17 Validation Loss 0.4199674129486084\n"
     ]
    },
    {
     "name": "stderr",
     "output_type": "stream",
     "text": [
      " 36%|███▌      | 18/50 [00:22<00:40,  1.26s/it]"
     ]
    },
    {
     "name": "stdout",
     "output_type": "stream",
     "text": [
      "Epoch 18 Samples 8000 Step 124 Training Loss 0.39896175265312195\n",
      "Epoch 18 Validation Loss 0.3927474319934845\n"
     ]
    },
    {
     "name": "stderr",
     "output_type": "stream",
     "text": [
      " 38%|███▊      | 19/50 [00:24<00:39,  1.27s/it]"
     ]
    },
    {
     "name": "stdout",
     "output_type": "stream",
     "text": [
      "Epoch 19 Samples 8000 Step 124 Training Loss 0.39418548345565796\n",
      "Epoch 19 Validation Loss 0.39214393496513367\n"
     ]
    },
    {
     "name": "stderr",
     "output_type": "stream",
     "text": [
      " 40%|████      | 20/50 [00:25<00:37,  1.26s/it]"
     ]
    },
    {
     "name": "stdout",
     "output_type": "stream",
     "text": [
      "Epoch 20 Samples 8000 Step 124 Training Loss 0.38325661420822144\n",
      "Epoch 20 Validation Loss 0.38826966285705566\n"
     ]
    },
    {
     "name": "stderr",
     "output_type": "stream",
     "text": [
      " 42%|████▏     | 21/50 [00:26<00:36,  1.26s/it]"
     ]
    },
    {
     "name": "stdout",
     "output_type": "stream",
     "text": [
      "Epoch 21 Samples 8000 Step 124 Training Loss 0.4083915948867798\n",
      "Epoch 21 Validation Loss 0.40915781259536743\n"
     ]
    },
    {
     "name": "stderr",
     "output_type": "stream",
     "text": [
      " 44%|████▍     | 22/50 [00:28<00:36,  1.29s/it]"
     ]
    },
    {
     "name": "stdout",
     "output_type": "stream",
     "text": [
      "Epoch 22 Samples 8000 Step 124 Training Loss 0.41023916006088257\n",
      "Epoch 22 Validation Loss 0.38819316029548645\n"
     ]
    },
    {
     "name": "stderr",
     "output_type": "stream",
     "text": [
      " 46%|████▌     | 23/50 [00:29<00:34,  1.28s/it]"
     ]
    },
    {
     "name": "stdout",
     "output_type": "stream",
     "text": [
      "Epoch 23 Samples 8000 Step 124 Training Loss 0.3807111382484436\n",
      "Epoch 23 Validation Loss 0.45881372690200806\n"
     ]
    },
    {
     "name": "stderr",
     "output_type": "stream",
     "text": [
      " 48%|████▊     | 24/50 [00:30<00:33,  1.29s/it]"
     ]
    },
    {
     "name": "stdout",
     "output_type": "stream",
     "text": [
      "Epoch 24 Samples 8000 Step 124 Training Loss 0.4039669632911682\n",
      "Epoch 24 Validation Loss 0.3891523480415344\n"
     ]
    },
    {
     "name": "stderr",
     "output_type": "stream",
     "text": [
      " 50%|█████     | 25/50 [00:31<00:32,  1.29s/it]"
     ]
    },
    {
     "name": "stdout",
     "output_type": "stream",
     "text": [
      "Epoch 25 Samples 8000 Step 124 Training Loss 0.3837071359157562\n",
      "Epoch 25 Validation Loss 0.393262654542923\n"
     ]
    },
    {
     "name": "stderr",
     "output_type": "stream",
     "text": [
      " 52%|█████▏    | 26/50 [00:33<00:31,  1.29s/it]"
     ]
    },
    {
     "name": "stdout",
     "output_type": "stream",
     "text": [
      "Epoch 26 Samples 8000 Step 124 Training Loss 0.3931586444377899\n",
      "Epoch 26 Validation Loss 0.3894779682159424\n"
     ]
    },
    {
     "name": "stderr",
     "output_type": "stream",
     "text": [
      " 54%|█████▍    | 27/50 [00:34<00:29,  1.29s/it]"
     ]
    },
    {
     "name": "stdout",
     "output_type": "stream",
     "text": [
      "Epoch 27 Samples 8000 Step 124 Training Loss 0.3797283172607422\n",
      "Epoch 27 Validation Loss 0.37855562567710876\n"
     ]
    },
    {
     "name": "stderr",
     "output_type": "stream",
     "text": [
      " 56%|█████▌    | 28/50 [00:35<00:27,  1.27s/it]"
     ]
    },
    {
     "name": "stdout",
     "output_type": "stream",
     "text": [
      "Epoch 28 Samples 8000 Step 124 Training Loss 0.37713780999183655\n",
      "Epoch 28 Validation Loss 0.4246436655521393\n"
     ]
    },
    {
     "name": "stderr",
     "output_type": "stream",
     "text": [
      " 58%|█████▊    | 29/50 [00:37<00:27,  1.30s/it]"
     ]
    },
    {
     "name": "stdout",
     "output_type": "stream",
     "text": [
      "Epoch 29 Samples 8000 Step 124 Training Loss 0.36306044459342957\n",
      "Epoch 29 Validation Loss 0.381085604429245\n"
     ]
    },
    {
     "name": "stderr",
     "output_type": "stream",
     "text": [
      " 60%|██████    | 30/50 [00:38<00:25,  1.30s/it]"
     ]
    },
    {
     "name": "stdout",
     "output_type": "stream",
     "text": [
      "Epoch 30 Samples 8000 Step 124 Training Loss 0.3766486942768097\n",
      "Epoch 30 Validation Loss 0.3794381618499756\n"
     ]
    },
    {
     "name": "stderr",
     "output_type": "stream",
     "text": [
      " 62%|██████▏   | 31/50 [00:39<00:24,  1.29s/it]"
     ]
    },
    {
     "name": "stdout",
     "output_type": "stream",
     "text": [
      "Epoch 31 Samples 8000 Step 124 Training Loss 0.3815380334854126\n",
      "Epoch 31 Validation Loss 0.3813857138156891\n"
     ]
    },
    {
     "name": "stderr",
     "output_type": "stream",
     "text": [
      " 64%|██████▍   | 32/50 [00:41<00:23,  1.29s/it]"
     ]
    },
    {
     "name": "stdout",
     "output_type": "stream",
     "text": [
      "Epoch 32 Samples 8000 Step 124 Training Loss 0.4039020240306854\n",
      "Epoch 32 Validation Loss 0.3975681960582733\n"
     ]
    },
    {
     "name": "stderr",
     "output_type": "stream",
     "text": [
      " 66%|██████▌   | 33/50 [00:42<00:21,  1.28s/it]"
     ]
    },
    {
     "name": "stdout",
     "output_type": "stream",
     "text": [
      "Epoch 33 Samples 8000 Step 124 Training Loss 0.3779909908771515\n",
      "Epoch 33 Validation Loss 0.37664851546287537\n"
     ]
    },
    {
     "name": "stderr",
     "output_type": "stream",
     "text": [
      " 68%|██████▊   | 34/50 [00:43<00:20,  1.27s/it]"
     ]
    },
    {
     "name": "stdout",
     "output_type": "stream",
     "text": [
      "Epoch 34 Samples 8000 Step 124 Training Loss 0.3690958023071289\n",
      "Epoch 34 Validation Loss 0.37528374791145325\n"
     ]
    },
    {
     "name": "stderr",
     "output_type": "stream",
     "text": [
      " 70%|███████   | 35/50 [00:44<00:19,  1.28s/it]"
     ]
    },
    {
     "name": "stdout",
     "output_type": "stream",
     "text": [
      "Epoch 35 Samples 8000 Step 124 Training Loss 0.39171215891838074\n",
      "Epoch 35 Validation Loss 0.4037512540817261\n"
     ]
    },
    {
     "name": "stderr",
     "output_type": "stream",
     "text": [
      " 72%|███████▏  | 36/50 [00:46<00:17,  1.28s/it]"
     ]
    },
    {
     "name": "stdout",
     "output_type": "stream",
     "text": [
      "Epoch 36 Samples 8000 Step 124 Training Loss 0.3936973810195923\n",
      "Epoch 36 Validation Loss 0.3779425621032715\n"
     ]
    },
    {
     "name": "stderr",
     "output_type": "stream",
     "text": [
      " 74%|███████▍  | 37/50 [00:47<00:16,  1.28s/it]"
     ]
    },
    {
     "name": "stdout",
     "output_type": "stream",
     "text": [
      "Epoch 37 Samples 8000 Step 124 Training Loss 0.5485455989837646\n",
      "Epoch 37 Validation Loss 0.5119572877883911\n"
     ]
    },
    {
     "name": "stderr",
     "output_type": "stream",
     "text": [
      " 76%|███████▌  | 38/50 [00:48<00:15,  1.26s/it]"
     ]
    },
    {
     "name": "stdout",
     "output_type": "stream",
     "text": [
      "Epoch 38 Samples 8000 Step 124 Training Loss 0.36588528752326965\n",
      "Epoch 38 Validation Loss 0.373726487159729\n"
     ]
    },
    {
     "name": "stderr",
     "output_type": "stream",
     "text": [
      " 78%|███████▊  | 39/50 [00:49<00:13,  1.25s/it]"
     ]
    },
    {
     "name": "stdout",
     "output_type": "stream",
     "text": [
      "Epoch 39 Samples 8000 Step 124 Training Loss 0.3830162286758423\n",
      "Epoch 39 Validation Loss 0.3789118826389313\n"
     ]
    },
    {
     "name": "stderr",
     "output_type": "stream",
     "text": [
      " 80%|████████  | 40/50 [00:51<00:12,  1.25s/it]"
     ]
    },
    {
     "name": "stdout",
     "output_type": "stream",
     "text": [
      "Epoch 40 Samples 8000 Step 124 Training Loss 0.42953822016716003\n",
      "Epoch 40 Validation Loss 0.5818430781364441\n"
     ]
    },
    {
     "name": "stderr",
     "output_type": "stream",
     "text": [
      " 82%|████████▏ | 41/50 [00:52<00:11,  1.25s/it]"
     ]
    },
    {
     "name": "stdout",
     "output_type": "stream",
     "text": [
      "Epoch 41 Samples 8000 Step 124 Training Loss 0.3713606894016266\n",
      "Epoch 41 Validation Loss 0.37312525510787964\n"
     ]
    },
    {
     "name": "stderr",
     "output_type": "stream",
     "text": [
      " 84%|████████▍ | 42/50 [00:53<00:10,  1.26s/it]"
     ]
    },
    {
     "name": "stdout",
     "output_type": "stream",
     "text": [
      "Epoch 42 Samples 8000 Step 124 Training Loss 0.35674935579299927\n",
      "Epoch 42 Validation Loss 0.36771121621131897\n"
     ]
    },
    {
     "name": "stderr",
     "output_type": "stream",
     "text": [
      " 86%|████████▌ | 43/50 [00:54<00:08,  1.28s/it]"
     ]
    },
    {
     "name": "stdout",
     "output_type": "stream",
     "text": [
      "Epoch 43 Samples 8000 Step 124 Training Loss 0.405948281288147\n",
      "Epoch 43 Validation Loss 0.3864271640777588\n"
     ]
    },
    {
     "name": "stderr",
     "output_type": "stream",
     "text": [
      " 88%|████████▊ | 44/50 [00:56<00:07,  1.27s/it]"
     ]
    },
    {
     "name": "stdout",
     "output_type": "stream",
     "text": [
      "Epoch 44 Samples 8000 Step 124 Training Loss 0.37080758810043335\n",
      "Epoch 44 Validation Loss 0.37097421288490295\n"
     ]
    },
    {
     "name": "stderr",
     "output_type": "stream",
     "text": [
      " 90%|█████████ | 45/50 [00:57<00:06,  1.27s/it]"
     ]
    },
    {
     "name": "stdout",
     "output_type": "stream",
     "text": [
      "Epoch 45 Samples 8000 Step 124 Training Loss 0.37408447265625\n",
      "Epoch 45 Validation Loss 0.3791794776916504\n"
     ]
    },
    {
     "name": "stderr",
     "output_type": "stream",
     "text": [
      " 92%|█████████▏| 46/50 [00:58<00:05,  1.27s/it]"
     ]
    },
    {
     "name": "stdout",
     "output_type": "stream",
     "text": [
      "Epoch 46 Samples 8000 Step 124 Training Loss 0.3649270832538605\n",
      "Epoch 46 Validation Loss 0.37448349595069885\n"
     ]
    },
    {
     "name": "stderr",
     "output_type": "stream",
     "text": [
      " 94%|█████████▍| 47/50 [00:59<00:03,  1.27s/it]"
     ]
    },
    {
     "name": "stdout",
     "output_type": "stream",
     "text": [
      "Epoch 47 Samples 8000 Step 124 Training Loss 0.37987005710601807\n",
      "Epoch 47 Validation Loss 0.37614068388938904\n"
     ]
    },
    {
     "name": "stderr",
     "output_type": "stream",
     "text": [
      " 96%|█████████▌| 48/50 [01:01<00:02,  1.25s/it]"
     ]
    },
    {
     "name": "stdout",
     "output_type": "stream",
     "text": [
      "Epoch 48 Samples 8000 Step 124 Training Loss 0.3957490026950836\n",
      "Epoch 48 Validation Loss 0.37150123715400696\n"
     ]
    },
    {
     "name": "stderr",
     "output_type": "stream",
     "text": [
      " 98%|█████████▊| 49/50 [01:02<00:01,  1.24s/it]"
     ]
    },
    {
     "name": "stdout",
     "output_type": "stream",
     "text": [
      "Epoch 49 Samples 8000 Step 124 Training Loss 0.3877068758010864\n",
      "Epoch 49 Validation Loss 0.3895081579685211\n"
     ]
    },
    {
     "name": "stderr",
     "output_type": "stream",
     "text": [
      "100%|██████████| 50/50 [01:03<00:00,  1.28s/it]"
     ]
    },
    {
     "name": "stdout",
     "output_type": "stream",
     "text": [
      "Epoch 50 Samples 8000 Step 124 Training Loss 0.37070921063423157\n",
      "Epoch 50 Validation Loss 0.3754938840866089\n"
     ]
    },
    {
     "name": "stderr",
     "output_type": "stream",
     "text": [
      "\n"
     ]
    }
   ],
   "source": [
    "model2 = finetune_model(\n",
    "            model,\n",
    "            dataset=dataset,\n",
    "            n_epochs=50,\n",
    "            lr=0.05,\n",
    "            save_every=1000\n",
    "        )"
   ]
  },
  {
   "cell_type": "code",
   "execution_count": 12,
   "id": "9607d68a",
   "metadata": {},
   "outputs": [
    {
     "name": "stdout",
     "output_type": "stream",
     "text": [
      "Moving model to device:  cpu\n"
     ]
    },
    {
     "name": "stderr",
     "output_type": "stream",
     "text": [
      "  1%|          | 1/100 [00:01<02:10,  1.32s/it]"
     ]
    },
    {
     "name": "stdout",
     "output_type": "stream",
     "text": [
      "Epoch 1 Samples 8000 Step 124 Training Loss 0.35979172587394714\n",
      "Epoch 1 Validation Loss 0.3656711280345917\n"
     ]
    },
    {
     "name": "stderr",
     "output_type": "stream",
     "text": [
      "  2%|▏         | 2/100 [00:02<02:06,  1.29s/it]"
     ]
    },
    {
     "name": "stdout",
     "output_type": "stream",
     "text": [
      "Epoch 2 Samples 8000 Step 124 Training Loss 0.379604697227478\n",
      "Epoch 2 Validation Loss 0.3648730516433716\n"
     ]
    },
    {
     "name": "stderr",
     "output_type": "stream",
     "text": [
      "  3%|▎         | 3/100 [00:04<02:13,  1.38s/it]"
     ]
    },
    {
     "name": "stdout",
     "output_type": "stream",
     "text": [
      "Epoch 3 Samples 8000 Step 124 Training Loss 0.39284902811050415\n",
      "Epoch 3 Validation Loss 0.4300871789455414\n"
     ]
    },
    {
     "name": "stderr",
     "output_type": "stream",
     "text": [
      "  4%|▍         | 4/100 [00:05<02:15,  1.41s/it]"
     ]
    },
    {
     "name": "stdout",
     "output_type": "stream",
     "text": [
      "Epoch 4 Samples 8000 Step 124 Training Loss 0.37203460931777954\n",
      "Epoch 4 Validation Loss 0.37140676379203796\n"
     ]
    },
    {
     "name": "stderr",
     "output_type": "stream",
     "text": [
      "  5%|▌         | 5/100 [00:06<02:12,  1.39s/it]"
     ]
    },
    {
     "name": "stdout",
     "output_type": "stream",
     "text": [
      "Epoch 5 Samples 8000 Step 124 Training Loss 0.3778146207332611\n",
      "Epoch 5 Validation Loss 0.3660212755203247\n"
     ]
    },
    {
     "name": "stderr",
     "output_type": "stream",
     "text": [
      "  6%|▌         | 6/100 [00:08<02:11,  1.39s/it]"
     ]
    },
    {
     "name": "stdout",
     "output_type": "stream",
     "text": [
      "Epoch 6 Samples 8000 Step 124 Training Loss 0.46529603004455566\n",
      "Epoch 6 Validation Loss 0.6287348866462708\n"
     ]
    },
    {
     "name": "stderr",
     "output_type": "stream",
     "text": [
      "  7%|▋         | 7/100 [00:09<02:11,  1.41s/it]"
     ]
    },
    {
     "name": "stdout",
     "output_type": "stream",
     "text": [
      "Epoch 7 Samples 8000 Step 124 Training Loss 0.38093510270118713\n",
      "Epoch 7 Validation Loss 0.37398847937583923\n"
     ]
    },
    {
     "name": "stderr",
     "output_type": "stream",
     "text": [
      "  8%|▊         | 8/100 [00:11<02:10,  1.42s/it]"
     ]
    },
    {
     "name": "stdout",
     "output_type": "stream",
     "text": [
      "Epoch 8 Samples 8000 Step 124 Training Loss 0.3558836579322815\n",
      "Epoch 8 Validation Loss 0.36398378014564514\n"
     ]
    },
    {
     "name": "stderr",
     "output_type": "stream",
     "text": [
      "  9%|▉         | 9/100 [00:12<02:07,  1.40s/it]"
     ]
    },
    {
     "name": "stdout",
     "output_type": "stream",
     "text": [
      "Epoch 9 Samples 8000 Step 124 Training Loss 0.39258551597595215\n",
      "Epoch 9 Validation Loss 0.36544761061668396\n"
     ]
    },
    {
     "name": "stderr",
     "output_type": "stream",
     "text": [
      " 10%|█         | 10/100 [00:13<02:04,  1.38s/it]"
     ]
    },
    {
     "name": "stdout",
     "output_type": "stream",
     "text": [
      "Epoch 10 Samples 8000 Step 124 Training Loss 0.35791975259780884\n",
      "Epoch 10 Validation Loss 0.35766422748565674\n"
     ]
    },
    {
     "name": "stderr",
     "output_type": "stream",
     "text": [
      " 11%|█         | 11/100 [00:15<02:04,  1.40s/it]"
     ]
    },
    {
     "name": "stdout",
     "output_type": "stream",
     "text": [
      "Epoch 11 Samples 8000 Step 124 Training Loss 0.37522828578948975\n",
      "Epoch 11 Validation Loss 0.3789992034435272\n"
     ]
    },
    {
     "name": "stderr",
     "output_type": "stream",
     "text": [
      " 12%|█▏        | 12/100 [00:16<02:00,  1.37s/it]"
     ]
    },
    {
     "name": "stdout",
     "output_type": "stream",
     "text": [
      "Epoch 12 Samples 8000 Step 124 Training Loss 0.35809919238090515\n",
      "Epoch 12 Validation Loss 0.36038246750831604\n"
     ]
    },
    {
     "name": "stderr",
     "output_type": "stream",
     "text": [
      " 13%|█▎        | 13/100 [00:17<01:57,  1.35s/it]"
     ]
    },
    {
     "name": "stdout",
     "output_type": "stream",
     "text": [
      "Epoch 13 Samples 8000 Step 124 Training Loss 0.35225993394851685\n",
      "Epoch 13 Validation Loss 0.3769437372684479\n"
     ]
    },
    {
     "name": "stderr",
     "output_type": "stream",
     "text": [
      " 14%|█▍        | 14/100 [00:19<01:55,  1.34s/it]"
     ]
    },
    {
     "name": "stdout",
     "output_type": "stream",
     "text": [
      "Epoch 14 Samples 8000 Step 124 Training Loss 0.3693602979183197\n",
      "Epoch 14 Validation Loss 0.41298073530197144\n"
     ]
    },
    {
     "name": "stderr",
     "output_type": "stream",
     "text": [
      " 15%|█▌        | 15/100 [00:20<01:53,  1.34s/it]"
     ]
    },
    {
     "name": "stdout",
     "output_type": "stream",
     "text": [
      "Epoch 15 Samples 8000 Step 124 Training Loss 0.3482131063938141\n",
      "Epoch 15 Validation Loss 0.35125234723091125\n"
     ]
    },
    {
     "name": "stderr",
     "output_type": "stream",
     "text": [
      " 16%|█▌        | 16/100 [00:21<01:50,  1.32s/it]"
     ]
    },
    {
     "name": "stdout",
     "output_type": "stream",
     "text": [
      "Epoch 16 Samples 8000 Step 124 Training Loss 0.3628297448158264\n",
      "Epoch 16 Validation Loss 0.3668959438800812\n"
     ]
    },
    {
     "name": "stderr",
     "output_type": "stream",
     "text": [
      " 17%|█▋        | 17/100 [00:23<01:48,  1.30s/it]"
     ]
    },
    {
     "name": "stdout",
     "output_type": "stream",
     "text": [
      "Epoch 17 Samples 8000 Step 124 Training Loss 0.35429757833480835\n",
      "Epoch 17 Validation Loss 0.34884077310562134\n"
     ]
    },
    {
     "name": "stderr",
     "output_type": "stream",
     "text": [
      " 18%|█▊        | 18/100 [00:24<01:47,  1.32s/it]"
     ]
    },
    {
     "name": "stdout",
     "output_type": "stream",
     "text": [
      "Epoch 18 Samples 8000 Step 124 Training Loss 0.41249212622642517\n",
      "Epoch 18 Validation Loss 0.3657844066619873\n"
     ]
    },
    {
     "name": "stderr",
     "output_type": "stream",
     "text": [
      " 19%|█▉        | 19/100 [00:25<01:44,  1.29s/it]"
     ]
    },
    {
     "name": "stdout",
     "output_type": "stream",
     "text": [
      "Epoch 19 Samples 8000 Step 124 Training Loss 0.3674272894859314\n",
      "Epoch 19 Validation Loss 0.3593239188194275\n"
     ]
    },
    {
     "name": "stderr",
     "output_type": "stream",
     "text": [
      " 20%|██        | 20/100 [00:27<01:43,  1.30s/it]"
     ]
    },
    {
     "name": "stdout",
     "output_type": "stream",
     "text": [
      "Epoch 20 Samples 8000 Step 124 Training Loss 0.3518136143684387\n",
      "Epoch 20 Validation Loss 0.35299789905548096\n"
     ]
    },
    {
     "name": "stderr",
     "output_type": "stream",
     "text": [
      " 21%|██        | 21/100 [00:28<01:44,  1.32s/it]"
     ]
    },
    {
     "name": "stdout",
     "output_type": "stream",
     "text": [
      "Epoch 21 Samples 8000 Step 124 Training Loss 0.4409450888633728\n",
      "Epoch 21 Validation Loss 0.4057738184928894\n"
     ]
    },
    {
     "name": "stderr",
     "output_type": "stream",
     "text": [
      " 22%|██▏       | 22/100 [00:29<01:42,  1.32s/it]"
     ]
    },
    {
     "name": "stdout",
     "output_type": "stream",
     "text": [
      "Epoch 22 Samples 8000 Step 124 Training Loss 0.361764132976532\n",
      "Epoch 22 Validation Loss 0.35520991683006287\n"
     ]
    },
    {
     "name": "stderr",
     "output_type": "stream",
     "text": [
      " 23%|██▎       | 23/100 [00:30<01:40,  1.30s/it]"
     ]
    },
    {
     "name": "stdout",
     "output_type": "stream",
     "text": [
      "Epoch 23 Samples 8000 Step 124 Training Loss 0.35408273339271545\n",
      "Epoch 23 Validation Loss 0.35866233706474304\n"
     ]
    },
    {
     "name": "stderr",
     "output_type": "stream",
     "text": [
      " 24%|██▍       | 24/100 [00:32<01:37,  1.28s/it]"
     ]
    },
    {
     "name": "stdout",
     "output_type": "stream",
     "text": [
      "Epoch 24 Samples 8000 Step 124 Training Loss 0.37480050325393677\n",
      "Epoch 24 Validation Loss 0.3660404682159424\n"
     ]
    },
    {
     "name": "stderr",
     "output_type": "stream",
     "text": [
      " 25%|██▌       | 25/100 [00:33<01:34,  1.26s/it]"
     ]
    },
    {
     "name": "stdout",
     "output_type": "stream",
     "text": [
      "Epoch 25 Samples 8000 Step 124 Training Loss 0.3555760979652405\n",
      "Epoch 25 Validation Loss 0.356038361787796\n"
     ]
    },
    {
     "name": "stderr",
     "output_type": "stream",
     "text": [
      " 26%|██▌       | 26/100 [00:34<01:34,  1.27s/it]"
     ]
    },
    {
     "name": "stdout",
     "output_type": "stream",
     "text": [
      "Epoch 26 Samples 8000 Step 124 Training Loss 0.37323907017707825\n",
      "Epoch 26 Validation Loss 0.36074864864349365\n"
     ]
    },
    {
     "name": "stderr",
     "output_type": "stream",
     "text": [
      " 27%|██▋       | 27/100 [00:35<01:31,  1.26s/it]"
     ]
    },
    {
     "name": "stdout",
     "output_type": "stream",
     "text": [
      "Epoch 27 Samples 8000 Step 124 Training Loss 0.3529294431209564\n",
      "Epoch 27 Validation Loss 0.3622237741947174\n"
     ]
    },
    {
     "name": "stderr",
     "output_type": "stream",
     "text": [
      " 28%|██▊       | 28/100 [00:37<01:33,  1.29s/it]"
     ]
    },
    {
     "name": "stdout",
     "output_type": "stream",
     "text": [
      "Epoch 28 Samples 8000 Step 124 Training Loss 0.36493295431137085\n",
      "Epoch 28 Validation Loss 0.3904166519641876\n"
     ]
    },
    {
     "name": "stderr",
     "output_type": "stream",
     "text": [
      " 29%|██▉       | 29/100 [00:38<01:30,  1.28s/it]"
     ]
    },
    {
     "name": "stdout",
     "output_type": "stream",
     "text": [
      "Epoch 29 Samples 8000 Step 124 Training Loss 0.3511858284473419\n",
      "Epoch 29 Validation Loss 0.35083943605422974\n"
     ]
    },
    {
     "name": "stderr",
     "output_type": "stream",
     "text": [
      " 30%|███       | 30/100 [00:39<01:29,  1.28s/it]"
     ]
    },
    {
     "name": "stdout",
     "output_type": "stream",
     "text": [
      "Epoch 30 Samples 8000 Step 124 Training Loss 0.3483072519302368\n",
      "Epoch 30 Validation Loss 0.36430397629737854\n"
     ]
    },
    {
     "name": "stderr",
     "output_type": "stream",
     "text": [
      " 31%|███       | 31/100 [00:41<01:27,  1.26s/it]"
     ]
    },
    {
     "name": "stdout",
     "output_type": "stream",
     "text": [
      "Epoch 31 Samples 8000 Step 124 Training Loss 0.357841819524765\n",
      "Epoch 31 Validation Loss 0.355150043964386\n"
     ]
    },
    {
     "name": "stderr",
     "output_type": "stream",
     "text": [
      " 32%|███▏      | 32/100 [00:42<01:25,  1.25s/it]"
     ]
    },
    {
     "name": "stdout",
     "output_type": "stream",
     "text": [
      "Epoch 32 Samples 8000 Step 124 Training Loss 0.3874170780181885\n",
      "Epoch 32 Validation Loss 0.42279210686683655\n"
     ]
    },
    {
     "name": "stderr",
     "output_type": "stream",
     "text": [
      " 33%|███▎      | 33/100 [00:43<01:23,  1.25s/it]"
     ]
    },
    {
     "name": "stdout",
     "output_type": "stream",
     "text": [
      "Epoch 33 Samples 8000 Step 124 Training Loss 0.3492465317249298\n",
      "Epoch 33 Validation Loss 0.35323798656463623\n"
     ]
    },
    {
     "name": "stderr",
     "output_type": "stream",
     "text": [
      " 34%|███▍      | 34/100 [00:44<01:24,  1.28s/it]"
     ]
    },
    {
     "name": "stdout",
     "output_type": "stream",
     "text": [
      "Epoch 34 Samples 8000 Step 124 Training Loss 0.3460180461406708\n",
      "Epoch 34 Validation Loss 0.35402169823646545\n"
     ]
    },
    {
     "name": "stderr",
     "output_type": "stream",
     "text": [
      " 35%|███▌      | 35/100 [00:46<01:22,  1.27s/it]"
     ]
    },
    {
     "name": "stdout",
     "output_type": "stream",
     "text": [
      "Epoch 35 Samples 8000 Step 124 Training Loss 0.3532523810863495\n",
      "Epoch 35 Validation Loss 0.3571462035179138\n"
     ]
    },
    {
     "name": "stderr",
     "output_type": "stream",
     "text": [
      " 36%|███▌      | 36/100 [00:47<01:21,  1.27s/it]"
     ]
    },
    {
     "name": "stdout",
     "output_type": "stream",
     "text": [
      "Epoch 36 Samples 8000 Step 124 Training Loss 0.38839206099510193\n",
      "Epoch 36 Validation Loss 0.35529425740242004\n"
     ]
    },
    {
     "name": "stderr",
     "output_type": "stream",
     "text": [
      " 37%|███▋      | 37/100 [00:48<01:19,  1.27s/it]"
     ]
    },
    {
     "name": "stdout",
     "output_type": "stream",
     "text": [
      "Epoch 37 Samples 8000 Step 124 Training Loss 0.36233651638031006\n",
      "Epoch 37 Validation Loss 0.35185351967811584\n"
     ]
    },
    {
     "name": "stderr",
     "output_type": "stream",
     "text": [
      " 38%|███▊      | 38/100 [00:49<01:18,  1.26s/it]"
     ]
    },
    {
     "name": "stdout",
     "output_type": "stream",
     "text": [
      "Epoch 38 Samples 8000 Step 124 Training Loss 0.3499123156070709\n",
      "Epoch 38 Validation Loss 0.3507150411605835\n"
     ]
    },
    {
     "name": "stderr",
     "output_type": "stream",
     "text": [
      " 39%|███▉      | 39/100 [00:51<01:17,  1.28s/it]"
     ]
    },
    {
     "name": "stdout",
     "output_type": "stream",
     "text": [
      "Epoch 39 Samples 8000 Step 124 Training Loss 0.3550668954849243\n",
      "Epoch 39 Validation Loss 0.35357046127319336\n"
     ]
    },
    {
     "name": "stderr",
     "output_type": "stream",
     "text": [
      " 40%|████      | 40/100 [00:52<01:19,  1.32s/it]"
     ]
    },
    {
     "name": "stdout",
     "output_type": "stream",
     "text": [
      "Epoch 40 Samples 8000 Step 124 Training Loss 0.3607519865036011\n",
      "Epoch 40 Validation Loss 0.36962398886680603\n"
     ]
    },
    {
     "name": "stderr",
     "output_type": "stream",
     "text": [
      " 41%|████      | 41/100 [00:53<01:16,  1.30s/it]"
     ]
    },
    {
     "name": "stdout",
     "output_type": "stream",
     "text": [
      "Epoch 41 Samples 8000 Step 124 Training Loss 0.3336886763572693\n",
      "Epoch 41 Validation Loss 0.35354870557785034\n"
     ]
    },
    {
     "name": "stderr",
     "output_type": "stream",
     "text": [
      " 42%|████▏     | 42/100 [00:55<01:14,  1.28s/it]"
     ]
    },
    {
     "name": "stdout",
     "output_type": "stream",
     "text": [
      "Epoch 42 Samples 8000 Step 124 Training Loss 0.35153868794441223\n",
      "Epoch 42 Validation Loss 0.3551616966724396\n"
     ]
    },
    {
     "name": "stderr",
     "output_type": "stream",
     "text": [
      " 43%|████▎     | 43/100 [00:56<01:12,  1.27s/it]"
     ]
    },
    {
     "name": "stdout",
     "output_type": "stream",
     "text": [
      "Epoch 43 Samples 8000 Step 124 Training Loss 0.506780207157135\n",
      "Epoch 43 Validation Loss 0.3833717107772827\n"
     ]
    },
    {
     "name": "stderr",
     "output_type": "stream",
     "text": [
      " 44%|████▍     | 44/100 [00:57<01:10,  1.27s/it]"
     ]
    },
    {
     "name": "stdout",
     "output_type": "stream",
     "text": [
      "Epoch 44 Samples 8000 Step 124 Training Loss 0.35088056325912476\n",
      "Epoch 44 Validation Loss 0.3463292121887207\n"
     ]
    },
    {
     "name": "stderr",
     "output_type": "stream",
     "text": [
      " 45%|████▌     | 45/100 [00:58<01:11,  1.29s/it]"
     ]
    },
    {
     "name": "stdout",
     "output_type": "stream",
     "text": [
      "Epoch 45 Samples 8000 Step 124 Training Loss 0.3467169404029846\n",
      "Epoch 45 Validation Loss 0.3488152027130127\n"
     ]
    },
    {
     "name": "stderr",
     "output_type": "stream",
     "text": [
      " 46%|████▌     | 46/100 [01:00<01:10,  1.31s/it]"
     ]
    },
    {
     "name": "stdout",
     "output_type": "stream",
     "text": [
      "Epoch 46 Samples 8000 Step 124 Training Loss 0.4140743017196655\n",
      "Epoch 46 Validation Loss 0.4052029252052307\n"
     ]
    },
    {
     "name": "stderr",
     "output_type": "stream",
     "text": [
      " 47%|████▋     | 47/100 [01:01<01:09,  1.32s/it]"
     ]
    },
    {
     "name": "stdout",
     "output_type": "stream",
     "text": [
      "Epoch 47 Samples 8000 Step 124 Training Loss 0.3520495891571045\n",
      "Epoch 47 Validation Loss 0.3521995544433594\n"
     ]
    },
    {
     "name": "stderr",
     "output_type": "stream",
     "text": [
      " 48%|████▊     | 48/100 [01:02<01:07,  1.29s/it]"
     ]
    },
    {
     "name": "stdout",
     "output_type": "stream",
     "text": [
      "Epoch 48 Samples 8000 Step 124 Training Loss 0.3629772365093231\n",
      "Epoch 48 Validation Loss 0.3441947102546692\n"
     ]
    },
    {
     "name": "stderr",
     "output_type": "stream",
     "text": [
      " 49%|████▉     | 49/100 [01:04<01:05,  1.28s/it]"
     ]
    },
    {
     "name": "stdout",
     "output_type": "stream",
     "text": [
      "Epoch 49 Samples 8000 Step 124 Training Loss 0.4015294313430786\n",
      "Epoch 49 Validation Loss 0.3599247634410858\n"
     ]
    },
    {
     "name": "stderr",
     "output_type": "stream",
     "text": [
      " 50%|█████     | 50/100 [01:05<01:03,  1.27s/it]"
     ]
    },
    {
     "name": "stdout",
     "output_type": "stream",
     "text": [
      "Epoch 50 Samples 8000 Step 124 Training Loss 0.34704911708831787\n",
      "Epoch 50 Validation Loss 0.34568271040916443\n"
     ]
    },
    {
     "name": "stderr",
     "output_type": "stream",
     "text": [
      " 51%|█████     | 51/100 [01:06<01:01,  1.26s/it]"
     ]
    },
    {
     "name": "stdout",
     "output_type": "stream",
     "text": [
      "Epoch 51 Samples 8000 Step 124 Training Loss 0.3327893018722534\n",
      "Epoch 51 Validation Loss 0.34277814626693726\n"
     ]
    },
    {
     "name": "stderr",
     "output_type": "stream",
     "text": [
      " 52%|█████▏    | 52/100 [01:07<00:59,  1.25s/it]"
     ]
    },
    {
     "name": "stdout",
     "output_type": "stream",
     "text": [
      "Epoch 52 Samples 8000 Step 124 Training Loss 0.34740397334098816\n",
      "Epoch 52 Validation Loss 0.38696977496147156\n"
     ]
    },
    {
     "name": "stderr",
     "output_type": "stream",
     "text": [
      " 53%|█████▎    | 53/100 [01:09<00:59,  1.27s/it]"
     ]
    },
    {
     "name": "stdout",
     "output_type": "stream",
     "text": [
      "Epoch 53 Samples 8000 Step 124 Training Loss 0.345534086227417\n",
      "Epoch 53 Validation Loss 0.3475520610809326\n"
     ]
    },
    {
     "name": "stderr",
     "output_type": "stream",
     "text": [
      " 54%|█████▍    | 54/100 [01:10<00:59,  1.28s/it]"
     ]
    },
    {
     "name": "stdout",
     "output_type": "stream",
     "text": [
      "Epoch 54 Samples 8000 Step 124 Training Loss 0.34210169315338135\n",
      "Epoch 54 Validation Loss 0.34349000453948975\n"
     ]
    },
    {
     "name": "stderr",
     "output_type": "stream",
     "text": [
      " 55%|█████▌    | 55/100 [01:11<00:57,  1.28s/it]"
     ]
    },
    {
     "name": "stdout",
     "output_type": "stream",
     "text": [
      "Epoch 55 Samples 8000 Step 124 Training Loss 0.3510340452194214\n",
      "Epoch 55 Validation Loss 0.3425646126270294\n"
     ]
    },
    {
     "name": "stderr",
     "output_type": "stream",
     "text": [
      " 56%|█████▌    | 56/100 [01:13<00:56,  1.28s/it]"
     ]
    },
    {
     "name": "stdout",
     "output_type": "stream",
     "text": [
      "Epoch 56 Samples 8000 Step 124 Training Loss 0.3526330590248108\n",
      "Epoch 56 Validation Loss 0.34046444296836853\n"
     ]
    },
    {
     "name": "stderr",
     "output_type": "stream",
     "text": [
      " 57%|█████▋    | 57/100 [01:14<00:54,  1.27s/it]"
     ]
    },
    {
     "name": "stdout",
     "output_type": "stream",
     "text": [
      "Epoch 57 Samples 8000 Step 124 Training Loss 0.34326884150505066\n",
      "Epoch 57 Validation Loss 0.33778685331344604\n"
     ]
    },
    {
     "name": "stderr",
     "output_type": "stream",
     "text": [
      " 58%|█████▊    | 58/100 [01:15<00:53,  1.27s/it]"
     ]
    },
    {
     "name": "stdout",
     "output_type": "stream",
     "text": [
      "Epoch 58 Samples 8000 Step 124 Training Loss 0.3447558283805847\n",
      "Epoch 58 Validation Loss 0.34189748764038086\n"
     ]
    },
    {
     "name": "stderr",
     "output_type": "stream",
     "text": [
      " 59%|█████▉    | 59/100 [01:16<00:52,  1.29s/it]"
     ]
    },
    {
     "name": "stdout",
     "output_type": "stream",
     "text": [
      "Epoch 59 Samples 8000 Step 124 Training Loss 0.3429136574268341\n",
      "Epoch 59 Validation Loss 0.3393261134624481\n"
     ]
    },
    {
     "name": "stderr",
     "output_type": "stream",
     "text": [
      " 60%|██████    | 60/100 [01:18<00:51,  1.28s/it]"
     ]
    },
    {
     "name": "stdout",
     "output_type": "stream",
     "text": [
      "Epoch 60 Samples 8000 Step 124 Training Loss 0.3356168568134308\n",
      "Epoch 60 Validation Loss 0.33382534980773926\n"
     ]
    },
    {
     "name": "stderr",
     "output_type": "stream",
     "text": [
      " 61%|██████    | 61/100 [01:19<00:49,  1.28s/it]"
     ]
    },
    {
     "name": "stdout",
     "output_type": "stream",
     "text": [
      "Epoch 61 Samples 8000 Step 124 Training Loss 0.33908042311668396\n",
      "Epoch 61 Validation Loss 0.3334597051143646\n"
     ]
    },
    {
     "name": "stderr",
     "output_type": "stream",
     "text": [
      " 62%|██████▏   | 62/100 [01:20<00:47,  1.26s/it]"
     ]
    },
    {
     "name": "stdout",
     "output_type": "stream",
     "text": [
      "Epoch 62 Samples 8000 Step 124 Training Loss 0.33800047636032104\n",
      "Epoch 62 Validation Loss 0.34038668870925903\n"
     ]
    },
    {
     "name": "stderr",
     "output_type": "stream",
     "text": [
      " 63%|██████▎   | 63/100 [01:21<00:46,  1.25s/it]"
     ]
    },
    {
     "name": "stdout",
     "output_type": "stream",
     "text": [
      "Epoch 63 Samples 8000 Step 124 Training Loss 0.3241322636604309\n",
      "Epoch 63 Validation Loss 0.33647051453590393\n"
     ]
    },
    {
     "name": "stderr",
     "output_type": "stream",
     "text": [
      " 64%|██████▍   | 64/100 [01:23<00:45,  1.26s/it]"
     ]
    },
    {
     "name": "stdout",
     "output_type": "stream",
     "text": [
      "Epoch 64 Samples 8000 Step 124 Training Loss 0.3309701681137085\n",
      "Epoch 64 Validation Loss 0.33511883020401\n"
     ]
    },
    {
     "name": "stderr",
     "output_type": "stream",
     "text": [
      " 65%|██████▌   | 65/100 [01:24<00:45,  1.29s/it]"
     ]
    },
    {
     "name": "stdout",
     "output_type": "stream",
     "text": [
      "Epoch 65 Samples 8000 Step 124 Training Loss 0.3349669575691223\n",
      "Epoch 65 Validation Loss 0.3340986967086792\n"
     ]
    },
    {
     "name": "stderr",
     "output_type": "stream",
     "text": [
      " 66%|██████▌   | 66/100 [01:25<00:43,  1.28s/it]"
     ]
    },
    {
     "name": "stdout",
     "output_type": "stream",
     "text": [
      "Epoch 66 Samples 8000 Step 124 Training Loss 0.37108877301216125\n",
      "Epoch 66 Validation Loss 0.3638553023338318\n"
     ]
    },
    {
     "name": "stderr",
     "output_type": "stream",
     "text": [
      " 67%|██████▋   | 67/100 [01:27<00:42,  1.27s/it]"
     ]
    },
    {
     "name": "stdout",
     "output_type": "stream",
     "text": [
      "Epoch 67 Samples 8000 Step 124 Training Loss 0.3422887623310089\n",
      "Epoch 67 Validation Loss 0.33052995800971985\n"
     ]
    },
    {
     "name": "stderr",
     "output_type": "stream",
     "text": [
      " 68%|██████▊   | 68/100 [01:28<00:40,  1.27s/it]"
     ]
    },
    {
     "name": "stdout",
     "output_type": "stream",
     "text": [
      "Epoch 68 Samples 8000 Step 124 Training Loss 0.33131951093673706\n",
      "Epoch 68 Validation Loss 0.33663085103034973\n"
     ]
    },
    {
     "name": "stderr",
     "output_type": "stream",
     "text": [
      " 69%|██████▉   | 69/100 [01:29<00:38,  1.26s/it]"
     ]
    },
    {
     "name": "stdout",
     "output_type": "stream",
     "text": [
      "Epoch 69 Samples 8000 Step 124 Training Loss 0.34021252393722534\n",
      "Epoch 69 Validation Loss 0.34228333830833435\n"
     ]
    },
    {
     "name": "stderr",
     "output_type": "stream",
     "text": [
      " 70%|███████   | 70/100 [01:30<00:38,  1.27s/it]"
     ]
    },
    {
     "name": "stdout",
     "output_type": "stream",
     "text": [
      "Epoch 70 Samples 8000 Step 124 Training Loss 0.3283894956111908\n",
      "Epoch 70 Validation Loss 0.3321667015552521\n"
     ]
    },
    {
     "name": "stderr",
     "output_type": "stream",
     "text": [
      " 71%|███████   | 71/100 [01:32<00:37,  1.29s/it]"
     ]
    },
    {
     "name": "stdout",
     "output_type": "stream",
     "text": [
      "Epoch 71 Samples 8000 Step 124 Training Loss 0.33710289001464844\n",
      "Epoch 71 Validation Loss 0.33652442693710327\n"
     ]
    },
    {
     "name": "stderr",
     "output_type": "stream",
     "text": [
      " 72%|███████▏  | 72/100 [01:33<00:36,  1.29s/it]"
     ]
    },
    {
     "name": "stdout",
     "output_type": "stream",
     "text": [
      "Epoch 72 Samples 8000 Step 124 Training Loss 0.3248218595981598\n",
      "Epoch 72 Validation Loss 0.32984355092048645\n"
     ]
    },
    {
     "name": "stderr",
     "output_type": "stream",
     "text": [
      " 73%|███████▎  | 73/100 [01:34<00:34,  1.28s/it]"
     ]
    },
    {
     "name": "stdout",
     "output_type": "stream",
     "text": [
      "Epoch 73 Samples 8000 Step 124 Training Loss 0.32980582118034363\n",
      "Epoch 73 Validation Loss 0.33098626136779785\n"
     ]
    },
    {
     "name": "stderr",
     "output_type": "stream",
     "text": [
      " 74%|███████▍  | 74/100 [01:35<00:33,  1.27s/it]"
     ]
    },
    {
     "name": "stdout",
     "output_type": "stream",
     "text": [
      "Epoch 74 Samples 8000 Step 124 Training Loss 0.32813143730163574\n",
      "Epoch 74 Validation Loss 0.3325304090976715\n"
     ]
    },
    {
     "name": "stderr",
     "output_type": "stream",
     "text": [
      " 75%|███████▌  | 75/100 [01:37<00:31,  1.26s/it]"
     ]
    },
    {
     "name": "stdout",
     "output_type": "stream",
     "text": [
      "Epoch 75 Samples 8000 Step 124 Training Loss 0.3337257504463196\n",
      "Epoch 75 Validation Loss 0.3332037925720215\n"
     ]
    },
    {
     "name": "stderr",
     "output_type": "stream",
     "text": [
      " 76%|███████▌  | 76/100 [01:38<00:30,  1.28s/it]"
     ]
    },
    {
     "name": "stdout",
     "output_type": "stream",
     "text": [
      "Epoch 76 Samples 8000 Step 124 Training Loss 0.367424875497818\n",
      "Epoch 76 Validation Loss 0.36367860436439514\n"
     ]
    },
    {
     "name": "stderr",
     "output_type": "stream",
     "text": [
      " 77%|███████▋  | 77/100 [01:39<00:29,  1.27s/it]"
     ]
    },
    {
     "name": "stdout",
     "output_type": "stream",
     "text": [
      "Epoch 77 Samples 8000 Step 124 Training Loss 0.3219001591205597\n",
      "Epoch 77 Validation Loss 0.3296913802623749\n"
     ]
    },
    {
     "name": "stderr",
     "output_type": "stream",
     "text": [
      " 78%|███████▊  | 78/100 [01:41<00:28,  1.29s/it]"
     ]
    },
    {
     "name": "stdout",
     "output_type": "stream",
     "text": [
      "Epoch 78 Samples 8000 Step 124 Training Loss 0.37213072180747986\n",
      "Epoch 78 Validation Loss 0.39683106541633606\n"
     ]
    },
    {
     "name": "stderr",
     "output_type": "stream",
     "text": [
      " 79%|███████▉  | 79/100 [01:42<00:26,  1.27s/it]"
     ]
    },
    {
     "name": "stdout",
     "output_type": "stream",
     "text": [
      "Epoch 79 Samples 8000 Step 124 Training Loss 0.3360356390476227\n",
      "Epoch 79 Validation Loss 0.33148592710494995\n"
     ]
    },
    {
     "name": "stderr",
     "output_type": "stream",
     "text": [
      " 80%|████████  | 80/100 [01:43<00:25,  1.26s/it]"
     ]
    },
    {
     "name": "stdout",
     "output_type": "stream",
     "text": [
      "Epoch 80 Samples 8000 Step 124 Training Loss 0.32060933113098145\n",
      "Epoch 80 Validation Loss 0.32812392711639404\n"
     ]
    },
    {
     "name": "stderr",
     "output_type": "stream",
     "text": [
      " 81%|████████  | 81/100 [01:44<00:23,  1.26s/it]"
     ]
    },
    {
     "name": "stdout",
     "output_type": "stream",
     "text": [
      "Epoch 81 Samples 8000 Step 124 Training Loss 0.31604480743408203\n",
      "Epoch 81 Validation Loss 0.3305816054344177\n"
     ]
    },
    {
     "name": "stderr",
     "output_type": "stream",
     "text": [
      " 82%|████████▏ | 82/100 [01:46<00:22,  1.27s/it]"
     ]
    },
    {
     "name": "stdout",
     "output_type": "stream",
     "text": [
      "Epoch 82 Samples 8000 Step 124 Training Loss 0.3396494388580322\n",
      "Epoch 82 Validation Loss 0.33173394203186035\n"
     ]
    },
    {
     "name": "stderr",
     "output_type": "stream",
     "text": [
      " 83%|████████▎ | 83/100 [01:47<00:21,  1.27s/it]"
     ]
    },
    {
     "name": "stdout",
     "output_type": "stream",
     "text": [
      "Epoch 83 Samples 8000 Step 124 Training Loss 0.3464619219303131\n",
      "Epoch 83 Validation Loss 0.3450790047645569\n"
     ]
    },
    {
     "name": "stderr",
     "output_type": "stream",
     "text": [
      " 84%|████████▍ | 84/100 [01:48<00:20,  1.27s/it]"
     ]
    },
    {
     "name": "stdout",
     "output_type": "stream",
     "text": [
      "Epoch 84 Samples 8000 Step 124 Training Loss 0.3259289264678955\n",
      "Epoch 84 Validation Loss 0.3567604422569275\n"
     ]
    },
    {
     "name": "stderr",
     "output_type": "stream",
     "text": [
      " 85%|████████▌ | 85/100 [01:49<00:18,  1.26s/it]"
     ]
    },
    {
     "name": "stdout",
     "output_type": "stream",
     "text": [
      "Epoch 85 Samples 8000 Step 124 Training Loss 0.34769314527511597\n",
      "Epoch 85 Validation Loss 0.33297985792160034\n"
     ]
    },
    {
     "name": "stderr",
     "output_type": "stream",
     "text": [
      " 86%|████████▌ | 86/100 [01:51<00:17,  1.25s/it]"
     ]
    },
    {
     "name": "stdout",
     "output_type": "stream",
     "text": [
      "Epoch 86 Samples 8000 Step 124 Training Loss 0.3289051949977875\n",
      "Epoch 86 Validation Loss 0.33127275109291077\n"
     ]
    },
    {
     "name": "stderr",
     "output_type": "stream",
     "text": [
      " 87%|████████▋ | 87/100 [01:52<00:16,  1.26s/it]"
     ]
    },
    {
     "name": "stdout",
     "output_type": "stream",
     "text": [
      "Epoch 87 Samples 8000 Step 124 Training Loss 0.3262626826763153\n",
      "Epoch 87 Validation Loss 0.3281555473804474\n"
     ]
    },
    {
     "name": "stderr",
     "output_type": "stream",
     "text": [
      " 88%|████████▊ | 88/100 [01:53<00:14,  1.25s/it]"
     ]
    },
    {
     "name": "stdout",
     "output_type": "stream",
     "text": [
      "Epoch 88 Samples 8000 Step 124 Training Loss 0.3270958960056305\n",
      "Epoch 88 Validation Loss 0.35739317536354065\n"
     ]
    },
    {
     "name": "stderr",
     "output_type": "stream",
     "text": [
      " 89%|████████▉ | 89/100 [01:54<00:13,  1.24s/it]"
     ]
    },
    {
     "name": "stdout",
     "output_type": "stream",
     "text": [
      "Epoch 89 Samples 8000 Step 124 Training Loss 0.3406355679035187\n",
      "Epoch 89 Validation Loss 0.33376649022102356\n"
     ]
    },
    {
     "name": "stderr",
     "output_type": "stream",
     "text": [
      " 90%|█████████ | 90/100 [01:56<00:12,  1.23s/it]"
     ]
    },
    {
     "name": "stdout",
     "output_type": "stream",
     "text": [
      "Epoch 90 Samples 8000 Step 124 Training Loss 0.3324107527732849\n",
      "Epoch 90 Validation Loss 0.33643341064453125\n"
     ]
    },
    {
     "name": "stderr",
     "output_type": "stream",
     "text": [
      " 91%|█████████ | 91/100 [01:57<00:11,  1.25s/it]"
     ]
    },
    {
     "name": "stdout",
     "output_type": "stream",
     "text": [
      "Epoch 91 Samples 8000 Step 124 Training Loss 0.3300679326057434\n",
      "Epoch 91 Validation Loss 0.3299073278903961\n"
     ]
    },
    {
     "name": "stderr",
     "output_type": "stream",
     "text": [
      " 92%|█████████▏| 92/100 [01:58<00:10,  1.26s/it]"
     ]
    },
    {
     "name": "stdout",
     "output_type": "stream",
     "text": [
      "Epoch 92 Samples 8000 Step 124 Training Loss 0.33911028504371643\n",
      "Epoch 92 Validation Loss 0.32776764035224915\n"
     ]
    },
    {
     "name": "stderr",
     "output_type": "stream",
     "text": [
      " 93%|█████████▎| 93/100 [01:59<00:08,  1.25s/it]"
     ]
    },
    {
     "name": "stdout",
     "output_type": "stream",
     "text": [
      "Epoch 93 Samples 8000 Step 124 Training Loss 0.3437972962856293\n",
      "Epoch 93 Validation Loss 0.3290839195251465\n"
     ]
    },
    {
     "name": "stderr",
     "output_type": "stream",
     "text": [
      " 94%|█████████▍| 94/100 [02:01<00:07,  1.27s/it]"
     ]
    },
    {
     "name": "stdout",
     "output_type": "stream",
     "text": [
      "Epoch 94 Samples 8000 Step 124 Training Loss 0.3338165879249573\n",
      "Epoch 94 Validation Loss 0.3345016539096832\n"
     ]
    },
    {
     "name": "stderr",
     "output_type": "stream",
     "text": [
      " 95%|█████████▌| 95/100 [02:02<00:06,  1.25s/it]"
     ]
    },
    {
     "name": "stdout",
     "output_type": "stream",
     "text": [
      "Epoch 95 Samples 8000 Step 124 Training Loss 0.3898119330406189\n",
      "Epoch 95 Validation Loss 0.3707723319530487\n"
     ]
    },
    {
     "name": "stderr",
     "output_type": "stream",
     "text": [
      " 96%|█████████▌| 96/100 [02:03<00:05,  1.25s/it]"
     ]
    },
    {
     "name": "stdout",
     "output_type": "stream",
     "text": [
      "Epoch 96 Samples 8000 Step 124 Training Loss 0.336442232131958\n",
      "Epoch 96 Validation Loss 0.3332969546318054\n"
     ]
    },
    {
     "name": "stderr",
     "output_type": "stream",
     "text": [
      " 97%|█████████▋| 97/100 [02:04<00:03,  1.27s/it]"
     ]
    },
    {
     "name": "stdout",
     "output_type": "stream",
     "text": [
      "Epoch 97 Samples 8000 Step 124 Training Loss 0.33393168449401855\n",
      "Epoch 97 Validation Loss 0.3238505423069\n"
     ]
    },
    {
     "name": "stderr",
     "output_type": "stream",
     "text": [
      " 98%|█████████▊| 98/100 [02:06<00:02,  1.25s/it]"
     ]
    },
    {
     "name": "stdout",
     "output_type": "stream",
     "text": [
      "Epoch 98 Samples 8000 Step 124 Training Loss 0.3235621750354767\n",
      "Epoch 98 Validation Loss 0.32792678475379944\n"
     ]
    },
    {
     "name": "stderr",
     "output_type": "stream",
     "text": [
      " 99%|█████████▉| 99/100 [02:07<00:01,  1.27s/it]"
     ]
    },
    {
     "name": "stdout",
     "output_type": "stream",
     "text": [
      "Epoch 99 Samples 8000 Step 124 Training Loss 0.33793601393699646\n",
      "Epoch 99 Validation Loss 0.3366611897945404\n"
     ]
    },
    {
     "name": "stderr",
     "output_type": "stream",
     "text": [
      "100%|██████████| 100/100 [02:08<00:00,  1.29s/it]"
     ]
    },
    {
     "name": "stdout",
     "output_type": "stream",
     "text": [
      "Epoch 100 Samples 8000 Step 124 Training Loss 0.34673407673835754\n",
      "Epoch 100 Validation Loss 0.3378612697124481\n"
     ]
    },
    {
     "name": "stderr",
     "output_type": "stream",
     "text": [
      "\n"
     ]
    }
   ],
   "source": [
    "model3 = finetune_model(\n",
    "            model2,\n",
    "            dataset=dataset,\n",
    "            n_epochs=100,\n",
    "            lr=0.05,\n",
    "            save_every=1000\n",
    "        )"
   ]
  },
  {
   "cell_type": "code",
   "execution_count": 13,
   "id": "867fb029",
   "metadata": {},
   "outputs": [
    {
     "name": "stdout",
     "output_type": "stream",
     "text": [
      "Moving model to device:  cpu\n"
     ]
    },
    {
     "name": "stderr",
     "output_type": "stream",
     "text": [
      "  0%|          | 1/300 [00:04<21:18,  4.28s/it]"
     ]
    },
    {
     "name": "stdout",
     "output_type": "stream",
     "text": [
      "Epoch 1 Samples 8000 Step 124 Training Loss 0.3146398365497589\n",
      "Epoch 1 Validation Loss 0.3197229206562042\n"
     ]
    },
    {
     "name": "stderr",
     "output_type": "stream",
     "text": [
      "  1%|          | 2/300 [00:08<20:04,  4.04s/it]"
     ]
    },
    {
     "name": "stdout",
     "output_type": "stream",
     "text": [
      "Epoch 2 Samples 8000 Step 124 Training Loss 0.3223980963230133\n",
      "Epoch 2 Validation Loss 0.3242681920528412\n"
     ]
    },
    {
     "name": "stderr",
     "output_type": "stream",
     "text": [
      "  1%|          | 3/300 [00:12<19:40,  3.98s/it]"
     ]
    },
    {
     "name": "stdout",
     "output_type": "stream",
     "text": [
      "Epoch 3 Samples 8000 Step 124 Training Loss 0.32023170590400696\n",
      "Epoch 3 Validation Loss 0.3181532323360443\n"
     ]
    },
    {
     "name": "stderr",
     "output_type": "stream",
     "text": [
      "  1%|▏         | 4/300 [00:16<19:38,  3.98s/it]"
     ]
    },
    {
     "name": "stdout",
     "output_type": "stream",
     "text": [
      "Epoch 4 Samples 8000 Step 124 Training Loss 0.3177025318145752\n",
      "Epoch 4 Validation Loss 0.31869184970855713\n"
     ]
    },
    {
     "name": "stderr",
     "output_type": "stream",
     "text": [
      "  2%|▏         | 5/300 [00:20<19:45,  4.02s/it]"
     ]
    },
    {
     "name": "stdout",
     "output_type": "stream",
     "text": [
      "Epoch 5 Samples 8000 Step 124 Training Loss 0.32139360904693604\n",
      "Epoch 5 Validation Loss 0.31902363896369934\n"
     ]
    },
    {
     "name": "stderr",
     "output_type": "stream",
     "text": [
      "  2%|▏         | 6/300 [00:23<19:18,  3.94s/it]"
     ]
    },
    {
     "name": "stdout",
     "output_type": "stream",
     "text": [
      "Epoch 6 Samples 8000 Step 124 Training Loss 0.3134196400642395\n",
      "Epoch 6 Validation Loss 0.318617582321167\n"
     ]
    },
    {
     "name": "stderr",
     "output_type": "stream",
     "text": [
      "  2%|▏         | 7/300 [00:27<18:51,  3.86s/it]"
     ]
    },
    {
     "name": "stdout",
     "output_type": "stream",
     "text": [
      "Epoch 7 Samples 8000 Step 124 Training Loss 0.3188658654689789\n",
      "Epoch 7 Validation Loss 0.3193584680557251\n"
     ]
    },
    {
     "name": "stderr",
     "output_type": "stream",
     "text": [
      "  3%|▎         | 8/300 [00:31<19:03,  3.92s/it]"
     ]
    },
    {
     "name": "stdout",
     "output_type": "stream",
     "text": [
      "Epoch 8 Samples 8000 Step 124 Training Loss 0.30950236320495605\n",
      "Epoch 8 Validation Loss 0.3190078139305115\n"
     ]
    },
    {
     "name": "stderr",
     "output_type": "stream",
     "text": [
      "  3%|▎         | 9/300 [00:35<19:06,  3.94s/it]"
     ]
    },
    {
     "name": "stdout",
     "output_type": "stream",
     "text": [
      "Epoch 9 Samples 8000 Step 124 Training Loss 0.3236972689628601\n",
      "Epoch 9 Validation Loss 0.3194201588630676\n"
     ]
    },
    {
     "name": "stderr",
     "output_type": "stream",
     "text": [
      "  3%|▎         | 10/300 [00:40<20:01,  4.14s/it]"
     ]
    },
    {
     "name": "stdout",
     "output_type": "stream",
     "text": [
      "Epoch 10 Samples 8000 Step 124 Training Loss 0.3108922243118286\n",
      "Epoch 10 Validation Loss 0.3187439739704132\n"
     ]
    },
    {
     "name": "stderr",
     "output_type": "stream",
     "text": [
      "  4%|▎         | 11/300 [00:44<19:31,  4.05s/it]"
     ]
    },
    {
     "name": "stdout",
     "output_type": "stream",
     "text": [
      "Epoch 11 Samples 8000 Step 124 Training Loss 0.31843823194503784\n",
      "Epoch 11 Validation Loss 0.3181040287017822\n"
     ]
    },
    {
     "name": "stderr",
     "output_type": "stream",
     "text": [
      "  4%|▍         | 12/300 [00:48<19:41,  4.10s/it]"
     ]
    },
    {
     "name": "stdout",
     "output_type": "stream",
     "text": [
      "Epoch 12 Samples 8000 Step 124 Training Loss 0.32558000087738037\n",
      "Epoch 12 Validation Loss 0.3171789348125458\n"
     ]
    },
    {
     "name": "stderr",
     "output_type": "stream",
     "text": [
      "  4%|▍         | 13/300 [00:52<19:09,  4.01s/it]"
     ]
    },
    {
     "name": "stdout",
     "output_type": "stream",
     "text": [
      "Epoch 13 Samples 8000 Step 124 Training Loss 0.3142756223678589\n",
      "Epoch 13 Validation Loss 0.3210376799106598\n"
     ]
    },
    {
     "name": "stderr",
     "output_type": "stream",
     "text": [
      "  5%|▍         | 14/300 [00:56<19:10,  4.02s/it]"
     ]
    },
    {
     "name": "stdout",
     "output_type": "stream",
     "text": [
      "Epoch 14 Samples 8000 Step 124 Training Loss 0.30985745787620544\n",
      "Epoch 14 Validation Loss 0.3177975118160248\n"
     ]
    },
    {
     "name": "stderr",
     "output_type": "stream",
     "text": [
      "  5%|▌         | 15/300 [01:00<18:56,  3.99s/it]"
     ]
    },
    {
     "name": "stdout",
     "output_type": "stream",
     "text": [
      "Epoch 15 Samples 8000 Step 124 Training Loss 0.3246157169342041\n",
      "Epoch 15 Validation Loss 0.31839069724082947\n"
     ]
    },
    {
     "name": "stderr",
     "output_type": "stream",
     "text": [
      "  5%|▌         | 16/300 [01:03<18:48,  3.97s/it]"
     ]
    },
    {
     "name": "stdout",
     "output_type": "stream",
     "text": [
      "Epoch 16 Samples 8000 Step 124 Training Loss 0.31658193469047546\n",
      "Epoch 16 Validation Loss 0.31960007548332214\n"
     ]
    },
    {
     "name": "stderr",
     "output_type": "stream",
     "text": [
      "  6%|▌         | 17/300 [01:07<18:16,  3.87s/it]"
     ]
    },
    {
     "name": "stdout",
     "output_type": "stream",
     "text": [
      "Epoch 17 Samples 8000 Step 124 Training Loss 0.31403401494026184\n",
      "Epoch 17 Validation Loss 0.3168186545372009\n"
     ]
    },
    {
     "name": "stderr",
     "output_type": "stream",
     "text": [
      "  6%|▌         | 18/300 [01:11<18:12,  3.88s/it]"
     ]
    },
    {
     "name": "stdout",
     "output_type": "stream",
     "text": [
      "Epoch 18 Samples 8000 Step 124 Training Loss 0.3244909942150116\n",
      "Epoch 18 Validation Loss 0.3193972706794739\n"
     ]
    },
    {
     "name": "stderr",
     "output_type": "stream",
     "text": [
      "  6%|▋         | 19/300 [01:15<17:55,  3.83s/it]"
     ]
    },
    {
     "name": "stdout",
     "output_type": "stream",
     "text": [
      "Epoch 19 Samples 8000 Step 124 Training Loss 0.34201642870903015\n",
      "Epoch 19 Validation Loss 0.3173365890979767\n"
     ]
    },
    {
     "name": "stderr",
     "output_type": "stream",
     "text": [
      "  7%|▋         | 20/300 [01:18<17:42,  3.80s/it]"
     ]
    },
    {
     "name": "stdout",
     "output_type": "stream",
     "text": [
      "Epoch 20 Samples 8000 Step 124 Training Loss 0.318892240524292\n",
      "Epoch 20 Validation Loss 0.3179592490196228\n"
     ]
    },
    {
     "name": "stderr",
     "output_type": "stream",
     "text": [
      "  7%|▋         | 21/300 [01:22<17:33,  3.78s/it]"
     ]
    },
    {
     "name": "stdout",
     "output_type": "stream",
     "text": [
      "Epoch 21 Samples 8000 Step 124 Training Loss 0.31959980726242065\n",
      "Epoch 21 Validation Loss 0.3204731345176697\n"
     ]
    },
    {
     "name": "stderr",
     "output_type": "stream",
     "text": [
      "  7%|▋         | 22/300 [01:26<17:21,  3.75s/it]"
     ]
    },
    {
     "name": "stdout",
     "output_type": "stream",
     "text": [
      "Epoch 22 Samples 8000 Step 124 Training Loss 0.31625261902809143\n",
      "Epoch 22 Validation Loss 0.3184809982776642\n"
     ]
    },
    {
     "name": "stderr",
     "output_type": "stream",
     "text": [
      "  8%|▊         | 23/300 [01:30<17:21,  3.76s/it]"
     ]
    },
    {
     "name": "stdout",
     "output_type": "stream",
     "text": [
      "Epoch 23 Samples 8000 Step 124 Training Loss 0.324815958738327\n",
      "Epoch 23 Validation Loss 0.31835371255874634\n"
     ]
    },
    {
     "name": "stderr",
     "output_type": "stream",
     "text": [
      "  8%|▊         | 24/300 [01:33<17:16,  3.76s/it]"
     ]
    },
    {
     "name": "stdout",
     "output_type": "stream",
     "text": [
      "Epoch 24 Samples 8000 Step 124 Training Loss 0.3079223930835724\n",
      "Epoch 24 Validation Loss 0.318679541349411\n"
     ]
    },
    {
     "name": "stderr",
     "output_type": "stream",
     "text": [
      "  8%|▊         | 25/300 [01:37<16:58,  3.70s/it]"
     ]
    },
    {
     "name": "stdout",
     "output_type": "stream",
     "text": [
      "Epoch 25 Samples 8000 Step 124 Training Loss 0.3184528350830078\n",
      "Epoch 25 Validation Loss 0.32166093587875366\n"
     ]
    },
    {
     "name": "stderr",
     "output_type": "stream",
     "text": [
      "  9%|▊         | 26/300 [01:41<17:09,  3.76s/it]"
     ]
    },
    {
     "name": "stdout",
     "output_type": "stream",
     "text": [
      "Epoch 26 Samples 8000 Step 124 Training Loss 0.32702118158340454\n",
      "Epoch 26 Validation Loss 0.32245326042175293\n"
     ]
    },
    {
     "name": "stderr",
     "output_type": "stream",
     "text": [
      "  9%|▉         | 27/300 [01:45<17:29,  3.85s/it]"
     ]
    },
    {
     "name": "stdout",
     "output_type": "stream",
     "text": [
      "Epoch 27 Samples 8000 Step 124 Training Loss 0.32696598768234253\n",
      "Epoch 27 Validation Loss 0.31642916798591614\n"
     ]
    },
    {
     "name": "stderr",
     "output_type": "stream",
     "text": [
      "  9%|▉         | 28/300 [01:49<18:03,  3.98s/it]"
     ]
    },
    {
     "name": "stdout",
     "output_type": "stream",
     "text": [
      "Epoch 28 Samples 8000 Step 124 Training Loss 0.3045704662799835\n",
      "Epoch 28 Validation Loss 0.316180020570755\n"
     ]
    },
    {
     "name": "stderr",
     "output_type": "stream",
     "text": [
      " 10%|▉         | 29/300 [01:53<17:16,  3.82s/it]"
     ]
    },
    {
     "name": "stdout",
     "output_type": "stream",
     "text": [
      "Epoch 29 Samples 8000 Step 124 Training Loss 0.30757835507392883\n",
      "Epoch 29 Validation Loss 0.3158896565437317\n"
     ]
    },
    {
     "name": "stderr",
     "output_type": "stream",
     "text": [
      " 10%|█         | 30/300 [01:56<16:42,  3.71s/it]"
     ]
    },
    {
     "name": "stdout",
     "output_type": "stream",
     "text": [
      "Epoch 30 Samples 8000 Step 124 Training Loss 0.3155684769153595\n",
      "Epoch 30 Validation Loss 0.3174884021282196\n"
     ]
    },
    {
     "name": "stderr",
     "output_type": "stream",
     "text": [
      " 10%|█         | 31/300 [02:00<16:32,  3.69s/it]"
     ]
    },
    {
     "name": "stdout",
     "output_type": "stream",
     "text": [
      "Epoch 31 Samples 8000 Step 124 Training Loss 0.3238617181777954\n",
      "Epoch 31 Validation Loss 0.3238098621368408\n"
     ]
    },
    {
     "name": "stderr",
     "output_type": "stream",
     "text": [
      " 11%|█         | 32/300 [02:03<16:19,  3.66s/it]"
     ]
    },
    {
     "name": "stdout",
     "output_type": "stream",
     "text": [
      "Epoch 32 Samples 8000 Step 124 Training Loss 0.31840047240257263\n",
      "Epoch 32 Validation Loss 0.31796422600746155\n"
     ]
    },
    {
     "name": "stderr",
     "output_type": "stream",
     "text": [
      " 11%|█         | 33/300 [02:07<16:48,  3.78s/it]"
     ]
    },
    {
     "name": "stdout",
     "output_type": "stream",
     "text": [
      "Epoch 33 Samples 8000 Step 124 Training Loss 0.3252202868461609\n",
      "Epoch 33 Validation Loss 0.32189396023750305\n"
     ]
    },
    {
     "name": "stderr",
     "output_type": "stream",
     "text": [
      " 11%|█▏        | 34/300 [02:11<16:46,  3.78s/it]"
     ]
    },
    {
     "name": "stdout",
     "output_type": "stream",
     "text": [
      "Epoch 34 Samples 8000 Step 124 Training Loss 0.31632140278816223\n",
      "Epoch 34 Validation Loss 0.3178918957710266\n"
     ]
    },
    {
     "name": "stderr",
     "output_type": "stream",
     "text": [
      " 12%|█▏        | 35/300 [02:15<16:51,  3.82s/it]"
     ]
    },
    {
     "name": "stdout",
     "output_type": "stream",
     "text": [
      "Epoch 35 Samples 8000 Step 124 Training Loss 0.3119143843650818\n",
      "Epoch 35 Validation Loss 0.3168115019798279\n"
     ]
    },
    {
     "name": "stderr",
     "output_type": "stream",
     "text": [
      " 12%|█▏        | 36/300 [02:20<17:41,  4.02s/it]"
     ]
    },
    {
     "name": "stdout",
     "output_type": "stream",
     "text": [
      "Epoch 36 Samples 8000 Step 124 Training Loss 0.32592350244522095\n",
      "Epoch 36 Validation Loss 0.3174455463886261\n"
     ]
    },
    {
     "name": "stderr",
     "output_type": "stream",
     "text": [
      " 12%|█▏        | 37/300 [02:24<17:36,  4.02s/it]"
     ]
    },
    {
     "name": "stdout",
     "output_type": "stream",
     "text": [
      "Epoch 37 Samples 8000 Step 124 Training Loss 0.3140318691730499\n",
      "Epoch 37 Validation Loss 0.3198108971118927\n"
     ]
    },
    {
     "name": "stderr",
     "output_type": "stream",
     "text": [
      " 13%|█▎        | 38/300 [02:28<17:45,  4.07s/it]"
     ]
    },
    {
     "name": "stdout",
     "output_type": "stream",
     "text": [
      "Epoch 38 Samples 8000 Step 124 Training Loss 0.31384217739105225\n",
      "Epoch 38 Validation Loss 0.3154832422733307\n"
     ]
    },
    {
     "name": "stderr",
     "output_type": "stream",
     "text": [
      " 13%|█▎        | 39/300 [02:32<18:04,  4.16s/it]"
     ]
    },
    {
     "name": "stdout",
     "output_type": "stream",
     "text": [
      "Epoch 39 Samples 8000 Step 124 Training Loss 0.3303934335708618\n",
      "Epoch 39 Validation Loss 0.31620535254478455\n"
     ]
    },
    {
     "name": "stderr",
     "output_type": "stream",
     "text": [
      " 13%|█▎        | 40/300 [02:36<17:41,  4.08s/it]"
     ]
    },
    {
     "name": "stdout",
     "output_type": "stream",
     "text": [
      "Epoch 40 Samples 8000 Step 124 Training Loss 0.3207820951938629\n",
      "Epoch 40 Validation Loss 0.3196601867675781\n"
     ]
    },
    {
     "name": "stderr",
     "output_type": "stream",
     "text": [
      " 14%|█▎        | 41/300 [02:40<17:46,  4.12s/it]"
     ]
    },
    {
     "name": "stdout",
     "output_type": "stream",
     "text": [
      "Epoch 41 Samples 8000 Step 124 Training Loss 0.32056018710136414\n",
      "Epoch 41 Validation Loss 0.31652238965034485\n"
     ]
    },
    {
     "name": "stderr",
     "output_type": "stream",
     "text": [
      " 14%|█▍        | 42/300 [02:44<17:09,  3.99s/it]"
     ]
    },
    {
     "name": "stdout",
     "output_type": "stream",
     "text": [
      "Epoch 42 Samples 8000 Step 124 Training Loss 0.30516156554222107\n",
      "Epoch 42 Validation Loss 0.31836217641830444\n"
     ]
    },
    {
     "name": "stderr",
     "output_type": "stream",
     "text": [
      " 14%|█▍        | 43/300 [02:48<17:04,  3.99s/it]"
     ]
    },
    {
     "name": "stdout",
     "output_type": "stream",
     "text": [
      "Epoch 43 Samples 8000 Step 124 Training Loss 0.31183579564094543\n",
      "Epoch 43 Validation Loss 0.32026776671409607\n"
     ]
    },
    {
     "name": "stderr",
     "output_type": "stream",
     "text": [
      " 15%|█▍        | 44/300 [02:52<17:23,  4.08s/it]"
     ]
    },
    {
     "name": "stdout",
     "output_type": "stream",
     "text": [
      "Epoch 44 Samples 8000 Step 124 Training Loss 0.320929616689682\n",
      "Epoch 44 Validation Loss 0.31719937920570374\n"
     ]
    },
    {
     "name": "stderr",
     "output_type": "stream",
     "text": [
      " 15%|█▌        | 45/300 [02:56<17:02,  4.01s/it]"
     ]
    },
    {
     "name": "stdout",
     "output_type": "stream",
     "text": [
      "Epoch 45 Samples 8000 Step 124 Training Loss 0.30221685767173767\n",
      "Epoch 45 Validation Loss 0.31791952252388\n"
     ]
    },
    {
     "name": "stderr",
     "output_type": "stream",
     "text": [
      " 15%|█▌        | 46/300 [03:00<16:33,  3.91s/it]"
     ]
    },
    {
     "name": "stdout",
     "output_type": "stream",
     "text": [
      "Epoch 46 Samples 8000 Step 124 Training Loss 0.3334517180919647\n",
      "Epoch 46 Validation Loss 0.31931114196777344\n"
     ]
    },
    {
     "name": "stderr",
     "output_type": "stream",
     "text": [
      " 16%|█▌        | 47/300 [03:04<16:19,  3.87s/it]"
     ]
    },
    {
     "name": "stdout",
     "output_type": "stream",
     "text": [
      "Epoch 47 Samples 8000 Step 124 Training Loss 0.3199406564235687\n",
      "Epoch 47 Validation Loss 0.3171529173851013\n"
     ]
    },
    {
     "name": "stderr",
     "output_type": "stream",
     "text": [
      " 16%|█▌        | 48/300 [03:07<16:17,  3.88s/it]"
     ]
    },
    {
     "name": "stdout",
     "output_type": "stream",
     "text": [
      "Epoch 48 Samples 8000 Step 124 Training Loss 0.3029957413673401\n",
      "Epoch 48 Validation Loss 0.3148503303527832\n"
     ]
    },
    {
     "name": "stderr",
     "output_type": "stream",
     "text": [
      " 16%|█▋        | 49/300 [03:11<15:59,  3.82s/it]"
     ]
    },
    {
     "name": "stdout",
     "output_type": "stream",
     "text": [
      "Epoch 49 Samples 8000 Step 124 Training Loss 0.3216004967689514\n",
      "Epoch 49 Validation Loss 0.3157915472984314\n"
     ]
    },
    {
     "name": "stderr",
     "output_type": "stream",
     "text": [
      " 17%|█▋        | 50/300 [03:15<16:06,  3.87s/it]"
     ]
    },
    {
     "name": "stdout",
     "output_type": "stream",
     "text": [
      "Epoch 50 Samples 8000 Step 124 Training Loss 0.3162805736064911\n",
      "Epoch 50 Validation Loss 0.3184684216976166\n"
     ]
    },
    {
     "name": "stderr",
     "output_type": "stream",
     "text": [
      " 17%|█▋        | 51/300 [03:19<16:11,  3.90s/it]"
     ]
    },
    {
     "name": "stdout",
     "output_type": "stream",
     "text": [
      "Epoch 51 Samples 8000 Step 124 Training Loss 0.32386037707328796\n",
      "Epoch 51 Validation Loss 0.315577894449234\n"
     ]
    },
    {
     "name": "stderr",
     "output_type": "stream",
     "text": [
      " 17%|█▋        | 52/300 [03:23<15:56,  3.86s/it]"
     ]
    },
    {
     "name": "stdout",
     "output_type": "stream",
     "text": [
      "Epoch 52 Samples 8000 Step 124 Training Loss 0.3163827657699585\n",
      "Epoch 52 Validation Loss 0.3196030557155609\n"
     ]
    },
    {
     "name": "stderr",
     "output_type": "stream",
     "text": [
      " 18%|█▊        | 53/300 [03:27<16:14,  3.95s/it]"
     ]
    },
    {
     "name": "stdout",
     "output_type": "stream",
     "text": [
      "Epoch 53 Samples 8000 Step 124 Training Loss 0.3267614543437958\n",
      "Epoch 53 Validation Loss 0.3155041038990021\n"
     ]
    },
    {
     "name": "stderr",
     "output_type": "stream",
     "text": [
      " 18%|█▊        | 54/300 [03:31<16:13,  3.96s/it]"
     ]
    },
    {
     "name": "stdout",
     "output_type": "stream",
     "text": [
      "Epoch 54 Samples 8000 Step 124 Training Loss 0.3154003918170929\n",
      "Epoch 54 Validation Loss 0.31522446870803833\n"
     ]
    },
    {
     "name": "stderr",
     "output_type": "stream",
     "text": [
      " 18%|█▊        | 55/300 [03:35<16:02,  3.93s/it]"
     ]
    },
    {
     "name": "stdout",
     "output_type": "stream",
     "text": [
      "Epoch 55 Samples 8000 Step 124 Training Loss 0.33282792568206787\n",
      "Epoch 55 Validation Loss 0.31560245156288147\n"
     ]
    },
    {
     "name": "stderr",
     "output_type": "stream",
     "text": [
      " 19%|█▊        | 56/300 [03:39<15:45,  3.87s/it]"
     ]
    },
    {
     "name": "stdout",
     "output_type": "stream",
     "text": [
      "Epoch 56 Samples 8000 Step 124 Training Loss 0.3245810270309448\n",
      "Epoch 56 Validation Loss 0.31792834401130676\n"
     ]
    },
    {
     "name": "stderr",
     "output_type": "stream",
     "text": [
      " 19%|█▉        | 57/300 [03:43<15:53,  3.93s/it]"
     ]
    },
    {
     "name": "stdout",
     "output_type": "stream",
     "text": [
      "Epoch 57 Samples 8000 Step 124 Training Loss 0.3111112117767334\n",
      "Epoch 57 Validation Loss 0.3177708685398102\n"
     ]
    },
    {
     "name": "stderr",
     "output_type": "stream",
     "text": [
      " 19%|█▉        | 58/300 [03:46<15:37,  3.87s/it]"
     ]
    },
    {
     "name": "stdout",
     "output_type": "stream",
     "text": [
      "Epoch 58 Samples 8000 Step 124 Training Loss 0.3041095435619354\n",
      "Epoch 58 Validation Loss 0.3173582851886749\n"
     ]
    },
    {
     "name": "stderr",
     "output_type": "stream",
     "text": [
      " 20%|█▉        | 59/300 [03:50<15:18,  3.81s/it]"
     ]
    },
    {
     "name": "stdout",
     "output_type": "stream",
     "text": [
      "Epoch 59 Samples 8000 Step 124 Training Loss 0.3128121495246887\n",
      "Epoch 59 Validation Loss 0.31588369607925415\n"
     ]
    },
    {
     "name": "stderr",
     "output_type": "stream",
     "text": [
      " 20%|██        | 60/300 [03:53<14:41,  3.67s/it]"
     ]
    },
    {
     "name": "stdout",
     "output_type": "stream",
     "text": [
      "Epoch 60 Samples 8000 Step 124 Training Loss 0.30283284187316895\n",
      "Epoch 60 Validation Loss 0.3155798614025116\n"
     ]
    },
    {
     "name": "stderr",
     "output_type": "stream",
     "text": [
      " 20%|██        | 61/300 [03:57<14:41,  3.69s/it]"
     ]
    },
    {
     "name": "stdout",
     "output_type": "stream",
     "text": [
      "Epoch 61 Samples 8000 Step 124 Training Loss 0.3154243230819702\n",
      "Epoch 61 Validation Loss 0.31477323174476624\n"
     ]
    },
    {
     "name": "stderr",
     "output_type": "stream",
     "text": [
      " 21%|██        | 62/300 [04:01<15:10,  3.83s/it]"
     ]
    },
    {
     "name": "stdout",
     "output_type": "stream",
     "text": [
      "Epoch 62 Samples 8000 Step 124 Training Loss 0.3163694739341736\n",
      "Epoch 62 Validation Loss 0.321162611246109\n"
     ]
    },
    {
     "name": "stderr",
     "output_type": "stream",
     "text": [
      " 21%|██        | 63/300 [04:05<15:12,  3.85s/it]"
     ]
    },
    {
     "name": "stdout",
     "output_type": "stream",
     "text": [
      "Epoch 63 Samples 8000 Step 124 Training Loss 0.32179296016693115\n",
      "Epoch 63 Validation Loss 0.3154110908508301\n"
     ]
    },
    {
     "name": "stderr",
     "output_type": "stream",
     "text": [
      " 21%|██▏       | 64/300 [04:09<15:08,  3.85s/it]"
     ]
    },
    {
     "name": "stdout",
     "output_type": "stream",
     "text": [
      "Epoch 64 Samples 8000 Step 124 Training Loss 0.3249700367450714\n",
      "Epoch 64 Validation Loss 0.3146951496601105\n"
     ]
    },
    {
     "name": "stderr",
     "output_type": "stream",
     "text": [
      " 22%|██▏       | 65/300 [04:13<15:08,  3.86s/it]"
     ]
    },
    {
     "name": "stdout",
     "output_type": "stream",
     "text": [
      "Epoch 65 Samples 8000 Step 124 Training Loss 0.31113794445991516\n",
      "Epoch 65 Validation Loss 0.3150990307331085\n"
     ]
    },
    {
     "name": "stderr",
     "output_type": "stream",
     "text": [
      " 22%|██▏       | 66/300 [04:17<15:06,  3.88s/it]"
     ]
    },
    {
     "name": "stdout",
     "output_type": "stream",
     "text": [
      "Epoch 66 Samples 8000 Step 124 Training Loss 0.30568835139274597\n",
      "Epoch 66 Validation Loss 0.3147965967655182\n"
     ]
    },
    {
     "name": "stderr",
     "output_type": "stream",
     "text": [
      " 22%|██▏       | 67/300 [04:21<15:08,  3.90s/it]"
     ]
    },
    {
     "name": "stdout",
     "output_type": "stream",
     "text": [
      "Epoch 67 Samples 8000 Step 124 Training Loss 0.31854695081710815\n",
      "Epoch 67 Validation Loss 0.3233789801597595\n"
     ]
    },
    {
     "name": "stderr",
     "output_type": "stream",
     "text": [
      " 23%|██▎       | 68/300 [04:25<15:04,  3.90s/it]"
     ]
    },
    {
     "name": "stdout",
     "output_type": "stream",
     "text": [
      "Epoch 68 Samples 8000 Step 124 Training Loss 0.32805606722831726\n",
      "Epoch 68 Validation Loss 0.3223060965538025\n"
     ]
    },
    {
     "name": "stderr",
     "output_type": "stream",
     "text": [
      " 23%|██▎       | 69/300 [04:29<15:00,  3.90s/it]"
     ]
    },
    {
     "name": "stdout",
     "output_type": "stream",
     "text": [
      "Epoch 69 Samples 8000 Step 124 Training Loss 0.31704026460647583\n",
      "Epoch 69 Validation Loss 0.3158225417137146\n"
     ]
    },
    {
     "name": "stderr",
     "output_type": "stream",
     "text": [
      " 23%|██▎       | 70/300 [04:32<14:57,  3.90s/it]"
     ]
    },
    {
     "name": "stdout",
     "output_type": "stream",
     "text": [
      "Epoch 70 Samples 8000 Step 124 Training Loss 0.3118439018726349\n",
      "Epoch 70 Validation Loss 0.3159964382648468\n"
     ]
    },
    {
     "name": "stderr",
     "output_type": "stream",
     "text": [
      " 24%|██▎       | 71/300 [04:36<14:55,  3.91s/it]"
     ]
    },
    {
     "name": "stdout",
     "output_type": "stream",
     "text": [
      "Epoch 71 Samples 8000 Step 124 Training Loss 0.31105074286460876\n",
      "Epoch 71 Validation Loss 0.31757330894470215\n"
     ]
    },
    {
     "name": "stderr",
     "output_type": "stream",
     "text": [
      " 24%|██▍       | 72/300 [04:40<14:56,  3.93s/it]"
     ]
    },
    {
     "name": "stdout",
     "output_type": "stream",
     "text": [
      "Epoch 72 Samples 8000 Step 124 Training Loss 0.31567639112472534\n",
      "Epoch 72 Validation Loss 0.3158392310142517\n"
     ]
    },
    {
     "name": "stderr",
     "output_type": "stream",
     "text": [
      " 24%|██▍       | 73/300 [04:44<14:46,  3.91s/it]"
     ]
    },
    {
     "name": "stdout",
     "output_type": "stream",
     "text": [
      "Epoch 73 Samples 8000 Step 124 Training Loss 0.3106345236301422\n",
      "Epoch 73 Validation Loss 0.3158737123012543\n"
     ]
    },
    {
     "name": "stderr",
     "output_type": "stream",
     "text": [
      " 25%|██▍       | 74/300 [04:48<14:43,  3.91s/it]"
     ]
    },
    {
     "name": "stdout",
     "output_type": "stream",
     "text": [
      "Epoch 74 Samples 8000 Step 124 Training Loss 0.3249419927597046\n",
      "Epoch 74 Validation Loss 0.31471019983291626\n"
     ]
    },
    {
     "name": "stderr",
     "output_type": "stream",
     "text": [
      " 25%|██▌       | 75/300 [04:52<14:35,  3.89s/it]"
     ]
    },
    {
     "name": "stdout",
     "output_type": "stream",
     "text": [
      "Epoch 75 Samples 8000 Step 124 Training Loss 0.30159905552864075\n",
      "Epoch 75 Validation Loss 0.3164139986038208\n"
     ]
    },
    {
     "name": "stderr",
     "output_type": "stream",
     "text": [
      " 25%|██▌       | 76/300 [04:56<14:11,  3.80s/it]"
     ]
    },
    {
     "name": "stdout",
     "output_type": "stream",
     "text": [
      "Epoch 76 Samples 8000 Step 124 Training Loss 0.3208291828632355\n",
      "Epoch 76 Validation Loss 0.31372642517089844\n"
     ]
    },
    {
     "name": "stderr",
     "output_type": "stream",
     "text": [
      " 26%|██▌       | 77/300 [05:00<14:20,  3.86s/it]"
     ]
    },
    {
     "name": "stdout",
     "output_type": "stream",
     "text": [
      "Epoch 77 Samples 8000 Step 124 Training Loss 0.31536364555358887\n",
      "Epoch 77 Validation Loss 0.3165650963783264\n"
     ]
    },
    {
     "name": "stderr",
     "output_type": "stream",
     "text": [
      " 26%|██▌       | 78/300 [05:03<14:15,  3.86s/it]"
     ]
    },
    {
     "name": "stdout",
     "output_type": "stream",
     "text": [
      "Epoch 78 Samples 8000 Step 124 Training Loss 0.3056847155094147\n",
      "Epoch 78 Validation Loss 0.3172262907028198\n"
     ]
    },
    {
     "name": "stderr",
     "output_type": "stream",
     "text": [
      " 26%|██▋       | 79/300 [05:07<14:09,  3.84s/it]"
     ]
    },
    {
     "name": "stdout",
     "output_type": "stream",
     "text": [
      "Epoch 79 Samples 8000 Step 124 Training Loss 0.30705612897872925\n",
      "Epoch 79 Validation Loss 0.31473955512046814\n"
     ]
    },
    {
     "name": "stderr",
     "output_type": "stream",
     "text": [
      " 27%|██▋       | 80/300 [05:11<14:06,  3.85s/it]"
     ]
    },
    {
     "name": "stdout",
     "output_type": "stream",
     "text": [
      "Epoch 80 Samples 8000 Step 124 Training Loss 0.312357634305954\n",
      "Epoch 80 Validation Loss 0.3129100203514099\n"
     ]
    },
    {
     "name": "stderr",
     "output_type": "stream",
     "text": [
      " 27%|██▋       | 81/300 [05:15<14:08,  3.87s/it]"
     ]
    },
    {
     "name": "stdout",
     "output_type": "stream",
     "text": [
      "Epoch 81 Samples 8000 Step 124 Training Loss 0.3105883002281189\n",
      "Epoch 81 Validation Loss 0.314151793718338\n"
     ]
    },
    {
     "name": "stderr",
     "output_type": "stream",
     "text": [
      " 27%|██▋       | 82/300 [05:19<14:10,  3.90s/it]"
     ]
    },
    {
     "name": "stdout",
     "output_type": "stream",
     "text": [
      "Epoch 82 Samples 8000 Step 124 Training Loss 0.3097413182258606\n",
      "Epoch 82 Validation Loss 0.3141191005706787\n"
     ]
    },
    {
     "name": "stderr",
     "output_type": "stream",
     "text": [
      " 28%|██▊       | 83/300 [05:23<14:06,  3.90s/it]"
     ]
    },
    {
     "name": "stdout",
     "output_type": "stream",
     "text": [
      "Epoch 83 Samples 8000 Step 124 Training Loss 0.31754717230796814\n",
      "Epoch 83 Validation Loss 0.3152942359447479\n"
     ]
    },
    {
     "name": "stderr",
     "output_type": "stream",
     "text": [
      " 28%|██▊       | 84/300 [05:27<14:01,  3.90s/it]"
     ]
    },
    {
     "name": "stdout",
     "output_type": "stream",
     "text": [
      "Epoch 84 Samples 8000 Step 124 Training Loss 0.3143559694290161\n",
      "Epoch 84 Validation Loss 0.31395116448402405\n"
     ]
    },
    {
     "name": "stderr",
     "output_type": "stream",
     "text": [
      " 28%|██▊       | 85/300 [05:31<13:57,  3.90s/it]"
     ]
    },
    {
     "name": "stdout",
     "output_type": "stream",
     "text": [
      "Epoch 85 Samples 8000 Step 124 Training Loss 0.3086458146572113\n",
      "Epoch 85 Validation Loss 0.313441663980484\n"
     ]
    },
    {
     "name": "stderr",
     "output_type": "stream",
     "text": [
      " 29%|██▊       | 86/300 [05:35<14:00,  3.93s/it]"
     ]
    },
    {
     "name": "stdout",
     "output_type": "stream",
     "text": [
      "Epoch 86 Samples 8000 Step 124 Training Loss 0.3189089298248291\n",
      "Epoch 86 Validation Loss 0.3421960771083832\n"
     ]
    },
    {
     "name": "stderr",
     "output_type": "stream",
     "text": [
      " 29%|██▉       | 87/300 [05:39<13:52,  3.91s/it]"
     ]
    },
    {
     "name": "stdout",
     "output_type": "stream",
     "text": [
      "Epoch 87 Samples 8000 Step 124 Training Loss 0.3117389380931854\n",
      "Epoch 87 Validation Loss 0.31359732151031494\n"
     ]
    },
    {
     "name": "stderr",
     "output_type": "stream",
     "text": [
      " 29%|██▉       | 88/300 [05:43<13:59,  3.96s/it]"
     ]
    },
    {
     "name": "stdout",
     "output_type": "stream",
     "text": [
      "Epoch 88 Samples 8000 Step 124 Training Loss 0.31319504976272583\n",
      "Epoch 88 Validation Loss 0.31505197286605835\n"
     ]
    },
    {
     "name": "stderr",
     "output_type": "stream",
     "text": [
      " 30%|██▉       | 89/300 [05:46<13:50,  3.94s/it]"
     ]
    },
    {
     "name": "stdout",
     "output_type": "stream",
     "text": [
      "Epoch 89 Samples 8000 Step 124 Training Loss 0.31175896525382996\n",
      "Epoch 89 Validation Loss 0.31697824597358704\n"
     ]
    },
    {
     "name": "stderr",
     "output_type": "stream",
     "text": [
      " 30%|███       | 90/300 [05:50<13:37,  3.89s/it]"
     ]
    },
    {
     "name": "stdout",
     "output_type": "stream",
     "text": [
      "Epoch 90 Samples 8000 Step 124 Training Loss 0.32553714513778687\n",
      "Epoch 90 Validation Loss 0.3157426714897156\n"
     ]
    },
    {
     "name": "stderr",
     "output_type": "stream",
     "text": [
      " 30%|███       | 91/300 [05:54<13:29,  3.87s/it]"
     ]
    },
    {
     "name": "stdout",
     "output_type": "stream",
     "text": [
      "Epoch 91 Samples 8000 Step 124 Training Loss 0.31285378336906433\n",
      "Epoch 91 Validation Loss 0.3135876953601837\n"
     ]
    },
    {
     "name": "stderr",
     "output_type": "stream",
     "text": [
      " 31%|███       | 92/300 [05:58<13:24,  3.87s/it]"
     ]
    },
    {
     "name": "stdout",
     "output_type": "stream",
     "text": [
      "Epoch 92 Samples 8000 Step 124 Training Loss 0.3470959961414337\n",
      "Epoch 92 Validation Loss 0.3393842279911041\n"
     ]
    },
    {
     "name": "stderr",
     "output_type": "stream",
     "text": [
      " 31%|███       | 93/300 [06:02<13:24,  3.89s/it]"
     ]
    },
    {
     "name": "stdout",
     "output_type": "stream",
     "text": [
      "Epoch 93 Samples 8000 Step 124 Training Loss 0.3156915009021759\n",
      "Epoch 93 Validation Loss 0.31430041790008545\n"
     ]
    },
    {
     "name": "stderr",
     "output_type": "stream",
     "text": [
      " 31%|███▏      | 94/300 [06:06<13:48,  4.02s/it]"
     ]
    },
    {
     "name": "stdout",
     "output_type": "stream",
     "text": [
      "Epoch 94 Samples 8000 Step 124 Training Loss 0.3237302005290985\n",
      "Epoch 94 Validation Loss 0.31483903527259827\n"
     ]
    },
    {
     "name": "stderr",
     "output_type": "stream",
     "text": [
      " 32%|███▏      | 95/300 [06:10<13:34,  3.97s/it]"
     ]
    },
    {
     "name": "stdout",
     "output_type": "stream",
     "text": [
      "Epoch 95 Samples 8000 Step 124 Training Loss 0.3377488851547241\n",
      "Epoch 95 Validation Loss 0.3242368698120117\n"
     ]
    },
    {
     "name": "stderr",
     "output_type": "stream",
     "text": [
      " 32%|███▏      | 96/300 [06:14<13:28,  3.96s/it]"
     ]
    },
    {
     "name": "stdout",
     "output_type": "stream",
     "text": [
      "Epoch 96 Samples 8000 Step 124 Training Loss 0.32211074233055115\n",
      "Epoch 96 Validation Loss 0.31528931856155396\n"
     ]
    },
    {
     "name": "stderr",
     "output_type": "stream",
     "text": [
      " 32%|███▏      | 97/300 [06:18<13:19,  3.94s/it]"
     ]
    },
    {
     "name": "stdout",
     "output_type": "stream",
     "text": [
      "Epoch 97 Samples 8000 Step 124 Training Loss 0.3046685457229614\n",
      "Epoch 97 Validation Loss 0.31193026900291443\n"
     ]
    },
    {
     "name": "stderr",
     "output_type": "stream",
     "text": [
      " 33%|███▎      | 98/300 [06:22<13:19,  3.96s/it]"
     ]
    },
    {
     "name": "stdout",
     "output_type": "stream",
     "text": [
      "Epoch 98 Samples 8000 Step 124 Training Loss 0.3154042661190033\n",
      "Epoch 98 Validation Loss 0.3156485855579376\n"
     ]
    },
    {
     "name": "stderr",
     "output_type": "stream",
     "text": [
      " 33%|███▎      | 99/300 [06:26<13:10,  3.93s/it]"
     ]
    },
    {
     "name": "stdout",
     "output_type": "stream",
     "text": [
      "Epoch 99 Samples 8000 Step 124 Training Loss 0.32649293541908264\n",
      "Epoch 99 Validation Loss 0.3166619837284088\n"
     ]
    },
    {
     "name": "stderr",
     "output_type": "stream",
     "text": [
      " 33%|███▎      | 100/300 [06:30<13:03,  3.92s/it]"
     ]
    },
    {
     "name": "stdout",
     "output_type": "stream",
     "text": [
      "Epoch 100 Samples 8000 Step 124 Training Loss 0.3306860327720642\n",
      "Epoch 100 Validation Loss 0.33221834897994995\n"
     ]
    },
    {
     "name": "stderr",
     "output_type": "stream",
     "text": [
      " 34%|███▎      | 101/300 [06:34<13:09,  3.97s/it]"
     ]
    },
    {
     "name": "stdout",
     "output_type": "stream",
     "text": [
      "Epoch 101 Samples 8000 Step 124 Training Loss 0.30327460169792175\n",
      "Epoch 101 Validation Loss 0.31415772438049316\n"
     ]
    },
    {
     "name": "stderr",
     "output_type": "stream",
     "text": [
      " 34%|███▍      | 102/300 [06:38<13:02,  3.95s/it]"
     ]
    },
    {
     "name": "stdout",
     "output_type": "stream",
     "text": [
      "Epoch 102 Samples 8000 Step 124 Training Loss 0.3137606978416443\n",
      "Epoch 102 Validation Loss 0.3122236132621765\n"
     ]
    },
    {
     "name": "stderr",
     "output_type": "stream",
     "text": [
      " 34%|███▍      | 103/300 [06:41<12:25,  3.78s/it]"
     ]
    },
    {
     "name": "stdout",
     "output_type": "stream",
     "text": [
      "Epoch 103 Samples 8000 Step 124 Training Loss 0.32325175404548645\n",
      "Epoch 103 Validation Loss 0.31256479024887085\n"
     ]
    },
    {
     "name": "stderr",
     "output_type": "stream",
     "text": [
      " 35%|███▍      | 104/300 [06:44<11:42,  3.59s/it]"
     ]
    },
    {
     "name": "stdout",
     "output_type": "stream",
     "text": [
      "Epoch 104 Samples 8000 Step 124 Training Loss 0.31554412841796875\n",
      "Epoch 104 Validation Loss 0.31409314274787903\n"
     ]
    },
    {
     "name": "stderr",
     "output_type": "stream",
     "text": [
      " 35%|███▌      | 105/300 [06:47<11:19,  3.48s/it]"
     ]
    },
    {
     "name": "stdout",
     "output_type": "stream",
     "text": [
      "Epoch 105 Samples 8000 Step 124 Training Loss 0.3232504725456238\n",
      "Epoch 105 Validation Loss 0.31367620825767517\n"
     ]
    },
    {
     "name": "stderr",
     "output_type": "stream",
     "text": [
      " 35%|███▌      | 106/300 [06:51<11:24,  3.53s/it]"
     ]
    },
    {
     "name": "stdout",
     "output_type": "stream",
     "text": [
      "Epoch 106 Samples 8000 Step 124 Training Loss 0.3150236904621124\n",
      "Epoch 106 Validation Loss 0.31248679757118225\n"
     ]
    },
    {
     "name": "stderr",
     "output_type": "stream",
     "text": [
      " 36%|███▌      | 107/300 [06:56<12:22,  3.85s/it]"
     ]
    },
    {
     "name": "stdout",
     "output_type": "stream",
     "text": [
      "Epoch 107 Samples 8000 Step 124 Training Loss 0.3052731454372406\n",
      "Epoch 107 Validation Loss 0.3125319182872772\n"
     ]
    },
    {
     "name": "stderr",
     "output_type": "stream",
     "text": [
      " 36%|███▌      | 107/300 [06:58<12:34,  3.91s/it]\n"
     ]
    },
    {
     "ename": "KeyboardInterrupt",
     "evalue": "",
     "output_type": "error",
     "traceback": [
      "\u001b[31m---------------------------------------------------------------------------\u001b[39m",
      "\u001b[31mKeyboardInterrupt\u001b[39m                         Traceback (most recent call last)",
      "\u001b[36mCell\u001b[39m\u001b[36m \u001b[39m\u001b[32mIn[13]\u001b[39m\u001b[32m, line 1\u001b[39m\n\u001b[32m----> \u001b[39m\u001b[32m1\u001b[39m model4 = \u001b[43mfinetune_model\u001b[49m\u001b[43m(\u001b[49m\n\u001b[32m      2\u001b[39m \u001b[43m            \u001b[49m\u001b[43mmodel3\u001b[49m\u001b[43m,\u001b[49m\n\u001b[32m      3\u001b[39m \u001b[43m            \u001b[49m\u001b[43mdataset\u001b[49m\u001b[43m=\u001b[49m\u001b[43mdataset\u001b[49m\u001b[43m,\u001b[49m\n\u001b[32m      4\u001b[39m \u001b[43m            \u001b[49m\u001b[43mn_epochs\u001b[49m\u001b[43m=\u001b[49m\u001b[32;43m300\u001b[39;49m\u001b[43m,\u001b[49m\n\u001b[32m      5\u001b[39m \u001b[43m            \u001b[49m\u001b[43mlr\u001b[49m\u001b[43m=\u001b[49m\u001b[32;43m0.02\u001b[39;49m\u001b[43m,\u001b[49m\n\u001b[32m      6\u001b[39m \u001b[43m            \u001b[49m\u001b[43msave_every\u001b[49m\u001b[43m=\u001b[49m\u001b[32;43m1000\u001b[39;49m\n\u001b[32m      7\u001b[39m \u001b[43m        \u001b[49m\u001b[43m)\u001b[49m\n",
      "\u001b[36mFile \u001b[39m\u001b[32mc:\\Users\\Pakshal\\Desktop\\Project Viveka\\toy_transformer\\toy_model.py:431\u001b[39m, in \u001b[36mfinetune_model\u001b[39m\u001b[34m(model, dataset, n_epochs, batch_size, lr, optimizer_name, wandb, wandb_project_name, device, seed, save_every, save_dir, print_every, eval_every, val_frac)\u001b[39m\n\u001b[32m    429\u001b[39m     train_data = Subset(dataset, train_indices)\n\u001b[32m    430\u001b[39m     val_data = Subset(dataset, val_indices)\n\u001b[32m--> \u001b[39m\u001b[32m431\u001b[39m     \u001b[38;5;28;01mreturn\u001b[39;00m \u001b[43mtrain\u001b[49m\u001b[43m(\u001b[49m\u001b[43mmodel\u001b[49m\u001b[43m,\u001b[49m\u001b[43m \u001b[49m\u001b[43mcfg\u001b[49m\u001b[43m,\u001b[49m\u001b[43m \u001b[49m\u001b[43mtrain_data\u001b[49m\u001b[43m,\u001b[49m\u001b[43m \u001b[49m\u001b[43mval_data\u001b[49m\u001b[43m,\u001b[49m\u001b[43m \u001b[49m\u001b[43meval_every\u001b[49m\u001b[43m)\u001b[49m\n\u001b[32m    432\u001b[39m \u001b[38;5;28;01melse\u001b[39;00m:\n\u001b[32m    433\u001b[39m     \u001b[38;5;28;01mreturn\u001b[39;00m train(model, cfg, dataset)\n",
      "\u001b[36mFile \u001b[39m\u001b[32mc:\\Users\\Pakshal\\Desktop\\Project Viveka\\toy_transformer\\toy_model.py:159\u001b[39m, in \u001b[36mtrain\u001b[39m\u001b[34m(model, config, train_data, val_data, eval_every)\u001b[39m\n\u001b[32m    157\u001b[39m \u001b[38;5;28;01mfor\u001b[39;00m step, batch \u001b[38;5;129;01min\u001b[39;00m \u001b[38;5;28menumerate\u001b[39m(train_dataloader):\n\u001b[32m    158\u001b[39m     tokens = batch[\u001b[33m\"\u001b[39m\u001b[33mtokens\u001b[39m\u001b[33m\"\u001b[39m].to(config.device)\n\u001b[32m--> \u001b[39m\u001b[32m159\u001b[39m     loss = \u001b[43mmodel\u001b[49m\u001b[43m(\u001b[49m\u001b[43mtokens\u001b[49m\u001b[43m,\u001b[49m\u001b[43m \u001b[49m\u001b[43mreturn_type\u001b[49m\u001b[43m=\u001b[49m\u001b[33;43m\"\u001b[39;49m\u001b[33;43mloss\u001b[39;49m\u001b[33;43m\"\u001b[39;49m\u001b[43m)\u001b[49m\n\u001b[32m    160\u001b[39m     loss.backward()\n\u001b[32m    161\u001b[39m     \u001b[38;5;28;01mif\u001b[39;00m config.max_grad_norm \u001b[38;5;129;01mis\u001b[39;00m \u001b[38;5;129;01mnot\u001b[39;00m \u001b[38;5;28;01mNone\u001b[39;00m:\n",
      "\u001b[36mFile \u001b[39m\u001b[32mc:\\Users\\Pakshal\\Desktop\\Project Viveka\\.venv\\Lib\\site-packages\\torch\\nn\\modules\\module.py:1751\u001b[39m, in \u001b[36mModule._wrapped_call_impl\u001b[39m\u001b[34m(self, *args, **kwargs)\u001b[39m\n\u001b[32m   1749\u001b[39m     \u001b[38;5;28;01mreturn\u001b[39;00m \u001b[38;5;28mself\u001b[39m._compiled_call_impl(*args, **kwargs)  \u001b[38;5;66;03m# type: ignore[misc]\u001b[39;00m\n\u001b[32m   1750\u001b[39m \u001b[38;5;28;01melse\u001b[39;00m:\n\u001b[32m-> \u001b[39m\u001b[32m1751\u001b[39m     \u001b[38;5;28;01mreturn\u001b[39;00m \u001b[38;5;28;43mself\u001b[39;49m\u001b[43m.\u001b[49m\u001b[43m_call_impl\u001b[49m\u001b[43m(\u001b[49m\u001b[43m*\u001b[49m\u001b[43margs\u001b[49m\u001b[43m,\u001b[49m\u001b[43m \u001b[49m\u001b[43m*\u001b[49m\u001b[43m*\u001b[49m\u001b[43mkwargs\u001b[49m\u001b[43m)\u001b[49m\n",
      "\u001b[36mFile \u001b[39m\u001b[32mc:\\Users\\Pakshal\\Desktop\\Project Viveka\\.venv\\Lib\\site-packages\\torch\\nn\\modules\\module.py:1762\u001b[39m, in \u001b[36mModule._call_impl\u001b[39m\u001b[34m(self, *args, **kwargs)\u001b[39m\n\u001b[32m   1757\u001b[39m \u001b[38;5;66;03m# If we don't have any hooks, we want to skip the rest of the logic in\u001b[39;00m\n\u001b[32m   1758\u001b[39m \u001b[38;5;66;03m# this function, and just call forward.\u001b[39;00m\n\u001b[32m   1759\u001b[39m \u001b[38;5;28;01mif\u001b[39;00m \u001b[38;5;129;01mnot\u001b[39;00m (\u001b[38;5;28mself\u001b[39m._backward_hooks \u001b[38;5;129;01mor\u001b[39;00m \u001b[38;5;28mself\u001b[39m._backward_pre_hooks \u001b[38;5;129;01mor\u001b[39;00m \u001b[38;5;28mself\u001b[39m._forward_hooks \u001b[38;5;129;01mor\u001b[39;00m \u001b[38;5;28mself\u001b[39m._forward_pre_hooks\n\u001b[32m   1760\u001b[39m         \u001b[38;5;129;01mor\u001b[39;00m _global_backward_pre_hooks \u001b[38;5;129;01mor\u001b[39;00m _global_backward_hooks\n\u001b[32m   1761\u001b[39m         \u001b[38;5;129;01mor\u001b[39;00m _global_forward_hooks \u001b[38;5;129;01mor\u001b[39;00m _global_forward_pre_hooks):\n\u001b[32m-> \u001b[39m\u001b[32m1762\u001b[39m     \u001b[38;5;28;01mreturn\u001b[39;00m \u001b[43mforward_call\u001b[49m\u001b[43m(\u001b[49m\u001b[43m*\u001b[49m\u001b[43margs\u001b[49m\u001b[43m,\u001b[49m\u001b[43m \u001b[49m\u001b[43m*\u001b[49m\u001b[43m*\u001b[49m\u001b[43mkwargs\u001b[49m\u001b[43m)\u001b[49m\n\u001b[32m   1764\u001b[39m result = \u001b[38;5;28;01mNone\u001b[39;00m\n\u001b[32m   1765\u001b[39m called_always_called_hooks = \u001b[38;5;28mset\u001b[39m()\n",
      "\u001b[36mFile \u001b[39m\u001b[32mc:\\Users\\Pakshal\\Desktop\\Project Viveka\\.venv\\Lib\\site-packages\\transformer_lens\\HookedTransformer.py:591\u001b[39m, in \u001b[36mHookedTransformer.forward\u001b[39m\u001b[34m(self, input, return_type, loss_per_token, prepend_bos, padding_side, start_at_layer, tokens, shortformer_pos_embed, attention_mask, stop_at_layer, past_kv_cache)\u001b[39m\n\u001b[32m    582\u001b[39m \u001b[38;5;28;01mwith\u001b[39;00m utils.LocallyOverridenDefaults(\n\u001b[32m    583\u001b[39m     \u001b[38;5;28mself\u001b[39m, prepend_bos=prepend_bos, padding_side=padding_side\n\u001b[32m    584\u001b[39m ):\n\u001b[32m    585\u001b[39m     \u001b[38;5;28;01mif\u001b[39;00m start_at_layer \u001b[38;5;129;01mis\u001b[39;00m \u001b[38;5;28;01mNone\u001b[39;00m:\n\u001b[32m    586\u001b[39m         (\n\u001b[32m    587\u001b[39m             residual,\n\u001b[32m    588\u001b[39m             tokens,\n\u001b[32m    589\u001b[39m             shortformer_pos_embed,\n\u001b[32m    590\u001b[39m             attention_mask,\n\u001b[32m--> \u001b[39m\u001b[32m591\u001b[39m         ) = \u001b[38;5;28;43mself\u001b[39;49m\u001b[43m.\u001b[49m\u001b[43minput_to_embed\u001b[49m\u001b[43m(\u001b[49m\n\u001b[32m    592\u001b[39m \u001b[43m            \u001b[49m\u001b[38;5;28;43minput\u001b[39;49m\u001b[43m,\u001b[49m\n\u001b[32m    593\u001b[39m \u001b[43m            \u001b[49m\u001b[43mprepend_bos\u001b[49m\u001b[43m=\u001b[49m\u001b[43mprepend_bos\u001b[49m\u001b[43m,\u001b[49m\n\u001b[32m    594\u001b[39m \u001b[43m            \u001b[49m\u001b[43mpadding_side\u001b[49m\u001b[43m=\u001b[49m\u001b[43mpadding_side\u001b[49m\u001b[43m,\u001b[49m\n\u001b[32m    595\u001b[39m \u001b[43m            \u001b[49m\u001b[43mattention_mask\u001b[49m\u001b[43m=\u001b[49m\u001b[43mattention_mask\u001b[49m\u001b[43m,\u001b[49m\n\u001b[32m    596\u001b[39m \u001b[43m            \u001b[49m\u001b[43mpast_kv_cache\u001b[49m\u001b[43m=\u001b[49m\u001b[43mpast_kv_cache\u001b[49m\u001b[43m,\u001b[49m\n\u001b[32m    597\u001b[39m \u001b[43m        \u001b[49m\u001b[43m)\u001b[49m\n\u001b[32m    598\u001b[39m     \u001b[38;5;28;01melse\u001b[39;00m:\n\u001b[32m    599\u001b[39m         \u001b[38;5;28;01massert\u001b[39;00m \u001b[38;5;28mtype\u001b[39m(\u001b[38;5;28minput\u001b[39m) == torch.Tensor\n",
      "\u001b[36mFile \u001b[39m\u001b[32mc:\\Users\\Pakshal\\Desktop\\Project Viveka\\.venv\\Lib\\site-packages\\transformer_lens\\HookedTransformer.py:417\u001b[39m, in \u001b[36mHookedTransformer.input_to_embed\u001b[39m\u001b[34m(self, input, prepend_bos, padding_side, attention_mask, past_kv_cache)\u001b[39m\n\u001b[32m    414\u001b[39m \u001b[38;5;28;01mif\u001b[39;00m \u001b[38;5;28mself\u001b[39m.cfg.use_hook_tokens:\n\u001b[32m    415\u001b[39m     tokens = \u001b[38;5;28mself\u001b[39m.hook_tokens(tokens)\n\u001b[32m--> \u001b[39m\u001b[32m417\u001b[39m embed = \u001b[38;5;28mself\u001b[39m.hook_embed(\u001b[38;5;28;43mself\u001b[39;49m\u001b[43m.\u001b[49m\u001b[43membed\u001b[49m\u001b[43m(\u001b[49m\u001b[43mtokens\u001b[49m\u001b[43m)\u001b[49m)  \u001b[38;5;66;03m# [batch, pos, d_model]\u001b[39;00m\n\u001b[32m    418\u001b[39m residual, shortformer_pos_embed = \u001b[38;5;28mself\u001b[39m.get_residual(\n\u001b[32m    419\u001b[39m     embed,\n\u001b[32m    420\u001b[39m     pos_offset,\n\u001b[32m   (...)\u001b[39m\u001b[32m    424\u001b[39m     return_shortformer_pos_embed=\u001b[38;5;28;01mTrue\u001b[39;00m,\n\u001b[32m    425\u001b[39m )\n\u001b[32m    426\u001b[39m \u001b[38;5;28;01mreturn\u001b[39;00m residual, tokens, shortformer_pos_embed, attention_mask\n",
      "\u001b[36mFile \u001b[39m\u001b[32mc:\\Users\\Pakshal\\Desktop\\Project Viveka\\.venv\\Lib\\site-packages\\torch\\nn\\modules\\module.py:1751\u001b[39m, in \u001b[36mModule._wrapped_call_impl\u001b[39m\u001b[34m(self, *args, **kwargs)\u001b[39m\n\u001b[32m   1749\u001b[39m     \u001b[38;5;28;01mreturn\u001b[39;00m \u001b[38;5;28mself\u001b[39m._compiled_call_impl(*args, **kwargs)  \u001b[38;5;66;03m# type: ignore[misc]\u001b[39;00m\n\u001b[32m   1750\u001b[39m \u001b[38;5;28;01melse\u001b[39;00m:\n\u001b[32m-> \u001b[39m\u001b[32m1751\u001b[39m     \u001b[38;5;28;01mreturn\u001b[39;00m \u001b[38;5;28;43mself\u001b[39;49m\u001b[43m.\u001b[49m\u001b[43m_call_impl\u001b[49m\u001b[43m(\u001b[49m\u001b[43m*\u001b[49m\u001b[43margs\u001b[49m\u001b[43m,\u001b[49m\u001b[43m \u001b[49m\u001b[43m*\u001b[49m\u001b[43m*\u001b[49m\u001b[43mkwargs\u001b[49m\u001b[43m)\u001b[49m\n",
      "\u001b[36mFile \u001b[39m\u001b[32mc:\\Users\\Pakshal\\Desktop\\Project Viveka\\.venv\\Lib\\site-packages\\torch\\nn\\modules\\module.py:1762\u001b[39m, in \u001b[36mModule._call_impl\u001b[39m\u001b[34m(self, *args, **kwargs)\u001b[39m\n\u001b[32m   1757\u001b[39m \u001b[38;5;66;03m# If we don't have any hooks, we want to skip the rest of the logic in\u001b[39;00m\n\u001b[32m   1758\u001b[39m \u001b[38;5;66;03m# this function, and just call forward.\u001b[39;00m\n\u001b[32m   1759\u001b[39m \u001b[38;5;28;01mif\u001b[39;00m \u001b[38;5;129;01mnot\u001b[39;00m (\u001b[38;5;28mself\u001b[39m._backward_hooks \u001b[38;5;129;01mor\u001b[39;00m \u001b[38;5;28mself\u001b[39m._backward_pre_hooks \u001b[38;5;129;01mor\u001b[39;00m \u001b[38;5;28mself\u001b[39m._forward_hooks \u001b[38;5;129;01mor\u001b[39;00m \u001b[38;5;28mself\u001b[39m._forward_pre_hooks\n\u001b[32m   1760\u001b[39m         \u001b[38;5;129;01mor\u001b[39;00m _global_backward_pre_hooks \u001b[38;5;129;01mor\u001b[39;00m _global_backward_hooks\n\u001b[32m   1761\u001b[39m         \u001b[38;5;129;01mor\u001b[39;00m _global_forward_hooks \u001b[38;5;129;01mor\u001b[39;00m _global_forward_pre_hooks):\n\u001b[32m-> \u001b[39m\u001b[32m1762\u001b[39m     \u001b[38;5;28;01mreturn\u001b[39;00m \u001b[43mforward_call\u001b[49m\u001b[43m(\u001b[49m\u001b[43m*\u001b[49m\u001b[43margs\u001b[49m\u001b[43m,\u001b[49m\u001b[43m \u001b[49m\u001b[43m*\u001b[49m\u001b[43m*\u001b[49m\u001b[43mkwargs\u001b[49m\u001b[43m)\u001b[49m\n\u001b[32m   1764\u001b[39m result = \u001b[38;5;28;01mNone\u001b[39;00m\n\u001b[32m   1765\u001b[39m called_always_called_hooks = \u001b[38;5;28mset\u001b[39m()\n",
      "\u001b[31mKeyboardInterrupt\u001b[39m: "
     ]
    }
   ],
   "source": [
    "model4 = finetune_model(\n",
    "            model3,\n",
    "            dataset=dataset,\n",
    "            n_epochs=300,\n",
    "            lr=0.02,\n",
    "            save_every=1000\n",
    "        )"
   ]
  },
  {
   "cell_type": "code",
   "execution_count": 106,
   "id": "7c732f53",
   "metadata": {},
   "outputs": [],
   "source": [
    "def bigram_kl(model):\n",
    "    T0 = np.array([\n",
    "        [0, 1, 0],\n",
    "        [0, 0, 0],\n",
    "        [0.5, 0, 0]\n",
    "    ])\n",
    "    T1 = np.array([\n",
    "        [0, 0, 0],\n",
    "        [0, 0, 1],\n",
    "        [0.5, 0, 0]\n",
    "    ])\n",
    "\n",
    "    # Generate test data\n",
    "    test_data = MarkovData(50, 30, 3, 2, [T0, T1], seed=42)\n",
    "    x = torch.stack(test_data.data)  # shape: (4, 10)\n",
    "\n",
    "    # Build dist1 manually based on x values\n",
    "    dist1 = torch.zeros(x.size(0), x.size(1), 2)  # shape: (4, 10, 2)\n",
    "    dist1[..., 0] = torch.where(x == 1, 2/3, 1/3)  # P(0)\n",
    "    dist1[..., 1] = torch.where(x == 1, 1/3, 2/3)  # P(1)\n",
    "\n",
    "    # Get predicted probabilities from model\n",
    "    dist2 = model(x).softmax(dim=-1)  # shape: (4, 10, 2)\n",
    "\n",
    "    # Avoid log(0) by clamping very small values\n",
    "    eps = 1e-8\n",
    "    dist1_clamped = dist1.clamp(min=eps)\n",
    "    dist2_clamped = dist2.clamp(min=eps)\n",
    "\n",
    "    # Compute KL divergence manually: sum_i P(i) * log(P(i)/Q(i))\n",
    "    def kl(dist1_clamped, dist2_clamped):\n",
    "        kl = dist1_clamped * (dist1_clamped.log() - dist2_clamped.log())  # shape: (4, 10, 2)\n",
    "        kl_sum = kl.sum(dim=-1)  # sum over distribution axis → shape: (4, 10)\n",
    "        return kl_sum.mean().item()  # scalar\n",
    "\n",
    "    return kl(dist1_clamped, dist2_clamped), kl(dist2_clamped, dist1_clamped)\n"
   ]
  },
  {
   "cell_type": "code",
   "execution_count": 109,
   "id": "ee268404",
   "metadata": {},
   "outputs": [
    {
     "name": "stdout",
     "output_type": "stream",
     "text": [
      "B||M = KL(Bigram || Model), M||B = KL(Model || Bigram)\n",
      "Model 5: B||M - 0.077, M||B - 0.068\n",
      "Model 10: B||M - 0.703, M||B - 0.335\n",
      "Model 15: B||M - 1.068, M||B - 0.365\n",
      "Model 20: B||M - 1.401, M||B - 0.386\n",
      "Model 25: B||M - 1.567, M||B - 0.373\n"
     ]
    }
   ],
   "source": [
    "print('B||M = KL(Bigram || Model), M||B = KL(Model || Bigram)')\n",
    "for i in range(5, 100, 5):\n",
    "    try:\n",
    "        bm, mb = bigram_kl(load_model(f'B1_B/model_{i}.pt', 'B1/model_cfg.pt'))\n",
    "        print(f\"Model {i}: B||M - {bm:.3f}, M||B - {mb:.3f}\")\n",
    "    except:\n",
    "        break"
   ]
  },
  {
   "cell_type": "code",
   "execution_count": 342,
   "id": "3659a0fc",
   "metadata": {},
   "outputs": [],
   "source": [
    "def markov_kl(model):\n",
    "    T0 = np.array([\n",
    "        [0, 1, 0],\n",
    "        [0, 0, 0],\n",
    "        [0.5, 0, 0]\n",
    "    ])\n",
    "    T1 = np.array([\n",
    "        [0, 0, 0],\n",
    "        [0, 0, 1],\n",
    "        [0.5, 0, 0]\n",
    "    ])\n",
    "\n",
    "    # Generate test data\n",
    "    test_data = MarkovData(50, 30, 3, 2, [T0, T1], seed=42)\n",
    "    x = torch.stack(test_data.data)  # shape: (4, 10)\n",
    "    dist1 = []\n",
    "    for etas in test_data.states:\n",
    "        dist1.append([test_data.model.token_probabilities(eta) for eta in etas])\n",
    "    dist1 = torch.tensor(np.array(dist1))[:, 1:, :]\n",
    "\n",
    "    # Get predicted probabilities from model\n",
    "    dist2 = model(x).softmax(dim=-1)  # shape: (4, 10, 2)\n",
    "\n",
    "    # Avoid log(0) by clamping very small values\n",
    "    eps = 1e-8\n",
    "    dist1_clamped = dist1.clamp(min=eps)\n",
    "    dist2_clamped = dist2.clamp(min=eps)\n",
    "\n",
    "    # Compute KL divergence manually: sum_i P(i) * log(P(i)/Q(i))\n",
    "    def kl(dist1_clamped, dist2_clamped):\n",
    "        kl = dist1_clamped * (dist1_clamped.log() - dist2_clamped.log())  # shape: (4, 10, 2)\n",
    "        kl_sum = kl.sum(dim=-1)  # sum over distribution axis → shape: (4, 10)\n",
    "        return kl_sum.mean().item()  # scalar\n",
    "\n",
    "    return kl(dist1_clamped, dist2_clamped), kl(dist2_clamped, dist1_clamped)\n"
   ]
  },
  {
   "cell_type": "code",
   "execution_count": 378,
   "id": "d843f077",
   "metadata": {},
   "outputs": [
    {
     "name": "stdout",
     "output_type": "stream",
     "text": [
      "B1\n",
      "B||M = KL(Markov || Model), M||B = KL(Model || Markov)\n",
      "\n",
      "Model 5: B||M - 0.375, M||B - 4.106\n",
      "Model 10: B||M - 0.087, M||B - 0.747\n",
      "Model 15: B||M - 0.082, M||B - 0.495\n",
      "Model 20: B||M - 0.116, M||B - 0.375\n",
      "Model 25: B||M - 0.146, M||B - 0.359\n",
      "Model 30: B||M - 0.282, M||B - 2.836\n",
      "Model 35: B||M - 0.178, M||B - 0.913\n",
      "Model 40: B||M - 0.181, M||B - 0.845\n",
      "Model 45: B||M - 0.173, M||B - 0.583\n"
     ]
    }
   ],
   "source": [
    "model_name = 'B1'\n",
    "print(model_name)\n",
    "print('B||M = KL(Markov || Model), M||B = KL(Model || Markov)', end='\\n\\n')\n",
    "for i in range(5, 100, 5):\n",
    "    try:\n",
    "        bm, mb = markov_kl(load_model(f'{model_name}/model_{i}.pt', f'{model_name}/model_cfg.pt'))\n",
    "        print(f\"Model {i}: B||M - {bm:.3f}, M||B - {mb:.3f}\")\n",
    "    except Exception:\n",
    "        break"
   ]
  },
  {
   "cell_type": "code",
   "execution_count": 315,
   "id": "26452716",
   "metadata": {},
   "outputs": [],
   "source": [
    "def test_on_all(model, gen_len, start=2):\n",
    "    assert gen_len % 3 == 0, 'gen_len should be a multiple of 3'\n",
    "    # Building the test data\n",
    "    test_seq = [0, 1, None] * (gen_len // 3)\n",
    "    all_seq = [test_seq]\n",
    "    temp = []\n",
    "    for i in range(2, len(test_seq), 3):\n",
    "        for j in range(len(all_seq)):\n",
    "            temp.append(all_seq[j].copy())\n",
    "            temp[-1][i] = 0\n",
    "            temp.append(all_seq[j].copy())\n",
    "            temp[-1][i] = 1\n",
    "        all_seq, temp = temp, []\n",
    "    all_seq = [all_seq, [i[-1:] + i[:-1] for i in all_seq], [i[-2:] + i[:-2] for i in all_seq]]\n",
    "    all_seq = [torch.tensor(seq, dtype=torch.int64) for seq in all_seq]\n",
    "    \n",
    "    # Testing the model\n",
    "    errors = []\n",
    "    acc = 0.0\n",
    "    for i in range(3):\n",
    "        preds = model(all_seq[i])[:,:-1,:].argmax(dim=-1)\n",
    "        err = torch.where(all_seq[i][:,1:] != preds, 1, 0)\n",
    "        for j in range(gen_len // 3):\n",
    "            err[:, (3*j + i + 1) % (gen_len - 1)] = 0\n",
    "        err[:,:start] = 0\n",
    "        errors.append(err)\n",
    "        acc += (1 - err.sum() / (err.shape[0] * err.shape[1])) * 100\n",
    "    acc /= 3\n",
    "    print(f'Accuracy: {acc:.2f} %')\n",
    "    return torch.cat([all_seq[i][errors[i].sum(dim=-1).nonzero().flatten().tolist()] for i in range(3)])"
   ]
  },
  {
   "cell_type": "code",
   "execution_count": 376,
   "id": "fdd6d001",
   "metadata": {},
   "outputs": [
    {
     "name": "stdout",
     "output_type": "stream",
     "text": [
      "B1\n",
      "\n",
      "Model_5\n",
      "Accuracy: 87.22 %\n",
      "||||||||||||||||||||||||||||||||||||||||||||||||||||||||||||||||||||||||||||||||||||||||||||||||||||||||||||||||||||||||||||||||||||||||||||||||||||||||||||||||||||||||||||||||||||||||||||||||||||||||||||||||||||||||||||||||||||||||||||||||||||||||||||||||||||||||||||||||||||||||||||||||||||||||||||||||||||||||||||||||||||||||||||||||||||||||||||||||||||||||||||||||||||||||||||||||||||||||||||||||||||||||||||||||||||||||||||||||||||||||||||||||||||||||||||||||||||||||||||||||||||||||||||||||||||||||||||||||||||||||||||||||||||||||||||||||||||||||||||||||||||||||||||||||||||||||||||||||||||||||||||||||||||||||||||||||||||||||||||||||||||||||||||||||||||||||||||||||||||||||||||||||||||||||||||||||||||||||||||||||||||||||||||||||||||||||||||||||||||||||||||||||||||||||||||||||||||||||||||||||||||||||||||||||||||||||||||||||||||||||||||||||||||||||||||||||||||||||||||||||||||||||||||||||||||||||||||||||||||||||||||||||||||||||||||||||||||||||||||||||||||||||||||||||||||||||||||||||||||||||||||||||||||||||||||||||||||||||||||||||||||||||||||||||||||||||||||||||||||||||||||||||||||||||||||||||||||||||||||||||||||||||||||||||||||||||||||||||||||||||||||||||||||||||||||||||||||||||||||||||||||||||||||||||||||||||||||||||||||||||||||||||||||||||||||||||||||||||||||||||||||||||||||||||||||||||||||||||||||||||||||||||||||||||||||||||||||||||||||||||||||||||||||||||||||||||||||||||||||||||||||||||||||||||||||||||||||||||||||||||||||||||||||||||||||||||||||||||||||||||||||||||||||||||||||||||||||||||||||||||||||||||||||||||||||||||||||||||||||||||||||||||||||||||||||||||||||||||||||||||||||||||||||||||||||||||||||||||||||||||||||||||||||||||||||||||||||||||||||||||||||||||||||||||||||||||||||||||||||||||||||||||||||||||||||||||||||||||||||||||||||||||||||||||||||||||||||||||||||||||||||||||||||||||||||||||||||||||||||||||||||||||||||||||||||||||||||||||||||||||||||||||||||||||||||||||||||||||||||||||||||||||||||||||||||||||||||||||||||||||||||||||||||||||||||||||||||||||||||||||||||||||||||||||||||||||||||||||||||||||||||||\n",
      "Model_10\n",
      "Accuracy: 99.79 %\n",
      "||||||||||||||||||||||||||||||||||||||||||||||||||||||||||||||||||||||||||||||||||||||||||||||||||||||||||||||||||||||||||||||||||||||||||||||||||||||||||||||||||||||||||||||||||\n",
      "Model_15\n",
      "Accuracy: 100.00 %\n",
      "\n",
      "Model_20\n",
      "Accuracy: 100.00 %\n",
      "\n",
      "Model_25\n",
      "Accuracy: 100.00 %\n",
      "\n",
      "Model_30\n",
      "Accuracy: 91.55 %\n",
      "||||||||||||||||||||||||||||||||||||||||||||||||||||||||||||||||||||||||||||||||||||||||||||||||||||||||||||||||||||||||||||||||||||||||||||||||||||||||||||||||||||||||||||||||||||||||||||||||||||||||||||||||||||||||||||||||||||||||||||||||||||||||||||||||||||||||||||||||||||||||||||||||||||||||||||||||||||||||||||||||||||||||||||||||||||||||||||||||||||||||||||||||||||||||||||||||||||||||||||||||||||||||||||||||||||||||||||||||||||||||||||||||||||||||||||||||||||||||||||||||||||||||||||||||||||||||||||||||||||||||||||||||||||||||||||||||||||||||||||||||||||||||||||||||||||||||||||||||||||||||||||||||||||||||||||||||||||||||||||||||||||||||||||||||||||||||||||||||||||||||||||||||||||||||||||||||||||||||||||||||||||||||||||||||||||||||||||||||||||||||||||||||||||||||||||||||||||||||||||||||||||||||||||||||||||||||||||||||||||||||||||||||||||||||||||||||||||||||||||||||||||||||||||||||||||||||||||||||||||||||||||||||||||||||||||||||||||||||||||||||||||||||||||||||||||||||||||||||||||||||||||||||||||||||||||||||||||||||||||||||||||||||||||||||||||||||||||||||||||||||||||||||||||||||||||||||||||||||||||||||||||||||||||||||||||||||||||||||||||||||||||||||||||||||||||||||||||||||||||||||||||||||||||||||||||||||||||||||||||||||||||||||||||||||||||||||||||||||||||||||||||||||||||||||||||||||||||||||||||||||||||||||||||||||||||||||||||||||||||||||||||||||||||||||||||||||||||||||||||||||||||||||||||||||||||||||||||||||||||||||||||||||||||||||||||||||||||||||||||||||||||||||||||||||||||||||||||||||||||||||||||||||||||||||||||||||||||||||||||||||||||||||||||||||||||||||||||||||||||||||||||||||||||||||||||||||||||||||||||||||||||||||||||||||||||||||||||||||||||||||||||||||||||||||||||||||||||||||||||||||||||||||||||||||||||||||||||||||||||||||||||||||||||||||||||||||||||||||||||||||||||||||||||||||||||||||||||||||||||||||||||||||||||||||||||||||||||||||||||||||||||||||||||||||||||||||||||||||||||||||||||||||||||||||||||||||||||||||||||||||||||||||||||||||||||||||||||||||||||||||||||||||||||||||||||||||||||||||||||||||||||||||||||||||||||||||||||||||||||||||||||||||||||||||||||||||||||||||||||||||||||||||||||||||||||||||||||||||||||||||||||||||||||||||||||||||||||||||||||||||||||||||||||||||||||||||||||||||||||||||||||||||||||||||||||||||||||||||||||||||||||||||||||||||||||||||||||||||||||||||||||||||||||||||||||||||||||||||||||||||||||||||||||||||||||||||||||||||||||||||||||||||||||||||||||||||||||\n",
      "Model_35\n",
      "Accuracy: 98.83 %\n",
      "||||||||||||||||||||||||||||||||||||||||||||||||||||||||||||||||||||||||||||||||||||||||||||||||||||||||||||||||||||||||||||||||||||||||||||||||||||||||||||||||||||||||||||||||||||||||||||||||||||||||||||||||||||||||||||||||||||||||||||||||||||||||||||||||||||||||||||||||||||||||||||||||||||||||||||||||||||||||||||||||||||||||||||||||||||||||||||||||||||||||||||||||||||||||||||||||||||||||||||||||||||||||||||||||||||||||||||||||||||||||||||||||||||||||||||||||||||||||||||||||||||||||||||||\n",
      "Model_40\n",
      "Accuracy: 98.85 %\n",
      "||||||||||||||||||||||||||||||||||||||||||||||||||||||||||||||||||||||||||||||||||||||||||||||||||||||||||||||||||||||||||||||||||||||||||||||||||||||||||||||||||||||||||||||||||||||||||||||||||||||||||||||||||||||||||||||||||||||||||||||||||||||||||||||||||||||||||||||||||||||||||||||||||||||||||||||||||||||||||||||||||||||||||||||||||||||||||||||||||||||||||||||||||||||||||||||||||||||||||||||||||||||||||||||||||||||||||||||||||||||||||||||||||||||||||||||||||||||||||||||||\n",
      "Model_45\n",
      "Accuracy: 99.71 %\n",
      "||||||||||||||||||||||||||||||||||||||||||||||||||||||||||||||||||||||||||||||||||||||||||||||||||||||||||||||||||||||||||||||||||||||||||||||||||||||||||||||||||||||||||||||||||||||||||||||||||||||||||||||||||||||||||||||||||||||||||||||||||||||||||||||||\n",
      "Model_50\n"
     ]
    }
   ],
   "source": [
    "model_name = 'B1'\n",
    "epoch = 5\n",
    "print(model_name, end='\\n\\n')\n",
    "while True:\n",
    "    try:\n",
    "        print(f'Model_{epoch}')\n",
    "        for i in test_on_all(load_model(f'{model_name}/model_{epoch}.pt', f'{model_name}/model_cfg.pt'), 30):\n",
    "            print('|', end='')\n",
    "            #print(f'Sequence: {i.tolist()}, Predictions: {model(i).argmax(dim=-1).flatten().tolist()}')\n",
    "        print()\n",
    "        epoch += 5\n",
    "    except:\n",
    "        break"
   ]
  },
  {
   "cell_type": "code",
   "execution_count": 328,
   "id": "0798aa11",
   "metadata": {},
   "outputs": [
    {
     "name": "stdout",
     "output_type": "stream",
     "text": [
      "[array([0.33333333, 0.33333333, 0.33333333]), array([0.33333333, 0.        , 0.66666667]), array([0.5, 0.5, 0. ]), array([0., 0., 1.]), array([1., 0., 0.]), array([0., 1., 0.]), array([0., 0., 1.]), array([1., 0., 0.]), array([0., 1., 0.]), array([0., 0., 1.]), array([1., 0., 0.])]\n",
      "tensor(-0.5859, grad_fn=<MeanBackward0>)\n"
     ]
    }
   ],
   "source": [
    "T0 = np.array([\n",
    "    [0, 1, 0],\n",
    "    [0, 0, 0],\n",
    "    [0.5, 0, 0]\n",
    "])\n",
    "T1 = np.array([\n",
    "    [0, 0, 0],\n",
    "    [0, 0, 1],\n",
    "    [0.5, 0, 0]\n",
    "])\n",
    "\n",
    "test_data = MarkovData(4, 10, 3, 2, [T0, T1], seed=42)\n",
    "x = torch.stack(test_data.data)\n",
    "print((test_data.states[1]))\n",
    "y=model(x).softmax(dim=-1)\n",
    "print(torch.kl_div(y,y,reduction=1))"
   ]
  }
 ],
 "metadata": {
  "kernelspec": {
   "display_name": "Python (toytrans)",
   "language": "python",
   "name": "toytrans"
  },
  "language_info": {
   "codemirror_mode": {
    "name": "ipython",
    "version": 3
   },
   "file_extension": ".py",
   "mimetype": "text/x-python",
   "name": "python",
   "nbconvert_exporter": "python",
   "pygments_lexer": "ipython3",
   "version": "3.10.18"
  }
 },
 "nbformat": 4,
 "nbformat_minor": 5
}

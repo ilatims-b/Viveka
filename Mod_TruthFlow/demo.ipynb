{
  "nbformat": 4,
  "nbformat_minor": 0,
  "metadata": {
    "colab": {
      "provenance": [],
      "gpuType": "T4"
    },
    "kernelspec": {
      "name": "python3",
      "display_name": "Python 3"
    },
    "language_info": {
      "name": "python"
    },
    "accelerator": "GPU"
  },
  "cells": [
    {
      "cell_type": "code",
      "execution_count": 1,
      "metadata": {
        "colab": {
          "base_uri": "https://localhost:8080/"
        },
        "id": "S7-KGAUhPEH7",
        "outputId": "182a2147-a844-4f6b-de33-870a721c482e"
      },
      "outputs": [
        {
          "output_type": "stream",
          "name": "stdout",
          "text": [
            "Cloning into 'Viveka'...\n",
            "remote: Enumerating objects: 150, done.\u001b[K\n",
            "remote: Counting objects: 100% (67/67), done.\u001b[K\n",
            "remote: Compressing objects: 100% (62/62), done.\u001b[K\n",
            "remote: Total 150 (delta 34), reused 4 (delta 4), pack-reused 83 (from 1)\u001b[K\n",
            "Receiving objects: 100% (150/150), 12.78 MiB | 14.01 MiB/s, done.\n",
            "Resolving deltas: 100% (49/49), done.\n"
          ]
        }
      ],
      "source": [
        "!git clone --single-branch --branch subspace https://github.com/Jayden3316/Viveka.git"
      ]
    },
    {
      "cell_type": "code",
      "source": [
        "!pwd"
      ],
      "metadata": {
        "colab": {
          "base_uri": "https://localhost:8080/"
        },
        "id": "9SocbUc5XL5C",
        "outputId": "fa72deaa-0b27-4f51-b0e3-370f8d1220f6"
      },
      "execution_count": 2,
      "outputs": [
        {
          "output_type": "stream",
          "name": "stdout",
          "text": [
            "/content\n"
          ]
        }
      ]
    },
    {
      "cell_type": "code",
      "source": [
        "%cd Viveka/Mod_TruthFlow"
      ],
      "metadata": {
        "colab": {
          "base_uri": "https://localhost:8080/"
        },
        "id": "VfWZfqC_XMVa",
        "outputId": "4203968c-fce0-4d7b-b36a-61c88f9f0bce"
      },
      "execution_count": 3,
      "outputs": [
        {
          "output_type": "stream",
          "name": "stdout",
          "text": [
            "/content/Viveka/Mod_TruthFlow\n"
          ]
        }
      ]
    },
    {
      "cell_type": "code",
      "source": [
        "!pip install condacolab\n",
        "import condacolab\n",
        "condacolab.install()"
      ],
      "metadata": {
        "colab": {
          "base_uri": "https://localhost:8080/"
        },
        "id": "bYbtzYzUUl5C",
        "outputId": "6e2ba7fe-503e-45ee-b7f8-ca91a5335a1e"
      },
      "execution_count": 4,
      "outputs": [
        {
          "output_type": "stream",
          "name": "stdout",
          "text": [
            "Collecting condacolab\n",
            "  Downloading condacolab-0.1.10-py3-none-any.whl.metadata (5.5 kB)\n",
            "Downloading condacolab-0.1.10-py3-none-any.whl (7.2 kB)\n",
            "Installing collected packages: condacolab\n",
            "Successfully installed condacolab-0.1.10\n",
            "⏬ Downloading https://github.com/jaimergp/miniforge/releases/download/24.11.2-1_colab/Miniforge3-colab-24.11.2-1_colab-Linux-x86_64.sh...\n",
            "📦 Installing...\n",
            "📌 Adjusting configuration...\n",
            "🩹 Patching environment...\n",
            "⏲ Done in 0:00:09\n",
            "🔁 Restarting kernel...\n"
          ]
        }
      ]
    },
    {
      "cell_type": "code",
      "source": [
        "!conda create -n venvTruthFlow python=3.11.9"
      ],
      "metadata": {
        "collapsed": true,
        "id": "mKD-f23-U5Bs"
      },
      "execution_count": null,
      "outputs": []
    },
    {
      "cell_type": "code",
      "source": [
        "# Use your Hugging Face Personal Access Token\n",
        "from google.colab import userdata\n",
        "from huggingface_hub import login\n",
        "\n",
        "HF_TOKEN = userdata.get('HF_TOKEN')\n",
        "\n",
        "if HF_TOKEN:\n",
        "    login(token=HF_TOKEN)\n",
        "    print(\"Successfully logged in!\")\n",
        "else:\n",
        "    print(\"Hugging Face token not found in Colab Secrets. Please add it.\")"
      ],
      "metadata": {
        "colab": {
          "base_uri": "https://localhost:8080/"
        },
        "id": "OoQyz5cwVNR4",
        "outputId": "9524041f-8519-4f61-caa2-ba22171a0f99"
      },
      "execution_count": 7,
      "outputs": [
        {
          "output_type": "stream",
          "name": "stdout",
          "text": [
            "Successfully logged in!\n"
          ]
        }
      ]
    },
    {
      "cell_type": "code",
      "source": [
        "%%shell\n",
        "eval \"$(conda shell.bash hook)\" # copy conda command to shell\n",
        "cd Viveka/Mod_TruthFlow/\n",
        "conda activate venvTruthFlow\n",
        "# python --version\n",
        "# pip install torch==2.2.2 torchvision==0.17.2 torchaudio==2.2.2 --index-url https://download.pytorch.org/whl/cu121\n",
        "# pip install -r requirements.txt\n",
        "# python create_ds.py --model_name gemma-2 --layers 18 20 22 --test_size 0.5 --seed 0 --token_pos ans_avg --ds_name tqa gemma-2_ans_avg_seed0_testsize0.5_layers_18_20_22\n",
        "python flow.py --model_name gemma-2 --ds_path data_tqa/gemma-2_ans_avg_seed0_testsize0.5_layers_18_20_22 --layers 20 --seed 0 --truthflow --mc_eval --k 20 --alpha 1.5 --train --num_epochs 40\n",
        "conda deactivate"
      ],
      "metadata": {
        "colab": {
          "base_uri": "https://localhost:8080/"
        },
        "id": "PzAtZxUxVTPR",
        "outputId": "7402d72c-6c64-4d1d-fe2a-fd2e3a9d1dc3"
      },
      "execution_count": 8,
      "outputs": [
        {
          "output_type": "stream",
          "name": "stdout",
          "text": [
            "Loading google/gemma-2-2b...\n",
            "config.json: 100% 818/818 [00:00<00:00, 4.97MB/s]\n",
            "model.safetensors.index.json: 100% 24.2k/24.2k [00:00<00:00, 92.6MB/s]\n",
            "Downloading shards:   0% 0/3 [00:00<?, ?it/s]\n",
            "model-00001-of-00003.safetensors:   0% 0.00/4.99G [00:00<?, ?B/s]\u001b[A\n",
            "model-00001-of-00003.safetensors:   0% 727k/4.99G [00:01<2:32:28, 546kB/s]\u001b[A\n",
            "model-00001-of-00003.safetensors:   0% 2.48M/4.99G [00:01<51:46, 1.61MB/s]\u001b[A\n",
            "model-00001-of-00003.safetensors:   0% 4.98M/4.99G [00:02<40:27, 2.05MB/s]\u001b[A\n",
            "model-00001-of-00003.safetensors:   1% 72.1M/4.99G [00:03<02:58, 27.6MB/s]\u001b[A\n",
            "model-00001-of-00003.safetensors:   2% 75.2M/4.99G [00:04<03:14, 25.3MB/s]\u001b[A\n",
            "model-00001-of-00003.safetensors:   3% 142M/4.99G [00:04<01:19, 61.0MB/s] \u001b[A\n",
            "model-00001-of-00003.safetensors:   4% 209M/4.99G [00:07<02:12, 36.2MB/s]\u001b[A\n",
            "model-00001-of-00003.safetensors:   6% 288M/4.99G [00:07<01:27, 53.7MB/s]\u001b[A\n",
            "model-00001-of-00003.safetensors:   7% 355M/4.99G [00:08<01:10, 66.1MB/s]\u001b[A\n",
            "model-00001-of-00003.safetensors:   8% 422M/4.99G [00:09<01:16, 60.0MB/s]\u001b[A\n",
            "model-00001-of-00003.safetensors:   9% 441M/4.99G [00:10<01:21, 55.6MB/s]\u001b[A\n",
            "model-00001-of-00003.safetensors:  10% 508M/4.99G [00:12<01:39, 44.9MB/s]\u001b[A\n",
            "model-00001-of-00003.safetensors:  11% 572M/4.99G [00:17<03:07, 23.6MB/s]\u001b[A\n",
            "model-00001-of-00003.safetensors:  13% 638M/4.99G [00:18<02:17, 31.7MB/s]\u001b[A\n",
            "model-00001-of-00003.safetensors:  14% 706M/4.99G [00:19<02:01, 35.4MB/s]\u001b[A\n",
            "model-00001-of-00003.safetensors:  15% 773M/4.99G [00:19<01:30, 46.6MB/s]\u001b[A\n",
            "model-00001-of-00003.safetensors:  17% 840M/4.99G [00:23<02:10, 31.9MB/s]\u001b[A\n",
            "model-00001-of-00003.safetensors:  18% 907M/4.99G [00:23<01:33, 43.6MB/s]\u001b[A\n",
            "model-00001-of-00003.safetensors:  20% 974M/4.99G [00:24<01:15, 53.2MB/s]\u001b[A\n",
            "model-00001-of-00003.safetensors:  21% 1.04G/4.99G [00:24<00:59, 66.0MB/s]\u001b[A\n",
            "model-00001-of-00003.safetensors:  22% 1.11G/4.99G [00:25<00:54, 71.2MB/s]\u001b[A\n",
            "model-00001-of-00003.safetensors:  24% 1.18G/4.99G [00:27<01:08, 56.0MB/s]\u001b[A\n",
            "model-00001-of-00003.safetensors:  25% 1.24G/4.99G [00:27<00:53, 70.4MB/s]\u001b[A\n",
            "model-00001-of-00003.safetensors:  26% 1.31G/4.99G [00:28<00:49, 74.8MB/s]\u001b[A\n",
            "model-00001-of-00003.safetensors:  28% 1.38G/4.99G [00:29<00:42, 85.6MB/s]\u001b[A\n",
            "model-00001-of-00003.safetensors:  29% 1.44G/4.99G [00:29<00:37, 94.0MB/s]\u001b[A\n",
            "model-00001-of-00003.safetensors:  30% 1.51G/4.99G [00:30<00:32, 107MB/s] \u001b[A\n",
            "model-00001-of-00003.safetensors:  32% 1.58G/4.99G [00:30<00:27, 125MB/s]\u001b[A\n",
            "model-00001-of-00003.safetensors:  33% 1.64G/4.99G [00:31<00:30, 111MB/s]\u001b[A\n",
            "model-00001-of-00003.safetensors:  34% 1.71G/4.99G [00:31<00:28, 115MB/s]\u001b[A\n",
            "model-00001-of-00003.safetensors:  36% 1.78G/4.99G [00:32<00:26, 121MB/s]\u001b[A\n",
            "model-00001-of-00003.safetensors:  37% 1.85G/4.99G [00:32<00:26, 120MB/s]\u001b[A\n",
            "model-00001-of-00003.safetensors:  38% 1.91G/4.99G [00:33<00:24, 127MB/s]\u001b[A\n",
            "model-00001-of-00003.safetensors:  40% 1.98G/4.99G [00:33<00:23, 126MB/s]\u001b[A\n",
            "model-00001-of-00003.safetensors:  41% 2.05G/4.99G [00:34<00:25, 116MB/s]\u001b[A\n",
            "model-00001-of-00003.safetensors:  42% 2.11G/4.99G [00:34<00:23, 123MB/s]\u001b[A\n",
            "model-00001-of-00003.safetensors:  44% 2.18G/4.99G [00:35<00:24, 113MB/s]\u001b[A\n",
            "model-00001-of-00003.safetensors:  45% 2.25G/4.99G [00:35<00:20, 134MB/s]\u001b[A\n",
            "model-00001-of-00003.safetensors:  46% 2.31G/4.99G [00:36<00:21, 127MB/s]\u001b[A\n",
            "model-00001-of-00003.safetensors:  48% 2.38G/4.99G [00:37<00:20, 126MB/s]\u001b[A\n",
            "model-00001-of-00003.safetensors:  49% 2.45G/4.99G [00:37<00:21, 118MB/s]\u001b[A\n",
            "model-00001-of-00003.safetensors:  50% 2.52G/4.99G [00:37<00:17, 145MB/s]\u001b[A\n",
            "model-00001-of-00003.safetensors:  52% 2.58G/4.99G [00:38<00:20, 119MB/s]\u001b[A\n",
            "model-00001-of-00003.safetensors:  53% 2.65G/4.99G [00:39<00:17, 135MB/s]\u001b[A\n",
            "model-00001-of-00003.safetensors:  54% 2.72G/4.99G [00:39<00:17, 128MB/s]\u001b[A\n",
            "model-00001-of-00003.safetensors:  56% 2.78G/4.99G [00:40<00:17, 127MB/s]\u001b[A\n",
            "model-00001-of-00003.safetensors:  57% 2.85G/4.99G [00:40<00:17, 119MB/s]\u001b[A\n",
            "model-00001-of-00003.safetensors:  58% 2.92G/4.99G [00:41<00:15, 135MB/s]\u001b[A\n",
            "model-00001-of-00003.safetensors:  60% 2.98G/4.99G [00:41<00:17, 114MB/s]\u001b[A\n",
            "model-00001-of-00003.safetensors:  61% 3.05G/4.99G [00:42<00:13, 143MB/s]\u001b[A\n",
            "model-00001-of-00003.safetensors:  62% 3.12G/4.99G [00:42<00:15, 119MB/s]\u001b[A\n",
            "model-00001-of-00003.safetensors:  64% 3.18G/4.99G [00:43<00:13, 136MB/s]\u001b[A\n",
            "model-00001-of-00003.safetensors:  65% 3.25G/4.99G [00:43<00:14, 116MB/s]\u001b[A\n",
            "model-00001-of-00003.safetensors:  66% 3.32G/4.99G [00:44<00:12, 133MB/s]\u001b[A\n",
            "model-00001-of-00003.safetensors:  68% 3.38G/4.99G [00:44<00:13, 120MB/s]\u001b[A\n",
            "model-00001-of-00003.safetensors:  69% 3.45G/4.99G [00:45<00:11, 136MB/s]\u001b[A\n",
            "model-00001-of-00003.safetensors:  70% 3.52G/4.99G [00:48<00:25, 57.5MB/s]\u001b[A\n",
            "model-00001-of-00003.safetensors:  73% 3.65G/4.99G [00:49<00:17, 76.4MB/s]\u001b[A\n",
            "model-00001-of-00003.safetensors:  74% 3.72G/4.99G [00:49<00:14, 89.9MB/s]\u001b[A\n",
            "model-00001-of-00003.safetensors:  76% 3.79G/4.99G [00:52<00:22, 53.7MB/s]\u001b[A\n",
            "model-00001-of-00003.safetensors:  79% 3.92G/4.99G [00:52<00:13, 79.2MB/s]\u001b[A\n",
            "model-00001-of-00003.safetensors:  80% 3.99G/4.99G [00:53<00:10, 92.5MB/s]\u001b[A\n",
            "model-00001-of-00003.safetensors:  81% 4.05G/4.99G [00:53<00:10, 89.1MB/s]\u001b[A\n",
            "model-00001-of-00003.safetensors:  83% 4.12G/4.99G [00:54<00:07, 113MB/s] \u001b[A\n",
            "model-00001-of-00003.safetensors:  84% 4.19G/4.99G [00:56<00:12, 63.5MB/s]\u001b[A\n",
            "model-00001-of-00003.safetensors:  85% 4.25G/4.99G [00:56<00:09, 80.8MB/s]\u001b[A\n",
            "model-00001-of-00003.safetensors:  87% 4.32G/4.99G [01:00<00:17, 37.8MB/s]\u001b[A\n",
            "model-00001-of-00003.safetensors:  88% 4.39G/4.99G [01:06<00:26, 22.6MB/s]\u001b[A\n",
            "model-00001-of-00003.safetensors:  89% 4.46G/4.99G [01:06<00:17, 31.3MB/s]\u001b[A\n",
            "model-00001-of-00003.safetensors:  91% 4.52G/4.99G [01:07<00:12, 36.7MB/s]\u001b[A\n",
            "model-00001-of-00003.safetensors:  91% 4.52G/4.99G [01:19<00:12, 36.7MB/s]\u001b[A\n",
            "model-00001-of-00003.safetensors:  92% 4.59G/4.99G [01:22<00:33, 12.1MB/s]\u001b[A\n",
            "model-00001-of-00003.safetensors:  93% 4.66G/4.99G [01:23<00:20, 16.2MB/s]\u001b[A\n",
            "model-00001-of-00003.safetensors:  95% 4.72G/4.99G [01:23<00:12, 22.0MB/s]\u001b[A\n",
            "model-00001-of-00003.safetensors:  96% 4.79G/4.99G [01:23<00:06, 29.4MB/s]\u001b[A\n",
            "model-00001-of-00003.safetensors:  97% 4.86G/4.99G [01:24<00:03, 36.8MB/s]\u001b[A\n",
            "model-00001-of-00003.safetensors:  99% 4.93G/4.99G [01:24<00:01, 50.6MB/s]\u001b[A\n",
            "model-00001-of-00003.safetensors: 100% 4.99G/4.99G [01:25<00:00, 58.4MB/s]\n",
            "Downloading shards:  33% 1/3 [01:25<02:51, 85.71s/it]\n",
            "model-00002-of-00003.safetensors:   0% 0.00/4.98G [00:00<?, ?B/s]\u001b[A\n",
            "model-00002-of-00003.safetensors:   0% 689k/4.98G [00:01<2:57:34, 468kB/s]\u001b[A\n",
            "model-00002-of-00003.safetensors:   0% 1.91M/4.98G [00:01<1:11:49, 1.16MB/s]\u001b[A\n",
            "model-00002-of-00003.safetensors:   0% 3.91M/4.98G [00:02<41:50, 1.98MB/s]  \u001b[A\n",
            "model-00002-of-00003.safetensors:   0% 6.67M/4.98G [00:03<40:32, 2.05MB/s]\u001b[A\n",
            "model-00002-of-00003.safetensors:   0% 9.83M/4.98G [00:04<25:47, 3.21MB/s]\u001b[A\n",
            "model-00002-of-00003.safetensors:   1% 27.2M/4.98G [00:07<18:26, 4.48MB/s]\u001b[A\n",
            "model-00002-of-00003.safetensors:   2% 94.3M/4.98G [00:17<12:45, 6.39MB/s]\u001b[A\n",
            "model-00002-of-00003.safetensors:   3% 161M/4.98G [00:22<08:59, 8.94MB/s] \u001b[A\n",
            "model-00002-of-00003.safetensors:   5% 229M/4.98G [00:22<05:17, 15.0MB/s]\u001b[A\n",
            "model-00002-of-00003.safetensors:   6% 296M/4.98G [00:22<03:20, 23.4MB/s]\u001b[A\n",
            "model-00002-of-00003.safetensors:   7% 363M/4.98G [00:23<02:28, 31.1MB/s]\u001b[A\n",
            "model-00002-of-00003.safetensors:   9% 430M/4.98G [00:23<01:42, 44.3MB/s]\u001b[A\n",
            "model-00002-of-00003.safetensors:  10% 497M/4.98G [00:24<01:28, 50.5MB/s]\u001b[A\n",
            "model-00002-of-00003.safetensors:  11% 564M/4.98G [00:27<01:45, 41.8MB/s]\u001b[A\n",
            "model-00002-of-00003.safetensors:  13% 631M/4.98G [00:27<01:17, 56.4MB/s]\u001b[A\n",
            "model-00002-of-00003.safetensors:  14% 698M/4.98G [00:32<02:24, 29.6MB/s]\u001b[A\n",
            "model-00002-of-00003.safetensors:  15% 765M/4.98G [00:32<01:42, 41.3MB/s]\u001b[A\n",
            "model-00002-of-00003.safetensors:  17% 832M/4.98G [00:32<01:24, 48.9MB/s]\u001b[A\n",
            "model-00002-of-00003.safetensors:  18% 899M/4.98G [00:33<01:03, 63.9MB/s]\u001b[A\n",
            "model-00002-of-00003.safetensors:  19% 966M/4.98G [00:34<00:57, 69.6MB/s]\u001b[A\n",
            "model-00002-of-00003.safetensors:  21% 1.03G/4.98G [00:38<01:52, 35.1MB/s]\u001b[A\n",
            "model-00002-of-00003.safetensors:  22% 1.10G/4.98G [00:38<01:19, 48.8MB/s]\u001b[A\n",
            "model-00002-of-00003.safetensors:  23% 1.17G/4.98G [00:41<01:43, 37.0MB/s]\u001b[A\n",
            "model-00002-of-00003.safetensors:  25% 1.23G/4.98G [00:48<03:13, 19.4MB/s]\u001b[A\n",
            "model-00002-of-00003.safetensors:  26% 1.30G/4.98G [00:49<02:25, 25.3MB/s]\u001b[A\n",
            "model-00002-of-00003.safetensors:  27% 1.37G/4.98G [00:53<02:43, 22.1MB/s]\u001b[A\n",
            "model-00002-of-00003.safetensors:  29% 1.44G/4.98G [00:53<02:05, 28.3MB/s]\u001b[A\n",
            "model-00002-of-00003.safetensors:  30% 1.50G/4.98G [00:57<02:18, 25.2MB/s]\u001b[A\n",
            "model-00002-of-00003.safetensors:  32% 1.57G/4.98G [00:57<01:43, 32.9MB/s]\u001b[A\n",
            "model-00002-of-00003.safetensors:  33% 1.64G/4.98G [00:58<01:16, 43.9MB/s]\u001b[A\n",
            "model-00002-of-00003.safetensors:  34% 1.70G/4.98G [00:58<01:02, 52.4MB/s]\u001b[A\n",
            "model-00002-of-00003.safetensors:  36% 1.77G/4.98G [00:59<00:47, 67.9MB/s]\u001b[A\n",
            "model-00002-of-00003.safetensors:  37% 1.84G/4.98G [00:59<00:40, 77.1MB/s]\u001b[A\n",
            "model-00002-of-00003.safetensors:  38% 1.90G/4.98G [01:00<00:32, 93.9MB/s]\u001b[A\n",
            "model-00002-of-00003.safetensors:  40% 1.97G/4.98G [01:01<00:39, 75.8MB/s]\u001b[A\n",
            "model-00002-of-00003.safetensors:  41% 2.04G/4.98G [01:06<01:38, 29.8MB/s]\u001b[A\n",
            "model-00002-of-00003.safetensors:  42% 2.11G/4.98G [01:07<01:10, 41.1MB/s]\u001b[A\n",
            "model-00002-of-00003.safetensors:  44% 2.17G/4.98G [01:07<00:57, 48.7MB/s]\u001b[A\n",
            "model-00002-of-00003.safetensors:  45% 2.24G/4.98G [01:08<00:45, 59.8MB/s]\u001b[A\n",
            "model-00002-of-00003.safetensors:  46% 2.31G/4.98G [01:08<00:36, 73.6MB/s]\u001b[A\n",
            "model-00002-of-00003.safetensors:  48% 2.37G/4.98G [01:13<01:14, 35.2MB/s]\u001b[A\n",
            "model-00002-of-00003.safetensors:  49% 2.44G/4.98G [01:13<00:52, 48.6MB/s]\u001b[A\n",
            "model-00002-of-00003.safetensors:  50% 2.51G/4.98G [01:13<00:43, 57.5MB/s]\u001b[A\n",
            "model-00002-of-00003.safetensors:  52% 2.57G/4.98G [01:14<00:35, 68.3MB/s]\u001b[A\n",
            "model-00002-of-00003.safetensors:  53% 2.64G/4.98G [01:14<00:28, 82.5MB/s]\u001b[A\n",
            "model-00002-of-00003.safetensors:  54% 2.71G/4.98G [01:16<00:37, 60.8MB/s]\u001b[A\n",
            "model-00002-of-00003.safetensors:  56% 2.78G/4.98G [01:16<00:27, 80.7MB/s]\u001b[A\n",
            "model-00002-of-00003.safetensors:  57% 2.84G/4.98G [01:17<00:25, 82.5MB/s]\u001b[A\n",
            "model-00002-of-00003.safetensors:  58% 2.91G/4.98G [01:23<01:11, 29.1MB/s]\u001b[A\n",
            "model-00002-of-00003.safetensors:  60% 2.97G/4.98G [01:23<00:50, 39.9MB/s]\u001b[A\n",
            "model-00002-of-00003.safetensors:  61% 3.04G/4.98G [01:27<01:07, 28.7MB/s]\u001b[A\n",
            "model-00002-of-00003.safetensors:  62% 3.11G/4.98G [01:27<00:47, 39.8MB/s]\u001b[A\n",
            "model-00002-of-00003.safetensors:  64% 3.17G/4.98G [01:27<00:35, 51.0MB/s]\u001b[A\n",
            "model-00002-of-00003.safetensors:  65% 3.24G/4.98G [01:28<00:28, 61.0MB/s]\u001b[A\n",
            "model-00002-of-00003.safetensors:  66% 3.31G/4.98G [01:28<00:21, 78.7MB/s]\u001b[A\n",
            "model-00002-of-00003.safetensors:  68% 3.38G/4.98G [01:30<00:23, 67.0MB/s]\u001b[A\n",
            "model-00002-of-00003.safetensors:  69% 3.44G/4.98G [01:30<00:17, 90.3MB/s]\u001b[A\n",
            "model-00002-of-00003.safetensors:  70% 3.51G/4.98G [01:33<00:33, 43.6MB/s]\u001b[A\n",
            "model-00002-of-00003.safetensors:  72% 3.58G/4.98G [01:37<00:47, 29.8MB/s]\u001b[A\n",
            "model-00002-of-00003.safetensors:  73% 3.64G/4.98G [01:37<00:32, 40.7MB/s]\u001b[A\n",
            "model-00002-of-00003.safetensors:  74% 3.71G/4.98G [01:38<00:25, 50.9MB/s]\u001b[A\n",
            "model-00002-of-00003.safetensors:  76% 3.78G/4.98G [01:38<00:19, 62.9MB/s]\u001b[A\n",
            "model-00002-of-00003.safetensors:  77% 3.84G/4.98G [01:39<00:15, 73.2MB/s]\u001b[A\n",
            "model-00002-of-00003.safetensors:  78% 3.91G/4.98G [01:39<00:12, 87.9MB/s]\u001b[A\n",
            "model-00002-of-00003.safetensors:  80% 3.98G/4.98G [01:40<00:12, 82.7MB/s]\u001b[A\n",
            "model-00002-of-00003.safetensors:  81% 4.04G/4.98G [01:40<00:08, 108MB/s] \u001b[A\n",
            "model-00002-of-00003.safetensors:  83% 4.11G/4.98G [01:41<00:08, 101MB/s]\u001b[A\n",
            "model-00002-of-00003.safetensors:  84% 4.18G/4.98G [01:41<00:06, 130MB/s]\u001b[A\n",
            "model-00002-of-00003.safetensors:  85% 4.25G/4.98G [01:42<00:06, 115MB/s]\u001b[A\n",
            "model-00002-of-00003.safetensors:  87% 4.31G/4.98G [01:43<00:06, 109MB/s]\u001b[A\n",
            "model-00002-of-00003.safetensors:  88% 4.38G/4.98G [01:47<00:16, 37.4MB/s]\u001b[A\n",
            "model-00002-of-00003.safetensors:  89% 4.45G/4.98G [01:48<00:10, 51.0MB/s]\u001b[A\n",
            "model-00002-of-00003.safetensors:  91% 4.51G/4.98G [01:48<00:07, 61.8MB/s]\u001b[A\n",
            "model-00002-of-00003.safetensors:  92% 4.58G/4.98G [01:49<00:05, 72.0MB/s]\u001b[A\n",
            "model-00002-of-00003.safetensors:  93% 4.65G/4.98G [01:49<00:03, 89.8MB/s]\u001b[A\n",
            "model-00002-of-00003.safetensors:  95% 4.72G/4.98G [01:50<00:03, 82.0MB/s]\u001b[A\n",
            "model-00002-of-00003.safetensors:  96% 4.78G/4.98G [01:50<00:01, 107MB/s] \u001b[A\n",
            "model-00002-of-00003.safetensors:  97% 4.85G/4.98G [01:51<00:01, 114MB/s]\u001b[A\n",
            "model-00002-of-00003.safetensors:  99% 4.92G/4.98G [01:51<00:00, 113MB/s]\u001b[A\n",
            "model-00002-of-00003.safetensors: 100% 4.98G/4.98G [01:52<00:00, 44.4MB/s]\n",
            "Downloading shards:  67% 2/3 [03:18<01:41, 101.45s/it]\n",
            "model-00003-of-00003.safetensors:   0% 0.00/481M [00:00<?, ?B/s]\u001b[A\n",
            "model-00003-of-00003.safetensors:   2% 11.8M/481M [00:01<01:00, 7.77MB/s]\u001b[A\n",
            "model-00003-of-00003.safetensors:  16% 78.9M/481M [00:02<00:11, 35.5MB/s]\u001b[A\n",
            "model-00003-of-00003.safetensors:  30% 146M/481M [00:03<00:05, 56.2MB/s] \u001b[A\n",
            "model-00003-of-00003.safetensors:  44% 213M/481M [00:04<00:04, 59.5MB/s]\u001b[A\n",
            "model-00003-of-00003.safetensors:  58% 280M/481M [00:04<00:02, 79.4MB/s]\u001b[A\n",
            "model-00003-of-00003.safetensors:  72% 347M/481M [00:05<00:01, 86.0MB/s]\u001b[A\n",
            "model-00003-of-00003.safetensors:  86% 414M/481M [00:05<00:00, 103MB/s] \u001b[A\n",
            "model-00003-of-00003.safetensors: 100% 481M/481M [00:06<00:00, 74.4MB/s]\n",
            "Downloading shards: 100% 3/3 [03:25<00:00, 68.39s/it]\n",
            "Loading checkpoint shards: 100% 3/3 [00:44<00:00, 14.79s/it]\n",
            "generation_config.json: 100% 168/168 [00:00<00:00, 1.50MB/s]\n",
            "tokenizer_config.json: 100% 46.4k/46.4k [00:00<00:00, 106MB/s]\n",
            "tokenizer.model: 100% 4.24M/4.24M [00:00<00:00, 8.16MB/s]\n",
            "tokenizer.json: 100% 17.5M/17.5M [00:00<00:00, 25.3MB/s]\n",
            "special_tokens_map.json: 100% 636/636 [00:00<00:00, 5.37MB/s]\n",
            "Start training...\n",
            "Epoch [1/40] - Training: 100% 3/3 [00:00<00:00,  3.66it/s, train_loss=17.7]\n",
            "Epoch [2/40] - Training: 100% 3/3 [00:00<00:00, 26.81it/s, train_loss=17.6]\n",
            "Epoch [3/40] - Training: 100% 3/3 [00:00<00:00, 28.67it/s, train_loss=17.3]\n",
            "Epoch [4/40] - Training: 100% 3/3 [00:00<00:00, 30.71it/s, train_loss=17.3]\n",
            "Epoch [5/40] - Training: 100% 3/3 [00:00<00:00, 34.66it/s, train_loss=17]\n",
            "Epoch [6/40] - Training: 100% 3/3 [00:00<00:00, 35.73it/s, train_loss=16.6]\n",
            "Epoch [7/40] - Training: 100% 3/3 [00:00<00:00, 35.43it/s, train_loss=16.2]\n",
            "Epoch [8/40] - Training: 100% 3/3 [00:00<00:00, 34.41it/s, train_loss=15.8]\n",
            "Epoch [9/40] - Training: 100% 3/3 [00:00<00:00, 34.63it/s, train_loss=15.6]\n",
            "Epoch [10/40] - Training: 100% 3/3 [00:00<00:00, 35.17it/s, train_loss=14.6]\n",
            "Epoch [11/40] - Training: 100% 3/3 [00:00<00:00, 34.82it/s, train_loss=14.4]\n",
            "Epoch [12/40] - Training: 100% 3/3 [00:00<00:00, 36.34it/s, train_loss=14]\n",
            "Epoch [13/40] - Training: 100% 3/3 [00:00<00:00, 34.91it/s, train_loss=13.1]\n",
            "Epoch [14/40] - Training: 100% 3/3 [00:00<00:00, 35.09it/s, train_loss=12.4]\n",
            "Epoch [15/40] - Training: 100% 3/3 [00:00<00:00, 32.42it/s, train_loss=11.8]\n",
            "Epoch [16/40] - Training: 100% 3/3 [00:00<00:00, 33.18it/s, train_loss=11]\n",
            "Epoch [17/40] - Training: 100% 3/3 [00:00<00:00, 33.80it/s, train_loss=10.2]\n",
            "Epoch [18/40] - Training: 100% 3/3 [00:00<00:00, 35.85it/s, train_loss=9.62]\n",
            "Epoch [19/40] - Training: 100% 3/3 [00:00<00:00, 33.99it/s, train_loss=9.11]\n",
            "Epoch [20/40] - Training: 100% 3/3 [00:00<00:00, 34.99it/s, train_loss=8.59]\n",
            "Epoch [21/40] - Training: 100% 3/3 [00:00<00:00, 35.70it/s, train_loss=8.32]\n",
            "Epoch [22/40] - Training: 100% 3/3 [00:00<00:00, 35.27it/s, train_loss=7.54]\n",
            "Epoch [23/40] - Training: 100% 3/3 [00:00<00:00, 35.09it/s, train_loss=7.3]\n",
            "Epoch [24/40] - Training: 100% 3/3 [00:00<00:00, 35.45it/s, train_loss=7.03]\n",
            "Epoch [25/40] - Training: 100% 3/3 [00:00<00:00, 34.48it/s, train_loss=6.72]\n",
            "Epoch [26/40] - Training: 100% 3/3 [00:00<00:00, 35.05it/s, train_loss=6.29]\n",
            "Epoch [27/40] - Training: 100% 3/3 [00:00<00:00, 32.61it/s, train_loss=6.1]\n",
            "Epoch [28/40] - Training: 100% 3/3 [00:00<00:00, 33.16it/s, train_loss=5.99]\n",
            "Epoch [29/40] - Training: 100% 3/3 [00:00<00:00, 35.12it/s, train_loss=5.85]\n",
            "Epoch [30/40] - Training: 100% 3/3 [00:00<00:00, 34.74it/s, train_loss=5.53]\n",
            "Epoch [31/40] - Training: 100% 3/3 [00:00<00:00, 34.23it/s, train_loss=5.12]\n",
            "Epoch [32/40] - Training: 100% 3/3 [00:00<00:00, 34.66it/s, train_loss=5.05]\n",
            "Epoch [33/40] - Training: 100% 3/3 [00:00<00:00, 34.09it/s, train_loss=4.96]\n",
            "Epoch [34/40] - Training: 100% 3/3 [00:00<00:00, 34.46it/s, train_loss=4.77]\n",
            "Epoch [35/40] - Training: 100% 3/3 [00:00<00:00, 35.62it/s, train_loss=4.71]\n",
            "Epoch [36/40] - Training: 100% 3/3 [00:00<00:00, 35.14it/s, train_loss=4.74]\n",
            "Epoch [37/40] - Training: 100% 3/3 [00:00<00:00, 34.32it/s, train_loss=4.48]\n",
            "Epoch [38/40] - Training: 100% 3/3 [00:00<00:00, 36.07it/s, train_loss=4.4]\n",
            "Epoch [39/40] - Training: 100% 3/3 [00:00<00:00, 32.08it/s, train_loss=4.44]\n",
            "Epoch [40/40] - Training: 100% 3/3 [00:00<00:00, 35.78it/s, train_loss=4.19]\n",
            "Training time: 4.271101713180542\n",
            "100% 409/409 [04:12<00:00,  1.62it/s]\n",
            "Layer 20 | MC1: 0.31295843520782396, MC2: 0.5052449032689365 | alpha: 1.5 | gemma-2 | TruthFlow\n"
          ]
        },
        {
          "output_type": "execute_result",
          "data": {
            "text/plain": []
          },
          "metadata": {},
          "execution_count": 8
        }
      ]
    }
  ]
}